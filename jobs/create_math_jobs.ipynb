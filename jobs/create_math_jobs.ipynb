{
 "cells": [
  {
   "cell_type": "code",
   "execution_count": 1,
   "metadata": {},
   "outputs": [],
   "source": [
    "import os\n",
    "import itertools"
   ]
  },
  {
   "cell_type": "code",
   "execution_count": 2,
   "metadata": {},
   "outputs": [],
   "source": [
    "def mkdir(dir):\n",
    "    if not os.path.exists(dir):\n",
    "        os.mkdir(dir)"
   ]
  },
  {
   "cell_type": "code",
   "execution_count": 3,
   "metadata": {},
   "outputs": [],
   "source": [
    "# global job parameters\n",
    "\n",
    "job_directory = f\"math\"\n",
    "out_dir = 'math/.out'\n",
    "time_str = '00-48:00:00'\n",
    "partition = 'gpu'\n",
    "ntasks = 1\n",
    "nodes = 1\n",
    "cpu_per_task = 8\n",
    "mem_per_cpu = 2\n",
    "n_gpus = 1\n",
    "gpus_constraints = '\"a100|rtx3090|v100|rtx2080ti\"'\n",
    "project_dir = \"/gpfs/gibbs/project/lafferty/ma2393/relational/experiments/math\"\n",
    "\n",
    "\n",
    "mkdir(job_directory)\n",
    "mkdir(out_dir)"
   ]
  },
  {
   "cell_type": "code",
   "execution_count": 4,
   "metadata": {},
   "outputs": [],
   "source": [
    "# define params of individual jobs\n",
    "\n",
    "models = ['transformer']\n",
    "tasks = ['polynomials__add', 'calculus__differentiate', 'polynomials__coefficient_named', 'algebra__sequence_next_term', 'polynomials__expand', 'algebra__linear_1d']\n",
    "model_sizes = ['medium+', 'medium++']\n",
    "n_epochs = [50]\n",
    "train_sizes = [-1]\n",
    "batch_sizes = [128]\n",
    "\n",
    "jobs_params = []\n",
    "\n",
    "for model, task, model_size, n_epochs, train_size, batch_size in itertools.product(models, tasks, model_sizes, n_epochs, train_sizes, batch_sizes):\n",
    "    jobs_params.append(dict(model=model, task=task, model_size=model_size,\n",
    "        n_epochs=n_epochs, train_size=train_size, batch_size=batch_size))"
   ]
  },
  {
   "cell_type": "code",
   "execution_count": 5,
   "metadata": {},
   "outputs": [
    {
     "data": {
      "text/plain": [
       "[{'model': 'transformer',\n",
       "  'task': 'polynomials__add',\n",
       "  'model_size': 'medium+',\n",
       "  'n_epochs': 50,\n",
       "  'train_size': -1,\n",
       "  'batch_size': 128},\n",
       " {'model': 'transformer',\n",
       "  'task': 'polynomials__add',\n",
       "  'model_size': 'medium++',\n",
       "  'n_epochs': 50,\n",
       "  'train_size': -1,\n",
       "  'batch_size': 128},\n",
       " {'model': 'transformer',\n",
       "  'task': 'calculus__differentiate',\n",
       "  'model_size': 'medium+',\n",
       "  'n_epochs': 50,\n",
       "  'train_size': -1,\n",
       "  'batch_size': 128},\n",
       " {'model': 'transformer',\n",
       "  'task': 'calculus__differentiate',\n",
       "  'model_size': 'medium++',\n",
       "  'n_epochs': 50,\n",
       "  'train_size': -1,\n",
       "  'batch_size': 128},\n",
       " {'model': 'transformer',\n",
       "  'task': 'polynomials__coefficient_named',\n",
       "  'model_size': 'medium+',\n",
       "  'n_epochs': 50,\n",
       "  'train_size': -1,\n",
       "  'batch_size': 128},\n",
       " {'model': 'transformer',\n",
       "  'task': 'polynomials__coefficient_named',\n",
       "  'model_size': 'medium++',\n",
       "  'n_epochs': 50,\n",
       "  'train_size': -1,\n",
       "  'batch_size': 128},\n",
       " {'model': 'transformer',\n",
       "  'task': 'algebra__sequence_next_term',\n",
       "  'model_size': 'medium+',\n",
       "  'n_epochs': 50,\n",
       "  'train_size': -1,\n",
       "  'batch_size': 128},\n",
       " {'model': 'transformer',\n",
       "  'task': 'algebra__sequence_next_term',\n",
       "  'model_size': 'medium++',\n",
       "  'n_epochs': 50,\n",
       "  'train_size': -1,\n",
       "  'batch_size': 128},\n",
       " {'model': 'transformer',\n",
       "  'task': 'polynomials__expand',\n",
       "  'model_size': 'medium+',\n",
       "  'n_epochs': 50,\n",
       "  'train_size': -1,\n",
       "  'batch_size': 128},\n",
       " {'model': 'transformer',\n",
       "  'task': 'polynomials__expand',\n",
       "  'model_size': 'medium++',\n",
       "  'n_epochs': 50,\n",
       "  'train_size': -1,\n",
       "  'batch_size': 128},\n",
       " {'model': 'transformer',\n",
       "  'task': 'algebra__linear_1d',\n",
       "  'model_size': 'medium+',\n",
       "  'n_epochs': 50,\n",
       "  'train_size': -1,\n",
       "  'batch_size': 128},\n",
       " {'model': 'transformer',\n",
       "  'task': 'algebra__linear_1d',\n",
       "  'model_size': 'medium++',\n",
       "  'n_epochs': 50,\n",
       "  'train_size': -1,\n",
       "  'batch_size': 128}]"
      ]
     },
     "execution_count": 5,
     "metadata": {},
     "output_type": "execute_result"
    }
   ],
   "source": [
    "jobs_params"
   ]
  },
  {
   "cell_type": "code",
   "execution_count": 6,
   "metadata": {},
   "outputs": [],
   "source": [
    "# create jobs\n",
    "created_jobs = []\n",
    "for params in jobs_params:\n",
    "\n",
    "    job_name = f\"math-{params['task']}-{params['model']}-{params['model_size']}\"\n",
    "\n",
    "    job_file = os.path.join(job_directory, f\"{job_name}.job\")\n",
    "\n",
    "    with open(job_file, 'w') as fh:\n",
    "        fh.writelines(f\"#!/bin/bash\\n\")\n",
    "        fh.writelines(f\"#SBATCH --partition={partition}\\n\")\n",
    "        fh.writelines(f\"#SBATCH --job-name={job_name}\\n\")\n",
    "        fh.writelines(f\"#SBATCH --output={out_dir}/{job_name}-%j.out\\n\")\n",
    "        fh.writelines(f\"#SBATCH --ntasks={ntasks} --nodes={nodes}\\n\")\n",
    "        fh.writelines(f\"#SBATCH --cpus-per-task={cpu_per_task}\\n\")\n",
    "        fh.writelines(f\"#SBATCH --mem-per-cpu={mem_per_cpu}G\\n\")\n",
    "        fh.writelines(f\"#SBATCH --time={time_str}\\n\")\n",
    "        fh.writelines(f\"#SBATCH --mail-type=ALL\\n\")\n",
    "        fh.writelines(f\"#SBATCH -C {gpus_constraints} --gpus={n_gpus}\\n\")\n",
    "\n",
    "        fh.writelines(f\"cd {project_dir}\\n\") # navigate to project directory\n",
    "        fh.writelines(f\"module restore python_env\\n\") # load modules i need\n",
    "        fh.writelines(f\"conda activate tf\\n\") # activate conda environment\n",
    "\n",
    "        fh.writelines(f\"nvidia-smi -L\\n\") # print gpu information\n",
    "\n",
    "        # run python script\n",
    "        fh.writelines(f\"python train_model.py --model '{params['model']}' --task '{params['task']}' --model_size '{params['model_size']}' \")\n",
    "        fh.writelines(f\"--n_epochs {params['n_epochs']} --batch_size {params['batch_size']} --train_size {params['train_size']}\\n\")\n",
    "\n",
    "\n",
    "    created_jobs.append(job_file)\n"
   ]
  },
  {
   "cell_type": "code",
   "execution_count": 7,
   "metadata": {},
   "outputs": [
    {
     "name": "stdout",
     "output_type": "stream",
     "text": [
      "Submitted batch job 25388256\n",
      "submitted math/math-polynomials__add-transformer-medium+.job\n",
      "Submitted batch job 25388257\n",
      "submitted math/math-polynomials__add-transformer-medium++.job\n",
      "Submitted batch job 25388258\n",
      "submitted math/math-calculus__differentiate-transformer-medium+.job\n",
      "Submitted batch job 25388259\n",
      "submitted math/math-calculus__differentiate-transformer-medium++.job\n",
      "Submitted batch job 25388260\n",
      "submitted math/math-polynomials__coefficient_named-transformer-medium+.job\n",
      "Submitted batch job 25388261\n",
      "submitted math/math-polynomials__coefficient_named-transformer-medium++.job\n",
      "Submitted batch job 25388262\n",
      "submitted math/math-algebra__sequence_next_term-transformer-medium+.job\n",
      "Submitted batch job 25388263\n",
      "submitted math/math-algebra__sequence_next_term-transformer-medium++.job\n",
      "Submitted batch job 25388264\n",
      "submitted math/math-polynomials__expand-transformer-medium+.job\n",
      "Submitted batch job 25388265\n",
      "submitted math/math-polynomials__expand-transformer-medium++.job\n",
      "Submitted batch job 25388266\n",
      "submitted math/math-algebra__linear_1d-transformer-medium+.job\n",
      "Submitted batch job 25388267\n",
      "submitted math/math-algebra__linear_1d-transformer-medium++.job\n"
     ]
    }
   ],
   "source": [
    "# run jobs\n",
    "input('confirm that you would like to run those jobs')\n",
    "for job in created_jobs:\n",
    "    os.system(f\"sbatch {job}\")\n",
    "    print(f'submitted {job}')"
   ]
  }
 ],
 "metadata": {
  "kernelspec": {
   "display_name": "Python 3.10.12 64-bit ('tf')",
   "language": "python",
   "name": "python3"
  },
  "language_info": {
   "codemirror_mode": {
    "name": "ipython",
    "version": 3
   },
   "file_extension": ".py",
   "mimetype": "text/x-python",
   "name": "python",
   "nbconvert_exporter": "python",
   "pygments_lexer": "ipython3",
   "version": "3.10.12"
  },
  "orig_nbformat": 4,
  "vscode": {
   "interpreter": {
    "hash": "c42447f1c4240406d64c4df4cca87b5465b8a2bbd2ae4f1d6d833906715d3ac1"
   }
  }
 },
 "nbformat": 4,
 "nbformat_minor": 2
}
