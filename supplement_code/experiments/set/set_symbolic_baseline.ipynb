{
 "cells": [
  {
   "cell_type": "markdown",
   "metadata": {},
   "source": [
    "### SET game: Modularity and comparison to purely symbolic representations\n",
    "\n",
    "This notebook implements the experiment described in Section 4.5 and shown in Figure 2 (b). \n",
    "\n",
    "As described in Section 4.5, in the SET game, players are\n",
    "presented with 12 cards, each of which contains figures that vary along four dimensions (color, number, pattern, and\n",
    "shape) and they must find subsets of three cards which obey a deceptively simple rule: along each dimension, all cards in a SET must either have the same or unique values.\n",
    "\n",
    "To simulate the task of deciding if a triple forms a SET, we first train a convolutional neural network to process the color images of the cards (a full deck includes 81 cards). The CNN is trained to predict the attribute of\n",
    "each card, as a multi-label classification, and then an embedding of dimension $d=32$ of \n",
    "each card is obtained. This embedding layer uses an MLP to map the convolutional feature maps into a distributed\n",
    "representation. Next, we train Abstractors separately for each of the four attributes to learn same/different\n",
    "relations, where the task is to decide if an input pair of cards is the same or different for that attribute. \n",
    "We then use the query and key mappings $W_Q$ and $W_K$ learned for these relations to initialize the relations\n",
    "in a multi-head Abstractor. The Abstractor is then trained on a dataset of triples of cards, half of which form a SET. \n",
    "\n",
    "This is compared to a baseline symbolic model where, instead of images, the input is a vector with 12 bits,\n",
    "explicitly encoding the relations. That is, for each of the four attributes, a binary symbol is computed for each pair of three input cards---1 if the pair is the same in that attribute, and 0 otherwise. A two-layer MLP is then trained to decide if the triple forms a SET. The MLP using the symbolic representation can be considered as a lower bound on the performance achievable by the Abstractor. This comparison shows that the Abstractor is able to solve a task using relations learned in other tasks (modularity), with a sample efficiency that is not far from that obtained\n",
    "with purely symbolic, noise-free encodings of the relevant relations."
   ]
  },
  {
   "cell_type": "code",
   "execution_count": 1,
   "metadata": {},
   "outputs": [],
   "source": [
    "\n",
    "import sys\n",
    "sys.path.append('../..'); sys.path.append('../'); \n",
    "\n",
    "import numpy as np\n",
    "import matplotlib.pyplot as plt\n",
    "\n",
    "# We implemented a module that allows easy simulation and modeling of the SET game\n",
    "from setGame import *\n",
    "import tensorflow as tf\n"
   ]
  },
  {
   "cell_type": "code",
   "execution_count": 2,
   "metadata": {},
   "outputs": [],
   "source": [
    "setgame = SetGame()"
   ]
  },
  {
   "cell_type": "code",
   "execution_count": 3,
   "metadata": {},
   "outputs": [
    {
     "data": {
      "image/png": "[encoded data removed]",
      "text/plain": [
       "<Figure size 216x216 with 6 Axes>"
      ]
     },
     "metadata": {
      "needs_background": "light"
     },
     "output_type": "display_data"
    }
   ],
   "source": [
    "# The following cell deals 6 cards, in such a way that is guaranteed to include a SET. Can you find one? \n",
    "# The game is usually played with 12 cards rather than 6.\n",
    "\n",
    "num_cards=6\n",
    "obs, _, _ = setgame.init_state(num_cards=num_cards, shuffle=True)\n",
    "hand = setgame.state.dealt_cards\n",
    "\n",
    "\n",
    "k = int(len(hand)/3)\n",
    "obsfig, axarr = plt.subplots(k, 3, figsize=(3,k*1.5))\n",
    "for i in range(k):\n",
    "    for j in range(3):\n",
    "        card = hand[3*i+j]\n",
    "        axarr[i,j].imshow(setgame.image_of_card(card[0], card[1]))\n",
    "        axarr[i,j].axis('off')\n",
    "plt.show()\n"
   ]
  },
  {
   "cell_type": "markdown",
   "metadata": {},
   "source": [
    "The Abstractor will work from images of the cards. We first train a simple CNN that is trained to \n",
    "label a card with each of its four attributes. This is treated as a multi-label classification problem. \n",
    "The attributes are encoded as 12-vectors of bits, arranged in 4 groups of 1-hot 3-vectors."
   ]
  },
  {
   "cell_type": "code",
   "execution_count": 4,
   "metadata": {},
   "outputs": [],
   "source": [
    "import tensorflow as tf\n",
    "from tensorflow.keras import layers, Model\n",
    "from sklearn.model_selection import train_test_split\n",
    "\n",
    "class SetEmbedder():\n",
    "    def __init__(self, ff_dim1=128, ff_dim2=32):\n",
    "        img_input = layers.Input(shape=(70, 50, 4))\n",
    "        x = layers.Conv2D(32, (5, 5), activation='relu')(img_input)\n",
    "        x = layers.MaxPooling2D((4,4))(x)\n",
    "        x = layers.Conv2D(32, (5, 5), activation='relu')(x)\n",
    "        x = layers.MaxPooling2D((4,4))(x)\n",
    "        x = layers.Flatten()(x)\n",
    "        x = layers.Dense(ff_dim1, activation='relu')(x)\n",
    "        self.embedding_layer = layers.Dense(ff_dim2, activation='tanh')(x)\n",
    "        outputs = layers.Dense(12, activation='sigmoid')(self.embedding_layer)\n",
    "        self.model = Model(inputs=img_input, outputs=outputs)\n",
    "        self.embed = Model(inputs=img_input, outputs=self.embedding_layer)\n",
    "        self.model.summary()\n",
    "        opt = tf.keras.optimizers.Adam(learning_rate=0.001)\n",
    "        self.model.compile(loss='binary_crossentropy', optimizer=opt, metrics=['binary_accuracy'])\n",
    "        self.model_initial_weights = self.model.get_weights()\n",
    "\n",
    "    def train(self, X_train, y_train, epochs=2):\n",
    "        self.model.set_weights(self.model_initial_weights)\n",
    "        self.model.fit(X_train, y_train, epochs=epochs, batch_size=32, verbose=1)\n",
    "\n",
    "    def predict(self, X_test):\n",
    "        out = self.model.predict(X_test, verbose=0)\n",
    "        return out\n",
    "\n",
    "    def embed(self, X_test):\n",
    "        out = self.embed(X_test, verbose=0)\n",
    "        return out"
   ]
  },
  {
   "cell_type": "code",
   "execution_count": 5,
   "metadata": {},
   "outputs": [],
   "source": [
    "def convert_to_binary(attrs):\n",
    "    color = {'red':[1,0,0], 'green':[0,1,0], 'purple':[0,0,1]}\n",
    "    pattern = {'empty':[1,0,0], 'striped':[0,1,0], 'solid':[0,0,1]}\n",
    "    shape = {'diamond':[1,0,0], 'oval':[0,1,0], 'squiggle':[0,0,1]}\n",
    "    number = {'one':[1,0,0], 'two':[0,1,0], 'three':[0,0,1]}\n",
    "    binary_attrs = number[attrs[0]] + color[attrs[1]] + pattern[attrs[2]] + shape[attrs[3]]\n",
    "    return binary_attrs\n",
    "\n",
    "n = 1000\n",
    "X = np.empty((n, 70, 50, 4), dtype=np.float32)\n",
    "y = np.empty((n, 12), dtype=int)\n",
    "\n",
    "card_coord = [(i,j) for i in np.arange(9) for j in np.arange(9)]\n",
    "for i in np.arange(n):\n",
    "    c = np.random.choice(np.arange(81), size=1)[0]\n",
    "    (row, col) = card_coord[c]\n",
    "    attrs = setgame.attributes_of_card(row, col)\n",
    "    binary_attrs = convert_to_binary(attrs)\n",
    "    X[i] = setgame.image_of_card(row, col)\n",
    "    y[i] = binary_attrs\n"
   ]
  },
  {
   "cell_type": "code",
   "execution_count": 6,
   "metadata": {},
   "outputs": [
    {
     "name": "stdout",
     "output_type": "stream",
     "text": [
      "Model: \"model\"\n",
      "_________________________________________________________________\n",
      " Layer (type)                Output Shape              Param #   \n",
      "=================================================================\n",
      " input_1 (InputLayer)        [(None, 70, 50, 4)]       0         \n",
      "                                                                 \n",
      " conv2d (Conv2D)             (None, 66, 46, 32)        3232      \n",
      "                                                                 \n",
      " max_pooling2d (MaxPooling2D  (None, 16, 11, 32)       0         \n",
      " )                                                               \n",
      "                                                                 \n",
      " conv2d_1 (Conv2D)           (None, 12, 7, 32)         25632     \n",
      "                                                                 \n",
      " max_pooling2d_1 (MaxPooling  (None, 3, 1, 32)         0         \n",
      " 2D)                                                             \n",
      "                                                                 \n",
      " flatten (Flatten)           (None, 96)                0         \n",
      "                                                                 \n",
      " dense (Dense)               (None, 64)                6208      \n",
      "                                                                 \n",
      " dense_1 (Dense)             (None, 32)                2080      \n",
      "                                                                 \n",
      " dense_2 (Dense)             (None, 12)                396       \n",
      "                                                                 \n",
      "=================================================================\n",
      "Total params: 37,548\n",
      "Trainable params: 37,548\n",
      "Non-trainable params: 0\n",
      "_________________________________________________________________\n",
      "Epoch 1/20\n",
      "24/24 [==============================] - 2s 40ms/step - loss: 0.6422 - binary_accuracy: 0.6556\n",
      "Epoch 2/20\n",
      "24/24 [==============================] - 1s 38ms/step - loss: 0.5980 - binary_accuracy: 0.6758\n",
      "Epoch 3/20\n",
      "24/24 [==============================] - 1s 39ms/step - loss: 0.5243 - binary_accuracy: 0.7511\n",
      "Epoch 4/20\n",
      "24/24 [==============================] - 1s 37ms/step - loss: 0.4515 - binary_accuracy: 0.8081\n",
      "Epoch 5/20\n",
      "24/24 [==============================] - 1s 38ms/step - loss: 0.3960 - binary_accuracy: 0.8421\n",
      "Epoch 6/20\n",
      "24/24 [==============================] - 1s 43ms/step - loss: 0.3543 - binary_accuracy: 0.8646\n",
      "Epoch 7/20\n",
      "24/24 [==============================] - 1s 39ms/step - loss: 0.3202 - binary_accuracy: 0.8771\n",
      "Epoch 8/20\n",
      "24/24 [==============================] - 1s 38ms/step - loss: 0.2917 - binary_accuracy: 0.8921\n",
      "Epoch 9/20\n",
      "24/24 [==============================] - 1s 47ms/step - loss: 0.2656 - binary_accuracy: 0.9161\n",
      "Epoch 10/20\n",
      "24/24 [==============================] - 1s 38ms/step - loss: 0.2435 - binary_accuracy: 0.9282\n",
      "Epoch 11/20\n",
      "24/24 [==============================] - 1s 46ms/step - loss: 0.2189 - binary_accuracy: 0.9527\n",
      "Epoch 12/20\n",
      "24/24 [==============================] - 1s 38ms/step - loss: 0.1958 - binary_accuracy: 0.9672\n",
      "Epoch 13/20\n",
      "24/24 [==============================] - 1s 39ms/step - loss: 0.1792 - binary_accuracy: 0.9762\n",
      "Epoch 14/20\n",
      "24/24 [==============================] - 1s 39ms/step - loss: 0.1641 - binary_accuracy: 0.9812\n",
      "Epoch 15/20\n",
      "24/24 [==============================] - 1s 38ms/step - loss: 0.1468 - binary_accuracy: 0.9888\n",
      "Epoch 16/20\n",
      "24/24 [==============================] - 1s 38ms/step - loss: 0.1349 - binary_accuracy: 0.9896\n",
      "Epoch 17/20\n",
      "24/24 [==============================] - 1s 38ms/step - loss: 0.1233 - binary_accuracy: 0.9932\n",
      "Epoch 18/20\n",
      "24/24 [==============================] - 1s 37ms/step - loss: 0.1139 - binary_accuracy: 0.9956\n",
      "Epoch 19/20\n",
      "24/24 [==============================] - 1s 38ms/step - loss: 0.1049 - binary_accuracy: 0.9956\n",
      "Epoch 20/20\n",
      "24/24 [==============================] - 1s 39ms/step - loss: 0.0952 - binary_accuracy: 0.9967\n"
     ]
    }
   ],
   "source": [
    "X_train, X_test, y_train, y_test = train_test_split(X, y, test_size=0.25)\n",
    "cnn = SetEmbedder(ff_dim1=64, ff_dim2=32)\n",
    "cnn.train(X_train, y_train, epochs=20)\n"
   ]
  },
  {
   "cell_type": "code",
   "execution_count": 7,
   "metadata": {},
   "outputs": [
    {
     "name": "stdout",
     "output_type": "stream",
     "text": [
      "[1, 0, 0, 0, 0, 1, 0, 0, 1, 0, 1, 0]\n",
      "[1, 0, 0, 0, 0, 1, 0, 0, 1, 0, 1, 0] \n",
      "\n",
      "[1, 0, 0, 1, 0, 0, 0, 0, 0, 0, 1, 0]\n",
      "[1, 0, 0, 1, 0, 0, 0, 1, 0, 0, 1, 0] \n",
      "\n",
      "[0, 1, 0, 1, 0, 0, 0, 0, 1, 0, 0, 1]\n",
      "[0, 1, 0, 1, 0, 0, 0, 0, 1, 0, 0, 1] \n",
      "\n",
      "[1, 0, 0, 0, 1, 0, 0, 1, 0, 0, 0, 1]\n",
      "[1, 0, 0, 0, 1, 0, 0, 1, 0, 0, 0, 1] \n",
      "\n",
      "[1, 0, 0, 0, 1, 0, 1, 0, 0, 1, 0, 0]\n",
      "[1, 0, 0, 0, 1, 0, 1, 0, 0, 1, 0, 0] \n",
      "\n"
     ]
    }
   ],
   "source": [
    "for i in range(5):\n",
    "    j = np.random.choice(range(X_test.shape[0]))\n",
    "    pred = np.round(cnn.predict(X_test[j:(j+1)]))[0]\n",
    "    pred = [int(pred[b]) for b in range(len(pred))]\n",
    "    print(list(pred))\n",
    "    print(list(y_test[j:(j+1)][0]),\"\\n\")\n"
   ]
  },
  {
   "cell_type": "code",
   "execution_count": 8,
   "metadata": {},
   "outputs": [
    {
     "data": {
      "text/plain": [
       "99.77"
      ]
     },
     "execution_count": 8,
     "metadata": {},
     "output_type": "execute_result"
    }
   ],
   "source": [
    "# The multi-label classification accuracy should be close to 100%\n",
    "\n",
    "out = cnn.predict(X_test)\n",
    "pred = np.array(np.round(out), dtype=int)\n",
    "np.round(100*(1-np.sum(pred != y_test) / (np.prod(pred.shape))), 2)\n"
   ]
  },
  {
   "cell_type": "code",
   "execution_count": 9,
   "metadata": {},
   "outputs": [],
   "source": [
    "def create_set_classification_dataset(num_seqs):\n",
    "\n",
    "    dim = len(cnn.embed(np.expand_dims(setgame.image_of_card(0, 0), axis=0)).numpy().squeeze())\n",
    "    img_shape = setgame.image_of_card(0, 0).shape\n",
    "    image_seqs = np.zeros((num_seqs, 3) + img_shape)\n",
    "    object_seqs = np.zeros((num_seqs, 3, dim))\n",
    "    card_seqs = np.zeros((num_seqs, 3, 2), dtype=int)\n",
    "    labels = np.zeros(num_seqs, dtype=int)\n",
    "    relations = np.zeros((num_seqs, 12), dtype=int)\n",
    "\n",
    "    for s in np.arange(0, num_seqs, 2):\n",
    "        _ = setgame.init_state(num_cards=6, shuffle=False)\n",
    "        hand = setgame.state.dealt_cards\n",
    "        for i in np.arange(3):\n",
    "            card = hand[i]\n",
    "            row, col = card[0], card[1]\n",
    "            image_seqs[s, i] = setgame.image_of_card(row, col)\n",
    "            object_seqs[s, i] = cnn.embed(np.expand_dims(setgame.image_of_card(row, col), axis=0)).numpy().squeeze()\n",
    "            card_seqs[s, i] = [card[0], card[1]]\n",
    "        labels[s] = 1\n",
    "        for i in np.arange(3):\n",
    "            card = hand[i+3]\n",
    "            row, col = card[0], card[1]\n",
    "            image_seqs[s+1, i] = setgame.image_of_card(row, col)\n",
    "            object_seqs[s+1, i] = cnn.embed(np.expand_dims(setgame.image_of_card(row, col), axis=0)).numpy().squeeze()\n",
    "            card_seqs[s+1, i] = [card[0], card[1]]\n",
    "        labels[s+1] = 0\n",
    "\n",
    "    for s in np.arange(num_seqs):\n",
    "        attrs = [setgame.attributes_of_card(card_seqs[s, k][0], card_seqs[s, k][1]) for k in range(3)]\n",
    "        for k in range(4):\n",
    "            relations[s, 3*k] = int(attrs[0][k]==attrs[1][k])\n",
    "            relations[s, 3*k+1] = int(attrs[0][k]==attrs[2][k])\n",
    "            relations[s, 3*k+2] = int(attrs[1][k]==attrs[2][k])\n",
    "\n",
    "    return image_seqs, card_seqs, object_seqs, labels, relations\n",
    "\n",
    "def create_set_same_different_dataset(num_seqs, attributes):\n",
    "\n",
    "    dim = len(cnn.embed(np.expand_dims(setgame.image_of_card(0, 0), axis=0)).numpy().squeeze())\n",
    "    attr_index = {'number':0, 'color':1, 'pattern':2, 'shape':3}\n",
    "    attr_ind = [attr_index[attr] for attr in attributes]\n",
    "\n",
    "    img_shape = setgame.image_of_card(0, 0).shape\n",
    "    image_seqs = np.zeros((num_seqs, 2) + img_shape)\n",
    "    object_seqs = np.zeros((num_seqs, 2, dim))\n",
    "    card_seqs = np.zeros((num_seqs, 2, 2), dtype=int)\n",
    "    labels = np.zeros((num_seqs, len(attr_ind)), dtype=int)\n",
    "    y_attrs = np.zeros((2, 3), dtype=int)\n",
    "    labels = np.empty((num_seqs, len(attr_ind)), dtype=int)\n",
    "\n",
    "    for s in range(num_seqs):\n",
    "        for j in np.arange(2):\n",
    "            c = np.random.choice(np.arange(81), size=1)[0]\n",
    "            (row, col) = card_coord[c]\n",
    "            image_seqs[s,j] = setgame.image_of_card(row, col)\n",
    "            object_seqs[s,j] = cnn.embed(np.expand_dims(setgame.image_of_card(row, col), axis=0)).numpy().squeeze()\n",
    "            card_seqs[s,j] = [row, col]\n",
    "\n",
    "        for k in range(len(attr_ind)):\n",
    "            attr = attr_ind[k]\n",
    "            for j in np.arange(2):\n",
    "                attrs = setgame.attributes_of_card(card_seqs[s,j][0], card_seqs[s,j][1])\n",
    "                binary_attrs = convert_to_binary(attrs)\n",
    "                y_attrs[j] = binary_attrs[(3*attr):(3*attr+3)]\n",
    "            labels[s,k] = np.dot(y_attrs[0], y_attrs[1])\n",
    "\n",
    "    labels = np.squeeze(labels)\n",
    "    return image_seqs, card_seqs, object_seqs, labels, \n"
   ]
  },
  {
   "cell_type": "markdown",
   "metadata": {},
   "source": [
    "We create a dataset of pairs of cards, together with labels indicating the relations between the two cards. This is used to train an Abstractor for the same/different relation for each of the four attributes. The cards are represented as feature maps coming from the CNN."
   ]
  },
  {
   "cell_type": "code",
   "execution_count": 10,
   "metadata": {},
   "outputs": [],
   "source": [
    "attrs = ['number', 'color', 'pattern', 'shape']\n",
    "image_seqs, card_seqs, object_seqs, labels = create_set_same_different_dataset(num_seqs=5000, attributes=attrs)"
   ]
  },
  {
   "cell_type": "code",
   "execution_count": 11,
   "metadata": {},
   "outputs": [
    {
     "data": {
      "image/png": "[encoded data removed]",
      "text/plain": [
       "<Figure size 144x72 with 2 Axes>"
      ]
     },
     "metadata": {
      "needs_background": "light"
     },
     "output_type": "display_data"
    },
    {
     "name": "stdout",
     "output_type": "stream",
     "text": [
      "['number', 'color', 'pattern', 'shape'] : [0 0 0 0]\n"
     ]
    }
   ],
   "source": [
    "i = np.random.choice(range(1000))\n",
    "fig, axarr = plt.subplots(1, 2, figsize=(2,1))\n",
    "for j in range(2):\n",
    "    card = card_seqs[i,j]\n",
    "    axarr[j].imshow(image_seqs[i,j])\n",
    "    axarr[j].axis('off')\n",
    "plt.show()\n",
    "print(attrs,':',labels[i])\n"
   ]
  },
  {
   "cell_type": "code",
   "execution_count": 12,
   "metadata": {},
   "outputs": [],
   "source": [
    "test_size = 0.2\n",
    "val_size = 0.1\n",
    "\n",
    "seqs_train, seqs_test, object_seqs_train, object_seqs_test, labels_train, labels_test = train_test_split(card_seqs, object_seqs, labels, test_size=0.2)\n",
    "\n",
    "seqs_train, seqs_val, object_seqs_train, object_seqs_val, labels_train, labels_val = \\\n",
    "train_test_split(seqs_train, object_seqs_train, labels_train, test_size=val_size/(1-test_size))\n",
    "\n",
    "source_train, source_val, source_test = object_seqs_train, object_seqs_val, object_seqs_test\n"
   ]
  },
  {
   "cell_type": "code",
   "execution_count": 13,
   "metadata": {},
   "outputs": [],
   "source": [
    "loss = tf.keras.losses.SparseCategoricalCrossentropy(from_logits=True, name='binary_crossentropy')\n",
    "create_opt = lambda : tf.keras.optimizers.Adam()\n"
   ]
  },
  {
   "cell_type": "code",
   "execution_count": 14,
   "metadata": {},
   "outputs": [],
   "source": [
    "def create_callbacks(patience=6):\n",
    "    callbacks = []\n",
    "    callbacks.append(tf.keras.callbacks.EarlyStopping(monitor='val_loss', \n",
    "        patience=patience, min_delta=0, start_from_epoch=20, mode='auto', restore_best_weights=True, verbose=True))\n",
    "    return callbacks\n",
    "    \n",
    "class VectorEmbedder(tf.keras.Model):\n",
    "    def __init__(self, embedding_dim=64, name='vector_embedder'):\n",
    "        super().__init__(name=name)\n",
    "        self.embedding_dim = embedding_dim\n",
    "        self.embedder = layers.Dense(self.embedding_dim, name='dense')\n",
    "\n",
    "    def call(self, inputs):\n",
    "        outputs = self.embedder(inputs)\n",
    "        return outputs\n",
    "\n",
    "class SimpleAbstractor(tf.keras.Model):\n",
    "    def __init__(self, sequence_len, embedding_dim, symbol_dim, embedder=None, name='simplest_abstractor_vectorial'):\n",
    "        super().__init__(name=name)\n",
    "        self.sequence_len = sequence_len\n",
    "        self.embedding_dim = embedding_dim\n",
    "        self.symbol_dim = symbol_dim\n",
    "\n",
    "        if embedder != None:\n",
    "            self.source_embedder = layers.TimeDistributed(embedder, name='source_embedder')\n",
    "        else:\n",
    "            self.source_embedder = layers.TimeDistributed(layers.Dense(embedding_dim), name='source_embedder')\n",
    "        self.source_embedder.trainable = False\n",
    "\n",
    "        normal_initializer = tf.keras.initializers.RandomNormal(mean=0., stddev=1., seed=11)\n",
    "        self.symbols = tf.Variable(\n",
    "            normal_initializer(shape=(self.sequence_len, self.symbol_dim)),\n",
    "            name='symbols', trainable=False)\n",
    "        self.scale = 50\n",
    "        self.flatten = layers.Flatten()\n",
    "        self.query_projection = layers.Dense(embedding_dim, activation=None, name='query_projection')\n",
    "        self.key_projection = layers.Dense(embedding_dim, activation=None, name='key_projection')\n",
    "        self.hidden_layer = layers.Dense(32, activation='relu', name='hidden_layer')\n",
    "        self.final_layer = layers.Dense(1, activation='sigmoid', name='final_layer')\n",
    "\n",
    "    def call(self, inputs):\n",
    "        source = inputs\n",
    "        E = self.source_embedder(source)\n",
    "        Q = self.query_projection(E)\n",
    "        K = self.key_projection(E)\n",
    "        self.Z = self.scale * tf.einsum('ijk,ilk->ijl', Q, K) / self.embedding_dim\n",
    "        self.R = tf.math.sigmoid(self.Z) # tf.nn.softmax(self.Z, axis=1)\n",
    "        self.A = tf.einsum('ijk,kl->ijl', self.R, self.symbols)\n",
    "        flattened_symbols = self.flatten(self.A)\n",
    "        hidden_units = self.hidden_layer(flattened_symbols)\n",
    "        output = self.final_layer(hidden_units)\n",
    "        return output"
   ]
  },
  {
   "cell_type": "code",
   "execution_count": 15,
   "metadata": {},
   "outputs": [
    {
     "data": {
      "text/plain": [
       "((1000, 2, 32), (500, 2, 32), (1000, 2, 32))"
      ]
     },
     "execution_count": 15,
     "metadata": {},
     "output_type": "execute_result"
    }
   ],
   "source": [
    "train_size = 1000\n",
    "X_train = source_train[:train_size]\n",
    "y_train = labels_train[:train_size]\n",
    "X_val = source_val\n",
    "y_val = labels_val\n",
    "X_train.shape, X_val.shape\n",
    "X_test = source_test\n",
    "y_test = labels_test\n",
    "X_train.shape, X_val.shape, X_test.shape"
   ]
  },
  {
   "cell_type": "code",
   "execution_count": 16,
   "metadata": {},
   "outputs": [],
   "source": [
    "embedder = VectorEmbedder(embedding_dim=64)"
   ]
  },
  {
   "cell_type": "code",
   "execution_count": 17,
   "metadata": {},
   "outputs": [
    {
     "name": "stdout",
     "output_type": "stream",
     "text": [
      "test accuracy of attribute 0 (number): 100.00%\n",
      "test accuracy of attribute 1 (color): 98.90%\n",
      "test accuracy of attribute 2 (pattern): 98.80%\n",
      "test accuracy of attribute 3 (shape): 99.30%\n"
     ]
    }
   ],
   "source": [
    "abstractor = [None, None, None, None]\n",
    "\n",
    "for i in range(4):\n",
    "    abstractor[i] = SimpleAbstractor(sequence_len=2, symbol_dim=10, embedding_dim=64, embedder=embedder)\n",
    "    abstractor[i].compile(loss='binary_crossentropy', optimizer=create_opt(), metrics=['binary_accuracy'])\n",
    "    abstractor[i](X_train[:32])\n",
    "    #abstractor.summary()\n",
    "    history = abstractor[i].fit(X_train, y_train[:,i], validation_data=(X_val, y_val[:,i]), \\\n",
    "                    callbacks=create_callbacks(), epochs=20, verbose=0, batch_size=32)\n",
    "    out = abstractor[i](X_test)\n",
    "    yhat = np.array([int(o) for o in np.round(np.squeeze(out.numpy()))])\n",
    "    print('test accuracy of attribute %d (%s): %.2f%%' % (i, attrs[i], 100*np.mean(yhat==y_test[:,i])))\n"
   ]
  },
  {
   "cell_type": "markdown",
   "metadata": {},
   "source": [
    "Next we create a dataset of triples of cards, each either a SET or not a SET, together with the relations between the three pairs of cards. The cards are encoded using the CNN that was trained above. The relations are represented as a binary 12-vector for the triple of cards, call them A, B, C. The four groups of three bits are for color, number, pattern, and shape. The first bit in a group indicates whether cards A and B share that attribute; the second bit is for cards A and C, the third bit for cards B and C."
   ]
  },
  {
   "cell_type": "code",
   "execution_count": 18,
   "metadata": {},
   "outputs": [],
   "source": [
    "image_seqs, card_seqs, object_seqs, labels, relations = create_set_classification_dataset(5000)\n"
   ]
  },
  {
   "cell_type": "code",
   "execution_count": 19,
   "metadata": {},
   "outputs": [
    {
     "data": {
      "text/plain": [
       "((5000, 3, 70, 50, 4), (5000, 3, 32), (5000, 12), (5000,))"
      ]
     },
     "execution_count": 19,
     "metadata": {},
     "output_type": "execute_result"
    }
   ],
   "source": [
    "\n",
    "Z_set = image_seqs\n",
    "X_set = object_seqs\n",
    "R_set = relations\n",
    "y_set = labels\n",
    "\n",
    "Z_set.shape, X_set.shape, R_set.shape, y_set.shape"
   ]
  },
  {
   "cell_type": "code",
   "execution_count": 20,
   "metadata": {},
   "outputs": [
    {
     "data": {
      "image/png": "[encoded data removed]",
      "text/plain": [
       "<Figure size 216x108 with 3 Axes>"
      ]
     },
     "metadata": {
      "needs_background": "light"
     },
     "output_type": "display_data"
    },
    {
     "name": "stdout",
     "output_type": "stream",
     "text": [
      "SET? 0\n",
      "SET? [0 0 1 0 0 1 0 0 0 1 0 0]\n"
     ]
    }
   ],
   "source": [
    "i = np.random.choice(range(len(Z_set)))\n",
    "fig, axarr = plt.subplots(1, 3, figsize=(3,1.5))\n",
    "for j in range(3):\n",
    "    axarr[j].imshow(Z_set[i,j])\n",
    "    axarr[j].axis('off')\n",
    "plt.show()\n",
    "print('SET?',y_set[i])\n",
    "print('SET?',R_set[i])\n",
    "\n",
    "\n"
   ]
  },
  {
   "cell_type": "code",
   "execution_count": 21,
   "metadata": {},
   "outputs": [],
   "source": [
    "class SimpleAbstractorMH(tf.keras.Model):\n",
    "    def __init__(self, sequence_len, embedding_dim, symbol_dim, embedder=None, num_heads=4, name='simplest_abstractor_vectorial_mh', h1=128, h2=64):\n",
    "        super().__init__(name=name)\n",
    "        self.sequence_len = sequence_len\n",
    "        self.embedding_dim = embedding_dim\n",
    "        self.symbol_dim = symbol_dim\n",
    "        self.num_heads = num_heads\n",
    "        self.h1, self.h2 = (h1, h2)\n",
    "\n",
    "        if embedder != None:\n",
    "            self.source_embedder = layers.TimeDistributed(embedder, name='source_embedder')\n",
    "        else:\n",
    "            self.source_embedder = layers.TimeDistributed(layers.Dense(embedding_dim), name='source_embedder')\n",
    "        self.source_embedder.trainable = False\n",
    "\n",
    "        normal_initializer = tf.keras.initializers.RandomNormal(mean=0., stddev=1., seed=11)\n",
    "        #self.symbols = tf.matmul(tf.ones((self.sequence_len,1)),\n",
    "        #    tf.Variable(normal_initializer(shape=(1, self.symbol_dim)),\n",
    "        #    name='symbols', trainable=False))\n",
    "        self.symbols = tf.Variable(normal_initializer(shape=(self.sequence_len, self.symbol_dim)),\n",
    "            name='symbols', trainable=False)\n",
    "        self.scale = 50\n",
    "        self.flatten = layers.Flatten()\n",
    "        \n",
    "        \n",
    "        self.query_projection = [None]*self.num_heads\n",
    "        self.key_projection = [None]*self.num_heads\n",
    "\n",
    "        for h in range(self.num_heads):\n",
    "            self.query_projection[h] = layers.Dense(embedding_dim, activation=None, name='query_projection')\n",
    "            self.key_projection[h] = layers.Dense(embedding_dim, activation=None, name='key_projection')\n",
    "\n",
    "        self.hidden_layer1 = layers.Dense(self.h1, activation='relu', name='hidden_layer1')\n",
    "        self.hidden_layer2 = layers.Dense(self.h2, activation='relu', name='hidden_layer2')\n",
    "        self.final_layer = layers.Dense(1, activation='sigmoid', name='final_layer')\n",
    "\n",
    "    def call(self, inputs):\n",
    "        source = inputs\n",
    "        E = self.source_embedder(source)\n",
    "\n",
    "        self.Z = [None]*self.num_heads \n",
    "        self.R = [None]*self.num_heads \n",
    "        self.A = [None]*self.num_heads \n",
    "\n",
    "        for h in range(self.num_heads):\n",
    "            Q = self.query_projection[h](E)\n",
    "            K = self.key_projection[h](E)\n",
    "            self.Z[h] = self.scale * tf.einsum('ijk,ilk->ijl', Q, K) / self.embedding_dim\n",
    "            #self.Z[h] = tf.math.sigmoid(self.Z[h])\n",
    "            self.R[h] = tf.math.sigmoid(self.Z[h]) #tf.nn.softmax(5*self.Z[h], axis=1)\n",
    "            self.A[h] = tf.einsum('ijk,kl->ijl', self.R[h], self.symbols)\n",
    "            if h==0:\n",
    "                A = tf.concat([self.A[h]], axis=1)\n",
    "            else:\n",
    "                A = tf.concat([A, self.A[h]], axis=1)\n",
    "\n",
    "        flattened_symbols = self.flatten(A)\n",
    "        hidden_units = self.hidden_layer1(flattened_symbols)\n",
    "        hidden_units = self.hidden_layer2(hidden_units)\n",
    "        output = self.final_layer(hidden_units)\n",
    "        return output"
   ]
  },
  {
   "cell_type": "code",
   "execution_count": 22,
   "metadata": {},
   "outputs": [
    {
     "data": {
      "text/plain": [
       "((500, 3, 32), (125, 3, 32), (500, 3, 32))"
      ]
     },
     "execution_count": 22,
     "metadata": {},
     "output_type": "execute_result"
    }
   ],
   "source": [
    "train_size = 500\n",
    "val_frac = .2\n",
    "\n",
    "X_train, X_test, y_train, y_test, Z_train, Z_test = train_test_split(X_set, y_set, Z_set, train_size=int(train_size/(1-val_frac)), test_size=500)\n",
    "X_train, X_dev, y_train, y_dev, Z_train, Z_dev = train_test_split(X_train, y_train, Z_train, train_size=1-val_frac)\n",
    "X_train.shape, X_dev.shape, X_test.shape"
   ]
  },
  {
   "cell_type": "code",
   "execution_count": 23,
   "metadata": {},
   "outputs": [
    {
     "name": "stdout",
     "output_type": "stream",
     "text": [
      "Model: \"simplest_abstractor_vectorial_mh\"\n",
      "_________________________________________________________________\n",
      " Layer (type)                Output Shape              Param #   \n",
      "=================================================================\n",
      " source_embedder (TimeDistri  multiple                 2112      \n",
      " buted)                                                          \n",
      "                                                                 \n",
      " flatten_5 (Flatten)         multiple                  0         \n",
      "                                                                 \n",
      " query_projection (Dense)    multiple                  4160      \n",
      "                                                                 \n",
      " query_projection (Dense)    multiple                  4160      \n",
      "                                                                 \n",
      " query_projection (Dense)    multiple                  4160      \n",
      "                                                                 \n",
      " query_projection (Dense)    multiple                  4160      \n",
      "                                                                 \n",
      " key_projection (Dense)      multiple                  4160      \n",
      "                                                                 \n",
      " key_projection (Dense)      multiple                  4160      \n",
      "                                                                 \n",
      " key_projection (Dense)      multiple                  4160      \n",
      "                                                                 \n",
      " key_projection (Dense)      multiple                  4160      \n",
      "                                                                 \n",
      " hidden_layer1 (Dense)       multiple                  23168     \n",
      "                                                                 \n",
      " hidden_layer2 (Dense)       multiple                  8256      \n",
      "                                                                 \n",
      " final_layer (Dense)         multiple                  65        \n",
      "                                                                 \n",
      "=================================================================\n",
      "Total params: 66,926\n",
      "Trainable params: 31,489\n",
      "Non-trainable params: 35,437\n",
      "_________________________________________________________________\n"
     ]
    },
    {
     "data": {
      "text/plain": [
       "50"
      ]
     },
     "execution_count": 23,
     "metadata": {},
     "output_type": "execute_result"
    }
   ],
   "source": [
    "abstractor_mh = SimpleAbstractorMH(sequence_len=3, symbol_dim=15, embedding_dim=64, embedder=embedder, num_heads=4)\n",
    "abstractor_mh(X_set[:32])\n",
    "abstractor_mh.compile(loss='binary_crossentropy', optimizer=create_opt(), metrics=['binary_accuracy'])\n",
    "\n",
    "use_pretrained = True\n",
    "if (use_pretrained):\n",
    "    for h in range(4):\n",
    "        abstractor_mh.query_projection[h].set_weights(abstractor[h].query_projection.get_weights())\n",
    "        abstractor_mh.query_projection[h].trainable=False\n",
    "        abstractor_mh.key_projection[h].set_weights(abstractor[h].key_projection.get_weights())\n",
    "        abstractor_mh.key_projection[h].trainable=False\n",
    "\n",
    "abstractor_mh.summary()\n",
    "abstractor_mh.scale = 50\n",
    "abstractor_mh.scale"
   ]
  },
  {
   "cell_type": "code",
   "execution_count": 24,
   "metadata": {},
   "outputs": [],
   "source": [
    "def create_callbacks(patience=6):\n",
    "    callbacks = []\n",
    "    callbacks.append(tf.keras.callbacks.EarlyStopping(monitor='val_loss', \n",
    "        patience=patience, min_delta=0, start_from_epoch=20, mode='auto', restore_best_weights=True, verbose=False))\n",
    "    return callbacks\n",
    "\n",
    "def initialize_set_abstractor_model(use_pretrained_relations=True):\n",
    "    abstractor_mh = SimpleAbstractorMH(sequence_len=3, symbol_dim=15, embedding_dim=64, embedder=embedder, num_heads=4)\n",
    "    abstractor_mh(X_set[:32])\n",
    "    abstractor_mh.compile(loss='binary_crossentropy', optimizer=create_opt(), metrics=['binary_accuracy'])\n",
    "\n",
    "    if (use_pretrained_relations):\n",
    "        for h in range(4):\n",
    "            abstractor_mh.query_projection[h].set_weights(abstractor[h].query_projection.get_weights())\n",
    "            abstractor_mh.query_projection[h].trainable=False\n",
    "            abstractor_mh.key_projection[h].set_weights(abstractor[h].key_projection.get_weights())\n",
    "            abstractor_mh.key_projection[h].trainable=False\n",
    "\n",
    "    #abstractor_mh.summary()\n",
    "    abstractor_mh.scale = 50\n",
    "    return abstractor_mh\n",
    "\n",
    "def set_train_val_test_split(train_size, val_size, test_size):\n",
    "    X_train, X_test, y_train, y_test = \\\n",
    "        train_test_split(X_set, y_set, train_size=int(train_size/(1-val_frac)), test_size=test_size)\n",
    "    X_train, X_dev, y_train, y_dev = train_test_split(X_train, y_train, train_size=1-val_frac)\n",
    "    return X_train, y_train, X_dev, y_dev, X_test, y_test\n",
    "\n",
    "def train_set_abstractor_models(train_sizes, num_trials, num_epochs, pretrained=True):\n",
    "    from tqdm import tqdm\n",
    "    from sklearn.model_selection import train_test_split\n",
    "    accs = list()\n",
    "    n_val = 100\n",
    "    for n in tqdm(train_sizes):\n",
    "        trial_accs = []\n",
    "        for trial in np.arange(num_trials):\n",
    "            model = initialize_set_abstractor_model(use_pretrained_relations=pretrained)\n",
    "            X_train, y_train, X_val, y_val, X_test, y_test = \\\n",
    "                set_train_val_test_split(train_size=n, val_size=n_val, test_size=500)\n",
    "            model.fit(X_train, y_train, validation_data=(X_val, y_val), callbacks=create_callbacks(), epochs=num_epochs, verbose=0)\n",
    "            out = model(X_test)\n",
    "            yhat = np.array([int(o) for o in np.round(np.squeeze(out.numpy()))])\n",
    "            acc = 100*np.mean(yhat==y_test)\n",
    "            trial_accs.append(acc)\n",
    "        accs.append(trial_accs)\n",
    "        print('n=%d, accuracy=%.2f' % (n, np.mean(trial_accs, axis=0)))\n",
    "    return accs\n",
    "\n",
    "def plot_comparison(pretrained_n, pretrained_accs, scratch_n, scratch_accs):\n",
    "    import scipy.stats\n",
    "    scratch_accuracy = np.mean(scratch_accs, axis=1)\n",
    "    scratch_acc_sem = scipy.stats.sem(scratch_accs, axis=1)\n",
    "    pretrained_accuracy = np.mean(pretrained_accs, axis=1)\n",
    "    pretrained_acc_sem = scipy.stats.sem(pretrained_accs, axis=1)\n",
    "    fig, ax = plt.subplots(figsize=(6,4))\n",
    "    ax.plot(scratch_n, scratch_accuracy, label='Abstractor trained de novo')\n",
    "    ax.fill_between(scratch_n, scratch_accuracy - scratch_acc_sem,\n",
    "        scratch_accuracy + scratch_acc_sem, alpha=0.5)\n",
    "    ax.plot(pretrained_n, pretrained_accuracy, label='Using pretrained relations')\n",
    "    ax.fill_between(pretrained_n, pretrained_accuracy - pretrained_acc_sem,\n",
    "        pretrained_accuracy + pretrained_acc_sem, alpha=0.5)\n",
    "    ax.set_xlabel('Training Set Size')\n",
    "    ax.legend()\n",
    "    ax.set_ylabel('SET Classification Accuracy')\n",
    "    ax.grid(linestyle='dashed')\n",
    "    #fig.savefig('set_accuracies.pdf')\n",
    "    plt.show()\n",
    "\n",
    "def plot_accuracies(pretrained_n, pretrained_accs):\n",
    "    import scipy.stats\n",
    "    pretrained_accuracy = np.mean(pretrained_accs, axis=1)\n",
    "    pretrained_acc_sem = scipy.stats.sem(pretrained_accs, axis=1)\n",
    "    fig, ax = plt.subplots(figsize=(6,4))\n",
    "    ax.plot(pretrained_n, pretrained_accuracy, label='Using pretrained relations')\n",
    "    ax.fill_between(pretrained_n, pretrained_accuracy - pretrained_acc_sem,\n",
    "        pretrained_accuracy + pretrained_acc_sem, alpha=0.3)\n",
    "    ax.set_xlabel('Training Set Size')\n",
    "    ax.set_ylabel('SET Classification Accuracy')\n",
    "    ax.grid(linestyle='dashed')\n",
    "    plt.show()\n"
   ]
  },
  {
   "cell_type": "code",
   "execution_count": 25,
   "metadata": {},
   "outputs": [
    {
     "name": "stderr",
     "output_type": "stream",
     "text": [
      "  7%|▋         | 1/14 [00:29<06:23, 29.53s/it]"
     ]
    },
    {
     "name": "stdout",
     "output_type": "stream",
     "text": [
      "n=20, accuracy=55.68\n"
     ]
    },
    {
     "name": "stderr",
     "output_type": "stream",
     "text": [
      " 14%|█▍        | 2/14 [00:59<05:54, 29.53s/it]"
     ]
    },
    {
     "name": "stdout",
     "output_type": "stream",
     "text": [
      "n=40, accuracy=55.42\n"
     ]
    },
    {
     "name": "stderr",
     "output_type": "stream",
     "text": [
      " 21%|██▏       | 3/14 [01:29<05:26, 29.66s/it]"
     ]
    },
    {
     "name": "stdout",
     "output_type": "stream",
     "text": [
      "n=60, accuracy=59.54\n"
     ]
    },
    {
     "name": "stderr",
     "output_type": "stream",
     "text": [
      " 29%|██▊       | 4/14 [01:59<05:00, 30.03s/it]"
     ]
    },
    {
     "name": "stdout",
     "output_type": "stream",
     "text": [
      "n=80, accuracy=63.08\n"
     ]
    },
    {
     "name": "stderr",
     "output_type": "stream",
     "text": [
      " 36%|███▌      | 5/14 [02:31<04:33, 30.44s/it]"
     ]
    },
    {
     "name": "stdout",
     "output_type": "stream",
     "text": [
      "n=100, accuracy=64.98\n"
     ]
    },
    {
     "name": "stderr",
     "output_type": "stream",
     "text": [
      " 43%|████▎     | 6/14 [03:04<04:10, 31.35s/it]"
     ]
    },
    {
     "name": "stdout",
     "output_type": "stream",
     "text": [
      "n=200, accuracy=83.12\n"
     ]
    },
    {
     "name": "stderr",
     "output_type": "stream",
     "text": [
      " 50%|█████     | 7/14 [03:40<03:48, 32.68s/it]"
     ]
    },
    {
     "name": "stdout",
     "output_type": "stream",
     "text": [
      "n=300, accuracy=88.82\n"
     ]
    },
    {
     "name": "stderr",
     "output_type": "stream",
     "text": [
      " 57%|█████▋    | 8/14 [04:19<03:26, 34.46s/it]"
     ]
    },
    {
     "name": "stdout",
     "output_type": "stream",
     "text": [
      "n=400, accuracy=94.78\n"
     ]
    },
    {
     "name": "stderr",
     "output_type": "stream",
     "text": [
      " 64%|██████▍   | 9/14 [05:01<03:03, 36.68s/it]"
     ]
    },
    {
     "name": "stdout",
     "output_type": "stream",
     "text": [
      "n=500, accuracy=96.84\n"
     ]
    },
    {
     "name": "stderr",
     "output_type": "stream",
     "text": [
      " 71%|███████▏  | 10/14 [05:43<02:33, 38.33s/it]"
     ]
    },
    {
     "name": "stdout",
     "output_type": "stream",
     "text": [
      "n=600, accuracy=97.14\n"
     ]
    },
    {
     "name": "stderr",
     "output_type": "stream",
     "text": [
      " 79%|███████▊  | 11/14 [06:35<02:07, 42.62s/it]"
     ]
    },
    {
     "name": "stdout",
     "output_type": "stream",
     "text": [
      "n=700, accuracy=96.94\n"
     ]
    },
    {
     "name": "stderr",
     "output_type": "stream",
     "text": [
      " 86%|████████▌ | 12/14 [07:18<01:25, 42.54s/it]"
     ]
    },
    {
     "name": "stdout",
     "output_type": "stream",
     "text": [
      "n=800, accuracy=97.64\n"
     ]
    },
    {
     "name": "stderr",
     "output_type": "stream",
     "text": [
      " 93%|█████████▎| 13/14 [08:08<00:44, 44.90s/it]"
     ]
    },
    {
     "name": "stdout",
     "output_type": "stream",
     "text": [
      "n=900, accuracy=97.50\n"
     ]
    },
    {
     "name": "stderr",
     "output_type": "stream",
     "text": [
      "100%|██████████| 14/14 [09:01<00:00, 38.68s/it]"
     ]
    },
    {
     "name": "stdout",
     "output_type": "stream",
     "text": [
      "n=1000, accuracy=97.64\n"
     ]
    },
    {
     "name": "stderr",
     "output_type": "stream",
     "text": [
      "\n"
     ]
    }
   ],
   "source": [
    "train_sizes = list(np.arange(20, 100, 20)) + list(np.arange(100, 1001, 100))\n",
    "accs = train_set_abstractor_models(train_sizes=train_sizes, num_trials=10, num_epochs=50)"
   ]
  },
  {
   "cell_type": "code",
   "execution_count": 26,
   "metadata": {},
   "outputs": [
    {
     "data": {
      "image/png": "[encoded data removed]",
      "text/plain": [
       "<Figure size 432x288 with 1 Axes>"
      ]
     },
     "metadata": {
      "needs_background": "light"
     },
     "output_type": "display_data"
    }
   ],
   "source": [
    "plot_accuracies(train_sizes, accs)\n"
   ]
  },
  {
   "cell_type": "code",
   "execution_count": 27,
   "metadata": {},
   "outputs": [],
   "source": [
    "class SymbolicClassifier(tf.keras.Model):\n",
    "    def __init__(self, sequence_len, h1=16, h2=16, name='symbolic_classifier'):\n",
    "        super().__init__(name=name)\n",
    "        self.sequence_len = sequence_len\n",
    "        self.h1, self.h2 = (h1,h2)\n",
    "        self.hidden_layer1 = layers.Dense(self.h1, activation='relu', name='hidden_layer1')\n",
    "        self.hidden_layer2 = layers.Dense(self.h2, activation='relu', name='hidden_layer2')\n",
    "        self.final_layer = layers.Dense(1, activation='sigmoid', name='final_layer')\n",
    "\n",
    "    def call(self, inputs):\n",
    "        source = inputs\n",
    "        hidden_units = self.hidden_layer1(source)\n",
    "        hidden_units = self.hidden_layer2(hidden_units)\n",
    "        output = self.final_layer(hidden_units)\n",
    "        return output"
   ]
  },
  {
   "cell_type": "code",
   "execution_count": 28,
   "metadata": {},
   "outputs": [
    {
     "name": "stdout",
     "output_type": "stream",
     "text": [
      "Model: \"symbolic_classifier\"\n",
      "_________________________________________________________________\n",
      " Layer (type)                Output Shape              Param #   \n",
      "=================================================================\n",
      " hidden_layer1 (Dense)       multiple                  208       \n",
      "                                                                 \n",
      " hidden_layer2 (Dense)       multiple                  272       \n",
      "                                                                 \n",
      " final_layer (Dense)         multiple                  17        \n",
      "                                                                 \n",
      "=================================================================\n",
      "Total params: 497\n",
      "Trainable params: 497\n",
      "Non-trainable params: 0\n",
      "_________________________________________________________________\n"
     ]
    }
   ],
   "source": [
    "symbolic_model = SymbolicClassifier(3)\n",
    "symbolic_model(R_set[:32])\n",
    "symbolic_model.compile(loss='binary_crossentropy', optimizer=create_opt(), metrics=['binary_accuracy'])\n",
    "symbolic_model.summary()\n"
   ]
  },
  {
   "cell_type": "code",
   "execution_count": 29,
   "metadata": {},
   "outputs": [],
   "source": [
    "def create_callbacks(patience=6):\n",
    "    callbacks = []\n",
    "    callbacks.append(tf.keras.callbacks.EarlyStopping(monitor='val_loss', \n",
    "        patience=patience, min_delta=0, start_from_epoch=20, mode='auto', restore_best_weights=True, verbose=False))\n",
    "    return callbacks\n",
    "\n",
    "def initialize_set_symbolic_model():\n",
    "    model = SymbolicClassifier(sequence_len=3)\n",
    "    model(R_set[:32])\n",
    "    model.compile(loss='binary_crossentropy', optimizer=create_opt(), metrics=['binary_accuracy'])\n",
    "    return model\n",
    "\n",
    "def set_symbolic_train_val_test_split(train_size, val_size, test_size):\n",
    "    from sklearn.model_selection import train_test_split\n",
    "    R_train, R_test, y_train, y_test = \\\n",
    "        train_test_split(R_set, y_set, train_size=int(train_size/(1-val_frac)), test_size=test_size)\n",
    "    R_train, R_dev, y_train, y_dev = train_test_split(R_train, y_train, train_size=1-val_frac)\n",
    "    return R_train, y_train, R_dev, y_dev, R_test, y_test\n",
    "\n",
    "def train_set_symbolic_models(train_sizes, num_trials, num_epochs, pretrained=True):\n",
    "    from tqdm import tqdm\n",
    "    accs = list()\n",
    "    n_val = 100\n",
    "    for n in tqdm(train_sizes):\n",
    "        trial_accs = []\n",
    "        for trial in np.arange(num_trials):\n",
    "            model = initialize_set_symbolic_model()\n",
    "            R_train, y_train, R_val, y_val, R_test, y_test = \\\n",
    "                set_symbolic_train_val_test_split(train_size=n, val_size=n_val, test_size=500)\n",
    "            model.fit(R_train, y_train, validation_data=(R_val, y_val), callbacks=create_callbacks(), epochs=num_epochs, verbose=0)\n",
    "            out = model(R_test)\n",
    "            yhat = np.array([int(o) for o in np.round(np.squeeze(out.numpy()))])\n",
    "            acc = 100*np.mean(yhat==y_test)\n",
    "            trial_accs.append(acc)\n",
    "        accs.append(trial_accs)\n",
    "        print('n=%d, accuracy=%.2f' % (n, np.mean(trial_accs, axis=0)))\n",
    "    return accs\n"
   ]
  },
  {
   "cell_type": "code",
   "execution_count": 30,
   "metadata": {},
   "outputs": [
    {
     "name": "stderr",
     "output_type": "stream",
     "text": [
      "  7%|▋         | 1/14 [00:14<03:07, 14.42s/it]"
     ]
    },
    {
     "name": "stdout",
     "output_type": "stream",
     "text": [
      "n=10, accuracy=52.98\n"
     ]
    },
    {
     "name": "stderr",
     "output_type": "stream",
     "text": [
      " 14%|█▍        | 2/14 [00:30<02:57, 14.80s/it]"
     ]
    },
    {
     "name": "stdout",
     "output_type": "stream",
     "text": [
      "n=20, accuracy=61.18\n"
     ]
    },
    {
     "name": "stderr",
     "output_type": "stream",
     "text": [
      " 21%|██▏       | 3/14 [00:47<02:52, 15.65s/it]"
     ]
    },
    {
     "name": "stdout",
     "output_type": "stream",
     "text": [
      "n=30, accuracy=58.88\n"
     ]
    },
    {
     "name": "stderr",
     "output_type": "stream",
     "text": [
      " 29%|██▊       | 4/14 [01:05<02:42, 16.22s/it]"
     ]
    },
    {
     "name": "stdout",
     "output_type": "stream",
     "text": [
      "n=40, accuracy=61.86\n"
     ]
    },
    {
     "name": "stderr",
     "output_type": "stream",
     "text": [
      " 36%|███▌      | 5/14 [01:22<02:28, 16.50s/it]"
     ]
    },
    {
     "name": "stdout",
     "output_type": "stream",
     "text": [
      "n=50, accuracy=68.50\n"
     ]
    },
    {
     "name": "stderr",
     "output_type": "stream",
     "text": [
      " 43%|████▎     | 6/14 [01:39<02:14, 16.78s/it]"
     ]
    },
    {
     "name": "stdout",
     "output_type": "stream",
     "text": [
      "n=60, accuracy=66.92\n"
     ]
    },
    {
     "name": "stderr",
     "output_type": "stream",
     "text": [
      " 50%|█████     | 7/14 [01:58<02:00, 17.26s/it]"
     ]
    },
    {
     "name": "stdout",
     "output_type": "stream",
     "text": [
      "n=70, accuracy=68.80\n"
     ]
    },
    {
     "name": "stderr",
     "output_type": "stream",
     "text": [
      " 57%|█████▋    | 8/14 [02:16<01:45, 17.63s/it]"
     ]
    },
    {
     "name": "stdout",
     "output_type": "stream",
     "text": [
      "n=80, accuracy=73.84\n"
     ]
    },
    {
     "name": "stderr",
     "output_type": "stream",
     "text": [
      " 64%|██████▍   | 9/14 [02:35<01:30, 18.06s/it]"
     ]
    },
    {
     "name": "stdout",
     "output_type": "stream",
     "text": [
      "n=90, accuracy=72.26\n"
     ]
    },
    {
     "name": "stderr",
     "output_type": "stream",
     "text": [
      " 71%|███████▏  | 10/14 [02:54<01:13, 18.39s/it]"
     ]
    },
    {
     "name": "stdout",
     "output_type": "stream",
     "text": [
      "n=100, accuracy=74.22\n"
     ]
    },
    {
     "name": "stderr",
     "output_type": "stream",
     "text": [
      " 79%|███████▊  | 11/14 [03:18<00:59, 19.83s/it]"
     ]
    },
    {
     "name": "stdout",
     "output_type": "stream",
     "text": [
      "n=300, accuracy=96.94\n"
     ]
    },
    {
     "name": "stderr",
     "output_type": "stream",
     "text": [
      " 86%|████████▌ | 12/14 [03:43<00:43, 21.61s/it]"
     ]
    },
    {
     "name": "stdout",
     "output_type": "stream",
     "text": [
      "n=500, accuracy=98.62\n"
     ]
    },
    {
     "name": "stderr",
     "output_type": "stream",
     "text": [
      " 93%|█████████▎| 13/14 [04:13<00:24, 24.02s/it]"
     ]
    },
    {
     "name": "stdout",
     "output_type": "stream",
     "text": [
      "n=700, accuracy=98.88\n"
     ]
    },
    {
     "name": "stderr",
     "output_type": "stream",
     "text": [
      "100%|██████████| 14/14 [04:45<00:00, 20.40s/it]"
     ]
    },
    {
     "name": "stdout",
     "output_type": "stream",
     "text": [
      "n=900, accuracy=99.04\n"
     ]
    },
    {
     "name": "stderr",
     "output_type": "stream",
     "text": [
      "\n"
     ]
    }
   ],
   "source": [
    "symbolic_train_sizes = list(np.arange(10, 100, 10)) + list(np.arange(100, 1001, 200))\n",
    "symbolic_accs = train_set_symbolic_models(train_sizes=symbolic_train_sizes, num_trials=10, num_epochs=50)\n"
   ]
  },
  {
   "cell_type": "code",
   "execution_count": 31,
   "metadata": {},
   "outputs": [],
   "source": [
    "def plot_symbolic_comparison(pretrained_n, pretrained_accs, scratch_n, scratch_accs):\n",
    "    import scipy.stats\n",
    "    scratch_accuracy = np.mean(scratch_accs, axis=1)\n",
    "    scratch_acc_sem = scipy.stats.sem(scratch_accs, axis=1)\n",
    "    pretrained_accuracy = np.mean(pretrained_accs, axis=1)\n",
    "    pretrained_acc_sem = scipy.stats.sem(pretrained_accs, axis=1)\n",
    "    fig, ax = plt.subplots(figsize=(6,4))\n",
    "    ax.plot(scratch_n, scratch_accuracy, label='MLP with purely symbolic input')\n",
    "    ax.fill_between(scratch_n, scratch_accuracy - 2*scratch_acc_sem,\n",
    "        scratch_accuracy + 2*scratch_acc_sem, alpha=0.5)\n",
    "    ax.plot(pretrained_n, pretrained_accuracy, label='Abstractor on images, pre-learned relations')\n",
    "    ax.fill_between(pretrained_n, pretrained_accuracy - 2*pretrained_acc_sem,\n",
    "        pretrained_accuracy + 2*pretrained_acc_sem, alpha=0.5)\n",
    "    ax.set_xlabel('Training Set Size')\n",
    "    ax.legend()\n",
    "    ax.set_ylabel('SET Classification Accuracy')\n",
    "    ax.grid(linestyle='dashed')\n",
    "    fig.savefig('set_symbolic_vs_abstractor.pdf')\n",
    "    plt.show()"
   ]
  },
  {
   "cell_type": "code",
   "execution_count": 32,
   "metadata": {},
   "outputs": [
    {
     "data": {
      "image/png": "[encoded data removed]",
      "text/plain": [
       "<Figure size 432x288 with 1 Axes>"
      ]
     },
     "metadata": {
      "needs_background": "light"
     },
     "output_type": "display_data"
    }
   ],
   "source": [
    "plot_symbolic_comparison(train_sizes, accs, symbolic_train_sizes, symbolic_accs)"
   ]
  },
  {
   "cell_type": "code",
   "execution_count": 33,
   "metadata": {},
   "outputs": [],
   "source": [
    "np.savez('symbolic_vs_abstractor', train_sizes=train_sizes, accs=accs, symbolic_train_sizes=symbolic_train_sizes, symbolic_accs=symbolic_accs)\n"
   ]
  },
  {
   "cell_type": "code",
   "execution_count": 34,
   "metadata": {},
   "outputs": [
    {
     "data": {
      "image/png": "[encoded data removed]",
      "text/plain": [
       "<Figure size 432x288 with 1 Axes>"
      ]
     },
     "metadata": {
      "needs_background": "light"
     },
     "output_type": "display_data"
    }
   ],
   "source": [
    "def plot_symbolic_comparison(pretrained_n, pretrained_accs, scratch_n, scratch_accs):\n",
    "    import scipy.stats\n",
    "    scratch_accuracy = np.mean(scratch_accs, axis=1)\n",
    "    scratch_acc_sem = scipy.stats.sem(scratch_accs, axis=1)\n",
    "    pretrained_accuracy = np.mean(pretrained_accs, axis=1)\n",
    "    pretrained_acc_sem = scipy.stats.sem(pretrained_accs, axis=1)\n",
    "    fig, ax = plt.subplots(figsize=(6,4))\n",
    "    ax.plot(scratch_n, scratch_accuracy, label='MLP with purely symbolic input')\n",
    "    ax.fill_between(scratch_n, scratch_accuracy - scratch_acc_sem,\n",
    "        scratch_accuracy + scratch_acc_sem, alpha=0.5)\n",
    "    ax.plot(pretrained_n, pretrained_accuracy, label='Abstractor on images, pre-learned relations')\n",
    "    ax.fill_between(pretrained_n, pretrained_accuracy - pretrained_acc_sem,\n",
    "        pretrained_accuracy + pretrained_acc_sem, alpha=0.5)\n",
    "    ax.set_xlabel('Training Set Size')\n",
    "    ax.legend()\n",
    "    ax.set_ylabel('SET Classification Accuracy')\n",
    "    ax.grid(linestyle='dashed')\n",
    "    fig.savefig('set_symbolic_vs_abstractor.pdf')\n",
    "    plt.show()\n",
    "\n",
    "dat = np.load('symbolic_vs_abstractor.npz')\n",
    "train_sizes = dat['train_sizes']\n",
    "accs = dat['accs']\n",
    "symbolic_train_sizes = dat['symbolic_train_sizes']\n",
    "symbolic_accs = dat['symbolic_accs']\n",
    "plot_symbolic_comparison(train_sizes, accs, symbolic_train_sizes, symbolic_accs)"
   ]
  }
 ],
 "metadata": {
  "interpreter": {
   "hash": "075427e9d7b4e88d8be5fc9c4269e9099fc3e822a226ecef7da6e611953d0392"
  },
  "kernelspec": {
   "display_name": "Python 3",
   "language": "python",
   "name": "python3"
  },
  "language_info": {
   "codemirror_mode": {
    "name": "ipython",
    "version": 3
   },
   "file_extension": ".py",
   "mimetype": "text/x-python",
   "name": "python",
   "nbconvert_exporter": "python",
   "pygments_lexer": "ipython3",
   "version": "3.8.5"
  }
 },
 "nbformat": 4,
 "nbformat_minor": 2
}
