{
 "cells": [
  {
   "cell_type": "code",
   "execution_count": 1,
   "metadata": {},
   "outputs": [],
   "source": [
    "import sys\n",
    "sys.path.append('../..'); sys.path.append('../'); \n",
    "import numpy as np\n",
    "from setGame import *\n",
    "import tensorflow as tf\n",
    "from tensorflow.keras import layers, Model\n",
    "from sklearn.model_selection import train_test_split\n",
    "import utils\n",
    "from transformer_modules import Encoder, Decoder, AddPositionalEmbedding\n",
    "from abstracters import SymbolicAbstracter, RelationalAbstracter"
   ]
  },
  {
   "cell_type": "code",
   "execution_count": 2,
   "metadata": {},
   "outputs": [],
   "source": [
    "setgame = SetGame(verbose=0)\n",
    "X, y, triples = setgame.generate_grouped_data()\n",
    "inds = (y==True)\n",
    "posi = np.arange(len(y))[inds]\n",
    "negi = np.arange(len(y))[~inds][0:len(posi)]\n",
    "inds = list(posi)+list(negi)\n",
    "X_balanced = X[inds,:]\n",
    "y_balanced = y[inds]\n",
    "triples_balanced = np.array(triples)[inds]\n"
   ]
  },
  {
   "cell_type": "code",
   "execution_count": 3,
   "metadata": {},
   "outputs": [
    {
     "data": {
      "image/png": "[encoded data removed]",
      "text/plain": [
       "<Figure size 216x144 with 3 Axes>"
      ]
     },
     "metadata": {
      "needs_background": "light"
     },
     "output_type": "display_data"
    },
    {
     "name": "stdout",
     "output_type": "stream",
     "text": [
      "0\n"
     ]
    },
    {
     "data": {
      "text/plain": [
       "[1, 1, 1, 0, 0, 0, 0, 1, 0, 0, 1, 0]"
      ]
     },
     "execution_count": 3,
     "metadata": {},
     "output_type": "execute_result"
    }
   ],
   "source": [
    "i = np.random.choice(range(len(y_balanced)))\n",
    "setgame.show_triple(triples_balanced[i]), y_balanced[i]\n",
    "attr = setgame.tabulate_attributes_for_triple(triples_balanced[i])\n",
    "iattr = [int(attr[i]) for i in range(len(attr))]\n",
    "print(y_balanced[i])\n",
    "iattr\n"
   ]
  },
  {
   "cell_type": "code",
   "execution_count": 4,
   "metadata": {},
   "outputs": [],
   "source": [
    "X = np.zeros((len(y_balanced), 12), dtype=int)\n",
    "y = np.zeros(len(y_balanced), dtype=int)\n",
    "\n",
    "for i in np.arange(len(y_balanced)):\n",
    "    attr = setgame.tabulate_attributes_for_triple(triples_balanced[i])\n",
    "    X[i] = [int(attr[i]) for i in range(len(attr))]\n",
    "    y[i] = y_balanced[i]\n"
   ]
  },
  {
   "cell_type": "code",
   "execution_count": 5,
   "metadata": {},
   "outputs": [
    {
     "data": {
      "text/plain": [
       "((171, 12), (29, 12), (648, 12))"
      ]
     },
     "execution_count": 5,
     "metadata": {},
     "output_type": "execute_result"
    }
   ],
   "source": [
    "train_size = 200\n",
    "test_size = 0.3\n",
    "val_size = 0.1\n",
    "\n",
    "X_train, X_test, y_train, y_test = train_test_split(X, y, train_size=train_size, test_size=test_size)\n",
    "X_train, X_val, y_train, y_val = train_test_split(X_train, y_train, test_size=val_size/(1-test_size))\n",
    "\n",
    "X_train.shape, X_val.shape, X_test.shape"
   ]
  },
  {
   "cell_type": "code",
   "execution_count": 6,
   "metadata": {},
   "outputs": [],
   "source": [
    "class TransformerClassifier(tf.keras.Model):\n",
    "    def __init__(self, num_layers, num_heads, dff,\n",
    "            input_vocab, embedding_dim, \n",
    "            dropout_rate=0.1, name='transformer_classifier'):\n",
    "\n",
    "        super().__init__(name=name)\n",
    "\n",
    "        if isinstance(input_vocab, int):\n",
    "            self.source_embedder = layers.Embedding(input_vocab, embedding_dim, name='source_embedder')\n",
    "        elif input_vocab == 'vector':\n",
    "            self.source_embedder = layers.TimeDistributed(layers.Dense(embedding_dim), name='source_embedder')\n",
    "        else:\n",
    "            raise ValueError(\n",
    "                \"`input_vocab` must be an integer if the input sequence is token-valued or \"\n",
    "                \"'vector' if the input sequence is vector-valued.\")\n",
    "\n",
    "        self.pos_embedding_adder_input = AddPositionalEmbedding(name='add_pos_embedding_input')\n",
    "        self.encoder = Encoder(num_layers=num_layers, num_heads=num_heads, dff=dff, dropout_rate=dropout_rate, name='encoder')\n",
    "        self.flattener = layers.Flatten()\n",
    "        self.final_layer = layers.Dense(2, name='final_layer')\n",
    "\n",
    "\n",
    "    def call(self, inputs):\n",
    "        source = inputs\n",
    "\n",
    "        x = self.source_embedder(source)\n",
    "        x = self.pos_embedding_adder_input(x)\n",
    "        encoder_context = self.encoder(x)\n",
    "        output = self.flattener(encoder_context)\n",
    "        logits = self.final_layer(output)\n",
    "\n",
    "        try:\n",
    "          # Drop the keras mask, so it doesn't scale the losses/metrics.\n",
    "          # b/250038731\n",
    "          del logits._keras_mask\n",
    "        except AttributeError:\n",
    "          pass\n",
    "\n",
    "        return logits\n",
    "        \n",
    "class AbstractorClassifier(tf.keras.Model):\n",
    "    def __init__(self, num_layers, num_heads, dff,\n",
    "            input_vocab, embedding_dim, dropout_rate=0.1, name='abstractor_classifier'):\n",
    "\n",
    "        super().__init__(name=name)\n",
    "\n",
    "        if isinstance(input_vocab, int):\n",
    "            self.source_embedder = layers.Embedding(input_vocab, embedding_dim, name='source_embedder')\n",
    "        elif input_vocab == 'vector':\n",
    "            self.source_embedder = layers.TimeDistributed(layers.Dense(embedding_dim), name='source_embedder')\n",
    "        else:\n",
    "            raise ValueError(\n",
    "                \"`input_vocab` must be an integer if the input sequence is token-valued or \"\n",
    "                \"'vector' if the input sequence is vector-valued.\")\n",
    "\n",
    "        self.pos_embedding_adder_input = AddPositionalEmbedding(name='add_pos_embedding_input')\n",
    "        self.encoder = Encoder(num_layers=num_layers, num_heads=num_heads, dff=dff, dropout_rate=dropout_rate, name='encoder')\n",
    "        self.abstractor = RelationalAbstracter(num_layers=num_layers, num_heads=num_heads, dff=dff, dropout_rate=dropout_rate, name='abstractor')\n",
    "        self.flattener = layers.Flatten()\n",
    "        self.final_layer = layers.Dense(2, name='final_layer')\n",
    "\n",
    "\n",
    "    def call(self, inputs):\n",
    "        source = inputs\n",
    "\n",
    "        x = self.source_embedder(source)\n",
    "        x = self.pos_embedding_adder_input(x)\n",
    "        encoder_context = self.encoder(x)\n",
    "        abstracted_context = self.abstractor(encoder_context)\n",
    "        outputs = self.flattener(abstracted_context)\n",
    "        logits = self.final_layer(outputs)\n",
    "\n",
    "        try:\n",
    "          # Drop the keras mask, so it doesn't scale the losses/metrics.\n",
    "          # b/250038731\n",
    "          del logits._keras_mask\n",
    "        except AttributeError:\n",
    "          pass\n",
    "\n",
    "        return logits\n"
   ]
  },
  {
   "cell_type": "code",
   "execution_count": 7,
   "metadata": {},
   "outputs": [],
   "source": [
    "create_opt = lambda : tf.keras.optimizers.Adam()\n",
    "loss = tf.keras.losses.SparseCategoricalCrossentropy(from_logits=True, name='binary_crossentropy')"
   ]
  },
  {
   "cell_type": "code",
   "execution_count": 8,
   "metadata": {},
   "outputs": [
    {
     "name": "stdout",
     "output_type": "stream",
     "text": [
      "Model: \"transformer_classifier\"\n",
      "_________________________________________________________________\n",
      " Layer (type)                Output Shape              Param #   \n",
      "=================================================================\n",
      " source_embedder (Embedding)  multiple                 128       \n",
      "                                                                 \n",
      " add_pos_embedding_input (Ad  multiple                 0         \n",
      " dPositionalEmbedding)                                           \n",
      "                                                                 \n",
      " encoder (Encoder)           multiple                  83584     \n",
      "                                                                 \n",
      " flatten (Flatten)           multiple                  0         \n",
      "                                                                 \n",
      " final_layer (Dense)         multiple                  1538      \n",
      "                                                                 \n",
      "=================================================================\n",
      "Total params: 85,250\n",
      "Trainable params: 85,250\n",
      "Non-trainable params: 0\n",
      "_________________________________________________________________\n"
     ]
    }
   ],
   "source": [
    "transformer_model = TransformerClassifier(num_layers=2, num_heads=2, dff=64, input_vocab=2, embedding_dim=64)\n",
    "transformer_model.compile(loss=loss, optimizer=create_opt(), metrics=['accuracy'])\n",
    "transformer_model(X[:32])\n",
    "transformer_model.summary()"
   ]
  },
  {
   "cell_type": "code",
   "execution_count": 9,
   "metadata": {},
   "outputs": [
    {
     "name": "stdout",
     "output_type": "stream",
     "text": [
      "Epoch 1/50\n",
      "6/6 [==============================] - 4s 108ms/step - loss: 0.9977 - accuracy: 0.5497 - val_loss: 0.6745 - val_accuracy: 0.5172\n",
      "Epoch 2/50\n",
      "6/6 [==============================] - 0s 20ms/step - loss: 0.8108 - accuracy: 0.5965 - val_loss: 0.6630 - val_accuracy: 0.5517\n",
      "Epoch 3/50\n",
      "6/6 [==============================] - 0s 19ms/step - loss: 0.8075 - accuracy: 0.4503 - val_loss: 0.6774 - val_accuracy: 0.5517\n",
      "Epoch 4/50\n",
      "6/6 [==============================] - 0s 20ms/step - loss: 0.7608 - accuracy: 0.6199 - val_loss: 0.6586 - val_accuracy: 0.5517\n",
      "Epoch 5/50\n",
      "6/6 [==============================] - 0s 20ms/step - loss: 0.7054 - accuracy: 0.5673 - val_loss: 0.6318 - val_accuracy: 0.6207\n",
      "Epoch 6/50\n",
      "6/6 [==============================] - 0s 19ms/step - loss: 0.6466 - accuracy: 0.6491 - val_loss: 0.6991 - val_accuracy: 0.5517\n",
      "Epoch 7/50\n",
      "6/6 [==============================] - 0s 19ms/step - loss: 0.6760 - accuracy: 0.6316 - val_loss: 0.6263 - val_accuracy: 0.6207\n",
      "Epoch 8/50\n",
      "6/6 [==============================] - 0s 19ms/step - loss: 0.6778 - accuracy: 0.6374 - val_loss: 0.6443 - val_accuracy: 0.6552\n",
      "Epoch 9/50\n",
      "6/6 [==============================] - 0s 20ms/step - loss: 0.6934 - accuracy: 0.6491 - val_loss: 0.6095 - val_accuracy: 0.7931\n",
      "Epoch 10/50\n",
      "6/6 [==============================] - 0s 20ms/step - loss: 0.6386 - accuracy: 0.6374 - val_loss: 0.6230 - val_accuracy: 0.6897\n",
      "Epoch 11/50\n",
      "6/6 [==============================] - 0s 18ms/step - loss: 0.6932 - accuracy: 0.6725 - val_loss: 0.5979 - val_accuracy: 0.7931\n",
      "Epoch 12/50\n",
      "6/6 [==============================] - 0s 19ms/step - loss: 0.6927 - accuracy: 0.6082 - val_loss: 0.5936 - val_accuracy: 0.7241\n",
      "Epoch 13/50\n",
      "6/6 [==============================] - 0s 20ms/step - loss: 0.6664 - accuracy: 0.6257 - val_loss: 0.5930 - val_accuracy: 0.7931\n",
      "Epoch 14/50\n",
      "6/6 [==============================] - 0s 20ms/step - loss: 0.6454 - accuracy: 0.6667 - val_loss: 0.5772 - val_accuracy: 0.7931\n",
      "Epoch 15/50\n",
      "6/6 [==============================] - 0s 20ms/step - loss: 0.6437 - accuracy: 0.7135 - val_loss: 0.5512 - val_accuracy: 0.7931\n",
      "Epoch 16/50\n",
      "6/6 [==============================] - 0s 19ms/step - loss: 0.6308 - accuracy: 0.6667 - val_loss: 0.5178 - val_accuracy: 0.8621\n",
      "Epoch 17/50\n",
      "6/6 [==============================] - 0s 20ms/step - loss: 0.5688 - accuracy: 0.7719 - val_loss: 0.4382 - val_accuracy: 0.8621\n",
      "Epoch 18/50\n",
      "6/6 [==============================] - 0s 19ms/step - loss: 0.4995 - accuracy: 0.7895 - val_loss: 0.3826 - val_accuracy: 0.8966\n",
      "Epoch 19/50\n",
      "6/6 [==============================] - 0s 18ms/step - loss: 0.4463 - accuracy: 0.8246 - val_loss: 0.3268 - val_accuracy: 0.8276\n",
      "Epoch 20/50\n",
      "6/6 [==============================] - 0s 19ms/step - loss: 0.4019 - accuracy: 0.8187 - val_loss: 0.3696 - val_accuracy: 0.7931\n",
      "Epoch 21/50\n",
      "6/6 [==============================] - 0s 18ms/step - loss: 0.3301 - accuracy: 0.8538 - val_loss: 0.2365 - val_accuracy: 0.8621\n",
      "Epoch 22/50\n",
      "6/6 [==============================] - 0s 19ms/step - loss: 0.3181 - accuracy: 0.8830 - val_loss: 0.2691 - val_accuracy: 0.8621\n",
      "Epoch 23/50\n",
      "6/6 [==============================] - 0s 19ms/step - loss: 0.2414 - accuracy: 0.9006 - val_loss: 0.1673 - val_accuracy: 0.8966\n",
      "Epoch 24/50\n",
      "6/6 [==============================] - 0s 19ms/step - loss: 0.2488 - accuracy: 0.9006 - val_loss: 0.2533 - val_accuracy: 0.8276\n",
      "Epoch 25/50\n",
      "6/6 [==============================] - 0s 19ms/step - loss: 0.2593 - accuracy: 0.8830 - val_loss: 0.1197 - val_accuracy: 1.0000\n",
      "Epoch 26/50\n",
      "6/6 [==============================] - 0s 19ms/step - loss: 0.2423 - accuracy: 0.8947 - val_loss: 0.1351 - val_accuracy: 0.9310\n",
      "Epoch 27/50\n",
      "6/6 [==============================] - 0s 19ms/step - loss: 0.1882 - accuracy: 0.9064 - val_loss: 0.1423 - val_accuracy: 0.8966\n",
      "Epoch 28/50\n",
      "6/6 [==============================] - 0s 19ms/step - loss: 0.1449 - accuracy: 0.9357 - val_loss: 0.1445 - val_accuracy: 0.9310\n",
      "Epoch 29/50\n",
      "6/6 [==============================] - 0s 19ms/step - loss: 0.1813 - accuracy: 0.9006 - val_loss: 0.1049 - val_accuracy: 0.9655\n",
      "Epoch 30/50\n",
      "6/6 [==============================] - 0s 18ms/step - loss: 0.1596 - accuracy: 0.9240 - val_loss: 0.0899 - val_accuracy: 0.9655\n",
      "Epoch 31/50\n",
      "6/6 [==============================] - 0s 19ms/step - loss: 0.1464 - accuracy: 0.9357 - val_loss: 0.0920 - val_accuracy: 0.9655\n",
      "Epoch 32/50\n",
      "6/6 [==============================] - 0s 19ms/step - loss: 0.1477 - accuracy: 0.9298 - val_loss: 0.0968 - val_accuracy: 0.9310\n",
      "Epoch 33/50\n",
      "6/6 [==============================] - 0s 19ms/step - loss: 0.1359 - accuracy: 0.9298 - val_loss: 0.1131 - val_accuracy: 0.9655\n",
      "Epoch 34/50\n",
      "6/6 [==============================] - 0s 19ms/step - loss: 0.1743 - accuracy: 0.9532 - val_loss: 0.1208 - val_accuracy: 0.9310\n",
      "Epoch 35/50\n",
      "6/6 [==============================] - 0s 19ms/step - loss: 0.1456 - accuracy: 0.9240 - val_loss: 0.1101 - val_accuracy: 0.9310\n",
      "Epoch 36/50\n",
      "6/6 [==============================] - 0s 19ms/step - loss: 0.1480 - accuracy: 0.9357 - val_loss: 0.0983 - val_accuracy: 0.9310\n",
      "Epoch 37/50\n",
      "6/6 [==============================] - 0s 20ms/step - loss: 0.1330 - accuracy: 0.9474 - val_loss: 0.0898 - val_accuracy: 0.9655\n",
      "Epoch 38/50\n",
      "6/6 [==============================] - 0s 20ms/step - loss: 0.1324 - accuracy: 0.9415 - val_loss: 0.0788 - val_accuracy: 0.9655\n",
      "Epoch 39/50\n",
      "6/6 [==============================] - 0s 19ms/step - loss: 0.1377 - accuracy: 0.9532 - val_loss: 0.0750 - val_accuracy: 0.9310\n",
      "Epoch 40/50\n",
      "6/6 [==============================] - 0s 19ms/step - loss: 0.1091 - accuracy: 0.9357 - val_loss: 0.0907 - val_accuracy: 0.9310\n",
      "Epoch 41/50\n",
      "6/6 [==============================] - 0s 19ms/step - loss: 0.1219 - accuracy: 0.9474 - val_loss: 0.0987 - val_accuracy: 0.9310\n",
      "Epoch 42/50\n",
      "6/6 [==============================] - 0s 19ms/step - loss: 0.0899 - accuracy: 0.9649 - val_loss: 0.0848 - val_accuracy: 0.9310\n",
      "Epoch 43/50\n",
      "6/6 [==============================] - 0s 18ms/step - loss: 0.0907 - accuracy: 0.9649 - val_loss: 0.0948 - val_accuracy: 0.9310\n",
      "Epoch 44/50\n",
      "6/6 [==============================] - 0s 20ms/step - loss: 0.0957 - accuracy: 0.9708 - val_loss: 0.0858 - val_accuracy: 0.9655\n",
      "Epoch 45/50\n",
      "6/6 [==============================] - 0s 25ms/step - loss: 0.0890 - accuracy: 0.9708 - val_loss: 0.0619 - val_accuracy: 0.9655\n",
      "Epoch 46/50\n",
      "6/6 [==============================] - 0s 23ms/step - loss: 0.1076 - accuracy: 0.9649 - val_loss: 0.0891 - val_accuracy: 0.9655\n",
      "Epoch 47/50\n",
      "6/6 [==============================] - 0s 22ms/step - loss: 0.0880 - accuracy: 0.9649 - val_loss: 0.0697 - val_accuracy: 0.9310\n",
      "Epoch 48/50\n",
      "6/6 [==============================] - 0s 24ms/step - loss: 0.1040 - accuracy: 0.9474 - val_loss: 0.0783 - val_accuracy: 0.9655\n",
      "Epoch 49/50\n",
      "6/6 [==============================] - 0s 29ms/step - loss: 0.1178 - accuracy: 0.9532 - val_loss: 0.0681 - val_accuracy: 0.9655\n",
      "Epoch 50/50\n",
      "6/6 [==============================] - 0s 20ms/step - loss: 0.0768 - accuracy: 0.9708 - val_loss: 0.0608 - val_accuracy: 0.9655\n"
     ]
    }
   ],
   "source": [
    "history = transformer_model.fit(X_train, y_train, validation_data=(X_val, y_val), epochs=50, verbose=1)"
   ]
  },
  {
   "cell_type": "code",
   "execution_count": 10,
   "metadata": {},
   "outputs": [
    {
     "data": {
      "image/png": "[encoded data removed]",
      "text/plain": [
       "<Figure size 432x288 with 2 Axes>"
      ]
     },
     "metadata": {
      "needs_background": "light"
     },
     "output_type": "display_data"
    }
   ],
   "source": [
    "utils.plot_history(history, ('loss', 'accuracy'));"
   ]
  },
  {
   "cell_type": "code",
   "execution_count": 11,
   "metadata": {},
   "outputs": [
    {
     "name": "stdout",
     "output_type": "stream",
     "text": [
      "test accuracy: 97.53%\n",
      "\n"
     ]
    }
   ],
   "source": [
    "out = transformer_model.predict(X_test, verbose=0)\n",
    "yhat = np.argmax(out, axis=1)\n",
    "print('test accuracy: %.2f%%\\n' % (100*np.mean(yhat==y_test)))"
   ]
  },
  {
   "cell_type": "code",
   "execution_count": 12,
   "metadata": {},
   "outputs": [
    {
     "name": "stdout",
     "output_type": "stream",
     "text": [
      "Model: \"abstractor_classifier\"\n",
      "_________________________________________________________________\n",
      " Layer (type)                Output Shape              Param #   \n",
      "=================================================================\n",
      " source_embedder (Embedding)  multiple                 128       \n",
      "                                                                 \n",
      " add_pos_embedding_input (Ad  multiple                 0         \n",
      " dPositionalEmbedding)                                           \n",
      "                                                                 \n",
      " encoder (Encoder)           multiple                  83584     \n",
      "                                                                 \n",
      " abstractor (RelationalAbstr  multiple                 151040    \n",
      " acter)                                                          \n",
      "                                                                 \n",
      " flatten_1 (Flatten)         multiple                  0         \n",
      "                                                                 \n",
      " final_layer (Dense)         multiple                  1538      \n",
      "                                                                 \n",
      "=================================================================\n",
      "Total params: 236,290\n",
      "Trainable params: 236,290\n",
      "Non-trainable params: 0\n",
      "_________________________________________________________________\n"
     ]
    }
   ],
   "source": [
    "abstractor_model = AbstractorClassifier(num_layers=2, num_heads=2, dff=64, input_vocab=2, embedding_dim=64)\n",
    "abstractor_model.compile(loss=loss, optimizer=create_opt(), metrics=['accuracy'])\n",
    "abstractor_model(X[:32])\n",
    "abstractor_model.summary()"
   ]
  },
  {
   "cell_type": "code",
   "execution_count": 13,
   "metadata": {},
   "outputs": [
    {
     "name": "stdout",
     "output_type": "stream",
     "text": [
      "Epoch 1/50\n",
      "6/6 [==============================] - 10s 212ms/step - loss: 1.0409 - accuracy: 0.5497 - val_loss: 0.7377 - val_accuracy: 0.4483\n",
      "Epoch 2/50\n",
      "6/6 [==============================] - 0s 43ms/step - loss: 0.7487 - accuracy: 0.5789 - val_loss: 0.6882 - val_accuracy: 0.5517\n",
      "Epoch 3/50\n",
      "6/6 [==============================] - 0s 42ms/step - loss: 0.8209 - accuracy: 0.4620 - val_loss: 0.8976 - val_accuracy: 0.5517\n",
      "Epoch 4/50\n",
      "6/6 [==============================] - 0s 42ms/step - loss: 0.7650 - accuracy: 0.5965 - val_loss: 0.7001 - val_accuracy: 0.4483\n",
      "Epoch 5/50\n",
      "6/6 [==============================] - 0s 44ms/step - loss: 0.7452 - accuracy: 0.4561 - val_loss: 0.8813 - val_accuracy: 0.5517\n",
      "Epoch 6/50\n",
      "6/6 [==============================] - 0s 42ms/step - loss: 0.7911 - accuracy: 0.5556 - val_loss: 0.7058 - val_accuracy: 0.4483\n",
      "Epoch 7/50\n",
      "6/6 [==============================] - 0s 47ms/step - loss: 0.7072 - accuracy: 0.5497 - val_loss: 0.7609 - val_accuracy: 0.5517\n",
      "Epoch 8/50\n",
      "6/6 [==============================] - 0s 45ms/step - loss: 0.7486 - accuracy: 0.5322 - val_loss: 0.6880 - val_accuracy: 0.5517\n",
      "Epoch 9/50\n",
      "6/6 [==============================] - 0s 40ms/step - loss: 0.7350 - accuracy: 0.5965 - val_loss: 0.6380 - val_accuracy: 0.5517\n",
      "Epoch 10/50\n",
      "6/6 [==============================] - 0s 39ms/step - loss: 0.6732 - accuracy: 0.5731 - val_loss: 0.6056 - val_accuracy: 0.5517\n",
      "Epoch 11/50\n",
      "6/6 [==============================] - 0s 41ms/step - loss: 0.5968 - accuracy: 0.7018 - val_loss: 0.5764 - val_accuracy: 0.5517\n",
      "Epoch 12/50\n",
      "6/6 [==============================] - 0s 43ms/step - loss: 0.5261 - accuracy: 0.6959 - val_loss: 0.3089 - val_accuracy: 0.9655\n",
      "Epoch 13/50\n",
      "6/6 [==============================] - 0s 41ms/step - loss: 0.3696 - accuracy: 0.8538 - val_loss: 0.1799 - val_accuracy: 0.9655\n",
      "Epoch 14/50\n",
      "6/6 [==============================] - 0s 42ms/step - loss: 0.1990 - accuracy: 0.9298 - val_loss: 0.1007 - val_accuracy: 1.0000\n",
      "Epoch 15/50\n",
      "6/6 [==============================] - 0s 42ms/step - loss: 0.1612 - accuracy: 0.9298 - val_loss: 0.0408 - val_accuracy: 1.0000\n",
      "Epoch 16/50\n",
      "6/6 [==============================] - 0s 43ms/step - loss: 0.1474 - accuracy: 0.9532 - val_loss: 0.0440 - val_accuracy: 1.0000\n",
      "Epoch 17/50\n",
      "6/6 [==============================] - 0s 45ms/step - loss: 0.0833 - accuracy: 0.9825 - val_loss: 0.0529 - val_accuracy: 1.0000\n",
      "Epoch 18/50\n",
      "6/6 [==============================] - 0s 48ms/step - loss: 0.0585 - accuracy: 0.9942 - val_loss: 0.0615 - val_accuracy: 1.0000\n",
      "Epoch 19/50\n",
      "6/6 [==============================] - 0s 48ms/step - loss: 0.1015 - accuracy: 0.9766 - val_loss: 0.0565 - val_accuracy: 1.0000\n",
      "Epoch 20/50\n",
      "6/6 [==============================] - 0s 49ms/step - loss: 0.0415 - accuracy: 0.9942 - val_loss: 0.0426 - val_accuracy: 1.0000\n",
      "Epoch 21/50\n",
      "6/6 [==============================] - 0s 57ms/step - loss: 0.0564 - accuracy: 0.9766 - val_loss: 0.0692 - val_accuracy: 0.9655\n",
      "Epoch 22/50\n",
      "6/6 [==============================] - 0s 63ms/step - loss: 0.0427 - accuracy: 0.9883 - val_loss: 0.0334 - val_accuracy: 1.0000\n",
      "Epoch 23/50\n",
      "6/6 [==============================] - 0s 66ms/step - loss: 0.0515 - accuracy: 0.9825 - val_loss: 0.0299 - val_accuracy: 1.0000\n",
      "Epoch 24/50\n",
      "6/6 [==============================] - 0s 52ms/step - loss: 0.0467 - accuracy: 0.9883 - val_loss: 0.0358 - val_accuracy: 1.0000\n",
      "Epoch 25/50\n",
      "6/6 [==============================] - 0s 46ms/step - loss: 0.0289 - accuracy: 1.0000 - val_loss: 0.0417 - val_accuracy: 1.0000\n",
      "Epoch 26/50\n",
      "6/6 [==============================] - 0s 45ms/step - loss: 0.0410 - accuracy: 0.9942 - val_loss: 0.0899 - val_accuracy: 0.9310\n",
      "Epoch 27/50\n",
      "6/6 [==============================] - 0s 42ms/step - loss: 0.0471 - accuracy: 0.9883 - val_loss: 0.0766 - val_accuracy: 0.9655\n",
      "Epoch 28/50\n",
      "6/6 [==============================] - 0s 48ms/step - loss: 0.0282 - accuracy: 0.9942 - val_loss: 0.0490 - val_accuracy: 1.0000\n",
      "Epoch 29/50\n",
      "6/6 [==============================] - 0s 43ms/step - loss: 0.0324 - accuracy: 0.9883 - val_loss: 0.0322 - val_accuracy: 1.0000\n",
      "Epoch 30/50\n",
      "6/6 [==============================] - 0s 44ms/step - loss: 0.0163 - accuracy: 0.9942 - val_loss: 0.0403 - val_accuracy: 1.0000\n",
      "Epoch 31/50\n",
      "6/6 [==============================] - 0s 43ms/step - loss: 0.0233 - accuracy: 0.9942 - val_loss: 0.0324 - val_accuracy: 1.0000\n",
      "Epoch 32/50\n",
      "6/6 [==============================] - 0s 43ms/step - loss: 0.0195 - accuracy: 1.0000 - val_loss: 0.0957 - val_accuracy: 0.9655\n",
      "Epoch 33/50\n",
      "6/6 [==============================] - 0s 43ms/step - loss: 0.0308 - accuracy: 0.9883 - val_loss: 0.0674 - val_accuracy: 0.9655\n",
      "Epoch 34/50\n",
      "6/6 [==============================] - 0s 44ms/step - loss: 0.0193 - accuracy: 0.9942 - val_loss: 0.0495 - val_accuracy: 0.9655\n",
      "Epoch 35/50\n",
      "6/6 [==============================] - 0s 44ms/step - loss: 0.0151 - accuracy: 0.9942 - val_loss: 0.0441 - val_accuracy: 0.9655\n",
      "Epoch 36/50\n",
      "6/6 [==============================] - 0s 47ms/step - loss: 0.0136 - accuracy: 1.0000 - val_loss: 0.0411 - val_accuracy: 0.9655\n",
      "Epoch 37/50\n",
      "6/6 [==============================] - 0s 42ms/step - loss: 0.0186 - accuracy: 0.9942 - val_loss: 0.0529 - val_accuracy: 0.9655\n",
      "Epoch 38/50\n",
      "6/6 [==============================] - 0s 43ms/step - loss: 0.0176 - accuracy: 0.9942 - val_loss: 0.0422 - val_accuracy: 0.9655\n",
      "Epoch 39/50\n",
      "6/6 [==============================] - 0s 48ms/step - loss: 0.0231 - accuracy: 0.9942 - val_loss: 0.0428 - val_accuracy: 0.9655\n",
      "Epoch 40/50\n",
      "6/6 [==============================] - 0s 44ms/step - loss: 0.0190 - accuracy: 0.9942 - val_loss: 0.0784 - val_accuracy: 0.9655\n",
      "Epoch 41/50\n",
      "6/6 [==============================] - 0s 49ms/step - loss: 0.0084 - accuracy: 1.0000 - val_loss: 0.0363 - val_accuracy: 0.9655\n",
      "Epoch 42/50\n",
      "6/6 [==============================] - 0s 48ms/step - loss: 0.0115 - accuracy: 1.0000 - val_loss: 0.0168 - val_accuracy: 1.0000\n",
      "Epoch 43/50\n",
      "6/6 [==============================] - 0s 43ms/step - loss: 0.0128 - accuracy: 1.0000 - val_loss: 0.0127 - val_accuracy: 1.0000\n",
      "Epoch 44/50\n",
      "6/6 [==============================] - 0s 42ms/step - loss: 0.0112 - accuracy: 1.0000 - val_loss: 0.0296 - val_accuracy: 1.0000\n",
      "Epoch 45/50\n",
      "6/6 [==============================] - 0s 44ms/step - loss: 0.0152 - accuracy: 1.0000 - val_loss: 0.0865 - val_accuracy: 0.9655\n",
      "Epoch 46/50\n",
      "6/6 [==============================] - 0s 42ms/step - loss: 0.0083 - accuracy: 1.0000 - val_loss: 0.0434 - val_accuracy: 0.9655\n",
      "Epoch 47/50\n",
      "6/6 [==============================] - 0s 51ms/step - loss: 0.0071 - accuracy: 1.0000 - val_loss: 0.0333 - val_accuracy: 1.0000\n",
      "Epoch 48/50\n",
      "6/6 [==============================] - 0s 43ms/step - loss: 0.0177 - accuracy: 0.9942 - val_loss: 0.0143 - val_accuracy: 1.0000\n",
      "Epoch 49/50\n",
      "6/6 [==============================] - 0s 42ms/step - loss: 0.0305 - accuracy: 0.9825 - val_loss: 0.0186 - val_accuracy: 1.0000\n",
      "Epoch 50/50\n",
      "6/6 [==============================] - 0s 42ms/step - loss: 0.0258 - accuracy: 0.9883 - val_loss: 0.0566 - val_accuracy: 0.9655\n"
     ]
    }
   ],
   "source": [
    "history = abstractor_model.fit(X_train, y_train, validation_data=(X_val, y_val), epochs=50, verbose=1)"
   ]
  },
  {
   "cell_type": "code",
   "execution_count": 14,
   "metadata": {},
   "outputs": [
    {
     "data": {
      "image/png": "[encoded data removed]",
      "text/plain": [
       "<Figure size 432x288 with 2 Axes>"
      ]
     },
     "metadata": {
      "needs_background": "light"
     },
     "output_type": "display_data"
    }
   ],
   "source": [
    "utils.plot_history(history, ('loss', 'accuracy'));"
   ]
  },
  {
   "cell_type": "code",
   "execution_count": 15,
   "metadata": {},
   "outputs": [
    {
     "name": "stdout",
     "output_type": "stream",
     "text": [
      "test accuracy: 98.61%\n",
      "\n"
     ]
    }
   ],
   "source": [
    "out = abstractor_model.predict(X_test, verbose=0)\n",
    "yhat = np.argmax(out, axis=1)\n",
    "print('test accuracy: %.2f%%\\n' % (100*np.mean(yhat==y_test)))\n"
   ]
  }
 ],
 "metadata": {
  "interpreter": {
   "hash": "075427e9d7b4e88d8be5fc9c4269e9099fc3e822a226ecef7da6e611953d0392"
  },
  "kernelspec": {
   "display_name": "Python 3",
   "language": "python",
   "name": "python3"
  },
  "language_info": {
   "codemirror_mode": {
    "name": "ipython",
    "version": 3
   },
   "file_extension": ".py",
   "mimetype": "text/x-python",
   "name": "python",
   "nbconvert_exporter": "python",
   "pygments_lexer": "ipython3",
   "version": "3.8.5"
  }
 },
 "nbformat": 4,
 "nbformat_minor": 2
}
