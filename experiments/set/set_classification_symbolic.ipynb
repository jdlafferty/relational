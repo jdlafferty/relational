{
 "cells": [
  {
   "cell_type": "code",
   "execution_count": 1,
   "metadata": {},
   "outputs": [],
   "source": [
    "import sys\n",
    "sys.path.append('../..'); sys.path.append('../'); \n",
    "import numpy as np\n",
    "from setGame import *\n",
    "import tensorflow as tf\n",
    "from tensorflow.keras import layers, Model\n",
    "from sklearn.model_selection import train_test_split\n",
    "import utils\n",
    "from transformer_modules import Encoder, Decoder, AddPositionalEmbedding\n",
    "from abstracters import SymbolicAbstracter, RelationalAbstracter"
   ]
  },
  {
   "cell_type": "code",
   "execution_count": 2,
   "metadata": {},
   "outputs": [],
   "source": [
    "setgame = SetGame(verbose=0)\n",
    "X, y, triples = setgame.generate_grouped_data()\n",
    "inds = (y==True)\n",
    "posi = np.arange(len(y))[inds]\n",
    "negi = np.arange(len(y))[~inds][0:len(posi)]\n",
    "inds = list(posi)+list(negi)\n",
    "X_balanced = X[inds,:]\n",
    "y_balanced = y[inds]\n",
    "triples_balanced = np.array(triples)[inds]\n"
   ]
  },
  {
   "cell_type": "code",
   "execution_count": 3,
   "metadata": {},
   "outputs": [
    {
     "data": {
      "image/png": "[encoded data removed]",
      "text/plain": [
       "<Figure size 216x144 with 3 Axes>"
      ]
     },
     "metadata": {
      "needs_background": "light"
     },
     "output_type": "display_data"
    },
    {
     "name": "stdout",
     "output_type": "stream",
     "text": [
      "0\n"
     ]
    },
    {
     "data": {
      "text/plain": [
       "[1, 1, 1, 0, 0, 0, 0, 1, 0, 0, 1, 0]"
      ]
     },
     "execution_count": 3,
     "metadata": {},
     "output_type": "execute_result"
    }
   ],
   "source": [
    "i = np.random.choice(range(len(y_balanced)))\n",
    "setgame.show_triple(triples_balanced[i]), y_balanced[i]\n",
    "attr = setgame.tabulate_attributes_for_triple(triples_balanced[i])\n",
    "iattr = [int(attr[i]) for i in range(len(attr))]\n",
    "print(y_balanced[i])\n",
    "iattr\n"
   ]
  },
  {
   "cell_type": "code",
   "execution_count": 4,
   "metadata": {},
   "outputs": [],
   "source": [
    "X = np.zeros((len(y_balanced), 12), dtype=int)\n",
    "y = np.zeros(len(y_balanced), dtype=int)\n",
    "\n",
    "for i in np.arange(len(y_balanced)):\n",
    "    attr = setgame.tabulate_attributes_for_triple(triples_balanced[i])\n",
    "    X[i] = [int(attr[i]) for i in range(len(attr))]\n",
    "    y[i] = y_balanced[i]\n"
   ]
  },
  {
   "cell_type": "code",
   "execution_count": 27,
   "metadata": {},
   "outputs": [
    {
     "data": {
      "text/plain": [
       "((42, 12), (8, 12), (648, 12))"
      ]
     },
     "execution_count": 27,
     "metadata": {},
     "output_type": "execute_result"
    }
   ],
   "source": [
    "train_size = 50\n",
    "test_size = 0.3\n",
    "val_size = 0.1\n",
    "\n",
    "X_train, X_test, y_train, y_test = train_test_split(X, y, train_size=train_size, test_size=test_size)\n",
    "X_train, X_val, y_train, y_val = train_test_split(X_train, y_train, test_size=val_size/(1-test_size))\n",
    "\n",
    "X_train.shape, X_val.shape, X_test.shape"
   ]
  },
  {
   "cell_type": "code",
   "execution_count": 6,
   "metadata": {},
   "outputs": [],
   "source": [
    "class TransformerClassifier(tf.keras.Model):\n",
    "    def __init__(self, num_layers, num_heads, dff,\n",
    "            input_vocab, embedding_dim, \n",
    "            dropout_rate=0.1, name='transformer_classifier'):\n",
    "\n",
    "        super().__init__(name=name)\n",
    "\n",
    "        if isinstance(input_vocab, int):\n",
    "            self.source_embedder = layers.Embedding(input_vocab, embedding_dim, name='source_embedder')\n",
    "        elif input_vocab == 'vector':\n",
    "            self.source_embedder = layers.TimeDistributed(layers.Dense(embedding_dim), name='source_embedder')\n",
    "        else:\n",
    "            raise ValueError(\n",
    "                \"`input_vocab` must be an integer if the input sequence is token-valued or \"\n",
    "                \"'vector' if the input sequence is vector-valued.\")\n",
    "\n",
    "        self.pos_embedding_adder_input = AddPositionalEmbedding(name='add_pos_embedding_input')\n",
    "        self.encoder = Encoder(num_layers=num_layers, num_heads=num_heads, dff=dff, dropout_rate=dropout_rate, name='encoder')\n",
    "        self.flattener = layers.Flatten()\n",
    "        self.final_layer = layers.Dense(2, name='final_layer')\n",
    "\n",
    "\n",
    "    def call(self, inputs):\n",
    "        source = inputs\n",
    "\n",
    "        x = self.source_embedder(source)\n",
    "        x = self.pos_embedding_adder_input(x)\n",
    "        encoder_context = self.encoder(x)\n",
    "        output = self.flattener(encoder_context)\n",
    "        logits = self.final_layer(output)\n",
    "\n",
    "        try:\n",
    "          # Drop the keras mask, so it doesn't scale the losses/metrics.\n",
    "          # b/250038731\n",
    "          del logits._keras_mask\n",
    "        except AttributeError:\n",
    "          pass\n",
    "\n",
    "        return logits\n",
    "        \n",
    "class AbstractorClassifier(tf.keras.Model):\n",
    "    def __init__(self, num_layers, num_heads, dff,\n",
    "            input_vocab, embedding_dim, dropout_rate=0.1, name='abstractor_classifier'):\n",
    "\n",
    "        super().__init__(name=name)\n",
    "\n",
    "        if isinstance(input_vocab, int):\n",
    "            self.source_embedder = layers.Embedding(input_vocab, embedding_dim, name='source_embedder')\n",
    "        elif input_vocab == 'vector':\n",
    "            self.source_embedder = layers.TimeDistributed(layers.Dense(embedding_dim), name='source_embedder')\n",
    "        else:\n",
    "            raise ValueError(\n",
    "                \"`input_vocab` must be an integer if the input sequence is token-valued or \"\n",
    "                \"'vector' if the input sequence is vector-valued.\")\n",
    "\n",
    "        self.pos_embedding_adder_input = AddPositionalEmbedding(name='add_pos_embedding_input')\n",
    "        self.encoder = Encoder(num_layers=num_layers, num_heads=num_heads, dff=dff, dropout_rate=dropout_rate, name='encoder')\n",
    "        self.abstractor = RelationalAbstracter(num_layers=num_layers, num_heads=num_heads, dff=dff, dropout_rate=dropout_rate, name='abstractor')\n",
    "        self.flattener = layers.Flatten()\n",
    "        self.final_layer = layers.Dense(2, name='final_layer')\n",
    "\n",
    "\n",
    "    def call(self, inputs):\n",
    "        source = inputs\n",
    "\n",
    "        x = self.source_embedder(source)\n",
    "        x = self.pos_embedding_adder_input(x)\n",
    "        encoder_context = self.encoder(x)\n",
    "        abstracted_context = self.abstractor(encoder_context)\n",
    "        outputs = self.flattener(abstracted_context)\n",
    "        logits = self.final_layer(outputs)\n",
    "\n",
    "        try:\n",
    "          # Drop the keras mask, so it doesn't scale the losses/metrics.\n",
    "          # b/250038731\n",
    "          del logits._keras_mask\n",
    "        except AttributeError:\n",
    "          pass\n",
    "\n",
    "        return logits\n"
   ]
  },
  {
   "cell_type": "code",
   "execution_count": 17,
   "metadata": {},
   "outputs": [],
   "source": [
    "create_opt = lambda : tf.keras.optimizers.Adam()\n",
    "loss = tf.keras.losses.SparseCategoricalCrossentropy(from_logits=True, name='binary_crossentropy')"
   ]
  },
  {
   "cell_type": "code",
   "execution_count": 28,
   "metadata": {},
   "outputs": [
    {
     "name": "stdout",
     "output_type": "stream",
     "text": [
      "Model: \"transformer_classifier\"\n",
      "_________________________________________________________________\n",
      " Layer (type)                Output Shape              Param #   \n",
      "=================================================================\n",
      " source_embedder (Embedding)  multiple                 128       \n",
      "                                                                 \n",
      " add_pos_embedding_input (Ad  multiple                 0         \n",
      " dPositionalEmbedding)                                           \n",
      "                                                                 \n",
      " encoder (Encoder)           multiple                  83584     \n",
      "                                                                 \n",
      " flatten_4 (Flatten)         multiple                  0         \n",
      "                                                                 \n",
      " final_layer (Dense)         multiple                  1538      \n",
      "                                                                 \n",
      "=================================================================\n",
      "Total params: 85,250\n",
      "Trainable params: 85,250\n",
      "Non-trainable params: 0\n",
      "_________________________________________________________________\n"
     ]
    }
   ],
   "source": [
    "transformer_model = TransformerClassifier(num_layers=2, num_heads=2, dff=64, input_vocab=2, embedding_dim=64)\n",
    "transformer_model.compile(loss=loss, optimizer=create_opt(), metrics=['accuracy'])\n",
    "transformer_model(X[:32])\n",
    "transformer_model.summary()"
   ]
  },
  {
   "cell_type": "code",
   "execution_count": 29,
   "metadata": {},
   "outputs": [
    {
     "name": "stdout",
     "output_type": "stream",
     "text": [
      "Epoch 1/50\n",
      "2/2 [==============================] - 4s 493ms/step - loss: 1.1837 - accuracy: 0.4524 - val_loss: 2.5093 - val_accuracy: 0.3750\n",
      "Epoch 2/50\n",
      "2/2 [==============================] - 0s 56ms/step - loss: 1.3544 - accuracy: 0.6429 - val_loss: 1.3728 - val_accuracy: 0.3750\n",
      "Epoch 3/50\n",
      "2/2 [==============================] - 0s 59ms/step - loss: 0.7060 - accuracy: 0.6667 - val_loss: 0.8401 - val_accuracy: 0.6250\n",
      "Epoch 4/50\n",
      "2/2 [==============================] - 0s 61ms/step - loss: 0.9246 - accuracy: 0.4286 - val_loss: 0.8523 - val_accuracy: 0.5000\n",
      "Epoch 5/50\n",
      "2/2 [==============================] - 0s 62ms/step - loss: 0.8865 - accuracy: 0.4286 - val_loss: 1.0125 - val_accuracy: 0.3750\n",
      "Epoch 6/50\n",
      "2/2 [==============================] - 0s 62ms/step - loss: 0.6293 - accuracy: 0.7143 - val_loss: 1.3108 - val_accuracy: 0.3750\n",
      "Epoch 7/50\n",
      "2/2 [==============================] - 0s 57ms/step - loss: 0.5809 - accuracy: 0.7143 - val_loss: 1.1717 - val_accuracy: 0.3750\n",
      "Epoch 8/50\n",
      "2/2 [==============================] - 0s 62ms/step - loss: 0.6599 - accuracy: 0.6667 - val_loss: 0.9394 - val_accuracy: 0.3750\n",
      "Epoch 9/50\n",
      "2/2 [==============================] - 0s 61ms/step - loss: 0.5392 - accuracy: 0.7381 - val_loss: 0.8901 - val_accuracy: 0.3750\n",
      "Epoch 10/50\n",
      "2/2 [==============================] - 0s 63ms/step - loss: 0.6251 - accuracy: 0.6667 - val_loss: 0.9167 - val_accuracy: 0.3750\n",
      "Epoch 11/50\n",
      "2/2 [==============================] - 0s 73ms/step - loss: 0.6181 - accuracy: 0.6190 - val_loss: 0.9987 - val_accuracy: 0.5000\n",
      "Epoch 12/50\n",
      "2/2 [==============================] - 0s 71ms/step - loss: 0.5948 - accuracy: 0.7857 - val_loss: 1.2294 - val_accuracy: 0.3750\n",
      "Epoch 13/50\n",
      "2/2 [==============================] - 0s 74ms/step - loss: 0.6333 - accuracy: 0.7381 - val_loss: 1.3786 - val_accuracy: 0.2500\n",
      "Epoch 14/50\n",
      "2/2 [==============================] - 0s 64ms/step - loss: 0.6828 - accuracy: 0.6667 - val_loss: 1.2760 - val_accuracy: 0.3750\n",
      "Epoch 15/50\n",
      "2/2 [==============================] - 0s 63ms/step - loss: 0.6144 - accuracy: 0.7381 - val_loss: 1.1637 - val_accuracy: 0.3750\n",
      "Epoch 16/50\n",
      "2/2 [==============================] - 0s 65ms/step - loss: 0.5899 - accuracy: 0.7619 - val_loss: 1.1344 - val_accuracy: 0.3750\n",
      "Epoch 17/50\n",
      "2/2 [==============================] - 0s 67ms/step - loss: 0.6005 - accuracy: 0.7857 - val_loss: 1.1301 - val_accuracy: 0.3750\n",
      "Epoch 18/50\n",
      "2/2 [==============================] - 0s 66ms/step - loss: 0.5916 - accuracy: 0.7143 - val_loss: 1.1578 - val_accuracy: 0.5000\n",
      "Epoch 19/50\n",
      "2/2 [==============================] - 0s 65ms/step - loss: 0.5367 - accuracy: 0.8095 - val_loss: 1.2193 - val_accuracy: 0.3750\n",
      "Epoch 20/50\n",
      "2/2 [==============================] - 0s 69ms/step - loss: 0.5215 - accuracy: 0.7143 - val_loss: 1.3402 - val_accuracy: 0.3750\n",
      "Epoch 21/50\n",
      "2/2 [==============================] - 0s 66ms/step - loss: 0.5604 - accuracy: 0.7619 - val_loss: 1.4559 - val_accuracy: 0.3750\n",
      "Epoch 22/50\n",
      "2/2 [==============================] - 0s 71ms/step - loss: 0.6022 - accuracy: 0.7619 - val_loss: 1.5081 - val_accuracy: 0.3750\n",
      "Epoch 23/50\n",
      "2/2 [==============================] - 0s 80ms/step - loss: 0.5663 - accuracy: 0.7619 - val_loss: 1.4087 - val_accuracy: 0.3750\n",
      "Epoch 24/50\n",
      "2/2 [==============================] - 0s 70ms/step - loss: 0.4992 - accuracy: 0.8095 - val_loss: 1.2430 - val_accuracy: 0.5000\n",
      "Epoch 25/50\n",
      "2/2 [==============================] - 0s 81ms/step - loss: 0.5280 - accuracy: 0.7619 - val_loss: 1.2058 - val_accuracy: 0.2500\n",
      "Epoch 26/50\n",
      "2/2 [==============================] - 0s 71ms/step - loss: 0.4703 - accuracy: 0.7381 - val_loss: 1.2499 - val_accuracy: 0.5000\n",
      "Epoch 27/50\n",
      "2/2 [==============================] - 0s 71ms/step - loss: 0.4466 - accuracy: 0.8095 - val_loss: 1.3930 - val_accuracy: 0.3750\n",
      "Epoch 28/50\n",
      "2/2 [==============================] - 0s 60ms/step - loss: 0.4297 - accuracy: 0.8095 - val_loss: 1.4816 - val_accuracy: 0.3750\n",
      "Epoch 29/50\n",
      "2/2 [==============================] - 0s 64ms/step - loss: 0.4023 - accuracy: 0.8333 - val_loss: 1.3784 - val_accuracy: 0.3750\n",
      "Epoch 30/50\n",
      "2/2 [==============================] - 0s 66ms/step - loss: 0.4683 - accuracy: 0.8095 - val_loss: 1.2053 - val_accuracy: 0.5000\n",
      "Epoch 31/50\n",
      "2/2 [==============================] - 0s 75ms/step - loss: 0.4765 - accuracy: 0.7857 - val_loss: 1.1569 - val_accuracy: 0.3750\n",
      "Epoch 32/50\n",
      "2/2 [==============================] - 0s 76ms/step - loss: 0.5387 - accuracy: 0.7857 - val_loss: 1.1881 - val_accuracy: 0.5000\n",
      "Epoch 33/50\n",
      "2/2 [==============================] - 0s 72ms/step - loss: 0.3873 - accuracy: 0.7857 - val_loss: 1.2387 - val_accuracy: 0.3750\n",
      "Epoch 34/50\n",
      "2/2 [==============================] - 0s 60ms/step - loss: 0.4111 - accuracy: 0.8333 - val_loss: 1.3037 - val_accuracy: 0.3750\n",
      "Epoch 35/50\n",
      "2/2 [==============================] - 0s 68ms/step - loss: 0.4207 - accuracy: 0.8333 - val_loss: 1.3284 - val_accuracy: 0.3750\n",
      "Epoch 36/50\n",
      "2/2 [==============================] - 0s 52ms/step - loss: 0.4131 - accuracy: 0.8333 - val_loss: 1.2623 - val_accuracy: 0.3750\n",
      "Epoch 37/50\n",
      "2/2 [==============================] - 0s 57ms/step - loss: 0.5246 - accuracy: 0.7619 - val_loss: 1.1861 - val_accuracy: 0.5000\n",
      "Epoch 38/50\n",
      "2/2 [==============================] - 0s 62ms/step - loss: 0.4143 - accuracy: 0.7857 - val_loss: 1.1515 - val_accuracy: 0.3750\n",
      "Epoch 39/50\n",
      "2/2 [==============================] - 0s 61ms/step - loss: 0.4367 - accuracy: 0.8333 - val_loss: 1.2162 - val_accuracy: 0.5000\n",
      "Epoch 40/50\n",
      "2/2 [==============================] - 0s 64ms/step - loss: 0.3556 - accuracy: 0.8810 - val_loss: 1.3026 - val_accuracy: 0.3750\n",
      "Epoch 41/50\n",
      "2/2 [==============================] - 0s 66ms/step - loss: 0.4170 - accuracy: 0.8095 - val_loss: 1.2612 - val_accuracy: 0.3750\n",
      "Epoch 42/50\n",
      "2/2 [==============================] - 0s 59ms/step - loss: 0.3940 - accuracy: 0.7857 - val_loss: 1.1520 - val_accuracy: 0.5000\n",
      "Epoch 43/50\n",
      "2/2 [==============================] - 0s 63ms/step - loss: 0.4318 - accuracy: 0.8333 - val_loss: 1.0866 - val_accuracy: 0.5000\n",
      "Epoch 44/50\n",
      "2/2 [==============================] - 0s 135ms/step - loss: 0.3862 - accuracy: 0.9286 - val_loss: 1.0653 - val_accuracy: 0.5000\n",
      "Epoch 45/50\n",
      "2/2 [==============================] - 0s 56ms/step - loss: 0.4158 - accuracy: 0.8095 - val_loss: 1.1078 - val_accuracy: 0.5000\n",
      "Epoch 46/50\n",
      "2/2 [==============================] - 0s 81ms/step - loss: 0.3802 - accuracy: 0.9048 - val_loss: 1.1663 - val_accuracy: 0.5000\n",
      "Epoch 47/50\n",
      "2/2 [==============================] - 0s 67ms/step - loss: 0.4188 - accuracy: 0.8571 - val_loss: 1.1931 - val_accuracy: 0.5000\n",
      "Epoch 48/50\n",
      "2/2 [==============================] - 0s 76ms/step - loss: 0.3793 - accuracy: 0.8571 - val_loss: 1.0514 - val_accuracy: 0.5000\n",
      "Epoch 49/50\n",
      "2/2 [==============================] - 0s 91ms/step - loss: 0.3830 - accuracy: 0.8333 - val_loss: 0.8942 - val_accuracy: 0.6250\n",
      "Epoch 50/50\n",
      "2/2 [==============================] - 0s 64ms/step - loss: 0.4019 - accuracy: 0.8810 - val_loss: 0.8736 - val_accuracy: 0.5000\n"
     ]
    }
   ],
   "source": [
    "history = transformer_model.fit(X_train, y_train, validation_data=(X_val, y_val), epochs=50, verbose=1)"
   ]
  },
  {
   "cell_type": "code",
   "execution_count": 30,
   "metadata": {},
   "outputs": [
    {
     "data": {
      "image/png": "[encoded data removed]",
      "text/plain": [
       "<Figure size 432x288 with 2 Axes>"
      ]
     },
     "metadata": {
      "needs_background": "light"
     },
     "output_type": "display_data"
    }
   ],
   "source": [
    "utils.plot_history(history, ('loss', 'accuracy'));"
   ]
  },
  {
   "cell_type": "code",
   "execution_count": 31,
   "metadata": {},
   "outputs": [
    {
     "name": "stdout",
     "output_type": "stream",
     "text": [
      "test accuracy: 58.33%\n",
      "\n"
     ]
    }
   ],
   "source": [
    "out = transformer_model.predict(X_test, verbose=0)\n",
    "yhat = np.argmax(out, axis=1)\n",
    "print('test accuracy: %.2f%%\\n' % (100*np.mean(yhat==y_test)))"
   ]
  },
  {
   "cell_type": "code",
   "execution_count": 32,
   "metadata": {},
   "outputs": [
    {
     "name": "stdout",
     "output_type": "stream",
     "text": [
      "Model: \"abstractor_classifier\"\n",
      "_________________________________________________________________\n",
      " Layer (type)                Output Shape              Param #   \n",
      "=================================================================\n",
      " source_embedder (Embedding)  multiple                 128       \n",
      "                                                                 \n",
      " add_pos_embedding_input (Ad  multiple                 0         \n",
      " dPositionalEmbedding)                                           \n",
      "                                                                 \n",
      " encoder (Encoder)           multiple                  83584     \n",
      "                                                                 \n",
      " abstractor (RelationalAbstr  multiple                 151040    \n",
      " acter)                                                          \n",
      "                                                                 \n",
      " flatten_5 (Flatten)         multiple                  0         \n",
      "                                                                 \n",
      " final_layer (Dense)         multiple                  1538      \n",
      "                                                                 \n",
      "=================================================================\n",
      "Total params: 236,290\n",
      "Trainable params: 236,290\n",
      "Non-trainable params: 0\n",
      "_________________________________________________________________\n"
     ]
    }
   ],
   "source": [
    "abstractor_model = AbstractorClassifier(num_layers=2, num_heads=2, dff=64, input_vocab=2, embedding_dim=64)\n",
    "abstractor_model.compile(loss=loss, optimizer=create_opt(), metrics=['accuracy'])\n",
    "abstractor_model(X[:32])\n",
    "abstractor_model.summary()"
   ]
  },
  {
   "cell_type": "code",
   "execution_count": 23,
   "metadata": {},
   "outputs": [
    {
     "name": "stdout",
     "output_type": "stream",
     "text": [
      "Epoch 1/50\n",
      "3/3 [==============================] - 10s 490ms/step - loss: 1.3898 - accuracy: 0.5176 - val_loss: 0.7040 - val_accuracy: 0.4667\n",
      "Epoch 2/50\n",
      "3/3 [==============================] - 0s 67ms/step - loss: 0.9276 - accuracy: 0.4824 - val_loss: 0.7235 - val_accuracy: 0.4667\n",
      "Epoch 3/50\n",
      "3/3 [==============================] - 0s 59ms/step - loss: 0.9652 - accuracy: 0.4471 - val_loss: 0.8572 - val_accuracy: 0.5333\n",
      "Epoch 4/50\n",
      "3/3 [==============================] - 0s 64ms/step - loss: 0.7825 - accuracy: 0.5294 - val_loss: 0.7872 - val_accuracy: 0.4667\n",
      "Epoch 5/50\n",
      "3/3 [==============================] - 0s 62ms/step - loss: 0.8046 - accuracy: 0.5059 - val_loss: 0.6932 - val_accuracy: 0.5333\n",
      "Epoch 6/50\n",
      "3/3 [==============================] - 0s 60ms/step - loss: 0.7977 - accuracy: 0.4353 - val_loss: 0.7104 - val_accuracy: 0.5333\n",
      "Epoch 7/50\n",
      "3/3 [==============================] - 0s 68ms/step - loss: 0.7768 - accuracy: 0.4706 - val_loss: 0.6872 - val_accuracy: 0.5333\n",
      "Epoch 8/50\n",
      "3/3 [==============================] - 0s 61ms/step - loss: 0.8482 - accuracy: 0.3882 - val_loss: 0.7366 - val_accuracy: 0.4667\n",
      "Epoch 9/50\n",
      "3/3 [==============================] - 0s 62ms/step - loss: 0.7652 - accuracy: 0.5059 - val_loss: 0.6788 - val_accuracy: 0.5333\n",
      "Epoch 10/50\n",
      "3/3 [==============================] - 0s 62ms/step - loss: 0.7541 - accuracy: 0.4353 - val_loss: 0.6529 - val_accuracy: 0.6667\n",
      "Epoch 11/50\n",
      "3/3 [==============================] - 0s 61ms/step - loss: 0.6436 - accuracy: 0.6588 - val_loss: 0.6336 - val_accuracy: 0.5333\n",
      "Epoch 12/50\n",
      "3/3 [==============================] - 0s 58ms/step - loss: 0.6930 - accuracy: 0.6471 - val_loss: 0.5989 - val_accuracy: 0.6000\n",
      "Epoch 13/50\n",
      "3/3 [==============================] - 0s 64ms/step - loss: 0.6749 - accuracy: 0.5765 - val_loss: 0.5489 - val_accuracy: 0.7333\n",
      "Epoch 14/50\n",
      "3/3 [==============================] - 0s 74ms/step - loss: 0.5481 - accuracy: 0.7529 - val_loss: 0.4575 - val_accuracy: 1.0000\n",
      "Epoch 15/50\n",
      "3/3 [==============================] - 0s 65ms/step - loss: 0.4568 - accuracy: 0.8706 - val_loss: 0.3726 - val_accuracy: 0.9333\n",
      "Epoch 16/50\n",
      "3/3 [==============================] - 0s 79ms/step - loss: 0.3652 - accuracy: 0.8706 - val_loss: 0.2430 - val_accuracy: 1.0000\n",
      "Epoch 17/50\n",
      "3/3 [==============================] - 0s 66ms/step - loss: 0.2351 - accuracy: 0.9529 - val_loss: 0.1399 - val_accuracy: 1.0000\n",
      "Epoch 18/50\n",
      "3/3 [==============================] - 0s 63ms/step - loss: 0.1407 - accuracy: 1.0000 - val_loss: 0.0870 - val_accuracy: 1.0000\n",
      "Epoch 19/50\n",
      "3/3 [==============================] - 0s 59ms/step - loss: 0.1202 - accuracy: 0.9765 - val_loss: 0.0575 - val_accuracy: 1.0000\n",
      "Epoch 20/50\n",
      "3/3 [==============================] - 0s 57ms/step - loss: 0.0750 - accuracy: 0.9882 - val_loss: 0.0397 - val_accuracy: 1.0000\n",
      "Epoch 21/50\n",
      "3/3 [==============================] - 0s 62ms/step - loss: 0.0643 - accuracy: 1.0000 - val_loss: 0.0288 - val_accuracy: 1.0000\n",
      "Epoch 22/50\n",
      "3/3 [==============================] - 0s 66ms/step - loss: 0.0533 - accuracy: 0.9882 - val_loss: 0.0272 - val_accuracy: 1.0000\n",
      "Epoch 23/50\n",
      "3/3 [==============================] - 0s 61ms/step - loss: 0.0338 - accuracy: 1.0000 - val_loss: 0.0214 - val_accuracy: 1.0000\n",
      "Epoch 24/50\n",
      "3/3 [==============================] - 0s 62ms/step - loss: 0.0295 - accuracy: 0.9882 - val_loss: 0.0146 - val_accuracy: 1.0000\n",
      "Epoch 25/50\n",
      "3/3 [==============================] - 0s 65ms/step - loss: 0.0194 - accuracy: 1.0000 - val_loss: 0.0099 - val_accuracy: 1.0000\n",
      "Epoch 26/50\n",
      "3/3 [==============================] - 0s 60ms/step - loss: 0.0172 - accuracy: 1.0000 - val_loss: 0.0081 - val_accuracy: 1.0000\n",
      "Epoch 27/50\n",
      "3/3 [==============================] - 0s 61ms/step - loss: 0.0100 - accuracy: 1.0000 - val_loss: 0.0079 - val_accuracy: 1.0000\n",
      "Epoch 28/50\n",
      "3/3 [==============================] - 0s 61ms/step - loss: 0.0176 - accuracy: 1.0000 - val_loss: 0.0060 - val_accuracy: 1.0000\n",
      "Epoch 29/50\n",
      "3/3 [==============================] - 0s 62ms/step - loss: 0.0151 - accuracy: 1.0000 - val_loss: 0.0068 - val_accuracy: 1.0000\n",
      "Epoch 30/50\n",
      "3/3 [==============================] - 0s 59ms/step - loss: 0.0172 - accuracy: 1.0000 - val_loss: 0.0050 - val_accuracy: 1.0000\n",
      "Epoch 31/50\n",
      "3/3 [==============================] - 0s 68ms/step - loss: 0.0095 - accuracy: 1.0000 - val_loss: 0.0034 - val_accuracy: 1.0000\n",
      "Epoch 32/50\n",
      "3/3 [==============================] - 0s 68ms/step - loss: 0.0315 - accuracy: 0.9882 - val_loss: 0.0030 - val_accuracy: 1.0000\n",
      "Epoch 33/50\n",
      "3/3 [==============================] - 0s 73ms/step - loss: 0.0111 - accuracy: 1.0000 - val_loss: 0.0048 - val_accuracy: 1.0000\n",
      "Epoch 34/50\n",
      "3/3 [==============================] - 0s 77ms/step - loss: 0.0138 - accuracy: 1.0000 - val_loss: 0.0029 - val_accuracy: 1.0000\n",
      "Epoch 35/50\n",
      "3/3 [==============================] - 0s 75ms/step - loss: 0.0597 - accuracy: 0.9882 - val_loss: 0.1441 - val_accuracy: 0.8000\n",
      "Epoch 36/50\n",
      "3/3 [==============================] - 0s 67ms/step - loss: 0.0298 - accuracy: 0.9882 - val_loss: 0.0026 - val_accuracy: 1.0000\n",
      "Epoch 37/50\n",
      "3/3 [==============================] - 0s 72ms/step - loss: 0.0168 - accuracy: 1.0000 - val_loss: 0.0029 - val_accuracy: 1.0000\n",
      "Epoch 38/50\n",
      "3/3 [==============================] - 0s 61ms/step - loss: 0.0067 - accuracy: 1.0000 - val_loss: 0.0027 - val_accuracy: 1.0000\n",
      "Epoch 39/50\n",
      "3/3 [==============================] - 0s 64ms/step - loss: 0.0096 - accuracy: 1.0000 - val_loss: 0.0032 - val_accuracy: 1.0000\n",
      "Epoch 40/50\n",
      "3/3 [==============================] - 0s 61ms/step - loss: 0.0204 - accuracy: 0.9882 - val_loss: 0.0028 - val_accuracy: 1.0000\n",
      "Epoch 41/50\n",
      "3/3 [==============================] - 0s 65ms/step - loss: 0.0072 - accuracy: 1.0000 - val_loss: 0.0026 - val_accuracy: 1.0000\n",
      "Epoch 42/50\n",
      "3/3 [==============================] - 0s 68ms/step - loss: 0.0071 - accuracy: 1.0000 - val_loss: 0.0027 - val_accuracy: 1.0000\n",
      "Epoch 43/50\n",
      "3/3 [==============================] - 0s 74ms/step - loss: 0.0088 - accuracy: 1.0000 - val_loss: 0.0030 - val_accuracy: 1.0000\n",
      "Epoch 44/50\n",
      "3/3 [==============================] - 0s 66ms/step - loss: 0.0092 - accuracy: 1.0000 - val_loss: 0.0024 - val_accuracy: 1.0000\n",
      "Epoch 45/50\n",
      "3/3 [==============================] - 0s 68ms/step - loss: 0.0047 - accuracy: 1.0000 - val_loss: 0.0023 - val_accuracy: 1.0000\n",
      "Epoch 46/50\n",
      "3/3 [==============================] - 0s 62ms/step - loss: 0.0060 - accuracy: 1.0000 - val_loss: 0.0022 - val_accuracy: 1.0000\n",
      "Epoch 47/50\n",
      "3/3 [==============================] - 0s 69ms/step - loss: 0.0033 - accuracy: 1.0000 - val_loss: 0.0022 - val_accuracy: 1.0000\n",
      "Epoch 48/50\n",
      "3/3 [==============================] - 0s 66ms/step - loss: 0.0043 - accuracy: 1.0000 - val_loss: 0.0020 - val_accuracy: 1.0000\n",
      "Epoch 49/50\n",
      "3/3 [==============================] - 0s 77ms/step - loss: 0.0031 - accuracy: 1.0000 - val_loss: 0.0017 - val_accuracy: 1.0000\n",
      "Epoch 50/50\n",
      "3/3 [==============================] - 0s 76ms/step - loss: 0.0035 - accuracy: 1.0000 - val_loss: 0.0015 - val_accuracy: 1.0000\n"
     ]
    }
   ],
   "source": [
    "history = abstractor_model.fit(X_train, y_train, validation_data=(X_val, y_val), epochs=50, verbose=1)"
   ]
  },
  {
   "cell_type": "code",
   "execution_count": 24,
   "metadata": {},
   "outputs": [
    {
     "data": {
      "image/png": "[encoded data removed]",
      "text/plain": [
       "<Figure size 432x288 with 2 Axes>"
      ]
     },
     "metadata": {
      "needs_background": "light"
     },
     "output_type": "display_data"
    }
   ],
   "source": [
    "utils.plot_history(history, ('loss', 'accuracy'));"
   ]
  },
  {
   "cell_type": "code",
   "execution_count": 26,
   "metadata": {},
   "outputs": [
    {
     "name": "stdout",
     "output_type": "stream",
     "text": [
      "test accuracy: 92.44%\n",
      "\n"
     ]
    }
   ],
   "source": [
    "out = abstractor_model.predict(X_test, verbose=0)\n",
    "yhat = np.argmax(out, axis=1)\n",
    "print('test accuracy: %.2f%%\\n' % (100*np.mean(yhat==y_test)))\n"
   ]
  }
 ],
 "metadata": {
  "interpreter": {
   "hash": "075427e9d7b4e88d8be5fc9c4269e9099fc3e822a226ecef7da6e611953d0392"
  },
  "kernelspec": {
   "display_name": "Python 3",
   "language": "python",
   "name": "python3"
  },
  "language_info": {
   "codemirror_mode": {
    "name": "ipython",
    "version": 3
   },
   "file_extension": ".py",
   "mimetype": "text/x-python",
   "name": "python",
   "nbconvert_exporter": "python",
   "pygments_lexer": "ipython3",
   "version": "3.8.5"
  }
 },
 "nbformat": 4,
 "nbformat_minor": 2
}
