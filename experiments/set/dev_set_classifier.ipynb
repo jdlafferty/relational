{
 "cells": [
  {
   "cell_type": "code",
   "execution_count": 1,
   "metadata": {},
   "outputs": [],
   "source": [
    "%load_ext autoreload\n",
    "%autoreload 2\n",
    "\n",
    "import sys\n",
    "sys.path.append('../..'); sys.path.append('../'); \n",
    "\n",
    "import numpy as np\n",
    "import matplotlib.pyplot as plt\n",
    "from setGame import *\n",
    "import tensorflow as tf\n",
    "import utils"
   ]
  },
  {
   "cell_type": "code",
   "execution_count": 2,
   "metadata": {},
   "outputs": [],
   "source": [
    "setgame = SetGame()"
   ]
  },
  {
   "cell_type": "code",
   "execution_count": 3,
   "metadata": {},
   "outputs": [
    {
     "data": {
      "image/png": "[encoded data removed]",
      "text/plain": [
       "<Figure size 432x72 with 6 Axes>"
      ]
     },
     "metadata": {
      "needs_background": "light"
     },
     "output_type": "display_data"
    },
    {
     "name": "stdout",
     "output_type": "stream",
     "text": [
      "[3 4 5]\n"
     ]
    }
   ],
   "source": [
    "num_cards=6\n",
    "_ = setgame.init_state(num_cards=num_cards, shuffle=False)\n",
    "hand = setgame.state.dealt_cards\n",
    "fig, axarr = plt.subplots(1, len(hand), figsize=(len(hand)*1,1))\n",
    "pi = np.random.choice(range(len(hand)), size=len(hand), replace=False)\n",
    "for i in range(len(hand)):\n",
    "    card = hand[i]\n",
    "    axarr[i].imshow(setgame.image_of_card(card[0], card[1]))\n",
    "    axarr[i].axis('off')\n",
    "plt.show()\n",
    "print(np.sort(np.argsort(pi)[0:3]))\n"
   ]
  },
  {
   "cell_type": "code",
   "execution_count": 4,
   "metadata": {},
   "outputs": [],
   "source": [
    "import tensorflow as tf\n",
    "from tensorflow.keras import layers, Model, Sequential\n",
    "from sklearn.model_selection import train_test_split\n",
    "\n",
    "class SetEmbedder():\n",
    "    def __init__(self, ff_dim1=128, ff_dim2=64):\n",
    "        img_input = layers.Input(shape=(70, 50, 4))\n",
    "        x = layers.Conv2D(32, (5, 5), activation='relu')(img_input)\n",
    "        x = layers.MaxPooling2D((4,4))(x)\n",
    "        x = layers.Conv2D(32, (5, 5), activation='relu')(x)\n",
    "        x = layers.MaxPooling2D((4,4))(x)\n",
    "        x = layers.Flatten()(x)\n",
    "        x = layers.Dense(ff_dim1, activation='relu')(x)\n",
    "        x = layers.Dense(ff_dim2, activation='tanh')(x)\n",
    "        outputs = layers.Dense(12, activation='sigmoid')(x)\n",
    "        self.model = Model(inputs=img_input, outputs=outputs)\n",
    "        self.embed = Model(self.model.input, self.model.layers[7].output)\n",
    "        self.model.summary()\n",
    "        opt = tf.keras.optimizers.Adam(learning_rate=0.001)\n",
    "        self.model.compile(loss='binary_crossentropy', optimizer=opt, metrics=['accuracy'])\n",
    "        self.model_initial_weights = self.model.get_weights()\n",
    "\n",
    "    def train(self, X_train, y_train, epochs=2):\n",
    "        self.model.set_weights(self.model_initial_weights)\n",
    "        self.model.fit(X_train, y_train, epochs=epochs, batch_size=32, verbose=1)\n",
    "\n",
    "    def predict(self, X_test):\n",
    "        out = self.model.predict(X_test, verbose=0)\n",
    "        return out\n",
    "\n",
    "    def embed(self, X_test):\n",
    "        out = self.embed(X_test, verbose=0)\n",
    "        return out"
   ]
  },
  {
   "cell_type": "code",
   "execution_count": 5,
   "metadata": {},
   "outputs": [],
   "source": [
    "def convert_to_binary(attrs):\n",
    "    color = {'red':[1,0,0], 'green':[0,1,0], 'purple':[0,0,1]}\n",
    "    pattern = {'empty':[1,0,0], 'striped':[0,1,0], 'solid':[0,0,1]}\n",
    "    shape = {'diamond':[1,0,0], 'oval':[0,1,0], 'squiggle':[0,0,1]}\n",
    "    number = {'one':[1,0,0], 'two':[0,1,0], 'three':[0,0,1]}\n",
    "    binary_attrs = number[attrs[0]] + color[attrs[1]] + pattern[attrs[2]] + shape[attrs[3]]\n",
    "    return binary_attrs\n",
    "\n",
    "n = 1000\n",
    "X = np.empty((n, 70, 50, 4), dtype=np.float32)\n",
    "y = np.empty((n, 12), dtype=int)\n",
    "\n",
    "card_coord = [(i,j) for i in np.arange(9) for j in np.arange(9)]\n",
    "for i in np.arange(n):\n",
    "    c = np.random.choice(np.arange(81), size=1)[0]\n",
    "    (row, col) = card_coord[c]\n",
    "    attrs = setgame.attributes_of_card(row, col)\n",
    "    binary_attrs = convert_to_binary(attrs)\n",
    "    X[i] = setgame.image_of_card(row, col)\n",
    "    y[i] = binary_attrs\n"
   ]
  },
  {
   "cell_type": "code",
   "execution_count": 6,
   "metadata": {},
   "outputs": [
    {
     "name": "stdout",
     "output_type": "stream",
     "text": [
      "Model: \"model\"\n",
      "_________________________________________________________________\n",
      " Layer (type)                Output Shape              Param #   \n",
      "=================================================================\n",
      " input_1 (InputLayer)        [(None, 70, 50, 4)]       0         \n",
      "                                                                 \n",
      " conv2d (Conv2D)             (None, 66, 46, 32)        3232      \n",
      "                                                                 \n",
      " max_pooling2d (MaxPooling2D  (None, 16, 11, 32)       0         \n",
      " )                                                               \n",
      "                                                                 \n",
      " conv2d_1 (Conv2D)           (None, 12, 7, 32)         25632     \n",
      "                                                                 \n",
      " max_pooling2d_1 (MaxPooling  (None, 3, 1, 32)         0         \n",
      " 2D)                                                             \n",
      "                                                                 \n",
      " flatten (Flatten)           (None, 96)                0         \n",
      "                                                                 \n",
      " dense (Dense)               (None, 64)                6208      \n",
      "                                                                 \n",
      " dense_1 (Dense)             (None, 64)                4160      \n",
      "                                                                 \n",
      " dense_2 (Dense)             (None, 12)                780       \n",
      "                                                                 \n",
      "=================================================================\n",
      "Total params: 40,012\n",
      "Trainable params: 40,012\n",
      "Non-trainable params: 0\n",
      "_________________________________________________________________\n",
      "Epoch 1/15\n",
      "24/24 [==============================] - 2s 41ms/step - loss: 0.6478 - accuracy: 0.1987\n",
      "Epoch 2/15\n",
      "24/24 [==============================] - 1s 43ms/step - loss: 0.6099 - accuracy: 0.2560\n",
      "Epoch 3/15\n",
      "24/24 [==============================] - 1s 38ms/step - loss: 0.5236 - accuracy: 0.7227\n",
      "Epoch 4/15\n",
      "24/24 [==============================] - 1s 34ms/step - loss: 0.4071 - accuracy: 0.7400\n",
      "Epoch 5/15\n",
      "24/24 [==============================] - 1s 46ms/step - loss: 0.3124 - accuracy: 0.7733\n",
      "Epoch 6/15\n",
      "24/24 [==============================] - 1s 40ms/step - loss: 0.2414 - accuracy: 0.7533\n",
      "Epoch 7/15\n",
      "24/24 [==============================] - 1s 34ms/step - loss: 0.1904 - accuracy: 0.6560\n",
      "Epoch 8/15\n",
      "24/24 [==============================] - 1s 36ms/step - loss: 0.1529 - accuracy: 0.6227\n",
      "Epoch 9/15\n",
      "24/24 [==============================] - 1s 36ms/step - loss: 0.1218 - accuracy: 0.5560\n",
      "Epoch 10/15\n",
      "24/24 [==============================] - 1s 36ms/step - loss: 0.0986 - accuracy: 0.5533\n",
      "Epoch 11/15\n",
      "24/24 [==============================] - 1s 41ms/step - loss: 0.0809 - accuracy: 0.5067\n",
      "Epoch 12/15\n",
      "24/24 [==============================] - 1s 39ms/step - loss: 0.0659 - accuracy: 0.5000\n",
      "Epoch 13/15\n",
      "24/24 [==============================] - 1s 46ms/step - loss: 0.0557 - accuracy: 0.4773\n",
      "Epoch 14/15\n",
      "24/24 [==============================] - 1s 46ms/step - loss: 0.0470 - accuracy: 0.4653\n",
      "Epoch 15/15\n",
      "24/24 [==============================] - 1s 46ms/step - loss: 0.0398 - accuracy: 0.4307\n"
     ]
    }
   ],
   "source": [
    "X_train, X_test, y_train, y_test = train_test_split(X, y, test_size=0.25)\n",
    "cnn = SetEmbedder(ff_dim1=64, ff_dim2=64)\n",
    "cnn.train(X_train, y_train, epochs=15)\n"
   ]
  },
  {
   "cell_type": "code",
   "execution_count": 7,
   "metadata": {},
   "outputs": [
    {
     "name": "stdout",
     "output_type": "stream",
     "text": [
      "[1, 0, 0, 1, 0, 0, 1, 0, 0, 1, 0, 0]\n",
      "[1, 0, 0, 1, 0, 0, 1, 0, 0, 1, 0, 0]\n",
      "\n",
      "\n",
      "[1, 0, 0, 0, 1, 0, 0, 0, 1, 0, 0, 1]\n",
      "[1, 0, 0, 0, 1, 0, 0, 0, 1, 0, 0, 1]\n",
      "\n",
      "\n",
      "[1, 0, 0, 0, 0, 1, 1, 0, 0, 0, 1, 0]\n",
      "[1, 0, 0, 0, 0, 1, 1, 0, 0, 0, 1, 0]\n",
      "\n",
      "\n",
      "[0, 1, 0, 1, 0, 0, 1, 0, 0, 0, 0, 1]\n",
      "[0, 1, 0, 1, 0, 0, 1, 0, 0, 0, 0, 1]\n",
      "\n",
      "\n",
      "[0, 0, 1, 1, 0, 0, 0, 0, 1, 1, 0, 0]\n",
      "[0, 0, 1, 1, 0, 0, 0, 0, 1, 1, 0, 0]\n",
      "\n",
      "\n"
     ]
    }
   ],
   "source": [
    "for i in range(5):\n",
    "    j = np.random.choice(range(X_test.shape[0]))\n",
    "    pred = np.round(cnn.predict(X_test[j:(j+1)]))[0]\n",
    "    pred = [int(pred[b]) for b in range(len(pred))]\n",
    "    print(list(pred))\n",
    "    print(list(y_test[j:(j+1)][0]))\n",
    "    print('\\n')"
   ]
  },
  {
   "cell_type": "code",
   "execution_count": 8,
   "metadata": {},
   "outputs": [],
   "source": [
    "def create_set_classification_dataset(num_seqs):\n",
    "\n",
    "    vocab_size = 81\n",
    "    setgame = SetGame()\n",
    "    dim = len(cnn.embed(np.expand_dims(setgame.image_of_card(0, 0), axis=0)).numpy().squeeze())\n",
    "\n",
    "    # generate random features for each object\n",
    "    card_images = np.zeros((9, 9, dim))\n",
    "    for i in range(9):\n",
    "        for j in range(9):  \n",
    "            card_images[i,j] = cnn.embed(np.expand_dims(setgame.image_of_card(i, j), axis=0)).numpy().squeeze()\n",
    "            \n",
    "    object_seqs = np.zeros((num_seqs, 3, dim))\n",
    "    card_seqs = np.zeros((num_seqs, 3, 2), dtype=int)\n",
    "    labels = np.zeros(num_seqs, dtype=int)\n",
    "\n",
    "    for s in np.arange(0, num_seqs, 2):\n",
    "        _ = setgame.init_state(num_cards=6, shuffle=False)\n",
    "        hand = setgame.state.dealt_cards\n",
    "        for i in np.arange(3):\n",
    "            card = hand[i]\n",
    "            object_seqs[s, i] = card_images[card[0], card[1]]\n",
    "            card_seqs[s, i] = [card[0], card[1]]\n",
    "        labels[s] = 1\n",
    "        for i in np.arange(3):\n",
    "            card = hand[i+3]\n",
    "            object_seqs[s+1, i] = card_images[card[0], card[1]]\n",
    "            card_seqs[s+1, i] = [card[0], card[1]]\n",
    "        labels[s+1] = 0\n",
    "\n",
    "    return card_images, card_seqs, labels, object_seqs,"
   ]
  },
  {
   "cell_type": "code",
   "execution_count": 9,
   "metadata": {},
   "outputs": [],
   "source": [
    "card_images, card_seqs, labels, object_seqs = create_set_classification_dataset(num_seqs=10000)"
   ]
  },
  {
   "cell_type": "code",
   "execution_count": 10,
   "metadata": {},
   "outputs": [],
   "source": [
    "test_size = 0.2\n",
    "val_size = 0.1\n",
    "\n",
    "seqs_train, seqs_test, object_seqs_train, object_seqs_test, labels_train, labels_test = train_test_split(card_seqs, object_seqs, labels, test_size=0.2)\n",
    "\n",
    "seqs_train, seqs_val, object_seqs_train, object_seqs_val, labels_train, labels_val = \\\n",
    "train_test_split(seqs_train, object_seqs_train, labels_train, test_size=val_size/(1-test_size))\n",
    "\n",
    "source_train, source_val, source_test = object_seqs_train, object_seqs_val, object_seqs_test\n"
   ]
  },
  {
   "cell_type": "code",
   "execution_count": 11,
   "metadata": {},
   "outputs": [],
   "source": [
    "loss = tf.keras.losses.SparseCategoricalCrossentropy(from_logits=True, name='binary_crossentropy')\n",
    "create_opt = lambda : tf.keras.optimizers.Adam()\n"
   ]
  },
  {
   "cell_type": "code",
   "execution_count": 12,
   "metadata": {},
   "outputs": [],
   "source": [
    "import tensorflow as tf\n",
    "from tensorflow.keras import layers, Model\n",
    "\n",
    "from transformer_modules import Encoder, Decoder, AddPositionalEmbedding\n",
    "from abstracters import SymbolicAbstracter, RelationalAbstracter\n",
    "\n",
    "class TransformerClassifier(tf.keras.Model):\n",
    "    def __init__(self, num_layers, num_heads, dff,\n",
    "            input_vocab, embedding_dim, \n",
    "            dropout_rate=0.1, name='transformer_classifier'):\n",
    "        \"\"\"A transformer model.\n",
    "\n",
    "        Args:\n",
    "            num_layers (int): # of layers in encoder and decoder\n",
    "            num_heads (int): # of attention heads in attention operations\n",
    "            dff (int): dimension of feedforward laeyrs\n",
    "            input_vocab (int or str): if input is tokens, the size of vocabulary as an int. \n",
    "                if input is vectors, the string 'vector'. used to create embedder.\n",
    "            embedding_dim (int): embedding dimension to use. this is the model dimension.\n",
    "            dropout_rate (float, optional): dropout rate. Defaults to 0.1.\n",
    "            name (str, optional): name of model. Defaults to 'transformer'.\n",
    "        \"\"\"\n",
    "\n",
    "        super().__init__(name=name)\n",
    "\n",
    "        if isinstance(input_vocab, int):\n",
    "            self.source_embedder = layers.Embedding(input_vocab, embedding_dim, name='source_embedder')\n",
    "        elif input_vocab == 'vector':\n",
    "            self.source_embedder = layers.TimeDistributed(layers.Dense(embedding_dim), name='source_embedder')\n",
    "        else:\n",
    "            raise ValueError(\n",
    "                \"`input_vocab` must be an integer if the input sequence is token-valued or \"\n",
    "                \"'vector' if the input sequence is vector-valued.\")\n",
    "\n",
    "        self.pos_embedding_adder_input = AddPositionalEmbedding(name='add_pos_embedding_input')\n",
    "        self.encoder = Encoder(num_layers=num_layers, num_heads=num_heads, dff=dff, dropout_rate=dropout_rate, name='encoder')\n",
    "        self.flattener = layers.Flatten()\n",
    "        self.final_layer = layers.Dense(2, name='final_layer')\n",
    "\n",
    "\n",
    "    def call(self, inputs):\n",
    "        source = inputs\n",
    "\n",
    "        x = self.source_embedder(source)\n",
    "        x = self.pos_embedding_adder_input(x)\n",
    "        encoder_context = self.encoder(x)\n",
    "        output = self.flattener(encoder_context)\n",
    "        logits = self.final_layer(output)\n",
    "\n",
    "        try:\n",
    "          # Drop the keras mask, so it doesn't scale the losses/metrics.\n",
    "          # b/250038731\n",
    "          del logits._keras_mask\n",
    "        except AttributeError:\n",
    "          pass\n",
    "\n",
    "        return logits\n",
    "\n"
   ]
  },
  {
   "cell_type": "code",
   "execution_count": 13,
   "metadata": {},
   "outputs": [
    {
     "name": "stdout",
     "output_type": "stream",
     "text": [
      "Model: \"transformer_classifier\"\n",
      "_________________________________________________________________\n",
      " Layer (type)                Output Shape              Param #   \n",
      "=================================================================\n",
      " source_embedder (TimeDistri  multiple                 4160      \n",
      " buted)                                                          \n",
      "                                                                 \n",
      " add_pos_embedding_input (Ad  multiple                 0         \n",
      " dPositionalEmbedding)                                           \n",
      "                                                                 \n",
      " encoder (Encoder)           multiple                  149888    \n",
      "                                                                 \n",
      " flatten_1 (Flatten)         multiple                  0         \n",
      "                                                                 \n",
      " final_layer (Dense)         multiple                  386       \n",
      "                                                                 \n",
      "=================================================================\n",
      "Total params: 154,434\n",
      "Trainable params: 154,434\n",
      "Non-trainable params: 0\n",
      "_________________________________________________________________\n"
     ]
    }
   ],
   "source": [
    "transformer_model = TransformerClassifier(\n",
    "    num_layers=2, num_heads=4, dff=64, \n",
    "    input_vocab='vector', embedding_dim=64)\n",
    "\n",
    "transformer_model.compile(loss=loss, optimizer=create_opt(), metrics=['acc'])\n",
    "transformer_model(object_seqs_train[:32])\n",
    "transformer_model.summary()"
   ]
  },
  {
   "cell_type": "code",
   "execution_count": 14,
   "metadata": {},
   "outputs": [
    {
     "name": "stdout",
     "output_type": "stream",
     "text": [
      "Epoch 1/50\n",
      "32/32 [==============================] - 4s 26ms/step - loss: 0.8161 - acc: 0.5540 - val_loss: 0.7192 - val_acc: 0.5420\n",
      "Epoch 2/50\n",
      "32/32 [==============================] - 0s 12ms/step - loss: 0.7003 - acc: 0.5760 - val_loss: 0.6913 - val_acc: 0.5620\n",
      "Epoch 3/50\n",
      "32/32 [==============================] - 0s 12ms/step - loss: 0.6384 - acc: 0.6160 - val_loss: 0.7005 - val_acc: 0.5750\n",
      "Epoch 4/50\n",
      "32/32 [==============================] - 0s 11ms/step - loss: 0.6131 - acc: 0.6580 - val_loss: 0.6602 - val_acc: 0.6310\n",
      "Epoch 5/50\n",
      "32/32 [==============================] - 0s 11ms/step - loss: 0.5721 - acc: 0.7030 - val_loss: 0.6315 - val_acc: 0.6630\n",
      "Epoch 6/50\n",
      "32/32 [==============================] - 0s 11ms/step - loss: 0.4821 - acc: 0.7640 - val_loss: 0.5578 - val_acc: 0.7260\n",
      "Epoch 7/50\n",
      "32/32 [==============================] - 0s 11ms/step - loss: 0.4386 - acc: 0.7890 - val_loss: 0.5586 - val_acc: 0.7170\n",
      "Epoch 8/50\n",
      "32/32 [==============================] - 0s 11ms/step - loss: 0.4180 - acc: 0.8080 - val_loss: 0.5199 - val_acc: 0.7580\n",
      "Epoch 9/50\n",
      "32/32 [==============================] - 0s 11ms/step - loss: 0.3607 - acc: 0.8290 - val_loss: 0.4754 - val_acc: 0.7970\n",
      "Epoch 10/50\n",
      "32/32 [==============================] - 0s 11ms/step - loss: 0.2979 - acc: 0.8680 - val_loss: 0.4351 - val_acc: 0.8240\n",
      "Epoch 11/50\n",
      "32/32 [==============================] - 0s 11ms/step - loss: 0.2972 - acc: 0.8610 - val_loss: 0.4253 - val_acc: 0.8150\n",
      "Epoch 12/50\n",
      "32/32 [==============================] - 0s 12ms/step - loss: 0.2870 - acc: 0.8760 - val_loss: 0.4047 - val_acc: 0.8330\n",
      "Epoch 13/50\n",
      "32/32 [==============================] - 0s 12ms/step - loss: 0.2258 - acc: 0.9000 - val_loss: 0.3746 - val_acc: 0.8290\n",
      "Epoch 14/50\n",
      "32/32 [==============================] - 0s 13ms/step - loss: 0.2392 - acc: 0.9070 - val_loss: 0.3780 - val_acc: 0.8540\n",
      "Epoch 15/50\n",
      "32/32 [==============================] - 0s 12ms/step - loss: 0.1669 - acc: 0.9340 - val_loss: 0.4167 - val_acc: 0.8520\n",
      "Epoch 16/50\n",
      "32/32 [==============================] - 0s 11ms/step - loss: 0.2272 - acc: 0.9050 - val_loss: 0.3547 - val_acc: 0.8440\n",
      "Epoch 17/50\n",
      "32/32 [==============================] - 0s 12ms/step - loss: 0.2206 - acc: 0.8970 - val_loss: 0.3894 - val_acc: 0.8600\n",
      "Epoch 18/50\n",
      "32/32 [==============================] - 0s 12ms/step - loss: 0.1784 - acc: 0.9240 - val_loss: 0.3726 - val_acc: 0.8570\n",
      "Epoch 19/50\n",
      "32/32 [==============================] - 0s 11ms/step - loss: 0.1772 - acc: 0.9290 - val_loss: 0.4335 - val_acc: 0.8480\n",
      "Epoch 20/50\n",
      "32/32 [==============================] - 0s 11ms/step - loss: 0.2872 - acc: 0.8800 - val_loss: 0.4407 - val_acc: 0.8290\n",
      "Epoch 21/50\n",
      "32/32 [==============================] - 0s 11ms/step - loss: 0.2321 - acc: 0.9120 - val_loss: 0.3788 - val_acc: 0.8610\n",
      "Epoch 22/50\n",
      "32/32 [==============================] - 0s 11ms/step - loss: 0.1507 - acc: 0.9370 - val_loss: 0.4040 - val_acc: 0.8560\n",
      "Epoch 23/50\n",
      "32/32 [==============================] - 0s 12ms/step - loss: 0.1981 - acc: 0.9210 - val_loss: 0.4610 - val_acc: 0.8260\n",
      "Epoch 24/50\n",
      "32/32 [==============================] - 0s 11ms/step - loss: 0.1951 - acc: 0.9190 - val_loss: 0.5043 - val_acc: 0.8230\n",
      "Epoch 25/50\n",
      "32/32 [==============================] - 0s 11ms/step - loss: 0.2199 - acc: 0.9120 - val_loss: 0.4630 - val_acc: 0.8310\n",
      "Epoch 26/50\n",
      "32/32 [==============================] - 0s 11ms/step - loss: 0.2156 - acc: 0.9020 - val_loss: 0.4429 - val_acc: 0.8340\n",
      "Epoch 27/50\n",
      "32/32 [==============================] - 0s 11ms/step - loss: 0.2457 - acc: 0.9000 - val_loss: 0.4232 - val_acc: 0.8480\n",
      "Epoch 28/50\n",
      "32/32 [==============================] - 0s 11ms/step - loss: 0.2307 - acc: 0.9070 - val_loss: 0.3862 - val_acc: 0.8590\n",
      "Epoch 29/50\n",
      "32/32 [==============================] - 0s 11ms/step - loss: 0.2115 - acc: 0.9140 - val_loss: 0.4493 - val_acc: 0.8350\n",
      "Epoch 30/50\n",
      "32/32 [==============================] - 0s 11ms/step - loss: 0.1725 - acc: 0.9380 - val_loss: 0.4282 - val_acc: 0.8380\n",
      "Epoch 31/50\n",
      "32/32 [==============================] - 0s 11ms/step - loss: 0.1724 - acc: 0.9380 - val_loss: 0.4308 - val_acc: 0.8410\n",
      "Epoch 32/50\n",
      "32/32 [==============================] - 0s 11ms/step - loss: 0.1630 - acc: 0.9400 - val_loss: 0.3942 - val_acc: 0.8580\n",
      "Epoch 33/50\n",
      "32/32 [==============================] - 0s 11ms/step - loss: 0.1532 - acc: 0.9420 - val_loss: 0.4105 - val_acc: 0.8560\n",
      "Epoch 34/50\n",
      "32/32 [==============================] - 0s 11ms/step - loss: 0.1686 - acc: 0.9230 - val_loss: 0.3897 - val_acc: 0.8450\n",
      "Epoch 35/50\n",
      "32/32 [==============================] - 0s 11ms/step - loss: 0.1678 - acc: 0.9310 - val_loss: 0.4138 - val_acc: 0.8460\n",
      "Epoch 36/50\n",
      "32/32 [==============================] - 0s 11ms/step - loss: 0.1139 - acc: 0.9550 - val_loss: 0.4168 - val_acc: 0.8620\n",
      "Epoch 37/50\n",
      "32/32 [==============================] - 0s 11ms/step - loss: 0.1224 - acc: 0.9500 - val_loss: 0.4247 - val_acc: 0.8640\n",
      "Epoch 38/50\n",
      "32/32 [==============================] - 0s 12ms/step - loss: 0.1169 - acc: 0.9590 - val_loss: 0.4811 - val_acc: 0.8420\n",
      "Epoch 39/50\n",
      "32/32 [==============================] - 0s 11ms/step - loss: 0.1292 - acc: 0.9500 - val_loss: 0.5011 - val_acc: 0.8400\n",
      "Epoch 40/50\n",
      "32/32 [==============================] - 0s 11ms/step - loss: 0.1366 - acc: 0.9420 - val_loss: 0.4185 - val_acc: 0.8720\n",
      "Epoch 41/50\n",
      "32/32 [==============================] - 0s 12ms/step - loss: 0.1027 - acc: 0.9630 - val_loss: 0.3973 - val_acc: 0.8760\n",
      "Epoch 42/50\n",
      "32/32 [==============================] - 0s 15ms/step - loss: 0.0653 - acc: 0.9800 - val_loss: 0.3830 - val_acc: 0.8890\n",
      "Epoch 43/50\n",
      "32/32 [==============================] - 0s 11ms/step - loss: 0.0587 - acc: 0.9830 - val_loss: 0.4102 - val_acc: 0.8840\n",
      "Epoch 44/50\n",
      "32/32 [==============================] - 0s 11ms/step - loss: 0.0954 - acc: 0.9640 - val_loss: 0.3906 - val_acc: 0.8780\n",
      "Epoch 45/50\n",
      "32/32 [==============================] - 0s 11ms/step - loss: 0.0790 - acc: 0.9750 - val_loss: 0.4326 - val_acc: 0.8790\n",
      "Epoch 46/50\n",
      "32/32 [==============================] - 0s 11ms/step - loss: 0.0839 - acc: 0.9690 - val_loss: 0.4685 - val_acc: 0.8710\n",
      "Epoch 47/50\n",
      "32/32 [==============================] - 0s 11ms/step - loss: 0.1071 - acc: 0.9610 - val_loss: 0.4851 - val_acc: 0.8590\n",
      "Epoch 48/50\n",
      "32/32 [==============================] - 0s 11ms/step - loss: 0.1126 - acc: 0.9560 - val_loss: 0.4567 - val_acc: 0.8670\n",
      "Epoch 49/50\n",
      "32/32 [==============================] - 0s 11ms/step - loss: 0.1291 - acc: 0.9540 - val_loss: 0.4584 - val_acc: 0.8570\n",
      "Epoch 50/50\n",
      "32/32 [==============================] - 0s 12ms/step - loss: 0.0951 - acc: 0.9620 - val_loss: 0.4748 - val_acc: 0.8590\n"
     ]
    }
   ],
   "source": [
    "train_size = 1000\n",
    "X_train = source_train[:train_size]\n",
    "y_train = labels_train[:train_size]\n",
    "X_val = source_val\n",
    "y_val = labels_val\n",
    "history = transformer_model.fit(X_train, y_train, validation_data=(X_val, y_val), epochs=50, verbose=1)"
   ]
  },
  {
   "cell_type": "code",
   "execution_count": 15,
   "metadata": {},
   "outputs": [
    {
     "data": {
      "image/png": "[encoded data removed]",
      "text/plain": [
       "<Figure size 432x288 with 2 Axes>"
      ]
     },
     "metadata": {
      "needs_background": "light"
     },
     "output_type": "display_data"
    }
   ],
   "source": [
    "utils.plot_history(history, ('loss', 'acc'));\n"
   ]
  },
  {
   "cell_type": "code",
   "execution_count": 16,
   "metadata": {},
   "outputs": [
    {
     "name": "stdout",
     "output_type": "stream",
     "text": [
      "test accuracy: 85.70%\n",
      "\n"
     ]
    }
   ],
   "source": [
    "out = transformer_model.predict(source_test, verbose=0)\n",
    "yhat = np.argmax(out, axis=1)\n",
    "print('test accuracy: %.2f%%\\n' % (100*np.mean(yhat==labels_test)))\n"
   ]
  },
  {
   "cell_type": "code",
   "execution_count": 17,
   "metadata": {},
   "outputs": [],
   "source": [
    "class AbstractorClassifier(tf.keras.Model):\n",
    "    def __init__(self, num_layers, num_heads, dff,\n",
    "            input_vocab, embedding_dim, dropout_rate=0.1, name='abstractor_classifier'):\n",
    "        \"\"\"\n",
    "        Sequenc Relational Abstractor.\n",
    "\n",
    "        Args:\n",
    "            num_layers (int): # of layers in encoder and decoder\n",
    "            num_heads (int): # of attention heads in attention operations\n",
    "            dff (int): dimension of feedforward laeyrs\n",
    "            input_vocab (int or str): if input is tokens, the size of vocabulary as an int. \n",
    "                if input is vectors, the string 'vector'. used to create embedder.\n",
    "            embedding_dim (int): embedding dimension to use. this is the model dimension.\n",
    "            dropout_rate (float, optional): dropout rate. Defaults to 0.1.\n",
    "            name (str, optional): name of model. Defaults to 'seq2seq_relational_abstracter'.\n",
    "        \"\"\"\n",
    "\n",
    "        super().__init__(name=name)\n",
    "\n",
    "        if isinstance(input_vocab, int):\n",
    "            self.source_embedder = layers.Embedding(input_vocab, embedding_dim, name='source_embedder')\n",
    "        elif input_vocab == 'vector':\n",
    "            self.source_embedder = layers.TimeDistributed(layers.Dense(embedding_dim), name='source_embedder')\n",
    "        else:\n",
    "            raise ValueError(\n",
    "                \"`input_vocab` must be an integer if the input sequence is token-valued or \"\n",
    "                \"'vector' if the input sequence is vector-valued.\")\n",
    "\n",
    "        self.pos_embedding_adder_input = AddPositionalEmbedding(name='add_pos_embedding_input')\n",
    "        self.encoder = Encoder(num_layers=num_layers, num_heads=num_heads, dff=dff, dropout_rate=dropout_rate, name='encoder')\n",
    "        self.abstractor = RelationalAbstracter(num_layers=num_layers, num_heads=num_heads, dff=dff, dropout_rate=dropout_rate, name='abstractor')\n",
    "        self.flattener = layers.Flatten()\n",
    "        self.final_layer = layers.Dense(2, name='final_layer')\n",
    "\n",
    "\n",
    "    def call(self, inputs):\n",
    "        source = inputs\n",
    "\n",
    "        x = self.source_embedder(source)\n",
    "        x = self.pos_embedding_adder_input(x)\n",
    "        encoder_context = self.encoder(x)\n",
    "        abstracted_context = self.abstractor(encoder_context)\n",
    "        outputs = self.flattener(abstracted_context)\n",
    "        logits = self.final_layer(outputs)\n",
    "\n",
    "        try:\n",
    "          # Drop the keras mask, so it doesn't scale the losses/metrics.\n",
    "          # b/250038731\n",
    "          del logits._keras_mask\n",
    "        except AttributeError:\n",
    "          pass\n",
    "\n",
    "        return logits\n",
    "\n"
   ]
  },
  {
   "cell_type": "code",
   "execution_count": 22,
   "metadata": {},
   "outputs": [
    {
     "name": "stdout",
     "output_type": "stream",
     "text": [
      "Model: \"abstractor_classifier\"\n",
      "_________________________________________________________________\n",
      " Layer (type)                Output Shape              Param #   \n",
      "=================================================================\n",
      " source_embedder (TimeDistri  multiple                 4160      \n",
      " buted)                                                          \n",
      "                                                                 \n",
      " add_pos_embedding_input (Ad  multiple                 0         \n",
      " dPositionalEmbedding)                                           \n",
      "                                                                 \n",
      " encoder (Encoder)           multiple                  83584     \n",
      "                                                                 \n",
      " abstractor (RelationalAbstr  multiple                 150464    \n",
      " acter)                                                          \n",
      "                                                                 \n",
      " flatten_3 (Flatten)         multiple                  0         \n",
      "                                                                 \n",
      " final_layer (Dense)         multiple                  386       \n",
      "                                                                 \n",
      "=================================================================\n",
      "Total params: 238,594\n",
      "Trainable params: 238,594\n",
      "Non-trainable params: 0\n",
      "_________________________________________________________________\n"
     ]
    }
   ],
   "source": [
    "abstractor_model = AbstractorClassifier(\n",
    "    num_layers=2, num_heads=2, dff=64, \n",
    "    input_vocab='vector', embedding_dim=64)\n",
    "\n",
    "abstractor_model.compile(loss=loss, optimizer=create_opt(), metrics=['acc'])\n",
    "abstractor_model(X_train[:32])\n",
    "abstractor_model.summary()"
   ]
  },
  {
   "cell_type": "code",
   "execution_count": 23,
   "metadata": {},
   "outputs": [
    {
     "name": "stdout",
     "output_type": "stream",
     "text": [
      "Epoch 1/50\n",
      "32/32 [==============================] - 10s 48ms/step - loss: 0.8576 - acc: 0.4950 - val_loss: 0.6922 - val_acc: 0.5130\n",
      "Epoch 2/50\n",
      "32/32 [==============================] - 1s 21ms/step - loss: 0.7395 - acc: 0.5140 - val_loss: 0.6960 - val_acc: 0.5160\n",
      "Epoch 3/50\n",
      "32/32 [==============================] - 1s 21ms/step - loss: 0.7084 - acc: 0.5350 - val_loss: 0.6707 - val_acc: 0.5800\n",
      "Epoch 4/50\n",
      "32/32 [==============================] - 1s 23ms/step - loss: 0.6570 - acc: 0.6160 - val_loss: 0.7368 - val_acc: 0.5490\n",
      "Epoch 5/50\n",
      "32/32 [==============================] - 1s 20ms/step - loss: 0.6709 - acc: 0.5840 - val_loss: 0.7320 - val_acc: 0.5290\n",
      "Epoch 6/50\n",
      "32/32 [==============================] - 1s 19ms/step - loss: 0.6264 - acc: 0.6510 - val_loss: 0.6180 - val_acc: 0.6730\n",
      "Epoch 7/50\n",
      "32/32 [==============================] - 1s 19ms/step - loss: 0.5640 - acc: 0.7160 - val_loss: 0.5400 - val_acc: 0.7080\n",
      "Epoch 8/50\n",
      "32/32 [==============================] - 1s 19ms/step - loss: 0.5228 - acc: 0.7430 - val_loss: 0.4983 - val_acc: 0.7450\n",
      "Epoch 9/50\n",
      "32/32 [==============================] - 1s 22ms/step - loss: 0.4791 - acc: 0.7740 - val_loss: 0.4640 - val_acc: 0.7560\n",
      "Epoch 10/50\n",
      "32/32 [==============================] - 1s 19ms/step - loss: 0.4533 - acc: 0.7880 - val_loss: 0.4292 - val_acc: 0.8030\n",
      "Epoch 11/50\n",
      "32/32 [==============================] - 1s 19ms/step - loss: 0.4248 - acc: 0.8140 - val_loss: 0.4234 - val_acc: 0.7840\n",
      "Epoch 12/50\n",
      "32/32 [==============================] - 1s 19ms/step - loss: 0.3934 - acc: 0.8130 - val_loss: 0.4254 - val_acc: 0.8040\n",
      "Epoch 13/50\n",
      "32/32 [==============================] - 1s 26ms/step - loss: 0.4079 - acc: 0.8120 - val_loss: 0.4148 - val_acc: 0.8120\n",
      "Epoch 14/50\n",
      "32/32 [==============================] - 1s 19ms/step - loss: 0.3873 - acc: 0.8150 - val_loss: 0.4065 - val_acc: 0.8250\n",
      "Epoch 15/50\n",
      "32/32 [==============================] - 1s 28ms/step - loss: 0.3939 - acc: 0.8050 - val_loss: 0.4113 - val_acc: 0.8220\n",
      "Epoch 16/50\n",
      "32/32 [==============================] - 1s 30ms/step - loss: 0.3992 - acc: 0.8230 - val_loss: 0.4149 - val_acc: 0.7990\n",
      "Epoch 17/50\n",
      "32/32 [==============================] - 1s 21ms/step - loss: 0.3985 - acc: 0.8070 - val_loss: 0.4154 - val_acc: 0.8240\n",
      "Epoch 18/50\n",
      "32/32 [==============================] - 1s 27ms/step - loss: 0.3534 - acc: 0.8360 - val_loss: 0.4255 - val_acc: 0.8130\n",
      "Epoch 19/50\n",
      "32/32 [==============================] - 1s 28ms/step - loss: 0.3580 - acc: 0.8400 - val_loss: 0.4457 - val_acc: 0.7660\n",
      "Epoch 20/50\n",
      "32/32 [==============================] - 1s 20ms/step - loss: 0.3604 - acc: 0.8270 - val_loss: 0.4373 - val_acc: 0.8190\n",
      "Epoch 21/50\n",
      "32/32 [==============================] - 1s 20ms/step - loss: 0.3772 - acc: 0.8280 - val_loss: 0.4308 - val_acc: 0.8000\n",
      "Epoch 22/50\n",
      "32/32 [==============================] - 1s 20ms/step - loss: 0.3532 - acc: 0.8450 - val_loss: 0.5273 - val_acc: 0.7280\n",
      "Epoch 23/50\n",
      "32/32 [==============================] - 1s 21ms/step - loss: 0.3677 - acc: 0.8230 - val_loss: 0.4217 - val_acc: 0.8210\n",
      "Epoch 24/50\n",
      "32/32 [==============================] - 1s 20ms/step - loss: 0.3548 - acc: 0.8270 - val_loss: 0.4365 - val_acc: 0.8020\n",
      "Epoch 25/50\n",
      "32/32 [==============================] - 1s 20ms/step - loss: 0.3610 - acc: 0.8210 - val_loss: 0.4561 - val_acc: 0.8250\n",
      "Epoch 26/50\n",
      "32/32 [==============================] - 1s 29ms/step - loss: 0.3147 - acc: 0.8590 - val_loss: 0.4770 - val_acc: 0.8210\n",
      "Epoch 27/50\n",
      "32/32 [==============================] - 1s 21ms/step - loss: 0.3272 - acc: 0.8330 - val_loss: 0.4299 - val_acc: 0.8140\n",
      "Epoch 28/50\n",
      "32/32 [==============================] - 1s 21ms/step - loss: 0.3597 - acc: 0.8270 - val_loss: 0.4718 - val_acc: 0.7900\n",
      "Epoch 29/50\n",
      "32/32 [==============================] - 1s 26ms/step - loss: 0.3797 - acc: 0.8150 - val_loss: 0.4024 - val_acc: 0.8200\n",
      "Epoch 30/50\n",
      "32/32 [==============================] - 1s 21ms/step - loss: 0.3428 - acc: 0.8310 - val_loss: 0.4255 - val_acc: 0.8160\n",
      "Epoch 31/50\n",
      "32/32 [==============================] - 1s 21ms/step - loss: 0.3273 - acc: 0.8540 - val_loss: 0.4593 - val_acc: 0.7830\n",
      "Epoch 32/50\n",
      "32/32 [==============================] - 1s 21ms/step - loss: 0.3421 - acc: 0.8440 - val_loss: 0.4621 - val_acc: 0.7880\n",
      "Epoch 33/50\n",
      "32/32 [==============================] - 1s 21ms/step - loss: 0.3403 - acc: 0.8580 - val_loss: 0.4411 - val_acc: 0.7960\n",
      "Epoch 34/50\n",
      "32/32 [==============================] - 1s 21ms/step - loss: 0.3779 - acc: 0.8210 - val_loss: 0.4238 - val_acc: 0.7900\n",
      "Epoch 35/50\n",
      "32/32 [==============================] - 1s 21ms/step - loss: 0.3469 - acc: 0.8380 - val_loss: 0.4553 - val_acc: 0.8100\n",
      "Epoch 36/50\n",
      "32/32 [==============================] - 1s 24ms/step - loss: 0.3349 - acc: 0.8580 - val_loss: 0.4402 - val_acc: 0.7980\n",
      "Epoch 37/50\n",
      "32/32 [==============================] - 1s 22ms/step - loss: 0.3251 - acc: 0.8600 - val_loss: 0.4614 - val_acc: 0.7990\n",
      "Epoch 38/50\n",
      "32/32 [==============================] - 1s 21ms/step - loss: 0.3341 - acc: 0.8470 - val_loss: 0.4303 - val_acc: 0.8020\n",
      "Epoch 39/50\n",
      "32/32 [==============================] - 1s 27ms/step - loss: 0.3272 - acc: 0.8520 - val_loss: 0.4375 - val_acc: 0.7970\n",
      "Epoch 40/50\n",
      "32/32 [==============================] - 1s 33ms/step - loss: 0.3191 - acc: 0.8590 - val_loss: 0.4590 - val_acc: 0.7760\n",
      "Epoch 41/50\n",
      "32/32 [==============================] - 1s 30ms/step - loss: 0.3068 - acc: 0.8570 - val_loss: 0.4729 - val_acc: 0.7810\n",
      "Epoch 42/50\n",
      "32/32 [==============================] - 1s 26ms/step - loss: 0.3355 - acc: 0.8480 - val_loss: 0.4229 - val_acc: 0.8130\n",
      "Epoch 43/50\n",
      "32/32 [==============================] - 1s 22ms/step - loss: 0.3145 - acc: 0.8600 - val_loss: 0.4398 - val_acc: 0.7920\n",
      "Epoch 44/50\n",
      "32/32 [==============================] - 1s 21ms/step - loss: 0.3073 - acc: 0.8590 - val_loss: 0.4733 - val_acc: 0.7790\n",
      "Epoch 45/50\n",
      "32/32 [==============================] - 1s 20ms/step - loss: 0.3250 - acc: 0.8560 - val_loss: 0.4338 - val_acc: 0.8040\n",
      "Epoch 46/50\n",
      "32/32 [==============================] - 1s 21ms/step - loss: 0.3158 - acc: 0.8560 - val_loss: 0.4609 - val_acc: 0.7940\n",
      "Epoch 47/50\n",
      "32/32 [==============================] - 1s 21ms/step - loss: 0.3763 - acc: 0.8230 - val_loss: 0.4412 - val_acc: 0.8080\n",
      "Epoch 48/50\n",
      "32/32 [==============================] - 1s 21ms/step - loss: 0.3374 - acc: 0.8590 - val_loss: 0.4480 - val_acc: 0.8080\n",
      "Epoch 49/50\n",
      "32/32 [==============================] - 1s 21ms/step - loss: 0.3322 - acc: 0.8480 - val_loss: 0.4736 - val_acc: 0.8270\n",
      "Epoch 50/50\n",
      "32/32 [==============================] - 1s 20ms/step - loss: 0.3023 - acc: 0.8640 - val_loss: 0.4859 - val_acc: 0.7820\n"
     ]
    }
   ],
   "source": [
    "train_size = 1000\n",
    "X_train = source_train[:train_size]\n",
    "y_train = labels_train[:train_size]\n",
    "X_val = source_val\n",
    "y_val = labels_val\n",
    "history = abstractor_model.fit(X_train, y_train, validation_data=(X_val, y_val), epochs=50, verbose=1)"
   ]
  },
  {
   "cell_type": "code",
   "execution_count": 24,
   "metadata": {},
   "outputs": [
    {
     "data": {
      "image/png": "[encoded data removed]",
      "text/plain": [
       "<Figure size 432x288 with 2 Axes>"
      ]
     },
     "metadata": {
      "needs_background": "light"
     },
     "output_type": "display_data"
    }
   ],
   "source": [
    "utils.plot_history(history, ('loss', 'acc'));\n"
   ]
  },
  {
   "cell_type": "code",
   "execution_count": 25,
   "metadata": {},
   "outputs": [
    {
     "name": "stdout",
     "output_type": "stream",
     "text": [
      "test accuracy: 80.05%\n",
      "\n"
     ]
    }
   ],
   "source": [
    "out = abstractor_model.predict(source_test, verbose=0)\n",
    "yhat = np.argmax(out, axis=1)\n",
    "print('test accuracy: %.2f%%\\n' % (100*np.mean(yhat==labels_test)))\n"
   ]
  }
 ],
 "metadata": {
  "interpreter": {
   "hash": "075427e9d7b4e88d8be5fc9c4269e9099fc3e822a226ecef7da6e611953d0392"
  },
  "kernelspec": {
   "display_name": "Python 3",
   "language": "python",
   "name": "python3"
  },
  "language_info": {
   "codemirror_mode": {
    "name": "ipython",
    "version": 3
   },
   "file_extension": ".py",
   "mimetype": "text/x-python",
   "name": "python",
   "nbconvert_exporter": "python",
   "pygments_lexer": "ipython3",
   "version": "3.8.5"
  }
 },
 "nbformat": 4,
 "nbformat_minor": 2
}
