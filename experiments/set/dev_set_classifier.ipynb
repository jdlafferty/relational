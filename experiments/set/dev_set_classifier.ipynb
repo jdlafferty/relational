{
 "cells": [
  {
   "cell_type": "code",
   "execution_count": 1,
   "metadata": {},
   "outputs": [],
   "source": [
    "%load_ext autoreload\n",
    "%autoreload 2\n",
    "\n",
    "import sys\n",
    "sys.path.append('../..'); sys.path.append('../'); \n",
    "\n",
    "import numpy as np\n",
    "import matplotlib.pyplot as plt\n",
    "from setGame import *\n",
    "import tensorflow as tf\n",
    "import utils"
   ]
  },
  {
   "cell_type": "code",
   "execution_count": 2,
   "metadata": {},
   "outputs": [],
   "source": [
    "setgame = SetGame()"
   ]
  },
  {
   "cell_type": "code",
   "execution_count": 3,
   "metadata": {},
   "outputs": [
    {
     "data": {
      "image/png": "[encoded data removed]",
      "text/plain": [
       "<Figure size 432x72 with 6 Axes>"
      ]
     },
     "metadata": {
      "needs_background": "light"
     },
     "output_type": "display_data"
    },
    {
     "name": "stdout",
     "output_type": "stream",
     "text": [
      "[3 4 5]\n"
     ]
    }
   ],
   "source": [
    "num_cards=6\n",
    "_ = setgame.init_state(num_cards=num_cards, shuffle=False)\n",
    "hand = setgame.state.dealt_cards\n",
    "fig, axarr = plt.subplots(1, len(hand), figsize=(len(hand)*1,1))\n",
    "pi = np.random.choice(range(len(hand)), size=len(hand), replace=False)\n",
    "for i in range(len(hand)):\n",
    "    card = hand[i]\n",
    "    axarr[i].imshow(setgame.image_of_card(card[0], card[1]))\n",
    "    axarr[i].axis('off')\n",
    "plt.show()\n",
    "print(np.sort(np.argsort(pi)[0:3]))\n"
   ]
  },
  {
   "cell_type": "code",
   "execution_count": 44,
   "metadata": {},
   "outputs": [],
   "source": [
    "import tensorflow as tf\n",
    "from tensorflow.keras import layers, Model, Sequential\n",
    "from sklearn.model_selection import train_test_split\n",
    "\n",
    "class SetEmbedder():\n",
    "    def __init__(self, ff_dim1=128, ff_dim2=64):\n",
    "        img_input = layers.Input(shape=(70, 50, 4))\n",
    "        x = layers.Conv2D(32, (5, 5), activation='relu')(img_input)\n",
    "        x = layers.MaxPooling2D((4,4))(x)\n",
    "        x = layers.Conv2D(32, (5, 5), activation='relu')(x)\n",
    "        x = layers.MaxPooling2D((4,4))(x)\n",
    "        x = layers.Flatten()(x)\n",
    "        x = layers.Dense(ff_dim1, activation='relu')(x)\n",
    "        x = layers.Dense(ff_dim2, activation='tanh')(x)\n",
    "        outputs = layers.Dense(12, activation='sigmoid')(x)\n",
    "        self.model = Model(inputs=img_input, outputs=outputs)\n",
    "        self.embed = Model(self.model.input, self.model.layers[7].output)\n",
    "        self.model.summary()\n",
    "        opt = tf.keras.optimizers.Adam(learning_rate=0.001)\n",
    "        self.model.compile(loss='binary_crossentropy', optimizer=opt, metrics=['binary_accuracy'])\n",
    "        self.model_initial_weights = self.model.get_weights()\n",
    "\n",
    "    def train(self, X_train, y_train, epochs=2):\n",
    "        self.model.set_weights(self.model_initial_weights)\n",
    "        self.model.fit(X_train, y_train, epochs=epochs, batch_size=32, verbose=1)\n",
    "\n",
    "    def predict(self, X_test):\n",
    "        out = self.model.predict(X_test, verbose=0)\n",
    "        return out\n",
    "\n",
    "    def embed(self, X_test):\n",
    "        out = self.embed(X_test, verbose=0)\n",
    "        return out"
   ]
  },
  {
   "cell_type": "code",
   "execution_count": 45,
   "metadata": {},
   "outputs": [],
   "source": [
    "def convert_to_binary(attrs):\n",
    "    color = {'red':[1,0,0], 'green':[0,1,0], 'purple':[0,0,1]}\n",
    "    pattern = {'empty':[1,0,0], 'striped':[0,1,0], 'solid':[0,0,1]}\n",
    "    shape = {'diamond':[1,0,0], 'oval':[0,1,0], 'squiggle':[0,0,1]}\n",
    "    number = {'one':[1,0,0], 'two':[0,1,0], 'three':[0,0,1]}\n",
    "    binary_attrs = number[attrs[0]] + color[attrs[1]] + pattern[attrs[2]] + shape[attrs[3]]\n",
    "    return binary_attrs\n",
    "\n",
    "n = 1000\n",
    "X = np.empty((n, 70, 50, 4), dtype=np.float32)\n",
    "y = np.empty((n, 12), dtype=int)\n",
    "\n",
    "card_coord = [(i,j) for i in np.arange(9) for j in np.arange(9)]\n",
    "for i in np.arange(n):\n",
    "    c = np.random.choice(np.arange(81), size=1)[0]\n",
    "    (row, col) = card_coord[c]\n",
    "    attrs = setgame.attributes_of_card(row, col)\n",
    "    binary_attrs = convert_to_binary(attrs)\n",
    "    X[i] = setgame.image_of_card(row, col)\n",
    "    y[i] = binary_attrs\n"
   ]
  },
  {
   "cell_type": "code",
   "execution_count": 46,
   "metadata": {},
   "outputs": [
    {
     "name": "stdout",
     "output_type": "stream",
     "text": [
      "Model: \"model_4\"\n",
      "_________________________________________________________________\n",
      " Layer (type)                Output Shape              Param #   \n",
      "=================================================================\n",
      " input_3 (InputLayer)        [(None, 70, 50, 4)]       0         \n",
      "                                                                 \n",
      " conv2d_4 (Conv2D)           (None, 66, 46, 32)        3232      \n",
      "                                                                 \n",
      " max_pooling2d_4 (MaxPooling  (None, 16, 11, 32)       0         \n",
      " 2D)                                                             \n",
      "                                                                 \n",
      " conv2d_5 (Conv2D)           (None, 12, 7, 32)         25632     \n",
      "                                                                 \n",
      " max_pooling2d_5 (MaxPooling  (None, 3, 1, 32)         0         \n",
      " 2D)                                                             \n",
      "                                                                 \n",
      " flatten_5 (Flatten)         (None, 96)                0         \n",
      "                                                                 \n",
      " dense_29 (Dense)            (None, 64)                6208      \n",
      "                                                                 \n",
      " dense_30 (Dense)            (None, 64)                4160      \n",
      "                                                                 \n",
      " dense_31 (Dense)            (None, 12)                780       \n",
      "                                                                 \n",
      "=================================================================\n",
      "Total params: 40,012\n",
      "Trainable params: 40,012\n",
      "Non-trainable params: 0\n",
      "_________________________________________________________________\n",
      "Epoch 1/15\n",
      "24/24 [==============================] - 2s 50ms/step - loss: 0.6438 - binary_accuracy: 0.6391\n",
      "Epoch 2/15\n",
      "24/24 [==============================] - 1s 44ms/step - loss: 0.5906 - binary_accuracy: 0.6887\n",
      "Epoch 3/15\n",
      "24/24 [==============================] - 1s 39ms/step - loss: 0.4996 - binary_accuracy: 0.7658\n",
      "Epoch 4/15\n",
      "24/24 [==============================] - 1s 39ms/step - loss: 0.3961 - binary_accuracy: 0.8409\n",
      "Epoch 5/15\n",
      "24/24 [==============================] - 1s 40ms/step - loss: 0.3103 - binary_accuracy: 0.8927\n",
      "Epoch 6/15\n",
      "24/24 [==============================] - 1s 36ms/step - loss: 0.2541 - binary_accuracy: 0.9111\n",
      "Epoch 7/15\n",
      "24/24 [==============================] - 1s 37ms/step - loss: 0.2096 - binary_accuracy: 0.9343\n",
      "Epoch 8/15\n",
      "24/24 [==============================] - 1s 37ms/step - loss: 0.1710 - binary_accuracy: 0.9594\n",
      "Epoch 9/15\n",
      "24/24 [==============================] - 1s 37ms/step - loss: 0.1403 - binary_accuracy: 0.9790\n",
      "Epoch 10/15\n",
      "24/24 [==============================] - 1s 37ms/step - loss: 0.1139 - binary_accuracy: 0.9903\n",
      "Epoch 11/15\n",
      "24/24 [==============================] - 1s 38ms/step - loss: 0.0942 - binary_accuracy: 0.9974\n",
      "Epoch 12/15\n",
      "24/24 [==============================] - 1s 36ms/step - loss: 0.0781 - binary_accuracy: 0.9986\n",
      "Epoch 13/15\n",
      "24/24 [==============================] - 1s 36ms/step - loss: 0.0662 - binary_accuracy: 1.0000\n",
      "Epoch 14/15\n",
      "24/24 [==============================] - 1s 38ms/step - loss: 0.0572 - binary_accuracy: 1.0000\n",
      "Epoch 15/15\n",
      "24/24 [==============================] - 1s 39ms/step - loss: 0.0507 - binary_accuracy: 1.0000\n"
     ]
    }
   ],
   "source": [
    "X_train, X_test, y_train, y_test = train_test_split(X, y, test_size=0.25)\n",
    "cnn = SetEmbedder(ff_dim1=64, ff_dim2=64)\n",
    "cnn.train(X_train, y_train, epochs=15)\n"
   ]
  },
  {
   "cell_type": "code",
   "execution_count": 47,
   "metadata": {},
   "outputs": [
    {
     "name": "stdout",
     "output_type": "stream",
     "text": [
      "[0, 0, 1, 0, 0, 1, 1, 0, 0, 0, 0, 1]\n",
      "[0, 0, 1, 0, 0, 1, 1, 0, 0, 0, 0, 1]\n",
      "\n",
      "\n",
      "[1, 0, 0, 0, 1, 0, 1, 0, 0, 1, 0, 0]\n",
      "[1, 0, 0, 0, 1, 0, 1, 0, 0, 1, 0, 0]\n",
      "\n",
      "\n",
      "[1, 0, 0, 0, 0, 1, 1, 0, 0, 0, 1, 0]\n",
      "[1, 0, 0, 0, 0, 1, 1, 0, 0, 0, 1, 0]\n",
      "\n",
      "\n",
      "[0, 1, 0, 0, 1, 0, 0, 1, 0, 0, 1, 0]\n",
      "[0, 1, 0, 0, 1, 0, 0, 1, 0, 0, 1, 0]\n",
      "\n",
      "\n",
      "[0, 1, 0, 0, 0, 1, 0, 0, 1, 0, 0, 1]\n",
      "[0, 1, 0, 0, 0, 1, 0, 0, 1, 0, 0, 1]\n",
      "\n",
      "\n"
     ]
    }
   ],
   "source": [
    "for i in range(5):\n",
    "    j = np.random.choice(range(X_test.shape[0]))\n",
    "    pred = np.round(cnn.predict(X_test[j:(j+1)]))[0]\n",
    "    pred = [int(pred[b]) for b in range(len(pred))]\n",
    "    print(list(pred))\n",
    "    print(list(y_test[j:(j+1)][0]))\n",
    "    print('\\n')"
   ]
  },
  {
   "cell_type": "code",
   "execution_count": 48,
   "metadata": {},
   "outputs": [
    {
     "data": {
      "text/plain": [
       "1.0"
      ]
     },
     "execution_count": 48,
     "metadata": {},
     "output_type": "execute_result"
    }
   ],
   "source": [
    "out = cnn.predict(X_test)\n",
    "pred = np.array(np.round(out), dtype=int)\n",
    "1-np.sum(pred != y_test) / (np.prod(pred.shape))\n"
   ]
  },
  {
   "cell_type": "code",
   "execution_count": 49,
   "metadata": {},
   "outputs": [],
   "source": [
    "def create_set_classification_dataset(num_seqs):\n",
    "\n",
    "    vocab_size = 81\n",
    "    setgame = SetGame()\n",
    "    dim = len(cnn.embed(np.expand_dims(setgame.image_of_card(0, 0), axis=0)).numpy().squeeze())\n",
    "\n",
    "    # generate random features for each object\n",
    "    card_images = np.zeros((9, 9, dim))\n",
    "    for i in range(9):\n",
    "        for j in range(9):  \n",
    "            card_images[i,j] = cnn.embed(np.expand_dims(setgame.image_of_card(i, j), axis=0)).numpy().squeeze()\n",
    "            \n",
    "    object_seqs = np.zeros((num_seqs, 3, dim))\n",
    "    card_seqs = np.zeros((num_seqs, 3, 2), dtype=int)\n",
    "    labels = np.zeros(num_seqs, dtype=int)\n",
    "\n",
    "    for s in np.arange(0, num_seqs, 2):\n",
    "        _ = setgame.init_state(num_cards=6, shuffle=False)\n",
    "        hand = setgame.state.dealt_cards\n",
    "        for i in np.arange(3):\n",
    "            card = hand[i]\n",
    "            object_seqs[s, i] = card_images[card[0], card[1]]\n",
    "            card_seqs[s, i] = [card[0], card[1]]\n",
    "        labels[s] = 1\n",
    "        for i in np.arange(3):\n",
    "            card = hand[i+3]\n",
    "            object_seqs[s+1, i] = card_images[card[0], card[1]]\n",
    "            card_seqs[s+1, i] = [card[0], card[1]]\n",
    "        labels[s+1] = 0\n",
    "\n",
    "    return card_images, card_seqs, labels, object_seqs,"
   ]
  },
  {
   "cell_type": "code",
   "execution_count": 50,
   "metadata": {},
   "outputs": [],
   "source": [
    "card_images, card_seqs, labels, object_seqs = create_set_classification_dataset(num_seqs=10000)"
   ]
  },
  {
   "cell_type": "code",
   "execution_count": 51,
   "metadata": {},
   "outputs": [],
   "source": [
    "test_size = 0.2\n",
    "val_size = 0.1\n",
    "\n",
    "seqs_train, seqs_test, object_seqs_train, object_seqs_test, labels_train, labels_test = train_test_split(card_seqs, object_seqs, labels, test_size=0.2)\n",
    "\n",
    "seqs_train, seqs_val, object_seqs_train, object_seqs_val, labels_train, labels_val = \\\n",
    "train_test_split(seqs_train, object_seqs_train, labels_train, test_size=val_size/(1-test_size))\n",
    "\n",
    "source_train, source_val, source_test = object_seqs_train, object_seqs_val, object_seqs_test\n"
   ]
  },
  {
   "cell_type": "code",
   "execution_count": 52,
   "metadata": {},
   "outputs": [],
   "source": [
    "loss = tf.keras.losses.SparseCategoricalCrossentropy(from_logits=True, name='binary_crossentropy')\n",
    "create_opt = lambda : tf.keras.optimizers.Adam()\n"
   ]
  },
  {
   "cell_type": "code",
   "execution_count": 53,
   "metadata": {},
   "outputs": [],
   "source": [
    "import tensorflow as tf\n",
    "from tensorflow.keras import layers, Model\n",
    "\n",
    "from transformer_modules import Encoder, Decoder, AddPositionalEmbedding\n",
    "from abstracters import SymbolicAbstracter, RelationalAbstracter\n",
    "\n",
    "class TransformerClassifier(tf.keras.Model):\n",
    "    def __init__(self, num_layers, num_heads, dff,\n",
    "            input_vocab, embedding_dim, \n",
    "            dropout_rate=0.1, name='transformer_classifier'):\n",
    "        \"\"\"A transformer model.\n",
    "\n",
    "        Args:\n",
    "            num_layers (int): # of layers in encoder and decoder\n",
    "            num_heads (int): # of attention heads in attention operations\n",
    "            dff (int): dimension of feedforward laeyrs\n",
    "            input_vocab (int or str): if input is tokens, the size of vocabulary as an int. \n",
    "                if input is vectors, the string 'vector'. used to create embedder.\n",
    "            embedding_dim (int): embedding dimension to use. this is the model dimension.\n",
    "            dropout_rate (float, optional): dropout rate. Defaults to 0.1.\n",
    "            name (str, optional): name of model. Defaults to 'transformer'.\n",
    "        \"\"\"\n",
    "\n",
    "        super().__init__(name=name)\n",
    "\n",
    "        if isinstance(input_vocab, int):\n",
    "            self.source_embedder = layers.Embedding(input_vocab, embedding_dim, name='source_embedder')\n",
    "        elif input_vocab == 'vector':\n",
    "            self.source_embedder = layers.TimeDistributed(layers.Dense(embedding_dim), name='source_embedder')\n",
    "        else:\n",
    "            raise ValueError(\n",
    "                \"`input_vocab` must be an integer if the input sequence is token-valued or \"\n",
    "                \"'vector' if the input sequence is vector-valued.\")\n",
    "\n",
    "        self.pos_embedding_adder_input = AddPositionalEmbedding(name='add_pos_embedding_input')\n",
    "        self.encoder = Encoder(num_layers=num_layers, num_heads=num_heads, dff=dff, dropout_rate=dropout_rate, name='encoder')\n",
    "        self.flattener = layers.Flatten()\n",
    "        self.final_layer = layers.Dense(2, name='final_layer')\n",
    "\n",
    "\n",
    "    def call(self, inputs):\n",
    "        source = inputs\n",
    "\n",
    "        x = self.source_embedder(source)\n",
    "        x = self.pos_embedding_adder_input(x)\n",
    "        encoder_context = self.encoder(x)\n",
    "        output = self.flattener(encoder_context)\n",
    "        logits = self.final_layer(output)\n",
    "\n",
    "        try:\n",
    "          # Drop the keras mask, so it doesn't scale the losses/metrics.\n",
    "          # b/250038731\n",
    "          del logits._keras_mask\n",
    "        except AttributeError:\n",
    "          pass\n",
    "\n",
    "        return logits\n",
    "\n"
   ]
  },
  {
   "cell_type": "code",
   "execution_count": 54,
   "metadata": {},
   "outputs": [
    {
     "name": "stdout",
     "output_type": "stream",
     "text": [
      "Model: \"transformer_classifier\"\n",
      "_________________________________________________________________\n",
      " Layer (type)                Output Shape              Param #   \n",
      "=================================================================\n",
      " source_embedder (TimeDistri  multiple                 4160      \n",
      " buted)                                                          \n",
      "                                                                 \n",
      " add_pos_embedding_input (Ad  multiple                 0         \n",
      " dPositionalEmbedding)                                           \n",
      "                                                                 \n",
      " encoder (Encoder)           multiple                  149888    \n",
      "                                                                 \n",
      " flatten_6 (Flatten)         multiple                  0         \n",
      "                                                                 \n",
      " final_layer (Dense)         multiple                  386       \n",
      "                                                                 \n",
      "=================================================================\n",
      "Total params: 154,434\n",
      "Trainable params: 154,434\n",
      "Non-trainable params: 0\n",
      "_________________________________________________________________\n"
     ]
    }
   ],
   "source": [
    "transformer_model = TransformerClassifier(\n",
    "    num_layers=2, num_heads=4, dff=64, \n",
    "    input_vocab='vector', embedding_dim=64)\n",
    "\n",
    "transformer_model.compile(loss=loss, optimizer=create_opt(), metrics=['acc'])\n",
    "transformer_model(object_seqs_train[:32])\n",
    "transformer_model.summary()"
   ]
  },
  {
   "cell_type": "code",
   "execution_count": 55,
   "metadata": {},
   "outputs": [
    {
     "name": "stdout",
     "output_type": "stream",
     "text": [
      "Epoch 1/50\n",
      "32/32 [==============================] - 5s 27ms/step - loss: 0.8530 - acc: 0.5050 - val_loss: 0.7462 - val_acc: 0.5070\n",
      "Epoch 2/50\n",
      "32/32 [==============================] - 0s 13ms/step - loss: 0.7007 - acc: 0.5540 - val_loss: 0.6925 - val_acc: 0.5500\n",
      "Epoch 3/50\n",
      "32/32 [==============================] - 0s 13ms/step - loss: 0.6751 - acc: 0.6010 - val_loss: 0.6911 - val_acc: 0.5630\n",
      "Epoch 4/50\n",
      "32/32 [==============================] - 0s 13ms/step - loss: 0.6524 - acc: 0.6430 - val_loss: 0.6646 - val_acc: 0.5900\n",
      "Epoch 5/50\n",
      "32/32 [==============================] - 0s 13ms/step - loss: 0.5976 - acc: 0.6980 - val_loss: 0.6817 - val_acc: 0.6120\n",
      "Epoch 6/50\n",
      "32/32 [==============================] - 0s 12ms/step - loss: 0.6037 - acc: 0.6920 - val_loss: 0.6661 - val_acc: 0.6310\n",
      "Epoch 7/50\n",
      "32/32 [==============================] - 0s 13ms/step - loss: 0.5265 - acc: 0.7220 - val_loss: 0.6163 - val_acc: 0.6750\n",
      "Epoch 8/50\n",
      "32/32 [==============================] - 0s 13ms/step - loss: 0.4787 - acc: 0.7700 - val_loss: 0.5739 - val_acc: 0.7290\n",
      "Epoch 9/50\n",
      "32/32 [==============================] - 0s 13ms/step - loss: 0.4439 - acc: 0.8020 - val_loss: 0.5905 - val_acc: 0.7120\n",
      "Epoch 10/50\n",
      "32/32 [==============================] - 0s 13ms/step - loss: 0.3882 - acc: 0.8390 - val_loss: 0.6501 - val_acc: 0.7050\n",
      "Epoch 11/50\n",
      "32/32 [==============================] - 0s 13ms/step - loss: 0.4025 - acc: 0.8160 - val_loss: 0.5703 - val_acc: 0.7260\n",
      "Epoch 12/50\n",
      "32/32 [==============================] - 0s 12ms/step - loss: 0.3807 - acc: 0.8260 - val_loss: 0.5721 - val_acc: 0.7180\n",
      "Epoch 13/50\n",
      "32/32 [==============================] - 0s 14ms/step - loss: 0.3694 - acc: 0.8330 - val_loss: 0.5405 - val_acc: 0.7530\n",
      "Epoch 14/50\n",
      "32/32 [==============================] - 1s 19ms/step - loss: 0.3287 - acc: 0.8680 - val_loss: 0.5835 - val_acc: 0.7400\n",
      "Epoch 15/50\n",
      "32/32 [==============================] - 1s 24ms/step - loss: 0.3272 - acc: 0.8570 - val_loss: 0.5144 - val_acc: 0.7620\n",
      "Epoch 16/50\n",
      "32/32 [==============================] - 0s 16ms/step - loss: 0.2901 - acc: 0.8770 - val_loss: 0.4861 - val_acc: 0.7860\n",
      "Epoch 17/50\n",
      "32/32 [==============================] - 0s 14ms/step - loss: 0.2484 - acc: 0.8940 - val_loss: 0.4429 - val_acc: 0.8100\n",
      "Epoch 18/50\n",
      "32/32 [==============================] - 1s 16ms/step - loss: 0.1912 - acc: 0.9270 - val_loss: 0.5020 - val_acc: 0.8130\n",
      "Epoch 19/50\n",
      "32/32 [==============================] - 1s 19ms/step - loss: 0.2244 - acc: 0.9070 - val_loss: 0.4193 - val_acc: 0.8360\n",
      "Epoch 20/50\n",
      "32/32 [==============================] - 0s 14ms/step - loss: 0.1992 - acc: 0.9150 - val_loss: 0.4428 - val_acc: 0.8200\n",
      "Epoch 21/50\n",
      "32/32 [==============================] - 0s 14ms/step - loss: 0.2805 - acc: 0.8870 - val_loss: 0.4511 - val_acc: 0.8100\n",
      "Epoch 22/50\n",
      "32/32 [==============================] - 0s 14ms/step - loss: 0.2266 - acc: 0.9070 - val_loss: 0.4401 - val_acc: 0.8350\n",
      "Epoch 23/50\n",
      "32/32 [==============================] - 0s 14ms/step - loss: 0.2267 - acc: 0.9140 - val_loss: 0.4408 - val_acc: 0.8390\n",
      "Epoch 24/50\n",
      "32/32 [==============================] - 0s 14ms/step - loss: 0.2097 - acc: 0.9080 - val_loss: 0.4425 - val_acc: 0.8320\n",
      "Epoch 25/50\n",
      "32/32 [==============================] - 0s 13ms/step - loss: 0.1995 - acc: 0.9250 - val_loss: 0.4414 - val_acc: 0.8330\n",
      "Epoch 26/50\n",
      "32/32 [==============================] - 0s 13ms/step - loss: 0.2199 - acc: 0.9180 - val_loss: 0.4923 - val_acc: 0.8130\n",
      "Epoch 27/50\n",
      "32/32 [==============================] - 0s 13ms/step - loss: 0.1794 - acc: 0.9170 - val_loss: 0.4370 - val_acc: 0.8480\n",
      "Epoch 28/50\n",
      "32/32 [==============================] - 0s 12ms/step - loss: 0.1502 - acc: 0.9450 - val_loss: 0.3841 - val_acc: 0.8620\n",
      "Epoch 29/50\n",
      "32/32 [==============================] - 0s 12ms/step - loss: 0.1668 - acc: 0.9350 - val_loss: 0.4251 - val_acc: 0.8570\n",
      "Epoch 30/50\n",
      "32/32 [==============================] - 0s 12ms/step - loss: 0.1504 - acc: 0.9370 - val_loss: 0.3731 - val_acc: 0.8550\n",
      "Epoch 31/50\n",
      "32/32 [==============================] - 0s 12ms/step - loss: 0.1495 - acc: 0.9390 - val_loss: 0.4736 - val_acc: 0.8330\n",
      "Epoch 32/50\n",
      "32/32 [==============================] - 0s 13ms/step - loss: 0.1872 - acc: 0.9260 - val_loss: 0.4707 - val_acc: 0.8290\n",
      "Epoch 33/50\n",
      "32/32 [==============================] - 0s 12ms/step - loss: 0.1772 - acc: 0.9300 - val_loss: 0.5045 - val_acc: 0.8390\n",
      "Epoch 34/50\n",
      "32/32 [==============================] - 0s 12ms/step - loss: 0.1444 - acc: 0.9430 - val_loss: 0.4854 - val_acc: 0.8400\n",
      "Epoch 35/50\n",
      "32/32 [==============================] - 0s 13ms/step - loss: 0.1372 - acc: 0.9490 - val_loss: 0.5136 - val_acc: 0.8290\n",
      "Epoch 36/50\n",
      "32/32 [==============================] - 0s 13ms/step - loss: 0.1580 - acc: 0.9300 - val_loss: 0.4616 - val_acc: 0.8510\n",
      "Epoch 37/50\n",
      "32/32 [==============================] - 0s 13ms/step - loss: 0.1653 - acc: 0.9260 - val_loss: 0.3868 - val_acc: 0.8630\n",
      "Epoch 38/50\n",
      "32/32 [==============================] - 0s 13ms/step - loss: 0.1447 - acc: 0.9390 - val_loss: 0.3951 - val_acc: 0.8610\n",
      "Epoch 39/50\n",
      "32/32 [==============================] - 0s 13ms/step - loss: 0.1513 - acc: 0.9440 - val_loss: 0.3842 - val_acc: 0.8770\n",
      "Epoch 40/50\n",
      "32/32 [==============================] - 0s 13ms/step - loss: 0.1255 - acc: 0.9570 - val_loss: 0.3875 - val_acc: 0.8840\n",
      "Epoch 41/50\n",
      "32/32 [==============================] - 0s 13ms/step - loss: 0.1106 - acc: 0.9510 - val_loss: 0.4159 - val_acc: 0.8780\n",
      "Epoch 42/50\n",
      "32/32 [==============================] - 0s 13ms/step - loss: 0.1228 - acc: 0.9580 - val_loss: 0.3954 - val_acc: 0.8830\n",
      "Epoch 43/50\n",
      "32/32 [==============================] - 0s 13ms/step - loss: 0.1278 - acc: 0.9570 - val_loss: 0.4088 - val_acc: 0.8580\n",
      "Epoch 44/50\n",
      "32/32 [==============================] - 0s 13ms/step - loss: 0.1178 - acc: 0.9560 - val_loss: 0.3687 - val_acc: 0.8810\n",
      "Epoch 45/50\n",
      "32/32 [==============================] - 0s 13ms/step - loss: 0.0937 - acc: 0.9660 - val_loss: 0.3527 - val_acc: 0.8900\n",
      "Epoch 46/50\n",
      "32/32 [==============================] - 0s 12ms/step - loss: 0.1040 - acc: 0.9620 - val_loss: 0.4247 - val_acc: 0.8640\n",
      "Epoch 47/50\n",
      "32/32 [==============================] - 0s 12ms/step - loss: 0.1370 - acc: 0.9450 - val_loss: 0.4451 - val_acc: 0.8630\n",
      "Epoch 48/50\n",
      "32/32 [==============================] - 0s 12ms/step - loss: 0.1284 - acc: 0.9480 - val_loss: 0.3897 - val_acc: 0.8750\n",
      "Epoch 49/50\n",
      "32/32 [==============================] - 0s 12ms/step - loss: 0.1157 - acc: 0.9570 - val_loss: 0.4099 - val_acc: 0.8760\n",
      "Epoch 50/50\n",
      "32/32 [==============================] - 0s 12ms/step - loss: 0.0991 - acc: 0.9570 - val_loss: 0.4065 - val_acc: 0.8840\n"
     ]
    }
   ],
   "source": [
    "train_size = 1000\n",
    "X_train = source_train[:train_size]\n",
    "y_train = labels_train[:train_size]\n",
    "X_val = source_val\n",
    "y_val = labels_val\n",
    "history = transformer_model.fit(X_train, y_train, validation_data=(X_val, y_val), epochs=50, verbose=1)"
   ]
  },
  {
   "cell_type": "code",
   "execution_count": 56,
   "metadata": {},
   "outputs": [
    {
     "data": {
      "image/png": "[encoded data removed]",
      "text/plain": [
       "<Figure size 432x288 with 2 Axes>"
      ]
     },
     "metadata": {
      "needs_background": "light"
     },
     "output_type": "display_data"
    }
   ],
   "source": [
    "utils.plot_history(history, ('loss', 'acc'));\n"
   ]
  },
  {
   "cell_type": "code",
   "execution_count": 57,
   "metadata": {},
   "outputs": [
    {
     "name": "stdout",
     "output_type": "stream",
     "text": [
      "test accuracy: 88.70%\n",
      "\n"
     ]
    }
   ],
   "source": [
    "out = transformer_model.predict(source_test, verbose=0)\n",
    "yhat = np.argmax(out, axis=1)\n",
    "print('test accuracy: %.2f%%\\n' % (100*np.mean(yhat==labels_test)))\n"
   ]
  },
  {
   "cell_type": "code",
   "execution_count": 58,
   "metadata": {},
   "outputs": [],
   "source": [
    "class AbstractorClassifier(tf.keras.Model):\n",
    "    def __init__(self, num_layers, num_heads, dff,\n",
    "            input_vocab, embedding_dim, dropout_rate=0.1, name='abstractor_classifier'):\n",
    "        \"\"\"\n",
    "        Sequenc Relational Abstractor.\n",
    "\n",
    "        Args:\n",
    "            num_layers (int): # of layers in encoder and decoder\n",
    "            num_heads (int): # of attention heads in attention operations\n",
    "            dff (int): dimension of feedforward laeyrs\n",
    "            input_vocab (int or str): if input is tokens, the size of vocabulary as an int. \n",
    "                if input is vectors, the string 'vector'. used to create embedder.\n",
    "            embedding_dim (int): embedding dimension to use. this is the model dimension.\n",
    "            dropout_rate (float, optional): dropout rate. Defaults to 0.1.\n",
    "            name (str, optional): name of model. Defaults to 'seq2seq_relational_abstracter'.\n",
    "        \"\"\"\n",
    "\n",
    "        super().__init__(name=name)\n",
    "\n",
    "        if isinstance(input_vocab, int):\n",
    "            self.source_embedder = layers.Embedding(input_vocab, embedding_dim, name='source_embedder')\n",
    "        elif input_vocab == 'vector':\n",
    "            self.source_embedder = layers.TimeDistributed(layers.Dense(embedding_dim), name='source_embedder')\n",
    "        else:\n",
    "            raise ValueError(\n",
    "                \"`input_vocab` must be an integer if the input sequence is token-valued or \"\n",
    "                \"'vector' if the input sequence is vector-valued.\")\n",
    "\n",
    "        self.pos_embedding_adder_input = AddPositionalEmbedding(name='add_pos_embedding_input')\n",
    "        self.encoder = Encoder(num_layers=num_layers, num_heads=num_heads, dff=dff, dropout_rate=dropout_rate, name='encoder')\n",
    "        self.abstractor = RelationalAbstracter(num_layers=num_layers, num_heads=num_heads, dff=dff, dropout_rate=dropout_rate, name='abstractor')\n",
    "        self.flattener = layers.Flatten()\n",
    "        self.final_layer = layers.Dense(2, name='final_layer')\n",
    "\n",
    "\n",
    "    def call(self, inputs):\n",
    "        source = inputs\n",
    "\n",
    "        x = self.source_embedder(source)\n",
    "        x = self.pos_embedding_adder_input(x)\n",
    "        encoder_context = self.encoder(x)\n",
    "        abstracted_context = self.abstractor(encoder_context)\n",
    "        outputs = self.flattener(abstracted_context)\n",
    "        logits = self.final_layer(outputs)\n",
    "\n",
    "        try:\n",
    "          # Drop the keras mask, so it doesn't scale the losses/metrics.\n",
    "          # b/250038731\n",
    "          del logits._keras_mask\n",
    "        except AttributeError:\n",
    "          pass\n",
    "\n",
    "        return logits\n",
    "\n"
   ]
  },
  {
   "cell_type": "code",
   "execution_count": 59,
   "metadata": {},
   "outputs": [
    {
     "name": "stdout",
     "output_type": "stream",
     "text": [
      "Model: \"abstractor_classifier\"\n",
      "_________________________________________________________________\n",
      " Layer (type)                Output Shape              Param #   \n",
      "=================================================================\n",
      " source_embedder (TimeDistri  multiple                 4160      \n",
      " buted)                                                          \n",
      "                                                                 \n",
      " add_pos_embedding_input (Ad  multiple                 0         \n",
      " dPositionalEmbedding)                                           \n",
      "                                                                 \n",
      " encoder (Encoder)           multiple                  83584     \n",
      "                                                                 \n",
      " abstractor (RelationalAbstr  multiple                 150464    \n",
      " acter)                                                          \n",
      "                                                                 \n",
      " flatten_7 (Flatten)         multiple                  0         \n",
      "                                                                 \n",
      " final_layer (Dense)         multiple                  386       \n",
      "                                                                 \n",
      "=================================================================\n",
      "Total params: 238,594\n",
      "Trainable params: 238,594\n",
      "Non-trainable params: 0\n",
      "_________________________________________________________________\n"
     ]
    }
   ],
   "source": [
    "abstractor_model = AbstractorClassifier(\n",
    "    num_layers=2, num_heads=2, dff=64, \n",
    "    input_vocab='vector', embedding_dim=64)\n",
    "\n",
    "abstractor_model.compile(loss=loss, optimizer=create_opt(), metrics=['acc'])\n",
    "abstractor_model(X_train[:32])\n",
    "abstractor_model.summary()"
   ]
  },
  {
   "cell_type": "code",
   "execution_count": 60,
   "metadata": {},
   "outputs": [
    {
     "name": "stdout",
     "output_type": "stream",
     "text": [
      "Epoch 1/50\n",
      "32/32 [==============================] - 10s 49ms/step - loss: 0.8602 - acc: 0.5210 - val_loss: 0.7116 - val_acc: 0.4930\n",
      "Epoch 2/50\n",
      "32/32 [==============================] - 1s 23ms/step - loss: 0.7334 - acc: 0.5110 - val_loss: 0.7870 - val_acc: 0.4930\n",
      "Epoch 3/50\n",
      "32/32 [==============================] - 1s 22ms/step - loss: 0.7289 - acc: 0.4830 - val_loss: 0.6910 - val_acc: 0.5170\n",
      "Epoch 4/50\n",
      "32/32 [==============================] - 1s 21ms/step - loss: 0.6898 - acc: 0.5570 - val_loss: 0.7044 - val_acc: 0.5260\n",
      "Epoch 5/50\n",
      "32/32 [==============================] - 1s 21ms/step - loss: 0.6961 - acc: 0.5540 - val_loss: 0.7175 - val_acc: 0.5210\n",
      "Epoch 6/50\n",
      "32/32 [==============================] - 1s 21ms/step - loss: 0.6895 - acc: 0.5730 - val_loss: 0.6804 - val_acc: 0.5440\n",
      "Epoch 7/50\n",
      "32/32 [==============================] - 1s 21ms/step - loss: 0.6609 - acc: 0.6130 - val_loss: 0.7167 - val_acc: 0.5990\n",
      "Epoch 8/50\n",
      "32/32 [==============================] - 1s 21ms/step - loss: 0.6080 - acc: 0.6750 - val_loss: 0.6853 - val_acc: 0.5970\n",
      "Epoch 9/50\n",
      "32/32 [==============================] - 1s 21ms/step - loss: 0.6176 - acc: 0.6710 - val_loss: 0.6756 - val_acc: 0.6130\n",
      "Epoch 10/50\n",
      "32/32 [==============================] - 1s 21ms/step - loss: 0.5751 - acc: 0.6900 - val_loss: 0.6647 - val_acc: 0.6350\n",
      "Epoch 11/50\n",
      "32/32 [==============================] - 1s 27ms/step - loss: 0.6081 - acc: 0.6730 - val_loss: 0.5960 - val_acc: 0.6620\n",
      "Epoch 12/50\n",
      "32/32 [==============================] - 1s 30ms/step - loss: 0.5284 - acc: 0.7300 - val_loss: 0.5286 - val_acc: 0.7140\n",
      "Epoch 13/50\n",
      "32/32 [==============================] - 1s 21ms/step - loss: 0.5345 - acc: 0.7420 - val_loss: 0.4829 - val_acc: 0.7370\n",
      "Epoch 14/50\n",
      "32/32 [==============================] - 1s 22ms/step - loss: 0.4725 - acc: 0.7780 - val_loss: 0.4080 - val_acc: 0.8170\n",
      "Epoch 15/50\n",
      "32/32 [==============================] - 1s 21ms/step - loss: 0.3971 - acc: 0.8280 - val_loss: 0.4076 - val_acc: 0.8160\n",
      "Epoch 16/50\n",
      "32/32 [==============================] - 1s 21ms/step - loss: 0.4226 - acc: 0.8020 - val_loss: 0.4289 - val_acc: 0.8010\n",
      "Epoch 17/50\n",
      "32/32 [==============================] - 1s 20ms/step - loss: 0.4144 - acc: 0.8090 - val_loss: 0.4136 - val_acc: 0.8130\n",
      "Epoch 18/50\n",
      "32/32 [==============================] - 1s 21ms/step - loss: 0.3987 - acc: 0.8160 - val_loss: 0.3901 - val_acc: 0.8330\n",
      "Epoch 19/50\n",
      "32/32 [==============================] - 1s 21ms/step - loss: 0.3823 - acc: 0.8270 - val_loss: 0.3837 - val_acc: 0.8200\n",
      "Epoch 20/50\n",
      "32/32 [==============================] - 1s 20ms/step - loss: 0.3674 - acc: 0.8350 - val_loss: 0.4216 - val_acc: 0.8260\n",
      "Epoch 21/50\n",
      "32/32 [==============================] - 1s 21ms/step - loss: 0.3719 - acc: 0.8300 - val_loss: 0.4026 - val_acc: 0.8120\n",
      "Epoch 22/50\n",
      "32/32 [==============================] - 1s 22ms/step - loss: 0.3454 - acc: 0.8340 - val_loss: 0.4120 - val_acc: 0.7860\n",
      "Epoch 23/50\n",
      "32/32 [==============================] - 1s 22ms/step - loss: 0.3489 - acc: 0.8450 - val_loss: 0.4273 - val_acc: 0.7860\n",
      "Epoch 24/50\n",
      "32/32 [==============================] - 1s 21ms/step - loss: 0.3414 - acc: 0.8460 - val_loss: 0.4436 - val_acc: 0.8300\n",
      "Epoch 25/50\n",
      "32/32 [==============================] - 1s 21ms/step - loss: 0.3401 - acc: 0.8360 - val_loss: 0.4813 - val_acc: 0.7760\n",
      "Epoch 26/50\n",
      "32/32 [==============================] - 1s 21ms/step - loss: 0.3797 - acc: 0.8300 - val_loss: 0.3959 - val_acc: 0.8090\n",
      "Epoch 27/50\n",
      "32/32 [==============================] - 1s 21ms/step - loss: 0.3526 - acc: 0.8280 - val_loss: 0.4193 - val_acc: 0.8340\n",
      "Epoch 28/50\n",
      "32/32 [==============================] - 1s 21ms/step - loss: 0.3563 - acc: 0.8290 - val_loss: 0.4354 - val_acc: 0.7980\n",
      "Epoch 29/50\n",
      "32/32 [==============================] - 1s 21ms/step - loss: 0.3331 - acc: 0.8370 - val_loss: 0.3997 - val_acc: 0.8150\n",
      "Epoch 30/50\n",
      "32/32 [==============================] - 1s 21ms/step - loss: 0.3283 - acc: 0.8490 - val_loss: 0.4219 - val_acc: 0.7880\n",
      "Epoch 31/50\n",
      "32/32 [==============================] - 1s 21ms/step - loss: 0.3212 - acc: 0.8530 - val_loss: 0.4367 - val_acc: 0.7930\n",
      "Epoch 32/50\n",
      "32/32 [==============================] - 1s 21ms/step - loss: 0.3798 - acc: 0.8280 - val_loss: 0.4162 - val_acc: 0.8040\n",
      "Epoch 33/50\n",
      "32/32 [==============================] - 1s 20ms/step - loss: 0.3886 - acc: 0.8220 - val_loss: 0.4031 - val_acc: 0.8210\n",
      "Epoch 34/50\n",
      "32/32 [==============================] - 1s 21ms/step - loss: 0.3551 - acc: 0.8270 - val_loss: 0.4007 - val_acc: 0.8280\n",
      "Epoch 35/50\n",
      "32/32 [==============================] - 1s 20ms/step - loss: 0.3356 - acc: 0.8460 - val_loss: 0.3870 - val_acc: 0.8080\n",
      "Epoch 36/50\n",
      "32/32 [==============================] - 1s 22ms/step - loss: 0.3312 - acc: 0.8550 - val_loss: 0.4015 - val_acc: 0.8190\n",
      "Epoch 37/50\n",
      "32/32 [==============================] - 1s 21ms/step - loss: 0.3231 - acc: 0.8480 - val_loss: 0.3891 - val_acc: 0.8220\n",
      "Epoch 38/50\n",
      "32/32 [==============================] - 1s 20ms/step - loss: 0.3300 - acc: 0.8510 - val_loss: 0.4588 - val_acc: 0.8200\n",
      "Epoch 39/50\n",
      "32/32 [==============================] - 1s 21ms/step - loss: 0.3048 - acc: 0.8620 - val_loss: 0.4446 - val_acc: 0.8060\n",
      "Epoch 40/50\n",
      "32/32 [==============================] - 1s 20ms/step - loss: 0.2966 - acc: 0.8770 - val_loss: 0.4153 - val_acc: 0.8110\n",
      "Epoch 41/50\n",
      "32/32 [==============================] - 1s 21ms/step - loss: 0.3055 - acc: 0.8690 - val_loss: 0.4376 - val_acc: 0.7970\n",
      "Epoch 42/50\n",
      "32/32 [==============================] - 1s 21ms/step - loss: 0.3437 - acc: 0.8660 - val_loss: 0.4595 - val_acc: 0.7880\n",
      "Epoch 43/50\n",
      "32/32 [==============================] - 1s 21ms/step - loss: 0.3575 - acc: 0.8430 - val_loss: 0.4430 - val_acc: 0.8160\n",
      "Epoch 44/50\n",
      "32/32 [==============================] - 1s 21ms/step - loss: 0.3256 - acc: 0.8470 - val_loss: 0.4226 - val_acc: 0.8080\n",
      "Epoch 45/50\n",
      "32/32 [==============================] - 1s 21ms/step - loss: 0.2962 - acc: 0.8720 - val_loss: 0.4725 - val_acc: 0.8070\n",
      "Epoch 46/50\n",
      "32/32 [==============================] - 1s 21ms/step - loss: 0.2924 - acc: 0.8680 - val_loss: 0.4543 - val_acc: 0.8180\n",
      "Epoch 47/50\n",
      "32/32 [==============================] - 1s 21ms/step - loss: 0.2847 - acc: 0.8730 - val_loss: 0.4606 - val_acc: 0.8000\n",
      "Epoch 48/50\n",
      "32/32 [==============================] - 1s 21ms/step - loss: 0.3013 - acc: 0.8670 - val_loss: 0.4539 - val_acc: 0.8160\n",
      "Epoch 49/50\n",
      "32/32 [==============================] - 1s 21ms/step - loss: 0.4324 - acc: 0.8000 - val_loss: 0.4406 - val_acc: 0.7790\n",
      "Epoch 50/50\n",
      "32/32 [==============================] - 1s 21ms/step - loss: 0.3529 - acc: 0.8360 - val_loss: 0.4066 - val_acc: 0.8150\n"
     ]
    }
   ],
   "source": [
    "train_size = 1000\n",
    "X_train = source_train[:train_size]\n",
    "y_train = labels_train[:train_size]\n",
    "X_val = source_val\n",
    "y_val = labels_val\n",
    "history = abstractor_model.fit(X_train, y_train, validation_data=(X_val, y_val), epochs=50, verbose=1)"
   ]
  },
  {
   "cell_type": "code",
   "execution_count": 61,
   "metadata": {},
   "outputs": [
    {
     "data": {
      "image/png": "[encoded data removed]",
      "text/plain": [
       "<Figure size 432x288 with 2 Axes>"
      ]
     },
     "metadata": {
      "needs_background": "light"
     },
     "output_type": "display_data"
    }
   ],
   "source": [
    "utils.plot_history(history, ('loss', 'acc'));\n"
   ]
  },
  {
   "cell_type": "code",
   "execution_count": 62,
   "metadata": {},
   "outputs": [
    {
     "name": "stdout",
     "output_type": "stream",
     "text": [
      "test accuracy: 81.10%\n",
      "\n"
     ]
    }
   ],
   "source": [
    "out = abstractor_model.predict(source_test, verbose=0)\n",
    "yhat = np.argmax(out, axis=1)\n",
    "print('test accuracy: %.2f%%\\n' % (100*np.mean(yhat==labels_test)))\n"
   ]
  }
 ],
 "metadata": {
  "interpreter": {
   "hash": "075427e9d7b4e88d8be5fc9c4269e9099fc3e822a226ecef7da6e611953d0392"
  },
  "kernelspec": {
   "display_name": "Python 3",
   "language": "python",
   "name": "python3"
  },
  "language_info": {
   "codemirror_mode": {
    "name": "ipython",
    "version": 3
   },
   "file_extension": ".py",
   "mimetype": "text/x-python",
   "name": "python",
   "nbconvert_exporter": "python",
   "pygments_lexer": "ipython3",
   "version": "3.8.5"
  }
 },
 "nbformat": 4,
 "nbformat_minor": 2
}
