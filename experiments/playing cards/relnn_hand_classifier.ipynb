{
 "cells": [
  {
   "cell_type": "markdown",
   "id": "a3162d20",
   "metadata": {
    "papermill": {
     "duration": 0.005336,
     "end_time": "2023-01-06T01:03:22.385001",
     "exception": false,
     "start_time": "2023-01-06T01:03:22.379665",
     "status": "completed"
    },
    "tags": []
   },
   "source": [
    "# Classification of 'Sortedness' of Sequence of Cards using RelNN"
   ]
  },
  {
   "cell_type": "code",
   "execution_count": 2,
   "id": "76c40bd9",
   "metadata": {
    "_cell_guid": "b1076dfc-b9ad-4769-8c92-a6c4dae69d19",
    "_uuid": "8f2839f25d086af736a60e9eeb907d3b93b6e0e5",
    "execution": {
     "iopub.execute_input": "2023-01-06T01:03:59.799626Z",
     "iopub.status.busy": "2023-01-06T01:03:59.798624Z",
     "iopub.status.idle": "2023-01-06T01:04:05.116538Z",
     "shell.execute_reply": "2023-01-06T01:04:05.115474Z"
    },
    "papermill": {
     "duration": 5.326352,
     "end_time": "2023-01-06T01:04:05.119370",
     "exception": false,
     "start_time": "2023-01-06T01:03:59.793018",
     "status": "completed"
    },
    "tags": []
   },
   "outputs": [],
   "source": [
    "import numpy as np\n",
    "import tensorflow as tf\n",
    "from tensorflow.keras import layers, Model\n",
    "import matplotlib.pyplot as plt\n",
    "import sklearn.metrics\n",
    "import pydealer\n",
    "\n",
    "import relational_neural_networks\n",
    "\n",
    "from hand2hand import Cards\n",
    "import utils"
   ]
  },
  {
   "cell_type": "code",
   "execution_count": 3,
   "id": "a1ffb909",
   "metadata": {
    "execution": {
     "iopub.execute_input": "2023-01-06T01:04:05.129927Z",
     "iopub.status.busy": "2023-01-06T01:04:05.129398Z",
     "iopub.status.idle": "2023-01-06T01:04:08.938411Z",
     "shell.execute_reply": "2023-01-06T01:04:08.937110Z"
    },
    "papermill": {
     "duration": 3.816754,
     "end_time": "2023-01-06T01:04:08.940781",
     "exception": false,
     "start_time": "2023-01-06T01:04:05.124027",
     "status": "completed"
    },
    "tags": []
   },
   "outputs": [
    {
     "name": "stdout",
     "output_type": "stream",
     "text": [
      "env: \"WANDB_NOTEBOOK_NAME\"=\"relnn_hand_classifier.ipynb\"\n"
     ]
    },
    {
     "name": "stderr",
     "output_type": "stream",
     "text": [
      "\u001b[34m\u001b[1mwandb\u001b[0m: W&B API key is configured. Use \u001b[1m`wandb login --relogin`\u001b[0m to force relogin\n",
      "\u001b[34m\u001b[1mwandb\u001b[0m: \u001b[33mWARNING\u001b[0m If you're specifying your api key in code, ensure this code is not shared publicly.\n",
      "\u001b[34m\u001b[1mwandb\u001b[0m: \u001b[33mWARNING\u001b[0m Consider setting the WANDB_API_KEY environment variable, or running `wandb login` from the command line.\n",
      "\u001b[34m\u001b[1mwandb\u001b[0m: Appending key for api.wandb.ai to your netrc file: /root/.netrc\n"
     ]
    },
    {
     "data": {
      "text/plain": [
       "True"
      ]
     },
     "execution_count": 3,
     "metadata": {},
     "output_type": "execute_result"
    }
   ],
   "source": [
    "%env \"WANDB_NOTEBOOK_NAME\" \"relnn_hand_classifier.ipynb\"\n",
    "\n",
    "import wandb\n",
    "wandb.login()"
   ]
  },
  {
   "cell_type": "code",
   "execution_count": 4,
   "id": "98047ce8",
   "metadata": {
    "execution": {
     "iopub.execute_input": "2023-01-06T01:04:08.953350Z",
     "iopub.status.busy": "2023-01-06T01:04:08.952815Z",
     "iopub.status.idle": "2023-01-06T01:04:11.475397Z",
     "shell.execute_reply": "2023-01-06T01:04:11.472852Z"
    },
    "papermill": {
     "duration": 2.531859,
     "end_time": "2023-01-06T01:04:11.477675",
     "exception": false,
     "start_time": "2023-01-06T01:04:08.945816",
     "status": "completed"
    },
    "tags": []
   },
   "outputs": [
    {
     "name": "stderr",
     "output_type": "stream",
     "text": [
      "2023-01-06 01:04:09.045472: I tensorflow/stream_executor/cuda/cuda_gpu_executor.cc:937] successful NUMA node read from SysFS had negative value (-1), but there must be at least one NUMA node, so returning NUMA node zero\n",
      "2023-01-06 01:04:09.145899: I tensorflow/stream_executor/cuda/cuda_gpu_executor.cc:937] successful NUMA node read from SysFS had negative value (-1), but there must be at least one NUMA node, so returning NUMA node zero\n",
      "2023-01-06 01:04:09.146763: I tensorflow/stream_executor/cuda/cuda_gpu_executor.cc:937] successful NUMA node read from SysFS had negative value (-1), but there must be at least one NUMA node, so returning NUMA node zero\n",
      "2023-01-06 01:04:09.149027: I tensorflow/core/platform/cpu_feature_guard.cc:142] This TensorFlow binary is optimized with oneAPI Deep Neural Network Library (oneDNN) to use the following CPU instructions in performance-critical operations:  AVX2 AVX512F FMA\n",
      "To enable them in other operations, rebuild TensorFlow with the appropriate compiler flags.\n",
      "2023-01-06 01:04:09.149416: I tensorflow/stream_executor/cuda/cuda_gpu_executor.cc:937] successful NUMA node read from SysFS had negative value (-1), but there must be at least one NUMA node, so returning NUMA node zero\n",
      "2023-01-06 01:04:09.150366: I tensorflow/stream_executor/cuda/cuda_gpu_executor.cc:937] successful NUMA node read from SysFS had negative value (-1), but there must be at least one NUMA node, so returning NUMA node zero\n",
      "2023-01-06 01:04:09.151340: I tensorflow/stream_executor/cuda/cuda_gpu_executor.cc:937] successful NUMA node read from SysFS had negative value (-1), but there must be at least one NUMA node, so returning NUMA node zero\n",
      "2023-01-06 01:04:11.101625: I tensorflow/stream_executor/cuda/cuda_gpu_executor.cc:937] successful NUMA node read from SysFS had negative value (-1), but there must be at least one NUMA node, so returning NUMA node zero\n",
      "2023-01-06 01:04:11.102481: I tensorflow/stream_executor/cuda/cuda_gpu_executor.cc:937] successful NUMA node read from SysFS had negative value (-1), but there must be at least one NUMA node, so returning NUMA node zero\n",
      "2023-01-06 01:04:11.103147: I tensorflow/stream_executor/cuda/cuda_gpu_executor.cc:937] successful NUMA node read from SysFS had negative value (-1), but there must be at least one NUMA node, so returning NUMA node zero\n",
      "2023-01-06 01:04:11.103729: I tensorflow/core/common_runtime/gpu/gpu_device.cc:1510] Created device /job:localhost/replica:0/task:0/device:GPU:0 with 15401 MB memory:  -> device: 0, name: Tesla P100-PCIE-16GB, pci bus id: 0000:00:04.0, compute capability: 6.0\n"
     ]
    }
   ],
   "source": [
    "# utility functions\n",
    "\n",
    "card_image_shape = (178, 122, 3)\n",
    "hand_size = 7\n",
    "class_names = ['not sorted', 'sorted']\n",
    "\n",
    "def create_callbacks(monitor='loss', log_gradients=False, save_model=True, log_weights=True,\n",
    "                     train_ds=None, val_ds=None, ):\n",
    "    callbacks = [\n",
    "#         tf.keras.callbacks.EarlyStopping(monitor='val_loss', patience=10, mode='auto', restore_best_weights=True),\n",
    "#         tf.keras.callbacks.ReduceLROnPlateau( monitor='val_loss', factor=0.1, patience=5, verbose=1, mode='auto'),\n",
    "#         wandb.keras.WandbMetricsLogger(log_freq='epoch'),\n",
    "#         wandb.keras.WandbModelCheckpoint(monitor=monitor, mode='auto', save_freq='epoch')\n",
    "        wandb.keras.WandbCallback(\n",
    "            monitor=monitor, log_weights=log_weights, log_gradients=log_gradients, save_model=save_model, save_graph=True,\n",
    "            training_data=train_ds, validation_data=val_ds,\n",
    "            labels=class_names, predictions=64, compute_flops=True)\n",
    "        ]\n",
    "    return callbacks\n",
    "\n",
    "metrics = [\n",
    "        tf.keras.metrics.BinaryAccuracy(name='acc'),\n",
    "        tf.keras.metrics.Precision(class_id=1, name='precision'),\n",
    "        tf.keras.metrics.Recall(class_id=1, name='recall'),\n",
    "        tf.keras.metrics.AUC(curve='ROC', multi_label=True, name='auc')\n",
    "        ]\n",
    "\n",
    "loss = tf.keras.losses.CategoricalCrossentropy(from_logits=False)\n",
    "opt = tf.keras.optimizers.Adam()\n",
    "\n",
    "def get_preds(model, ds, print_classification_report=True):\n",
    "    y_pred_proba = model.predict(ds.batch(128))\n",
    "    y_pred = np.argmax(y_pred_proba, axis=1)\n",
    "    y_true = np.array([y for x,y in ds])\n",
    "    if print_classification_report:\n",
    "        print(sklearn.metrics.classification_report(y_true[:,1], y_pred))\n",
    "    \n",
    "    return y_true, y_pred_proba, y_pred\n",
    "\n",
    "def log_to_wandb(y_test, pred_proba_test, pred_test):\n",
    "    # log test-set metrics to W&B\n",
    "    y_test = np.array(y_test[:,1])\n",
    "    wandb.log({\"pr\": wandb.plot.pr_curve(y_test, pred_proba_test, class_names)})\n",
    "    wandb.log({\"roc\": wandb.plot.roc_curve(y_test, pred_proba_test, labels=class_names)})\n",
    "    wandb.log({\"confusion_matrix\": wandb.plot.confusion_matrix(y_true=y_test, preds=pred_test, class_names=class_names)})\n",
    "\n",
    "def wrap_run(model, ds):\n",
    "    y_true, y_pred_proba, y_pred = get_preds(model, ds, print_classification_report=True)\n",
    "    log_to_wandb(y_true, y_pred_proba, y_pred)\n",
    "    wandb.finish()\n",
    "\n",
    "fit_kwargs = {'epochs': 10}"
   ]
  },
  {
   "cell_type": "markdown",
   "id": "e534fa05",
   "metadata": {
    "papermill": {
     "duration": 0.00458,
     "end_time": "2023-01-06T01:04:11.487217",
     "exception": false,
     "start_time": "2023-01-06T01:04:11.482637",
     "status": "completed"
    },
    "tags": []
   },
   "source": [
    "## Buid Card Image Encoder via Training on Card Classification Trask"
   ]
  },
  {
   "cell_type": "code",
   "execution_count": 5,
   "id": "649649f6",
   "metadata": {
    "execution": {
     "iopub.execute_input": "2023-01-06T01:04:11.498547Z",
     "iopub.status.busy": "2023-01-06T01:04:11.497913Z",
     "iopub.status.idle": "2023-01-06T01:04:11.546259Z",
     "shell.execute_reply": "2023-01-06T01:04:11.545300Z"
    },
    "papermill": {
     "duration": 0.056598,
     "end_time": "2023-01-06T01:04:11.548715",
     "exception": false,
     "start_time": "2023-01-06T01:04:11.492117",
     "status": "completed"
    },
    "tags": []
   },
   "outputs": [],
   "source": [
    "# create card classification dataset\n",
    "card_rank_dict = pydealer.DEFAULT_RANKS['values']\n",
    "card_suit_dict = pydealer.DEFAULT_RANKS['suits']\n",
    "\n",
    "def card_classification_generator():\n",
    "    deck = Cards()\n",
    "    pydeck = pydealer.Deck()\n",
    "\n",
    "    for card in pydeck:\n",
    "        x = deck.image_of_pycard(card) / 255\n",
    "        y = deck.index_of_card(card)\n",
    "        yield x,y\n",
    "\n",
    "card_classification_ds = tf.data.Dataset.from_generator(\n",
    "     card_classification_generator,\n",
    "     output_signature=(\n",
    "         tf.TensorSpec(shape=card_image_shape, dtype=tf.float32),\n",
    "         tf.TensorSpec(shape=(), dtype=tf.int32))\n",
    "    )\n"
   ]
  },
  {
   "cell_type": "code",
   "execution_count": 6,
   "id": "6dc70491",
   "metadata": {
    "execution": {
     "iopub.execute_input": "2023-01-06T01:04:11.559896Z",
     "iopub.status.busy": "2023-01-06T01:04:11.559614Z",
     "iopub.status.idle": "2023-01-06T01:04:11.652363Z",
     "shell.execute_reply": "2023-01-06T01:04:11.651125Z"
    },
    "papermill": {
     "duration": 0.101468,
     "end_time": "2023-01-06T01:04:11.655155",
     "exception": false,
     "start_time": "2023-01-06T01:04:11.553687",
     "status": "completed"
    },
    "tags": []
   },
   "outputs": [
    {
     "name": "stdout",
     "output_type": "stream",
     "text": [
      "Model: \"card_cnn\"\n",
      "_________________________________________________________________\n",
      "Layer (type)                 Output Shape              Param #   \n",
      "=================================================================\n",
      "card_image (InputLayer)      [(None, 178, 122, 3)]     0         \n",
      "_________________________________________________________________\n",
      "card_encoder (Functional)    (None, 64)                138720    \n",
      "_________________________________________________________________\n",
      "card_classification (Dense)  (None, 52)                3380      \n",
      "=================================================================\n",
      "Total params: 142,100\n",
      "Trainable params: 142,100\n",
      "Non-trainable params: 0\n",
      "_________________________________________________________________\n"
     ]
    }
   ],
   "source": [
    "img_input = layers.Input(shape=card_image_shape, name='card_image')\n",
    "\n",
    "x = layers.Conv2D(32, (5, 5), activation='relu')(img_input)\n",
    "x = layers.MaxPooling2D((4,4))(x)\n",
    "x = layers.Conv2D(32, (5, 5), activation='relu')(x)\n",
    "x = layers.MaxPooling2D((4,4))(x)\n",
    "x = layers.Flatten()(x)\n",
    "x = layers.Dense(64, activation='relu')(x)\n",
    "\n",
    "card_encoder = Model(inputs=img_input, outputs=x, name='card_encoder')\n",
    "card_classification = layers.Dense(52, name='card_classification')(card_encoder(img_input))\n",
    "\n",
    "cnn_card_clf = Model(inputs=img_input, outputs=card_classification, name='card_cnn')\n",
    "\n",
    "cnn_card_clf.summary()\n",
    "\n",
    "cnn_card_clf.compile(loss=tf.keras.losses.SparseCategoricalCrossentropy(from_logits=True), \n",
    "                     optimizer=tf.keras.optimizers.Adam(learning_rate=0.001),\n",
    "                     metrics=['accuracy'])"
   ]
  },
  {
   "cell_type": "code",
   "execution_count": 7,
   "id": "4f78d6a1",
   "metadata": {
    "execution": {
     "iopub.execute_input": "2023-01-06T01:04:11.667216Z",
     "iopub.status.busy": "2023-01-06T01:04:11.666882Z",
     "iopub.status.idle": "2023-01-06T01:04:27.016502Z",
     "shell.execute_reply": "2023-01-06T01:04:27.015477Z"
    },
    "papermill": {
     "duration": 15.358433,
     "end_time": "2023-01-06T01:04:27.019062",
     "exception": false,
     "start_time": "2023-01-06T01:04:11.660629",
     "status": "completed"
    },
    "tags": []
   },
   "outputs": [
    {
     "name": "stderr",
     "output_type": "stream",
     "text": [
      "2023-01-06 01:04:11.701237: I tensorflow/compiler/mlir/mlir_graph_optimization_pass.cc:185] None of the MLIR Optimization Passes are enabled (registered 2)\n",
      "2023-01-06 01:04:12.900812: I tensorflow/stream_executor/cuda/cuda_dnn.cc:369] Loaded cuDNN version 8005\n"
     ]
    }
   ],
   "source": [
    "history = cnn_card_clf.fit(card_classification_ds.batch(52), epochs=50, verbose=0)"
   ]
  },
  {
   "cell_type": "code",
   "execution_count": 8,
   "id": "e5f911b4",
   "metadata": {
    "execution": {
     "iopub.execute_input": "2023-01-06T01:04:27.031815Z",
     "iopub.status.busy": "2023-01-06T01:04:27.030913Z",
     "iopub.status.idle": "2023-01-06T01:04:27.249326Z",
     "shell.execute_reply": "2023-01-06T01:04:27.248357Z"
    },
    "papermill": {
     "duration": 0.226809,
     "end_time": "2023-01-06T01:04:27.251508",
     "exception": false,
     "start_time": "2023-01-06T01:04:27.024699",
     "status": "completed"
    },
    "tags": []
   },
   "outputs": [
    {
     "data": {
      "image/png": "[encoded data removed]",
      "text/plain": [
       "<Figure size 432x288 with 1 Axes>"
      ]
     },
     "metadata": {
      "needs_background": "light"
     },
     "output_type": "display_data"
    }
   ],
   "source": [
    "plt.plot(history.history['loss']);\n",
    "plt.xlabel('epoch'); plt.ylabel('loss');"
   ]
  },
  {
   "cell_type": "markdown",
   "id": "fbc846fe",
   "metadata": {
    "papermill": {
     "duration": 0.006128,
     "end_time": "2023-01-06T01:04:27.263353",
     "exception": false,
     "start_time": "2023-01-06T01:04:27.257225",
     "status": "completed"
    },
    "tags": []
   },
   "source": [
    "## Hand Classification Datasets: Tokenized Input and Image Input"
   ]
  },
  {
   "cell_type": "code",
   "execution_count": 9,
   "id": "3f029107",
   "metadata": {
    "execution": {
     "iopub.execute_input": "2023-01-06T01:04:27.274986Z",
     "iopub.status.busy": "2023-01-06T01:04:27.274682Z",
     "iopub.status.idle": "2023-01-06T01:04:27.283123Z",
     "shell.execute_reply": "2023-01-06T01:04:27.282312Z"
    },
    "papermill": {
     "duration": 0.01657,
     "end_time": "2023-01-06T01:04:27.285013",
     "exception": false,
     "start_time": "2023-01-06T01:04:27.268443",
     "status": "completed"
    },
    "tags": []
   },
   "outputs": [],
   "source": [
    "# create 'toy' dataset where the cards in the input sequence are represented as an index in a vocab of length 52 \n",
    "\n",
    "train_size = 10000\n",
    "\n",
    "def create_tokenized_hand_clf_ds(seed=None, train_size=train_size):\n",
    "    \n",
    "\n",
    "    def tokenized_hand_clf_ds_generator():\n",
    "        np.random.seed(seed) # optionally set seed for repeatability if desired\n",
    "\n",
    "        deck = Cards()\n",
    "        pydeck = pydealer.Deck()\n",
    "        pydeck.shuffle()\n",
    "\n",
    "        for i in np.arange(train_size):\n",
    "            hand = pydeck.deal(hand_size)\n",
    "            if len(hand) < hand_size:\n",
    "                # ran out of cards, make a new deck\n",
    "                pydeck = pydealer.Deck()\n",
    "                pydeck.shuffle()\n",
    "                hand = pydeck.deal(hand_size)\n",
    "            if np.random.normal() < 0:\n",
    "                deck.sort_pyhand(hand)\n",
    "\n",
    "            x = deck.index_pyhand(hand)\n",
    "            y = deck.is_sorted_pyhand(hand)\n",
    "            yield x, y\n",
    "\n",
    "    ds = tf.data.Dataset.from_generator(\n",
    "         tokenized_hand_clf_ds_generator,\n",
    "         output_signature=(\n",
    "             tf.TensorSpec(shape=(hand_size, ), dtype=tf.int32),\n",
    "             tf.TensorSpec(shape=(), dtype=tf.int32))\n",
    "        )\n",
    "\n",
    "    ds = ds.map(lambda x,y: (x, tf.one_hot(y,2)))\n",
    "    \n",
    "    return ds"
   ]
  },
  {
   "cell_type": "code",
   "execution_count": 10,
   "id": "e2516bcd",
   "metadata": {
    "execution": {
     "iopub.execute_input": "2023-01-06T01:04:27.297218Z",
     "iopub.status.busy": "2023-01-06T01:04:27.296424Z",
     "iopub.status.idle": "2023-01-06T01:04:27.305628Z",
     "shell.execute_reply": "2023-01-06T01:04:27.304734Z"
    },
    "papermill": {
     "duration": 0.017227,
     "end_time": "2023-01-06T01:04:27.307540",
     "exception": false,
     "start_time": "2023-01-06T01:04:27.290313",
     "status": "completed"
    },
    "tags": []
   },
   "outputs": [],
   "source": [
    "# define dataset generator for sequence of card images\n",
    "\n",
    "def create_img_hand_clf_ds(seed=None, train_size=train_size):\n",
    "\n",
    "\n",
    "    def hand_classification_generator():\n",
    "        np.random.seed(seed) # set seed for reproducibility of results\n",
    "\n",
    "        deck = Cards()\n",
    "        pydeck = pydealer.Deck()\n",
    "        pydeck.shuffle()\n",
    "\n",
    "        for i in np.arange(train_size):\n",
    "            hand = pydeck.deal(hand_size)\n",
    "            if len(hand) < hand_size:\n",
    "                # ran out of cards, make a new deck\n",
    "                pydeck = pydealer.Deck()\n",
    "                pydeck.shuffle()\n",
    "                hand = pydeck.deal(hand_size)\n",
    "            if np.random.normal() < 0:\n",
    "                deck.sort_pyhand(hand)\n",
    "\n",
    "            x = np.array([deck.image_of_pycard(hand[j]) / 255 for j in range(hand_size)])\n",
    "            y = deck.is_sorted_pyhand(hand)\n",
    "            yield x,y\n",
    "\n",
    "    ds = tf.data.Dataset.from_generator(\n",
    "         hand_classification_generator,\n",
    "         output_signature=(\n",
    "             tf.TensorSpec(shape=(hand_size, *card_image_shape), dtype=tf.float32),\n",
    "             tf.TensorSpec(shape=(), dtype=tf.int32))\n",
    "        )\n",
    "\n",
    "    ds = ds.map(lambda x,y: (x, tf.one_hot(y,2)))\n",
    "\n",
    "    return ds"
   ]
  },
  {
   "cell_type": "markdown",
   "id": "d5eaf5d0",
   "metadata": {
    "papermill": {
     "duration": 0.005063,
     "end_time": "2023-01-06T01:04:27.317805",
     "exception": false,
     "start_time": "2023-01-06T01:04:27.312742",
     "status": "completed"
    },
    "tags": []
   },
   "source": [
    "## Tokenized Input "
   ]
  },
  {
   "cell_type": "code",
   "execution_count": 11,
   "id": "9d46bac2",
   "metadata": {
    "execution": {
     "iopub.execute_input": "2023-01-06T01:04:27.329316Z",
     "iopub.status.busy": "2023-01-06T01:04:27.329039Z",
     "iopub.status.idle": "2023-01-06T01:04:27.540150Z",
     "shell.execute_reply": "2023-01-06T01:04:27.539000Z"
    },
    "papermill": {
     "duration": 0.21976,
     "end_time": "2023-01-06T01:04:27.542773",
     "exception": false,
     "start_time": "2023-01-06T01:04:27.323013",
     "status": "completed"
    },
    "tags": []
   },
   "outputs": [
    {
     "name": "stdout",
     "output_type": "stream",
     "text": [
      "Model: \"relational_model\"\n",
      "_________________________________________________________________\n",
      "Layer (type)                 Output Shape              Param #   \n",
      "=================================================================\n",
      "input_1 (InputLayer)         [(None, 7)]               0         \n",
      "_________________________________________________________________\n",
      "embedding (Embedding)        (None, 7, 32)             1664      \n",
      "_________________________________________________________________\n",
      "relational_layer (Relational (None, 7, 7, 4)           528       \n",
      "_________________________________________________________________\n",
      "flatten_triangular (FlattenT (None, 112)               0         \n",
      "_________________________________________________________________\n",
      "output (Dense)               (None, 2)                 226       \n",
      "=================================================================\n",
      "Total params: 2,418\n",
      "Trainable params: 2,418\n",
      "Non-trainable params: 0\n",
      "_________________________________________________________________\n"
     ]
    }
   ],
   "source": [
    "inputs = layers.Input(shape=(7, ))\n",
    "\n",
    "x = layers.Embedding(52, 32, name='embedding')(inputs)\n",
    "\n",
    "rel_encoders = [layers.Dense(16)]*4\n",
    "rel_layer = relational_neural_networks.RelationalLayer(rel_encoders, name='relational_layer')\n",
    "x = rel_layer(x)\n",
    "\n",
    "x = relational_neural_networks.FlattenTriangular(name='flatten_triangular')(x)\n",
    "\n",
    "x = layers.Dense(2, activation='softmax', name='output')(x)\n",
    "\n",
    "outputs = x\n",
    "\n",
    "model = tf.keras.Model(inputs, outputs, name='relational_model')\n",
    "\n",
    "model.summary()\n",
    "model.compile(loss=loss, optimizer=opt, metrics=metrics)"
   ]
  },
  {
   "cell_type": "code",
   "execution_count": 12,
   "id": "1249ae7d",
   "metadata": {
    "execution": {
     "iopub.execute_input": "2023-01-06T01:04:27.556578Z",
     "iopub.status.busy": "2023-01-06T01:04:27.555692Z",
     "iopub.status.idle": "2023-01-06T01:05:48.156466Z",
     "shell.execute_reply": "2023-01-06T01:05:48.155403Z"
    },
    "papermill": {
     "duration": 80.610562,
     "end_time": "2023-01-06T01:05:48.159766",
     "exception": false,
     "start_time": "2023-01-06T01:04:27.549204",
     "status": "completed"
    },
    "tags": []
   },
   "outputs": [
    {
     "name": "stderr",
     "output_type": "stream",
     "text": [
      "\u001b[34m\u001b[1mwandb\u001b[0m: Currently logged in as: \u001b[33mawni00\u001b[0m. Use \u001b[1m`wandb login --relogin`\u001b[0m to force relogin\n"
     ]
    },
    {
     "data": {
      "text/html": [
       "Tracking run with wandb version 0.13.7"
      ],
      "text/plain": [
       "<IPython.core.display.HTML object>"
      ]
     },
     "metadata": {},
     "output_type": "display_data"
    },
    {
     "data": {
      "text/html": [
       "Run data is saved locally in <code>/kaggle/working/relational-neural-networks/relational_neural_networks/wandb/run-20230106_010427-2foeyn7a</code>"
      ],
      "text/plain": [
       "<IPython.core.display.HTML object>"
      ]
     },
     "metadata": {},
     "output_type": "display_data"
    },
    {
     "data": {
      "text/html": [
       "Syncing run <strong><a href=\"https://wandb.ai/awni00/Abstracter%20Hand%20Classification/runs/2foeyn7a\" target=\"_blank\">stellar-wood-17</a></strong> to <a href=\"https://wandb.ai/awni00/Abstracter%20Hand%20Classification\" target=\"_blank\">Weights & Biases</a> (<a href=\"https://wandb.me/run\" target=\"_blank\">docs</a>)<br/>"
      ],
      "text/plain": [
       "<IPython.core.display.HTML object>"
      ]
     },
     "metadata": {},
     "output_type": "display_data"
    },
    {
     "name": "stderr",
     "output_type": "stream",
     "text": [
      "2023-01-06 01:05:06.657369: I tensorflow/stream_executor/cuda/cuda_gpu_executor.cc:937] successful NUMA node read from SysFS had negative value (-1), but there must be at least one NUMA node, so returning NUMA node zero\n",
      "2023-01-06 01:05:06.657767: I tensorflow/core/grappler/devices.cc:66] Number of eligible GPUs (core count >= 8, compute capability >= 0.0): 1\n",
      "2023-01-06 01:05:06.657934: I tensorflow/core/grappler/clusters/single_machine.cc:357] Starting new session\n",
      "2023-01-06 01:05:06.658453: I tensorflow/stream_executor/cuda/cuda_gpu_executor.cc:937] successful NUMA node read from SysFS had negative value (-1), but there must be at least one NUMA node, so returning NUMA node zero\n",
      "2023-01-06 01:05:06.658849: I tensorflow/stream_executor/cuda/cuda_gpu_executor.cc:937] successful NUMA node read from SysFS had negative value (-1), but there must be at least one NUMA node, so returning NUMA node zero\n",
      "2023-01-06 01:05:06.659203: I tensorflow/stream_executor/cuda/cuda_gpu_executor.cc:937] successful NUMA node read from SysFS had negative value (-1), but there must be at least one NUMA node, so returning NUMA node zero\n",
      "2023-01-06 01:05:06.659632: I tensorflow/stream_executor/cuda/cuda_gpu_executor.cc:937] successful NUMA node read from SysFS had negative value (-1), but there must be at least one NUMA node, so returning NUMA node zero\n",
      "2023-01-06 01:05:06.659956: I tensorflow/stream_executor/cuda/cuda_gpu_executor.cc:937] successful NUMA node read from SysFS had negative value (-1), but there must be at least one NUMA node, so returning NUMA node zero\n",
      "2023-01-06 01:05:06.660237: I tensorflow/core/common_runtime/gpu/gpu_device.cc:1510] Created device /job:localhost/replica:0/task:0/device:GPU:0 with 15401 MB memory:  -> device: 0, name: Tesla P100-PCIE-16GB, pci bus id: 0000:00:04.0, compute capability: 6.0\n",
      "2023-01-06 01:05:06.664783: I tensorflow/core/grappler/optimizers/meta_optimizer.cc:1137] Optimization results for grappler item: graph_to_optimize\n",
      "  function_optimizer: function_optimizer did nothing. time = 0.007ms.\n",
      "  function_optimizer: function_optimizer did nothing. time = 0.001ms.\n",
      "\n"
     ]
    },
    {
     "name": "stdout",
     "output_type": "stream",
     "text": [
      "Epoch 1/10\n",
      "40/40 [==============================] - 4s 73ms/step - loss: 0.6493 - acc: 0.7870 - precision: 0.8604 - recall: 0.6815 - auc: 0.8863\n",
      "Epoch 2/10\n",
      "40/40 [==============================] - 3s 77ms/step - loss: 0.3064 - acc: 0.9052 - precision: 0.8695 - recall: 0.9546 - auc: 0.9574\n",
      "Epoch 3/10\n",
      "40/40 [==============================] - 3s 73ms/step - loss: 0.1477 - acc: 0.9474 - precision: 0.9292 - recall: 0.9683 - auc: 0.9856\n",
      "Epoch 4/10\n",
      "40/40 [==============================] - 3s 75ms/step - loss: 0.1255 - acc: 0.9563 - precision: 0.9453 - recall: 0.9692 - auc: 0.9886\n",
      "Epoch 5/10\n",
      "40/40 [==============================] - 3s 82ms/step - loss: 0.1087 - acc: 0.9650 - precision: 0.9567 - recall: 0.9739 - auc: 0.9916\n",
      "Epoch 6/10\n",
      "40/40 [==============================] - 3s 78ms/step - loss: 0.0976 - acc: 0.9666 - precision: 0.9568 - recall: 0.9783 - auc: 0.9929\n",
      "Epoch 7/10\n",
      "40/40 [==============================] - 3s 72ms/step - loss: 0.0890 - acc: 0.9725 - precision: 0.9622 - recall: 0.9836 - auc: 0.9934\n",
      "Epoch 8/10\n",
      "40/40 [==============================] - 3s 78ms/step - loss: 0.0705 - acc: 0.9787 - precision: 0.9735 - recall: 0.9851 - auc: 0.9960\n",
      "Epoch 9/10\n",
      "40/40 [==============================] - 3s 73ms/step - loss: 0.0696 - acc: 0.9803 - precision: 0.9722 - recall: 0.9898 - auc: 0.9955\n",
      "Epoch 10/10\n",
      "40/40 [==============================] - 3s 71ms/step - loss: 0.0575 - acc: 0.9836 - precision: 0.9752 - recall: 0.9924 - auc: 0.9971\n"
     ]
    }
   ],
   "source": [
    "train_ds = create_tokenized_hand_clf_ds(seed=None)\n",
    "\n",
    "run = wandb.init(project='Abstracter Hand Classification', group='RelNN (Token Inputs)', save_code=True)\n",
    "\n",
    "history = model.fit(train_ds.batch(256), callbacks=create_callbacks(save_model=False), **fit_kwargs)"
   ]
  },
  {
   "cell_type": "code",
   "execution_count": 13,
   "id": "f1a57abc",
   "metadata": {
    "execution": {
     "iopub.execute_input": "2023-01-06T01:05:48.217968Z",
     "iopub.status.busy": "2023-01-06T01:05:48.217672Z",
     "iopub.status.idle": "2023-01-06T01:06:31.927214Z",
     "shell.execute_reply": "2023-01-06T01:06:31.926326Z"
    },
    "papermill": {
     "duration": 43.764245,
     "end_time": "2023-01-06T01:06:31.954501",
     "exception": false,
     "start_time": "2023-01-06T01:05:48.190256",
     "status": "completed"
    },
    "tags": []
   },
   "outputs": [
    {
     "name": "stdout",
     "output_type": "stream",
     "text": [
      "40/40 [==============================] - 4s 77ms/step - loss: 0.0608 - acc: 0.9827 - precision: 0.9752 - recall: 0.9906 - auc: 0.9963\n",
      "              precision    recall  f1-score   support\n",
      "\n",
      "         0.0       0.99      0.98      0.99      4992\n",
      "         1.0       0.98      0.99      0.99      5008\n",
      "\n",
      "    accuracy                           0.99     10000\n",
      "   macro avg       0.99      0.99      0.99     10000\n",
      "weighted avg       0.99      0.99      0.99     10000\n",
      "\n"
     ]
    },
    {
     "data": {
      "text/html": [
       "Waiting for W&B process to finish... <strong style=\"color:green\">(success).</strong>"
      ],
      "text/plain": [
       "<IPython.core.display.HTML object>"
      ]
     },
     "metadata": {},
     "output_type": "display_data"
    },
    {
     "data": {
      "text/html": [
       "<style>\n",
       "    table.wandb td:nth-child(1) { padding: 0 10px; text-align: left ; width: auto;} td:nth-child(2) {text-align: left ; width: 100%}\n",
       "    .wandb-row { display: flex; flex-direction: row; flex-wrap: wrap; justify-content: flex-start; width: 100% }\n",
       "    .wandb-col { display: flex; flex-direction: column; flex-basis: 100%; flex: 1; padding: 10px; }\n",
       "    </style>\n",
       "<div class=\"wandb-row\"><div class=\"wandb-col\"><h3>Run history:</h3><br/><table class=\"wandb\"><tr><td>acc</td><td>▁▅▇▇▇▇████</td></tr><tr><td>auc</td><td>▁▅▇▇██████</td></tr><tr><td>epoch</td><td>▁▂▃▃▄▅▆▆▇█</td></tr><tr><td>loss</td><td>█▄▂▂▂▁▁▁▁▁</td></tr><tr><td>precision</td><td>▁▂▅▆▇▇▇███</td></tr><tr><td>recall</td><td>▁▇▇▇██████</td></tr></table><br/></div><div class=\"wandb-col\"><h3>Run summary:</h3><br/><table class=\"wandb\"><tr><td>GFLOPs</td><td>2e-05</td></tr><tr><td>acc</td><td>0.9836</td></tr><tr><td>auc</td><td>0.99709</td></tr><tr><td>best_epoch</td><td>9</td></tr><tr><td>best_loss</td><td>0.05745</td></tr><tr><td>epoch</td><td>9</td></tr><tr><td>loss</td><td>0.05745</td></tr><tr><td>precision</td><td>0.97521</td></tr><tr><td>recall</td><td>0.99239</td></tr></table><br/></div></div>"
      ],
      "text/plain": [
       "<IPython.core.display.HTML object>"
      ]
     },
     "metadata": {},
     "output_type": "display_data"
    },
    {
     "data": {
      "text/html": [
       "Synced <strong style=\"color:#cdcd00\">stellar-wood-17</strong>: <a href=\"https://wandb.ai/awni00/Abstracter%20Hand%20Classification/runs/2foeyn7a\" target=\"_blank\">https://wandb.ai/awni00/Abstracter%20Hand%20Classification/runs/2foeyn7a</a><br/>Synced 6 W&B file(s), 4 media file(s), 5 artifact file(s) and 1 other file(s)"
      ],
      "text/plain": [
       "<IPython.core.display.HTML object>"
      ]
     },
     "metadata": {},
     "output_type": "display_data"
    },
    {
     "data": {
      "text/html": [
       "Find logs at: <code>./wandb/run-20230106_010427-2foeyn7a/logs</code>"
      ],
      "text/plain": [
       "<IPython.core.display.HTML object>"
      ]
     },
     "metadata": {},
     "output_type": "display_data"
    }
   ],
   "source": [
    "test_ds = create_tokenized_hand_clf_ds(seed=42)\n",
    "model.evaluate(test_ds.batch(256), return_dict=True);\n",
    "wrap_run(model, test_ds)"
   ]
  },
  {
   "cell_type": "markdown",
   "id": "193177c6",
   "metadata": {
    "papermill": {
     "duration": 0.028713,
     "end_time": "2023-01-06T01:06:32.012367",
     "exception": false,
     "start_time": "2023-01-06T01:06:31.983654",
     "status": "completed"
    },
    "tags": []
   },
   "source": [
    "## Full Card Clf as Encoder"
   ]
  },
  {
   "cell_type": "code",
   "execution_count": 14,
   "id": "d938f0a3",
   "metadata": {
    "execution": {
     "iopub.execute_input": "2023-01-06T01:06:32.071408Z",
     "iopub.status.busy": "2023-01-06T01:06:32.071108Z",
     "iopub.status.idle": "2023-01-06T01:06:32.180181Z",
     "shell.execute_reply": "2023-01-06T01:06:32.178438Z"
    },
    "papermill": {
     "duration": 0.1412,
     "end_time": "2023-01-06T01:06:32.182701",
     "exception": false,
     "start_time": "2023-01-06T01:06:32.041501",
     "status": "completed"
    },
    "tags": []
   },
   "outputs": [
    {
     "name": "stdout",
     "output_type": "stream",
     "text": [
      "Model: \"relational_model\"\n",
      "_________________________________________________________________\n",
      "Layer (type)                 Output Shape              Param #   \n",
      "=================================================================\n",
      "input_2 (InputLayer)         [(None, 7, 178, 122, 3)]  0         \n",
      "_________________________________________________________________\n",
      "card_clf_encoder (TimeDistri (None, 7, 52)             142100    \n",
      "_________________________________________________________________\n",
      "relational_layer (Relational (None, 7, 7, 4)           848       \n",
      "_________________________________________________________________\n",
      "flatten_triangular (FlattenT (None, 112)               0         \n",
      "_________________________________________________________________\n",
      "output (Dense)               (None, 2)                 226       \n",
      "=================================================================\n",
      "Total params: 143,174\n",
      "Trainable params: 1,074\n",
      "Non-trainable params: 142,100\n",
      "_________________________________________________________________\n"
     ]
    }
   ],
   "source": [
    "inputs = layers.Input(shape=(hand_size, *card_image_shape))\n",
    "x = layers.TimeDistributed(cnn_card_clf, name='card_clf_encoder', trainable=False)(inputs)\n",
    "\n",
    "rel_encoders = [layers.Dense(16)]*4\n",
    "rel_layer = relational_neural_networks.RelationalLayer(rel_encoders, name='relational_layer')\n",
    "x = rel_layer(x)\n",
    "\n",
    "x = relational_neural_networks.FlattenTriangular(name='flatten_triangular')(x)\n",
    "\n",
    "x = layers.Dense(2, activation='softmax', name='output')(x)\n",
    "\n",
    "outputs = x\n",
    "\n",
    "model = tf.keras.Model(inputs, outputs, name='relational_model')\n",
    "\n",
    "model.summary()\n",
    "model.compile(loss=loss, optimizer=opt, metrics=metrics)"
   ]
  },
  {
   "cell_type": "code",
   "execution_count": 15,
   "id": "1977281c",
   "metadata": {
    "execution": {
     "iopub.execute_input": "2023-01-06T01:06:32.247149Z",
     "iopub.status.busy": "2023-01-06T01:06:32.246818Z",
     "iopub.status.idle": "2023-01-06T01:13:22.514613Z",
     "shell.execute_reply": "2023-01-06T01:13:22.513381Z"
    },
    "papermill": {
     "duration": 410.302172,
     "end_time": "2023-01-06T01:13:22.518007",
     "exception": false,
     "start_time": "2023-01-06T01:06:32.215835",
     "status": "completed"
    },
    "tags": []
   },
   "outputs": [
    {
     "data": {
      "text/html": [
       "Tracking run with wandb version 0.13.7"
      ],
      "text/plain": [
       "<IPython.core.display.HTML object>"
      ]
     },
     "metadata": {},
     "output_type": "display_data"
    },
    {
     "data": {
      "text/html": [
       "Run data is saved locally in <code>/kaggle/working/relational-neural-networks/relational_neural_networks/wandb/run-20230106_010632-1kv5r5wb</code>"
      ],
      "text/plain": [
       "<IPython.core.display.HTML object>"
      ]
     },
     "metadata": {},
     "output_type": "display_data"
    },
    {
     "data": {
      "text/html": [
       "Syncing run <strong><a href=\"https://wandb.ai/awni00/Abstracter%20Hand%20Classification/runs/1kv5r5wb\" target=\"_blank\">glorious-frost-18</a></strong> to <a href=\"https://wandb.ai/awni00/Abstracter%20Hand%20Classification\" target=\"_blank\">Weights & Biases</a> (<a href=\"https://wandb.me/run\" target=\"_blank\">docs</a>)<br/>"
      ],
      "text/plain": [
       "<IPython.core.display.HTML object>"
      ]
     },
     "metadata": {},
     "output_type": "display_data"
    },
    {
     "name": "stderr",
     "output_type": "stream",
     "text": [
      "2023-01-06 01:07:09.061357: I tensorflow/stream_executor/cuda/cuda_gpu_executor.cc:937] successful NUMA node read from SysFS had negative value (-1), but there must be at least one NUMA node, so returning NUMA node zero\n",
      "2023-01-06 01:07:09.061708: I tensorflow/core/grappler/devices.cc:66] Number of eligible GPUs (core count >= 8, compute capability >= 0.0): 1\n",
      "2023-01-06 01:07:09.061884: I tensorflow/core/grappler/clusters/single_machine.cc:357] Starting new session\n",
      "2023-01-06 01:07:09.062442: I tensorflow/stream_executor/cuda/cuda_gpu_executor.cc:937] successful NUMA node read from SysFS had negative value (-1), but there must be at least one NUMA node, so returning NUMA node zero\n",
      "2023-01-06 01:07:09.062863: I tensorflow/stream_executor/cuda/cuda_gpu_executor.cc:937] successful NUMA node read from SysFS had negative value (-1), but there must be at least one NUMA node, so returning NUMA node zero\n",
      "2023-01-06 01:07:09.063292: I tensorflow/stream_executor/cuda/cuda_gpu_executor.cc:937] successful NUMA node read from SysFS had negative value (-1), but there must be at least one NUMA node, so returning NUMA node zero\n",
      "2023-01-06 01:07:09.063721: I tensorflow/stream_executor/cuda/cuda_gpu_executor.cc:937] successful NUMA node read from SysFS had negative value (-1), but there must be at least one NUMA node, so returning NUMA node zero\n",
      "2023-01-06 01:07:09.064129: I tensorflow/stream_executor/cuda/cuda_gpu_executor.cc:937] successful NUMA node read from SysFS had negative value (-1), but there must be at least one NUMA node, so returning NUMA node zero\n",
      "2023-01-06 01:07:09.064399: I tensorflow/core/common_runtime/gpu/gpu_device.cc:1510] Created device /job:localhost/replica:0/task:0/device:GPU:0 with 15401 MB memory:  -> device: 0, name: Tesla P100-PCIE-16GB, pci bus id: 0000:00:04.0, compute capability: 6.0\n",
      "2023-01-06 01:07:09.068827: I tensorflow/core/grappler/optimizers/meta_optimizer.cc:1137] Optimization results for grappler item: graph_to_optimize\n",
      "  function_optimizer: function_optimizer did nothing. time = 0.007ms.\n",
      "  function_optimizer: function_optimizer did nothing. time = 0.001ms.\n",
      "\n"
     ]
    },
    {
     "name": "stdout",
     "output_type": "stream",
     "text": [
      "Epoch 1/10\n"
     ]
    },
    {
     "name": "stderr",
     "output_type": "stream",
     "text": [
      "2023-01-06 01:07:11.855866: W tensorflow/core/kernels/gpu_utils.cc:49] Failed to allocate memory for convolution redzone checking; skipping this check. This is benign and only means that we won't check cudnn for out-of-bounds reads and writes. This message will only be printed once.\n"
     ]
    },
    {
     "name": "stdout",
     "output_type": "stream",
     "text": [
      "40/40 [==============================] - 22s 504ms/step - loss: 400.6165 - acc: 0.7785 - precision: 0.7671 - recall: 0.7989 - auc: 0.7474\n",
      "Epoch 2/10\n",
      "40/40 [==============================] - 21s 515ms/step - loss: 18.4914 - acc: 0.7229 - precision: 0.7292 - recall: 0.7056 - auc: 0.7293\n",
      "Epoch 3/10\n",
      "40/40 [==============================] - 21s 532ms/step - loss: 8.2831 - acc: 0.7920 - precision: 0.7910 - recall: 0.7939 - auc: 0.8037\n",
      "Epoch 4/10\n",
      "40/40 [==============================] - 22s 539ms/step - loss: 5.9709 - acc: 0.8057 - precision: 0.8091 - recall: 0.7935 - auc: 0.8190\n",
      "Epoch 5/10\n",
      "40/40 [==============================] - 21s 534ms/step - loss: 4.6725 - acc: 0.8156 - precision: 0.8143 - recall: 0.8211 - auc: 0.8337\n",
      "Epoch 6/10\n",
      "40/40 [==============================] - 20s 508ms/step - loss: 3.7352 - acc: 0.8204 - precision: 0.8254 - recall: 0.8131 - auc: 0.8411\n",
      "Epoch 7/10\n",
      "40/40 [==============================] - 22s 532ms/step - loss: 2.9597 - acc: 0.8367 - precision: 0.8367 - recall: 0.8376 - auc: 0.8595\n",
      "Epoch 8/10\n",
      "40/40 [==============================] - 22s 549ms/step - loss: 2.6613 - acc: 0.8317 - precision: 0.8375 - recall: 0.8208 - auc: 0.8602\n",
      "Epoch 9/10\n",
      "40/40 [==============================] - 22s 537ms/step - loss: 2.1945 - acc: 0.8379 - precision: 0.8401 - recall: 0.8308 - auc: 0.8688\n",
      "Epoch 10/10\n",
      "40/40 [==============================] - 22s 541ms/step - loss: 1.8811 - acc: 0.8390 - precision: 0.8428 - recall: 0.8408 - auc: 0.8713\n"
     ]
    }
   ],
   "source": [
    "train_ds = create_img_hand_clf_ds(seed=None)\n",
    "\n",
    "run = wandb.init(project='Abstracter Hand Classification', group='RelNN (Image Inputs, Clf Encoder)', save_code=True)\n",
    "\n",
    "history = model.fit(train_ds.batch(256), callbacks=create_callbacks(save_model=False), **fit_kwargs)"
   ]
  },
  {
   "cell_type": "code",
   "execution_count": 16,
   "id": "b25eaed7",
   "metadata": {
    "execution": {
     "iopub.execute_input": "2023-01-06T01:13:22.634568Z",
     "iopub.status.busy": "2023-01-06T01:13:22.634188Z",
     "iopub.status.idle": "2023-01-06T01:14:54.746256Z",
     "shell.execute_reply": "2023-01-06T01:14:54.745228Z"
    },
    "papermill": {
     "duration": 92.171202,
     "end_time": "2023-01-06T01:14:54.748407",
     "exception": false,
     "start_time": "2023-01-06T01:13:22.577205",
     "status": "completed"
    },
    "tags": []
   },
   "outputs": [
    {
     "name": "stdout",
     "output_type": "stream",
     "text": [
      "40/40 [==============================] - 22s 522ms/step - loss: 1.7108 - acc: 0.8347 - precision: 0.8547 - recall: 0.8071 - auc: 0.8747\n",
      "              precision    recall  f1-score   support\n",
      "\n",
      "         0.0       0.81      0.86      0.83      4991\n",
      "         1.0       0.85      0.80      0.82      5009\n",
      "\n",
      "    accuracy                           0.83     10000\n",
      "   macro avg       0.83      0.83      0.83     10000\n",
      "weighted avg       0.83      0.83      0.83     10000\n",
      "\n"
     ]
    },
    {
     "data": {
      "text/html": [
       "Waiting for W&B process to finish... <strong style=\"color:green\">(success).</strong>"
      ],
      "text/plain": [
       "<IPython.core.display.HTML object>"
      ]
     },
     "metadata": {},
     "output_type": "display_data"
    },
    {
     "data": {
      "text/html": [
       "<style>\n",
       "    table.wandb td:nth-child(1) { padding: 0 10px; text-align: left ; width: auto;} td:nth-child(2) {text-align: left ; width: 100%}\n",
       "    .wandb-row { display: flex; flex-direction: row; flex-wrap: wrap; justify-content: flex-start; width: 100% }\n",
       "    .wandb-col { display: flex; flex-direction: column; flex-basis: 100%; flex: 1; padding: 10px; }\n",
       "    </style>\n",
       "<div class=\"wandb-row\"><div class=\"wandb-col\"><h3>Run history:</h3><br/><table class=\"wandb\"><tr><td>acc</td><td>▄▁▅▆▇▇████</td></tr><tr><td>auc</td><td>▂▁▅▅▆▇▇▇██</td></tr><tr><td>epoch</td><td>▁▂▃▃▄▅▆▆▇█</td></tr><tr><td>loss</td><td>█▁▁▁▁▁▁▁▁▁</td></tr><tr><td>precision</td><td>▃▁▅▆▆▇████</td></tr><tr><td>recall</td><td>▆▁▆▆▇▇█▇▇█</td></tr></table><br/></div><div class=\"wandb-col\"><h3>Run summary:</h3><br/><table class=\"wandb\"><tr><td>GFLOPs</td><td>0.52522</td></tr><tr><td>acc</td><td>0.839</td></tr><tr><td>auc</td><td>0.8713</td></tr><tr><td>best_epoch</td><td>9</td></tr><tr><td>best_loss</td><td>1.88106</td></tr><tr><td>epoch</td><td>9</td></tr><tr><td>loss</td><td>1.88106</td></tr><tr><td>precision</td><td>0.84278</td></tr><tr><td>recall</td><td>0.84079</td></tr></table><br/></div></div>"
      ],
      "text/plain": [
       "<IPython.core.display.HTML object>"
      ]
     },
     "metadata": {},
     "output_type": "display_data"
    },
    {
     "data": {
      "text/html": [
       "Synced <strong style=\"color:#cdcd00\">glorious-frost-18</strong>: <a href=\"https://wandb.ai/awni00/Abstracter%20Hand%20Classification/runs/1kv5r5wb\" target=\"_blank\">https://wandb.ai/awni00/Abstracter%20Hand%20Classification/runs/1kv5r5wb</a><br/>Synced 6 W&B file(s), 4 media file(s), 5 artifact file(s) and 1 other file(s)"
      ],
      "text/plain": [
       "<IPython.core.display.HTML object>"
      ]
     },
     "metadata": {},
     "output_type": "display_data"
    },
    {
     "data": {
      "text/html": [
       "Find logs at: <code>./wandb/run-20230106_010632-1kv5r5wb/logs</code>"
      ],
      "text/plain": [
       "<IPython.core.display.HTML object>"
      ]
     },
     "metadata": {},
     "output_type": "display_data"
    }
   ],
   "source": [
    "test_ds = create_img_hand_clf_ds(seed=42)\n",
    "model.evaluate(test_ds.batch(256), return_dict=True);\n",
    "wrap_run(model, test_ds)"
   ]
  },
  {
   "cell_type": "markdown",
   "id": "16b92695",
   "metadata": {
    "papermill": {
     "duration": 0.053123,
     "end_time": "2023-01-06T01:14:54.856303",
     "exception": false,
     "start_time": "2023-01-06T01:14:54.803180",
     "status": "completed"
    },
    "tags": []
   },
   "source": [
    "## Classifier's Intermediate Encoder as Card Encoder"
   ]
  },
  {
   "cell_type": "code",
   "execution_count": 17,
   "id": "85fda07f",
   "metadata": {
    "execution": {
     "iopub.execute_input": "2023-01-06T01:14:54.966381Z",
     "iopub.status.busy": "2023-01-06T01:14:54.965369Z",
     "iopub.status.idle": "2023-01-06T01:14:55.070310Z",
     "shell.execute_reply": "2023-01-06T01:14:55.068979Z"
    },
    "papermill": {
     "duration": 0.163109,
     "end_time": "2023-01-06T01:14:55.072752",
     "exception": false,
     "start_time": "2023-01-06T01:14:54.909643",
     "status": "completed"
    },
    "tags": []
   },
   "outputs": [
    {
     "name": "stdout",
     "output_type": "stream",
     "text": [
      "Model: \"relational_model\"\n",
      "_________________________________________________________________\n",
      "Layer (type)                 Output Shape              Param #   \n",
      "=================================================================\n",
      "input_3 (InputLayer)         [(None, 7, 178, 122, 3)]  0         \n",
      "_________________________________________________________________\n",
      "card_encoder (TimeDistribute (None, 7, 64)             138720    \n",
      "_________________________________________________________________\n",
      "relational_layer (Relational (None, 7, 7, 4)           1040      \n",
      "_________________________________________________________________\n",
      "flatten_triangular (FlattenT (None, 112)               0         \n",
      "_________________________________________________________________\n",
      "output (Dense)               (None, 2)                 226       \n",
      "=================================================================\n",
      "Total params: 139,986\n",
      "Trainable params: 1,266\n",
      "Non-trainable params: 138,720\n",
      "_________________________________________________________________\n"
     ]
    }
   ],
   "source": [
    "inputs = layers.Input(shape=(hand_size, *card_image_shape))\n",
    "x = layers.TimeDistributed(card_encoder, name='card_encoder', trainable=False)(inputs)\n",
    "\n",
    "rel_encoders = [layers.Dense(16)]*4\n",
    "rel_layer = relational_neural_networks.RelationalLayer(rel_encoders, name='relational_layer')\n",
    "x = rel_layer(x)\n",
    "\n",
    "x = relational_neural_networks.FlattenTriangular(name='flatten_triangular')(x)\n",
    "\n",
    "x = layers.Dense(2, activation='softmax', name='output')(x)\n",
    "\n",
    "outputs = x\n",
    "\n",
    "model = tf.keras.Model(inputs, outputs, name='relational_model')\n",
    "\n",
    "model.summary()\n",
    "model.compile(loss=loss, optimizer=opt, metrics=metrics)"
   ]
  },
  {
   "cell_type": "code",
   "execution_count": 18,
   "id": "0d382be0",
   "metadata": {
    "execution": {
     "iopub.execute_input": "2023-01-06T01:14:55.182453Z",
     "iopub.status.busy": "2023-01-06T01:14:55.182090Z",
     "iopub.status.idle": "2023-01-06T01:21:25.428605Z",
     "shell.execute_reply": "2023-01-06T01:21:25.427367Z"
    },
    "papermill": {
     "duration": 390.305589,
     "end_time": "2023-01-06T01:21:25.432366",
     "exception": false,
     "start_time": "2023-01-06T01:14:55.126777",
     "status": "completed"
    },
    "tags": []
   },
   "outputs": [
    {
     "data": {
      "text/html": [
       "Tracking run with wandb version 0.13.7"
      ],
      "text/plain": [
       "<IPython.core.display.HTML object>"
      ]
     },
     "metadata": {},
     "output_type": "display_data"
    },
    {
     "data": {
      "text/html": [
       "Run data is saved locally in <code>/kaggle/working/relational-neural-networks/relational_neural_networks/wandb/run-20230106_011455-2g4cus7q</code>"
      ],
      "text/plain": [
       "<IPython.core.display.HTML object>"
      ]
     },
     "metadata": {},
     "output_type": "display_data"
    },
    {
     "data": {
      "text/html": [
       "Syncing run <strong><a href=\"https://wandb.ai/awni00/Abstracter%20Hand%20Classification/runs/2g4cus7q\" target=\"_blank\">autumn-grass-19</a></strong> to <a href=\"https://wandb.ai/awni00/Abstracter%20Hand%20Classification\" target=\"_blank\">Weights & Biases</a> (<a href=\"https://wandb.me/run\" target=\"_blank\">docs</a>)<br/>"
      ],
      "text/plain": [
       "<IPython.core.display.HTML object>"
      ]
     },
     "metadata": {},
     "output_type": "display_data"
    },
    {
     "name": "stderr",
     "output_type": "stream",
     "text": [
      "2023-01-06 01:15:32.336129: I tensorflow/stream_executor/cuda/cuda_gpu_executor.cc:937] successful NUMA node read from SysFS had negative value (-1), but there must be at least one NUMA node, so returning NUMA node zero\n",
      "2023-01-06 01:15:32.336657: I tensorflow/core/grappler/devices.cc:66] Number of eligible GPUs (core count >= 8, compute capability >= 0.0): 1\n",
      "2023-01-06 01:15:32.336837: I tensorflow/core/grappler/clusters/single_machine.cc:357] Starting new session\n",
      "2023-01-06 01:15:32.338590: I tensorflow/stream_executor/cuda/cuda_gpu_executor.cc:937] successful NUMA node read from SysFS had negative value (-1), but there must be at least one NUMA node, so returning NUMA node zero\n",
      "2023-01-06 01:15:32.339156: I tensorflow/stream_executor/cuda/cuda_gpu_executor.cc:937] successful NUMA node read from SysFS had negative value (-1), but there must be at least one NUMA node, so returning NUMA node zero\n",
      "2023-01-06 01:15:32.339601: I tensorflow/stream_executor/cuda/cuda_gpu_executor.cc:937] successful NUMA node read from SysFS had negative value (-1), but there must be at least one NUMA node, so returning NUMA node zero\n",
      "2023-01-06 01:15:32.340171: I tensorflow/stream_executor/cuda/cuda_gpu_executor.cc:937] successful NUMA node read from SysFS had negative value (-1), but there must be at least one NUMA node, so returning NUMA node zero\n",
      "2023-01-06 01:15:32.340598: I tensorflow/stream_executor/cuda/cuda_gpu_executor.cc:937] successful NUMA node read from SysFS had negative value (-1), but there must be at least one NUMA node, so returning NUMA node zero\n",
      "2023-01-06 01:15:32.340919: I tensorflow/core/common_runtime/gpu/gpu_device.cc:1510] Created device /job:localhost/replica:0/task:0/device:GPU:0 with 15401 MB memory:  -> device: 0, name: Tesla P100-PCIE-16GB, pci bus id: 0000:00:04.0, compute capability: 6.0\n",
      "2023-01-06 01:15:32.354502: I tensorflow/core/grappler/optimizers/meta_optimizer.cc:1137] Optimization results for grappler item: graph_to_optimize\n",
      "  function_optimizer: function_optimizer did nothing. time = 0.056ms.\n",
      "  function_optimizer: function_optimizer did nothing. time = 0.005ms.\n",
      "\n"
     ]
    },
    {
     "name": "stdout",
     "output_type": "stream",
     "text": [
      "Epoch 1/10\n",
      "40/40 [==============================] - 23s 530ms/step - loss: 318.5425 - acc: 0.7043 - precision: 0.7104 - recall: 0.6872 - auc: 0.7157\n",
      "Epoch 2/10\n",
      "40/40 [==============================] - 21s 518ms/step - loss: 31.1389 - acc: 0.7552 - precision: 0.7529 - recall: 0.7508 - auc: 0.7592\n",
      "Epoch 3/10\n",
      "40/40 [==============================] - 21s 519ms/step - loss: 14.1360 - acc: 0.8176 - precision: 0.8199 - recall: 0.8219 - auc: 0.8248\n",
      "Epoch 4/10\n",
      "40/40 [==============================] - 21s 525ms/step - loss: 9.1320 - acc: 0.8506 - precision: 0.8538 - recall: 0.8435 - auc: 0.8570\n",
      "Epoch 5/10\n",
      "40/40 [==============================] - 21s 519ms/step - loss: 7.3514 - acc: 0.8676 - precision: 0.8697 - recall: 0.8673 - auc: 0.8755\n",
      "Epoch 6/10\n",
      "40/40 [==============================] - 22s 544ms/step - loss: 6.2090 - acc: 0.8751 - precision: 0.8790 - recall: 0.8778 - auc: 0.8832\n",
      "Epoch 7/10\n",
      "40/40 [==============================] - 21s 528ms/step - loss: 4.8654 - acc: 0.8903 - precision: 0.8914 - recall: 0.8894 - auc: 0.8986\n",
      "Epoch 8/10\n",
      "40/40 [==============================] - 21s 522ms/step - loss: 4.4747 - acc: 0.8896 - precision: 0.8877 - recall: 0.8892 - auc: 0.8990\n",
      "Epoch 9/10\n",
      "40/40 [==============================] - 21s 529ms/step - loss: 4.1445 - acc: 0.8890 - precision: 0.8912 - recall: 0.8855 - auc: 0.9004\n",
      "Epoch 10/10\n",
      "40/40 [==============================] - 20s 507ms/step - loss: 3.4429 - acc: 0.9007 - precision: 0.8992 - recall: 0.9044 - auc: 0.9102\n"
     ]
    }
   ],
   "source": [
    "train_ds = create_img_hand_clf_ds(seed=None)\n",
    "\n",
    "run = wandb.init(project='Abstracter Hand Classification', group='RelNN (Image Inputs, Intermediate Encoder)', save_code=True)\n",
    "\n",
    "history = model.fit(train_ds.batch(256), callbacks=create_callbacks(save_model=False), **fit_kwargs)"
   ]
  },
  {
   "cell_type": "code",
   "execution_count": 19,
   "id": "cee33077",
   "metadata": {
    "execution": {
     "iopub.execute_input": "2023-01-06T01:21:25.646449Z",
     "iopub.status.busy": "2023-01-06T01:21:25.646041Z",
     "iopub.status.idle": "2023-01-06T01:23:52.330959Z",
     "shell.execute_reply": "2023-01-06T01:23:52.330119Z"
    },
    "papermill": {
     "duration": 146.765277,
     "end_time": "2023-01-06T01:23:52.333239",
     "exception": false,
     "start_time": "2023-01-06T01:21:25.567962",
     "status": "completed"
    },
    "tags": []
   },
   "outputs": [
    {
     "name": "stdout",
     "output_type": "stream",
     "text": [
      "40/40 [==============================] - 22s 528ms/step - loss: 3.2832 - acc: 0.8964 - precision: 0.9172 - recall: 0.8718 - auc: 0.9072\n",
      "              precision    recall  f1-score   support\n",
      "\n",
      "         0.0       0.87      0.93      0.90      4990\n",
      "         1.0       0.92      0.86      0.89      5010\n",
      "\n",
      "    accuracy                           0.89     10000\n",
      "   macro avg       0.90      0.89      0.89     10000\n",
      "weighted avg       0.90      0.89      0.89     10000\n",
      "\n"
     ]
    },
    {
     "data": {
      "text/html": [
       "Waiting for W&B process to finish... <strong style=\"color:green\">(success).</strong>"
      ],
      "text/plain": [
       "<IPython.core.display.HTML object>"
      ]
     },
     "metadata": {},
     "output_type": "display_data"
    },
    {
     "data": {
      "text/html": [
       "<style>\n",
       "    table.wandb td:nth-child(1) { padding: 0 10px; text-align: left ; width: auto;} td:nth-child(2) {text-align: left ; width: 100%}\n",
       "    .wandb-row { display: flex; flex-direction: row; flex-wrap: wrap; justify-content: flex-start; width: 100% }\n",
       "    .wandb-col { display: flex; flex-direction: column; flex-basis: 100%; flex: 1; padding: 10px; }\n",
       "    </style>\n",
       "<div class=\"wandb-row\"><div class=\"wandb-col\"><h3>Run history:</h3><br/><table class=\"wandb\"><tr><td>acc</td><td>▁▃▅▆▇▇████</td></tr><tr><td>auc</td><td>▁▃▅▆▇▇████</td></tr><tr><td>epoch</td><td>▁▂▃▃▄▅▆▆▇█</td></tr><tr><td>loss</td><td>█▂▁▁▁▁▁▁▁▁</td></tr><tr><td>precision</td><td>▁▃▅▆▇▇████</td></tr><tr><td>recall</td><td>▁▃▅▆▇▇██▇█</td></tr></table><br/></div><div class=\"wandb-col\"><h3>Run summary:</h3><br/><table class=\"wandb\"><tr><td>GFLOPs</td><td>0.5252</td></tr><tr><td>acc</td><td>0.9007</td></tr><tr><td>auc</td><td>0.91015</td></tr><tr><td>best_epoch</td><td>9</td></tr><tr><td>best_loss</td><td>3.44289</td></tr><tr><td>epoch</td><td>9</td></tr><tr><td>loss</td><td>3.44289</td></tr><tr><td>precision</td><td>0.89919</td></tr><tr><td>recall</td><td>0.90437</td></tr></table><br/></div></div>"
      ],
      "text/plain": [
       "<IPython.core.display.HTML object>"
      ]
     },
     "metadata": {},
     "output_type": "display_data"
    },
    {
     "data": {
      "text/html": [
       "Synced <strong style=\"color:#cdcd00\">autumn-grass-19</strong>: <a href=\"https://wandb.ai/awni00/Abstracter%20Hand%20Classification/runs/2g4cus7q\" target=\"_blank\">https://wandb.ai/awni00/Abstracter%20Hand%20Classification/runs/2g4cus7q</a><br/>Synced 6 W&B file(s), 4 media file(s), 5 artifact file(s) and 1 other file(s)"
      ],
      "text/plain": [
       "<IPython.core.display.HTML object>"
      ]
     },
     "metadata": {},
     "output_type": "display_data"
    },
    {
     "data": {
      "text/html": [
       "Find logs at: <code>./wandb/run-20230106_011455-2g4cus7q/logs</code>"
      ],
      "text/plain": [
       "<IPython.core.display.HTML object>"
      ]
     },
     "metadata": {},
     "output_type": "display_data"
    }
   ],
   "source": [
    "test_ds = create_img_hand_clf_ds(seed=42)\n",
    "model.evaluate(test_ds.batch(256), return_dict=True);\n",
    "wrap_run(model, test_ds)"
   ]
  }
 ],
 "metadata": {
  "kernelspec": {
   "display_name": "Python 3.8.11 ('math')",
   "language": "python",
   "name": "python3"
  },
  "language_info": {
   "codemirror_mode": {
    "name": "ipython",
    "version": 3
   },
   "file_extension": ".py",
   "mimetype": "text/x-python",
   "name": "python",
   "nbconvert_exporter": "python",
   "pygments_lexer": "ipython3",
   "version": "3.8.11"
  },
  "papermill": {
   "default_parameters": {},
   "duration": 1241.964008,
   "end_time": "2023-01-06T01:23:56.220904",
   "environment_variables": {},
   "exception": null,
   "input_path": "__notebook__.ipynb",
   "output_path": "__notebook__.ipynb",
   "parameters": {},
   "start_time": "2023-01-06T01:03:14.256896",
   "version": "2.3.4"
  },
  "vscode": {
   "interpreter": {
    "hash": "6344ff784fc1faea94d0e81da8b4b161117140e87b580ec4c92f28840fc25029"
   }
  },
  "widgets": {
   "application/vnd.jupyter.widget-state+json": {
    "state": {
     "017c60ae77654c23887c9c1ae30a96f5": {
      "model_module": "@jupyter-widgets/controls",
      "model_module_version": "1.5.0",
      "model_name": "FloatProgressModel",
      "state": {
       "_dom_classes": [],
       "_model_module": "@jupyter-widgets/controls",
       "_model_module_version": "1.5.0",
       "_model_name": "FloatProgressModel",
       "_view_count": null,
       "_view_module": "@jupyter-widgets/controls",
       "_view_module_version": "1.5.0",
       "_view_name": "ProgressView",
       "bar_style": "",
       "description": "",
       "description_tooltip": null,
       "layout": "IPY_MODEL_325a426a69d94d28ba7ce482dc1d1ca6",
       "max": 1,
       "min": 0,
       "orientation": "horizontal",
       "style": "IPY_MODEL_ea2bfec712af48d5b799d8f7792a07fe",
       "value": 0
      }
     },
     "100c707c0a3b49049c0ea2142004dbe2": {
      "model_module": "@jupyter-widgets/controls",
      "model_module_version": "1.5.0",
      "model_name": "LabelModel",
      "state": {
       "_dom_classes": [],
       "_model_module": "@jupyter-widgets/controls",
       "_model_module_version": "1.5.0",
       "_model_name": "LabelModel",
       "_view_count": null,
       "_view_module": "@jupyter-widgets/controls",
       "_view_module_version": "1.5.0",
       "_view_name": "LabelView",
       "description": "",
       "description_tooltip": null,
       "layout": "IPY_MODEL_ec5a5080bb1b43b38f783fd35ff913be",
       "placeholder": "​",
       "style": "IPY_MODEL_a72058cf35d94be8983a6733a5e5c7ae",
       "value": ""
      }
     },
     "116f9682310b49458f57f90ed5021fc5": {
      "model_module": "@jupyter-widgets/base",
      "model_module_version": "1.2.0",
      "model_name": "LayoutModel",
      "state": {
       "_model_module": "@jupyter-widgets/base",
       "_model_module_version": "1.2.0",
       "_model_name": "LayoutModel",
       "_view_count": null,
       "_view_module": "@jupyter-widgets/base",
       "_view_module_version": "1.2.0",
       "_view_name": "LayoutView",
       "align_content": null,
       "align_items": null,
       "align_self": null,
       "border": null,
       "bottom": null,
       "display": null,
       "flex": null,
       "flex_flow": null,
       "grid_area": null,
       "grid_auto_columns": null,
       "grid_auto_flow": null,
       "grid_auto_rows": null,
       "grid_column": null,
       "grid_gap": null,
       "grid_row": null,
       "grid_template_areas": null,
       "grid_template_columns": null,
       "grid_template_rows": null,
       "height": null,
       "justify_content": null,
       "justify_items": null,
       "left": null,
       "margin": null,
       "max_height": null,
       "max_width": null,
       "min_height": null,
       "min_width": null,
       "object_fit": null,
       "object_position": null,
       "order": null,
       "overflow": null,
       "overflow_x": null,
       "overflow_y": null,
       "padding": null,
       "right": null,
       "top": null,
       "visibility": null,
       "width": null
      }
     },
     "12baa973d2d84f05aaf95a4db93f54e0": {
      "model_module": "@jupyter-widgets/base",
      "model_module_version": "1.2.0",
      "model_name": "LayoutModel",
      "state": {
       "_model_module": "@jupyter-widgets/base",
       "_model_module_version": "1.2.0",
       "_model_name": "LayoutModel",
       "_view_count": null,
       "_view_module": "@jupyter-widgets/base",
       "_view_module_version": "1.2.0",
       "_view_name": "LayoutView",
       "align_content": null,
       "align_items": null,
       "align_self": null,
       "border": null,
       "bottom": null,
       "display": null,
       "flex": null,
       "flex_flow": null,
       "grid_area": null,
       "grid_auto_columns": null,
       "grid_auto_flow": null,
       "grid_auto_rows": null,
       "grid_column": null,
       "grid_gap": null,
       "grid_row": null,
       "grid_template_areas": null,
       "grid_template_columns": null,
       "grid_template_rows": null,
       "height": null,
       "justify_content": null,
       "justify_items": null,
       "left": null,
       "margin": null,
       "max_height": null,
       "max_width": null,
       "min_height": null,
       "min_width": null,
       "object_fit": null,
       "object_position": null,
       "order": null,
       "overflow": null,
       "overflow_x": null,
       "overflow_y": null,
       "padding": null,
       "right": null,
       "top": null,
       "visibility": null,
       "width": null
      }
     },
     "18a7760eb4b84b88a3260e1e8ec36395": {
      "model_module": "@jupyter-widgets/controls",
      "model_module_version": "1.5.0",
      "model_name": "LabelModel",
      "state": {
       "_dom_classes": [],
       "_model_module": "@jupyter-widgets/controls",
       "_model_module_version": "1.5.0",
       "_model_name": "LabelModel",
       "_view_count": null,
       "_view_module": "@jupyter-widgets/controls",
       "_view_module_version": "1.5.0",
       "_view_name": "LabelView",
       "description": "",
       "description_tooltip": null,
       "layout": "IPY_MODEL_324e8de27b3d43779cf79a2303627ea5",
       "placeholder": "​",
       "style": "IPY_MODEL_9592c2a0a16a47a5a55ca83afb2c3f9a",
       "value": ""
      }
     },
     "1a4130ea9a524b20ad76ac172c790f09": {
      "model_module": "@jupyter-widgets/controls",
      "model_module_version": "1.5.0",
      "model_name": "VBoxModel",
      "state": {
       "_dom_classes": [],
       "_model_module": "@jupyter-widgets/controls",
       "_model_module_version": "1.5.0",
       "_model_name": "VBoxModel",
       "_view_count": null,
       "_view_module": "@jupyter-widgets/controls",
       "_view_module_version": "1.5.0",
       "_view_name": "VBoxView",
       "box_style": "",
       "children": [
        "IPY_MODEL_af62109614d94f1e83b574aa9e2bdf9b",
        "IPY_MODEL_4517e5e217404a31ade32ef7c4bf79f6"
       ],
       "layout": "IPY_MODEL_f0d757a4a39f45d3b345bcb2876a1548"
      }
     },
     "218e8daa6ed249a68a3e6ef0ca6a7d26": {
      "model_module": "@jupyter-widgets/base",
      "model_module_version": "1.2.0",
      "model_name": "LayoutModel",
      "state": {
       "_model_module": "@jupyter-widgets/base",
       "_model_module_version": "1.2.0",
       "_model_name": "LayoutModel",
       "_view_count": null,
       "_view_module": "@jupyter-widgets/base",
       "_view_module_version": "1.2.0",
       "_view_name": "LayoutView",
       "align_content": null,
       "align_items": null,
       "align_self": null,
       "border": null,
       "bottom": null,
       "display": null,
       "flex": null,
       "flex_flow": null,
       "grid_area": null,
       "grid_auto_columns": null,
       "grid_auto_flow": null,
       "grid_auto_rows": null,
       "grid_column": null,
       "grid_gap": null,
       "grid_row": null,
       "grid_template_areas": null,
       "grid_template_columns": null,
       "grid_template_rows": null,
       "height": null,
       "justify_content": null,
       "justify_items": null,
       "left": null,
       "margin": null,
       "max_height": null,
       "max_width": null,
       "min_height": null,
       "min_width": null,
       "object_fit": null,
       "object_position": null,
       "order": null,
       "overflow": null,
       "overflow_x": null,
       "overflow_y": null,
       "padding": null,
       "right": null,
       "top": null,
       "visibility": null,
       "width": null
      }
     },
     "25d15e91173e4f9794562eee5ce3ecf9": {
      "model_module": "@jupyter-widgets/controls",
      "model_module_version": "1.5.0",
      "model_name": "VBoxModel",
      "state": {
       "_dom_classes": [],
       "_model_module": "@jupyter-widgets/controls",
       "_model_module_version": "1.5.0",
       "_model_name": "VBoxModel",
       "_view_count": null,
       "_view_module": "@jupyter-widgets/controls",
       "_view_module_version": "1.5.0",
       "_view_name": "VBoxView",
       "box_style": "",
       "children": [
        "IPY_MODEL_100c707c0a3b49049c0ea2142004dbe2",
        "IPY_MODEL_b6ce69468cee42da9b4ad0e2f8af87ef"
       ],
       "layout": "IPY_MODEL_116f9682310b49458f57f90ed5021fc5"
      }
     },
     "324e8de27b3d43779cf79a2303627ea5": {
      "model_module": "@jupyter-widgets/base",
      "model_module_version": "1.2.0",
      "model_name": "LayoutModel",
      "state": {
       "_model_module": "@jupyter-widgets/base",
       "_model_module_version": "1.2.0",
       "_model_name": "LayoutModel",
       "_view_count": null,
       "_view_module": "@jupyter-widgets/base",
       "_view_module_version": "1.2.0",
       "_view_name": "LayoutView",
       "align_content": null,
       "align_items": null,
       "align_self": null,
       "border": null,
       "bottom": null,
       "display": null,
       "flex": null,
       "flex_flow": null,
       "grid_area": null,
       "grid_auto_columns": null,
       "grid_auto_flow": null,
       "grid_auto_rows": null,
       "grid_column": null,
       "grid_gap": null,
       "grid_row": null,
       "grid_template_areas": null,
       "grid_template_columns": null,
       "grid_template_rows": null,
       "height": null,
       "justify_content": null,
       "justify_items": null,
       "left": null,
       "margin": null,
       "max_height": null,
       "max_width": null,
       "min_height": null,
       "min_width": null,
       "object_fit": null,
       "object_position": null,
       "order": null,
       "overflow": null,
       "overflow_x": null,
       "overflow_y": null,
       "padding": null,
       "right": null,
       "top": null,
       "visibility": null,
       "width": null
      }
     },
     "325a426a69d94d28ba7ce482dc1d1ca6": {
      "model_module": "@jupyter-widgets/base",
      "model_module_version": "1.2.0",
      "model_name": "LayoutModel",
      "state": {
       "_model_module": "@jupyter-widgets/base",
       "_model_module_version": "1.2.0",
       "_model_name": "LayoutModel",
       "_view_count": null,
       "_view_module": "@jupyter-widgets/base",
       "_view_module_version": "1.2.0",
       "_view_name": "LayoutView",
       "align_content": null,
       "align_items": null,
       "align_self": null,
       "border": null,
       "bottom": null,
       "display": null,
       "flex": null,
       "flex_flow": null,
       "grid_area": null,
       "grid_auto_columns": null,
       "grid_auto_flow": null,
       "grid_auto_rows": null,
       "grid_column": null,
       "grid_gap": null,
       "grid_row": null,
       "grid_template_areas": null,
       "grid_template_columns": null,
       "grid_template_rows": null,
       "height": null,
       "justify_content": null,
       "justify_items": null,
       "left": null,
       "margin": null,
       "max_height": null,
       "max_width": null,
       "min_height": null,
       "min_width": null,
       "object_fit": null,
       "object_position": null,
       "order": null,
       "overflow": null,
       "overflow_x": null,
       "overflow_y": null,
       "padding": null,
       "right": null,
       "top": null,
       "visibility": null,
       "width": null
      }
     },
     "360b016ede1d4b2baa877d78246c1e48": {
      "model_module": "@jupyter-widgets/base",
      "model_module_version": "1.2.0",
      "model_name": "LayoutModel",
      "state": {
       "_model_module": "@jupyter-widgets/base",
       "_model_module_version": "1.2.0",
       "_model_name": "LayoutModel",
       "_view_count": null,
       "_view_module": "@jupyter-widgets/base",
       "_view_module_version": "1.2.0",
       "_view_name": "LayoutView",
       "align_content": null,
       "align_items": null,
       "align_self": null,
       "border": null,
       "bottom": null,
       "display": null,
       "flex": null,
       "flex_flow": null,
       "grid_area": null,
       "grid_auto_columns": null,
       "grid_auto_flow": null,
       "grid_auto_rows": null,
       "grid_column": null,
       "grid_gap": null,
       "grid_row": null,
       "grid_template_areas": null,
       "grid_template_columns": null,
       "grid_template_rows": null,
       "height": null,
       "justify_content": null,
       "justify_items": null,
       "left": null,
       "margin": null,
       "max_height": null,
       "max_width": null,
       "min_height": null,
       "min_width": null,
       "object_fit": null,
       "object_position": null,
       "order": null,
       "overflow": null,
       "overflow_x": null,
       "overflow_y": null,
       "padding": null,
       "right": null,
       "top": null,
       "visibility": null,
       "width": null
      }
     },
     "408382cc02a4466d8e36da8a942d7df4": {
      "model_module": "@jupyter-widgets/base",
      "model_module_version": "1.2.0",
      "model_name": "LayoutModel",
      "state": {
       "_model_module": "@jupyter-widgets/base",
       "_model_module_version": "1.2.0",
       "_model_name": "LayoutModel",
       "_view_count": null,
       "_view_module": "@jupyter-widgets/base",
       "_view_module_version": "1.2.0",
       "_view_name": "LayoutView",
       "align_content": null,
       "align_items": null,
       "align_self": null,
       "border": null,
       "bottom": null,
       "display": null,
       "flex": null,
       "flex_flow": null,
       "grid_area": null,
       "grid_auto_columns": null,
       "grid_auto_flow": null,
       "grid_auto_rows": null,
       "grid_column": null,
       "grid_gap": null,
       "grid_row": null,
       "grid_template_areas": null,
       "grid_template_columns": null,
       "grid_template_rows": null,
       "height": null,
       "justify_content": null,
       "justify_items": null,
       "left": null,
       "margin": null,
       "max_height": null,
       "max_width": null,
       "min_height": null,
       "min_width": null,
       "object_fit": null,
       "object_position": null,
       "order": null,
       "overflow": null,
       "overflow_x": null,
       "overflow_y": null,
       "padding": null,
       "right": null,
       "top": null,
       "visibility": null,
       "width": null
      }
     },
     "40beeb3981e54a79aefd74578f61c386": {
      "model_module": "@jupyter-widgets/controls",
      "model_module_version": "1.5.0",
      "model_name": "LabelModel",
      "state": {
       "_dom_classes": [],
       "_model_module": "@jupyter-widgets/controls",
       "_model_module_version": "1.5.0",
       "_model_name": "LabelModel",
       "_view_count": null,
       "_view_module": "@jupyter-widgets/controls",
       "_view_module_version": "1.5.0",
       "_view_name": "LabelView",
       "description": "",
       "description_tooltip": null,
       "layout": "IPY_MODEL_360b016ede1d4b2baa877d78246c1e48",
       "placeholder": "​",
       "style": "IPY_MODEL_9d361a2410a14d71a6c76c1201ef3499",
       "value": ""
      }
     },
     "413ec8240cd94f999532bf12a90cfc4f": {
      "model_module": "@jupyter-widgets/controls",
      "model_module_version": "1.5.0",
      "model_name": "LabelModel",
      "state": {
       "_dom_classes": [],
       "_model_module": "@jupyter-widgets/controls",
       "_model_module_version": "1.5.0",
       "_model_name": "LabelModel",
       "_view_count": null,
       "_view_module": "@jupyter-widgets/controls",
       "_view_module_version": "1.5.0",
       "_view_name": "LabelView",
       "description": "",
       "description_tooltip": null,
       "layout": "IPY_MODEL_9102dc35c90148169ca814553a51ed19",
       "placeholder": "​",
       "style": "IPY_MODEL_a6b37368347c4b6dad9f323a54c87df6",
       "value": ""
      }
     },
     "4517e5e217404a31ade32ef7c4bf79f6": {
      "model_module": "@jupyter-widgets/controls",
      "model_module_version": "1.5.0",
      "model_name": "FloatProgressModel",
      "state": {
       "_dom_classes": [],
       "_model_module": "@jupyter-widgets/controls",
       "_model_module_version": "1.5.0",
       "_model_name": "FloatProgressModel",
       "_view_count": null,
       "_view_module": "@jupyter-widgets/controls",
       "_view_module_version": "1.5.0",
       "_view_name": "ProgressView",
       "bar_style": "",
       "description": "",
       "description_tooltip": null,
       "layout": "IPY_MODEL_cbd53be1b24242e3ae8ab8a40396a85c",
       "max": 1,
       "min": 0,
       "orientation": "horizontal",
       "style": "IPY_MODEL_ee715090ea2240a8a11e81fc6a73d77e",
       "value": 0
      }
     },
     "5f085c3aa176440c93287de095546b00": {
      "model_module": "@jupyter-widgets/base",
      "model_module_version": "1.2.0",
      "model_name": "LayoutModel",
      "state": {
       "_model_module": "@jupyter-widgets/base",
       "_model_module_version": "1.2.0",
       "_model_name": "LayoutModel",
       "_view_count": null,
       "_view_module": "@jupyter-widgets/base",
       "_view_module_version": "1.2.0",
       "_view_name": "LayoutView",
       "align_content": null,
       "align_items": null,
       "align_self": null,
       "border": null,
       "bottom": null,
       "display": null,
       "flex": null,
       "flex_flow": null,
       "grid_area": null,
       "grid_auto_columns": null,
       "grid_auto_flow": null,
       "grid_auto_rows": null,
       "grid_column": null,
       "grid_gap": null,
       "grid_row": null,
       "grid_template_areas": null,
       "grid_template_columns": null,
       "grid_template_rows": null,
       "height": null,
       "justify_content": null,
       "justify_items": null,
       "left": null,
       "margin": null,
       "max_height": null,
       "max_width": null,
       "min_height": null,
       "min_width": null,
       "object_fit": null,
       "object_position": null,
       "order": null,
       "overflow": null,
       "overflow_x": null,
       "overflow_y": null,
       "padding": null,
       "right": null,
       "top": null,
       "visibility": null,
       "width": null
      }
     },
     "685391e6b7554ae88b03cdc795006fb5": {
      "model_module": "@jupyter-widgets/controls",
      "model_module_version": "1.5.0",
      "model_name": "VBoxModel",
      "state": {
       "_dom_classes": [],
       "_model_module": "@jupyter-widgets/controls",
       "_model_module_version": "1.5.0",
       "_model_name": "VBoxModel",
       "_view_count": null,
       "_view_module": "@jupyter-widgets/controls",
       "_view_module_version": "1.5.0",
       "_view_name": "VBoxView",
       "box_style": "",
       "children": [
        "IPY_MODEL_d5aa78b316bc404c8246622dda8e352b",
        "IPY_MODEL_f4206bb25d9d49e09f51eaae1346e4fa"
       ],
       "layout": "IPY_MODEL_408382cc02a4466d8e36da8a942d7df4"
      }
     },
     "7b431b3e7523425087eb76e56f8b8687": {
      "model_module": "@jupyter-widgets/controls",
      "model_module_version": "1.5.0",
      "model_name": "FloatProgressModel",
      "state": {
       "_dom_classes": [],
       "_model_module": "@jupyter-widgets/controls",
       "_model_module_version": "1.5.0",
       "_model_name": "FloatProgressModel",
       "_view_count": null,
       "_view_module": "@jupyter-widgets/controls",
       "_view_module_version": "1.5.0",
       "_view_name": "ProgressView",
       "bar_style": "",
       "description": "",
       "description_tooltip": null,
       "layout": "IPY_MODEL_8b5605d3dea74ab1baf86890a6ca8be5",
       "max": 1,
       "min": 0,
       "orientation": "horizontal",
       "style": "IPY_MODEL_b4dcd3ccf75c405db83cc2b2b96d00e7",
       "value": 0
      }
     },
     "8b5605d3dea74ab1baf86890a6ca8be5": {
      "model_module": "@jupyter-widgets/base",
      "model_module_version": "1.2.0",
      "model_name": "LayoutModel",
      "state": {
       "_model_module": "@jupyter-widgets/base",
       "_model_module_version": "1.2.0",
       "_model_name": "LayoutModel",
       "_view_count": null,
       "_view_module": "@jupyter-widgets/base",
       "_view_module_version": "1.2.0",
       "_view_name": "LayoutView",
       "align_content": null,
       "align_items": null,
       "align_self": null,
       "border": null,
       "bottom": null,
       "display": null,
       "flex": null,
       "flex_flow": null,
       "grid_area": null,
       "grid_auto_columns": null,
       "grid_auto_flow": null,
       "grid_auto_rows": null,
       "grid_column": null,
       "grid_gap": null,
       "grid_row": null,
       "grid_template_areas": null,
       "grid_template_columns": null,
       "grid_template_rows": null,
       "height": null,
       "justify_content": null,
       "justify_items": null,
       "left": null,
       "margin": null,
       "max_height": null,
       "max_width": null,
       "min_height": null,
       "min_width": null,
       "object_fit": null,
       "object_position": null,
       "order": null,
       "overflow": null,
       "overflow_x": null,
       "overflow_y": null,
       "padding": null,
       "right": null,
       "top": null,
       "visibility": null,
       "width": null
      }
     },
     "8d0861677e004491a77f60b7d6814231": {
      "model_module": "@jupyter-widgets/controls",
      "model_module_version": "1.5.0",
      "model_name": "FloatProgressModel",
      "state": {
       "_dom_classes": [],
       "_model_module": "@jupyter-widgets/controls",
       "_model_module_version": "1.5.0",
       "_model_name": "FloatProgressModel",
       "_view_count": null,
       "_view_module": "@jupyter-widgets/controls",
       "_view_module_version": "1.5.0",
       "_view_name": "ProgressView",
       "bar_style": "",
       "description": "",
       "description_tooltip": null,
       "layout": "IPY_MODEL_218e8daa6ed249a68a3e6ef0ca6a7d26",
       "max": 1,
       "min": 0,
       "orientation": "horizontal",
       "style": "IPY_MODEL_e4d250ef5e1e4038b864d4534b362616",
       "value": 0
      }
     },
     "8d7736d683d94afe8d586c0a6a2150a6": {
      "model_module": "@jupyter-widgets/controls",
      "model_module_version": "1.5.0",
      "model_name": "VBoxModel",
      "state": {
       "_dom_classes": [],
       "_model_module": "@jupyter-widgets/controls",
       "_model_module_version": "1.5.0",
       "_model_name": "VBoxModel",
       "_view_count": null,
       "_view_module": "@jupyter-widgets/controls",
       "_view_module_version": "1.5.0",
       "_view_name": "VBoxView",
       "box_style": "",
       "children": [
        "IPY_MODEL_18a7760eb4b84b88a3260e1e8ec36395",
        "IPY_MODEL_8d0861677e004491a77f60b7d6814231"
       ],
       "layout": "IPY_MODEL_b9cb27051ba944f4badd82dc7b661e06"
      }
     },
     "8e060cdc441a48f5a429dc7d64327345": {
      "model_module": "@jupyter-widgets/controls",
      "model_module_version": "1.5.0",
      "model_name": "DescriptionStyleModel",
      "state": {
       "_model_module": "@jupyter-widgets/controls",
       "_model_module_version": "1.5.0",
       "_model_name": "DescriptionStyleModel",
       "_view_count": null,
       "_view_module": "@jupyter-widgets/base",
       "_view_module_version": "1.2.0",
       "_view_name": "StyleView",
       "description_width": ""
      }
     },
     "9030bf7ae5e34d4ea47d07ea5a02148e": {
      "model_module": "@jupyter-widgets/controls",
      "model_module_version": "1.5.0",
      "model_name": "ProgressStyleModel",
      "state": {
       "_model_module": "@jupyter-widgets/controls",
       "_model_module_version": "1.5.0",
       "_model_name": "ProgressStyleModel",
       "_view_count": null,
       "_view_module": "@jupyter-widgets/base",
       "_view_module_version": "1.2.0",
       "_view_name": "StyleView",
       "bar_color": null,
       "description_width": ""
      }
     },
     "9102dc35c90148169ca814553a51ed19": {
      "model_module": "@jupyter-widgets/base",
      "model_module_version": "1.2.0",
      "model_name": "LayoutModel",
      "state": {
       "_model_module": "@jupyter-widgets/base",
       "_model_module_version": "1.2.0",
       "_model_name": "LayoutModel",
       "_view_count": null,
       "_view_module": "@jupyter-widgets/base",
       "_view_module_version": "1.2.0",
       "_view_name": "LayoutView",
       "align_content": null,
       "align_items": null,
       "align_self": null,
       "border": null,
       "bottom": null,
       "display": null,
       "flex": null,
       "flex_flow": null,
       "grid_area": null,
       "grid_auto_columns": null,
       "grid_auto_flow": null,
       "grid_auto_rows": null,
       "grid_column": null,
       "grid_gap": null,
       "grid_row": null,
       "grid_template_areas": null,
       "grid_template_columns": null,
       "grid_template_rows": null,
       "height": null,
       "justify_content": null,
       "justify_items": null,
       "left": null,
       "margin": null,
       "max_height": null,
       "max_width": null,
       "min_height": null,
       "min_width": null,
       "object_fit": null,
       "object_position": null,
       "order": null,
       "overflow": null,
       "overflow_x": null,
       "overflow_y": null,
       "padding": null,
       "right": null,
       "top": null,
       "visibility": null,
       "width": null
      }
     },
     "9592c2a0a16a47a5a55ca83afb2c3f9a": {
      "model_module": "@jupyter-widgets/controls",
      "model_module_version": "1.5.0",
      "model_name": "DescriptionStyleModel",
      "state": {
       "_model_module": "@jupyter-widgets/controls",
       "_model_module_version": "1.5.0",
       "_model_name": "DescriptionStyleModel",
       "_view_count": null,
       "_view_module": "@jupyter-widgets/base",
       "_view_module_version": "1.2.0",
       "_view_name": "StyleView",
       "description_width": ""
      }
     },
     "9d361a2410a14d71a6c76c1201ef3499": {
      "model_module": "@jupyter-widgets/controls",
      "model_module_version": "1.5.0",
      "model_name": "DescriptionStyleModel",
      "state": {
       "_model_module": "@jupyter-widgets/controls",
       "_model_module_version": "1.5.0",
       "_model_name": "DescriptionStyleModel",
       "_view_count": null,
       "_view_module": "@jupyter-widgets/base",
       "_view_module_version": "1.2.0",
       "_view_name": "StyleView",
       "description_width": ""
      }
     },
     "a6b37368347c4b6dad9f323a54c87df6": {
      "model_module": "@jupyter-widgets/controls",
      "model_module_version": "1.5.0",
      "model_name": "DescriptionStyleModel",
      "state": {
       "_model_module": "@jupyter-widgets/controls",
       "_model_module_version": "1.5.0",
       "_model_name": "DescriptionStyleModel",
       "_view_count": null,
       "_view_module": "@jupyter-widgets/base",
       "_view_module_version": "1.2.0",
       "_view_name": "StyleView",
       "description_width": ""
      }
     },
     "a72058cf35d94be8983a6733a5e5c7ae": {
      "model_module": "@jupyter-widgets/controls",
      "model_module_version": "1.5.0",
      "model_name": "DescriptionStyleModel",
      "state": {
       "_model_module": "@jupyter-widgets/controls",
       "_model_module_version": "1.5.0",
       "_model_name": "DescriptionStyleModel",
       "_view_count": null,
       "_view_module": "@jupyter-widgets/base",
       "_view_module_version": "1.2.0",
       "_view_name": "StyleView",
       "description_width": ""
      }
     },
     "ae6b22fb41174211aac3f1cfece4eda2": {
      "model_module": "@jupyter-widgets/base",
      "model_module_version": "1.2.0",
      "model_name": "LayoutModel",
      "state": {
       "_model_module": "@jupyter-widgets/base",
       "_model_module_version": "1.2.0",
       "_model_name": "LayoutModel",
       "_view_count": null,
       "_view_module": "@jupyter-widgets/base",
       "_view_module_version": "1.2.0",
       "_view_name": "LayoutView",
       "align_content": null,
       "align_items": null,
       "align_self": null,
       "border": null,
       "bottom": null,
       "display": null,
       "flex": null,
       "flex_flow": null,
       "grid_area": null,
       "grid_auto_columns": null,
       "grid_auto_flow": null,
       "grid_auto_rows": null,
       "grid_column": null,
       "grid_gap": null,
       "grid_row": null,
       "grid_template_areas": null,
       "grid_template_columns": null,
       "grid_template_rows": null,
       "height": null,
       "justify_content": null,
       "justify_items": null,
       "left": null,
       "margin": null,
       "max_height": null,
       "max_width": null,
       "min_height": null,
       "min_width": null,
       "object_fit": null,
       "object_position": null,
       "order": null,
       "overflow": null,
       "overflow_x": null,
       "overflow_y": null,
       "padding": null,
       "right": null,
       "top": null,
       "visibility": null,
       "width": null
      }
     },
     "af62109614d94f1e83b574aa9e2bdf9b": {
      "model_module": "@jupyter-widgets/controls",
      "model_module_version": "1.5.0",
      "model_name": "LabelModel",
      "state": {
       "_dom_classes": [],
       "_model_module": "@jupyter-widgets/controls",
       "_model_module_version": "1.5.0",
       "_model_name": "LabelModel",
       "_view_count": null,
       "_view_module": "@jupyter-widgets/controls",
       "_view_module_version": "1.5.0",
       "_view_name": "LabelView",
       "description": "",
       "description_tooltip": null,
       "layout": "IPY_MODEL_c48d745a4fdc496ca45fbf5f105c4115",
       "placeholder": "​",
       "style": "IPY_MODEL_8e060cdc441a48f5a429dc7d64327345",
       "value": ""
      }
     },
     "b4dcd3ccf75c405db83cc2b2b96d00e7": {
      "model_module": "@jupyter-widgets/controls",
      "model_module_version": "1.5.0",
      "model_name": "ProgressStyleModel",
      "state": {
       "_model_module": "@jupyter-widgets/controls",
       "_model_module_version": "1.5.0",
       "_model_name": "ProgressStyleModel",
       "_view_count": null,
       "_view_module": "@jupyter-widgets/base",
       "_view_module_version": "1.2.0",
       "_view_name": "StyleView",
       "bar_color": null,
       "description_width": ""
      }
     },
     "b6ce69468cee42da9b4ad0e2f8af87ef": {
      "model_module": "@jupyter-widgets/controls",
      "model_module_version": "1.5.0",
      "model_name": "FloatProgressModel",
      "state": {
       "_dom_classes": [],
       "_model_module": "@jupyter-widgets/controls",
       "_model_module_version": "1.5.0",
       "_model_name": "FloatProgressModel",
       "_view_count": null,
       "_view_module": "@jupyter-widgets/controls",
       "_view_module_version": "1.5.0",
       "_view_name": "ProgressView",
       "bar_style": "",
       "description": "",
       "description_tooltip": null,
       "layout": "IPY_MODEL_5f085c3aa176440c93287de095546b00",
       "max": 1,
       "min": 0,
       "orientation": "horizontal",
       "style": "IPY_MODEL_9030bf7ae5e34d4ea47d07ea5a02148e",
       "value": 0
      }
     },
     "b9cb27051ba944f4badd82dc7b661e06": {
      "model_module": "@jupyter-widgets/base",
      "model_module_version": "1.2.0",
      "model_name": "LayoutModel",
      "state": {
       "_model_module": "@jupyter-widgets/base",
       "_model_module_version": "1.2.0",
       "_model_name": "LayoutModel",
       "_view_count": null,
       "_view_module": "@jupyter-widgets/base",
       "_view_module_version": "1.2.0",
       "_view_name": "LayoutView",
       "align_content": null,
       "align_items": null,
       "align_self": null,
       "border": null,
       "bottom": null,
       "display": null,
       "flex": null,
       "flex_flow": null,
       "grid_area": null,
       "grid_auto_columns": null,
       "grid_auto_flow": null,
       "grid_auto_rows": null,
       "grid_column": null,
       "grid_gap": null,
       "grid_row": null,
       "grid_template_areas": null,
       "grid_template_columns": null,
       "grid_template_rows": null,
       "height": null,
       "justify_content": null,
       "justify_items": null,
       "left": null,
       "margin": null,
       "max_height": null,
       "max_width": null,
       "min_height": null,
       "min_width": null,
       "object_fit": null,
       "object_position": null,
       "order": null,
       "overflow": null,
       "overflow_x": null,
       "overflow_y": null,
       "padding": null,
       "right": null,
       "top": null,
       "visibility": null,
       "width": null
      }
     },
     "c01d4015897e4e86bd7a4cab9b991fe2": {
      "model_module": "@jupyter-widgets/base",
      "model_module_version": "1.2.0",
      "model_name": "LayoutModel",
      "state": {
       "_model_module": "@jupyter-widgets/base",
       "_model_module_version": "1.2.0",
       "_model_name": "LayoutModel",
       "_view_count": null,
       "_view_module": "@jupyter-widgets/base",
       "_view_module_version": "1.2.0",
       "_view_name": "LayoutView",
       "align_content": null,
       "align_items": null,
       "align_self": null,
       "border": null,
       "bottom": null,
       "display": null,
       "flex": null,
       "flex_flow": null,
       "grid_area": null,
       "grid_auto_columns": null,
       "grid_auto_flow": null,
       "grid_auto_rows": null,
       "grid_column": null,
       "grid_gap": null,
       "grid_row": null,
       "grid_template_areas": null,
       "grid_template_columns": null,
       "grid_template_rows": null,
       "height": null,
       "justify_content": null,
       "justify_items": null,
       "left": null,
       "margin": null,
       "max_height": null,
       "max_width": null,
       "min_height": null,
       "min_width": null,
       "object_fit": null,
       "object_position": null,
       "order": null,
       "overflow": null,
       "overflow_x": null,
       "overflow_y": null,
       "padding": null,
       "right": null,
       "top": null,
       "visibility": null,
       "width": null
      }
     },
     "c48d745a4fdc496ca45fbf5f105c4115": {
      "model_module": "@jupyter-widgets/base",
      "model_module_version": "1.2.0",
      "model_name": "LayoutModel",
      "state": {
       "_model_module": "@jupyter-widgets/base",
       "_model_module_version": "1.2.0",
       "_model_name": "LayoutModel",
       "_view_count": null,
       "_view_module": "@jupyter-widgets/base",
       "_view_module_version": "1.2.0",
       "_view_name": "LayoutView",
       "align_content": null,
       "align_items": null,
       "align_self": null,
       "border": null,
       "bottom": null,
       "display": null,
       "flex": null,
       "flex_flow": null,
       "grid_area": null,
       "grid_auto_columns": null,
       "grid_auto_flow": null,
       "grid_auto_rows": null,
       "grid_column": null,
       "grid_gap": null,
       "grid_row": null,
       "grid_template_areas": null,
       "grid_template_columns": null,
       "grid_template_rows": null,
       "height": null,
       "justify_content": null,
       "justify_items": null,
       "left": null,
       "margin": null,
       "max_height": null,
       "max_width": null,
       "min_height": null,
       "min_width": null,
       "object_fit": null,
       "object_position": null,
       "order": null,
       "overflow": null,
       "overflow_x": null,
       "overflow_y": null,
       "padding": null,
       "right": null,
       "top": null,
       "visibility": null,
       "width": null
      }
     },
     "c62f25a1523c4154bf45dfe03a0dd5a9": {
      "model_module": "@jupyter-widgets/base",
      "model_module_version": "1.2.0",
      "model_name": "LayoutModel",
      "state": {
       "_model_module": "@jupyter-widgets/base",
       "_model_module_version": "1.2.0",
       "_model_name": "LayoutModel",
       "_view_count": null,
       "_view_module": "@jupyter-widgets/base",
       "_view_module_version": "1.2.0",
       "_view_name": "LayoutView",
       "align_content": null,
       "align_items": null,
       "align_self": null,
       "border": null,
       "bottom": null,
       "display": null,
       "flex": null,
       "flex_flow": null,
       "grid_area": null,
       "grid_auto_columns": null,
       "grid_auto_flow": null,
       "grid_auto_rows": null,
       "grid_column": null,
       "grid_gap": null,
       "grid_row": null,
       "grid_template_areas": null,
       "grid_template_columns": null,
       "grid_template_rows": null,
       "height": null,
       "justify_content": null,
       "justify_items": null,
       "left": null,
       "margin": null,
       "max_height": null,
       "max_width": null,
       "min_height": null,
       "min_width": null,
       "object_fit": null,
       "object_position": null,
       "order": null,
       "overflow": null,
       "overflow_x": null,
       "overflow_y": null,
       "padding": null,
       "right": null,
       "top": null,
       "visibility": null,
       "width": null
      }
     },
     "c7c6959ed1774acebe462e645c6b94b3": {
      "model_module": "@jupyter-widgets/controls",
      "model_module_version": "1.5.0",
      "model_name": "DescriptionStyleModel",
      "state": {
       "_model_module": "@jupyter-widgets/controls",
       "_model_module_version": "1.5.0",
       "_model_name": "DescriptionStyleModel",
       "_view_count": null,
       "_view_module": "@jupyter-widgets/base",
       "_view_module_version": "1.2.0",
       "_view_name": "StyleView",
       "description_width": ""
      }
     },
     "cbd53be1b24242e3ae8ab8a40396a85c": {
      "model_module": "@jupyter-widgets/base",
      "model_module_version": "1.2.0",
      "model_name": "LayoutModel",
      "state": {
       "_model_module": "@jupyter-widgets/base",
       "_model_module_version": "1.2.0",
       "_model_name": "LayoutModel",
       "_view_count": null,
       "_view_module": "@jupyter-widgets/base",
       "_view_module_version": "1.2.0",
       "_view_name": "LayoutView",
       "align_content": null,
       "align_items": null,
       "align_self": null,
       "border": null,
       "bottom": null,
       "display": null,
       "flex": null,
       "flex_flow": null,
       "grid_area": null,
       "grid_auto_columns": null,
       "grid_auto_flow": null,
       "grid_auto_rows": null,
       "grid_column": null,
       "grid_gap": null,
       "grid_row": null,
       "grid_template_areas": null,
       "grid_template_columns": null,
       "grid_template_rows": null,
       "height": null,
       "justify_content": null,
       "justify_items": null,
       "left": null,
       "margin": null,
       "max_height": null,
       "max_width": null,
       "min_height": null,
       "min_width": null,
       "object_fit": null,
       "object_position": null,
       "order": null,
       "overflow": null,
       "overflow_x": null,
       "overflow_y": null,
       "padding": null,
       "right": null,
       "top": null,
       "visibility": null,
       "width": null
      }
     },
     "d5aa78b316bc404c8246622dda8e352b": {
      "model_module": "@jupyter-widgets/controls",
      "model_module_version": "1.5.0",
      "model_name": "LabelModel",
      "state": {
       "_dom_classes": [],
       "_model_module": "@jupyter-widgets/controls",
       "_model_module_version": "1.5.0",
       "_model_name": "LabelModel",
       "_view_count": null,
       "_view_module": "@jupyter-widgets/controls",
       "_view_module_version": "1.5.0",
       "_view_name": "LabelView",
       "description": "",
       "description_tooltip": null,
       "layout": "IPY_MODEL_12baa973d2d84f05aaf95a4db93f54e0",
       "placeholder": "​",
       "style": "IPY_MODEL_c7c6959ed1774acebe462e645c6b94b3",
       "value": ""
      }
     },
     "e237d9804b42451cb504a9fe5fb8c874": {
      "model_module": "@jupyter-widgets/controls",
      "model_module_version": "1.5.0",
      "model_name": "VBoxModel",
      "state": {
       "_dom_classes": [],
       "_model_module": "@jupyter-widgets/controls",
       "_model_module_version": "1.5.0",
       "_model_name": "VBoxModel",
       "_view_count": null,
       "_view_module": "@jupyter-widgets/controls",
       "_view_module_version": "1.5.0",
       "_view_name": "VBoxView",
       "box_style": "",
       "children": [
        "IPY_MODEL_40beeb3981e54a79aefd74578f61c386",
        "IPY_MODEL_7b431b3e7523425087eb76e56f8b8687"
       ],
       "layout": "IPY_MODEL_ae6b22fb41174211aac3f1cfece4eda2"
      }
     },
     "e4d250ef5e1e4038b864d4534b362616": {
      "model_module": "@jupyter-widgets/controls",
      "model_module_version": "1.5.0",
      "model_name": "ProgressStyleModel",
      "state": {
       "_model_module": "@jupyter-widgets/controls",
       "_model_module_version": "1.5.0",
       "_model_name": "ProgressStyleModel",
       "_view_count": null,
       "_view_module": "@jupyter-widgets/base",
       "_view_module_version": "1.2.0",
       "_view_name": "StyleView",
       "bar_color": null,
       "description_width": ""
      }
     },
     "ea2bfec712af48d5b799d8f7792a07fe": {
      "model_module": "@jupyter-widgets/controls",
      "model_module_version": "1.5.0",
      "model_name": "ProgressStyleModel",
      "state": {
       "_model_module": "@jupyter-widgets/controls",
       "_model_module_version": "1.5.0",
       "_model_name": "ProgressStyleModel",
       "_view_count": null,
       "_view_module": "@jupyter-widgets/base",
       "_view_module_version": "1.2.0",
       "_view_name": "StyleView",
       "bar_color": null,
       "description_width": ""
      }
     },
     "ec5a5080bb1b43b38f783fd35ff913be": {
      "model_module": "@jupyter-widgets/base",
      "model_module_version": "1.2.0",
      "model_name": "LayoutModel",
      "state": {
       "_model_module": "@jupyter-widgets/base",
       "_model_module_version": "1.2.0",
       "_model_name": "LayoutModel",
       "_view_count": null,
       "_view_module": "@jupyter-widgets/base",
       "_view_module_version": "1.2.0",
       "_view_name": "LayoutView",
       "align_content": null,
       "align_items": null,
       "align_self": null,
       "border": null,
       "bottom": null,
       "display": null,
       "flex": null,
       "flex_flow": null,
       "grid_area": null,
       "grid_auto_columns": null,
       "grid_auto_flow": null,
       "grid_auto_rows": null,
       "grid_column": null,
       "grid_gap": null,
       "grid_row": null,
       "grid_template_areas": null,
       "grid_template_columns": null,
       "grid_template_rows": null,
       "height": null,
       "justify_content": null,
       "justify_items": null,
       "left": null,
       "margin": null,
       "max_height": null,
       "max_width": null,
       "min_height": null,
       "min_width": null,
       "object_fit": null,
       "object_position": null,
       "order": null,
       "overflow": null,
       "overflow_x": null,
       "overflow_y": null,
       "padding": null,
       "right": null,
       "top": null,
       "visibility": null,
       "width": null
      }
     },
     "ee715090ea2240a8a11e81fc6a73d77e": {
      "model_module": "@jupyter-widgets/controls",
      "model_module_version": "1.5.0",
      "model_name": "ProgressStyleModel",
      "state": {
       "_model_module": "@jupyter-widgets/controls",
       "_model_module_version": "1.5.0",
       "_model_name": "ProgressStyleModel",
       "_view_count": null,
       "_view_module": "@jupyter-widgets/base",
       "_view_module_version": "1.2.0",
       "_view_name": "StyleView",
       "bar_color": null,
       "description_width": ""
      }
     },
     "f0d757a4a39f45d3b345bcb2876a1548": {
      "model_module": "@jupyter-widgets/base",
      "model_module_version": "1.2.0",
      "model_name": "LayoutModel",
      "state": {
       "_model_module": "@jupyter-widgets/base",
       "_model_module_version": "1.2.0",
       "_model_name": "LayoutModel",
       "_view_count": null,
       "_view_module": "@jupyter-widgets/base",
       "_view_module_version": "1.2.0",
       "_view_name": "LayoutView",
       "align_content": null,
       "align_items": null,
       "align_self": null,
       "border": null,
       "bottom": null,
       "display": null,
       "flex": null,
       "flex_flow": null,
       "grid_area": null,
       "grid_auto_columns": null,
       "grid_auto_flow": null,
       "grid_auto_rows": null,
       "grid_column": null,
       "grid_gap": null,
       "grid_row": null,
       "grid_template_areas": null,
       "grid_template_columns": null,
       "grid_template_rows": null,
       "height": null,
       "justify_content": null,
       "justify_items": null,
       "left": null,
       "margin": null,
       "max_height": null,
       "max_width": null,
       "min_height": null,
       "min_width": null,
       "object_fit": null,
       "object_position": null,
       "order": null,
       "overflow": null,
       "overflow_x": null,
       "overflow_y": null,
       "padding": null,
       "right": null,
       "top": null,
       "visibility": null,
       "width": null
      }
     },
     "f249afcd751d4035bd0fb73c07a5bcb6": {
      "model_module": "@jupyter-widgets/controls",
      "model_module_version": "1.5.0",
      "model_name": "VBoxModel",
      "state": {
       "_dom_classes": [],
       "_model_module": "@jupyter-widgets/controls",
       "_model_module_version": "1.5.0",
       "_model_name": "VBoxModel",
       "_view_count": null,
       "_view_module": "@jupyter-widgets/controls",
       "_view_module_version": "1.5.0",
       "_view_name": "VBoxView",
       "box_style": "",
       "children": [
        "IPY_MODEL_413ec8240cd94f999532bf12a90cfc4f",
        "IPY_MODEL_017c60ae77654c23887c9c1ae30a96f5"
       ],
       "layout": "IPY_MODEL_c62f25a1523c4154bf45dfe03a0dd5a9"
      }
     },
     "f4206bb25d9d49e09f51eaae1346e4fa": {
      "model_module": "@jupyter-widgets/controls",
      "model_module_version": "1.5.0",
      "model_name": "FloatProgressModel",
      "state": {
       "_dom_classes": [],
       "_model_module": "@jupyter-widgets/controls",
       "_model_module_version": "1.5.0",
       "_model_name": "FloatProgressModel",
       "_view_count": null,
       "_view_module": "@jupyter-widgets/controls",
       "_view_module_version": "1.5.0",
       "_view_name": "ProgressView",
       "bar_style": "",
       "description": "",
       "description_tooltip": null,
       "layout": "IPY_MODEL_c01d4015897e4e86bd7a4cab9b991fe2",
       "max": 1,
       "min": 0,
       "orientation": "horizontal",
       "style": "IPY_MODEL_fed6ec9c257c41bb991273b5b3d8c94b",
       "value": 0
      }
     },
     "fed6ec9c257c41bb991273b5b3d8c94b": {
      "model_module": "@jupyter-widgets/controls",
      "model_module_version": "1.5.0",
      "model_name": "ProgressStyleModel",
      "state": {
       "_model_module": "@jupyter-widgets/controls",
       "_model_module_version": "1.5.0",
       "_model_name": "ProgressStyleModel",
       "_view_count": null,
       "_view_module": "@jupyter-widgets/base",
       "_view_module_version": "1.2.0",
       "_view_name": "StyleView",
       "bar_color": null,
       "description_width": ""
      }
     }
    },
    "version_major": 2,
    "version_minor": 0
   }
  }
 },
 "nbformat": 4,
 "nbformat_minor": 5
}
