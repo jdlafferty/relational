{
 "cells": [
  {
   "cell_type": "code",
   "execution_count": 1,
   "metadata": {},
   "outputs": [
    {
     "name": "stderr",
     "output_type": "stream",
     "text": [
      "2023-03-11 17:56:35.282641: I tensorflow/core/platform/cpu_feature_guard.cc:193] This TensorFlow binary is optimized with oneAPI Deep Neural Network Library (oneDNN) to use the following CPU instructions in performance-critical operations:  AVX2 AVX512F AVX512_VNNI FMA\n",
      "To enable them in other operations, rebuild TensorFlow with the appropriate compiler flags.\n",
      "2023-03-11 17:56:35.417347: I tensorflow/core/util/util.cc:169] oneDNN custom operations are on. You may see slightly different numerical results due to floating-point round-off errors from different computation orders. To turn them off, set the environment variable `TF_ENABLE_ONEDNN_OPTS=0`.\n",
      "2023-03-11 17:56:35.453789: E tensorflow/stream_executor/cuda/cuda_blas.cc:2981] Unable to register cuBLAS factory: Attempting to register factory for plugin cuBLAS when one has already been registered\n",
      "2023-03-11 17:56:36.064684: W tensorflow/stream_executor/platform/default/dso_loader.cc:64] Could not load dynamic library 'libnvinfer.so.7'; dlerror: libnvinfer.so.7: cannot open shared object file: No such file or directory; LD_LIBRARY_PATH: /gpfs/loomis/apps/avx/software/cuDNN/8.1.1.33-CUDA-11.2.2/lib:/gpfs/loomis/apps/avx/software/CUDAcore/11.2.2/nvvm/lib64:/gpfs/loomis/apps/avx/software/CUDAcore/11.2.2/extras/CUPTI/lib64:/gpfs/loomis/apps/avx/software/CUDAcore/11.2.2/lib:/vast/palmer/apps/avx.grace/software/Code-Server/4.7.0/lib:/gpfs/loomis/apps/avx/software/Perl/5.32.0-GCCcore-10.2.0/lib:/gpfs/loomis/apps/avx/software/DB/18.1.40-GCCcore-10.2.0/lib:/gpfs/loomis/apps/avx/software/libreadline/8.0-GCCcore-10.2.0/lib:/gpfs/loomis/apps/avx/software/gettext/0.21-GCCcore-10.2.0/lib:/gpfs/loomis/apps/avx/software/ncurses/6.2-GCCcore-10.2.0/lib:/gpfs/loomis/apps/avx/software/libxml2/2.9.10-GCCcore-10.2.0/lib:/gpfs/loomis/apps/avx/software/XZ/5.2.5-GCCcore-10.2.0/lib:/gpfs/loomis/apps/avx/software/expat/2.2.9-GCCcore-10.2.0/lib:/gpfs/loomis/apps/avx/software/cURL/7.72.0-GCCcore-10.2.0/lib:/gpfs/loomis/apps/avx/software/zlib/1.2.11-GCCcore-10.2.0/lib:/gpfs/loomis/apps/avx/software/GCCcore/10.2.0/lib64:/gpfs/loomis/apps/avx/software/GCCcore/10.2.0/lib\n",
      "2023-03-11 17:56:36.064813: W tensorflow/stream_executor/platform/default/dso_loader.cc:64] Could not load dynamic library 'libnvinfer_plugin.so.7'; dlerror: libnvinfer_plugin.so.7: cannot open shared object file: No such file or directory; LD_LIBRARY_PATH: /gpfs/loomis/apps/avx/software/cuDNN/8.1.1.33-CUDA-11.2.2/lib:/gpfs/loomis/apps/avx/software/CUDAcore/11.2.2/nvvm/lib64:/gpfs/loomis/apps/avx/software/CUDAcore/11.2.2/extras/CUPTI/lib64:/gpfs/loomis/apps/avx/software/CUDAcore/11.2.2/lib:/vast/palmer/apps/avx.grace/software/Code-Server/4.7.0/lib:/gpfs/loomis/apps/avx/software/Perl/5.32.0-GCCcore-10.2.0/lib:/gpfs/loomis/apps/avx/software/DB/18.1.40-GCCcore-10.2.0/lib:/gpfs/loomis/apps/avx/software/libreadline/8.0-GCCcore-10.2.0/lib:/gpfs/loomis/apps/avx/software/gettext/0.21-GCCcore-10.2.0/lib:/gpfs/loomis/apps/avx/software/ncurses/6.2-GCCcore-10.2.0/lib:/gpfs/loomis/apps/avx/software/libxml2/2.9.10-GCCcore-10.2.0/lib:/gpfs/loomis/apps/avx/software/XZ/5.2.5-GCCcore-10.2.0/lib:/gpfs/loomis/apps/avx/software/expat/2.2.9-GCCcore-10.2.0/lib:/gpfs/loomis/apps/avx/software/cURL/7.72.0-GCCcore-10.2.0/lib:/gpfs/loomis/apps/avx/software/zlib/1.2.11-GCCcore-10.2.0/lib:/gpfs/loomis/apps/avx/software/GCCcore/10.2.0/lib64:/gpfs/loomis/apps/avx/software/GCCcore/10.2.0/lib\n",
      "2023-03-11 17:56:36.064823: W tensorflow/compiler/tf2tensorrt/utils/py_utils.cc:38] TF-TRT Warning: Cannot dlopen some TensorRT libraries. If you would like to use Nvidia GPU with TensorRT, please make sure the missing libraries mentioned above are installed properly.\n"
     ]
    }
   ],
   "source": [
    "import numpy as np\n",
    "import matplotlib.pyplot as plt\n",
    "from tqdm import tqdm, trange\n",
    "import argparse\n",
    "\n",
    "import tensorflow as tf\n",
    "from tensorflow.keras import layers, Model\n",
    "\n",
    "import sklearn.metrics\n",
    "from sklearn.model_selection import train_test_split\n",
    "\n",
    "%load_ext autoreload\n",
    "%autoreload 2\n",
    "import sys; sys.path.append('../'); sys.path.append('../..')\n",
    "import utils\n",
    "\n",
    "seed = 314159"
   ]
  },
  {
   "cell_type": "code",
   "execution_count": 2,
   "metadata": {},
   "outputs": [
    {
     "data": {
      "text/plain": [
       "[PhysicalDevice(name='/physical_device:CPU:0', device_type='CPU'),\n",
       " PhysicalDevice(name='/physical_device:GPU:0', device_type='GPU')]"
      ]
     },
     "execution_count": 2,
     "metadata": {},
     "output_type": "execute_result"
    }
   ],
   "source": [
    "tf.config.list_physical_devices()"
   ]
  },
  {
   "cell_type": "code",
   "execution_count": 3,
   "metadata": {},
   "outputs": [
    {
     "name": "stderr",
     "output_type": "stream",
     "text": [
      "Failed to detect the name of this notebook, you can set it manually with the WANDB_NOTEBOOK_NAME environment variable to enable code saving.\n",
      "\u001b[34m\u001b[1mwandb\u001b[0m: Currently logged in as: \u001b[33mawni00\u001b[0m. Use \u001b[1m`wandb login --relogin`\u001b[0m to force relogin\n"
     ]
    }
   ],
   "source": [
    "import wandb\n",
    "wandb.login()\n",
    "\n",
    "import logging\n",
    "logger = logging.getLogger(\"wandb\")\n",
    "logger.setLevel(logging.ERROR)\n",
    "\n",
    "wandb_project_name = 'dev_abstracter_sorting_generalization'"
   ]
  },
  {
   "cell_type": "code",
   "execution_count": 4,
   "metadata": {},
   "outputs": [
    {
     "name": "stderr",
     "output_type": "stream",
     "text": [
      "2023-03-11 17:56:39.782023: I tensorflow/core/platform/cpu_feature_guard.cc:193] This TensorFlow binary is optimized with oneAPI Deep Neural Network Library (oneDNN) to use the following CPU instructions in performance-critical operations:  AVX2 AVX512F AVX512_VNNI FMA\n",
      "To enable them in other operations, rebuild TensorFlow with the appropriate compiler flags.\n",
      "2023-03-11 17:56:40.369098: I tensorflow/core/common_runtime/gpu/gpu_device.cc:1616] Created device /job:localhost/replica:0/task:0/device:GPU:0 with 14781 MB memory:  -> device: 0, name: Quadro RTX 5000, pci bus id: 0000:3b:00.0, compute capability: 7.5\n"
     ]
    }
   ],
   "source": [
    "def create_callbacks(monitor='loss'):\n",
    "    callbacks = [\n",
    "        tf.keras.callbacks.EarlyStopping(monitor='val_loss', patience=10, mode='auto', restore_best_weights=True),\n",
    "#         tf.keras.callbacks.ReduceLROnPlateau( monitor='val_loss', factor=0.1, patience=5, verbose=1, mode='auto'),\n",
    "        wandb.keras.WandbMetricsLogger(log_freq='epoch'),\n",
    "        # wandb.keras.WandbModelCheckpoint(filepath='models/model_{epoch:02d}', monitor=monitor, mode='auto', save_freq='epoch')\n",
    "#         wandb.keras.WandbCallback(\n",
    "#             monitor=monitor, log_weights=log_weights, log_gradients=log_gradients, save_model=save_model, save_graph=True,\n",
    "#             training_data=train_ds, validation_data=val_ds,\n",
    "#             labels=class_names, predictions=64, compute_flops=True)\n",
    "        ]\n",
    "    return callbacks\n",
    "\n",
    "from seq2seq_transformer import TeacherForcingAccuracy\n",
    "teacher_forcing_acc_metric = TeacherForcingAccuracy(ignore_class=None)\n",
    "metrics = [teacher_forcing_acc_metric]\n",
    "\n",
    "\n",
    "loss = tf.keras.losses.SparseCategoricalCrossentropy(from_logits=True, ignore_class=None, name='sparse_categorical_crossentropy')\n",
    "create_opt = lambda : tf.keras.optimizers.Adam()\n",
    "\n",
    "fit_kwargs = {'epochs': 200, 'batch_size': 128}\n"
   ]
  },
  {
   "cell_type": "markdown",
   "metadata": {},
   "source": [
    "## Dataset and Utils"
   ]
  },
  {
   "cell_type": "code",
   "execution_count": 5,
   "metadata": {},
   "outputs": [],
   "source": [
    "# region evaluation code\n",
    "def evaluate_seq2seq_model(model, source_test, target_test, labels_test, start_token, print_=False):\n",
    "    \n",
    "    n = len(source_test)\n",
    "    output = np.zeros(shape=(n, (seqs_length+1)), dtype=int)\n",
    "    output[:,0] = start_token\n",
    "    for i in range(seqs_length):\n",
    "        predictions = model((source_test, output[:, :-1]), training=False)\n",
    "        predictions = predictions[:, i, :]\n",
    "        predicted_id = tf.argmax(predictions, axis=-1)\n",
    "        output[:,i+1] = predicted_id\n",
    "\n",
    "    elementwise_acc = (np.mean(output[:,1:] == labels_test))\n",
    "    acc_per_position = [np.mean(output[:, i+1] == labels_test[:, i]) for i in range(seqs_length)]\n",
    "    seq_acc = np.mean(np.all(output[:,1:]==labels_test, axis=1))\n",
    "\n",
    "\n",
    "    teacher_forcing_acc = teacher_forcing_acc_metric(labels_test, model([source_test, target_test]))\n",
    "    teacher_forcing_acc_metric.reset_state()\n",
    "\n",
    "    if print_:\n",
    "        print('element-wise accuracy: %.2f%%' % (100*elementwise_acc))\n",
    "        print('full sequence accuracy: %.2f%%' % (100*seq_acc))\n",
    "        print('teacher-forcing accuracy:  %.2f%%' % (100*teacher_forcing_acc))\n",
    "\n",
    "\n",
    "    return_dict = {\n",
    "        'elementwise_accuracy': elementwise_acc, 'full_sequence_accuracy': seq_acc,\n",
    "        'teacher_forcing_accuracy': teacher_forcing_acc, 'acc_by_position': acc_per_position\n",
    "        }\n",
    "\n",
    "    return return_dict\n",
    "\n",
    "def log_to_wandb(model, evaluation_dict):\n",
    "    acc_by_position_table = wandb.Table(\n",
    "        data=[(i, acc) for i, acc in enumerate(evaluation_dict['acc_by_position'])], \n",
    "        columns=[\"position\", \"element-wise accuracy at position\"])\n",
    "\n",
    "    evaluation_dict['acc_by_position'] = wandb.plot.line(\n",
    "        acc_by_position_table, \"position\", \"element-wise accuracy at position\",\n",
    "        title=\"Element-wise Accuracy By Position\")\n",
    "\n",
    "    wandb.log(evaluation_dict)"
   ]
  },
  {
   "cell_type": "markdown",
   "metadata": {},
   "source": [
    "## Task 1: Transformer"
   ]
  },
  {
   "cell_type": "code",
   "execution_count": 6,
   "metadata": {},
   "outputs": [],
   "source": [
    "task1_data = np.load('object_sorting_datasets/task1_object_sort_dataset.npy', allow_pickle=True).item()\n",
    "\n",
    "objects, seqs, sorted_seqs, object_seqs, target, labels, start_token = (task1_data['objects'], task1_data['seqs'], task1_data['sorted_seqs'], task1_data['object_seqs'], \\\n",
    "    task1_data['target'], task1_data['labels'], task1_data['start_token'])\n",
    "\n",
    "test_size = 0.2\n",
    "val_size = 0.1\n",
    "\n",
    "seqs_train, seqs_test, sorted_seqs_train, sorted_seqs_test, object_seqs_train, object_seqs_test, target_train, target_test, labels_train, labels_test = train_test_split(\n",
    "    seqs, sorted_seqs, object_seqs, target, labels, test_size=0.2, random_state=seed)\n",
    "seqs_train, seqs_val, sorted_seqs_train, sorted_seqs_val, object_seqs_train, object_seqs_val, target_train, target_val, labels_train, labels_val = train_test_split(\n",
    "    seqs_train, sorted_seqs_train, object_seqs_train, target_train, labels_train, test_size=val_size/(1-test_size), random_state=seed)\n",
    "\n",
    "seqs_length = seqs.shape[1]"
   ]
  },
  {
   "cell_type": "code",
   "execution_count": 7,
   "metadata": {},
   "outputs": [
    {
     "name": "stderr",
     "output_type": "stream",
     "text": [
      "2023-03-11 17:56:42.393710: I tensorflow/stream_executor/cuda/cuda_dnn.cc:384] Loaded cuDNN version 8101\n"
     ]
    },
    {
     "name": "stdout",
     "output_type": "stream",
     "text": [
      "Model: \"transformer\"\n",
      "_________________________________________________________________\n",
      " Layer (type)                Output Shape              Param #   \n",
      "=================================================================\n",
      " source_embedder (TimeDistri  multiple                 576       \n",
      " buted)                                                          \n",
      "                                                                 \n",
      " target_embedder (Embedding)  multiple                 704       \n",
      "                                                                 \n",
      " add_pos_embedding_input (Ad  multiple                 0         \n",
      " dPositionalEmbedding)                                           \n",
      "                                                                 \n",
      " add_pos_embedding_target (A  multiple                 0         \n",
      " ddPositionalEmbedding)                                          \n",
      "                                                                 \n",
      " encoder (Encoder)           multiple                  83584     \n",
      "                                                                 \n",
      " decoder (Decoder)           multiple                  150272    \n",
      "                                                                 \n",
      " final_layer (Dense)         multiple                  650       \n",
      "                                                                 \n",
      "=================================================================\n",
      "Total params: 235,786\n",
      "Trainable params: 235,786\n",
      "Non-trainable params: 0\n",
      "_________________________________________________________________\n"
     ]
    }
   ],
   "source": [
    "from seq2seq_abstracter_models import Transformer \n",
    "argsort_model = Transformer(\n",
    "    num_layers=2, num_heads=2, dff=64, \n",
    "    input_vocab='vector', target_vocab=seqs_length+1, output_dim=seqs_length,\n",
    "    embedding_dim=64)\n",
    "\n",
    "argsort_model.compile(loss=loss, optimizer=create_opt(), metrics=metrics)\n",
    "argsort_model((object_seqs_train[:32], target_train[:32]));\n",
    "\n",
    "argsort_model.summary()"
   ]
  },
  {
   "cell_type": "code",
   "execution_count": 8,
   "metadata": {},
   "outputs": [
    {
     "name": "stdout",
     "output_type": "stream",
     "text": [
      "Epoch 1/100\n",
      "8/8 [==============================] - 5s 197ms/step - loss: 2.5051 - teacher_forcing_accuracy: 0.1021 - val_loss: 2.3099 - val_teacher_forcing_accuracy: 0.1122\n",
      "Epoch 2/100\n",
      "8/8 [==============================] - 1s 94ms/step - loss: 2.3366 - teacher_forcing_accuracy: 0.1096 - val_loss: 2.2923 - val_teacher_forcing_accuracy: 0.1147\n",
      "Epoch 3/100\n",
      "8/8 [==============================] - 1s 94ms/step - loss: 2.3232 - teacher_forcing_accuracy: 0.1086 - val_loss: 2.2812 - val_teacher_forcing_accuracy: 0.1214\n",
      "Epoch 4/100\n",
      "8/8 [==============================] - 1s 94ms/step - loss: 2.3024 - teacher_forcing_accuracy: 0.1172 - val_loss: 2.2677 - val_teacher_forcing_accuracy: 0.1296\n",
      "Epoch 5/100\n",
      "8/8 [==============================] - 1s 96ms/step - loss: 2.2834 - teacher_forcing_accuracy: 0.1261 - val_loss: 2.2442 - val_teacher_forcing_accuracy: 0.1401\n",
      "Epoch 6/100\n",
      "8/8 [==============================] - 1s 84ms/step - loss: 2.2565 - teacher_forcing_accuracy: 0.1382 - val_loss: 2.2047 - val_teacher_forcing_accuracy: 0.1676\n",
      "Epoch 7/100\n",
      "8/8 [==============================] - 1s 79ms/step - loss: 2.2147 - teacher_forcing_accuracy: 0.1601 - val_loss: 2.1390 - val_teacher_forcing_accuracy: 0.1927\n",
      "Epoch 8/100\n",
      "8/8 [==============================] - 1s 86ms/step - loss: 2.1463 - teacher_forcing_accuracy: 0.1872 - val_loss: 2.0494 - val_teacher_forcing_accuracy: 0.2146\n",
      "Epoch 9/100\n",
      "8/8 [==============================] - 1s 95ms/step - loss: 2.0779 - teacher_forcing_accuracy: 0.2076 - val_loss: 1.9763 - val_teacher_forcing_accuracy: 0.2348\n",
      "Epoch 10/100\n",
      "8/8 [==============================] - 1s 95ms/step - loss: 2.0194 - teacher_forcing_accuracy: 0.2275 - val_loss: 1.9269 - val_teacher_forcing_accuracy: 0.2431\n",
      "Epoch 11/100\n",
      "8/8 [==============================] - 1s 93ms/step - loss: 1.9680 - teacher_forcing_accuracy: 0.2412 - val_loss: 1.8713 - val_teacher_forcing_accuracy: 0.2544\n",
      "Epoch 12/100\n",
      "8/8 [==============================] - 1s 89ms/step - loss: 1.9167 - teacher_forcing_accuracy: 0.2499 - val_loss: 1.8132 - val_teacher_forcing_accuracy: 0.2663\n",
      "Epoch 13/100\n",
      "8/8 [==============================] - 1s 97ms/step - loss: 1.8647 - teacher_forcing_accuracy: 0.2618 - val_loss: 1.7597 - val_teacher_forcing_accuracy: 0.2794\n",
      "Epoch 14/100\n",
      "8/8 [==============================] - 1s 96ms/step - loss: 1.8191 - teacher_forcing_accuracy: 0.2822 - val_loss: 1.7144 - val_teacher_forcing_accuracy: 0.2862\n",
      "Epoch 15/100\n",
      "8/8 [==============================] - 1s 84ms/step - loss: 1.7779 - teacher_forcing_accuracy: 0.2864 - val_loss: 1.6847 - val_teacher_forcing_accuracy: 0.2881\n",
      "Epoch 16/100\n",
      "8/8 [==============================] - 1s 92ms/step - loss: 1.7352 - teacher_forcing_accuracy: 0.2921 - val_loss: 1.6488 - val_teacher_forcing_accuracy: 0.2910\n",
      "Epoch 17/100\n",
      "8/8 [==============================] - 1s 94ms/step - loss: 1.7025 - teacher_forcing_accuracy: 0.2959 - val_loss: 1.6180 - val_teacher_forcing_accuracy: 0.2943\n",
      "Epoch 18/100\n",
      "8/8 [==============================] - 1s 95ms/step - loss: 1.6750 - teacher_forcing_accuracy: 0.3139 - val_loss: 1.5966 - val_teacher_forcing_accuracy: 0.2950\n",
      "Epoch 19/100\n",
      "8/8 [==============================] - 1s 95ms/step - loss: 1.6497 - teacher_forcing_accuracy: 0.3072 - val_loss: 1.5836 - val_teacher_forcing_accuracy: 0.2964\n",
      "Epoch 20/100\n",
      "8/8 [==============================] - 1s 94ms/step - loss: 1.6218 - teacher_forcing_accuracy: 0.3233 - val_loss: 1.5888 - val_teacher_forcing_accuracy: 0.2942\n",
      "Epoch 21/100\n",
      "8/8 [==============================] - 1s 96ms/step - loss: 1.6222 - teacher_forcing_accuracy: 0.3219 - val_loss: 1.5822 - val_teacher_forcing_accuracy: 0.2941\n",
      "Epoch 22/100\n",
      "8/8 [==============================] - 1s 96ms/step - loss: 1.6032 - teacher_forcing_accuracy: 0.3262 - val_loss: 1.5806 - val_teacher_forcing_accuracy: 0.2922\n",
      "Epoch 23/100\n",
      "8/8 [==============================] - 1s 97ms/step - loss: 1.5971 - teacher_forcing_accuracy: 0.3234 - val_loss: 1.5826 - val_teacher_forcing_accuracy: 0.2943\n",
      "Epoch 24/100\n",
      "8/8 [==============================] - 1s 92ms/step - loss: 1.5880 - teacher_forcing_accuracy: 0.3304 - val_loss: 1.5834 - val_teacher_forcing_accuracy: 0.2925\n",
      "Epoch 25/100\n",
      "8/8 [==============================] - 1s 95ms/step - loss: 1.5809 - teacher_forcing_accuracy: 0.3354 - val_loss: 1.5765 - val_teacher_forcing_accuracy: 0.2942\n",
      "Epoch 26/100\n",
      "8/8 [==============================] - 1s 95ms/step - loss: 1.5719 - teacher_forcing_accuracy: 0.3411 - val_loss: 1.5796 - val_teacher_forcing_accuracy: 0.2948\n",
      "Epoch 27/100\n",
      "8/8 [==============================] - 1s 95ms/step - loss: 1.5651 - teacher_forcing_accuracy: 0.3445 - val_loss: 1.5836 - val_teacher_forcing_accuracy: 0.2953\n",
      "Epoch 28/100\n",
      "8/8 [==============================] - 1s 95ms/step - loss: 1.5493 - teacher_forcing_accuracy: 0.3509 - val_loss: 1.5899 - val_teacher_forcing_accuracy: 0.2945\n",
      "Epoch 29/100\n",
      "8/8 [==============================] - 1s 87ms/step - loss: 1.5524 - teacher_forcing_accuracy: 0.3540 - val_loss: 1.5829 - val_teacher_forcing_accuracy: 0.2947\n",
      "Epoch 30/100\n",
      "8/8 [==============================] - 1s 95ms/step - loss: 1.5355 - teacher_forcing_accuracy: 0.3585 - val_loss: 1.5856 - val_teacher_forcing_accuracy: 0.2934\n",
      "Epoch 31/100\n",
      "8/8 [==============================] - 1s 95ms/step - loss: 1.5331 - teacher_forcing_accuracy: 0.3632 - val_loss: 1.5934 - val_teacher_forcing_accuracy: 0.2938\n",
      "Epoch 32/100\n",
      "8/8 [==============================] - 1s 91ms/step - loss: 1.5313 - teacher_forcing_accuracy: 0.3615 - val_loss: 1.5941 - val_teacher_forcing_accuracy: 0.2930\n",
      "Epoch 33/100\n",
      "8/8 [==============================] - 1s 94ms/step - loss: 1.5174 - teacher_forcing_accuracy: 0.3725 - val_loss: 1.6011 - val_teacher_forcing_accuracy: 0.2920\n",
      "Epoch 34/100\n",
      "8/8 [==============================] - 1s 94ms/step - loss: 1.5107 - teacher_forcing_accuracy: 0.3795 - val_loss: 1.5935 - val_teacher_forcing_accuracy: 0.2919\n",
      "Epoch 35/100\n",
      "8/8 [==============================] - 1s 90ms/step - loss: 1.5169 - teacher_forcing_accuracy: 0.3746 - val_loss: 1.5948 - val_teacher_forcing_accuracy: 0.2930\n",
      "Epoch 36/100\n",
      "8/8 [==============================] - 1s 95ms/step - loss: 1.5038 - teacher_forcing_accuracy: 0.3801 - val_loss: 1.6071 - val_teacher_forcing_accuracy: 0.2923\n",
      "Epoch 37/100\n",
      "8/8 [==============================] - 1s 93ms/step - loss: 1.5075 - teacher_forcing_accuracy: 0.3762 - val_loss: 1.6165 - val_teacher_forcing_accuracy: 0.2933\n",
      "Epoch 38/100\n",
      "8/8 [==============================] - 1s 92ms/step - loss: 1.4963 - teacher_forcing_accuracy: 0.3872 - val_loss: 1.6255 - val_teacher_forcing_accuracy: 0.2932\n",
      "Epoch 39/100\n",
      "8/8 [==============================] - 1s 95ms/step - loss: 1.4855 - teacher_forcing_accuracy: 0.3915 - val_loss: 1.6195 - val_teacher_forcing_accuracy: 0.2953\n",
      "Epoch 40/100\n",
      "8/8 [==============================] - 1s 96ms/step - loss: 1.4810 - teacher_forcing_accuracy: 0.3966 - val_loss: 1.6223 - val_teacher_forcing_accuracy: 0.2922\n",
      "Epoch 41/100\n",
      "8/8 [==============================] - 1s 94ms/step - loss: 1.4837 - teacher_forcing_accuracy: 0.3864 - val_loss: 1.6235 - val_teacher_forcing_accuracy: 0.2904\n",
      "Epoch 42/100\n",
      "8/8 [==============================] - 1s 94ms/step - loss: 1.4713 - teacher_forcing_accuracy: 0.3996 - val_loss: 1.6244 - val_teacher_forcing_accuracy: 0.2935\n",
      "Epoch 43/100\n",
      "8/8 [==============================] - 1s 95ms/step - loss: 1.4624 - teacher_forcing_accuracy: 0.4039 - val_loss: 1.6268 - val_teacher_forcing_accuracy: 0.2924\n",
      "Epoch 44/100\n",
      "8/8 [==============================] - 1s 85ms/step - loss: 1.4564 - teacher_forcing_accuracy: 0.4040 - val_loss: 1.6300 - val_teacher_forcing_accuracy: 0.2918\n",
      "Epoch 45/100\n",
      "8/8 [==============================] - 1s 95ms/step - loss: 1.4528 - teacher_forcing_accuracy: 0.4112 - val_loss: 1.6321 - val_teacher_forcing_accuracy: 0.2950\n",
      "Epoch 46/100\n",
      "8/8 [==============================] - 1s 95ms/step - loss: 1.4494 - teacher_forcing_accuracy: 0.4171 - val_loss: 1.6318 - val_teacher_forcing_accuracy: 0.2937\n",
      "Epoch 47/100\n",
      "8/8 [==============================] - 1s 88ms/step - loss: 1.4373 - teacher_forcing_accuracy: 0.4212 - val_loss: 1.6355 - val_teacher_forcing_accuracy: 0.2941\n",
      "Epoch 48/100\n",
      "8/8 [==============================] - 1s 92ms/step - loss: 1.4363 - teacher_forcing_accuracy: 0.4225 - val_loss: 1.6494 - val_teacher_forcing_accuracy: 0.2942\n",
      "Epoch 49/100\n",
      "8/8 [==============================] - 1s 96ms/step - loss: 1.4313 - teacher_forcing_accuracy: 0.4226 - val_loss: 1.6574 - val_teacher_forcing_accuracy: 0.2948\n",
      "Epoch 50/100\n",
      "8/8 [==============================] - 1s 95ms/step - loss: 1.4319 - teacher_forcing_accuracy: 0.4206 - val_loss: 1.6504 - val_teacher_forcing_accuracy: 0.2928\n",
      "Epoch 51/100\n",
      "8/8 [==============================] - 1s 94ms/step - loss: 1.4194 - teacher_forcing_accuracy: 0.4303 - val_loss: 1.6557 - val_teacher_forcing_accuracy: 0.2953\n",
      "Epoch 52/100\n",
      "8/8 [==============================] - 1s 96ms/step - loss: 1.4216 - teacher_forcing_accuracy: 0.4300 - val_loss: 1.6541 - val_teacher_forcing_accuracy: 0.2930\n",
      "Epoch 53/100\n",
      "8/8 [==============================] - 1s 91ms/step - loss: 1.4079 - teacher_forcing_accuracy: 0.4372 - val_loss: 1.6642 - val_teacher_forcing_accuracy: 0.2923\n",
      "Epoch 54/100\n",
      "8/8 [==============================] - 1s 94ms/step - loss: 1.4139 - teacher_forcing_accuracy: 0.4354 - val_loss: 1.6713 - val_teacher_forcing_accuracy: 0.2939\n",
      "Epoch 55/100\n",
      "8/8 [==============================] - 1s 94ms/step - loss: 1.4026 - teacher_forcing_accuracy: 0.4416 - val_loss: 1.6730 - val_teacher_forcing_accuracy: 0.2949\n",
      "Epoch 56/100\n",
      "8/8 [==============================] - 1s 94ms/step - loss: 1.4007 - teacher_forcing_accuracy: 0.4423 - val_loss: 1.6786 - val_teacher_forcing_accuracy: 0.2940\n",
      "Epoch 57/100\n",
      "8/8 [==============================] - 1s 95ms/step - loss: 1.3993 - teacher_forcing_accuracy: 0.4445 - val_loss: 1.6777 - val_teacher_forcing_accuracy: 0.2941\n",
      "Epoch 58/100\n",
      "8/8 [==============================] - 1s 94ms/step - loss: 1.3828 - teacher_forcing_accuracy: 0.4479 - val_loss: 1.6791 - val_teacher_forcing_accuracy: 0.2947\n",
      "Epoch 59/100\n",
      "8/8 [==============================] - 1s 87ms/step - loss: 1.3829 - teacher_forcing_accuracy: 0.4541 - val_loss: 1.6830 - val_teacher_forcing_accuracy: 0.2933\n",
      "Epoch 60/100\n",
      "8/8 [==============================] - 1s 85ms/step - loss: 1.3732 - teacher_forcing_accuracy: 0.4581 - val_loss: 1.6898 - val_teacher_forcing_accuracy: 0.2943\n",
      "Epoch 61/100\n",
      "8/8 [==============================] - 1s 96ms/step - loss: 1.3702 - teacher_forcing_accuracy: 0.4568 - val_loss: 1.6999 - val_teacher_forcing_accuracy: 0.2934\n",
      "Epoch 62/100\n",
      "8/8 [==============================] - 1s 98ms/step - loss: 1.3657 - teacher_forcing_accuracy: 0.4592 - val_loss: 1.7025 - val_teacher_forcing_accuracy: 0.2939\n",
      "Epoch 63/100\n",
      "8/8 [==============================] - 1s 99ms/step - loss: 1.3651 - teacher_forcing_accuracy: 0.4674 - val_loss: 1.7011 - val_teacher_forcing_accuracy: 0.2931\n",
      "Epoch 64/100\n",
      "8/8 [==============================] - 1s 94ms/step - loss: 1.3576 - teacher_forcing_accuracy: 0.4691 - val_loss: 1.7051 - val_teacher_forcing_accuracy: 0.2921\n",
      "Epoch 65/100\n",
      "8/8 [==============================] - 1s 87ms/step - loss: 1.3549 - teacher_forcing_accuracy: 0.4678 - val_loss: 1.7062 - val_teacher_forcing_accuracy: 0.2926\n",
      "Epoch 66/100\n",
      "8/8 [==============================] - 1s 82ms/step - loss: 1.3469 - teacher_forcing_accuracy: 0.4672 - val_loss: 1.7133 - val_teacher_forcing_accuracy: 0.2933\n",
      "Epoch 67/100\n",
      "8/8 [==============================] - 1s 87ms/step - loss: 1.3546 - teacher_forcing_accuracy: 0.4693 - val_loss: 1.7163 - val_teacher_forcing_accuracy: 0.2934\n",
      "Epoch 68/100\n",
      "8/8 [==============================] - 1s 108ms/step - loss: 1.3368 - teacher_forcing_accuracy: 0.4735 - val_loss: 1.7163 - val_teacher_forcing_accuracy: 0.2931\n",
      "Epoch 69/100\n",
      "8/8 [==============================] - 1s 94ms/step - loss: 1.3370 - teacher_forcing_accuracy: 0.4777 - val_loss: 1.7219 - val_teacher_forcing_accuracy: 0.2953\n",
      "Epoch 70/100\n",
      "8/8 [==============================] - 1s 86ms/step - loss: 1.3387 - teacher_forcing_accuracy: 0.4719 - val_loss: 1.7242 - val_teacher_forcing_accuracy: 0.2937\n",
      "Epoch 71/100\n",
      "8/8 [==============================] - 1s 94ms/step - loss: 1.3295 - teacher_forcing_accuracy: 0.4834 - val_loss: 1.7295 - val_teacher_forcing_accuracy: 0.2944\n",
      "Epoch 72/100\n",
      "8/8 [==============================] - 1s 95ms/step - loss: 1.3304 - teacher_forcing_accuracy: 0.4785 - val_loss: 1.7372 - val_teacher_forcing_accuracy: 0.2935\n",
      "Epoch 73/100\n",
      "8/8 [==============================] - 1s 87ms/step - loss: 1.3275 - teacher_forcing_accuracy: 0.4786 - val_loss: 1.7379 - val_teacher_forcing_accuracy: 0.2936\n",
      "Epoch 74/100\n",
      "8/8 [==============================] - 1s 96ms/step - loss: 1.3236 - teacher_forcing_accuracy: 0.4844 - val_loss: 1.7473 - val_teacher_forcing_accuracy: 0.2925\n",
      "Epoch 75/100\n",
      "8/8 [==============================] - 1s 96ms/step - loss: 1.3091 - teacher_forcing_accuracy: 0.4912 - val_loss: 1.7514 - val_teacher_forcing_accuracy: 0.2936\n",
      "Epoch 76/100\n",
      "8/8 [==============================] - 1s 88ms/step - loss: 1.3027 - teacher_forcing_accuracy: 0.4933 - val_loss: 1.7555 - val_teacher_forcing_accuracy: 0.2951\n",
      "Epoch 77/100\n",
      "8/8 [==============================] - 1s 95ms/step - loss: 1.2937 - teacher_forcing_accuracy: 0.4965 - val_loss: 1.7627 - val_teacher_forcing_accuracy: 0.2947\n",
      "Epoch 78/100\n",
      "8/8 [==============================] - 1s 94ms/step - loss: 1.2933 - teacher_forcing_accuracy: 0.4955 - val_loss: 1.7649 - val_teacher_forcing_accuracy: 0.2945\n",
      "Epoch 79/100\n",
      "8/8 [==============================] - 1s 89ms/step - loss: 1.2932 - teacher_forcing_accuracy: 0.5001 - val_loss: 1.7717 - val_teacher_forcing_accuracy: 0.2930\n",
      "Epoch 80/100\n",
      "8/8 [==============================] - 1s 96ms/step - loss: 1.2878 - teacher_forcing_accuracy: 0.4964 - val_loss: 1.7785 - val_teacher_forcing_accuracy: 0.2953\n",
      "Epoch 81/100\n",
      "8/8 [==============================] - 1s 95ms/step - loss: 1.2903 - teacher_forcing_accuracy: 0.4996 - val_loss: 1.7680 - val_teacher_forcing_accuracy: 0.2941\n",
      "Epoch 82/100\n",
      "8/8 [==============================] - 1s 83ms/step - loss: 1.2922 - teacher_forcing_accuracy: 0.4969 - val_loss: 1.7777 - val_teacher_forcing_accuracy: 0.2952\n",
      "Epoch 83/100\n",
      "8/8 [==============================] - 1s 78ms/step - loss: 1.2827 - teacher_forcing_accuracy: 0.5035 - val_loss: 1.7834 - val_teacher_forcing_accuracy: 0.2951\n",
      "Epoch 84/100\n",
      "8/8 [==============================] - 1s 90ms/step - loss: 1.2671 - teacher_forcing_accuracy: 0.5110 - val_loss: 1.7929 - val_teacher_forcing_accuracy: 0.2952\n",
      "Epoch 85/100\n",
      "8/8 [==============================] - 1s 95ms/step - loss: 1.2699 - teacher_forcing_accuracy: 0.5135 - val_loss: 1.8079 - val_teacher_forcing_accuracy: 0.2937\n",
      "Epoch 86/100\n",
      "8/8 [==============================] - 1s 89ms/step - loss: 1.2692 - teacher_forcing_accuracy: 0.5145 - val_loss: 1.7960 - val_teacher_forcing_accuracy: 0.2937\n",
      "Epoch 87/100\n",
      "8/8 [==============================] - 1s 93ms/step - loss: 1.2660 - teacher_forcing_accuracy: 0.5089 - val_loss: 1.7924 - val_teacher_forcing_accuracy: 0.2955\n",
      "Epoch 88/100\n",
      "8/8 [==============================] - 1s 96ms/step - loss: 1.2504 - teacher_forcing_accuracy: 0.5174 - val_loss: 1.7915 - val_teacher_forcing_accuracy: 0.2968\n",
      "Epoch 89/100\n",
      "8/8 [==============================] - 1s 89ms/step - loss: 1.2555 - teacher_forcing_accuracy: 0.5161 - val_loss: 1.8069 - val_teacher_forcing_accuracy: 0.2957\n",
      "Epoch 90/100\n",
      "8/8 [==============================] - 1s 95ms/step - loss: 1.2492 - teacher_forcing_accuracy: 0.5167 - val_loss: 1.8088 - val_teacher_forcing_accuracy: 0.2948\n",
      "Epoch 91/100\n",
      "8/8 [==============================] - 1s 94ms/step - loss: 1.2399 - teacher_forcing_accuracy: 0.5254 - val_loss: 1.8122 - val_teacher_forcing_accuracy: 0.2943\n",
      "Epoch 92/100\n",
      "8/8 [==============================] - 1s 89ms/step - loss: 1.2437 - teacher_forcing_accuracy: 0.5184 - val_loss: 1.8289 - val_teacher_forcing_accuracy: 0.2941\n",
      "Epoch 93/100\n",
      "8/8 [==============================] - 1s 85ms/step - loss: 1.2392 - teacher_forcing_accuracy: 0.5239 - val_loss: 1.8160 - val_teacher_forcing_accuracy: 0.2949\n",
      "Epoch 94/100\n",
      "8/8 [==============================] - 1s 93ms/step - loss: 1.2317 - teacher_forcing_accuracy: 0.5284 - val_loss: 1.8257 - val_teacher_forcing_accuracy: 0.2958\n",
      "Epoch 95/100\n",
      "8/8 [==============================] - 1s 93ms/step - loss: 1.2204 - teacher_forcing_accuracy: 0.5326 - val_loss: 1.8388 - val_teacher_forcing_accuracy: 0.2949\n",
      "Epoch 96/100\n",
      "8/8 [==============================] - 1s 95ms/step - loss: 1.2212 - teacher_forcing_accuracy: 0.5284 - val_loss: 1.8451 - val_teacher_forcing_accuracy: 0.2957\n",
      "Epoch 97/100\n",
      "8/8 [==============================] - 1s 99ms/step - loss: 1.2120 - teacher_forcing_accuracy: 0.5315 - val_loss: 1.8390 - val_teacher_forcing_accuracy: 0.2965\n",
      "Epoch 98/100\n",
      "8/8 [==============================] - 1s 93ms/step - loss: 1.2147 - teacher_forcing_accuracy: 0.5354 - val_loss: 1.8425 - val_teacher_forcing_accuracy: 0.2958\n",
      "Epoch 99/100\n",
      "8/8 [==============================] - 1s 84ms/step - loss: 1.2190 - teacher_forcing_accuracy: 0.5330 - val_loss: 1.8399 - val_teacher_forcing_accuracy: 0.2944\n",
      "Epoch 100/100\n",
      "8/8 [==============================] - 1s 91ms/step - loss: 1.2063 - teacher_forcing_accuracy: 0.5384 - val_loss: 1.8638 - val_teacher_forcing_accuracy: 0.2948\n"
     ]
    }
   ],
   "source": [
    "train_size = 1000 # len(seqs_train)\n",
    "X_train = object_seqs_train[:train_size], target_train[:train_size]\n",
    "y_train = labels_train[:train_size]\n",
    "\n",
    "X_val = object_seqs_val, target_val\n",
    "y_val = labels_val\n",
    "\n",
    "# run = wandb.init(project=wandb_project_name, group='Transformer, Task 1')\n",
    "history = argsort_model.fit(X_train, y_train, validation_data=(X_val, y_val), verbose=1, epochs=100, batch_size=128)#, callbacks=create_callbacks(), **fit_kwargs)"
   ]
  },
  {
   "cell_type": "code",
   "execution_count": 9,
   "metadata": {},
   "outputs": [
    {
     "data": {
      "image/png": "[encoded data removed]",
      "text/plain": [
       "<Figure size 640x480 with 2 Axes>"
      ]
     },
     "metadata": {},
     "output_type": "display_data"
    }
   ],
   "source": [
    "utils.plot_history(history, ('loss', 'teacher_forcing_accuracy'));"
   ]
  },
  {
   "cell_type": "code",
   "execution_count": 10,
   "metadata": {},
   "outputs": [
    {
     "name": "stdout",
     "output_type": "stream",
     "text": [
      "element-wise accuracy: 10.18%\n",
      "full sequence accuracy: 0.02%\n",
      "teacher-forcing accuracy:  29.93%\n"
     ]
    }
   ],
   "source": [
    "eval_dict = evaluate_seq2seq_model(argsort_model, object_seqs_train, target_train, labels_train, \n",
    "    start_token=start_token, print_=True)"
   ]
  },
  {
   "cell_type": "code",
   "execution_count": 11,
   "metadata": {},
   "outputs": [
    {
     "name": "stdout",
     "output_type": "stream",
     "text": [
      "element-wise accuracy: 10.16%\n",
      "full sequence accuracy: 0.00%\n",
      "teacher-forcing accuracy:  29.53%\n"
     ]
    }
   ],
   "source": [
    "eval_dict = evaluate_seq2seq_model(argsort_model, object_seqs_test, target_test, labels_test, \n",
    "    start_token=start_token, print_=True)\n",
    "# log_to_wandb(argsort_model, eval_dict)\n",
    "# wandb.finish(quiet=True)"
   ]
  },
  {
   "cell_type": "markdown",
   "metadata": {},
   "source": [
    "## Task 1: Seq2Seq Relational Abstracter"
   ]
  },
  {
   "cell_type": "code",
   "execution_count": 12,
   "metadata": {},
   "outputs": [],
   "source": [
    "task1_data = np.load('object_sorting_datasets/task1_object_sort_dataset.npy', allow_pickle=True).item()\n",
    "\n",
    "objects, seqs, sorted_seqs, object_seqs, target, labels, start_token = (task1_data['objects'], task1_data['seqs'], task1_data['sorted_seqs'], task1_data['object_seqs'], \\\n",
    "    task1_data['target'], task1_data['labels'], task1_data['start_token'])\n",
    "\n",
    "test_size = 0.2\n",
    "val_size = 0.1\n",
    "\n",
    "seqs_train, seqs_test, sorted_seqs_train, sorted_seqs_test, object_seqs_train, object_seqs_test, target_train, target_test, labels_train, labels_test = train_test_split(\n",
    "    seqs, sorted_seqs, object_seqs, target, labels, test_size=0.2, random_state=seed)\n",
    "seqs_train, seqs_val, sorted_seqs_train, sorted_seqs_val, object_seqs_train, object_seqs_val, target_train, target_val, labels_train, labels_val = train_test_split(\n",
    "    seqs_train, sorted_seqs_train, object_seqs_train, target_train, labels_train, test_size=val_size/(1-test_size), random_state=seed)\n",
    "\n",
    "seqs_length = seqs.shape[1]"
   ]
  },
  {
   "cell_type": "code",
   "execution_count": 13,
   "metadata": {},
   "outputs": [
    {
     "name": "stdout",
     "output_type": "stream",
     "text": [
      "Model: \"seq2seq_relational_abstracter\"\n",
      "_________________________________________________________________\n",
      " Layer (type)                Output Shape              Param #   \n",
      "=================================================================\n",
      " source_embedder (TimeDistri  multiple                 576       \n",
      " buted)                                                          \n",
      "                                                                 \n",
      " target_embedder (Embedding)  multiple                 704       \n",
      "                                                                 \n",
      " add_pos_embedding_input (Ad  multiple                 0         \n",
      " dPositionalEmbedding)                                           \n",
      "                                                                 \n",
      " add_pos_embedding_target (A  multiple                 0         \n",
      " ddPositionalEmbedding)                                          \n",
      "                                                                 \n",
      " encoder (Encoder)           multiple                  83584     \n",
      "                                                                 \n",
      " abstracter (RelationalAbstr  multiple                 150912    \n",
      " acter)                                                          \n",
      "                                                                 \n",
      " decoder (Decoder)           multiple                  150272    \n",
      "                                                                 \n",
      " final_layer (Dense)         multiple                  650       \n",
      "                                                                 \n",
      "=================================================================\n",
      "Total params: 386,698\n",
      "Trainable params: 386,698\n",
      "Non-trainable params: 0\n",
      "_________________________________________________________________\n"
     ]
    }
   ],
   "source": [
    "from seq2seq_abstracter_models import Seq2SeqRelationalAbstracter\n",
    "argsort_model = Seq2SeqRelationalAbstracter(\n",
    "    num_layers=2, num_heads=2, dff=64, \n",
    "    input_vocab='vector', target_vocab=seqs_length+1, output_dim=seqs_length,\n",
    "    embedding_dim=64)\n",
    "\n",
    "argsort_model.compile(loss=loss, optimizer=create_opt(), metrics=metrics)\n",
    "argsort_model((object_seqs_train[:32], target_train[:32]));\n",
    "\n",
    "argsort_model.summary()"
   ]
  },
  {
   "cell_type": "code",
   "execution_count": 14,
   "metadata": {},
   "outputs": [
    {
     "name": "stdout",
     "output_type": "stream",
     "text": [
      "Epoch 1/100\n",
      "8/8 [==============================] - 7s 270ms/step - loss: 2.5176 - teacher_forcing_accuracy: 0.0981 - val_loss: 2.3176 - val_teacher_forcing_accuracy: 0.1101\n",
      "Epoch 2/100\n",
      "8/8 [==============================] - 1s 130ms/step - loss: 2.3316 - teacher_forcing_accuracy: 0.1112 - val_loss: 2.2954 - val_teacher_forcing_accuracy: 0.1208\n",
      "Epoch 3/100\n",
      "8/8 [==============================] - 1s 130ms/step - loss: 2.3153 - teacher_forcing_accuracy: 0.1130 - val_loss: 2.2878 - val_teacher_forcing_accuracy: 0.1156\n",
      "Epoch 4/100\n",
      "8/8 [==============================] - 1s 129ms/step - loss: 2.3085 - teacher_forcing_accuracy: 0.1118 - val_loss: 2.2774 - val_teacher_forcing_accuracy: 0.1260\n",
      "Epoch 5/100\n",
      "8/8 [==============================] - 1s 130ms/step - loss: 2.2806 - teacher_forcing_accuracy: 0.1279 - val_loss: 2.2541 - val_teacher_forcing_accuracy: 0.1441\n",
      "Epoch 6/100\n",
      "8/8 [==============================] - 1s 131ms/step - loss: 2.2505 - teacher_forcing_accuracy: 0.1440 - val_loss: 2.2024 - val_teacher_forcing_accuracy: 0.1672\n",
      "Epoch 7/100\n",
      "8/8 [==============================] - 1s 132ms/step - loss: 2.2018 - teacher_forcing_accuracy: 0.1673 - val_loss: 2.1210 - val_teacher_forcing_accuracy: 0.2090\n",
      "Epoch 8/100\n",
      "8/8 [==============================] - 1s 130ms/step - loss: 2.1292 - teacher_forcing_accuracy: 0.1996 - val_loss: 2.0316 - val_teacher_forcing_accuracy: 0.2290\n",
      "Epoch 9/100\n",
      "8/8 [==============================] - 1s 130ms/step - loss: 2.0594 - teacher_forcing_accuracy: 0.2171 - val_loss: 1.9727 - val_teacher_forcing_accuracy: 0.2428\n",
      "Epoch 10/100\n",
      "8/8 [==============================] - 1s 133ms/step - loss: 2.0193 - teacher_forcing_accuracy: 0.2204 - val_loss: 1.9187 - val_teacher_forcing_accuracy: 0.2515\n",
      "Epoch 11/100\n",
      "8/8 [==============================] - 1s 131ms/step - loss: 1.9726 - teacher_forcing_accuracy: 0.2353 - val_loss: 1.8772 - val_teacher_forcing_accuracy: 0.2553\n",
      "Epoch 12/100\n",
      "8/8 [==============================] - 1s 132ms/step - loss: 1.9398 - teacher_forcing_accuracy: 0.2484 - val_loss: 1.8491 - val_teacher_forcing_accuracy: 0.2585\n",
      "Epoch 13/100\n",
      "8/8 [==============================] - 1s 132ms/step - loss: 1.9068 - teacher_forcing_accuracy: 0.2602 - val_loss: 1.8272 - val_teacher_forcing_accuracy: 0.2611\n",
      "Epoch 14/100\n",
      "8/8 [==============================] - 1s 131ms/step - loss: 1.8809 - teacher_forcing_accuracy: 0.2600 - val_loss: 1.8007 - val_teacher_forcing_accuracy: 0.2652\n",
      "Epoch 15/100\n",
      "8/8 [==============================] - 1s 130ms/step - loss: 1.8619 - teacher_forcing_accuracy: 0.2642 - val_loss: 1.7859 - val_teacher_forcing_accuracy: 0.2740\n",
      "Epoch 16/100\n",
      "8/8 [==============================] - 1s 131ms/step - loss: 1.8309 - teacher_forcing_accuracy: 0.2774 - val_loss: 1.7306 - val_teacher_forcing_accuracy: 0.2965\n",
      "Epoch 17/100\n",
      "8/8 [==============================] - 1s 131ms/step - loss: 1.7952 - teacher_forcing_accuracy: 0.2912 - val_loss: 1.6871 - val_teacher_forcing_accuracy: 0.3195\n",
      "Epoch 18/100\n",
      "8/8 [==============================] - 1s 131ms/step - loss: 1.7537 - teacher_forcing_accuracy: 0.3113 - val_loss: 1.6287 - val_teacher_forcing_accuracy: 0.3453\n",
      "Epoch 19/100\n",
      "8/8 [==============================] - 1s 132ms/step - loss: 1.7055 - teacher_forcing_accuracy: 0.3289 - val_loss: 1.5977 - val_teacher_forcing_accuracy: 0.3589\n",
      "Epoch 20/100\n",
      "8/8 [==============================] - 1s 129ms/step - loss: 1.6722 - teacher_forcing_accuracy: 0.3375 - val_loss: 1.5335 - val_teacher_forcing_accuracy: 0.3859\n",
      "Epoch 21/100\n",
      "8/8 [==============================] - 1s 132ms/step - loss: 1.6258 - teacher_forcing_accuracy: 0.3555 - val_loss: 1.4870 - val_teacher_forcing_accuracy: 0.4088\n",
      "Epoch 22/100\n",
      "8/8 [==============================] - 1s 131ms/step - loss: 1.5668 - teacher_forcing_accuracy: 0.3848 - val_loss: 1.4313 - val_teacher_forcing_accuracy: 0.4337\n",
      "Epoch 23/100\n",
      "8/8 [==============================] - 1s 130ms/step - loss: 1.5286 - teacher_forcing_accuracy: 0.3994 - val_loss: 1.3613 - val_teacher_forcing_accuracy: 0.4618\n",
      "Epoch 24/100\n",
      "8/8 [==============================] - 1s 133ms/step - loss: 1.4621 - teacher_forcing_accuracy: 0.4262 - val_loss: 1.2800 - val_teacher_forcing_accuracy: 0.4980\n",
      "Epoch 25/100\n",
      "8/8 [==============================] - 1s 130ms/step - loss: 1.3972 - teacher_forcing_accuracy: 0.4647 - val_loss: 1.1939 - val_teacher_forcing_accuracy: 0.5363\n",
      "Epoch 26/100\n",
      "8/8 [==============================] - 1s 131ms/step - loss: 1.3348 - teacher_forcing_accuracy: 0.4862 - val_loss: 1.1074 - val_teacher_forcing_accuracy: 0.5648\n",
      "Epoch 27/100\n",
      "8/8 [==============================] - 1s 116ms/step - loss: 1.2610 - teacher_forcing_accuracy: 0.5120 - val_loss: 0.9922 - val_teacher_forcing_accuracy: 0.6197\n",
      "Epoch 28/100\n",
      "8/8 [==============================] - 1s 115ms/step - loss: 1.1535 - teacher_forcing_accuracy: 0.5546 - val_loss: 0.8776 - val_teacher_forcing_accuracy: 0.6689\n",
      "Epoch 29/100\n",
      "8/8 [==============================] - 1s 118ms/step - loss: 1.0958 - teacher_forcing_accuracy: 0.5724 - val_loss: 0.8289 - val_teacher_forcing_accuracy: 0.6770\n",
      "Epoch 30/100\n",
      "8/8 [==============================] - 1s 133ms/step - loss: 1.0443 - teacher_forcing_accuracy: 0.5875 - val_loss: 0.7661 - val_teacher_forcing_accuracy: 0.7029\n",
      "Epoch 31/100\n",
      "8/8 [==============================] - 1s 130ms/step - loss: 0.9865 - teacher_forcing_accuracy: 0.6159 - val_loss: 0.7202 - val_teacher_forcing_accuracy: 0.7167\n",
      "Epoch 32/100\n",
      "8/8 [==============================] - 1s 131ms/step - loss: 0.9563 - teacher_forcing_accuracy: 0.6193 - val_loss: 0.6676 - val_teacher_forcing_accuracy: 0.7476\n",
      "Epoch 33/100\n",
      "8/8 [==============================] - 1s 132ms/step - loss: 0.9064 - teacher_forcing_accuracy: 0.6377 - val_loss: 0.6377 - val_teacher_forcing_accuracy: 0.7504\n",
      "Epoch 34/100\n",
      "8/8 [==============================] - 1s 132ms/step - loss: 0.8868 - teacher_forcing_accuracy: 0.6459 - val_loss: 0.6263 - val_teacher_forcing_accuracy: 0.7486\n",
      "Epoch 35/100\n",
      "8/8 [==============================] - 1s 131ms/step - loss: 0.8435 - teacher_forcing_accuracy: 0.6698 - val_loss: 0.5558 - val_teacher_forcing_accuracy: 0.7851\n",
      "Epoch 36/100\n",
      "8/8 [==============================] - 1s 131ms/step - loss: 0.7853 - teacher_forcing_accuracy: 0.6859 - val_loss: 0.5008 - val_teacher_forcing_accuracy: 0.8096\n",
      "Epoch 37/100\n",
      "8/8 [==============================] - 1s 122ms/step - loss: 0.7492 - teacher_forcing_accuracy: 0.7034 - val_loss: 0.4707 - val_teacher_forcing_accuracy: 0.8183\n",
      "Epoch 38/100\n",
      "8/8 [==============================] - 1s 115ms/step - loss: 0.7136 - teacher_forcing_accuracy: 0.7174 - val_loss: 0.4321 - val_teacher_forcing_accuracy: 0.8323\n",
      "Epoch 39/100\n",
      "8/8 [==============================] - 1s 116ms/step - loss: 0.6780 - teacher_forcing_accuracy: 0.7328 - val_loss: 0.3825 - val_teacher_forcing_accuracy: 0.8574\n",
      "Epoch 40/100\n",
      "8/8 [==============================] - 1s 130ms/step - loss: 0.6372 - teacher_forcing_accuracy: 0.7541 - val_loss: 0.3579 - val_teacher_forcing_accuracy: 0.8682\n",
      "Epoch 41/100\n",
      "8/8 [==============================] - 1s 133ms/step - loss: 0.6242 - teacher_forcing_accuracy: 0.7523 - val_loss: 0.3274 - val_teacher_forcing_accuracy: 0.8771\n",
      "Epoch 42/100\n",
      "8/8 [==============================] - 1s 131ms/step - loss: 0.5734 - teacher_forcing_accuracy: 0.7752 - val_loss: 0.3010 - val_teacher_forcing_accuracy: 0.8882\n",
      "Epoch 43/100\n",
      "8/8 [==============================] - 1s 131ms/step - loss: 0.5418 - teacher_forcing_accuracy: 0.7921 - val_loss: 0.2870 - val_teacher_forcing_accuracy: 0.8921\n",
      "Epoch 44/100\n",
      "8/8 [==============================] - 1s 131ms/step - loss: 0.5157 - teacher_forcing_accuracy: 0.7993 - val_loss: 0.2620 - val_teacher_forcing_accuracy: 0.9032\n",
      "Epoch 45/100\n",
      "8/8 [==============================] - 1s 131ms/step - loss: 0.4912 - teacher_forcing_accuracy: 0.8100 - val_loss: 0.2418 - val_teacher_forcing_accuracy: 0.9091\n",
      "Epoch 46/100\n",
      "8/8 [==============================] - 1s 131ms/step - loss: 0.4666 - teacher_forcing_accuracy: 0.8206 - val_loss: 0.2264 - val_teacher_forcing_accuracy: 0.9157\n",
      "Epoch 47/100\n",
      "8/8 [==============================] - 1s 131ms/step - loss: 0.4467 - teacher_forcing_accuracy: 0.8285 - val_loss: 0.1958 - val_teacher_forcing_accuracy: 0.9302\n",
      "Epoch 48/100\n",
      "8/8 [==============================] - 1s 133ms/step - loss: 0.4081 - teacher_forcing_accuracy: 0.8466 - val_loss: 0.1865 - val_teacher_forcing_accuracy: 0.9323\n",
      "Epoch 49/100\n",
      "8/8 [==============================] - 1s 132ms/step - loss: 0.4182 - teacher_forcing_accuracy: 0.8383 - val_loss: 0.1796 - val_teacher_forcing_accuracy: 0.9351\n",
      "Epoch 50/100\n",
      "8/8 [==============================] - 1s 130ms/step - loss: 0.3800 - teacher_forcing_accuracy: 0.8557 - val_loss: 0.1715 - val_teacher_forcing_accuracy: 0.9378\n",
      "Epoch 51/100\n",
      "8/8 [==============================] - 1s 131ms/step - loss: 0.3790 - teacher_forcing_accuracy: 0.8550 - val_loss: 0.1658 - val_teacher_forcing_accuracy: 0.9392\n",
      "Epoch 52/100\n",
      "8/8 [==============================] - 1s 132ms/step - loss: 0.3711 - teacher_forcing_accuracy: 0.8610 - val_loss: 0.1594 - val_teacher_forcing_accuracy: 0.9419\n",
      "Epoch 53/100\n",
      "8/8 [==============================] - 1s 131ms/step - loss: 0.3557 - teacher_forcing_accuracy: 0.8654 - val_loss: 0.1554 - val_teacher_forcing_accuracy: 0.9438\n",
      "Epoch 54/100\n",
      "8/8 [==============================] - 1s 127ms/step - loss: 0.3588 - teacher_forcing_accuracy: 0.8682 - val_loss: 0.1467 - val_teacher_forcing_accuracy: 0.9469\n",
      "Epoch 55/100\n",
      "8/8 [==============================] - 1s 132ms/step - loss: 0.3368 - teacher_forcing_accuracy: 0.8735 - val_loss: 0.1457 - val_teacher_forcing_accuracy: 0.9466\n",
      "Epoch 56/100\n",
      "8/8 [==============================] - 1s 131ms/step - loss: 0.3281 - teacher_forcing_accuracy: 0.8779 - val_loss: 0.1299 - val_teacher_forcing_accuracy: 0.9536\n",
      "Epoch 57/100\n",
      "8/8 [==============================] - 1s 132ms/step - loss: 0.3088 - teacher_forcing_accuracy: 0.8854 - val_loss: 0.1197 - val_teacher_forcing_accuracy: 0.9569\n",
      "Epoch 58/100\n",
      "8/8 [==============================] - 1s 133ms/step - loss: 0.3105 - teacher_forcing_accuracy: 0.8900 - val_loss: 0.1158 - val_teacher_forcing_accuracy: 0.9590\n",
      "Epoch 59/100\n",
      "8/8 [==============================] - 1s 133ms/step - loss: 0.2885 - teacher_forcing_accuracy: 0.8907 - val_loss: 0.1151 - val_teacher_forcing_accuracy: 0.9576\n",
      "Epoch 60/100\n",
      "8/8 [==============================] - 1s 132ms/step - loss: 0.2927 - teacher_forcing_accuracy: 0.8916 - val_loss: 0.1163 - val_teacher_forcing_accuracy: 0.9580\n",
      "Epoch 61/100\n",
      "8/8 [==============================] - 1s 131ms/step - loss: 0.2786 - teacher_forcing_accuracy: 0.9006 - val_loss: 0.1038 - val_teacher_forcing_accuracy: 0.9634\n",
      "Epoch 62/100\n",
      "8/8 [==============================] - 1s 130ms/step - loss: 0.2788 - teacher_forcing_accuracy: 0.9002 - val_loss: 0.1087 - val_teacher_forcing_accuracy: 0.9604\n",
      "Epoch 63/100\n",
      "8/8 [==============================] - 1s 131ms/step - loss: 0.2695 - teacher_forcing_accuracy: 0.9026 - val_loss: 0.0953 - val_teacher_forcing_accuracy: 0.9659\n",
      "Epoch 64/100\n",
      "8/8 [==============================] - 1s 130ms/step - loss: 0.2559 - teacher_forcing_accuracy: 0.9054 - val_loss: 0.0852 - val_teacher_forcing_accuracy: 0.9699\n",
      "Epoch 65/100\n",
      "8/8 [==============================] - 1s 132ms/step - loss: 0.2334 - teacher_forcing_accuracy: 0.9127 - val_loss: 0.0875 - val_teacher_forcing_accuracy: 0.9696\n",
      "Epoch 66/100\n",
      "8/8 [==============================] - 1s 131ms/step - loss: 0.2464 - teacher_forcing_accuracy: 0.9087 - val_loss: 0.0783 - val_teacher_forcing_accuracy: 0.9734\n",
      "Epoch 67/100\n",
      "8/8 [==============================] - 1s 132ms/step - loss: 0.2305 - teacher_forcing_accuracy: 0.9154 - val_loss: 0.0767 - val_teacher_forcing_accuracy: 0.9735\n",
      "Epoch 68/100\n",
      "8/8 [==============================] - 1s 132ms/step - loss: 0.2137 - teacher_forcing_accuracy: 0.9238 - val_loss: 0.0748 - val_teacher_forcing_accuracy: 0.9740\n",
      "Epoch 69/100\n",
      "8/8 [==============================] - 1s 131ms/step - loss: 0.2062 - teacher_forcing_accuracy: 0.9269 - val_loss: 0.0611 - val_teacher_forcing_accuracy: 0.9796\n",
      "Epoch 70/100\n",
      "8/8 [==============================] - 1s 132ms/step - loss: 0.2017 - teacher_forcing_accuracy: 0.9303 - val_loss: 0.0500 - val_teacher_forcing_accuracy: 0.9842\n",
      "Epoch 71/100\n",
      "8/8 [==============================] - 1s 133ms/step - loss: 0.2093 - teacher_forcing_accuracy: 0.9275 - val_loss: 0.0575 - val_teacher_forcing_accuracy: 0.9808\n",
      "Epoch 72/100\n",
      "8/8 [==============================] - 1s 132ms/step - loss: 0.1909 - teacher_forcing_accuracy: 0.9300 - val_loss: 0.0540 - val_teacher_forcing_accuracy: 0.9817\n",
      "Epoch 73/100\n",
      "8/8 [==============================] - 1s 130ms/step - loss: 0.1941 - teacher_forcing_accuracy: 0.9296 - val_loss: 0.0441 - val_teacher_forcing_accuracy: 0.9860\n",
      "Epoch 74/100\n",
      "8/8 [==============================] - 1s 133ms/step - loss: 0.1814 - teacher_forcing_accuracy: 0.9349 - val_loss: 0.0399 - val_teacher_forcing_accuracy: 0.9877\n",
      "Epoch 75/100\n",
      "8/8 [==============================] - 1s 132ms/step - loss: 0.1730 - teacher_forcing_accuracy: 0.9392 - val_loss: 0.0425 - val_teacher_forcing_accuracy: 0.9865\n",
      "Epoch 76/100\n",
      "8/8 [==============================] - 1s 131ms/step - loss: 0.1628 - teacher_forcing_accuracy: 0.9423 - val_loss: 0.0365 - val_teacher_forcing_accuracy: 0.9882\n",
      "Epoch 77/100\n",
      "8/8 [==============================] - 1s 131ms/step - loss: 0.1528 - teacher_forcing_accuracy: 0.9463 - val_loss: 0.0357 - val_teacher_forcing_accuracy: 0.9886\n",
      "Epoch 78/100\n",
      "8/8 [==============================] - 1s 133ms/step - loss: 0.1468 - teacher_forcing_accuracy: 0.9492 - val_loss: 0.0310 - val_teacher_forcing_accuracy: 0.9907\n",
      "Epoch 79/100\n",
      "8/8 [==============================] - 1s 130ms/step - loss: 0.1594 - teacher_forcing_accuracy: 0.9460 - val_loss: 0.0314 - val_teacher_forcing_accuracy: 0.9900\n",
      "Epoch 80/100\n",
      "8/8 [==============================] - 1s 132ms/step - loss: 0.1416 - teacher_forcing_accuracy: 0.9519 - val_loss: 0.0284 - val_teacher_forcing_accuracy: 0.9911\n",
      "Epoch 81/100\n",
      "8/8 [==============================] - 1s 131ms/step - loss: 0.1433 - teacher_forcing_accuracy: 0.9524 - val_loss: 0.0293 - val_teacher_forcing_accuracy: 0.9908\n",
      "Epoch 82/100\n",
      "8/8 [==============================] - 1s 131ms/step - loss: 0.1411 - teacher_forcing_accuracy: 0.9510 - val_loss: 0.0245 - val_teacher_forcing_accuracy: 0.9929\n",
      "Epoch 83/100\n",
      "8/8 [==============================] - 1s 131ms/step - loss: 0.1276 - teacher_forcing_accuracy: 0.9557 - val_loss: 0.0245 - val_teacher_forcing_accuracy: 0.9922\n",
      "Epoch 84/100\n",
      "8/8 [==============================] - 1s 129ms/step - loss: 0.1264 - teacher_forcing_accuracy: 0.9583 - val_loss: 0.0212 - val_teacher_forcing_accuracy: 0.9933\n",
      "Epoch 85/100\n",
      "8/8 [==============================] - 1s 130ms/step - loss: 0.1219 - teacher_forcing_accuracy: 0.9577 - val_loss: 0.0194 - val_teacher_forcing_accuracy: 0.9948\n",
      "Epoch 86/100\n",
      "8/8 [==============================] - 1s 129ms/step - loss: 0.1133 - teacher_forcing_accuracy: 0.9613 - val_loss: 0.0167 - val_teacher_forcing_accuracy: 0.9953\n",
      "Epoch 87/100\n",
      "8/8 [==============================] - 1s 133ms/step - loss: 0.1101 - teacher_forcing_accuracy: 0.9608 - val_loss: 0.0181 - val_teacher_forcing_accuracy: 0.9945\n",
      "Epoch 88/100\n",
      "8/8 [==============================] - 1s 134ms/step - loss: 0.1165 - teacher_forcing_accuracy: 0.9605 - val_loss: 0.0146 - val_teacher_forcing_accuracy: 0.9958\n",
      "Epoch 89/100\n",
      "8/8 [==============================] - 1s 134ms/step - loss: 0.1197 - teacher_forcing_accuracy: 0.9593 - val_loss: 0.0175 - val_teacher_forcing_accuracy: 0.9944\n",
      "Epoch 90/100\n",
      "8/8 [==============================] - 1s 133ms/step - loss: 0.1117 - teacher_forcing_accuracy: 0.9612 - val_loss: 0.0178 - val_teacher_forcing_accuracy: 0.9944\n",
      "Epoch 91/100\n",
      "8/8 [==============================] - 1s 131ms/step - loss: 0.1025 - teacher_forcing_accuracy: 0.9661 - val_loss: 0.0152 - val_teacher_forcing_accuracy: 0.9952\n",
      "Epoch 92/100\n",
      "8/8 [==============================] - 1s 132ms/step - loss: 0.1083 - teacher_forcing_accuracy: 0.9634 - val_loss: 0.0166 - val_teacher_forcing_accuracy: 0.9946\n",
      "Epoch 93/100\n",
      "8/8 [==============================] - 1s 131ms/step - loss: 0.1028 - teacher_forcing_accuracy: 0.9669 - val_loss: 0.0123 - val_teacher_forcing_accuracy: 0.9964\n",
      "Epoch 94/100\n",
      "8/8 [==============================] - 1s 132ms/step - loss: 0.1023 - teacher_forcing_accuracy: 0.9674 - val_loss: 0.0113 - val_teacher_forcing_accuracy: 0.9969\n",
      "Epoch 95/100\n",
      "8/8 [==============================] - 1s 132ms/step - loss: 0.0952 - teacher_forcing_accuracy: 0.9684 - val_loss: 0.0112 - val_teacher_forcing_accuracy: 0.9968\n",
      "Epoch 96/100\n",
      "8/8 [==============================] - 1s 131ms/step - loss: 0.0896 - teacher_forcing_accuracy: 0.9706 - val_loss: 0.0108 - val_teacher_forcing_accuracy: 0.9968\n",
      "Epoch 97/100\n",
      "8/8 [==============================] - 1s 133ms/step - loss: 0.0827 - teacher_forcing_accuracy: 0.9722 - val_loss: 0.0090 - val_teacher_forcing_accuracy: 0.9978\n",
      "Epoch 98/100\n",
      "8/8 [==============================] - 1s 129ms/step - loss: 0.0877 - teacher_forcing_accuracy: 0.9700 - val_loss: 0.0099 - val_teacher_forcing_accuracy: 0.9971\n",
      "Epoch 99/100\n",
      "8/8 [==============================] - 1s 131ms/step - loss: 0.0864 - teacher_forcing_accuracy: 0.9718 - val_loss: 0.0105 - val_teacher_forcing_accuracy: 0.9969\n",
      "Epoch 100/100\n",
      "8/8 [==============================] - 1s 131ms/step - loss: 0.0917 - teacher_forcing_accuracy: 0.9699 - val_loss: 0.0085 - val_teacher_forcing_accuracy: 0.9977\n"
     ]
    }
   ],
   "source": [
    "train_size = 1000 # len(seqs_train)\n",
    "X_train = object_seqs_train[:train_size], target_train[:train_size]\n",
    "y_train = labels_train[:train_size]\n",
    "\n",
    "X_val = object_seqs_val, target_val\n",
    "y_val = labels_val\n",
    "\n",
    "# run = wandb.init(project=wandb_project_name, group='Transformer, Task 1')\n",
    "history = argsort_model.fit(X_train, y_train, validation_data=(X_val, y_val), verbose=1, epochs=100, batch_size=128)#, callbacks=create_callbacks(), **fit_kwargs)"
   ]
  },
  {
   "cell_type": "code",
   "execution_count": 15,
   "metadata": {},
   "outputs": [
    {
     "data": {
      "image/png": "[encoded data removed]",
      "text/plain": [
       "<Figure size 640x480 with 2 Axes>"
      ]
     },
     "metadata": {},
     "output_type": "display_data"
    }
   ],
   "source": [
    "utils.plot_history(history, ('loss', 'teacher_forcing_accuracy'));"
   ]
  },
  {
   "cell_type": "code",
   "execution_count": 16,
   "metadata": {},
   "outputs": [
    {
     "name": "stdout",
     "output_type": "stream",
     "text": [
      "element-wise accuracy: 99.44%\n",
      "full sequence accuracy: 97.90%\n",
      "teacher-forcing accuracy:  99.78%\n"
     ]
    }
   ],
   "source": [
    "eval_dict = evaluate_seq2seq_model(argsort_model, object_seqs_train, target_train, labels_train, \n",
    "    start_token=start_token, print_=True)"
   ]
  },
  {
   "cell_type": "code",
   "execution_count": 17,
   "metadata": {},
   "outputs": [
    {
     "name": "stdout",
     "output_type": "stream",
     "text": [
      "element-wise accuracy: 99.45%\n",
      "full sequence accuracy: 97.90%\n",
      "teacher-forcing accuracy:  99.79%\n"
     ]
    }
   ],
   "source": [
    "eval_dict = evaluate_seq2seq_model(argsort_model, object_seqs_test, target_test, labels_test, \n",
    "    start_token=start_token, print_=True)\n",
    "# log_to_wandb(argsort_model, eval_dict)\n",
    "# wandb.finish(quiet=True)"
   ]
  }
 ],
 "metadata": {
  "kernelspec": {
   "display_name": "Python 3.8.16 ('relml')",
   "language": "python",
   "name": "python3"
  },
  "language_info": {
   "codemirror_mode": {
    "name": "ipython",
    "version": 3
   },
   "file_extension": ".py",
   "mimetype": "text/x-python",
   "name": "python",
   "nbconvert_exporter": "python",
   "pygments_lexer": "ipython3",
   "version": "3.8.16"
  },
  "orig_nbformat": 4,
  "vscode": {
   "interpreter": {
    "hash": "feb2622714ee4f3cfc5c273fa3fe6cf9410db521c7e03d7e619a7b4bef5cf3da"
   }
  }
 },
 "nbformat": 4,
 "nbformat_minor": 2
}
