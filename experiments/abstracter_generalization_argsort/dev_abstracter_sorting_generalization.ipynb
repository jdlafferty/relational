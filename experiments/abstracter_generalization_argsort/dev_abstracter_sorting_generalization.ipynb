{
 "cells": [
  {
   "cell_type": "code",
   "execution_count": 1,
   "metadata": {},
   "outputs": [
    {
     "name": "stderr",
     "output_type": "stream",
     "text": [
      "2023-03-08 14:07:37.265072: I tensorflow/core/platform/cpu_feature_guard.cc:193] This TensorFlow binary is optimized with oneAPI Deep Neural Network Library (oneDNN) to use the following CPU instructions in performance-critical operations:  AVX2 FMA\n",
      "To enable them in other operations, rebuild TensorFlow with the appropriate compiler flags.\n",
      "2023-03-08 14:07:37.549958: E tensorflow/stream_executor/cuda/cuda_blas.cc:2981] Unable to register cuBLAS factory: Attempting to register factory for plugin cuBLAS when one has already been registered\n",
      "2023-03-08 14:07:38.527941: W tensorflow/stream_executor/platform/default/dso_loader.cc:64] Could not load dynamic library 'libnvinfer.so.7'; dlerror: libnvinfer.so.7: cannot open shared object file: No such file or directory; LD_LIBRARY_PATH: /gpfs/loomis/apps/avx/software/cuDNN/8.1.1.33-CUDA-11.2.2/lib:/gpfs/loomis/apps/avx/software/CUDAcore/11.2.2/nvvm/lib64:/gpfs/loomis/apps/avx/software/CUDAcore/11.2.2/extras/CUPTI/lib64:/gpfs/loomis/apps/avx/software/CUDAcore/11.2.2/lib:/vast/palmer/apps/avx.grace/software/Code-Server/4.7.0/lib:/gpfs/loomis/apps/avx/software/Perl/5.32.0-GCCcore-10.2.0/lib:/gpfs/loomis/apps/avx/software/DB/18.1.40-GCCcore-10.2.0/lib:/gpfs/loomis/apps/avx/software/libreadline/8.0-GCCcore-10.2.0/lib:/gpfs/loomis/apps/avx/software/gettext/0.21-GCCcore-10.2.0/lib:/gpfs/loomis/apps/avx/software/ncurses/6.2-GCCcore-10.2.0/lib:/gpfs/loomis/apps/avx/software/libxml2/2.9.10-GCCcore-10.2.0/lib:/gpfs/loomis/apps/avx/software/XZ/5.2.5-GCCcore-10.2.0/lib:/gpfs/loomis/apps/avx/software/expat/2.2.9-GCCcore-10.2.0/lib:/gpfs/loomis/apps/avx/software/cURL/7.72.0-GCCcore-10.2.0/lib:/gpfs/loomis/apps/avx/software/zlib/1.2.11-GCCcore-10.2.0/lib:/gpfs/loomis/apps/avx/software/GCCcore/10.2.0/lib64:/gpfs/loomis/apps/avx/software/GCCcore/10.2.0/lib\n",
      "2023-03-08 14:07:38.528139: W tensorflow/stream_executor/platform/default/dso_loader.cc:64] Could not load dynamic library 'libnvinfer_plugin.so.7'; dlerror: libnvinfer_plugin.so.7: cannot open shared object file: No such file or directory; LD_LIBRARY_PATH: /gpfs/loomis/apps/avx/software/cuDNN/8.1.1.33-CUDA-11.2.2/lib:/gpfs/loomis/apps/avx/software/CUDAcore/11.2.2/nvvm/lib64:/gpfs/loomis/apps/avx/software/CUDAcore/11.2.2/extras/CUPTI/lib64:/gpfs/loomis/apps/avx/software/CUDAcore/11.2.2/lib:/vast/palmer/apps/avx.grace/software/Code-Server/4.7.0/lib:/gpfs/loomis/apps/avx/software/Perl/5.32.0-GCCcore-10.2.0/lib:/gpfs/loomis/apps/avx/software/DB/18.1.40-GCCcore-10.2.0/lib:/gpfs/loomis/apps/avx/software/libreadline/8.0-GCCcore-10.2.0/lib:/gpfs/loomis/apps/avx/software/gettext/0.21-GCCcore-10.2.0/lib:/gpfs/loomis/apps/avx/software/ncurses/6.2-GCCcore-10.2.0/lib:/gpfs/loomis/apps/avx/software/libxml2/2.9.10-GCCcore-10.2.0/lib:/gpfs/loomis/apps/avx/software/XZ/5.2.5-GCCcore-10.2.0/lib:/gpfs/loomis/apps/avx/software/expat/2.2.9-GCCcore-10.2.0/lib:/gpfs/loomis/apps/avx/software/cURL/7.72.0-GCCcore-10.2.0/lib:/gpfs/loomis/apps/avx/software/zlib/1.2.11-GCCcore-10.2.0/lib:/gpfs/loomis/apps/avx/software/GCCcore/10.2.0/lib64:/gpfs/loomis/apps/avx/software/GCCcore/10.2.0/lib\n",
      "2023-03-08 14:07:38.528154: W tensorflow/compiler/tf2tensorrt/utils/py_utils.cc:38] TF-TRT Warning: Cannot dlopen some TensorRT libraries. If you would like to use Nvidia GPU with TensorRT, please make sure the missing libraries mentioned above are installed properly.\n"
     ]
    }
   ],
   "source": [
    "import numpy as np\n",
    "import matplotlib.pyplot as plt\n",
    "from tqdm import tqdm, trange\n",
    "import argparse\n",
    "\n",
    "import tensorflow as tf\n",
    "from tensorflow.keras import layers, Model\n",
    "\n",
    "import sklearn.metrics\n",
    "from sklearn.model_selection import train_test_split\n",
    "\n",
    "%load_ext autoreload\n",
    "%autoreload 2\n",
    "import sys; sys.path.append('../'); sys.path.append('../..')\n",
    "import utils\n",
    "from seq2seq_transformer import Encoder, AddPositionalEmbedding\n",
    "from abstracters import SymbolicAbstracter, RelationalAbstracter\n",
    "from contextual_decoder import ContextualCrossAttention\n",
    "\n",
    "\n",
    "seed = 314159"
   ]
  },
  {
   "cell_type": "code",
   "execution_count": 2,
   "metadata": {},
   "outputs": [
    {
     "name": "stderr",
     "output_type": "stream",
     "text": [
      "2023-03-08 14:07:44.218394: W tensorflow/stream_executor/platform/default/dso_loader.cc:64] Could not load dynamic library 'libcuda.so.1'; dlerror: libcuda.so.1: cannot open shared object file: No such file or directory; LD_LIBRARY_PATH: /gpfs/loomis/apps/avx/software/cuDNN/8.1.1.33-CUDA-11.2.2/lib:/gpfs/loomis/apps/avx/software/CUDAcore/11.2.2/nvvm/lib64:/gpfs/loomis/apps/avx/software/CUDAcore/11.2.2/extras/CUPTI/lib64:/gpfs/loomis/apps/avx/software/CUDAcore/11.2.2/lib:/vast/palmer/apps/avx.grace/software/Code-Server/4.7.0/lib:/gpfs/loomis/apps/avx/software/Perl/5.32.0-GCCcore-10.2.0/lib:/gpfs/loomis/apps/avx/software/DB/18.1.40-GCCcore-10.2.0/lib:/gpfs/loomis/apps/avx/software/libreadline/8.0-GCCcore-10.2.0/lib:/gpfs/loomis/apps/avx/software/gettext/0.21-GCCcore-10.2.0/lib:/gpfs/loomis/apps/avx/software/ncurses/6.2-GCCcore-10.2.0/lib:/gpfs/loomis/apps/avx/software/libxml2/2.9.10-GCCcore-10.2.0/lib:/gpfs/loomis/apps/avx/software/XZ/5.2.5-GCCcore-10.2.0/lib:/gpfs/loomis/apps/avx/software/expat/2.2.9-GCCcore-10.2.0/lib:/gpfs/loomis/apps/avx/software/cURL/7.72.0-GCCcore-10.2.0/lib:/gpfs/loomis/apps/avx/software/zlib/1.2.11-GCCcore-10.2.0/lib:/gpfs/loomis/apps/avx/software/GCCcore/10.2.0/lib64:/gpfs/loomis/apps/avx/software/GCCcore/10.2.0/lib\n",
      "2023-03-08 14:07:44.218463: W tensorflow/stream_executor/cuda/cuda_driver.cc:263] failed call to cuInit: UNKNOWN ERROR (303)\n",
      "2023-03-08 14:07:44.218496: I tensorflow/stream_executor/cuda/cuda_diagnostics.cc:156] kernel driver does not appear to be running on this host (c14n02.grace.hpc.yale.internal): /proc/driver/nvidia/version does not exist\n"
     ]
    },
    {
     "data": {
      "text/plain": [
       "[PhysicalDevice(name='/physical_device:CPU:0', device_type='CPU')]"
      ]
     },
     "execution_count": 2,
     "metadata": {},
     "output_type": "execute_result"
    }
   ],
   "source": [
    "tf.config.list_physical_devices()"
   ]
  },
  {
   "cell_type": "code",
   "execution_count": 3,
   "metadata": {},
   "outputs": [
    {
     "name": "stderr",
     "output_type": "stream",
     "text": [
      "Failed to detect the name of this notebook, you can set it manually with the WANDB_NOTEBOOK_NAME environment variable to enable code saving.\n",
      "\u001b[34m\u001b[1mwandb\u001b[0m: Currently logged in as: \u001b[33mawni00\u001b[0m. Use \u001b[1m`wandb login --relogin`\u001b[0m to force relogin\n"
     ]
    }
   ],
   "source": [
    "import wandb\n",
    "wandb.login()\n",
    "\n",
    "import logging\n",
    "logger = logging.getLogger(\"wandb\")\n",
    "logger.setLevel(logging.ERROR)\n",
    "\n",
    "wandb_project_name = 'dev_abstracter_sorting_generalization'"
   ]
  },
  {
   "cell_type": "code",
   "execution_count": 4,
   "metadata": {},
   "outputs": [
    {
     "name": "stderr",
     "output_type": "stream",
     "text": [
      "2023-03-08 14:07:59.299875: I tensorflow/core/platform/cpu_feature_guard.cc:193] This TensorFlow binary is optimized with oneAPI Deep Neural Network Library (oneDNN) to use the following CPU instructions in performance-critical operations:  AVX2 FMA\n",
      "To enable them in other operations, rebuild TensorFlow with the appropriate compiler flags.\n"
     ]
    }
   ],
   "source": [
    "def create_callbacks(monitor='loss'):\n",
    "    callbacks = [\n",
    "        tf.keras.callbacks.EarlyStopping(monitor='val_loss', patience=10, mode='auto', restore_best_weights=True),\n",
    "#         tf.keras.callbacks.ReduceLROnPlateau( monitor='val_loss', factor=0.1, patience=5, verbose=1, mode='auto'),\n",
    "        wandb.keras.WandbMetricsLogger(log_freq='epoch'),\n",
    "        # wandb.keras.WandbModelCheckpoint(filepath='models/model_{epoch:02d}', monitor=monitor, mode='auto', save_freq='epoch')\n",
    "#         wandb.keras.WandbCallback(\n",
    "#             monitor=monitor, log_weights=log_weights, log_gradients=log_gradients, save_model=save_model, save_graph=True,\n",
    "#             training_data=train_ds, validation_data=val_ds,\n",
    "#             labels=class_names, predictions=64, compute_flops=True)\n",
    "        ]\n",
    "    return callbacks\n",
    "\n",
    "from seq2seq_transformer import TeacherForcingAccuracy\n",
    "teacher_forcing_acc_metric = TeacherForcingAccuracy(ignore_class=None)\n",
    "metrics = [teacher_forcing_acc_metric]\n",
    "\n",
    "\n",
    "loss = tf.keras.losses.SparseCategoricalCrossentropy(from_logits=True, ignore_class=None, name='sparse_categorical_crossentropy')\n",
    "create_opt = lambda : tf.keras.optimizers.Adam()\n",
    "\n",
    "fit_kwargs = {'epochs': 200, 'batch_size': 128}\n"
   ]
  },
  {
   "cell_type": "markdown",
   "metadata": {},
   "source": [
    "## Dataset and Utils"
   ]
  },
  {
   "cell_type": "code",
   "execution_count": 5,
   "metadata": {},
   "outputs": [],
   "source": [
    "# region evaluation code\n",
    "def evaluate_seq2seq_model(model, source_test, target_test, labels_test, start_token, print_=False):\n",
    "    \n",
    "    n = len(source_test)\n",
    "    output = np.zeros(shape=(n, (seqs_length+1)), dtype=int)\n",
    "    output[:,0] = start_token\n",
    "    for i in range(seqs_length):\n",
    "        predictions = model((source_test, output[:, :-1]), training=False)\n",
    "        predictions = predictions[:, i, :]\n",
    "        predicted_id = tf.argmax(predictions, axis=-1)\n",
    "        output[:,i+1] = predicted_id\n",
    "\n",
    "    elementwise_acc = (np.mean(output[:,1:] == labels_test))\n",
    "    acc_per_position = [np.mean(output[:, i+1] == labels_test[:, i]) for i in range(seqs_length)]\n",
    "    seq_acc = np.mean(np.all(output[:,1:]==labels_test, axis=1))\n",
    "\n",
    "\n",
    "    teacher_forcing_acc = teacher_forcing_acc_metric(labels_test, model([source_test, target_test]))\n",
    "    teacher_forcing_acc_metric.reset_state()\n",
    "\n",
    "    if print_:\n",
    "        print('element-wise accuracy: %.2f%%' % (100*elementwise_acc))\n",
    "        print('full sequence accuracy: %.2f%%' % (100*seq_acc))\n",
    "        print('teacher-forcing accuracy:  %.2f%%' % (100*teacher_forcing_acc))\n",
    "\n",
    "\n",
    "    return_dict = {\n",
    "        'elementwise_accuracy': elementwise_acc, 'full_sequence_accuracy': seq_acc,\n",
    "        'teacher_forcing_accuracy': teacher_forcing_acc, 'acc_by_position': acc_per_position\n",
    "        }\n",
    "\n",
    "    return return_dict\n",
    "\n",
    "def log_to_wandb(model, evaluation_dict):\n",
    "    acc_by_position_table = wandb.Table(\n",
    "        data=[(i, acc) for i, acc in enumerate(evaluation_dict['acc_by_position'])], \n",
    "        columns=[\"position\", \"element-wise accuracy at position\"])\n",
    "\n",
    "    evaluation_dict['acc_by_position'] = wandb.plot.line(\n",
    "        acc_by_position_table, \"position\", \"element-wise accuracy at position\",\n",
    "        title=\"Element-wise Accuracy By Position\")\n",
    "\n",
    "    wandb.log(evaluation_dict)"
   ]
  },
  {
   "cell_type": "markdown",
   "metadata": {},
   "source": [
    "## Task 1: Transformer"
   ]
  },
  {
   "cell_type": "code",
   "execution_count": 8,
   "metadata": {},
   "outputs": [],
   "source": [
    "task1_data = np.load('object_sorting_datasets/task1_object_sort_dataset.npy', allow_pickle=True).item()\n",
    "\n",
    "objects, seqs, sorted_seqs, object_seqs, target, labels, start_token = (task1_data['objects'], task1_data['seqs'], task1_data['sorted_seqs'], task1_data['object_seqs'], \\\n",
    "    task1_data['target'], task1_data['labels'], task1_data['start_token'])\n",
    "\n",
    "test_size = 0.2\n",
    "val_size = 0.1\n",
    "\n",
    "seqs_train, seqs_test, sorted_seqs_train, sorted_seqs_test, object_seqs_train, object_seqs_test, target_train, target_test, labels_train, labels_test = train_test_split(\n",
    "    seqs, sorted_seqs, object_seqs, target, labels, test_size=0.2, random_state=seed)\n",
    "seqs_train, seqs_val, sorted_seqs_train, sorted_seqs_val, object_seqs_train, object_seqs_val, target_train, target_val, labels_train, labels_val = train_test_split(\n",
    "    seqs_train, sorted_seqs_train, object_seqs_train, target_train, labels_train, test_size=val_size/(1-test_size), random_state=seed)\n",
    "\n",
    "seqs_length = seqs.shape[1]"
   ]
  },
  {
   "cell_type": "code",
   "execution_count": 9,
   "metadata": {},
   "outputs": [
    {
     "name": "stderr",
     "output_type": "stream",
     "text": [
      "2023-02-26 21:38:39.021916: I tensorflow/stream_executor/cuda/cuda_dnn.cc:384] Loaded cuDNN version 8101\n"
     ]
    },
    {
     "name": "stdout",
     "output_type": "stream",
     "text": [
      "Model: \"transformer\"\n",
      "_________________________________________________________________\n",
      " Layer (type)                Output Shape              Param #   \n",
      "=================================================================\n",
      " source_embedder (TimeDistri  multiple                 576       \n",
      " buted)                                                          \n",
      "                                                                 \n",
      " target_embedder (Embedding)  multiple                 704       \n",
      "                                                                 \n",
      " add_pos_embedding_input (Ad  multiple                 0         \n",
      " dPositionalEmbedding)                                           \n",
      "                                                                 \n",
      " add_pos_embedding_target (A  multiple                 0         \n",
      " ddPositionalEmbedding)                                          \n",
      "                                                                 \n",
      " encoder (Encoder)           multiple                  83584     \n",
      "                                                                 \n",
      " decoder (ContextDecoder)    multiple                  150272    \n",
      "                                                                 \n",
      " final_layer (Dense)         multiple                  650       \n",
      "                                                                 \n",
      "=================================================================\n",
      "Total params: 235,786\n",
      "Trainable params: 235,786\n",
      "Non-trainable params: 0\n",
      "_________________________________________________________________\n"
     ]
    }
   ],
   "source": [
    "from seq2seq_abstracter_models import Transformer\n",
    "\n",
    "argsort_model = Transformer(\n",
    "    num_layers=2, num_heads=2, dff=64, \n",
    "    input_vocab='vector', target_vocab=seqs_length+1, output_dim=seqs_length,\n",
    "    embedding_dim=64)\n",
    "\n",
    "argsort_model.compile(loss=loss, optimizer=create_opt(), metrics=metrics)\n",
    "argsort_model((object_seqs_train[:32], target_train[:32]));\n",
    "\n",
    "argsort_model.summary()"
   ]
  },
  {
   "cell_type": "code",
   "execution_count": 33,
   "metadata": {},
   "outputs": [
    {
     "data": {
      "text/html": [
       "wandb version 0.13.10 is available!  To upgrade, please run:\n",
       " $ pip install wandb --upgrade"
      ],
      "text/plain": [
       "<IPython.core.display.HTML object>"
      ]
     },
     "metadata": {},
     "output_type": "display_data"
    },
    {
     "data": {
      "text/html": [
       "Tracking run with wandb version 0.13.9"
      ],
      "text/plain": [
       "<IPython.core.display.HTML object>"
      ]
     },
     "metadata": {},
     "output_type": "display_data"
    },
    {
     "data": {
      "text/html": [
       "Run data is saved locally in <code>/vast/palmer/home.grace/ma2393/Documents/relational/experiments/abstracter_generalization_arg_sort/wandb/run-20230226_210353-az3hddih</code>"
      ],
      "text/plain": [
       "<IPython.core.display.HTML object>"
      ]
     },
     "metadata": {},
     "output_type": "display_data"
    },
    {
     "data": {
      "text/html": [
       "Syncing run <strong><a href=\"https://wandb.ai/awni00/dev_abstracter_sorting_generalization/runs/az3hddih\" target=\"_blank\">pleasant-blaze-1</a></strong> to <a href=\"https://wandb.ai/awni00/dev_abstracter_sorting_generalization\" target=\"_blank\">Weights & Biases</a> (<a href=\"https://wandb.me/run\" target=\"_blank\">docs</a>)<br/>"
      ],
      "text/plain": [
       "<IPython.core.display.HTML object>"
      ]
     },
     "metadata": {},
     "output_type": "display_data"
    },
    {
     "data": {
      "text/html": [
       " View project at <a href=\"https://wandb.ai/awni00/dev_abstracter_sorting_generalization\" target=\"_blank\">https://wandb.ai/awni00/dev_abstracter_sorting_generalization</a>"
      ],
      "text/plain": [
       "<IPython.core.display.HTML object>"
      ]
     },
     "metadata": {},
     "output_type": "display_data"
    },
    {
     "data": {
      "text/html": [
       " View run at <a href=\"https://wandb.ai/awni00/dev_abstracter_sorting_generalization/runs/az3hddih\" target=\"_blank\">https://wandb.ai/awni00/dev_abstracter_sorting_generalization/runs/az3hddih</a>"
      ],
      "text/plain": [
       "<IPython.core.display.HTML object>"
      ]
     },
     "metadata": {},
     "output_type": "display_data"
    },
    {
     "name": "stdout",
     "output_type": "stream",
     "text": [
      "Epoch 1/200\n",
      "40/40 [==============================] - 8s 63ms/step - loss: 2.3609 - teacher_forcing_accuracy: 0.1069 - val_loss: 2.2709 - val_teacher_forcing_accuracy: 0.1273\n",
      "Epoch 2/200\n",
      "40/40 [==============================] - 2s 39ms/step - loss: 2.2101 - teacher_forcing_accuracy: 0.1545 - val_loss: 2.0030 - val_teacher_forcing_accuracy: 0.2364\n",
      "Epoch 3/200\n",
      "40/40 [==============================] - 1s 37ms/step - loss: 1.9475 - teacher_forcing_accuracy: 0.2358 - val_loss: 1.7396 - val_teacher_forcing_accuracy: 0.2806\n",
      "Epoch 4/200\n",
      "40/40 [==============================] - 1s 37ms/step - loss: 1.7739 - teacher_forcing_accuracy: 0.2745 - val_loss: 1.6451 - val_teacher_forcing_accuracy: 0.2900\n",
      "Epoch 5/200\n",
      "40/40 [==============================] - 1s 37ms/step - loss: 1.6969 - teacher_forcing_accuracy: 0.2840 - val_loss: 1.5867 - val_teacher_forcing_accuracy: 0.2932\n",
      "Epoch 6/200\n",
      "40/40 [==============================] - 1s 37ms/step - loss: 1.6401 - teacher_forcing_accuracy: 0.2937 - val_loss: 1.5582 - val_teacher_forcing_accuracy: 0.2919\n",
      "Epoch 7/200\n",
      "40/40 [==============================] - 1s 37ms/step - loss: 1.6201 - teacher_forcing_accuracy: 0.2965 - val_loss: 1.5596 - val_teacher_forcing_accuracy: 0.2937\n",
      "Epoch 8/200\n",
      "40/40 [==============================] - 1s 38ms/step - loss: 1.6079 - teacher_forcing_accuracy: 0.2937 - val_loss: 1.5614 - val_teacher_forcing_accuracy: 0.2926\n",
      "Epoch 9/200\n",
      "40/40 [==============================] - 1s 38ms/step - loss: 1.6025 - teacher_forcing_accuracy: 0.2979 - val_loss: 1.5439 - val_teacher_forcing_accuracy: 0.2936\n",
      "Epoch 10/200\n",
      "40/40 [==============================] - 1s 36ms/step - loss: 1.5878 - teacher_forcing_accuracy: 0.3018 - val_loss: 1.5445 - val_teacher_forcing_accuracy: 0.2922\n",
      "Epoch 11/200\n",
      "40/40 [==============================] - 2s 38ms/step - loss: 1.5835 - teacher_forcing_accuracy: 0.3053 - val_loss: 1.5431 - val_teacher_forcing_accuracy: 0.2913\n",
      "Epoch 12/200\n",
      "40/40 [==============================] - 1s 35ms/step - loss: 1.5799 - teacher_forcing_accuracy: 0.3005 - val_loss: 1.5461 - val_teacher_forcing_accuracy: 0.2932\n",
      "Epoch 13/200\n",
      "40/40 [==============================] - 1s 36ms/step - loss: 1.5750 - teacher_forcing_accuracy: 0.3036 - val_loss: 1.5458 - val_teacher_forcing_accuracy: 0.2928\n",
      "Epoch 14/200\n",
      "40/40 [==============================] - 1s 37ms/step - loss: 1.5718 - teacher_forcing_accuracy: 0.3028 - val_loss: 1.5437 - val_teacher_forcing_accuracy: 0.2938\n",
      "Epoch 15/200\n",
      "40/40 [==============================] - 1s 38ms/step - loss: 1.5669 - teacher_forcing_accuracy: 0.3078 - val_loss: 1.5358 - val_teacher_forcing_accuracy: 0.2971\n",
      "Epoch 16/200\n",
      "40/40 [==============================] - 1s 37ms/step - loss: 1.5561 - teacher_forcing_accuracy: 0.3122 - val_loss: 1.5193 - val_teacher_forcing_accuracy: 0.3182\n",
      "Epoch 17/200\n",
      "40/40 [==============================] - 1s 37ms/step - loss: 1.5524 - teacher_forcing_accuracy: 0.3220 - val_loss: 1.5102 - val_teacher_forcing_accuracy: 0.3324\n",
      "Epoch 18/200\n",
      "40/40 [==============================] - 1s 37ms/step - loss: 1.5368 - teacher_forcing_accuracy: 0.3346 - val_loss: 1.5195 - val_teacher_forcing_accuracy: 0.3310\n",
      "Epoch 19/200\n",
      "40/40 [==============================] - 1s 37ms/step - loss: 1.5275 - teacher_forcing_accuracy: 0.3439 - val_loss: 1.4600 - val_teacher_forcing_accuracy: 0.3687\n",
      "Epoch 20/200\n",
      "40/40 [==============================] - 1s 36ms/step - loss: 1.4965 - teacher_forcing_accuracy: 0.3598 - val_loss: 1.4343 - val_teacher_forcing_accuracy: 0.3874\n",
      "Epoch 21/200\n",
      "40/40 [==============================] - 1s 37ms/step - loss: 1.4855 - teacher_forcing_accuracy: 0.3720 - val_loss: 1.4256 - val_teacher_forcing_accuracy: 0.3912\n",
      "Epoch 22/200\n",
      "40/40 [==============================] - 2s 38ms/step - loss: 1.4581 - teacher_forcing_accuracy: 0.3856 - val_loss: 1.3715 - val_teacher_forcing_accuracy: 0.4192\n",
      "Epoch 23/200\n",
      "40/40 [==============================] - 1s 37ms/step - loss: 1.4318 - teacher_forcing_accuracy: 0.4002 - val_loss: 1.3571 - val_teacher_forcing_accuracy: 0.4286\n",
      "Epoch 24/200\n",
      "40/40 [==============================] - 1s 37ms/step - loss: 1.4124 - teacher_forcing_accuracy: 0.4088 - val_loss: 1.3079 - val_teacher_forcing_accuracy: 0.4518\n",
      "Epoch 25/200\n",
      "40/40 [==============================] - 1s 38ms/step - loss: 1.3771 - teacher_forcing_accuracy: 0.4281 - val_loss: 1.2544 - val_teacher_forcing_accuracy: 0.4799\n",
      "Epoch 26/200\n",
      "40/40 [==============================] - 2s 53ms/step - loss: 1.3387 - teacher_forcing_accuracy: 0.4449 - val_loss: 1.2137 - val_teacher_forcing_accuracy: 0.4940\n",
      "Epoch 27/200\n",
      "40/40 [==============================] - 1s 37ms/step - loss: 1.3056 - teacher_forcing_accuracy: 0.4631 - val_loss: 1.1500 - val_teacher_forcing_accuracy: 0.5203\n",
      "Epoch 28/200\n",
      "40/40 [==============================] - 2s 38ms/step - loss: 1.2427 - teacher_forcing_accuracy: 0.4876 - val_loss: 1.0735 - val_teacher_forcing_accuracy: 0.5546\n",
      "Epoch 29/200\n",
      "40/40 [==============================] - 1s 37ms/step - loss: 1.2289 - teacher_forcing_accuracy: 0.4914 - val_loss: 1.0246 - val_teacher_forcing_accuracy: 0.5742\n",
      "Epoch 30/200\n",
      "40/40 [==============================] - 1s 36ms/step - loss: 1.1605 - teacher_forcing_accuracy: 0.5198 - val_loss: 0.9384 - val_teacher_forcing_accuracy: 0.6099\n",
      "Epoch 31/200\n",
      "40/40 [==============================] - 1s 37ms/step - loss: 1.1074 - teacher_forcing_accuracy: 0.5443 - val_loss: 0.8721 - val_teacher_forcing_accuracy: 0.6407\n",
      "Epoch 32/200\n",
      "40/40 [==============================] - 1s 38ms/step - loss: 1.0455 - teacher_forcing_accuracy: 0.5720 - val_loss: 0.8452 - val_teacher_forcing_accuracy: 0.6556\n",
      "Epoch 33/200\n",
      "40/40 [==============================] - 1s 38ms/step - loss: 1.0124 - teacher_forcing_accuracy: 0.5882 - val_loss: 0.7723 - val_teacher_forcing_accuracy: 0.6851\n",
      "Epoch 34/200\n",
      "40/40 [==============================] - 2s 38ms/step - loss: 0.9570 - teacher_forcing_accuracy: 0.6126 - val_loss: 0.6874 - val_teacher_forcing_accuracy: 0.7259\n",
      "Epoch 35/200\n",
      "40/40 [==============================] - 1s 37ms/step - loss: 0.9179 - teacher_forcing_accuracy: 0.6318 - val_loss: 0.6556 - val_teacher_forcing_accuracy: 0.7390\n",
      "Epoch 36/200\n",
      "40/40 [==============================] - 1s 36ms/step - loss: 0.8752 - teacher_forcing_accuracy: 0.6477 - val_loss: 0.6207 - val_teacher_forcing_accuracy: 0.7486\n",
      "Epoch 37/200\n",
      "40/40 [==============================] - 1s 36ms/step - loss: 0.8377 - teacher_forcing_accuracy: 0.6664 - val_loss: 0.5649 - val_teacher_forcing_accuracy: 0.7732\n",
      "Epoch 38/200\n",
      "40/40 [==============================] - 1s 38ms/step - loss: 0.7977 - teacher_forcing_accuracy: 0.6843 - val_loss: 0.5282 - val_teacher_forcing_accuracy: 0.7905\n",
      "Epoch 39/200\n",
      "40/40 [==============================] - 1s 37ms/step - loss: 0.7628 - teacher_forcing_accuracy: 0.6981 - val_loss: 0.4832 - val_teacher_forcing_accuracy: 0.8155\n",
      "Epoch 40/200\n",
      "40/40 [==============================] - 1s 37ms/step - loss: 0.7313 - teacher_forcing_accuracy: 0.7094 - val_loss: 0.4391 - val_teacher_forcing_accuracy: 0.8284\n",
      "Epoch 41/200\n",
      "40/40 [==============================] - 1s 36ms/step - loss: 0.6907 - teacher_forcing_accuracy: 0.7287 - val_loss: 0.4614 - val_teacher_forcing_accuracy: 0.8174\n",
      "Epoch 42/200\n",
      "40/40 [==============================] - 1s 37ms/step - loss: 0.6958 - teacher_forcing_accuracy: 0.7260 - val_loss: 0.3766 - val_teacher_forcing_accuracy: 0.8581\n",
      "Epoch 43/200\n",
      "40/40 [==============================] - 1s 38ms/step - loss: 0.6328 - teacher_forcing_accuracy: 0.7515 - val_loss: 0.3498 - val_teacher_forcing_accuracy: 0.8640\n",
      "Epoch 44/200\n",
      "40/40 [==============================] - 1s 37ms/step - loss: 0.6110 - teacher_forcing_accuracy: 0.7620 - val_loss: 0.3183 - val_teacher_forcing_accuracy: 0.8803\n",
      "Epoch 45/200\n",
      "40/40 [==============================] - 1s 37ms/step - loss: 0.5761 - teacher_forcing_accuracy: 0.7739 - val_loss: 0.3145 - val_teacher_forcing_accuracy: 0.8808\n",
      "Epoch 46/200\n",
      "40/40 [==============================] - 1s 37ms/step - loss: 0.5675 - teacher_forcing_accuracy: 0.7816 - val_loss: 0.2698 - val_teacher_forcing_accuracy: 0.9002\n",
      "Epoch 47/200\n",
      "40/40 [==============================] - 1s 36ms/step - loss: 0.5343 - teacher_forcing_accuracy: 0.7921 - val_loss: 0.2531 - val_teacher_forcing_accuracy: 0.9079\n",
      "Epoch 48/200\n",
      "40/40 [==============================] - 1s 37ms/step - loss: 0.5193 - teacher_forcing_accuracy: 0.7994 - val_loss: 0.2388 - val_teacher_forcing_accuracy: 0.9138\n",
      "Epoch 49/200\n",
      "40/40 [==============================] - 1s 38ms/step - loss: 0.4955 - teacher_forcing_accuracy: 0.8075 - val_loss: 0.2357 - val_teacher_forcing_accuracy: 0.9134\n",
      "Epoch 50/200\n",
      "40/40 [==============================] - 2s 38ms/step - loss: 0.4836 - teacher_forcing_accuracy: 0.8159 - val_loss: 0.2283 - val_teacher_forcing_accuracy: 0.9186\n",
      "Epoch 51/200\n",
      "40/40 [==============================] - 1s 38ms/step - loss: 0.4620 - teacher_forcing_accuracy: 0.8215 - val_loss: 0.1870 - val_teacher_forcing_accuracy: 0.9340\n",
      "Epoch 52/200\n",
      "40/40 [==============================] - 1s 37ms/step - loss: 0.4424 - teacher_forcing_accuracy: 0.8318 - val_loss: 0.1838 - val_teacher_forcing_accuracy: 0.9360\n",
      "Epoch 53/200\n",
      "40/40 [==============================] - 1s 37ms/step - loss: 0.4315 - teacher_forcing_accuracy: 0.8334 - val_loss: 0.1772 - val_teacher_forcing_accuracy: 0.9391\n",
      "Epoch 54/200\n",
      "40/40 [==============================] - 2s 38ms/step - loss: 0.4358 - teacher_forcing_accuracy: 0.8338 - val_loss: 0.1566 - val_teacher_forcing_accuracy: 0.9461\n",
      "Epoch 55/200\n",
      "40/40 [==============================] - 1s 36ms/step - loss: 0.4048 - teacher_forcing_accuracy: 0.8448 - val_loss: 0.1606 - val_teacher_forcing_accuracy: 0.9427\n",
      "Epoch 56/200\n",
      "40/40 [==============================] - 1s 37ms/step - loss: 0.3943 - teacher_forcing_accuracy: 0.8492 - val_loss: 0.1347 - val_teacher_forcing_accuracy: 0.9550\n",
      "Epoch 57/200\n",
      "40/40 [==============================] - 1s 38ms/step - loss: 0.3821 - teacher_forcing_accuracy: 0.8556 - val_loss: 0.1253 - val_teacher_forcing_accuracy: 0.9577\n",
      "Epoch 58/200\n",
      "40/40 [==============================] - 1s 36ms/step - loss: 0.3705 - teacher_forcing_accuracy: 0.8602 - val_loss: 0.1242 - val_teacher_forcing_accuracy: 0.9591\n",
      "Epoch 59/200\n",
      "40/40 [==============================] - 1s 37ms/step - loss: 0.3567 - teacher_forcing_accuracy: 0.8653 - val_loss: 0.1231 - val_teacher_forcing_accuracy: 0.9580\n",
      "Epoch 60/200\n",
      "40/40 [==============================] - 1s 37ms/step - loss: 0.3788 - teacher_forcing_accuracy: 0.8570 - val_loss: 0.1170 - val_teacher_forcing_accuracy: 0.9623\n",
      "Epoch 61/200\n",
      "40/40 [==============================] - 1s 37ms/step - loss: 0.3452 - teacher_forcing_accuracy: 0.8697 - val_loss: 0.1017 - val_teacher_forcing_accuracy: 0.9666\n",
      "Epoch 62/200\n",
      "40/40 [==============================] - 1s 36ms/step - loss: 0.3348 - teacher_forcing_accuracy: 0.8723 - val_loss: 0.0886 - val_teacher_forcing_accuracy: 0.9737\n",
      "Epoch 63/200\n",
      "40/40 [==============================] - 1s 37ms/step - loss: 0.3191 - teacher_forcing_accuracy: 0.8791 - val_loss: 0.0825 - val_teacher_forcing_accuracy: 0.9756\n",
      "Epoch 64/200\n",
      "40/40 [==============================] - 1s 37ms/step - loss: 0.3148 - teacher_forcing_accuracy: 0.8807 - val_loss: 0.0824 - val_teacher_forcing_accuracy: 0.9747\n",
      "Epoch 65/200\n",
      "40/40 [==============================] - 1s 37ms/step - loss: 0.3127 - teacher_forcing_accuracy: 0.8810 - val_loss: 0.0866 - val_teacher_forcing_accuracy: 0.9713\n",
      "Epoch 66/200\n",
      "40/40 [==============================] - 1s 38ms/step - loss: 0.3068 - teacher_forcing_accuracy: 0.8851 - val_loss: 0.0734 - val_teacher_forcing_accuracy: 0.9783\n",
      "Epoch 67/200\n",
      "40/40 [==============================] - 1s 38ms/step - loss: 0.3006 - teacher_forcing_accuracy: 0.8858 - val_loss: 0.0727 - val_teacher_forcing_accuracy: 0.9798\n",
      "Epoch 68/200\n",
      "40/40 [==============================] - 1s 36ms/step - loss: 0.2746 - teacher_forcing_accuracy: 0.8974 - val_loss: 0.0720 - val_teacher_forcing_accuracy: 0.9788\n",
      "Epoch 69/200\n",
      "40/40 [==============================] - 1s 37ms/step - loss: 0.2818 - teacher_forcing_accuracy: 0.8941 - val_loss: 0.0641 - val_teacher_forcing_accuracy: 0.9824\n",
      "Epoch 70/200\n",
      "40/40 [==============================] - 1s 36ms/step - loss: 0.2610 - teacher_forcing_accuracy: 0.9012 - val_loss: 0.0655 - val_teacher_forcing_accuracy: 0.9799\n",
      "Epoch 71/200\n",
      "40/40 [==============================] - 1s 36ms/step - loss: 0.2703 - teacher_forcing_accuracy: 0.8993 - val_loss: 0.0557 - val_teacher_forcing_accuracy: 0.9838\n",
      "Epoch 72/200\n",
      "40/40 [==============================] - 1s 36ms/step - loss: 0.2662 - teacher_forcing_accuracy: 0.9016 - val_loss: 0.0569 - val_teacher_forcing_accuracy: 0.9840\n",
      "Epoch 73/200\n",
      "40/40 [==============================] - 1s 36ms/step - loss: 0.2522 - teacher_forcing_accuracy: 0.9059 - val_loss: 0.0467 - val_teacher_forcing_accuracy: 0.9880\n",
      "Epoch 74/200\n",
      "40/40 [==============================] - 1s 37ms/step - loss: 0.2401 - teacher_forcing_accuracy: 0.9101 - val_loss: 0.0423 - val_teacher_forcing_accuracy: 0.9896\n",
      "Epoch 75/200\n",
      "40/40 [==============================] - 1s 36ms/step - loss: 0.2419 - teacher_forcing_accuracy: 0.9090 - val_loss: 0.0454 - val_teacher_forcing_accuracy: 0.9871\n",
      "Epoch 76/200\n",
      "40/40 [==============================] - 1s 36ms/step - loss: 0.2302 - teacher_forcing_accuracy: 0.9140 - val_loss: 0.0469 - val_teacher_forcing_accuracy: 0.9862\n",
      "Epoch 77/200\n",
      "40/40 [==============================] - 1s 36ms/step - loss: 0.2622 - teacher_forcing_accuracy: 0.9027 - val_loss: 0.0441 - val_teacher_forcing_accuracy: 0.9890\n",
      "Epoch 78/200\n",
      "40/40 [==============================] - 1s 37ms/step - loss: 0.2400 - teacher_forcing_accuracy: 0.9107 - val_loss: 0.0361 - val_teacher_forcing_accuracy: 0.9907\n",
      "Epoch 79/200\n",
      "40/40 [==============================] - 1s 37ms/step - loss: 0.2240 - teacher_forcing_accuracy: 0.9181 - val_loss: 0.0327 - val_teacher_forcing_accuracy: 0.9924\n",
      "Epoch 80/200\n",
      "40/40 [==============================] - 1s 36ms/step - loss: 0.2129 - teacher_forcing_accuracy: 0.9205 - val_loss: 0.0285 - val_teacher_forcing_accuracy: 0.9930\n",
      "Epoch 81/200\n",
      "40/40 [==============================] - 1s 36ms/step - loss: 0.2078 - teacher_forcing_accuracy: 0.9232 - val_loss: 0.0271 - val_teacher_forcing_accuracy: 0.9939\n",
      "Epoch 82/200\n",
      "40/40 [==============================] - 1s 36ms/step - loss: 0.2016 - teacher_forcing_accuracy: 0.9250 - val_loss: 0.0288 - val_teacher_forcing_accuracy: 0.9929\n",
      "Epoch 83/200\n",
      "40/40 [==============================] - 1s 37ms/step - loss: 0.1984 - teacher_forcing_accuracy: 0.9264 - val_loss: 0.0219 - val_teacher_forcing_accuracy: 0.9958\n",
      "Epoch 84/200\n",
      "40/40 [==============================] - 1s 36ms/step - loss: 0.2070 - teacher_forcing_accuracy: 0.9234 - val_loss: 0.0324 - val_teacher_forcing_accuracy: 0.9915\n",
      "Epoch 85/200\n",
      "40/40 [==============================] - 1s 36ms/step - loss: 0.2131 - teacher_forcing_accuracy: 0.9213 - val_loss: 0.0227 - val_teacher_forcing_accuracy: 0.9958\n",
      "Epoch 86/200\n",
      "40/40 [==============================] - 1s 37ms/step - loss: 0.1913 - teacher_forcing_accuracy: 0.9305 - val_loss: 0.0271 - val_teacher_forcing_accuracy: 0.9931\n",
      "Epoch 87/200\n",
      "40/40 [==============================] - 1s 36ms/step - loss: 0.1857 - teacher_forcing_accuracy: 0.9308 - val_loss: 0.0188 - val_teacher_forcing_accuracy: 0.9961\n",
      "Epoch 88/200\n",
      "40/40 [==============================] - 1s 36ms/step - loss: 0.1858 - teacher_forcing_accuracy: 0.9317 - val_loss: 0.0209 - val_teacher_forcing_accuracy: 0.9951\n",
      "Epoch 89/200\n",
      "40/40 [==============================] - 1s 37ms/step - loss: 0.1754 - teacher_forcing_accuracy: 0.9337 - val_loss: 0.0182 - val_teacher_forcing_accuracy: 0.9956\n",
      "Epoch 90/200\n",
      "40/40 [==============================] - 2s 38ms/step - loss: 0.1724 - teacher_forcing_accuracy: 0.9353 - val_loss: 0.0180 - val_teacher_forcing_accuracy: 0.9956\n",
      "Epoch 91/200\n",
      "40/40 [==============================] - 1s 37ms/step - loss: 0.1702 - teacher_forcing_accuracy: 0.9372 - val_loss: 0.0147 - val_teacher_forcing_accuracy: 0.9972\n",
      "Epoch 92/200\n",
      "40/40 [==============================] - 1s 37ms/step - loss: 0.1597 - teacher_forcing_accuracy: 0.9413 - val_loss: 0.0155 - val_teacher_forcing_accuracy: 0.9965\n",
      "Epoch 93/200\n",
      "40/40 [==============================] - 1s 37ms/step - loss: 0.1615 - teacher_forcing_accuracy: 0.9407 - val_loss: 0.0234 - val_teacher_forcing_accuracy: 0.9930\n",
      "Epoch 94/200\n",
      "40/40 [==============================] - 1s 37ms/step - loss: 0.1762 - teacher_forcing_accuracy: 0.9348 - val_loss: 0.0179 - val_teacher_forcing_accuracy: 0.9962\n",
      "Epoch 95/200\n",
      "40/40 [==============================] - 1s 37ms/step - loss: 0.1766 - teacher_forcing_accuracy: 0.9355 - val_loss: 0.0165 - val_teacher_forcing_accuracy: 0.9960\n",
      "Epoch 96/200\n",
      "40/40 [==============================] - 1s 36ms/step - loss: 0.1702 - teacher_forcing_accuracy: 0.9374 - val_loss: 0.0170 - val_teacher_forcing_accuracy: 0.9960\n",
      "Epoch 97/200\n",
      "40/40 [==============================] - 1s 35ms/step - loss: 0.1577 - teacher_forcing_accuracy: 0.9410 - val_loss: 0.0149 - val_teacher_forcing_accuracy: 0.9964\n",
      "Epoch 98/200\n",
      "40/40 [==============================] - 1s 36ms/step - loss: 0.1511 - teacher_forcing_accuracy: 0.9438 - val_loss: 0.0147 - val_teacher_forcing_accuracy: 0.9965\n",
      "Epoch 99/200\n",
      "40/40 [==============================] - 1s 36ms/step - loss: 0.1399 - teacher_forcing_accuracy: 0.9491 - val_loss: 0.0105 - val_teacher_forcing_accuracy: 0.9978\n",
      "Epoch 100/200\n",
      "40/40 [==============================] - 1s 37ms/step - loss: 0.1380 - teacher_forcing_accuracy: 0.9491 - val_loss: 0.0087 - val_teacher_forcing_accuracy: 0.9983\n",
      "Epoch 101/200\n",
      "40/40 [==============================] - 1s 37ms/step - loss: 0.1342 - teacher_forcing_accuracy: 0.9517 - val_loss: 0.0098 - val_teacher_forcing_accuracy: 0.9976\n",
      "Epoch 102/200\n",
      "40/40 [==============================] - 1s 35ms/step - loss: 0.1346 - teacher_forcing_accuracy: 0.9505 - val_loss: 0.0098 - val_teacher_forcing_accuracy: 0.9982\n",
      "Epoch 103/200\n",
      "40/40 [==============================] - 1s 37ms/step - loss: 0.1311 - teacher_forcing_accuracy: 0.9515 - val_loss: 0.0076 - val_teacher_forcing_accuracy: 0.9986\n",
      "Epoch 104/200\n",
      "40/40 [==============================] - 1s 36ms/step - loss: 0.1233 - teacher_forcing_accuracy: 0.9545 - val_loss: 0.0110 - val_teacher_forcing_accuracy: 0.9972\n",
      "Epoch 105/200\n",
      "40/40 [==============================] - 1s 37ms/step - loss: 0.1328 - teacher_forcing_accuracy: 0.9514 - val_loss: 0.0087 - val_teacher_forcing_accuracy: 0.9981\n",
      "Epoch 106/200\n",
      "40/40 [==============================] - 2s 38ms/step - loss: 0.1317 - teacher_forcing_accuracy: 0.9518 - val_loss: 0.0076 - val_teacher_forcing_accuracy: 0.9985\n",
      "Epoch 107/200\n",
      "40/40 [==============================] - 2s 38ms/step - loss: 0.1241 - teacher_forcing_accuracy: 0.9540 - val_loss: 0.0066 - val_teacher_forcing_accuracy: 0.9988\n",
      "Epoch 108/200\n",
      "40/40 [==============================] - 2s 39ms/step - loss: 0.1277 - teacher_forcing_accuracy: 0.9525 - val_loss: 0.0063 - val_teacher_forcing_accuracy: 0.9987\n",
      "Epoch 109/200\n",
      "40/40 [==============================] - 1s 37ms/step - loss: 0.1242 - teacher_forcing_accuracy: 0.9542 - val_loss: 0.0063 - val_teacher_forcing_accuracy: 0.9988\n",
      "Epoch 110/200\n",
      "40/40 [==============================] - 1s 37ms/step - loss: 0.1134 - teacher_forcing_accuracy: 0.9588 - val_loss: 0.0059 - val_teacher_forcing_accuracy: 0.9988\n",
      "Epoch 111/200\n",
      "40/40 [==============================] - 1s 36ms/step - loss: 0.1117 - teacher_forcing_accuracy: 0.9586 - val_loss: 0.0052 - val_teacher_forcing_accuracy: 0.9991\n",
      "Epoch 112/200\n",
      "40/40 [==============================] - 1s 36ms/step - loss: 0.1147 - teacher_forcing_accuracy: 0.9585 - val_loss: 0.0053 - val_teacher_forcing_accuracy: 0.9988\n",
      "Epoch 113/200\n",
      "40/40 [==============================] - 1s 37ms/step - loss: 0.1021 - teacher_forcing_accuracy: 0.9632 - val_loss: 0.0044 - val_teacher_forcing_accuracy: 0.9990\n",
      "Epoch 114/200\n",
      "40/40 [==============================] - 1s 36ms/step - loss: 0.1123 - teacher_forcing_accuracy: 0.9586 - val_loss: 0.0050 - val_teacher_forcing_accuracy: 0.9991\n",
      "Epoch 115/200\n",
      "40/40 [==============================] - 1s 36ms/step - loss: 0.1092 - teacher_forcing_accuracy: 0.9598 - val_loss: 0.0037 - val_teacher_forcing_accuracy: 0.9995\n",
      "Epoch 116/200\n",
      "40/40 [==============================] - 1s 36ms/step - loss: 0.1102 - teacher_forcing_accuracy: 0.9604 - val_loss: 0.0042 - val_teacher_forcing_accuracy: 0.9992\n",
      "Epoch 117/200\n",
      "40/40 [==============================] - 1s 37ms/step - loss: 0.1095 - teacher_forcing_accuracy: 0.9604 - val_loss: 0.0038 - val_teacher_forcing_accuracy: 0.9994\n",
      "Epoch 118/200\n",
      "40/40 [==============================] - 1s 36ms/step - loss: 0.1000 - teacher_forcing_accuracy: 0.9642 - val_loss: 0.0049 - val_teacher_forcing_accuracy: 0.9990\n",
      "Epoch 119/200\n",
      "40/40 [==============================] - 1s 36ms/step - loss: 0.1157 - teacher_forcing_accuracy: 0.9585 - val_loss: 0.0033 - val_teacher_forcing_accuracy: 0.9995\n",
      "Epoch 120/200\n",
      "40/40 [==============================] - 1s 36ms/step - loss: 0.0943 - teacher_forcing_accuracy: 0.9666 - val_loss: 0.0036 - val_teacher_forcing_accuracy: 0.9995\n",
      "Epoch 121/200\n",
      "40/40 [==============================] - 1s 35ms/step - loss: 0.0929 - teacher_forcing_accuracy: 0.9663 - val_loss: 0.0036 - val_teacher_forcing_accuracy: 0.9993\n",
      "Epoch 122/200\n",
      "40/40 [==============================] - 1s 36ms/step - loss: 0.1038 - teacher_forcing_accuracy: 0.9631 - val_loss: 0.0038 - val_teacher_forcing_accuracy: 0.9994\n",
      "Epoch 123/200\n",
      "40/40 [==============================] - 1s 37ms/step - loss: 0.1101 - teacher_forcing_accuracy: 0.9606 - val_loss: 0.0037 - val_teacher_forcing_accuracy: 0.9994\n",
      "Epoch 124/200\n",
      "40/40 [==============================] - 2s 38ms/step - loss: 0.0946 - teacher_forcing_accuracy: 0.9658 - val_loss: 0.0026 - val_teacher_forcing_accuracy: 0.9997\n",
      "Epoch 125/200\n",
      "40/40 [==============================] - 1s 37ms/step - loss: 0.0861 - teacher_forcing_accuracy: 0.9687 - val_loss: 0.0023 - val_teacher_forcing_accuracy: 0.9997\n",
      "Epoch 126/200\n",
      "40/40 [==============================] - 1s 37ms/step - loss: 0.0862 - teacher_forcing_accuracy: 0.9687 - val_loss: 0.0021 - val_teacher_forcing_accuracy: 0.9997\n",
      "Epoch 127/200\n",
      "40/40 [==============================] - 1s 36ms/step - loss: 0.0886 - teacher_forcing_accuracy: 0.9677 - val_loss: 0.0022 - val_teacher_forcing_accuracy: 0.9997\n",
      "Epoch 128/200\n",
      "40/40 [==============================] - 2s 38ms/step - loss: 0.0856 - teacher_forcing_accuracy: 0.9705 - val_loss: 0.0019 - val_teacher_forcing_accuracy: 0.9998\n",
      "Epoch 129/200\n",
      "40/40 [==============================] - 1s 37ms/step - loss: 0.0799 - teacher_forcing_accuracy: 0.9714 - val_loss: 0.0024 - val_teacher_forcing_accuracy: 0.9996\n",
      "Epoch 130/200\n",
      "40/40 [==============================] - 1s 36ms/step - loss: 0.0899 - teacher_forcing_accuracy: 0.9679 - val_loss: 0.0019 - val_teacher_forcing_accuracy: 0.9998\n",
      "Epoch 131/200\n",
      "40/40 [==============================] - 1s 36ms/step - loss: 0.0904 - teacher_forcing_accuracy: 0.9671 - val_loss: 0.0025 - val_teacher_forcing_accuracy: 0.9996\n",
      "Epoch 132/200\n",
      "40/40 [==============================] - 1s 36ms/step - loss: 0.0783 - teacher_forcing_accuracy: 0.9723 - val_loss: 0.0022 - val_teacher_forcing_accuracy: 0.9996\n",
      "Epoch 133/200\n",
      "40/40 [==============================] - 1s 37ms/step - loss: 0.0775 - teacher_forcing_accuracy: 0.9720 - val_loss: 0.0020 - val_teacher_forcing_accuracy: 0.9998\n",
      "Epoch 134/200\n",
      "40/40 [==============================] - 1s 37ms/step - loss: 0.0761 - teacher_forcing_accuracy: 0.9721 - val_loss: 0.0014 - val_teacher_forcing_accuracy: 0.9998\n",
      "Epoch 135/200\n",
      "40/40 [==============================] - 1s 37ms/step - loss: 0.0729 - teacher_forcing_accuracy: 0.9735 - val_loss: 0.0017 - val_teacher_forcing_accuracy: 0.9998\n",
      "Epoch 136/200\n",
      "40/40 [==============================] - 1s 36ms/step - loss: 0.0796 - teacher_forcing_accuracy: 0.9717 - val_loss: 0.0020 - val_teacher_forcing_accuracy: 0.9997\n",
      "Epoch 137/200\n",
      "40/40 [==============================] - 1s 37ms/step - loss: 0.0793 - teacher_forcing_accuracy: 0.9720 - val_loss: 0.0016 - val_teacher_forcing_accuracy: 0.9998\n",
      "Epoch 138/200\n",
      "40/40 [==============================] - 2s 53ms/step - loss: 0.0723 - teacher_forcing_accuracy: 0.9746 - val_loss: 0.0018 - val_teacher_forcing_accuracy: 0.9997\n",
      "Epoch 139/200\n",
      "40/40 [==============================] - 1s 37ms/step - loss: 0.0833 - teacher_forcing_accuracy: 0.9701 - val_loss: 0.0027 - val_teacher_forcing_accuracy: 0.9997\n",
      "Epoch 140/200\n",
      "40/40 [==============================] - 1s 36ms/step - loss: 0.1289 - teacher_forcing_accuracy: 0.9544 - val_loss: 0.0028 - val_teacher_forcing_accuracy: 0.9995\n",
      "Epoch 141/200\n",
      "40/40 [==============================] - 1s 37ms/step - loss: 0.0800 - teacher_forcing_accuracy: 0.9712 - val_loss: 0.0021 - val_teacher_forcing_accuracy: 0.9997\n",
      "Epoch 142/200\n",
      "40/40 [==============================] - 1s 36ms/step - loss: 0.0876 - teacher_forcing_accuracy: 0.9690 - val_loss: 0.0026 - val_teacher_forcing_accuracy: 0.9994\n",
      "Epoch 143/200\n",
      "40/40 [==============================] - 1s 36ms/step - loss: 0.0929 - teacher_forcing_accuracy: 0.9664 - val_loss: 0.0025 - val_teacher_forcing_accuracy: 0.9996\n",
      "Epoch 144/200\n",
      "40/40 [==============================] - 1s 37ms/step - loss: 0.0809 - teacher_forcing_accuracy: 0.9718 - val_loss: 0.0022 - val_teacher_forcing_accuracy: 0.9997\n"
     ]
    }
   ],
   "source": [
    "train_size = 5000 # len(seqs_train)\n",
    "X_train = object_seqs_train[:train_size], target_train[:train_size]\n",
    "y_train = labels_train[:train_size]\n",
    "\n",
    "X_val = object_seqs_val, target_val\n",
    "y_val = labels_val\n",
    "\n",
    "run = wandb.init(project=wandb_project_name, group='Transformer, Task 1')\n",
    "history = argsort_model.fit(X_train, y_train, validation_data=(X_val, y_val), verbose=1, callbacks=create_callbacks(), **fit_kwargs)"
   ]
  },
  {
   "cell_type": "code",
   "execution_count": 34,
   "metadata": {},
   "outputs": [
    {
     "data": {
      "image/png": "[encoded data removed]",
      "text/plain": [
       "<Figure size 640x480 with 2 Axes>"
      ]
     },
     "metadata": {},
     "output_type": "display_data"
    }
   ],
   "source": [
    "utils.plot_history(history, ('loss', 'teacher_forcing_accuracy'));"
   ]
  },
  {
   "cell_type": "code",
   "execution_count": 37,
   "metadata": {},
   "outputs": [
    {
     "name": "stdout",
     "output_type": "stream",
     "text": [
      "element-wise accuracy: 99.96%\n",
      "full sequence accuracy: 99.84%\n",
      "teacher-forcing accuracy:  99.98%\n"
     ]
    }
   ],
   "source": [
    "eval_dict = evaluate_seq2seq_model(argsort_model, object_seqs_train, target_train, labels_train, \n",
    "    start_token=start_token, print_=True)"
   ]
  },
  {
   "cell_type": "code",
   "execution_count": 38,
   "metadata": {},
   "outputs": [
    {
     "name": "stdout",
     "output_type": "stream",
     "text": [
      "element-wise accuracy: 99.95%\n",
      "full sequence accuracy: 99.80%\n",
      "teacher-forcing accuracy:  99.98%\n"
     ]
    },
    {
     "data": {
      "text/html": [
       "Waiting for W&B process to finish... <strong style=\"color:green\">(success).</strong>"
      ],
      "text/plain": [
       "<IPython.core.display.HTML object>"
      ]
     },
     "metadata": {},
     "output_type": "display_data"
    },
    {
     "data": {
      "application/vnd.jupyter.widget-view+json": {
       "model_id": "c8699dfacce34d32b3d1918d5d062447",
       "version_major": 2,
       "version_minor": 0
      },
      "text/plain": [
       "VBox(children=(Label(value='0.055 MB of 0.055 MB uploaded (0.000 MB deduped)\\r'), FloatProgress(value=0.996500…"
      ]
     },
     "metadata": {},
     "output_type": "display_data"
    },
    {
     "data": {
      "text/html": [
       " View run <strong style=\"color:#cdcd00\">pleasant-blaze-1</strong> at: <a href=\"https://wandb.ai/awni00/dev_abstracter_sorting_generalization/runs/az3hddih\" target=\"_blank\">https://wandb.ai/awni00/dev_abstracter_sorting_generalization/runs/az3hddih</a><br/>Synced 6 W&B file(s), 1 media file(s), 1 artifact file(s) and 1 other file(s)"
      ],
      "text/plain": [
       "<IPython.core.display.HTML object>"
      ]
     },
     "metadata": {},
     "output_type": "display_data"
    }
   ],
   "source": [
    "eval_dict = evaluate_seq2seq_model(argsort_model, object_seqs_test, target_test, labels_test, \n",
    "    start_token=start_token, print_=True)\n",
    "log_to_wandb(argsort_model, eval_dict)\n",
    "wandb.finish(quiet=True)"
   ]
  },
  {
   "cell_type": "markdown",
   "metadata": {},
   "source": [
    "## Task 1: Sensory-Connected Abstracter"
   ]
  },
  {
   "cell_type": "code",
   "execution_count": 6,
   "metadata": {},
   "outputs": [
    {
     "ename": "",
     "evalue": "",
     "output_type": "error",
     "traceback": [
      "\u001b[1;31mCanceled future for execute_request message before replies were done"
     ]
    },
    {
     "ename": "",
     "evalue": "",
     "output_type": "error",
     "traceback": [
      "\u001b[1;31mThe Kernel crashed while executing code in the the current cell or a previous cell. Please review the code in the cell(s) to identify a possible cause of the failure. Click <a href='https://aka.ms/vscodeJupyterKernelCrash'>here</a> for more info. View Jupyter <a href='command:jupyter.viewOutput'>log</a> for further details."
     ]
    }
   ],
   "source": [
    "task1_data = np.load('object_sorting_datasets/task1_object_sort_dataset.npy', allow_pickle=True).item()\n",
    "\n",
    "objects, seqs, sorted_seqs, object_seqs, target, labels, start_token = (task1_data['objects'], task1_data['seqs'], task1_data['sorted_seqs'], task1_data['object_seqs'], \\\n",
    "    task1_data['target'], task1_data['labels'], task1_data['start_token'])\n",
    "\n",
    "test_size = 0.2\n",
    "val_size = 0.1\n",
    "\n",
    "seqs_train, seqs_test, sorted_seqs_train, sorted_seqs_test, object_seqs_train, object_seqs_test, target_train, target_test, labels_train, labels_test = train_test_split(\n",
    "    seqs, sorted_seqs, object_seqs, target, labels, test_size=0.2, random_state=seed)\n",
    "seqs_train, seqs_val, sorted_seqs_train, sorted_seqs_val, object_seqs_train, object_seqs_val, target_train, target_val, labels_train, labels_val = train_test_split(\n",
    "    seqs_train, sorted_seqs_train, object_seqs_train, target_train, labels_train, test_size=val_size/(1-test_size), random_state=seed)\n",
    "\n",
    "seqs_length = seqs.shape[1]"
   ]
  },
  {
   "cell_type": "code",
   "execution_count": null,
   "metadata": {},
   "outputs": [],
   "source": [
    "def process_cross_attention_schemes(cross_attention_schemes):\n",
    "    if isinstance(cross_attention_schemes, list) and all(isinstance(x, dict) for x in cross_attention_schemes):\n",
    "        for d in cross_attention_schemes:\n",
    "            if set(d.keys()) != {'key', 'query', 'value'}:\n",
    "                raise ValueError(\"dictionaries must have {{'key', 'query', 'value'}} as keys\")\n",
    "            if not all(val in range(-1, len(cross_attention_schemes)) for val in d.values()):\n",
    "                # checl all values are integer between -1 and the number of sequences\n",
    "                raise ValueError(\"values in dictionaries must be the index of one of the input sequences\")\n",
    "        \n",
    "        return cross_attention_schemes\n",
    "    elif cross_attention_schemes is None:\n",
    "        return []\n",
    "    else:\n",
    "        raise ValueError(\"`cross_attention_schmes` must be list of dictionaries\")\n",
    "\n",
    "class MultiAttentionDecoderLayer(tf.keras.layers.Layer):\n",
    "    \"\"\"\n",
    "    A decoder layer with cross-attention from multiple sources.\n",
    "    \"\"\"\n",
    "\n",
    "    def __init__(\n",
    "        self,\n",
    "        d_model,\n",
    "        num_heads,\n",
    "        dff,\n",
    "        cross_attention_schemes,\n",
    "        dropout_rate=0.1,\n",
    "    ):\n",
    "\n",
    "        super(MultiAttentionDecoderLayer, self).__init__()\n",
    "\n",
    "        if causal_self_attention:\n",
    "            self.causal_self_attention = CausalSelfAttention(\n",
    "                num_heads=num_heads, key_dim=d_model, dropout=dropout_rate\n",
    "            )\n",
    "        \n",
    "        self.cross_attention_schemes = process_cross_attention_schemes(cross_attention_schemes)\n",
    "\n",
    "        # create cross-attention layers\n",
    "        self.cross_attention_layers = [\n",
    "            ContextualCrossAttention(num_heads=num_heads, key_dim=d_model, dropout_rate=dropout_rate) \n",
    "            for _ in range(len(self.cross_attention_schemes))]\n",
    "\n",
    "        self.ffn = FeedForward(d_model, dff)\n",
    "\n",
    "    def call(self, input_seq, sequences):\n",
    "\n",
    "        if len(sequences) != len(self.cross_attention_schemes):\n",
    "            raise ValueError(\"unexpected number of `sequences`\")\n",
    "\n",
    "        x = self.causal_self_attention(x=input_seq)\n",
    "\n",
    "        for cross_attention_layer, cross_attention_scheme in zip(self.cross_attention_layers, self.cross_attention_schemes):\n",
    "            x = call_cross_attention(cross_attention_layer, cross_attention_scheme, sequences, x)\n",
    "\n",
    "        # Cache the last attention scores for plotting later\n",
    "        self.last_attn_scores = self.cross_attention_layers[-1].last_attn_scores\n",
    "\n",
    "        x = self.ffn(x)  # Shape `(batch_size, seq_len, d_model)`.\n",
    "\n",
    "        return x\n",
    "    \n",
    "    def call_cross_attention(cross_attention_layer, cross_attention_scheme, sequences, x):\n",
    "        key_seq = get_sequence(cross_attention_scheme['key'], sequences, x)\n",
    "        query_seq = get_sequence(cross_attention_scheme['query'], sequences, x)\n",
    "        value_seq = get_sequence(cross_attention_scheme['value'], sequences, x)\n",
    "\n",
    "        x = cross_attention_layer(input_seq=x, query_seq=query_seq, key_seq=key_seq, value_seq=value_seq)\n",
    "\n",
    "        return x\n",
    "    \n",
    "    def get_sequence_from_scheme(scheme, sequences, x):\n",
    "        # return `x`` if cross-attention scheme asks for -1, else return index in `sequences``\n",
    "        return x if scheme==-1 else sequences[scheme]\n",
    "\n",
    "class MultiAttentionDecoder(tf.keras.layers.Layer):\n",
    "    \"\"\"A generalized decoder with configurable cross-attention schemes\"\"\"\n",
    "\n",
    "    def __init__(\n",
    "        self,\n",
    "        num_layers,\n",
    "        num_heads,\n",
    "        dff,\n",
    "        cross_attention_schemes,\n",
    "        dropout_rate=0.1,\n",
    "        name=\"decoder\",\n",
    "    ):\n",
    "\n",
    "        super(ContextDecoder, self).__init__(name=name)\n",
    "\n",
    "        self.num_layers = num_layers\n",
    "        self.num_heads = num_heads\n",
    "        self.dff = dff\n",
    "        self.cross_attention_schemes = cross_attention_schemes\n",
    "        self.dropout_rate = dropout_rate\n",
    "\n",
    "    def build(self, input_shape):\n",
    "\n",
    "        _, self.sequence_length, self.d_model = input_shape\n",
    "\n",
    "        self.dropout = tf.keras.layers.Dropout(self.dropout_rate)\n",
    "\n",
    "        self.dec_layers = [\n",
    "            MultiAttentionDecoderLayer(\n",
    "                d_model=self.d_model,\n",
    "                num_heads=self.num_heads,\n",
    "                dff=self.dff,\n",
    "                cross_attention_schemes=self.cross_attention_schemes,\n",
    "                dropout_rate=self.dropout_rate\n",
    "            )\n",
    "            for _ in range(self.num_layers)\n",
    "        ]\n",
    "\n",
    "        self.last_attn_scores = None\n",
    "\n",
    "    def call(self, input_seq, sequences):\n",
    "\n",
    "        x = self.dropout(input_seq)\n",
    "\n",
    "        for i in range(self.num_layers):\n",
    "            x = self.dec_layers[i](input_seq=x, sequences=sequences)\n",
    "\n",
    "        #             self.last_attn_scores = self.dec_layers[-1].last_attn_scores\n",
    "\n",
    "        return x"
   ]
  },
  {
   "cell_type": "code",
   "execution_count": null,
   "metadata": {},
   "outputs": [],
   "source": [
    "class Seq2SeqMultiAttentionSensoryConnectedAbstracter(tf.keras.Model):\n",
    "    def __init__(self, num_layers, num_heads, dff,\n",
    "            input_vocab, target_vocab, embedding_dim, output_dim, \n",
    "            cross_attention_schemes=None,\n",
    "            dropout_rate=0.1, name='seq2seq_sensory_connected_abstracter'):\n",
    "        super().__init__(name=name)\n",
    "\n",
    "        if isinstance(input_vocab, int):\n",
    "            self.source_embedder = layers.Embedding(input_vocab, embedding_dim, name='source_embedder')\n",
    "        elif input_vocab == 'vector':\n",
    "            self.source_embedder = layers.TimeDistributed(layers.Dense(embedding_dim), name='source_embedder')\n",
    "        else:\n",
    "            raise ValueError(\n",
    "                \"`input_vocab` must be an integer if the input sequence is token-valued or \"\n",
    "                \"'vector' if the input sequence is vector-valued.\")\n",
    "\n",
    "        if isinstance(target_vocab, int):\n",
    "            self.target_embedder = layers.Embedding(target_vocab, embedding_dim, name='target_embedder')\n",
    "        elif input_vocab == 'vector':\n",
    "            self.source_embedder = layers.TimeDistributed(layers.Dense(embedding_dim), name='target_embedder')\n",
    "        else:\n",
    "            raise ValueError(\n",
    "                \"`input_vocab` must be an integer if the input sequence is token-valued or \"\n",
    "                \"'vector' if the input sequence is vector-valued.\")\n",
    "\n",
    "        self.pos_embedding_adder_input = AddPositionalEmbedding(name='add_pos_embedding_input')\n",
    "        self.pos_embedding_adder_target = AddPositionalEmbedding(name='add_pos_embedding_target')\n",
    "    \n",
    "        self.encoder = Encoder(num_layers=num_layers, num_heads=num_heads, dff=dff, dropout_rate=dropout_rate, name='encoder')\n",
    "        self.abstracter = RelationalAbstracter(num_layers=num_layers, num_heads=num_heads, dff=dff, dropout_rate=dropout_rate, name='abstracter')\n",
    "        \n",
    "        if cross_attention_schemes is None:\n",
    "            self.cross_attention_schemes = [\n",
    "                {'key': -1, 'query': 0, 'value': 0}, # cross-attention scheme for encoder-decoder\n",
    "                {'key': 1, 'query': 1, 'value': -1} # cross-attention scheme for abstracter-decoder\n",
    "                ]\n",
    "        else:\n",
    "            self.cross_attention_schemes = process_cross_attention_schemes(cross_attention_schemes)\n",
    "            if len(cross_attention_schemes) != 2: raise ValueError(\"must be 2 cross-attention schemes\")\n",
    "    \n",
    "        self.decoder = MultiAttentionDecoder(num_layers=num_layers, num_heads=num_heads, dff=dff, cross_attention_schmes=cross_attention_schemes,\n",
    "          dropout_rate=dropout_rate, name='decoder')\n",
    "        self.final_layer = layers.Dense(output_dim, name='final_layer')\n",
    "\n",
    "\n",
    "    def call(self, inputs):\n",
    "        source, target  = inputs\n",
    "\n",
    "        x = self.source_embedder(source)\n",
    "        x = self.pos_embedding_adder_input(x)\n",
    "\n",
    "        encoder_context = self.encoder(x)\n",
    "\n",
    "        abstracted_context = self.abstracter(encoder_context)\n",
    "\n",
    "        target_embedding = self.target_embedder(target)\n",
    "        target_embedding = self.pos_embedding_adder_target(target_embedding)\n",
    "\n",
    "        x = self.decoder(input_seq=target_embedding, sequences=[encoder_context, abstracted_context])\n",
    "\n",
    "        # Final linear layer output.\n",
    "        logits = self.final_layer(x)\n",
    "\n",
    "        try:\n",
    "          # Drop the keras mask, so it doesn't scale the losses/metrics.\n",
    "          # b/250038731\n",
    "          del logits._keras_mask\n",
    "        except AttributeError:\n",
    "          pass\n",
    "\n",
    "        return logits"
   ]
  },
  {
   "cell_type": "code",
   "execution_count": 20,
   "metadata": {},
   "outputs": [
    {
     "ename": "NameError",
     "evalue": "name 'AddPositionalEmbedding' is not defined",
     "output_type": "error",
     "traceback": [
      "\u001b[0;31m---------------------------------------------------------------------------\u001b[0m",
      "\u001b[0;31mNameError\u001b[0m                                 Traceback (most recent call last)",
      "Cell \u001b[0;32mIn[20], line 6\u001b[0m\n\u001b[1;32m      1\u001b[0m cross_attention_schemes \u001b[38;5;241m=\u001b[39m [\n\u001b[1;32m      2\u001b[0m     {\u001b[38;5;124m'\u001b[39m\u001b[38;5;124mkey\u001b[39m\u001b[38;5;124m'\u001b[39m: \u001b[38;5;241m-\u001b[39m\u001b[38;5;241m1\u001b[39m, \u001b[38;5;124m'\u001b[39m\u001b[38;5;124mquery\u001b[39m\u001b[38;5;124m'\u001b[39m: \u001b[38;5;241m0\u001b[39m, \u001b[38;5;124m'\u001b[39m\u001b[38;5;124mvalue\u001b[39m\u001b[38;5;124m'\u001b[39m: \u001b[38;5;241m0\u001b[39m}, \u001b[38;5;66;03m# cross-attention scheme for encoder-decoder\u001b[39;00m\n\u001b[1;32m      3\u001b[0m     {\u001b[38;5;124m'\u001b[39m\u001b[38;5;124mkey\u001b[39m\u001b[38;5;124m'\u001b[39m: \u001b[38;5;241m1\u001b[39m, \u001b[38;5;124m'\u001b[39m\u001b[38;5;124mquery\u001b[39m\u001b[38;5;124m'\u001b[39m: \u001b[38;5;241m1\u001b[39m, \u001b[38;5;124m'\u001b[39m\u001b[38;5;124mvalue\u001b[39m\u001b[38;5;124m'\u001b[39m: \u001b[38;5;241m-\u001b[39m\u001b[38;5;241m1\u001b[39m} \u001b[38;5;66;03m# cross-attention scheme for abstracter-decoder\u001b[39;00m\n\u001b[1;32m      4\u001b[0m     ]\n\u001b[0;32m----> 6\u001b[0m argsort_model \u001b[38;5;241m=\u001b[39m \u001b[43mSeq2SeqMultiAttentionSensoryConnectedAbstracter\u001b[49m\u001b[43m(\u001b[49m\n\u001b[1;32m      7\u001b[0m \u001b[43m    \u001b[49m\u001b[43mnum_layers\u001b[49m\u001b[38;5;241;43m=\u001b[39;49m\u001b[38;5;241;43m2\u001b[39;49m\u001b[43m,\u001b[49m\u001b[43m \u001b[49m\u001b[43mnum_heads\u001b[49m\u001b[38;5;241;43m=\u001b[39;49m\u001b[38;5;241;43m2\u001b[39;49m\u001b[43m,\u001b[49m\u001b[43m \u001b[49m\u001b[43mdff\u001b[49m\u001b[38;5;241;43m=\u001b[39;49m\u001b[38;5;241;43m64\u001b[39;49m\u001b[43m,\u001b[49m\u001b[43m \u001b[49m\n\u001b[1;32m      8\u001b[0m \u001b[43m    \u001b[49m\u001b[43minput_vocab\u001b[49m\u001b[38;5;241;43m=\u001b[39;49m\u001b[38;5;124;43m'\u001b[39;49m\u001b[38;5;124;43mvector\u001b[39;49m\u001b[38;5;124;43m'\u001b[39;49m\u001b[43m,\u001b[49m\u001b[43m \u001b[49m\u001b[43mtarget_vocab\u001b[49m\u001b[38;5;241;43m=\u001b[39;49m\u001b[43mseqs_length\u001b[49m\u001b[38;5;241;43m+\u001b[39;49m\u001b[38;5;241;43m1\u001b[39;49m\u001b[43m,\u001b[49m\u001b[43m \u001b[49m\u001b[43moutput_dim\u001b[49m\u001b[38;5;241;43m=\u001b[39;49m\u001b[43mseqs_length\u001b[49m\u001b[43m,\u001b[49m\n\u001b[1;32m      9\u001b[0m \u001b[43m    \u001b[49m\u001b[43membedding_dim\u001b[49m\u001b[38;5;241;43m=\u001b[39;49m\u001b[38;5;241;43m64\u001b[39;49m\u001b[43m,\u001b[49m\u001b[43m \u001b[49m\u001b[43mcross_attention_schemes\u001b[49m\u001b[38;5;241;43m=\u001b[39;49m\u001b[43mcross_attention_schemes\u001b[49m\u001b[43m)\u001b[49m\n\u001b[1;32m     11\u001b[0m argsort_model\u001b[38;5;241m.\u001b[39mcompile(loss\u001b[38;5;241m=\u001b[39mloss, optimizer\u001b[38;5;241m=\u001b[39mcreate_opt(), metrics\u001b[38;5;241m=\u001b[39mmetrics)\n\u001b[1;32m     12\u001b[0m argsort_model((object_seqs_train[:\u001b[38;5;241m32\u001b[39m], target_train[:\u001b[38;5;241m32\u001b[39m]));\n",
      "Cell \u001b[0;32mIn[19], line 28\u001b[0m, in \u001b[0;36mSeq2SeqMultiAttentionSensoryConnectedAbstracter.__init__\u001b[0;34m(self, num_layers, num_heads, dff, input_vocab, target_vocab, embedding_dim, output_dim, cross_attention_schemes, dropout_rate, name)\u001b[0m\n\u001b[1;32m     23\u001b[0m \u001b[38;5;28;01melse\u001b[39;00m:\n\u001b[1;32m     24\u001b[0m     \u001b[38;5;28;01mraise\u001b[39;00m \u001b[38;5;167;01mValueError\u001b[39;00m(\n\u001b[1;32m     25\u001b[0m         \u001b[38;5;124m\"\u001b[39m\u001b[38;5;124m`input_vocab` must be an integer if the input sequence is token-valued or \u001b[39m\u001b[38;5;124m\"\u001b[39m\n\u001b[1;32m     26\u001b[0m         \u001b[38;5;124m\"\u001b[39m\u001b[38;5;124m'\u001b[39m\u001b[38;5;124mvector\u001b[39m\u001b[38;5;124m'\u001b[39m\u001b[38;5;124m if the input sequence is vector-valued.\u001b[39m\u001b[38;5;124m\"\u001b[39m)\n\u001b[0;32m---> 28\u001b[0m \u001b[38;5;28mself\u001b[39m\u001b[38;5;241m.\u001b[39mpos_embedding_adder_input \u001b[38;5;241m=\u001b[39m \u001b[43mAddPositionalEmbedding\u001b[49m(name\u001b[38;5;241m=\u001b[39m\u001b[38;5;124m'\u001b[39m\u001b[38;5;124madd_pos_embedding_input\u001b[39m\u001b[38;5;124m'\u001b[39m)\n\u001b[1;32m     29\u001b[0m \u001b[38;5;28mself\u001b[39m\u001b[38;5;241m.\u001b[39mpos_embedding_adder_target \u001b[38;5;241m=\u001b[39m AddPositionalEmbedding(name\u001b[38;5;241m=\u001b[39m\u001b[38;5;124m'\u001b[39m\u001b[38;5;124madd_pos_embedding_target\u001b[39m\u001b[38;5;124m'\u001b[39m)\n\u001b[1;32m     31\u001b[0m \u001b[38;5;28mself\u001b[39m\u001b[38;5;241m.\u001b[39mencoder \u001b[38;5;241m=\u001b[39m Encoder(num_layers\u001b[38;5;241m=\u001b[39mnum_layers, num_heads\u001b[38;5;241m=\u001b[39mnum_heads, dff\u001b[38;5;241m=\u001b[39mdff, dropout_rate\u001b[38;5;241m=\u001b[39mdropout_rate, name\u001b[38;5;241m=\u001b[39m\u001b[38;5;124m'\u001b[39m\u001b[38;5;124mencoder\u001b[39m\u001b[38;5;124m'\u001b[39m)\n",
      "\u001b[0;31mNameError\u001b[0m: name 'AddPositionalEmbedding' is not defined"
     ]
    }
   ],
   "source": [
    "cross_attention_schemes = [\n",
    "    {'key': -1, 'query': 0, 'value': 0}, # cross-attention scheme for encoder-decoder\n",
    "    {'key': 1, 'query': 1, 'value': -1} # cross-attention scheme for abstracter-decoder\n",
    "    ]\n",
    "\n",
    "argsort_model = Seq2SeqMultiAttentionSensoryConnectedAbstracter(\n",
    "    num_layers=2, num_heads=2, dff=64, \n",
    "    input_vocab='vector', target_vocab=seqs_length+1, output_dim=seqs_length,\n",
    "    embedding_dim=64, cross_attention_schemes=cross_attention_schemes)\n",
    "\n",
    "argsort_model.compile(loss=loss, optimizer=create_opt(), metrics=metrics)\n",
    "argsort_model((object_seqs_train[:32], target_train[:32]));\n",
    "\n",
    "argsort_model.summary()"
   ]
  },
  {
   "cell_type": "code",
   "execution_count": 13,
   "metadata": {},
   "outputs": [
    {
     "data": {
      "text/html": [
       "wandb version 0.13.10 is available!  To upgrade, please run:\n",
       " $ pip install wandb --upgrade"
      ],
      "text/plain": [
       "<IPython.core.display.HTML object>"
      ]
     },
     "metadata": {},
     "output_type": "display_data"
    },
    {
     "data": {
      "text/html": [
       "Tracking run with wandb version 0.13.9"
      ],
      "text/plain": [
       "<IPython.core.display.HTML object>"
      ]
     },
     "metadata": {},
     "output_type": "display_data"
    },
    {
     "data": {
      "text/html": [
       "Run data is saved locally in <code>/vast/palmer/home.grace/ma2393/Documents/relational/experiments/abstracter_generalization_arg_sort/wandb/run-20230226_214032-k3fouvpm</code>"
      ],
      "text/plain": [
       "<IPython.core.display.HTML object>"
      ]
     },
     "metadata": {},
     "output_type": "display_data"
    },
    {
     "data": {
      "text/html": [
       "Syncing run <strong><a href=\"https://wandb.ai/awni00/dev_abstracter_sorting_generalization/runs/k3fouvpm\" target=\"_blank\">major-wood-2</a></strong> to <a href=\"https://wandb.ai/awni00/dev_abstracter_sorting_generalization\" target=\"_blank\">Weights & Biases</a> (<a href=\"https://wandb.me/run\" target=\"_blank\">docs</a>)<br/>"
      ],
      "text/plain": [
       "<IPython.core.display.HTML object>"
      ]
     },
     "metadata": {},
     "output_type": "display_data"
    },
    {
     "data": {
      "text/html": [
       " View project at <a href=\"https://wandb.ai/awni00/dev_abstracter_sorting_generalization\" target=\"_blank\">https://wandb.ai/awni00/dev_abstracter_sorting_generalization</a>"
      ],
      "text/plain": [
       "<IPython.core.display.HTML object>"
      ]
     },
     "metadata": {},
     "output_type": "display_data"
    },
    {
     "data": {
      "text/html": [
       " View run at <a href=\"https://wandb.ai/awni00/dev_abstracter_sorting_generalization/runs/k3fouvpm\" target=\"_blank\">https://wandb.ai/awni00/dev_abstracter_sorting_generalization/runs/k3fouvpm</a>"
      ],
      "text/plain": [
       "<IPython.core.display.HTML object>"
      ]
     },
     "metadata": {},
     "output_type": "display_data"
    },
    {
     "name": "stdout",
     "output_type": "stream",
     "text": [
      "Epoch 1/200\n",
      "40/40 [==============================] - 9s 83ms/step - loss: 2.3758 - teacher_forcing_accuracy: 0.1092 - val_loss: 2.2706 - val_teacher_forcing_accuracy: 0.1291\n",
      "Epoch 2/200\n",
      "40/40 [==============================] - 2s 50ms/step - loss: 2.2192 - teacher_forcing_accuracy: 0.1521 - val_loss: 1.9987 - val_teacher_forcing_accuracy: 0.2425\n",
      "Epoch 3/200\n",
      "40/40 [==============================] - 2s 51ms/step - loss: 1.9301 - teacher_forcing_accuracy: 0.2501 - val_loss: 1.6855 - val_teacher_forcing_accuracy: 0.3197\n",
      "Epoch 4/200\n",
      "40/40 [==============================] - 2s 51ms/step - loss: 1.7219 - teacher_forcing_accuracy: 0.3131 - val_loss: 1.5328 - val_teacher_forcing_accuracy: 0.3658\n",
      "Epoch 5/200\n",
      "40/40 [==============================] - 2s 50ms/step - loss: 1.5867 - teacher_forcing_accuracy: 0.3540 - val_loss: 1.4496 - val_teacher_forcing_accuracy: 0.3950\n",
      "Epoch 6/200\n",
      "40/40 [==============================] - 2s 52ms/step - loss: 1.5124 - teacher_forcing_accuracy: 0.3855 - val_loss: 1.3900 - val_teacher_forcing_accuracy: 0.4229\n",
      "Epoch 7/200\n",
      "40/40 [==============================] - 2s 50ms/step - loss: 1.4609 - teacher_forcing_accuracy: 0.4055 - val_loss: 1.3398 - val_teacher_forcing_accuracy: 0.4469\n",
      "Epoch 8/200\n",
      "40/40 [==============================] - 2s 51ms/step - loss: 1.4192 - teacher_forcing_accuracy: 0.4212 - val_loss: 1.2857 - val_teacher_forcing_accuracy: 0.4747\n",
      "Epoch 9/200\n",
      "40/40 [==============================] - 2s 51ms/step - loss: 1.3743 - teacher_forcing_accuracy: 0.4434 - val_loss: 1.2371 - val_teacher_forcing_accuracy: 0.4954\n",
      "Epoch 10/200\n",
      "40/40 [==============================] - 2s 51ms/step - loss: 1.3346 - teacher_forcing_accuracy: 0.4643 - val_loss: 1.2122 - val_teacher_forcing_accuracy: 0.5084\n",
      "Epoch 11/200\n",
      "40/40 [==============================] - 2s 52ms/step - loss: 1.3129 - teacher_forcing_accuracy: 0.4748 - val_loss: 1.1832 - val_teacher_forcing_accuracy: 0.5263\n",
      "Epoch 12/200\n",
      "40/40 [==============================] - 2s 50ms/step - loss: 1.2860 - teacher_forcing_accuracy: 0.4871 - val_loss: 1.1108 - val_teacher_forcing_accuracy: 0.5696\n",
      "Epoch 13/200\n",
      "40/40 [==============================] - 2s 50ms/step - loss: 1.2105 - teacher_forcing_accuracy: 0.5254 - val_loss: 0.9613 - val_teacher_forcing_accuracy: 0.6227\n",
      "Epoch 14/200\n",
      "40/40 [==============================] - 2s 50ms/step - loss: 1.0918 - teacher_forcing_accuracy: 0.5700 - val_loss: 0.8165 - val_teacher_forcing_accuracy: 0.6767\n",
      "Epoch 15/200\n",
      "40/40 [==============================] - 2s 51ms/step - loss: 1.0069 - teacher_forcing_accuracy: 0.6030 - val_loss: 0.7274 - val_teacher_forcing_accuracy: 0.7126\n",
      "Epoch 16/200\n",
      "40/40 [==============================] - 2s 51ms/step - loss: 0.9473 - teacher_forcing_accuracy: 0.6236 - val_loss: 0.6783 - val_teacher_forcing_accuracy: 0.7308\n",
      "Epoch 17/200\n",
      "40/40 [==============================] - 2s 50ms/step - loss: 0.9136 - teacher_forcing_accuracy: 0.6374 - val_loss: 0.6600 - val_teacher_forcing_accuracy: 0.7347\n",
      "Epoch 18/200\n",
      "40/40 [==============================] - 2s 49ms/step - loss: 0.9025 - teacher_forcing_accuracy: 0.6426 - val_loss: 0.6399 - val_teacher_forcing_accuracy: 0.7468\n",
      "Epoch 19/200\n",
      "40/40 [==============================] - 2s 53ms/step - loss: 0.8548 - teacher_forcing_accuracy: 0.6613 - val_loss: 0.6011 - val_teacher_forcing_accuracy: 0.7603\n",
      "Epoch 20/200\n",
      "40/40 [==============================] - 2s 50ms/step - loss: 0.8288 - teacher_forcing_accuracy: 0.6716 - val_loss: 0.5753 - val_teacher_forcing_accuracy: 0.7701\n",
      "Epoch 21/200\n",
      "40/40 [==============================] - 2s 51ms/step - loss: 0.8018 - teacher_forcing_accuracy: 0.6809 - val_loss: 0.5664 - val_teacher_forcing_accuracy: 0.7724\n",
      "Epoch 22/200\n",
      "40/40 [==============================] - 2s 52ms/step - loss: 0.8073 - teacher_forcing_accuracy: 0.6772 - val_loss: 0.5563 - val_teacher_forcing_accuracy: 0.7804\n",
      "Epoch 23/200\n",
      "40/40 [==============================] - 2s 52ms/step - loss: 0.7816 - teacher_forcing_accuracy: 0.6902 - val_loss: 0.5290 - val_teacher_forcing_accuracy: 0.7883\n",
      "Epoch 24/200\n",
      "40/40 [==============================] - 2s 52ms/step - loss: 0.7661 - teacher_forcing_accuracy: 0.6949 - val_loss: 0.5241 - val_teacher_forcing_accuracy: 0.7930\n",
      "Epoch 25/200\n",
      "40/40 [==============================] - 2s 50ms/step - loss: 0.7503 - teacher_forcing_accuracy: 0.7009 - val_loss: 0.5159 - val_teacher_forcing_accuracy: 0.7944\n",
      "Epoch 26/200\n",
      "40/40 [==============================] - 2s 51ms/step - loss: 0.7348 - teacher_forcing_accuracy: 0.7066 - val_loss: 0.5001 - val_teacher_forcing_accuracy: 0.8006\n",
      "Epoch 27/200\n",
      "40/40 [==============================] - 2s 51ms/step - loss: 0.7169 - teacher_forcing_accuracy: 0.7143 - val_loss: 0.4980 - val_teacher_forcing_accuracy: 0.8007\n",
      "Epoch 28/200\n",
      "40/40 [==============================] - 2s 51ms/step - loss: 0.7227 - teacher_forcing_accuracy: 0.7132 - val_loss: 0.4847 - val_teacher_forcing_accuracy: 0.8071\n",
      "Epoch 29/200\n",
      "40/40 [==============================] - 2s 51ms/step - loss: 0.6979 - teacher_forcing_accuracy: 0.7205 - val_loss: 0.4952 - val_teacher_forcing_accuracy: 0.8010\n",
      "Epoch 30/200\n",
      "40/40 [==============================] - 2s 53ms/step - loss: 0.6959 - teacher_forcing_accuracy: 0.7236 - val_loss: 0.4515 - val_teacher_forcing_accuracy: 0.8224\n",
      "Epoch 31/200\n",
      "40/40 [==============================] - 2s 51ms/step - loss: 0.6828 - teacher_forcing_accuracy: 0.7280 - val_loss: 0.4560 - val_teacher_forcing_accuracy: 0.8184\n",
      "Epoch 32/200\n",
      "40/40 [==============================] - 2s 51ms/step - loss: 0.6738 - teacher_forcing_accuracy: 0.7309 - val_loss: 0.4610 - val_teacher_forcing_accuracy: 0.8173\n",
      "Epoch 33/200\n",
      "40/40 [==============================] - 2s 52ms/step - loss: 0.6609 - teacher_forcing_accuracy: 0.7356 - val_loss: 0.4383 - val_teacher_forcing_accuracy: 0.8286\n",
      "Epoch 34/200\n",
      "40/40 [==============================] - 2s 53ms/step - loss: 0.6465 - teacher_forcing_accuracy: 0.7413 - val_loss: 0.4321 - val_teacher_forcing_accuracy: 0.8296\n",
      "Epoch 35/200\n",
      "40/40 [==============================] - 2s 49ms/step - loss: 0.6489 - teacher_forcing_accuracy: 0.7429 - val_loss: 0.4341 - val_teacher_forcing_accuracy: 0.8282\n",
      "Epoch 36/200\n",
      "40/40 [==============================] - 2s 51ms/step - loss: 0.6423 - teacher_forcing_accuracy: 0.7440 - val_loss: 0.4447 - val_teacher_forcing_accuracy: 0.8201\n",
      "Epoch 37/200\n",
      "40/40 [==============================] - 2s 52ms/step - loss: 0.6156 - teacher_forcing_accuracy: 0.7562 - val_loss: 0.4202 - val_teacher_forcing_accuracy: 0.8327\n",
      "Epoch 38/200\n",
      "40/40 [==============================] - 2s 52ms/step - loss: 0.6190 - teacher_forcing_accuracy: 0.7543 - val_loss: 0.4017 - val_teacher_forcing_accuracy: 0.8425\n",
      "Epoch 39/200\n",
      "40/40 [==============================] - 2s 51ms/step - loss: 0.6118 - teacher_forcing_accuracy: 0.7571 - val_loss: 0.4142 - val_teacher_forcing_accuracy: 0.8335\n",
      "Epoch 40/200\n",
      "40/40 [==============================] - 2s 53ms/step - loss: 0.5998 - teacher_forcing_accuracy: 0.7605 - val_loss: 0.3912 - val_teacher_forcing_accuracy: 0.8490\n",
      "Epoch 41/200\n",
      "40/40 [==============================] - 2s 50ms/step - loss: 0.6004 - teacher_forcing_accuracy: 0.7626 - val_loss: 0.3775 - val_teacher_forcing_accuracy: 0.8544\n",
      "Epoch 42/200\n",
      "40/40 [==============================] - 2s 49ms/step - loss: 0.5849 - teacher_forcing_accuracy: 0.7674 - val_loss: 0.3782 - val_teacher_forcing_accuracy: 0.8520\n",
      "Epoch 43/200\n",
      "40/40 [==============================] - 2s 50ms/step - loss: 0.5913 - teacher_forcing_accuracy: 0.7641 - val_loss: 0.3819 - val_teacher_forcing_accuracy: 0.8517\n",
      "Epoch 44/200\n",
      "40/40 [==============================] - 2s 50ms/step - loss: 0.5754 - teacher_forcing_accuracy: 0.7730 - val_loss: 0.3583 - val_teacher_forcing_accuracy: 0.8621\n",
      "Epoch 45/200\n",
      "40/40 [==============================] - 2s 50ms/step - loss: 0.5681 - teacher_forcing_accuracy: 0.7730 - val_loss: 0.3536 - val_teacher_forcing_accuracy: 0.8642\n",
      "Epoch 46/200\n",
      "40/40 [==============================] - 2s 49ms/step - loss: 0.5614 - teacher_forcing_accuracy: 0.7779 - val_loss: 0.3634 - val_teacher_forcing_accuracy: 0.8593\n",
      "Epoch 47/200\n",
      "40/40 [==============================] - 2s 50ms/step - loss: 0.5536 - teacher_forcing_accuracy: 0.7798 - val_loss: 0.3457 - val_teacher_forcing_accuracy: 0.8642\n",
      "Epoch 48/200\n",
      "40/40 [==============================] - 2s 49ms/step - loss: 0.5474 - teacher_forcing_accuracy: 0.7848 - val_loss: 0.3463 - val_teacher_forcing_accuracy: 0.8690\n",
      "Epoch 49/200\n",
      "40/40 [==============================] - 2s 51ms/step - loss: 0.5516 - teacher_forcing_accuracy: 0.7832 - val_loss: 0.3429 - val_teacher_forcing_accuracy: 0.8672\n",
      "Epoch 50/200\n",
      "40/40 [==============================] - 2s 49ms/step - loss: 0.5385 - teacher_forcing_accuracy: 0.7881 - val_loss: 0.3315 - val_teacher_forcing_accuracy: 0.8698\n",
      "Epoch 51/200\n",
      "40/40 [==============================] - 2s 49ms/step - loss: 0.5270 - teacher_forcing_accuracy: 0.7920 - val_loss: 0.3436 - val_teacher_forcing_accuracy: 0.8655\n",
      "Epoch 52/200\n",
      "40/40 [==============================] - 2s 51ms/step - loss: 0.5382 - teacher_forcing_accuracy: 0.7875 - val_loss: 0.3537 - val_teacher_forcing_accuracy: 0.8596\n",
      "Epoch 53/200\n",
      "40/40 [==============================] - 2s 50ms/step - loss: 0.5203 - teacher_forcing_accuracy: 0.7963 - val_loss: 0.3123 - val_teacher_forcing_accuracy: 0.8794\n",
      "Epoch 54/200\n",
      "40/40 [==============================] - 2s 50ms/step - loss: 0.5192 - teacher_forcing_accuracy: 0.7937 - val_loss: 0.3204 - val_teacher_forcing_accuracy: 0.8754\n",
      "Epoch 55/200\n",
      "40/40 [==============================] - 2s 49ms/step - loss: 0.5093 - teacher_forcing_accuracy: 0.8007 - val_loss: 0.3126 - val_teacher_forcing_accuracy: 0.8795\n",
      "Epoch 56/200\n",
      "40/40 [==============================] - 2s 50ms/step - loss: 0.5053 - teacher_forcing_accuracy: 0.7992 - val_loss: 0.3067 - val_teacher_forcing_accuracy: 0.8832\n",
      "Epoch 57/200\n",
      "40/40 [==============================] - 2s 51ms/step - loss: 0.4995 - teacher_forcing_accuracy: 0.8041 - val_loss: 0.2984 - val_teacher_forcing_accuracy: 0.8858\n",
      "Epoch 58/200\n",
      "40/40 [==============================] - 2s 50ms/step - loss: 0.4907 - teacher_forcing_accuracy: 0.8060 - val_loss: 0.2901 - val_teacher_forcing_accuracy: 0.8882\n",
      "Epoch 59/200\n",
      "40/40 [==============================] - 2s 50ms/step - loss: 0.4897 - teacher_forcing_accuracy: 0.8077 - val_loss: 0.2997 - val_teacher_forcing_accuracy: 0.8845\n",
      "Epoch 60/200\n",
      "40/40 [==============================] - 2s 53ms/step - loss: 0.4968 - teacher_forcing_accuracy: 0.8073 - val_loss: 0.3068 - val_teacher_forcing_accuracy: 0.8801\n",
      "Epoch 61/200\n",
      "40/40 [==============================] - 2s 52ms/step - loss: 0.4842 - teacher_forcing_accuracy: 0.8080 - val_loss: 0.2913 - val_teacher_forcing_accuracy: 0.8873\n",
      "Epoch 62/200\n",
      "40/40 [==============================] - 2s 50ms/step - loss: 0.4733 - teacher_forcing_accuracy: 0.8156 - val_loss: 0.2872 - val_teacher_forcing_accuracy: 0.8892\n",
      "Epoch 63/200\n",
      "40/40 [==============================] - 2s 50ms/step - loss: 0.4790 - teacher_forcing_accuracy: 0.8116 - val_loss: 0.2805 - val_teacher_forcing_accuracy: 0.8939\n",
      "Epoch 64/200\n",
      "40/40 [==============================] - 2s 50ms/step - loss: 0.4715 - teacher_forcing_accuracy: 0.8161 - val_loss: 0.2782 - val_teacher_forcing_accuracy: 0.8937\n",
      "Epoch 65/200\n",
      "40/40 [==============================] - 2s 52ms/step - loss: 0.4587 - teacher_forcing_accuracy: 0.8219 - val_loss: 0.2599 - val_teacher_forcing_accuracy: 0.9033\n",
      "Epoch 66/200\n",
      "40/40 [==============================] - 2s 50ms/step - loss: 0.4509 - teacher_forcing_accuracy: 0.8232 - val_loss: 0.2668 - val_teacher_forcing_accuracy: 0.8995\n",
      "Epoch 67/200\n",
      "40/40 [==============================] - 2s 51ms/step - loss: 0.4661 - teacher_forcing_accuracy: 0.8173 - val_loss: 0.2800 - val_teacher_forcing_accuracy: 0.8910\n",
      "Epoch 68/200\n",
      "40/40 [==============================] - 2s 49ms/step - loss: 0.4536 - teacher_forcing_accuracy: 0.8224 - val_loss: 0.2613 - val_teacher_forcing_accuracy: 0.8989\n",
      "Epoch 69/200\n",
      "40/40 [==============================] - 2s 50ms/step - loss: 0.4407 - teacher_forcing_accuracy: 0.8292 - val_loss: 0.2518 - val_teacher_forcing_accuracy: 0.9018\n",
      "Epoch 70/200\n",
      "40/40 [==============================] - 2s 51ms/step - loss: 0.4417 - teacher_forcing_accuracy: 0.8278 - val_loss: 0.2572 - val_teacher_forcing_accuracy: 0.9020\n",
      "Epoch 71/200\n",
      "40/40 [==============================] - 2s 50ms/step - loss: 0.4323 - teacher_forcing_accuracy: 0.8321 - val_loss: 0.2440 - val_teacher_forcing_accuracy: 0.9079\n",
      "Epoch 72/200\n",
      "40/40 [==============================] - 2s 49ms/step - loss: 0.4396 - teacher_forcing_accuracy: 0.8298 - val_loss: 0.2515 - val_teacher_forcing_accuracy: 0.9028\n",
      "Epoch 73/200\n",
      "40/40 [==============================] - 2s 52ms/step - loss: 0.4179 - teacher_forcing_accuracy: 0.8391 - val_loss: 0.2434 - val_teacher_forcing_accuracy: 0.9065\n",
      "Epoch 74/200\n",
      "40/40 [==============================] - 2s 49ms/step - loss: 0.4320 - teacher_forcing_accuracy: 0.8331 - val_loss: 0.2504 - val_teacher_forcing_accuracy: 0.9043\n",
      "Epoch 75/200\n",
      "40/40 [==============================] - 2s 50ms/step - loss: 0.4138 - teacher_forcing_accuracy: 0.8414 - val_loss: 0.2470 - val_teacher_forcing_accuracy: 0.9038\n",
      "Epoch 76/200\n",
      "40/40 [==============================] - 2s 50ms/step - loss: 0.4236 - teacher_forcing_accuracy: 0.8340 - val_loss: 0.2293 - val_teacher_forcing_accuracy: 0.9137\n",
      "Epoch 77/200\n",
      "40/40 [==============================] - 2s 51ms/step - loss: 0.4099 - teacher_forcing_accuracy: 0.8406 - val_loss: 0.2247 - val_teacher_forcing_accuracy: 0.9157\n",
      "Epoch 78/200\n",
      "40/40 [==============================] - 2s 53ms/step - loss: 0.4045 - teacher_forcing_accuracy: 0.8458 - val_loss: 0.2330 - val_teacher_forcing_accuracy: 0.9104\n",
      "Epoch 79/200\n",
      "40/40 [==============================] - 2s 53ms/step - loss: 0.4176 - teacher_forcing_accuracy: 0.8392 - val_loss: 0.2127 - val_teacher_forcing_accuracy: 0.9241\n",
      "Epoch 80/200\n",
      "40/40 [==============================] - 2s 59ms/step - loss: 0.4029 - teacher_forcing_accuracy: 0.8442 - val_loss: 0.2086 - val_teacher_forcing_accuracy: 0.9236\n",
      "Epoch 81/200\n",
      "40/40 [==============================] - 2s 51ms/step - loss: 0.4098 - teacher_forcing_accuracy: 0.8418 - val_loss: 0.2179 - val_teacher_forcing_accuracy: 0.9178\n",
      "Epoch 82/200\n",
      "40/40 [==============================] - 2s 50ms/step - loss: 0.3917 - teacher_forcing_accuracy: 0.8498 - val_loss: 0.2167 - val_teacher_forcing_accuracy: 0.9179\n",
      "Epoch 83/200\n",
      "40/40 [==============================] - 2s 50ms/step - loss: 0.3889 - teacher_forcing_accuracy: 0.8507 - val_loss: 0.2178 - val_teacher_forcing_accuracy: 0.9168\n",
      "Epoch 84/200\n",
      "40/40 [==============================] - 2s 50ms/step - loss: 0.3913 - teacher_forcing_accuracy: 0.8480 - val_loss: 0.2105 - val_teacher_forcing_accuracy: 0.9207\n",
      "Epoch 85/200\n",
      "40/40 [==============================] - 2s 51ms/step - loss: 0.3944 - teacher_forcing_accuracy: 0.8473 - val_loss: 0.2133 - val_teacher_forcing_accuracy: 0.9225\n",
      "Epoch 86/200\n",
      "40/40 [==============================] - 2s 52ms/step - loss: 0.3897 - teacher_forcing_accuracy: 0.8496 - val_loss: 0.1943 - val_teacher_forcing_accuracy: 0.9291\n",
      "Epoch 87/200\n",
      "40/40 [==============================] - 2s 50ms/step - loss: 0.3751 - teacher_forcing_accuracy: 0.8559 - val_loss: 0.1924 - val_teacher_forcing_accuracy: 0.9293\n",
      "Epoch 88/200\n",
      "40/40 [==============================] - 2s 52ms/step - loss: 0.3748 - teacher_forcing_accuracy: 0.8559 - val_loss: 0.1955 - val_teacher_forcing_accuracy: 0.9280\n",
      "Epoch 89/200\n",
      "40/40 [==============================] - 2s 52ms/step - loss: 0.3804 - teacher_forcing_accuracy: 0.8544 - val_loss: 0.1876 - val_teacher_forcing_accuracy: 0.9321\n",
      "Epoch 90/200\n",
      "40/40 [==============================] - 2s 49ms/step - loss: 0.3644 - teacher_forcing_accuracy: 0.8601 - val_loss: 0.1931 - val_teacher_forcing_accuracy: 0.9297\n",
      "Epoch 91/200\n",
      "40/40 [==============================] - 2s 50ms/step - loss: 0.3748 - teacher_forcing_accuracy: 0.8566 - val_loss: 0.1861 - val_teacher_forcing_accuracy: 0.9323\n",
      "Epoch 92/200\n",
      "40/40 [==============================] - 2s 52ms/step - loss: 0.3554 - teacher_forcing_accuracy: 0.8649 - val_loss: 0.1821 - val_teacher_forcing_accuracy: 0.9324\n",
      "Epoch 93/200\n",
      "40/40 [==============================] - 2s 51ms/step - loss: 0.3499 - teacher_forcing_accuracy: 0.8654 - val_loss: 0.1788 - val_teacher_forcing_accuracy: 0.9333\n",
      "Epoch 94/200\n",
      "40/40 [==============================] - 2s 51ms/step - loss: 0.3668 - teacher_forcing_accuracy: 0.8594 - val_loss: 0.1749 - val_teacher_forcing_accuracy: 0.9377\n",
      "Epoch 95/200\n",
      "40/40 [==============================] - 2s 49ms/step - loss: 0.3606 - teacher_forcing_accuracy: 0.8634 - val_loss: 0.1799 - val_teacher_forcing_accuracy: 0.9349\n",
      "Epoch 96/200\n",
      "40/40 [==============================] - 2s 52ms/step - loss: 0.3560 - teacher_forcing_accuracy: 0.8648 - val_loss: 0.1662 - val_teacher_forcing_accuracy: 0.9415\n",
      "Epoch 97/200\n",
      "40/40 [==============================] - 2s 51ms/step - loss: 0.3382 - teacher_forcing_accuracy: 0.8703 - val_loss: 0.1691 - val_teacher_forcing_accuracy: 0.9391\n",
      "Epoch 98/200\n",
      "40/40 [==============================] - 2s 51ms/step - loss: 0.3487 - teacher_forcing_accuracy: 0.8670 - val_loss: 0.1703 - val_teacher_forcing_accuracy: 0.9389\n",
      "Epoch 99/200\n",
      "40/40 [==============================] - 2s 50ms/step - loss: 0.3426 - teacher_forcing_accuracy: 0.8703 - val_loss: 0.1648 - val_teacher_forcing_accuracy: 0.9412\n",
      "Epoch 100/200\n",
      "40/40 [==============================] - 2s 50ms/step - loss: 0.3395 - teacher_forcing_accuracy: 0.8710 - val_loss: 0.1548 - val_teacher_forcing_accuracy: 0.9459\n",
      "Epoch 101/200\n",
      "40/40 [==============================] - 2s 52ms/step - loss: 0.3414 - teacher_forcing_accuracy: 0.8694 - val_loss: 0.1732 - val_teacher_forcing_accuracy: 0.9361\n",
      "Epoch 102/200\n",
      "40/40 [==============================] - 2s 51ms/step - loss: 0.3409 - teacher_forcing_accuracy: 0.8696 - val_loss: 0.1642 - val_teacher_forcing_accuracy: 0.9417\n",
      "Epoch 103/200\n",
      "40/40 [==============================] - 2s 50ms/step - loss: 0.3434 - teacher_forcing_accuracy: 0.8683 - val_loss: 0.1585 - val_teacher_forcing_accuracy: 0.9432\n",
      "Epoch 104/200\n",
      "40/40 [==============================] - 2s 49ms/step - loss: 0.3327 - teacher_forcing_accuracy: 0.8728 - val_loss: 0.1589 - val_teacher_forcing_accuracy: 0.9436\n",
      "Epoch 105/200\n",
      "40/40 [==============================] - 2s 50ms/step - loss: 0.3298 - teacher_forcing_accuracy: 0.8758 - val_loss: 0.1616 - val_teacher_forcing_accuracy: 0.9426\n",
      "Epoch 106/200\n",
      "40/40 [==============================] - 2s 52ms/step - loss: 0.3225 - teacher_forcing_accuracy: 0.8764 - val_loss: 0.1410 - val_teacher_forcing_accuracy: 0.9516\n",
      "Epoch 107/200\n",
      "40/40 [==============================] - 2s 49ms/step - loss: 0.3198 - teacher_forcing_accuracy: 0.8779 - val_loss: 0.1464 - val_teacher_forcing_accuracy: 0.9478\n",
      "Epoch 108/200\n",
      "40/40 [==============================] - 2s 49ms/step - loss: 0.3223 - teacher_forcing_accuracy: 0.8772 - val_loss: 0.1549 - val_teacher_forcing_accuracy: 0.9440\n",
      "Epoch 109/200\n",
      "40/40 [==============================] - 2s 52ms/step - loss: 0.3264 - teacher_forcing_accuracy: 0.8755 - val_loss: 0.1415 - val_teacher_forcing_accuracy: 0.9513\n",
      "Epoch 110/200\n",
      "40/40 [==============================] - 2s 52ms/step - loss: 0.3103 - teacher_forcing_accuracy: 0.8830 - val_loss: 0.1460 - val_teacher_forcing_accuracy: 0.9477\n",
      "Epoch 111/200\n",
      "40/40 [==============================] - 2s 50ms/step - loss: 0.3261 - teacher_forcing_accuracy: 0.8760 - val_loss: 0.1370 - val_teacher_forcing_accuracy: 0.9535\n",
      "Epoch 112/200\n",
      "40/40 [==============================] - 2s 51ms/step - loss: 0.3169 - teacher_forcing_accuracy: 0.8815 - val_loss: 0.1326 - val_teacher_forcing_accuracy: 0.9547\n",
      "Epoch 113/200\n",
      "40/40 [==============================] - 2s 51ms/step - loss: 0.3107 - teacher_forcing_accuracy: 0.8825 - val_loss: 0.1333 - val_teacher_forcing_accuracy: 0.9537\n",
      "Epoch 114/200\n",
      "40/40 [==============================] - 2s 52ms/step - loss: 0.3028 - teacher_forcing_accuracy: 0.8839 - val_loss: 0.1397 - val_teacher_forcing_accuracy: 0.9520\n",
      "Epoch 115/200\n",
      "40/40 [==============================] - 2s 52ms/step - loss: 0.2927 - teacher_forcing_accuracy: 0.8896 - val_loss: 0.1286 - val_teacher_forcing_accuracy: 0.9562\n",
      "Epoch 116/200\n",
      "40/40 [==============================] - 2s 53ms/step - loss: 0.3072 - teacher_forcing_accuracy: 0.8847 - val_loss: 0.1271 - val_teacher_forcing_accuracy: 0.9562\n",
      "Epoch 117/200\n",
      "40/40 [==============================] - 2s 52ms/step - loss: 0.2894 - teacher_forcing_accuracy: 0.8908 - val_loss: 0.1218 - val_teacher_forcing_accuracy: 0.9582\n",
      "Epoch 118/200\n",
      "40/40 [==============================] - 2s 52ms/step - loss: 0.2875 - teacher_forcing_accuracy: 0.8914 - val_loss: 0.1135 - val_teacher_forcing_accuracy: 0.9628\n",
      "Epoch 119/200\n",
      "40/40 [==============================] - 2s 49ms/step - loss: 0.2830 - teacher_forcing_accuracy: 0.8933 - val_loss: 0.1275 - val_teacher_forcing_accuracy: 0.9549\n",
      "Epoch 120/200\n",
      "40/40 [==============================] - 2s 52ms/step - loss: 0.3044 - teacher_forcing_accuracy: 0.8858 - val_loss: 0.1165 - val_teacher_forcing_accuracy: 0.9617\n",
      "Epoch 121/200\n",
      "40/40 [==============================] - 2s 51ms/step - loss: 0.2953 - teacher_forcing_accuracy: 0.8886 - val_loss: 0.1266 - val_teacher_forcing_accuracy: 0.9554\n",
      "Epoch 122/200\n",
      "40/40 [==============================] - 2s 52ms/step - loss: 0.2949 - teacher_forcing_accuracy: 0.8895 - val_loss: 0.1181 - val_teacher_forcing_accuracy: 0.9604\n",
      "Epoch 123/200\n",
      "40/40 [==============================] - 2s 50ms/step - loss: 0.2910 - teacher_forcing_accuracy: 0.8924 - val_loss: 0.1164 - val_teacher_forcing_accuracy: 0.9602\n",
      "Epoch 124/200\n",
      "40/40 [==============================] - 2s 49ms/step - loss: 0.2780 - teacher_forcing_accuracy: 0.8956 - val_loss: 0.1036 - val_teacher_forcing_accuracy: 0.9675\n",
      "Epoch 125/200\n",
      "40/40 [==============================] - 2s 49ms/step - loss: 0.2768 - teacher_forcing_accuracy: 0.8955 - val_loss: 0.1251 - val_teacher_forcing_accuracy: 0.9557\n",
      "Epoch 126/200\n",
      "40/40 [==============================] - 2s 51ms/step - loss: 0.2847 - teacher_forcing_accuracy: 0.8937 - val_loss: 0.1064 - val_teacher_forcing_accuracy: 0.9653\n",
      "Epoch 127/200\n",
      "40/40 [==============================] - 2s 50ms/step - loss: 0.2706 - teacher_forcing_accuracy: 0.8973 - val_loss: 0.1037 - val_teacher_forcing_accuracy: 0.9654\n",
      "Epoch 128/200\n",
      "40/40 [==============================] - 2s 50ms/step - loss: 0.2652 - teacher_forcing_accuracy: 0.9009 - val_loss: 0.1086 - val_teacher_forcing_accuracy: 0.9634\n",
      "Epoch 129/200\n",
      "40/40 [==============================] - 2s 50ms/step - loss: 0.2701 - teacher_forcing_accuracy: 0.8977 - val_loss: 0.1096 - val_teacher_forcing_accuracy: 0.9626\n",
      "Epoch 130/200\n",
      "40/40 [==============================] - 2s 50ms/step - loss: 0.2692 - teacher_forcing_accuracy: 0.8983 - val_loss: 0.0952 - val_teacher_forcing_accuracy: 0.9689\n",
      "Epoch 131/200\n",
      "40/40 [==============================] - 2s 51ms/step - loss: 0.2611 - teacher_forcing_accuracy: 0.9029 - val_loss: 0.1114 - val_teacher_forcing_accuracy: 0.9623\n",
      "Epoch 132/200\n",
      "40/40 [==============================] - 2s 52ms/step - loss: 0.2638 - teacher_forcing_accuracy: 0.9001 - val_loss: 0.0993 - val_teacher_forcing_accuracy: 0.9675\n",
      "Epoch 133/200\n",
      "40/40 [==============================] - 2s 51ms/step - loss: 0.2625 - teacher_forcing_accuracy: 0.9015 - val_loss: 0.0989 - val_teacher_forcing_accuracy: 0.9671\n",
      "Epoch 134/200\n",
      "40/40 [==============================] - 2s 51ms/step - loss: 0.2728 - teacher_forcing_accuracy: 0.8985 - val_loss: 0.0972 - val_teacher_forcing_accuracy: 0.9687\n",
      "Epoch 135/200\n",
      "40/40 [==============================] - 2s 50ms/step - loss: 0.2599 - teacher_forcing_accuracy: 0.9036 - val_loss: 0.1110 - val_teacher_forcing_accuracy: 0.9615\n",
      "Epoch 136/200\n",
      "40/40 [==============================] - 2s 51ms/step - loss: 0.2667 - teacher_forcing_accuracy: 0.9005 - val_loss: 0.0939 - val_teacher_forcing_accuracy: 0.9702\n",
      "Epoch 137/200\n",
      "40/40 [==============================] - 2s 51ms/step - loss: 0.2618 - teacher_forcing_accuracy: 0.9018 - val_loss: 0.0995 - val_teacher_forcing_accuracy: 0.9676\n",
      "Epoch 138/200\n",
      "40/40 [==============================] - 2s 50ms/step - loss: 0.2553 - teacher_forcing_accuracy: 0.9041 - val_loss: 0.0937 - val_teacher_forcing_accuracy: 0.9688\n",
      "Epoch 139/200\n",
      "40/40 [==============================] - 2s 50ms/step - loss: 0.2603 - teacher_forcing_accuracy: 0.9037 - val_loss: 0.0855 - val_teacher_forcing_accuracy: 0.9739\n",
      "Epoch 140/200\n",
      "40/40 [==============================] - 2s 50ms/step - loss: 0.2491 - teacher_forcing_accuracy: 0.9066 - val_loss: 0.0882 - val_teacher_forcing_accuracy: 0.9722\n",
      "Epoch 141/200\n",
      "40/40 [==============================] - 2s 50ms/step - loss: 0.2545 - teacher_forcing_accuracy: 0.9062 - val_loss: 0.0988 - val_teacher_forcing_accuracy: 0.9669\n",
      "Epoch 142/200\n",
      "40/40 [==============================] - 2s 51ms/step - loss: 0.2576 - teacher_forcing_accuracy: 0.9046 - val_loss: 0.0869 - val_teacher_forcing_accuracy: 0.9719\n",
      "Epoch 143/200\n",
      "40/40 [==============================] - 2s 52ms/step - loss: 0.2405 - teacher_forcing_accuracy: 0.9114 - val_loss: 0.0895 - val_teacher_forcing_accuracy: 0.9710\n",
      "Epoch 144/200\n",
      "40/40 [==============================] - 2s 51ms/step - loss: 0.2457 - teacher_forcing_accuracy: 0.9101 - val_loss: 0.0909 - val_teacher_forcing_accuracy: 0.9711\n",
      "Epoch 145/200\n",
      "40/40 [==============================] - 2s 51ms/step - loss: 0.2454 - teacher_forcing_accuracy: 0.9084 - val_loss: 0.0812 - val_teacher_forcing_accuracy: 0.9754\n",
      "Epoch 146/200\n",
      "40/40 [==============================] - 2s 51ms/step - loss: 0.2424 - teacher_forcing_accuracy: 0.9094 - val_loss: 0.1027 - val_teacher_forcing_accuracy: 0.9655\n",
      "Epoch 147/200\n",
      "40/40 [==============================] - 2s 51ms/step - loss: 0.2585 - teacher_forcing_accuracy: 0.9043 - val_loss: 0.0792 - val_teacher_forcing_accuracy: 0.9755\n",
      "Epoch 148/200\n",
      "40/40 [==============================] - 2s 49ms/step - loss: 0.2506 - teacher_forcing_accuracy: 0.9069 - val_loss: 0.0806 - val_teacher_forcing_accuracy: 0.9756\n",
      "Epoch 149/200\n",
      "40/40 [==============================] - 2s 52ms/step - loss: 0.2320 - teacher_forcing_accuracy: 0.9142 - val_loss: 0.0805 - val_teacher_forcing_accuracy: 0.9741\n",
      "Epoch 150/200\n",
      "40/40 [==============================] - 2s 52ms/step - loss: 0.2350 - teacher_forcing_accuracy: 0.9137 - val_loss: 0.0881 - val_teacher_forcing_accuracy: 0.9711\n",
      "Epoch 151/200\n",
      "40/40 [==============================] - 2s 51ms/step - loss: 0.2313 - teacher_forcing_accuracy: 0.9145 - val_loss: 0.0743 - val_teacher_forcing_accuracy: 0.9764\n",
      "Epoch 152/200\n",
      "40/40 [==============================] - 2s 52ms/step - loss: 0.2352 - teacher_forcing_accuracy: 0.9124 - val_loss: 0.0824 - val_teacher_forcing_accuracy: 0.9730\n",
      "Epoch 153/200\n",
      "40/40 [==============================] - 2s 49ms/step - loss: 0.2385 - teacher_forcing_accuracy: 0.9116 - val_loss: 0.0920 - val_teacher_forcing_accuracy: 0.9693\n",
      "Epoch 154/200\n",
      "40/40 [==============================] - 2s 50ms/step - loss: 0.2333 - teacher_forcing_accuracy: 0.9121 - val_loss: 0.0768 - val_teacher_forcing_accuracy: 0.9761\n",
      "Epoch 155/200\n",
      "40/40 [==============================] - 2s 50ms/step - loss: 0.2319 - teacher_forcing_accuracy: 0.9147 - val_loss: 0.0774 - val_teacher_forcing_accuracy: 0.9761\n",
      "Epoch 156/200\n",
      "40/40 [==============================] - 2s 51ms/step - loss: 0.2332 - teacher_forcing_accuracy: 0.9155 - val_loss: 0.0732 - val_teacher_forcing_accuracy: 0.9779\n",
      "Epoch 157/200\n",
      "40/40 [==============================] - 2s 52ms/step - loss: 0.2265 - teacher_forcing_accuracy: 0.9171 - val_loss: 0.0807 - val_teacher_forcing_accuracy: 0.9744\n",
      "Epoch 158/200\n",
      "40/40 [==============================] - 2s 52ms/step - loss: 0.2505 - teacher_forcing_accuracy: 0.9077 - val_loss: 0.0821 - val_teacher_forcing_accuracy: 0.9739\n",
      "Epoch 159/200\n",
      "40/40 [==============================] - 2s 53ms/step - loss: 0.2265 - teacher_forcing_accuracy: 0.9157 - val_loss: 0.0669 - val_teacher_forcing_accuracy: 0.9804\n",
      "Epoch 160/200\n",
      "40/40 [==============================] - 2s 50ms/step - loss: 0.2269 - teacher_forcing_accuracy: 0.9161 - val_loss: 0.0748 - val_teacher_forcing_accuracy: 0.9768\n",
      "Epoch 161/200\n",
      "40/40 [==============================] - 2s 50ms/step - loss: 0.2218 - teacher_forcing_accuracy: 0.9172 - val_loss: 0.0649 - val_teacher_forcing_accuracy: 0.9799\n",
      "Epoch 162/200\n",
      "40/40 [==============================] - 2s 50ms/step - loss: 0.2146 - teacher_forcing_accuracy: 0.9208 - val_loss: 0.0756 - val_teacher_forcing_accuracy: 0.9761\n",
      "Epoch 163/200\n",
      "40/40 [==============================] - 2s 50ms/step - loss: 0.2274 - teacher_forcing_accuracy: 0.9160 - val_loss: 0.0664 - val_teacher_forcing_accuracy: 0.9800\n",
      "Epoch 164/200\n",
      "40/40 [==============================] - 2s 50ms/step - loss: 0.2122 - teacher_forcing_accuracy: 0.9216 - val_loss: 0.0712 - val_teacher_forcing_accuracy: 0.9784\n",
      "Epoch 165/200\n",
      "40/40 [==============================] - 2s 51ms/step - loss: 0.2084 - teacher_forcing_accuracy: 0.9240 - val_loss: 0.0625 - val_teacher_forcing_accuracy: 0.9802\n",
      "Epoch 166/200\n",
      "40/40 [==============================] - 2s 52ms/step - loss: 0.2036 - teacher_forcing_accuracy: 0.9251 - val_loss: 0.0584 - val_teacher_forcing_accuracy: 0.9817\n",
      "Epoch 167/200\n",
      "40/40 [==============================] - 2s 50ms/step - loss: 0.2084 - teacher_forcing_accuracy: 0.9235 - val_loss: 0.0669 - val_teacher_forcing_accuracy: 0.9804\n",
      "Epoch 168/200\n",
      "40/40 [==============================] - 2s 50ms/step - loss: 0.2182 - teacher_forcing_accuracy: 0.9195 - val_loss: 0.0669 - val_teacher_forcing_accuracy: 0.9793\n",
      "Epoch 169/200\n",
      "40/40 [==============================] - 2s 50ms/step - loss: 0.2129 - teacher_forcing_accuracy: 0.9209 - val_loss: 0.0732 - val_teacher_forcing_accuracy: 0.9761\n",
      "Epoch 170/200\n",
      "40/40 [==============================] - 2s 50ms/step - loss: 0.2231 - teacher_forcing_accuracy: 0.9174 - val_loss: 0.0666 - val_teacher_forcing_accuracy: 0.9798\n",
      "Epoch 171/200\n",
      "40/40 [==============================] - 2s 50ms/step - loss: 0.2050 - teacher_forcing_accuracy: 0.9241 - val_loss: 0.0647 - val_teacher_forcing_accuracy: 0.9796\n",
      "Epoch 172/200\n",
      "40/40 [==============================] - 2s 51ms/step - loss: 0.2053 - teacher_forcing_accuracy: 0.9249 - val_loss: 0.0643 - val_teacher_forcing_accuracy: 0.9808\n",
      "Epoch 173/200\n",
      "40/40 [==============================] - 2s 51ms/step - loss: 0.2178 - teacher_forcing_accuracy: 0.9196 - val_loss: 0.0579 - val_teacher_forcing_accuracy: 0.9831\n",
      "Epoch 174/200\n",
      "40/40 [==============================] - 2s 49ms/step - loss: 0.1967 - teacher_forcing_accuracy: 0.9287 - val_loss: 0.0585 - val_teacher_forcing_accuracy: 0.9819\n",
      "Epoch 175/200\n",
      "40/40 [==============================] - 2s 50ms/step - loss: 0.1891 - teacher_forcing_accuracy: 0.9303 - val_loss: 0.0539 - val_teacher_forcing_accuracy: 0.9837\n",
      "Epoch 176/200\n",
      "40/40 [==============================] - 2s 50ms/step - loss: 0.2029 - teacher_forcing_accuracy: 0.9271 - val_loss: 0.0579 - val_teacher_forcing_accuracy: 0.9828\n",
      "Epoch 177/200\n",
      "40/40 [==============================] - 2s 50ms/step - loss: 0.1989 - teacher_forcing_accuracy: 0.9275 - val_loss: 0.0658 - val_teacher_forcing_accuracy: 0.9792\n",
      "Epoch 178/200\n",
      "40/40 [==============================] - 2s 51ms/step - loss: 0.1935 - teacher_forcing_accuracy: 0.9294 - val_loss: 0.0590 - val_teacher_forcing_accuracy: 0.9816\n",
      "Epoch 179/200\n",
      "40/40 [==============================] - 2s 50ms/step - loss: 0.1932 - teacher_forcing_accuracy: 0.9305 - val_loss: 0.0487 - val_teacher_forcing_accuracy: 0.9858\n",
      "Epoch 180/200\n",
      "40/40 [==============================] - 2s 51ms/step - loss: 0.1968 - teacher_forcing_accuracy: 0.9277 - val_loss: 0.0577 - val_teacher_forcing_accuracy: 0.9833\n",
      "Epoch 181/200\n",
      "40/40 [==============================] - 2s 50ms/step - loss: 0.2041 - teacher_forcing_accuracy: 0.9256 - val_loss: 0.0639 - val_teacher_forcing_accuracy: 0.9810\n",
      "Epoch 182/200\n",
      "40/40 [==============================] - 2s 49ms/step - loss: 0.2033 - teacher_forcing_accuracy: 0.9247 - val_loss: 0.0539 - val_teacher_forcing_accuracy: 0.9839\n",
      "Epoch 183/200\n",
      "40/40 [==============================] - 2s 49ms/step - loss: 0.1962 - teacher_forcing_accuracy: 0.9286 - val_loss: 0.0516 - val_teacher_forcing_accuracy: 0.9851\n",
      "Epoch 184/200\n",
      "40/40 [==============================] - 2s 52ms/step - loss: 0.1966 - teacher_forcing_accuracy: 0.9278 - val_loss: 0.0585 - val_teacher_forcing_accuracy: 0.9824\n",
      "Epoch 185/200\n",
      "40/40 [==============================] - 2s 53ms/step - loss: 0.1881 - teacher_forcing_accuracy: 0.9314 - val_loss: 0.0460 - val_teacher_forcing_accuracy: 0.9868\n",
      "Epoch 186/200\n",
      "40/40 [==============================] - 2s 50ms/step - loss: 0.1888 - teacher_forcing_accuracy: 0.9306 - val_loss: 0.0525 - val_teacher_forcing_accuracy: 0.9842\n",
      "Epoch 187/200\n",
      "40/40 [==============================] - 2s 50ms/step - loss: 0.1836 - teacher_forcing_accuracy: 0.9339 - val_loss: 0.0524 - val_teacher_forcing_accuracy: 0.9842\n",
      "Epoch 188/200\n",
      "40/40 [==============================] - 2s 50ms/step - loss: 0.1925 - teacher_forcing_accuracy: 0.9301 - val_loss: 0.0512 - val_teacher_forcing_accuracy: 0.9851\n",
      "Epoch 189/200\n",
      "40/40 [==============================] - 2s 51ms/step - loss: 0.1954 - teacher_forcing_accuracy: 0.9280 - val_loss: 0.0508 - val_teacher_forcing_accuracy: 0.9851\n",
      "Epoch 190/200\n",
      "40/40 [==============================] - 2s 51ms/step - loss: 0.1679 - teacher_forcing_accuracy: 0.9379 - val_loss: 0.0439 - val_teacher_forcing_accuracy: 0.9876\n",
      "Epoch 191/200\n",
      "40/40 [==============================] - 2s 51ms/step - loss: 0.2033 - teacher_forcing_accuracy: 0.9259 - val_loss: 0.0477 - val_teacher_forcing_accuracy: 0.9865\n",
      "Epoch 192/200\n",
      "40/40 [==============================] - 2s 50ms/step - loss: 0.1885 - teacher_forcing_accuracy: 0.9308 - val_loss: 0.0538 - val_teacher_forcing_accuracy: 0.9836\n",
      "Epoch 193/200\n",
      "40/40 [==============================] - 2s 51ms/step - loss: 0.1842 - teacher_forcing_accuracy: 0.9333 - val_loss: 0.0430 - val_teacher_forcing_accuracy: 0.9878\n",
      "Epoch 194/200\n",
      "40/40 [==============================] - 2s 51ms/step - loss: 0.1833 - teacher_forcing_accuracy: 0.9323 - val_loss: 0.0490 - val_teacher_forcing_accuracy: 0.9843\n",
      "Epoch 195/200\n",
      "40/40 [==============================] - 2s 52ms/step - loss: 0.1867 - teacher_forcing_accuracy: 0.9321 - val_loss: 0.0480 - val_teacher_forcing_accuracy: 0.9862\n",
      "Epoch 196/200\n",
      "40/40 [==============================] - 2s 53ms/step - loss: 0.1892 - teacher_forcing_accuracy: 0.9304 - val_loss: 0.0418 - val_teacher_forcing_accuracy: 0.9884\n",
      "Epoch 197/200\n",
      "40/40 [==============================] - 2s 51ms/step - loss: 0.1730 - teacher_forcing_accuracy: 0.9370 - val_loss: 0.0423 - val_teacher_forcing_accuracy: 0.9880\n",
      "Epoch 198/200\n",
      "40/40 [==============================] - 2s 51ms/step - loss: 0.1661 - teacher_forcing_accuracy: 0.9390 - val_loss: 0.0441 - val_teacher_forcing_accuracy: 0.9864\n",
      "Epoch 199/200\n",
      "40/40 [==============================] - 2s 52ms/step - loss: 0.1841 - teacher_forcing_accuracy: 0.9320 - val_loss: 0.0465 - val_teacher_forcing_accuracy: 0.9866\n",
      "Epoch 200/200\n",
      "40/40 [==============================] - 2s 50ms/step - loss: 0.1666 - teacher_forcing_accuracy: 0.9389 - val_loss: 0.0492 - val_teacher_forcing_accuracy: 0.9854\n"
     ]
    }
   ],
   "source": [
    "train_size = 5000 # len(seqs_train)\n",
    "X_train = object_seqs_train[:train_size], target_train[:train_size]\n",
    "y_train = labels_train[:train_size]\n",
    "\n",
    "X_val = object_seqs_val, target_val\n",
    "y_val = labels_val\n",
    "\n",
    "run = wandb.init(project=wandb_project_name, group='Sensory-Connected Abstracter, Task 1')\n",
    "history = argsort_model.fit(X_train, y_train, validation_data=(X_val, y_val), verbose=1, callbacks=create_callbacks(), **fit_kwargs)"
   ]
  },
  {
   "cell_type": "code",
   "execution_count": 14,
   "metadata": {},
   "outputs": [
    {
     "data": {
      "image/png": "[encoded data removed]",
      "text/plain": [
       "<Figure size 640x480 with 2 Axes>"
      ]
     },
     "metadata": {},
     "output_type": "display_data"
    }
   ],
   "source": [
    "utils.plot_history(history, ('loss', 'teacher_forcing_accuracy'));"
   ]
  },
  {
   "cell_type": "code",
   "execution_count": 15,
   "metadata": {},
   "outputs": [
    {
     "name": "stdout",
     "output_type": "stream",
     "text": [
      "element-wise accuracy: 96.96%\n",
      "full sequence accuracy: 86.53%\n",
      "teacher-forcing accuracy:  98.55%\n"
     ]
    }
   ],
   "source": [
    "eval_dict = evaluate_seq2seq_model(argsort_model, object_seqs_train, target_train, labels_train, \n",
    "    start_token=start_token, print_=True)"
   ]
  },
  {
   "cell_type": "code",
   "execution_count": 16,
   "metadata": {},
   "outputs": [
    {
     "name": "stdout",
     "output_type": "stream",
     "text": [
      "element-wise accuracy: 96.74%\n",
      "full sequence accuracy: 85.62%\n",
      "teacher-forcing accuracy:  98.46%\n"
     ]
    },
    {
     "data": {
      "text/html": [
       "Waiting for W&B process to finish... <strong style=\"color:green\">(success).</strong>"
      ],
      "text/plain": [
       "<IPython.core.display.HTML object>"
      ]
     },
     "metadata": {},
     "output_type": "display_data"
    },
    {
     "data": {
      "application/vnd.jupyter.widget-view+json": {
       "model_id": "b7c4e388f8a948b8a5b26e5756a4d606",
       "version_major": 2,
       "version_minor": 0
      },
      "text/plain": [
       "VBox(children=(Label(value='0.067 MB of 0.067 MB uploaded (0.000 MB deduped)\\r'), FloatProgress(value=0.997059…"
      ]
     },
     "metadata": {},
     "output_type": "display_data"
    },
    {
     "data": {
      "text/html": [
       " View run <strong style=\"color:#cdcd00\">major-wood-2</strong> at: <a href=\"https://wandb.ai/awni00/dev_abstracter_sorting_generalization/runs/k3fouvpm\" target=\"_blank\">https://wandb.ai/awni00/dev_abstracter_sorting_generalization/runs/k3fouvpm</a><br/>Synced 6 W&B file(s), 1 media file(s), 1 artifact file(s) and 1 other file(s)"
      ],
      "text/plain": [
       "<IPython.core.display.HTML object>"
      ]
     },
     "metadata": {},
     "output_type": "display_data"
    }
   ],
   "source": [
    "eval_dict = evaluate_seq2seq_model(argsort_model, object_seqs_test, target_test, labels_test, \n",
    "    start_token=start_token, print_=True)\n",
    "log_to_wandb(argsort_model, eval_dict)\n",
    "wandb.finish(quiet=True)"
   ]
  },
  {
   "cell_type": "markdown",
   "metadata": {},
   "source": [
    "## Task 2: Training Seq2Seq Sensory-Connected Abstracter with Frozen Abstracter Module"
   ]
  },
  {
   "cell_type": "code",
   "execution_count": 8,
   "metadata": {},
   "outputs": [],
   "source": [
    "task1_data = np.load('object_sorting_datasets/task1_object_sort_dataset.npy', allow_pickle=True).item()\n",
    "\n",
    "objects, seqs, sorted_seqs, object_seqs, target, labels, start_token = (task1_data['objects'], task1_data['seqs'], task1_data['sorted_seqs'], task1_data['object_seqs'], \\\n",
    "    task1_data['target'], task1_data['labels'], task1_data['start_token'])\n",
    "\n",
    "test_size = 0.2\n",
    "val_size = 0.1\n",
    "\n",
    "seqs_train, seqs_test, sorted_seqs_train, sorted_seqs_test, object_seqs_train, object_seqs_test, target_train, target_test, labels_train, labels_test = train_test_split(\n",
    "    seqs, sorted_seqs, object_seqs, target, labels, test_size=0.2, random_state=seed)\n",
    "seqs_train, seqs_val, sorted_seqs_train, sorted_seqs_val, object_seqs_train, object_seqs_val, target_train, target_val, labels_train, labels_val = train_test_split(\n",
    "    seqs_train, sorted_seqs_train, object_seqs_train, target_train, labels_train, test_size=val_size/(1-test_size), random_state=seed)\n",
    "\n",
    "seqs_length = seqs.shape[1]"
   ]
  },
  {
   "cell_type": "code",
   "execution_count": 9,
   "metadata": {},
   "outputs": [
    {
     "name": "stdout",
     "output_type": "stream",
     "text": [
      "Model: \"seq2seq_sensory_connected_abstracter\"\n",
      "_________________________________________________________________\n",
      " Layer (type)                Output Shape              Param #   \n",
      "=================================================================\n",
      " source_embedder (TimeDistri  multiple                 576       \n",
      " buted)                                                          \n",
      "                                                                 \n",
      " target_embedder (Embedding)  multiple                 704       \n",
      "                                                                 \n",
      " add_pos_embedding_input (Ad  multiple                 0         \n",
      " dPositionalEmbedding)                                           \n",
      "                                                                 \n",
      " add_pos_embedding_target (A  multiple                 0         \n",
      " ddPositionalEmbedding)                                          \n",
      "                                                                 \n",
      " encoder (Encoder)           multiple                  83584     \n",
      "                                                                 \n",
      " abstracter (RelationalAbstr  multiple                 150912    \n",
      " acter)                                                          \n",
      "                                                                 \n",
      " decoder (ContextDecoder)    multiple                  150272    \n",
      "                                                                 \n",
      " final_layer (Dense)         multiple                  650       \n",
      "                                                                 \n",
      "=================================================================\n",
      "Total params: 386,698\n",
      "Trainable params: 386,698\n",
      "Non-trainable params: 0\n",
      "_________________________________________________________________\n"
     ]
    }
   ],
   "source": [
    "from seq2seq_abstracter_models import Seq2SeqSensoryConnectedAbstracter\n",
    "\n",
    "argsort_model2 = Seq2SeqSensoryConnectedAbstracter(\n",
    "    num_layers=2, num_heads=2, dff=64, \n",
    "    input_vocab='vector', target_vocab=seqs_length+1, output_dim=seqs_length,\n",
    "    embedding_dim=64)\n",
    "\n",
    "argsort_model2.compile(loss=loss, optimizer=create_opt(), metrics=metrics)\n",
    "argsort_model2((object_seqs_train[:32], target_train[:32]));\n",
    "\n",
    "argsort_model2.summary()"
   ]
  },
  {
   "cell_type": "code",
   "execution_count": 17,
   "metadata": {},
   "outputs": [
    {
     "name": "stdout",
     "output_type": "stream",
     "text": [
      "['_TF_MODULE_IGNORED_PROPERTIES', '__call__', '__class__', '__delattr__', '__dict__', '__dir__', '__doc__', '__eq__', '__format__', '__ge__', '__getattribute__', '__getstate__', '__gt__', '__hash__', '__init__', '__init_subclass__', '__le__', '__lt__', '__module__', '__ne__', '__new__', '__reduce__', '__reduce_ex__', '__repr__', '__setattr__', '__setstate__', '__sizeof__', '__str__', '__subclasshook__', '__weakref__', '_activity_regularizer', '_add_trackable', '_add_trackable_child', '_add_variable_with_custom_getter', '_auto_track_sub_layers', '_autocast', '_autographed_call', '_build_input_shape', '_call_spec', '_callable_losses', '_captured_weight_regularizer', '_cast_single_input', '_checkpoint_dependencies', '_clear_losses', '_compute_dtype', '_compute_dtype_object', '_dedup_weights', '_deferred_dependencies', '_delete_tracking', '_deserialization_dependencies', '_deserialize_from_proto', '_dtype', '_dtype_policy', '_dynamic', '_eager_losses', '_expects_mask_arg', '_expects_training_arg', '_export_to_saved_model_graph', '_flatten', '_flatten_layers', '_flatten_modules', '_functional_construction_call', '_gather_children_attribute', '_gather_saveables_for_checkpoint', '_get_cell_name', '_get_existing_metric', '_get_input_masks', '_get_node_attribute_at_index', '_get_save_spec', '_get_trainable_state', '_get_unnested_name_scope', '_handle_activity_regularization', '_handle_deferred_dependencies', '_handle_weight_regularization', '_inbound_nodes', '_inbound_nodes_value', '_infer_output_signature', '_init_call_fn_args', '_init_set_name', '_initial_weights', '_input_spec', '_instrument_layer_creation', '_instrumented_keras_api', '_instrumented_keras_layer_class', '_instrumented_keras_model_class', '_is_layer', '_keras_api_names', '_keras_api_names_v1', '_keras_tensor_symbolic_call', '_lookup_dependency', '_losses', '_map_resources', '_maybe_build', '_maybe_cast_inputs', '_maybe_create_attribute', '_maybe_initialize_trackable', '_metrics', '_metrics_lock', '_must_restore_from_config', '_name', '_name_based_attribute_restore', '_name_based_restores', '_name_scope', '_name_scope_on_declaration', '_no_dependency', '_non_trainable_weights', '_obj_reference_counts', '_obj_reference_counts_dict', '_object_identifier', '_outbound_nodes', '_outbound_nodes_value', '_preload_simple_restoration', '_preserve_input_structure_in_config', '_restore_from_tensors', '_saved_model_arg_spec', '_saved_model_inputs_spec', '_self_name_based_restores', '_self_saveable_object_factories', '_self_setattr_tracking', '_self_tracked_trackables', '_self_unconditional_checkpoint_dependencies', '_self_unconditional_deferred_dependencies', '_self_unconditional_dependency_names', '_self_update_uid', '_serialize_to_proto', '_serialize_to_tensors', '_set_connectivity_metadata', '_set_dtype_policy', '_set_mask_keras_history_checked', '_set_mask_metadata', '_set_save_spec', '_set_trainable_state', '_set_training_mode', '_setattr_tracking', '_should_cast_single_input', '_stateful', '_supports_masking', '_tf_api_names', '_tf_api_names_v1', '_thread_local', '_track_trackable', '_trackable_children', '_trackable_saved_model_saver', '_tracking_metadata', '_trainable', '_trainable_weights', '_unconditional_checkpoint_dependencies', '_unconditional_dependency_names', '_update_uid', '_updates', '_use_input_spec_as_call_signature', 'activity_regularizer', 'add', 'add_loss', 'add_metric', 'add_update', 'add_variable', 'add_weight', 'build', 'built', 'call', 'compute_dtype', 'compute_mask', 'compute_output_shape', 'compute_output_signature', 'count_params', 'dtype', 'dtype_policy', 'dynamic', 'finalize_state', 'from_config', 'get_config', 'get_input_at', 'get_input_mask_at', 'get_input_shape_at', 'get_output_at', 'get_output_mask_at', 'get_output_shape_at', 'get_weights', 'inbound_nodes', 'input', 'input_mask', 'input_shape', 'input_spec', 'last_attn_scores', 'layernorm', 'losses', 'metrics', 'mha', 'name', 'name_scope', 'non_trainable_variables', 'non_trainable_weights', 'outbound_nodes', 'output', 'output_mask', 'output_shape', 'set_weights', 'stateful', 'submodules', 'supports_masking', 'trainable', 'trainable_variables', 'trainable_weights', 'updates', 'variable_dtype', 'variables', 'weights', 'with_name_scope']\n"
     ]
    }
   ],
   "source": [
    "print(dir(argsort_model.abstracter.abstracter_layers[0].episodic_attention))"
   ]
  },
  {
   "cell_type": "code",
   "execution_count": 30,
   "metadata": {},
   "outputs": [
    {
     "data": {
      "text/plain": [
       "['seq2seq_sensory_connected_abstracter/abstracter/relational_abstracter_layer/relational_attention/multi_head_attention_3/query/kernel:0',\n",
       " 'seq2seq_sensory_connected_abstracter/abstracter/relational_abstracter_layer/relational_attention/multi_head_attention_3/query/bias:0',\n",
       " 'seq2seq_sensory_connected_abstracter/abstracter/relational_abstracter_layer/relational_attention/multi_head_attention_3/key/kernel:0',\n",
       " 'seq2seq_sensory_connected_abstracter/abstracter/relational_abstracter_layer/relational_attention/multi_head_attention_3/key/bias:0',\n",
       " 'seq2seq_sensory_connected_abstracter/abstracter/relational_abstracter_layer/relational_attention/multi_head_attention_3/value/kernel:0',\n",
       " 'seq2seq_sensory_connected_abstracter/abstracter/relational_abstracter_layer/relational_attention/multi_head_attention_3/value/bias:0',\n",
       " 'seq2seq_sensory_connected_abstracter/abstracter/relational_abstracter_layer/relational_attention/multi_head_attention_3/attention_output/kernel:0',\n",
       " 'seq2seq_sensory_connected_abstracter/abstracter/relational_abstracter_layer/relational_attention/multi_head_attention_3/attention_output/bias:0']"
      ]
     },
     "execution_count": 30,
     "metadata": {},
     "output_type": "execute_result"
    }
   ],
   "source": [
    "[weight.name for weight in argsort_model.abstracter.abstracter_layers[0].episodic_attention.mha.weights]"
   ]
  },
  {
   "cell_type": "code",
   "execution_count": 41,
   "metadata": {},
   "outputs": [
    {
     "name": "stdout",
     "output_type": "stream",
     "text": [
      "['SaveSliceInfo', '_OverloadAllOperators', '_OverloadOperator', '_TensorConversionFunction', '__abs__', '__add__', '__and__', '__array__', '__array_priority__', '__bool__', '__class__', '__complex__', '__copy__', '__deepcopy__', '__delattr__', '__dict__', '__dir__', '__div__', '__doc__', '__eq__', '__float__', '__floordiv__', '__format__', '__ge__', '__getattribute__', '__getitem__', '__gt__', '__hash__', '__iadd__', '__idiv__', '__imul__', '__init__', '__init_subclass__', '__int__', '__invert__', '__ipow__', '__irealdiv__', '__isub__', '__iter__', '__itruediv__', '__le__', '__long__', '__lt__', '__matmul__', '__mod__', '__module__', '__mul__', '__ne__', '__neg__', '__new__', '__nonzero__', '__or__', '__pow__', '__radd__', '__rand__', '__rdiv__', '__reduce__', '__reduce_ex__', '__repr__', '__rfloordiv__', '__rmatmul__', '__rmod__', '__rmul__', '__ror__', '__rpow__', '__rsub__', '__rtruediv__', '__rxor__', '__setattr__', '__sizeof__', '__str__', '__sub__', '__subclasshook__', '__tf_tracing_type__', '__truediv__', '__weakref__', '__xor__', '_add_trackable_child', '_add_variable_with_custom_getter', '_aggregation', '_as_graph_element', '_assign_dependencies', '_cached_shape_as_list', '_cached_value', '_caching_device', '_checkpoint_dependencies', '_constraint', '_deferred_dependencies', '_dense_var_to_tensor', '_deserialization_dependencies', '_deserialize_from_proto', '_distribute_strategy', '_dtype', '_export_to_saved_model_graph', '_gather_saveables_for_checkpoint', '_get_save_slice_info', '_graph_element', '_graph_key', '_handle', '_handle_deferred_dependencies', '_handle_name', '_in_graph_mode', '_init_from_args', '_init_from_proto', '_initial_value', '_initializer_op', '_is_initialized_op', '_lazy_read', '_lookup_dependency', '_map_resources', '_maybe_initialize_trackable', '_name_based_attribute_restore', '_name_based_restores', '_no_dependency', '_object_identifier', '_preload_simple_restoration', '_read_variable_op', '_restore_from_tensors', '_save_slice_info', '_self_name_based_restores', '_self_saveable_object_factories', '_self_setattr_tracking', '_self_unconditional_checkpoint_dependencies', '_self_unconditional_deferred_dependencies', '_self_unconditional_dependency_names', '_self_update_uid', '_serialize_to_proto', '_serialize_to_tensors', '_set_save_slice_info', '_setattr_tracking', '_shape', '_shape_as_list', '_shape_tuple', '_shared_name', '_strided_slice_assign', '_synchronization', '_tf_api_names', '_tf_api_names_v1', '_track_trackable', '_trackable_children', '_trainable', '_unconditional_checkpoint_dependencies', '_unconditional_dependency_names', '_unique_id', '_update_uid', '_validate_shape', '_write_object_proto', 'aggregation', 'assign', 'assign_add', 'assign_sub', 'batch_scatter_update', 'constraint', 'count_up_to', 'create', 'device', 'dtype', 'eval', 'experimental_ref', 'from_proto', 'gather_nd', 'get_shape', 'graph', 'handle', 'initial_value', 'initialized_value', 'initializer', 'is_initialized', 'load', 'name', 'numpy', 'op', 'read_value', 'read_value_no_copy', 'ref', 'scatter_add', 'scatter_div', 'scatter_max', 'scatter_min', 'scatter_mul', 'scatter_nd_add', 'scatter_nd_max', 'scatter_nd_min', 'scatter_nd_sub', 'scatter_nd_update', 'scatter_sub', 'scatter_update', 'set_shape', 'shape', 'sparse_read', 'synchronization', 'to_proto', 'trainable', 'value']\n"
     ]
    }
   ],
   "source": [
    "print(dir(argsort_model.abstracter.abstracter_layers[0].episodic_attention.mha.weights[0]))"
   ]
  },
  {
   "cell_type": "code",
   "execution_count": 49,
   "metadata": {},
   "outputs": [
    {
     "name": "stdout",
     "output_type": "stream",
     "text": [
      "89\n",
      "89\n",
      "Model: \"seq2seq_sensory_connected_abstracter\"\n",
      "_________________________________________________________________\n",
      " Layer (type)                Output Shape              Param #   \n",
      "=================================================================\n",
      " source_embedder (TimeDistri  multiple                 576       \n",
      " buted)                                                          \n",
      "                                                                 \n",
      " target_embedder (Embedding)  multiple                 704       \n",
      "                                                                 \n",
      " add_pos_embedding_input (Ad  multiple                 0         \n",
      " dPositionalEmbedding)                                           \n",
      "                                                                 \n",
      " add_pos_embedding_target (A  multiple                 0         \n",
      " ddPositionalEmbedding)                                          \n",
      "                                                                 \n",
      " encoder (Encoder)           multiple                  83584     \n",
      "                                                                 \n",
      " abstracter (RelationalAbstr  multiple                 150912    \n",
      " acter)                                                          \n",
      "                                                                 \n",
      " decoder (ContextDecoder)    multiple                  150272    \n",
      "                                                                 \n",
      " final_layer (Dense)         multiple                  650       \n",
      "                                                                 \n",
      "=================================================================\n",
      "Total params: 386,698\n",
      "Trainable params: 235,786\n",
      "Non-trainable params: 150,912\n",
      "_________________________________________________________________\n"
     ]
    }
   ],
   "source": [
    "# NOTE / TODO: for now, freezing ALL params of abstracter\n",
    "# prolly need to unfreeze weights associated with values coming from encoder / decoder...\n",
    "argsort_model2.abstracter.set_weights(argsort_model.abstracter.weights)\n",
    "argsort_model2.abstracter.trainable = False\n",
    "print(len(argsort_model2.trainable_variables))\n",
    "\n",
    "# make variables associated with sensory-side in cross-attention trainable\n",
    "for abstracter_layer in argsort_model2.abstracter.abstracter_layers:\n",
    "    for i, weight in enumerate(abstracter_layer.episodic_attention.mha.weights):\n",
    "        if ('key' in weight.name) or ('query' in weight.name):\n",
    "            abstracter_layer.episodic_attention.mha.weights[i] = tf.Variable(weight.value, trainable=True)\n",
    "\n",
    "print(len(argsort_model2.trainable_variables))\n",
    "argsort_model2.summary()"
   ]
  },
  {
   "cell_type": "code",
   "execution_count": 16,
   "metadata": {},
   "outputs": [
    {
     "data": {
      "text/html": [
       "wandb version 0.13.10 is available!  To upgrade, please run:\n",
       " $ pip install wandb --upgrade"
      ],
      "text/plain": [
       "<IPython.core.display.HTML object>"
      ]
     },
     "metadata": {},
     "output_type": "display_data"
    },
    {
     "data": {
      "text/html": [
       "Tracking run with wandb version 0.13.9"
      ],
      "text/plain": [
       "<IPython.core.display.HTML object>"
      ]
     },
     "metadata": {},
     "output_type": "display_data"
    },
    {
     "data": {
      "text/html": [
       "Run data is saved locally in <code>/vast/palmer/home.grace/ma2393/Documents/relational/experiments/abstracter_arg_sort/wandb/run-20230224_135055-nzkf3yo8</code>"
      ],
      "text/plain": [
       "<IPython.core.display.HTML object>"
      ]
     },
     "metadata": {},
     "output_type": "display_data"
    },
    {
     "data": {
      "text/html": [
       "Syncing run <strong><a href=\"https://wandb.ai/awni00/dev_abstracter_sorting_generalization/runs/nzkf3yo8\" target=\"_blank\">TASK 2 (Pre-Trained Abstracter)</a></strong> to <a href=\"https://wandb.ai/awni00/dev_abstracter_sorting_generalization\" target=\"_blank\">Weights & Biases</a> (<a href=\"https://wandb.me/run\" target=\"_blank\">docs</a>)<br/>"
      ],
      "text/plain": [
       "<IPython.core.display.HTML object>"
      ]
     },
     "metadata": {},
     "output_type": "display_data"
    },
    {
     "data": {
      "text/html": [
       " View project at <a href=\"https://wandb.ai/awni00/dev_abstracter_sorting_generalization\" target=\"_blank\">https://wandb.ai/awni00/dev_abstracter_sorting_generalization</a>"
      ],
      "text/plain": [
       "<IPython.core.display.HTML object>"
      ]
     },
     "metadata": {},
     "output_type": "display_data"
    },
    {
     "data": {
      "text/html": [
       " View run at <a href=\"https://wandb.ai/awni00/dev_abstracter_sorting_generalization/runs/nzkf3yo8\" target=\"_blank\">https://wandb.ai/awni00/dev_abstracter_sorting_generalization/runs/nzkf3yo8</a>"
      ],
      "text/plain": [
       "<IPython.core.display.HTML object>"
      ]
     },
     "metadata": {},
     "output_type": "display_data"
    },
    {
     "name": "stdout",
     "output_type": "stream",
     "text": [
      "Epoch 1/50\n",
      "40/40 [==============================] - 11s 108ms/step - loss: 3.3998 - teacher_forcing_accuracy: 0.9385 - val_loss: 2.2345 - val_teacher_forcing_accuracy: 0.1921\n",
      "Epoch 2/50\n",
      "40/40 [==============================] - 3s 66ms/step - loss: 2.2700 - teacher_forcing_accuracy: 0.1481 - val_loss: 2.1333 - val_teacher_forcing_accuracy: 0.2150\n",
      "Epoch 3/50\n",
      "40/40 [==============================] - 3s 66ms/step - loss: 2.1538 - teacher_forcing_accuracy: 0.1925 - val_loss: 1.9823 - val_teacher_forcing_accuracy: 0.2552\n",
      "Epoch 4/50\n",
      "40/40 [==============================] - 3s 67ms/step - loss: 2.0265 - teacher_forcing_accuracy: 0.2342 - val_loss: 1.8182 - val_teacher_forcing_accuracy: 0.2978\n",
      "Epoch 5/50\n",
      "40/40 [==============================] - 3s 66ms/step - loss: 1.8843 - teacher_forcing_accuracy: 0.2785 - val_loss: 1.6172 - val_teacher_forcing_accuracy: 0.3586\n",
      "Epoch 6/50\n",
      "40/40 [==============================] - 3s 66ms/step - loss: 1.7330 - teacher_forcing_accuracy: 0.3219 - val_loss: 1.4605 - val_teacher_forcing_accuracy: 0.3961\n",
      "Epoch 7/50\n",
      "40/40 [==============================] - 3s 66ms/step - loss: 1.5861 - teacher_forcing_accuracy: 0.3630 - val_loss: 1.2836 - val_teacher_forcing_accuracy: 0.4530\n",
      "Epoch 8/50\n",
      "40/40 [==============================] - 3s 66ms/step - loss: 1.4119 - teacher_forcing_accuracy: 0.4107 - val_loss: 1.0509 - val_teacher_forcing_accuracy: 0.5475\n",
      "Epoch 9/50\n",
      "40/40 [==============================] - 3s 66ms/step - loss: 1.2568 - teacher_forcing_accuracy: 0.4603 - val_loss: 1.0030 - val_teacher_forcing_accuracy: 0.5433\n",
      "Epoch 10/50\n",
      "40/40 [==============================] - 3s 66ms/step - loss: 1.1586 - teacher_forcing_accuracy: 0.4922 - val_loss: 0.9153 - val_teacher_forcing_accuracy: 0.5971\n",
      "Epoch 11/50\n",
      "40/40 [==============================] - 3s 66ms/step - loss: 1.0661 - teacher_forcing_accuracy: 0.5351 - val_loss: 0.7688 - val_teacher_forcing_accuracy: 0.6665\n",
      "Epoch 12/50\n",
      "40/40 [==============================] - 3s 66ms/step - loss: 0.9650 - teacher_forcing_accuracy: 0.5735 - val_loss: 0.6784 - val_teacher_forcing_accuracy: 0.7189\n",
      "Epoch 13/50\n",
      "40/40 [==============================] - 3s 66ms/step - loss: 0.9130 - teacher_forcing_accuracy: 0.5944 - val_loss: 0.6390 - val_teacher_forcing_accuracy: 0.7373\n",
      "Epoch 14/50\n",
      "40/40 [==============================] - 3s 66ms/step - loss: 0.8826 - teacher_forcing_accuracy: 0.6079 - val_loss: 0.5895 - val_teacher_forcing_accuracy: 0.7574\n",
      "Epoch 15/50\n",
      "40/40 [==============================] - 3s 67ms/step - loss: 0.8241 - teacher_forcing_accuracy: 0.6348 - val_loss: 0.5402 - val_teacher_forcing_accuracy: 0.7907\n",
      "Epoch 16/50\n",
      "40/40 [==============================] - 3s 66ms/step - loss: 0.7786 - teacher_forcing_accuracy: 0.6545 - val_loss: 0.5042 - val_teacher_forcing_accuracy: 0.8014\n",
      "Epoch 17/50\n",
      "40/40 [==============================] - 3s 66ms/step - loss: 0.7538 - teacher_forcing_accuracy: 0.6669 - val_loss: 0.8884 - val_teacher_forcing_accuracy: 0.5810\n",
      "Epoch 18/50\n",
      "40/40 [==============================] - 3s 67ms/step - loss: 0.7559 - teacher_forcing_accuracy: 0.6685 - val_loss: 0.4664 - val_teacher_forcing_accuracy: 0.8203\n",
      "Epoch 19/50\n",
      "40/40 [==============================] - 3s 66ms/step - loss: 0.6902 - teacher_forcing_accuracy: 0.6971 - val_loss: 0.4196 - val_teacher_forcing_accuracy: 0.8482\n",
      "Epoch 20/50\n",
      "40/40 [==============================] - 3s 66ms/step - loss: 0.6404 - teacher_forcing_accuracy: 0.7193 - val_loss: 0.4961 - val_teacher_forcing_accuracy: 0.7798\n",
      "Epoch 21/50\n",
      "40/40 [==============================] - 3s 66ms/step - loss: 0.6453 - teacher_forcing_accuracy: 0.7165 - val_loss: 0.3687 - val_teacher_forcing_accuracy: 0.8801\n",
      "Epoch 22/50\n",
      "40/40 [==============================] - 3s 66ms/step - loss: 0.6099 - teacher_forcing_accuracy: 0.7373 - val_loss: 0.3693 - val_teacher_forcing_accuracy: 0.8679\n",
      "Epoch 23/50\n",
      "40/40 [==============================] - 3s 67ms/step - loss: 0.5698 - teacher_forcing_accuracy: 0.7537 - val_loss: 0.3398 - val_teacher_forcing_accuracy: 0.8823\n",
      "Epoch 24/50\n",
      "40/40 [==============================] - 3s 67ms/step - loss: 0.5531 - teacher_forcing_accuracy: 0.7592 - val_loss: 0.3210 - val_teacher_forcing_accuracy: 0.8916\n",
      "Epoch 25/50\n",
      "40/40 [==============================] - 3s 66ms/step - loss: 0.5353 - teacher_forcing_accuracy: 0.7691 - val_loss: 0.3094 - val_teacher_forcing_accuracy: 0.8985\n",
      "Epoch 26/50\n",
      "40/40 [==============================] - 3s 66ms/step - loss: 0.5259 - teacher_forcing_accuracy: 0.7728 - val_loss: 0.3323 - val_teacher_forcing_accuracy: 0.8764\n",
      "Epoch 27/50\n",
      "40/40 [==============================] - 3s 66ms/step - loss: 0.5246 - teacher_forcing_accuracy: 0.7734 - val_loss: 0.2995 - val_teacher_forcing_accuracy: 0.9001\n",
      "Epoch 28/50\n",
      "40/40 [==============================] - 3s 66ms/step - loss: 0.4885 - teacher_forcing_accuracy: 0.7903 - val_loss: 0.2553 - val_teacher_forcing_accuracy: 0.9301\n",
      "Epoch 29/50\n",
      "40/40 [==============================] - 3s 66ms/step - loss: 0.4650 - teacher_forcing_accuracy: 0.8029 - val_loss: 0.3130 - val_teacher_forcing_accuracy: 0.8830\n",
      "Epoch 30/50\n",
      "40/40 [==============================] - 3s 67ms/step - loss: 0.5441 - teacher_forcing_accuracy: 0.7691 - val_loss: 0.2978 - val_teacher_forcing_accuracy: 0.8951\n",
      "Epoch 31/50\n",
      "40/40 [==============================] - 3s 66ms/step - loss: 0.4696 - teacher_forcing_accuracy: 0.7989 - val_loss: 0.2484 - val_teacher_forcing_accuracy: 0.9269\n",
      "Epoch 32/50\n",
      "40/40 [==============================] - 3s 66ms/step - loss: 0.4401 - teacher_forcing_accuracy: 0.8119 - val_loss: 0.2364 - val_teacher_forcing_accuracy: 0.9309\n",
      "Epoch 33/50\n",
      "40/40 [==============================] - 3s 66ms/step - loss: 0.4443 - teacher_forcing_accuracy: 0.8109 - val_loss: 0.2332 - val_teacher_forcing_accuracy: 0.9302\n",
      "Epoch 34/50\n",
      "40/40 [==============================] - 3s 67ms/step - loss: 0.4254 - teacher_forcing_accuracy: 0.8204 - val_loss: 0.2088 - val_teacher_forcing_accuracy: 0.9464\n",
      "Epoch 35/50\n",
      "40/40 [==============================] - 3s 67ms/step - loss: 0.3984 - teacher_forcing_accuracy: 0.8322 - val_loss: 0.1975 - val_teacher_forcing_accuracy: 0.9468\n",
      "Epoch 36/50\n",
      "40/40 [==============================] - 3s 66ms/step - loss: 0.3875 - teacher_forcing_accuracy: 0.8370 - val_loss: 0.2186 - val_teacher_forcing_accuracy: 0.9283\n",
      "Epoch 37/50\n",
      "40/40 [==============================] - 3s 67ms/step - loss: 0.4092 - teacher_forcing_accuracy: 0.8281 - val_loss: 0.1886 - val_teacher_forcing_accuracy: 0.9520\n",
      "Epoch 38/50\n",
      "40/40 [==============================] - 3s 66ms/step - loss: 0.4001 - teacher_forcing_accuracy: 0.8348 - val_loss: 0.2003 - val_teacher_forcing_accuracy: 0.9443\n",
      "Epoch 39/50\n",
      "40/40 [==============================] - 3s 67ms/step - loss: 0.3866 - teacher_forcing_accuracy: 0.8390 - val_loss: 0.1875 - val_teacher_forcing_accuracy: 0.9496\n",
      "Epoch 40/50\n",
      "40/40 [==============================] - 3s 66ms/step - loss: 0.3649 - teacher_forcing_accuracy: 0.8471 - val_loss: 0.1686 - val_teacher_forcing_accuracy: 0.9599\n",
      "Epoch 41/50\n",
      "40/40 [==============================] - 3s 66ms/step - loss: 0.3612 - teacher_forcing_accuracy: 0.8505 - val_loss: 0.1916 - val_teacher_forcing_accuracy: 0.9406\n",
      "Epoch 42/50\n",
      "40/40 [==============================] - 3s 66ms/step - loss: 0.3663 - teacher_forcing_accuracy: 0.8489 - val_loss: 0.1920 - val_teacher_forcing_accuracy: 0.9406\n",
      "Epoch 43/50\n",
      "40/40 [==============================] - 3s 66ms/step - loss: 0.3414 - teacher_forcing_accuracy: 0.8595 - val_loss: 0.1636 - val_teacher_forcing_accuracy: 0.9566\n",
      "Epoch 44/50\n",
      "40/40 [==============================] - 3s 67ms/step - loss: 0.3294 - teacher_forcing_accuracy: 0.8646 - val_loss: 0.1489 - val_teacher_forcing_accuracy: 0.9642\n",
      "Epoch 45/50\n",
      "40/40 [==============================] - 3s 67ms/step - loss: 0.3213 - teacher_forcing_accuracy: 0.8674 - val_loss: 0.1500 - val_teacher_forcing_accuracy: 0.9609\n",
      "Epoch 46/50\n",
      "40/40 [==============================] - 3s 66ms/step - loss: 0.3139 - teacher_forcing_accuracy: 0.8741 - val_loss: 0.1312 - val_teacher_forcing_accuracy: 0.9721\n",
      "Epoch 47/50\n",
      "40/40 [==============================] - 3s 66ms/step - loss: 0.3111 - teacher_forcing_accuracy: 0.8740 - val_loss: 0.1339 - val_teacher_forcing_accuracy: 0.9700\n",
      "Epoch 48/50\n",
      "40/40 [==============================] - 3s 66ms/step - loss: 0.3018 - teacher_forcing_accuracy: 0.8753 - val_loss: 0.1234 - val_teacher_forcing_accuracy: 0.9764\n",
      "Epoch 49/50\n",
      "40/40 [==============================] - 3s 66ms/step - loss: 0.2887 - teacher_forcing_accuracy: 0.8826 - val_loss: 0.1233 - val_teacher_forcing_accuracy: 0.9720\n",
      "Epoch 50/50\n",
      "40/40 [==============================] - 3s 66ms/step - loss: 0.3043 - teacher_forcing_accuracy: 0.8755 - val_loss: 0.1786 - val_teacher_forcing_accuracy: 0.9396\n"
     ]
    }
   ],
   "source": [
    "train_size = 5000 # len(seqs_train)\n",
    "X_train = object_seqs_train[:train_size], target_train[:train_size]\n",
    "y_train = labels_train[:train_size]\n",
    "\n",
    "# X_val = seqs_val, target_val\n",
    "X_val = object_seqs_val, target_val\n",
    "y_val = labels_val\n",
    "\n",
    "run = wandb.init(project=wandb_project_name, name=f'TASK 2 (Pre-Trained Abstracter)')\n",
    "history = argsort_model2.fit(X_train, y_train, validation_data=(X_val, y_val), verbose=1, callbacks=create_callbacks(), **fit_kwargs)"
   ]
  },
  {
   "cell_type": "code",
   "execution_count": 17,
   "metadata": {},
   "outputs": [
    {
     "data": {
      "image/png": "[encoded data removed]",
      "text/plain": [
       "<Figure size 640x480 with 2 Axes>"
      ]
     },
     "metadata": {},
     "output_type": "display_data"
    }
   ],
   "source": [
    "utils.plot_history(history, ('loss', 'teacher_forcing_accuracy'));"
   ]
  },
  {
   "cell_type": "code",
   "execution_count": 18,
   "metadata": {},
   "outputs": [
    {
     "name": "stdout",
     "output_type": "stream",
     "text": [
      "element-wise accuracy: 93.95%\n",
      "full sequence accuracy: 58.06%\n",
      "teacher-forcing accuracy:  93.99%\n"
     ]
    }
   ],
   "source": [
    "eval_dict = evaluate_seq2seq_model(argsort_model2, object_seqs_train, target_train, labels_train,\n",
    "    start_token=START_TOKEN, print_=True)"
   ]
  },
  {
   "cell_type": "code",
   "execution_count": 19,
   "metadata": {},
   "outputs": [
    {
     "name": "stdout",
     "output_type": "stream",
     "text": [
      "element-wise accuracy: 93.87%\n",
      "full sequence accuracy: 57.84%\n",
      "teacher-forcing accuracy:  93.98%\n"
     ]
    },
    {
     "data": {
      "text/html": [
       "Waiting for W&B process to finish... <strong style=\"color:green\">(success).</strong>"
      ],
      "text/plain": [
       "<IPython.core.display.HTML object>"
      ]
     },
     "metadata": {},
     "output_type": "display_data"
    },
    {
     "data": {
      "application/vnd.jupyter.widget-view+json": {
       "model_id": "028ac833d4d049fc83af6c6b060bf4f6",
       "version_major": 2,
       "version_minor": 0
      },
      "text/plain": [
       "VBox(children=(Label(value='0.049 MB of 0.049 MB uploaded (0.000 MB deduped)\\r'), FloatProgress(value=0.996009…"
      ]
     },
     "metadata": {},
     "output_type": "display_data"
    },
    {
     "data": {
      "text/html": [
       " View run <strong style=\"color:#cdcd00\">TASK 2 (Pre-Trained Abstracter)</strong> at: <a href=\"https://wandb.ai/awni00/dev_abstracter_sorting_generalization/runs/nzkf3yo8\" target=\"_blank\">https://wandb.ai/awni00/dev_abstracter_sorting_generalization/runs/nzkf3yo8</a><br/>Synced 7 W&B file(s), 1 media file(s), 1 artifact file(s) and 1 other file(s)"
      ],
      "text/plain": [
       "<IPython.core.display.HTML object>"
      ]
     },
     "metadata": {},
     "output_type": "display_data"
    }
   ],
   "source": [
    "eval_dict = evaluate_seq2seq_model(argsort_model2, object_seqs_test, target_test, labels_test, \n",
    "    start_token=START_TOKEN, print_=True)\n",
    "log_to_wandb(argsort_model2, eval_dict)\n",
    "wandb.finish(quiet=True)"
   ]
  },
  {
   "cell_type": "markdown",
   "metadata": {},
   "source": [
    "## Transformer: Training Seq2Seq Sensory-Connected Abstracter"
   ]
  },
  {
   "cell_type": "code",
   "execution_count": 15,
   "metadata": {},
   "outputs": [],
   "source": [
    "# dataset 1\n",
    "vocab_size = 64\n",
    "dim = 8\n",
    "seqs_length = 10\n",
    "START_TOKEN = seqs_length\n",
    "n_seqs = 10_0000\n",
    "\n",
    "objects, seqs, sorted_seqs, arg_sort, object_seqs = create_sorting_dataset(vocab_size, dim, seqs_length, n_seqs)\n",
    "\n",
    "target = arg_sort[:, :-1]\n",
    "labels = arg_sort[:, 1:]\n",
    "\n",
    "test_size = 0.2\n",
    "val_size = 0.1\n",
    "\n",
    "seqs_train, seqs_test, sorted_seqs_train, sorted_seqs_test, object_seqs_train, object_seqs_test, target_train, target_test, labels_train, labels_test = train_test_split(\n",
    "    seqs, sorted_seqs, object_seqs, target, labels, test_size=0.2)\n",
    "seqs_train, seqs_val, sorted_seqs_train, sorted_seqs_val, object_seqs_train, object_seqs_val, target_train, target_val, labels_train, labels_val = train_test_split(\n",
    "    seqs_train, sorted_seqs_train, object_seqs_train, target_train, labels_train, test_size=val_size/(1-test_size))"
   ]
  },
  {
   "cell_type": "code",
   "execution_count": 16,
   "metadata": {},
   "outputs": [],
   "source": [
    "from tensorflow.keras import layers\n",
    "from seq2seq_transformer import Encoder, AddPositionalEmbedding\n",
    "from contextual_decoder import ContextualCrossAttention, ContextDecoderLayer, ContextDecoder\n",
    "from abstracters import RelationalAbstracter\n",
    "\n",
    "class ArgsortTransformer(tf.keras.Model):\n",
    "    def __init__(self, num_layers, num_heads, dff,\n",
    "            input_vocab_size, target_vocab_size, embedding_dim,\n",
    "            dropout_rate=0.1, name='argsort_transformer'):\n",
    "        super().__init__(name=name)\n",
    "\n",
    "        self.source_embedder = layers.TimeDistributed(layers.Dense(embedding_dim), name='source_embedder')\n",
    "        self.target_embedder = layers.Embedding(target_vocab_size, embedding_dim, name='target_embedder')\n",
    "\n",
    "        self.pos_embedding_adder_input = AddPositionalEmbedding(name='add_pos_embedding_input')\n",
    "        self.pos_embedding_adder_target = AddPositionalEmbedding(name='add_pos_embedding_target')\n",
    "\n",
    "        self.encoder = Encoder(num_layers=num_layers, num_heads=num_heads, dff=dff, dropout_rate=dropout_rate, name='encoder')\n",
    "        self.decoder = ContextDecoder(num_layers=num_layers, num_heads=num_heads, dff=dff,\n",
    "          dropout_rate=dropout_rate, name='decoder')\n",
    "\n",
    "        self.final_layer = layers.Dense(target_vocab_size, name='final_layer')\n",
    "\n",
    "\n",
    "    def call(self, inputs):\n",
    "        source, target  = inputs\n",
    "\n",
    "        x = self.source_embedder(source)\n",
    "        x = self.pos_embedding_adder_input(x)\n",
    "\n",
    "        encoder_context = self.encoder(x)\n",
    "\n",
    "        target_embedding = self.target_embedder(target)\n",
    "        target_embedding = self.pos_embedding_adder_target(target_embedding)\n",
    "\n",
    "        x = self.decoder(input_seq=target_embedding, query_seq=target_embedding, key_seq=encoder_context, value_seq=encoder_context)\n",
    "\n",
    "        # Final linear layer output.\n",
    "        logits = self.final_layer(x)  # (batch_size, target_len, target_vocab_size)\n",
    "\n",
    "        try:\n",
    "          # Drop the keras mask, so it doesn't scale the losses/metrics.\n",
    "          # b/250038731\n",
    "          del logits._keras_mask\n",
    "        except AttributeError:\n",
    "          pass\n",
    "\n",
    "        # Return the final output and the attention weights.\n",
    "        return logits\n"
   ]
  },
  {
   "cell_type": "code",
   "execution_count": 17,
   "metadata": {},
   "outputs": [
    {
     "name": "stdout",
     "output_type": "stream",
     "text": [
      "Model: \"argsort_transformer\"\n",
      "_________________________________________________________________\n",
      " Layer (type)                Output Shape              Param #   \n",
      "=================================================================\n",
      " source_embedder (TimeDistri  multiple                 576       \n",
      " buted)                                                          \n",
      "                                                                 \n",
      " target_embedder (Embedding)  multiple                 704       \n",
      "                                                                 \n",
      " add_pos_embedding_input (Ad  multiple                 0         \n",
      " dPositionalEmbedding)                                           \n",
      "                                                                 \n",
      " add_pos_embedding_target (A  multiple                 0         \n",
      " ddPositionalEmbedding)                                          \n",
      "                                                                 \n",
      " encoder (Encoder)           multiple                  83584     \n",
      "                                                                 \n",
      " decoder (ContextDecoder)    multiple                  150272    \n",
      "                                                                 \n",
      " final_layer (Dense)         multiple                  715       \n",
      "                                                                 \n",
      "=================================================================\n",
      "Total params: 235,851\n",
      "Trainable params: 235,851\n",
      "Non-trainable params: 0\n",
      "_________________________________________________________________\n"
     ]
    }
   ],
   "source": [
    "argsort_model = ArgsortTransformer(\n",
    "    num_layers=2, num_heads=2, dff=64, \n",
    "    input_vocab_size=vocab_size, target_vocab_size=seqs_length+1, embedding_dim=64)\n",
    "\n",
    "argsort_model.compile(loss=loss, optimizer=create_opt(), metrics=metrics)\n",
    "argsort_model((object_seqs_train[:32], target_train[:32]));\n",
    "\n",
    "argsort_model.summary()"
   ]
  },
  {
   "cell_type": "code",
   "execution_count": 26,
   "metadata": {},
   "outputs": [
    {
     "data": {
      "text/html": [
       "wandb version 0.13.10 is available!  To upgrade, please run:\n",
       " $ pip install wandb --upgrade"
      ],
      "text/plain": [
       "<IPython.core.display.HTML object>"
      ]
     },
     "metadata": {},
     "output_type": "display_data"
    },
    {
     "data": {
      "text/html": [
       "Tracking run with wandb version 0.13.9"
      ],
      "text/plain": [
       "<IPython.core.display.HTML object>"
      ]
     },
     "metadata": {},
     "output_type": "display_data"
    },
    {
     "data": {
      "text/html": [
       "Run data is saved locally in <code>/vast/palmer/home.grace/ma2393/Documents/relational/experiments/abstracter_arg_sort/wandb/run-20230224_143641-87g83lav</code>"
      ],
      "text/plain": [
       "<IPython.core.display.HTML object>"
      ]
     },
     "metadata": {},
     "output_type": "display_data"
    },
    {
     "data": {
      "text/html": [
       "Syncing run <strong><a href=\"https://wandb.ai/awni00/dev_abstracter_sorting_generalization/runs/87g83lav\" target=\"_blank\">Transformer (standard final layer)</a></strong> to <a href=\"https://wandb.ai/awni00/dev_abstracter_sorting_generalization\" target=\"_blank\">Weights & Biases</a> (<a href=\"https://wandb.me/run\" target=\"_blank\">docs</a>)<br/>"
      ],
      "text/plain": [
       "<IPython.core.display.HTML object>"
      ]
     },
     "metadata": {},
     "output_type": "display_data"
    },
    {
     "data": {
      "text/html": [
       " View project at <a href=\"https://wandb.ai/awni00/dev_abstracter_sorting_generalization\" target=\"_blank\">https://wandb.ai/awni00/dev_abstracter_sorting_generalization</a>"
      ],
      "text/plain": [
       "<IPython.core.display.HTML object>"
      ]
     },
     "metadata": {},
     "output_type": "display_data"
    },
    {
     "data": {
      "text/html": [
       " View run at <a href=\"https://wandb.ai/awni00/dev_abstracter_sorting_generalization/runs/87g83lav\" target=\"_blank\">https://wandb.ai/awni00/dev_abstracter_sorting_generalization/runs/87g83lav</a>"
      ],
      "text/plain": [
       "<IPython.core.display.HTML object>"
      ]
     },
     "metadata": {},
     "output_type": "display_data"
    },
    {
     "name": "stdout",
     "output_type": "stream",
     "text": [
      "Epoch 1/50\n",
      "40/40 [==============================] - 2s 49ms/step - loss: 0.3140 - teacher_forcing_accuracy: 0.8818 - val_loss: 0.1099 - val_teacher_forcing_accuracy: 0.9627\n",
      "Epoch 2/50\n",
      "40/40 [==============================] - 2s 44ms/step - loss: 0.3013 - teacher_forcing_accuracy: 0.8866 - val_loss: 0.1008 - val_teacher_forcing_accuracy: 0.9658\n",
      "Epoch 3/50\n",
      "40/40 [==============================] - 2s 44ms/step - loss: 0.2943 - teacher_forcing_accuracy: 0.8899 - val_loss: 0.1059 - val_teacher_forcing_accuracy: 0.9635\n",
      "Epoch 4/50\n",
      "40/40 [==============================] - 2s 44ms/step - loss: 0.2972 - teacher_forcing_accuracy: 0.8901 - val_loss: 0.0983 - val_teacher_forcing_accuracy: 0.9664\n",
      "Epoch 5/50\n",
      "40/40 [==============================] - 2s 44ms/step - loss: 0.2969 - teacher_forcing_accuracy: 0.8878 - val_loss: 0.0875 - val_teacher_forcing_accuracy: 0.9722\n",
      "Epoch 6/50\n",
      "40/40 [==============================] - 2s 44ms/step - loss: 0.2960 - teacher_forcing_accuracy: 0.8894 - val_loss: 0.0985 - val_teacher_forcing_accuracy: 0.9674\n",
      "Epoch 7/50\n",
      "40/40 [==============================] - 2s 44ms/step - loss: 0.2938 - teacher_forcing_accuracy: 0.8898 - val_loss: 0.0937 - val_teacher_forcing_accuracy: 0.9697\n",
      "Epoch 8/50\n",
      "40/40 [==============================] - 2s 44ms/step - loss: 0.2905 - teacher_forcing_accuracy: 0.8920 - val_loss: 0.0873 - val_teacher_forcing_accuracy: 0.9710\n",
      "Epoch 9/50\n",
      "40/40 [==============================] - 2s 44ms/step - loss: 0.2794 - teacher_forcing_accuracy: 0.8946 - val_loss: 0.0896 - val_teacher_forcing_accuracy: 0.9698\n",
      "Epoch 10/50\n",
      "40/40 [==============================] - 2s 44ms/step - loss: 0.2782 - teacher_forcing_accuracy: 0.8951 - val_loss: 0.0814 - val_teacher_forcing_accuracy: 0.9741\n",
      "Epoch 11/50\n",
      "40/40 [==============================] - 2s 44ms/step - loss: 0.2755 - teacher_forcing_accuracy: 0.8983 - val_loss: 0.0793 - val_teacher_forcing_accuracy: 0.9747\n",
      "Epoch 12/50\n",
      "40/40 [==============================] - 2s 44ms/step - loss: 0.2884 - teacher_forcing_accuracy: 0.8921 - val_loss: 0.0793 - val_teacher_forcing_accuracy: 0.9747\n",
      "Epoch 13/50\n",
      "40/40 [==============================] - 2s 44ms/step - loss: 0.2617 - teacher_forcing_accuracy: 0.9029 - val_loss: 0.0831 - val_teacher_forcing_accuracy: 0.9731\n",
      "Epoch 14/50\n",
      "40/40 [==============================] - 2s 44ms/step - loss: 0.2673 - teacher_forcing_accuracy: 0.9011 - val_loss: 0.0749 - val_teacher_forcing_accuracy: 0.9768\n",
      "Epoch 15/50\n",
      "40/40 [==============================] - 2s 44ms/step - loss: 0.2574 - teacher_forcing_accuracy: 0.9043 - val_loss: 0.0788 - val_teacher_forcing_accuracy: 0.9745\n",
      "Epoch 16/50\n",
      "40/40 [==============================] - 2s 44ms/step - loss: 0.2637 - teacher_forcing_accuracy: 0.9020 - val_loss: 0.0721 - val_teacher_forcing_accuracy: 0.9762\n",
      "Epoch 17/50\n",
      "40/40 [==============================] - 2s 44ms/step - loss: 0.2525 - teacher_forcing_accuracy: 0.9056 - val_loss: 0.0732 - val_teacher_forcing_accuracy: 0.9763\n",
      "Epoch 18/50\n",
      "40/40 [==============================] - 2s 44ms/step - loss: 0.2481 - teacher_forcing_accuracy: 0.9081 - val_loss: 0.0816 - val_teacher_forcing_accuracy: 0.9736\n",
      "Epoch 19/50\n",
      "40/40 [==============================] - 2s 44ms/step - loss: 0.2717 - teacher_forcing_accuracy: 0.8979 - val_loss: 0.0720 - val_teacher_forcing_accuracy: 0.9775\n",
      "Epoch 20/50\n",
      "40/40 [==============================] - 2s 44ms/step - loss: 0.2482 - teacher_forcing_accuracy: 0.9082 - val_loss: 0.0703 - val_teacher_forcing_accuracy: 0.9785\n",
      "Epoch 21/50\n",
      "40/40 [==============================] - 2s 44ms/step - loss: 0.2517 - teacher_forcing_accuracy: 0.9073 - val_loss: 0.0766 - val_teacher_forcing_accuracy: 0.9765\n",
      "Epoch 22/50\n",
      "40/40 [==============================] - 2s 44ms/step - loss: 0.2477 - teacher_forcing_accuracy: 0.9077 - val_loss: 0.0734 - val_teacher_forcing_accuracy: 0.9762\n",
      "Epoch 23/50\n",
      "40/40 [==============================] - 2s 44ms/step - loss: 0.2380 - teacher_forcing_accuracy: 0.9126 - val_loss: 0.0736 - val_teacher_forcing_accuracy: 0.9769\n",
      "Epoch 24/50\n",
      "40/40 [==============================] - 2s 45ms/step - loss: 0.2441 - teacher_forcing_accuracy: 0.9091 - val_loss: 0.0673 - val_teacher_forcing_accuracy: 0.9786\n",
      "Epoch 25/50\n",
      "40/40 [==============================] - 2s 45ms/step - loss: 0.2378 - teacher_forcing_accuracy: 0.9122 - val_loss: 0.0657 - val_teacher_forcing_accuracy: 0.9799\n",
      "Epoch 26/50\n",
      "40/40 [==============================] - 2s 44ms/step - loss: 0.2299 - teacher_forcing_accuracy: 0.9145 - val_loss: 0.0809 - val_teacher_forcing_accuracy: 0.9724\n",
      "Epoch 27/50\n",
      "40/40 [==============================] - 2s 44ms/step - loss: 0.2361 - teacher_forcing_accuracy: 0.9127 - val_loss: 0.0606 - val_teacher_forcing_accuracy: 0.9820\n",
      "Epoch 28/50\n",
      "40/40 [==============================] - 2s 44ms/step - loss: 0.2313 - teacher_forcing_accuracy: 0.9152 - val_loss: 0.0643 - val_teacher_forcing_accuracy: 0.9806\n",
      "Epoch 29/50\n",
      "40/40 [==============================] - 2s 44ms/step - loss: 0.2261 - teacher_forcing_accuracy: 0.9171 - val_loss: 0.0568 - val_teacher_forcing_accuracy: 0.9838\n",
      "Epoch 30/50\n",
      "40/40 [==============================] - 2s 44ms/step - loss: 0.2201 - teacher_forcing_accuracy: 0.9192 - val_loss: 0.0575 - val_teacher_forcing_accuracy: 0.9834\n",
      "Epoch 31/50\n",
      "40/40 [==============================] - 2s 44ms/step - loss: 0.2207 - teacher_forcing_accuracy: 0.9190 - val_loss: 0.0598 - val_teacher_forcing_accuracy: 0.9820\n",
      "Epoch 32/50\n",
      "40/40 [==============================] - 2s 44ms/step - loss: 0.2201 - teacher_forcing_accuracy: 0.9181 - val_loss: 0.0570 - val_teacher_forcing_accuracy: 0.9839\n",
      "Epoch 33/50\n",
      "40/40 [==============================] - 2s 44ms/step - loss: 0.2080 - teacher_forcing_accuracy: 0.9235 - val_loss: 0.0534 - val_teacher_forcing_accuracy: 0.9844\n",
      "Epoch 34/50\n",
      "40/40 [==============================] - 2s 44ms/step - loss: 0.2107 - teacher_forcing_accuracy: 0.9221 - val_loss: 0.0492 - val_teacher_forcing_accuracy: 0.9862\n",
      "Epoch 35/50\n",
      "40/40 [==============================] - 2s 44ms/step - loss: 0.2120 - teacher_forcing_accuracy: 0.9234 - val_loss: 0.0570 - val_teacher_forcing_accuracy: 0.9840\n",
      "Epoch 36/50\n",
      "40/40 [==============================] - 2s 44ms/step - loss: 0.2074 - teacher_forcing_accuracy: 0.9244 - val_loss: 0.0569 - val_teacher_forcing_accuracy: 0.9830\n",
      "Epoch 37/50\n",
      "40/40 [==============================] - 2s 44ms/step - loss: 0.2113 - teacher_forcing_accuracy: 0.9223 - val_loss: 0.0531 - val_teacher_forcing_accuracy: 0.9837\n",
      "Epoch 38/50\n",
      "40/40 [==============================] - 2s 45ms/step - loss: 0.2037 - teacher_forcing_accuracy: 0.9265 - val_loss: 0.0525 - val_teacher_forcing_accuracy: 0.9844\n",
      "Epoch 39/50\n",
      "40/40 [==============================] - 2s 44ms/step - loss: 0.1974 - teacher_forcing_accuracy: 0.9278 - val_loss: 0.0454 - val_teacher_forcing_accuracy: 0.9877\n",
      "Epoch 40/50\n",
      "40/40 [==============================] - 2s 44ms/step - loss: 0.1975 - teacher_forcing_accuracy: 0.9281 - val_loss: 0.0521 - val_teacher_forcing_accuracy: 0.9843\n",
      "Epoch 41/50\n",
      "40/40 [==============================] - 2s 44ms/step - loss: 0.2030 - teacher_forcing_accuracy: 0.9248 - val_loss: 0.0472 - val_teacher_forcing_accuracy: 0.9853\n",
      "Epoch 42/50\n",
      "40/40 [==============================] - 2s 44ms/step - loss: 0.1814 - teacher_forcing_accuracy: 0.9342 - val_loss: 0.0403 - val_teacher_forcing_accuracy: 0.9890\n",
      "Epoch 43/50\n",
      "40/40 [==============================] - 2s 44ms/step - loss: 0.1903 - teacher_forcing_accuracy: 0.9298 - val_loss: 0.0469 - val_teacher_forcing_accuracy: 0.9868\n",
      "Epoch 44/50\n",
      "40/40 [==============================] - 2s 44ms/step - loss: 0.1885 - teacher_forcing_accuracy: 0.9315 - val_loss: 0.0437 - val_teacher_forcing_accuracy: 0.9877\n",
      "Epoch 45/50\n",
      "40/40 [==============================] - 2s 44ms/step - loss: 0.1873 - teacher_forcing_accuracy: 0.9315 - val_loss: 0.0541 - val_teacher_forcing_accuracy: 0.9847\n",
      "Epoch 46/50\n",
      "40/40 [==============================] - 2s 44ms/step - loss: 0.1923 - teacher_forcing_accuracy: 0.9289 - val_loss: 0.0413 - val_teacher_forcing_accuracy: 0.9888\n",
      "Epoch 47/50\n",
      "40/40 [==============================] - 2s 44ms/step - loss: 0.1872 - teacher_forcing_accuracy: 0.9318 - val_loss: 0.0416 - val_teacher_forcing_accuracy: 0.9884\n",
      "Epoch 48/50\n",
      "40/40 [==============================] - 2s 45ms/step - loss: 0.1838 - teacher_forcing_accuracy: 0.9331 - val_loss: 0.0361 - val_teacher_forcing_accuracy: 0.9908\n",
      "Epoch 49/50\n",
      "40/40 [==============================] - 2s 44ms/step - loss: 0.1818 - teacher_forcing_accuracy: 0.9340 - val_loss: 0.0465 - val_teacher_forcing_accuracy: 0.9868\n",
      "Epoch 50/50\n",
      "40/40 [==============================] - 2s 44ms/step - loss: 0.1907 - teacher_forcing_accuracy: 0.9304 - val_loss: 0.0446 - val_teacher_forcing_accuracy: 0.9876\n"
     ]
    }
   ],
   "source": [
    "train_size = 5000 # len(seqs_train)\n",
    "X_train = object_seqs_train[:train_size], target_train[:train_size]\n",
    "y_train = labels_train[:train_size]\n",
    "\n",
    "X_val = object_seqs_val, target_val\n",
    "y_val = labels_val\n",
    "\n",
    "run = wandb.init(project=wandb_project_name, name=f'Transformer (standard final layer)')\n",
    "history = argsort_model.fit(X_train, y_train, validation_data=(X_val, y_val), verbose=1, callbacks=create_callbacks(), **fit_kwargs)"
   ]
  },
  {
   "cell_type": "code",
   "execution_count": 27,
   "metadata": {},
   "outputs": [
    {
     "data": {
      "image/png": "[encoded data removed]",
      "text/plain": [
       "<Figure size 640x480 with 2 Axes>"
      ]
     },
     "metadata": {},
     "output_type": "display_data"
    }
   ],
   "source": [
    "utils.plot_history(history, ('loss', 'teacher_forcing_accuracy'));"
   ]
  },
  {
   "cell_type": "code",
   "execution_count": 28,
   "metadata": {},
   "outputs": [
    {
     "name": "stdout",
     "output_type": "stream",
     "text": [
      "element-wise accuracy: 97.34%\n",
      "full sequence accuracy: 87.96%\n",
      "teacher-forcing accuracy:  98.72%\n"
     ]
    }
   ],
   "source": [
    "eval_dict = evaluate_seq2seq_model(argsort_model, object_seqs_train, target_train, labels_train, \n",
    "    start_token=START_TOKEN, print_=True)"
   ]
  },
  {
   "cell_type": "code",
   "execution_count": 29,
   "metadata": {},
   "outputs": [
    {
     "name": "stdout",
     "output_type": "stream",
     "text": [
      "element-wise accuracy: 97.25%\n",
      "full sequence accuracy: 87.53%\n",
      "teacher-forcing accuracy:  98.66%\n"
     ]
    },
    {
     "data": {
      "text/html": [
       "Waiting for W&B process to finish... <strong style=\"color:green\">(success).</strong>"
      ],
      "text/plain": [
       "<IPython.core.display.HTML object>"
      ]
     },
     "metadata": {},
     "output_type": "display_data"
    },
    {
     "data": {
      "application/vnd.jupyter.widget-view+json": {
       "model_id": "72d36c64555340b48dbb2c511e446c8e",
       "version_major": 2,
       "version_minor": 0
      },
      "text/plain": [
       "VBox(children=(Label(value='0.049 MB of 0.049 MB uploaded (0.000 MB deduped)\\r'), FloatProgress(value=0.995971…"
      ]
     },
     "metadata": {},
     "output_type": "display_data"
    },
    {
     "data": {
      "text/html": [
       " View run <strong style=\"color:#cdcd00\">Transformer (standard final layer)</strong> at: <a href=\"https://wandb.ai/awni00/dev_abstracter_sorting_generalization/runs/87g83lav\" target=\"_blank\">https://wandb.ai/awni00/dev_abstracter_sorting_generalization/runs/87g83lav</a><br/>Synced 7 W&B file(s), 1 media file(s), 1 artifact file(s) and 1 other file(s)"
      ],
      "text/plain": [
       "<IPython.core.display.HTML object>"
      ]
     },
     "metadata": {},
     "output_type": "display_data"
    }
   ],
   "source": [
    "eval_dict = evaluate_seq2seq_model(argsort_model, object_seqs_test, target_test, labels_test, \n",
    "    start_token=START_TOKEN, print_=True)\n",
    "log_to_wandb(argsort_model, eval_dict)\n",
    "wandb.finish(quiet=True)"
   ]
  }
 ],
 "metadata": {
  "kernelspec": {
   "display_name": "Python 3.8.16 ('relml')",
   "language": "python",
   "name": "python3"
  },
  "language_info": {
   "codemirror_mode": {
    "name": "ipython",
    "version": 3
   },
   "file_extension": ".py",
   "mimetype": "text/x-python",
   "name": "python",
   "nbconvert_exporter": "python",
   "pygments_lexer": "ipython3",
   "version": "3.8.16"
  },
  "orig_nbformat": 4,
  "vscode": {
   "interpreter": {
    "hash": "feb2622714ee4f3cfc5c273fa3fe6cf9410db521c7e03d7e619a7b4bef5cf3da"
   }
  }
 },
 "nbformat": 4,
 "nbformat_minor": 2
}
