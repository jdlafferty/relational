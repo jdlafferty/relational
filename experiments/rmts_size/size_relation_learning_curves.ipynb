{
 "cells": [
  {
   "cell_type": "markdown",
   "metadata": {},
   "source": [
    "# Relational Match to Sample with asymmetric 'size' relation"
   ]
  },
  {
   "cell_type": "markdown",
   "metadata": {},
   "source": [
    "## Set Up"
   ]
  },
  {
   "cell_type": "code",
   "execution_count": 1,
   "metadata": {},
   "outputs": [
    {
     "name": "stderr",
     "output_type": "stream",
     "text": [
      "2023-05-15 21:12:58.587568: I tensorflow/core/platform/cpu_feature_guard.cc:193] This TensorFlow binary is optimized with oneAPI Deep Neural Network Library (oneDNN) to use the following CPU instructions in performance-critical operations:  AVX2 AVX512F AVX512_VNNI FMA\n",
      "To enable them in other operations, rebuild TensorFlow with the appropriate compiler flags.\n",
      "2023-05-15 21:12:58.792215: I tensorflow/core/util/util.cc:169] oneDNN custom operations are on. You may see slightly different numerical results due to floating-point round-off errors from different computation orders. To turn them off, set the environment variable `TF_ENABLE_ONEDNN_OPTS=0`.\n",
      "2023-05-15 21:12:58.836519: E tensorflow/stream_executor/cuda/cuda_blas.cc:2981] Unable to register cuBLAS factory: Attempting to register factory for plugin cuBLAS when one has already been registered\n",
      "2023-05-15 21:12:59.614350: W tensorflow/stream_executor/platform/default/dso_loader.cc:64] Could not load dynamic library 'libnvinfer.so.7'; dlerror: libnvinfer.so.7: cannot open shared object file: No such file or directory; LD_LIBRARY_PATH: /gpfs/loomis/apps/avx/software/cuDNN/8.1.1.33-CUDA-11.2.2/lib:/gpfs/loomis/apps/avx/software/CUDAcore/11.2.2/nvvm/lib64:/gpfs/loomis/apps/avx/software/CUDAcore/11.2.2/extras/CUPTI/lib64:/gpfs/loomis/apps/avx/software/CUDAcore/11.2.2/lib:/vast/palmer/apps/avx.grace/software/Code-Server/4.7.0/lib:/gpfs/loomis/apps/avx/software/Perl/5.32.0-GCCcore-10.2.0/lib:/gpfs/loomis/apps/avx/software/DB/18.1.40-GCCcore-10.2.0/lib:/gpfs/loomis/apps/avx/software/libreadline/8.0-GCCcore-10.2.0/lib:/gpfs/loomis/apps/avx/software/gettext/0.21-GCCcore-10.2.0/lib:/gpfs/loomis/apps/avx/software/ncurses/6.2-GCCcore-10.2.0/lib:/gpfs/loomis/apps/avx/software/libxml2/2.9.10-GCCcore-10.2.0/lib:/gpfs/loomis/apps/avx/software/XZ/5.2.5-GCCcore-10.2.0/lib:/gpfs/loomis/apps/avx/software/expat/2.2.9-GCCcore-10.2.0/lib:/gpfs/loomis/apps/avx/software/cURL/7.72.0-GCCcore-10.2.0/lib:/gpfs/loomis/apps/avx/software/zlib/1.2.11-GCCcore-10.2.0/lib:/gpfs/loomis/apps/avx/software/GCCcore/10.2.0/lib64:/gpfs/loomis/apps/avx/software/GCCcore/10.2.0/lib\n",
      "2023-05-15 21:12:59.614546: W tensorflow/stream_executor/platform/default/dso_loader.cc:64] Could not load dynamic library 'libnvinfer_plugin.so.7'; dlerror: libnvinfer_plugin.so.7: cannot open shared object file: No such file or directory; LD_LIBRARY_PATH: /gpfs/loomis/apps/avx/software/cuDNN/8.1.1.33-CUDA-11.2.2/lib:/gpfs/loomis/apps/avx/software/CUDAcore/11.2.2/nvvm/lib64:/gpfs/loomis/apps/avx/software/CUDAcore/11.2.2/extras/CUPTI/lib64:/gpfs/loomis/apps/avx/software/CUDAcore/11.2.2/lib:/vast/palmer/apps/avx.grace/software/Code-Server/4.7.0/lib:/gpfs/loomis/apps/avx/software/Perl/5.32.0-GCCcore-10.2.0/lib:/gpfs/loomis/apps/avx/software/DB/18.1.40-GCCcore-10.2.0/lib:/gpfs/loomis/apps/avx/software/libreadline/8.0-GCCcore-10.2.0/lib:/gpfs/loomis/apps/avx/software/gettext/0.21-GCCcore-10.2.0/lib:/gpfs/loomis/apps/avx/software/ncurses/6.2-GCCcore-10.2.0/lib:/gpfs/loomis/apps/avx/software/libxml2/2.9.10-GCCcore-10.2.0/lib:/gpfs/loomis/apps/avx/software/XZ/5.2.5-GCCcore-10.2.0/lib:/gpfs/loomis/apps/avx/software/expat/2.2.9-GCCcore-10.2.0/lib:/gpfs/loomis/apps/avx/software/cURL/7.72.0-GCCcore-10.2.0/lib:/gpfs/loomis/apps/avx/software/zlib/1.2.11-GCCcore-10.2.0/lib:/gpfs/loomis/apps/avx/software/GCCcore/10.2.0/lib64:/gpfs/loomis/apps/avx/software/GCCcore/10.2.0/lib\n",
      "2023-05-15 21:12:59.614561: W tensorflow/compiler/tf2tensorrt/utils/py_utils.cc:38] TF-TRT Warning: Cannot dlopen some TensorRT libraries. If you would like to use Nvidia GPU with TensorRT, please make sure the missing libraries mentioned above are installed properly.\n"
     ]
    }
   ],
   "source": [
    "import sys\n",
    "sys.path.append('../..'); sys.path.append('../'); \n",
    "\n",
    "import numpy as np\n",
    "import matplotlib.pyplot as plt\n",
    "import tensorflow as tf\n",
    "import utils\n",
    "import imageio\n",
    "\n",
    "from tqdm import tqdm, trange\n",
    "import wandb"
   ]
  },
  {
   "cell_type": "code",
   "execution_count": 9,
   "metadata": {},
   "outputs": [],
   "source": [
    "dat = np.load('imgs_size/RMTS_size_pretrain.npz')\n",
    "X = dat['x']\n",
    "y = dat['y']\n",
    "X = X\n",
    "X = np.expand_dims(X, axis=4)\n",
    "\n",
    "from sklearn.model_selection import train_test_split\n",
    "test_size = 0.35\n",
    "val_size = 0.15\n",
    "X_train, X_test, y_train, y_test = train_test_split(X, y, test_size=test_size)\n",
    "X_train, X_val, y_train, y_val = train_test_split(X_train, y_train, test_size=val_size/(1-test_size))"
   ]
  },
  {
   "cell_type": "code",
   "execution_count": 10,
   "metadata": {},
   "outputs": [
    {
     "data": {
      "text/plain": [
       "((100, 2, 32, 32, 1),\n",
       " (100,),\n",
       " (30, 2, 32, 32, 1),\n",
       " (30,),\n",
       " (70, 2, 32, 32, 1),\n",
       " (70,))"
      ]
     },
     "execution_count": 10,
     "metadata": {},
     "output_type": "execute_result"
    }
   ],
   "source": [
    "X_train.shape, y_train.shape, X_val.shape, y_val.shape, X_test.shape, y_test.shape"
   ]
  },
  {
   "cell_type": "code",
   "execution_count": 13,
   "metadata": {},
   "outputs": [
    {
     "data": {
      "image/png": "[encoded data removed]",
      "text/plain": [
       "<Figure size 200x500 with 10 Axes>"
      ]
     },
     "metadata": {},
     "output_type": "display_data"
    }
   ],
   "source": [
    "def display_sample(X, y, to_show=10):\n",
    "    seq_len = int(X.shape[1]/2)\n",
    "    fig, axarr = plt.subplots(to_show, 2*seq_len, figsize=(2*seq_len, 5))\n",
    "    plt.rcParams['axes.titlepad'] = -14  \n",
    "    for i in range(to_show):\n",
    "        ind = np.random.choice(range(len(X)), 1)[0]\n",
    "        for j in range(2*seq_len):\n",
    "            axarr[i,j].imshow(X[ind,j], cmap='gray_r')\n",
    "            axarr[i,j].axis('off')\n",
    "            if (j == 2*seq_len-1):\n",
    "                axarr[i,j].set_title('%d' % y[ind], loc='right')\n",
    "    plt.show()\n",
    "\n",
    "\n",
    "display_sample(X, y, to_show=5)"
   ]
  },
  {
   "cell_type": "markdown",
   "metadata": {},
   "source": [
    "## CNN Encoder (for all models)"
   ]
  },
  {
   "cell_type": "code",
   "execution_count": 14,
   "metadata": {},
   "outputs": [],
   "source": [
    "class CnnEncoder(tf.keras.Model):\n",
    "    def __init__(self, ff_dim1=64, ff_dim2=64, normalize=True, name='cnn_encoder'):\n",
    "        super().__init__(name=name)\n",
    "\n",
    "        self.conv_layer1 = layers.Conv2D(32, (3, 3), activation='relu', name='%s/conv_layer1' % name)\n",
    "        self.pool_layer1 = layers.MaxPooling2D((3, 3))\n",
    "        self.conv_layer2 = layers.Conv2D(32, (3, 3), activation='relu', name='%s/conv_layer2' % name)\n",
    "        self.pool_layer2 = layers.MaxPooling2D((3, 3))\n",
    "        self.flatten = layers.Flatten()\n",
    "        #self.dense1 = layers.Dense(ff_dim1, activation='relu')\n",
    "        self.dense2 = layers.Dense(ff_dim2, activation='tanh', name='%s/dense_layer' % name)\n",
    "        if normalize:\n",
    "            self.normalize = layers.LayerNormalization(center=False, scale=False, epsilon=1e-6)\n",
    "        else:\n",
    "            self.normalize = False\n",
    "\n",
    "    def call(self, inputs):\n",
    "        source = inputs\n",
    "        x = self.conv_layer1(source)\n",
    "        x = self.pool_layer1(x)\n",
    "        x = self.conv_layer2(x)\n",
    "        x = self.pool_layer2(x)\n",
    "        x = self.flatten(x)\n",
    "        #x = self.dense1(x)\n",
    "        x = self.dense2(x)\n",
    "        if self.normalize:\n",
    "            outputs = self.normalize(x)\n",
    "        else:\n",
    "            outputs = x\n",
    "        return outputs\n",
    "    \n",
    "    def print_summary(self, input_shape):\n",
    "        inputs = layers.Input(input_shape)\n",
    "        outputs = self.call(inputs)\n",
    "        print(tf.keras.Model(inputs, outputs).summary())"
   ]
  },
  {
   "cell_type": "markdown",
   "metadata": {},
   "source": [
    "## Abstractor"
   ]
  },
  {
   "cell_type": "code",
   "execution_count": 15,
   "metadata": {},
   "outputs": [],
   "source": [
    "from abstracters import SimpleAbstractor, RelationalAbstracter\n",
    "from abstractor import Abstractor\n",
    "from tensorflow.keras import layers"
   ]
  },
  {
   "cell_type": "code",
   "execution_count": 16,
   "metadata": {},
   "outputs": [
    {
     "name": "stderr",
     "output_type": "stream",
     "text": [
      "2023-05-15 21:18:25.688965: I tensorflow/core/platform/cpu_feature_guard.cc:193] This TensorFlow binary is optimized with oneAPI Deep Neural Network Library (oneDNN) to use the following CPU instructions in performance-critical operations:  AVX2 AVX512F AVX512_VNNI FMA\n",
      "To enable them in other operations, rebuild TensorFlow with the appropriate compiler flags.\n",
      "2023-05-15 21:18:26.393483: I tensorflow/core/common_runtime/gpu/gpu_device.cc:1616] Created device /job:localhost/replica:0/task:0/device:GPU:0 with 22296 MB memory:  -> device: 0, name: NVIDIA GeForce RTX 3090, pci bus id: 0000:1c:00.0, compute capability: 8.6\n",
      "2023-05-15 21:18:27.570535: I tensorflow/stream_executor/cuda/cuda_dnn.cc:384] Loaded cuDNN version 8101\n",
      "2023-05-15 21:18:28.585684: W tensorflow/stream_executor/gpu/asm_compiler.cc:80] Couldn't get ptxas version string: INTERNAL: Running ptxas --version returned 32512\n",
      "2023-05-15 21:18:28.652976: W tensorflow/stream_executor/gpu/redzone_allocator.cc:314] INTERNAL: ptxas exited with non-zero error code 32512, output: \n",
      "Relying on driver to perform ptx compilation. \n",
      "Modify $PATH to customize ptxas location.\n",
      "This message will be only logged once.\n",
      "2023-05-15 21:18:29.448211: I tensorflow/stream_executor/cuda/cuda_blas.cc:1614] TensorFloat-32 will be used for the matrix multiplication. This will only be logged once.\n"
     ]
    },
    {
     "name": "stdout",
     "output_type": "stream",
     "text": [
      "Model: \"rmts_abstractor\"\n",
      "_________________________________________________________________\n",
      " Layer (type)                Output Shape              Param #   \n",
      "=================================================================\n",
      " cnn_encoder (CnnEncoder)    multiple                  17824     \n",
      "                                                                 \n",
      " abstractor (Abstractor)     multiple                  8450      \n",
      "                                                                 \n",
      " flatten_1 (Flatten)         multiple                  0         \n",
      "                                                                 \n",
      " hidden_layer (Dense)        multiple                  672       \n",
      "                                                                 \n",
      " final_layer (Dense)         multiple                  33        \n",
      "                                                                 \n",
      "=================================================================\n",
      "Total params: 26,979\n",
      "Trainable params: 9,155\n",
      "Non-trainable params: 17,824\n",
      "_________________________________________________________________\n"
     ]
    }
   ],
   "source": [
    "embedding_dim = 64\n",
    "\n",
    "abstractor_kwargs = dict(\n",
    "        num_layers=1,\n",
    "        rel_dim=1,\n",
    "        symbol_dim=10,\n",
    "        proj_dim=64,\n",
    "        symmetric_rels=False,\n",
    "        encoder_kwargs=None,\n",
    "        rel_activation_type='softmax',\n",
    "        use_self_attn=False,\n",
    "        use_layer_norm=False,\n",
    "        dropout_rate=0.1,)\n",
    "\n",
    "cnn_encoder_kwargs = dict(ff_dim2=embedding_dim, normalize=False, name='cnn_encoder')\n",
    "\n",
    "rmtsabstractor_kwargs = dict(cnn_encoder_kwargs=cnn_encoder_kwargs, abstractor_kwargs=abstractor_kwargs)\n",
    "\n",
    "class AbstractorRMTSModel(tf.keras.Model):\n",
    "    def __init__(self, cnn_encoder_kwargs, abstractor_kwargs, name=None):\n",
    "        super().__init__(name=name)\n",
    "        self.cnn_encoder = CnnEncoder(**cnn_encoder_kwargs)\n",
    "        # self.cnn_embedder = layers.TimeDistributed(cnn_encoder, name='cnn_embedder')\n",
    "        self.cnn_encoder.trainable = False\n",
    "        # self.abstractor = SimpleAbstractor(**abstractor_kwargs)\n",
    "        self.abstractor = Abstractor(**abstractor_kwargs)\n",
    "        self.flatten = layers.Flatten()\n",
    "        self.hidden_dense = layers.Dense(32, activation='relu', name='hidden_layer')\n",
    "        self.final_layer = layers.Dense(1, activation='sigmoid', name='final_layer')\n",
    "    \n",
    "    def call(self, inputs):\n",
    "        x = tf.map_fn(self.cnn_encoder, inputs)\n",
    "        x = self.abstractor(x)\n",
    "        x = self.flatten(x)\n",
    "        x = self.hidden_dense(x)\n",
    "        x = self.final_layer(x)\n",
    "\n",
    "        return x\n",
    "\n",
    "loss = tf.keras.losses.SparseCategoricalCrossentropy(from_logits=True, name='binary_crossentropy')\n",
    "create_opt = lambda : tf.keras.optimizers.Adam(learning_rate=0.001)\n",
    "# create_opt = lambda : tf.keras.optimizers.Adam()\n",
    "\n",
    "abstractor_model = AbstractorRMTSModel(**rmtsabstractor_kwargs, name='rmts_abstractor')\n",
    "abstractor_model.compile(loss='binary_crossentropy', optimizer=create_opt(), metrics=['binary_accuracy'])\n",
    "abstractor_model(X_train[:32])\n",
    "abstractor_model.summary()"
   ]
  },
  {
   "cell_type": "code",
   "execution_count": 17,
   "metadata": {},
   "outputs": [
    {
     "name": "stdout",
     "output_type": "stream",
     "text": [
      "Epoch 1/20\n",
      "1/1 [==============================] - 2s 2s/step - loss: 0.7536 - binary_accuracy: 0.5000 - val_loss: 0.7473 - val_binary_accuracy: 0.5000\n",
      "Epoch 2/20\n",
      "1/1 [==============================] - 0s 53ms/step - loss: 0.7249 - binary_accuracy: 0.5000 - val_loss: 0.7382 - val_binary_accuracy: 0.5000\n",
      "Epoch 3/20\n",
      "1/1 [==============================] - 0s 60ms/step - loss: 0.7594 - binary_accuracy: 0.5000 - val_loss: 0.7294 - val_binary_accuracy: 0.5000\n",
      "Epoch 4/20\n",
      "1/1 [==============================] - 0s 60ms/step - loss: 0.6994 - binary_accuracy: 0.5000 - val_loss: 0.7212 - val_binary_accuracy: 0.5000\n",
      "Epoch 5/20\n",
      "1/1 [==============================] - 0s 60ms/step - loss: 0.7176 - binary_accuracy: 0.5000 - val_loss: 0.7139 - val_binary_accuracy: 0.5000\n",
      "Epoch 6/20\n",
      "1/1 [==============================] - 0s 55ms/step - loss: 0.7473 - binary_accuracy: 0.5000 - val_loss: 0.7070 - val_binary_accuracy: 0.5000\n",
      "Epoch 7/20\n",
      "1/1 [==============================] - 0s 57ms/step - loss: 0.7064 - binary_accuracy: 0.5000 - val_loss: 0.6999 - val_binary_accuracy: 0.5000\n",
      "Epoch 8/20\n",
      "1/1 [==============================] - 0s 57ms/step - loss: 0.7135 - binary_accuracy: 0.5000 - val_loss: 0.6928 - val_binary_accuracy: 0.5000\n",
      "Epoch 9/20\n",
      "1/1 [==============================] - 0s 57ms/step - loss: 0.7028 - binary_accuracy: 0.5000 - val_loss: 0.6862 - val_binary_accuracy: 0.5000\n",
      "Epoch 10/20\n",
      "1/1 [==============================] - 0s 56ms/step - loss: 0.6707 - binary_accuracy: 0.6000 - val_loss: 0.6796 - val_binary_accuracy: 0.5000\n",
      "Epoch 11/20\n",
      "1/1 [==============================] - 0s 57ms/step - loss: 0.6891 - binary_accuracy: 0.5000 - val_loss: 0.6731 - val_binary_accuracy: 0.5000\n",
      "Epoch 12/20\n",
      "1/1 [==============================] - 0s 57ms/step - loss: 0.6873 - binary_accuracy: 0.5000 - val_loss: 0.6664 - val_binary_accuracy: 0.5000\n",
      "Epoch 13/20\n",
      "1/1 [==============================] - 0s 58ms/step - loss: 0.6804 - binary_accuracy: 0.4000 - val_loss: 0.6597 - val_binary_accuracy: 0.7000\n",
      "Epoch 14/20\n",
      "1/1 [==============================] - 0s 58ms/step - loss: 0.6386 - binary_accuracy: 0.8000 - val_loss: 0.6526 - val_binary_accuracy: 0.7000\n",
      "Epoch 15/20\n",
      "1/1 [==============================] - 0s 62ms/step - loss: 0.6450 - binary_accuracy: 0.8000 - val_loss: 0.6451 - val_binary_accuracy: 0.7000\n",
      "Epoch 16/20\n",
      "1/1 [==============================] - 0s 61ms/step - loss: 0.6562 - binary_accuracy: 0.8000 - val_loss: 0.6371 - val_binary_accuracy: 1.0000\n",
      "Epoch 17/20\n",
      "1/1 [==============================] - 0s 58ms/step - loss: 0.6246 - binary_accuracy: 0.8000 - val_loss: 0.6301 - val_binary_accuracy: 1.0000\n",
      "Epoch 18/20\n",
      "1/1 [==============================] - 0s 60ms/step - loss: 0.6337 - binary_accuracy: 0.9000 - val_loss: 0.6225 - val_binary_accuracy: 1.0000\n",
      "Epoch 19/20\n",
      "1/1 [==============================] - 0s 59ms/step - loss: 0.6227 - binary_accuracy: 0.9000 - val_loss: 0.6143 - val_binary_accuracy: 1.0000\n",
      "Epoch 20/20\n",
      "1/1 [==============================] - 0s 58ms/step - loss: 0.6445 - binary_accuracy: 0.7000 - val_loss: 0.6058 - val_binary_accuracy: 1.0000\n"
     ]
    }
   ],
   "source": [
    "train_size = 10\n",
    "X_train_, y_train_ = X_train[:train_size], y_train[:train_size]\n",
    "history = abstractor_model.fit(X_train_, y_train_, validation_data=(X_train_, y_train_),\n",
    "    verbose=1, epochs=20, batch_size=64)"
   ]
  },
  {
   "cell_type": "code",
   "execution_count": 18,
   "metadata": {},
   "outputs": [
    {
     "data": {
      "image/png": "[encoded data removed]",
      "text/plain": [
       "<Figure size 640x480 with 2 Axes>"
      ]
     },
     "metadata": {},
     "output_type": "display_data"
    }
   ],
   "source": [
    "utils.plot_history(history, ('loss', 'binary_accuracy'));"
   ]
  },
  {
   "cell_type": "code",
   "execution_count": 19,
   "metadata": {},
   "outputs": [
    {
     "name": "stdout",
     "output_type": "stream",
     "text": [
      "4/4 [==============================] - 0s 18ms/step - loss: 0.6272 - binary_accuracy: 0.9000\n"
     ]
    },
    {
     "data": {
      "text/plain": [
       "[0.6271562576293945, 0.8999999761581421]"
      ]
     },
     "execution_count": 19,
     "metadata": {},
     "output_type": "execute_result"
    }
   ],
   "source": [
    "abstractor_model.evaluate(X_train, y_train)"
   ]
  },
  {
   "cell_type": "code",
   "execution_count": 20,
   "metadata": {},
   "outputs": [
    {
     "name": "stdout",
     "output_type": "stream",
     "text": [
      "3/3 [==============================] - 0s 14ms/step - loss: 0.6387 - binary_accuracy: 0.8286\n"
     ]
    },
    {
     "data": {
      "text/plain": [
       "[0.6387030482292175, 0.8285714387893677]"
      ]
     },
     "execution_count": 20,
     "metadata": {},
     "output_type": "execute_result"
    }
   ],
   "source": [
    "abstractor_model.evaluate(X_test, y_test)"
   ]
  },
  {
   "cell_type": "markdown",
   "metadata": {},
   "source": [
    "## CorelNet"
   ]
  },
  {
   "cell_type": "code",
   "execution_count": 21,
   "metadata": {},
   "outputs": [],
   "source": [
    "from multi_head_relation import MultiHeadRelation\n",
    "from tensorflow.keras import layers"
   ]
  },
  {
   "cell_type": "code",
   "execution_count": 22,
   "metadata": {},
   "outputs": [
    {
     "name": "stdout",
     "output_type": "stream",
     "text": [
      "Model: \"rmts_corelnet\"\n",
      "_________________________________________________________________\n",
      " Layer (type)                Output Shape              Param #   \n",
      "=================================================================\n",
      " cnn_encoder (CnnEncoder)    multiple                  17824     \n",
      "                                                                 \n",
      " flatten_3 (Flatten)         multiple                  0         \n",
      "                                                                 \n",
      " hidden_layer (Dense)        multiple                  160       \n",
      "                                                                 \n",
      " final_layer (Dense)         multiple                  33        \n",
      "                                                                 \n",
      "=================================================================\n",
      "Total params: 18,017\n",
      "Trainable params: 193\n",
      "Non-trainable params: 17,824\n",
      "_________________________________________________________________\n"
     ]
    }
   ],
   "source": [
    "embedding_dim = 64\n",
    "cnn_encoder_kwargs = dict(ff_dim2=embedding_dim, normalize=False, name='cnn_encoder')\n",
    "rmtscorelnet_kwargs = dict(cnn_encoder_kwargs=cnn_encoder_kwargs)\n",
    "\n",
    "class CorelNetRMTSModel(tf.keras.Model):\n",
    "    def __init__(self, cnn_encoder_kwargs, name=None):\n",
    "        super().__init__(name=name)\n",
    "        self.cnn_encoder = CnnEncoder(**cnn_encoder_kwargs)\n",
    "        # self.cnn_embedder = layers.TimeDistributed(cnn_encoder, name='cnn_embedder')\n",
    "        self.cnn_encoder.trainable = False\n",
    "        self.flatten = layers.Flatten()\n",
    "        self.hidden_dense = layers.Dense(32, activation='relu', name='hidden_layer')\n",
    "        self.final_layer = layers.Dense(1, activation='sigmoid', name='final_layer')\n",
    "    \n",
    "    def call(self, inputs):\n",
    "        x = tf.map_fn(self.cnn_encoder, inputs)\n",
    "        x = tf.matmul(x, x, transpose_b=True)\n",
    "        x = self.flatten(x)\n",
    "        x = self.hidden_dense(x)\n",
    "        x = self.final_layer(x)\n",
    "\n",
    "        return x\n",
    "\n",
    "loss = tf.keras.losses.SparseCategoricalCrossentropy(from_logits=True, name='binary_crossentropy')\n",
    "create_opt = lambda : tf.keras.optimizers.Adam(learning_rate=0.001)\n",
    "\n",
    "corelnet_model = CorelNetRMTSModel(**rmtscorelnet_kwargs, name='rmts_corelnet')\n",
    "corelnet_model.compile(loss='binary_crossentropy', optimizer=create_opt(), metrics=['binary_accuracy'])\n",
    "corelnet_model(X_train[:32])\n",
    "corelnet_model.summary()"
   ]
  },
  {
   "cell_type": "code",
   "execution_count": 23,
   "metadata": {},
   "outputs": [
    {
     "name": "stdout",
     "output_type": "stream",
     "text": [
      "Epoch 1/20\n",
      "1/1 [==============================] - 1s 1s/step - loss: 0.6902 - binary_accuracy: 0.5000 - val_loss: 0.6889 - val_binary_accuracy: 0.5000\n",
      "Epoch 2/20\n",
      "1/1 [==============================] - 0s 55ms/step - loss: 0.6889 - binary_accuracy: 0.5000 - val_loss: 0.6877 - val_binary_accuracy: 0.5000\n",
      "Epoch 3/20\n",
      "1/1 [==============================] - 0s 55ms/step - loss: 0.6877 - binary_accuracy: 0.5000 - val_loss: 0.6867 - val_binary_accuracy: 0.5000\n",
      "Epoch 4/20\n",
      "1/1 [==============================] - 0s 56ms/step - loss: 0.6867 - binary_accuracy: 0.5000 - val_loss: 0.6859 - val_binary_accuracy: 0.5000\n",
      "Epoch 5/20\n",
      "1/1 [==============================] - 0s 58ms/step - loss: 0.6859 - binary_accuracy: 0.5000 - val_loss: 0.6852 - val_binary_accuracy: 0.5000\n",
      "Epoch 6/20\n",
      "1/1 [==============================] - 0s 54ms/step - loss: 0.6852 - binary_accuracy: 0.5000 - val_loss: 0.6847 - val_binary_accuracy: 0.6000\n",
      "Epoch 7/20\n",
      "1/1 [==============================] - 0s 54ms/step - loss: 0.6847 - binary_accuracy: 0.6000 - val_loss: 0.6842 - val_binary_accuracy: 0.6000\n",
      "Epoch 8/20\n",
      "1/1 [==============================] - 0s 59ms/step - loss: 0.6842 - binary_accuracy: 0.6000 - val_loss: 0.6838 - val_binary_accuracy: 0.6000\n",
      "Epoch 9/20\n",
      "1/1 [==============================] - 0s 57ms/step - loss: 0.6838 - binary_accuracy: 0.6000 - val_loss: 0.6835 - val_binary_accuracy: 0.6000\n",
      "Epoch 10/20\n",
      "1/1 [==============================] - 0s 57ms/step - loss: 0.6835 - binary_accuracy: 0.6000 - val_loss: 0.6831 - val_binary_accuracy: 0.7000\n",
      "Epoch 11/20\n",
      "1/1 [==============================] - 0s 56ms/step - loss: 0.6831 - binary_accuracy: 0.7000 - val_loss: 0.6828 - val_binary_accuracy: 0.7000\n",
      "Epoch 12/20\n",
      "1/1 [==============================] - 0s 56ms/step - loss: 0.6828 - binary_accuracy: 0.7000 - val_loss: 0.6824 - val_binary_accuracy: 0.7000\n",
      "Epoch 13/20\n",
      "1/1 [==============================] - 0s 59ms/step - loss: 0.6824 - binary_accuracy: 0.7000 - val_loss: 0.6820 - val_binary_accuracy: 0.7000\n",
      "Epoch 14/20\n",
      "1/1 [==============================] - 0s 55ms/step - loss: 0.6820 - binary_accuracy: 0.7000 - val_loss: 0.6816 - val_binary_accuracy: 0.7000\n",
      "Epoch 15/20\n",
      "1/1 [==============================] - 0s 54ms/step - loss: 0.6816 - binary_accuracy: 0.7000 - val_loss: 0.6812 - val_binary_accuracy: 0.7000\n",
      "Epoch 16/20\n",
      "1/1 [==============================] - 0s 57ms/step - loss: 0.6812 - binary_accuracy: 0.7000 - val_loss: 0.6807 - val_binary_accuracy: 0.7000\n",
      "Epoch 17/20\n",
      "1/1 [==============================] - 0s 56ms/step - loss: 0.6807 - binary_accuracy: 0.7000 - val_loss: 0.6803 - val_binary_accuracy: 0.7000\n",
      "Epoch 18/20\n",
      "1/1 [==============================] - 0s 61ms/step - loss: 0.6803 - binary_accuracy: 0.7000 - val_loss: 0.6799 - val_binary_accuracy: 0.7000\n",
      "Epoch 19/20\n",
      "1/1 [==============================] - 0s 60ms/step - loss: 0.6799 - binary_accuracy: 0.7000 - val_loss: 0.6797 - val_binary_accuracy: 0.7000\n",
      "Epoch 20/20\n",
      "1/1 [==============================] - 0s 58ms/step - loss: 0.6797 - binary_accuracy: 0.7000 - val_loss: 0.6795 - val_binary_accuracy: 0.7000\n"
     ]
    }
   ],
   "source": [
    "train_size = 10\n",
    "X_train_, y_train_ = X_train[:train_size], y_train[:train_size]\n",
    "history = corelnet_model.fit(X_train_, y_train_, validation_data=(X_train_, y_train_),\n",
    "    verbose=1, epochs=20, batch_size=64)"
   ]
  },
  {
   "cell_type": "code",
   "execution_count": 24,
   "metadata": {},
   "outputs": [
    {
     "data": {
      "image/png": "[encoded data removed]",
      "text/plain": [
       "<Figure size 640x480 with 2 Axes>"
      ]
     },
     "metadata": {},
     "output_type": "display_data"
    }
   ],
   "source": [
    "utils.plot_history(history, ('loss', 'binary_accuracy'));"
   ]
  },
  {
   "cell_type": "code",
   "execution_count": 25,
   "metadata": {},
   "outputs": [
    {
     "name": "stdout",
     "output_type": "stream",
     "text": [
      "4/4 [==============================] - 0s 15ms/step - loss: 0.6986 - binary_accuracy: 0.5500\n"
     ]
    },
    {
     "data": {
      "text/plain": [
       "[0.698609471321106, 0.550000011920929]"
      ]
     },
     "execution_count": 25,
     "metadata": {},
     "output_type": "execute_result"
    }
   ],
   "source": [
    "corelnet_model.evaluate(X_train, y_train)"
   ]
  },
  {
   "cell_type": "code",
   "execution_count": 26,
   "metadata": {},
   "outputs": [
    {
     "name": "stdout",
     "output_type": "stream",
     "text": [
      "3/3 [==============================] - 0s 16ms/step - loss: 0.6984 - binary_accuracy: 0.5429\n"
     ]
    },
    {
     "data": {
      "text/plain": [
       "[0.6983519196510315, 0.5428571701049805]"
      ]
     },
     "execution_count": 26,
     "metadata": {},
     "output_type": "execute_result"
    }
   ],
   "source": [
    "corelnet_model.evaluate(X_test, y_test)"
   ]
  },
  {
   "cell_type": "markdown",
   "metadata": {},
   "source": [
    "## Transformer"
   ]
  },
  {
   "cell_type": "code",
   "execution_count": 27,
   "metadata": {},
   "outputs": [],
   "source": [
    "from transformer_modules import Encoder\n",
    "from tensorflow.keras import layers"
   ]
  },
  {
   "cell_type": "code",
   "execution_count": 37,
   "metadata": {},
   "outputs": [
    {
     "name": "stdout",
     "output_type": "stream",
     "text": [
      "Model: \"rmts_transformer\"\n",
      "_________________________________________________________________\n",
      " Layer (type)                Output Shape              Param #   \n",
      "=================================================================\n",
      " cnn_encoder (CnnEncoder)    multiple                  17824     \n",
      "                                                                 \n",
      " encoder (Encoder)           multiple                  74944     \n",
      "                                                                 \n",
      " flatten_11 (Flatten)        multiple                  0         \n",
      "                                                                 \n",
      " hidden_layer (Dense)        multiple                  8256      \n",
      "                                                                 \n",
      " hidden_layer (Dense)        multiple                  4160      \n",
      "                                                                 \n",
      " final_layer (Dense)         multiple                  65        \n",
      "                                                                 \n",
      "=================================================================\n",
      "Total params: 105,249\n",
      "Trainable params: 105,249\n",
      "Non-trainable params: 0\n",
      "_________________________________________________________________\n"
     ]
    }
   ],
   "source": [
    "\n",
    "embedding_dim = 64\n",
    "encoder_kwargs = dict(\n",
    "    num_layers=1, \n",
    "    num_heads=4,\n",
    "    dff=64,\n",
    "    dropout_rate=0.1)\n",
    "\n",
    "cnn_encoder_kwargs = dict(ff_dim2=embedding_dim, normalize=False, name='cnn_encoder')\n",
    "rmtstransformer_kwargs = dict(cnn_encoder_kwargs=cnn_encoder_kwargs, encoder_kwargs=encoder_kwargs)\n",
    "\n",
    "class TransformerRMTSModel(tf.keras.Model):\n",
    "    def __init__(self, cnn_encoder_kwargs, encoder_kwargs, name=None):\n",
    "        super().__init__(name=name)\n",
    "        self.cnn_encoder = CnnEncoder(**cnn_encoder_kwargs)\n",
    "        # self.cnn_embedder = layers.TimeDistributed(self.cnn_encoder, name='cnn_embedder')\n",
    "        # self.cnn_encoder.trainable = False\n",
    "        self.encoder = Encoder(**encoder_kwargs)\n",
    "        self.flatten = layers.Flatten()\n",
    "        self.hidden_dense1 = layers.Dense(64, activation='relu', name='hidden_layer')\n",
    "        self.hidden_dense2 = layers.Dense(64, activation='relu', name='hidden_layer')\n",
    "        self.final_layer = layers.Dense(1, activation='sigmoid', name='final_layer')\n",
    "    \n",
    "    def call(self, inputs):\n",
    "        # x = self.cnn_embedder(inputs)\n",
    "        x = tf.map_fn(self.cnn_encoder, inputs)\n",
    "        x = self.encoder(x)\n",
    "        x = self.flatten(x)\n",
    "        x = self.hidden_dense1(x)\n",
    "        x = self.hidden_dense2(x)\n",
    "        x = self.final_layer(x)\n",
    "\n",
    "        return x\n",
    "\n",
    "loss = tf.keras.losses.SparseCategoricalCrossentropy(from_logits=True, name='binary_crossentropy')\n",
    "create_opt = lambda : tf.keras.optimizers.Adam(learning_rate=0.01)\n",
    "# create_opt = lambda : tf.keras.optimizers.SGD(learning_rate=0.01)\n",
    "\n",
    "transformer_model = TransformerRMTSModel(**rmtstransformer_kwargs, name='rmts_transformer')\n",
    "transformer_model.compile(loss='binary_crossentropy', optimizer=create_opt(), metrics=['binary_accuracy'])\n",
    "transformer_model(X_train[:32])\n",
    "transformer_model.summary()"
   ]
  },
  {
   "cell_type": "code",
   "execution_count": 38,
   "metadata": {},
   "outputs": [
    {
     "name": "stdout",
     "output_type": "stream",
     "text": [
      "Epoch 1/40\n",
      "1/1 [==============================] - 2s 2s/step - loss: 0.7347 - binary_accuracy: 0.5000 - val_loss: 0.6877 - val_binary_accuracy: 0.5000\n",
      "Epoch 2/40\n",
      "1/1 [==============================] - 0s 68ms/step - loss: 0.6989 - binary_accuracy: 0.5000 - val_loss: 0.7725 - val_binary_accuracy: 0.5000\n",
      "Epoch 3/40\n",
      "1/1 [==============================] - 0s 70ms/step - loss: 0.7798 - binary_accuracy: 0.5000 - val_loss: 1.2982 - val_binary_accuracy: 0.5000\n",
      "Epoch 4/40\n",
      "1/1 [==============================] - 0s 65ms/step - loss: 1.3030 - binary_accuracy: 0.5000 - val_loss: 0.7465 - val_binary_accuracy: 0.5000\n",
      "Epoch 5/40\n",
      "1/1 [==============================] - 0s 71ms/step - loss: 0.7471 - binary_accuracy: 0.5000 - val_loss: 0.7116 - val_binary_accuracy: 0.5000\n",
      "Epoch 6/40\n",
      "1/1 [==============================] - 0s 64ms/step - loss: 0.7107 - binary_accuracy: 0.5000 - val_loss: 0.7256 - val_binary_accuracy: 0.5000\n",
      "Epoch 7/40\n",
      "1/1 [==============================] - 0s 67ms/step - loss: 0.7149 - binary_accuracy: 0.5000 - val_loss: 0.7040 - val_binary_accuracy: 0.5000\n",
      "Epoch 8/40\n",
      "1/1 [==============================] - 0s 66ms/step - loss: 0.7019 - binary_accuracy: 0.5000 - val_loss: 0.6935 - val_binary_accuracy: 0.5000\n",
      "Epoch 9/40\n",
      "1/1 [==============================] - 0s 67ms/step - loss: 0.6961 - binary_accuracy: 0.5000 - val_loss: 0.7092 - val_binary_accuracy: 0.5000\n",
      "Epoch 10/40\n",
      "1/1 [==============================] - 0s 70ms/step - loss: 0.6934 - binary_accuracy: 0.5000 - val_loss: 0.6911 - val_binary_accuracy: 0.5000\n",
      "Epoch 11/40\n",
      "1/1 [==============================] - 0s 69ms/step - loss: 0.6973 - binary_accuracy: 0.4000 - val_loss: 0.7059 - val_binary_accuracy: 0.5000\n",
      "Epoch 12/40\n",
      "1/1 [==============================] - 0s 70ms/step - loss: 0.7203 - binary_accuracy: 0.5000 - val_loss: 0.6945 - val_binary_accuracy: 0.5000\n",
      "Epoch 13/40\n",
      "1/1 [==============================] - 0s 68ms/step - loss: 0.6904 - binary_accuracy: 0.5000 - val_loss: 0.7048 - val_binary_accuracy: 0.5000\n",
      "Epoch 14/40\n",
      "1/1 [==============================] - 0s 71ms/step - loss: 0.7008 - binary_accuracy: 0.5000 - val_loss: 0.6989 - val_binary_accuracy: 0.5000\n",
      "Epoch 15/40\n",
      "1/1 [==============================] - 0s 68ms/step - loss: 0.6994 - binary_accuracy: 0.5000 - val_loss: 0.7025 - val_binary_accuracy: 0.5000\n",
      "Epoch 16/40\n",
      "1/1 [==============================] - 0s 73ms/step - loss: 0.7039 - binary_accuracy: 0.5000 - val_loss: 0.6944 - val_binary_accuracy: 0.5000\n",
      "Epoch 17/40\n",
      "1/1 [==============================] - 0s 71ms/step - loss: 0.6987 - binary_accuracy: 0.4000 - val_loss: 0.7040 - val_binary_accuracy: 0.5000\n",
      "Epoch 18/40\n",
      "1/1 [==============================] - 0s 71ms/step - loss: 0.7033 - binary_accuracy: 0.5000 - val_loss: 0.6941 - val_binary_accuracy: 0.5000\n",
      "Epoch 19/40\n",
      "1/1 [==============================] - 0s 68ms/step - loss: 0.6978 - binary_accuracy: 0.5000 - val_loss: 0.7029 - val_binary_accuracy: 0.5000\n",
      "Epoch 20/40\n",
      "1/1 [==============================] - 0s 73ms/step - loss: 0.6769 - binary_accuracy: 0.5000 - val_loss: 0.6923 - val_binary_accuracy: 0.5000\n",
      "Epoch 21/40\n",
      "1/1 [==============================] - 0s 67ms/step - loss: 0.6947 - binary_accuracy: 0.7000 - val_loss: 0.6934 - val_binary_accuracy: 0.5000\n",
      "Epoch 22/40\n",
      "1/1 [==============================] - 0s 67ms/step - loss: 0.6900 - binary_accuracy: 0.6000 - val_loss: 0.6918 - val_binary_accuracy: 0.5000\n",
      "Epoch 23/40\n",
      "1/1 [==============================] - 0s 67ms/step - loss: 0.7222 - binary_accuracy: 0.5000 - val_loss: 0.6939 - val_binary_accuracy: 0.5000\n",
      "Epoch 24/40\n",
      "1/1 [==============================] - 0s 67ms/step - loss: 0.7486 - binary_accuracy: 0.3000 - val_loss: 0.6894 - val_binary_accuracy: 0.5000\n",
      "Epoch 25/40\n",
      "1/1 [==============================] - 0s 70ms/step - loss: 0.7688 - binary_accuracy: 0.3000 - val_loss: 0.6911 - val_binary_accuracy: 0.5000\n",
      "Epoch 26/40\n",
      "1/1 [==============================] - 0s 68ms/step - loss: 0.6949 - binary_accuracy: 0.5000 - val_loss: 0.7189 - val_binary_accuracy: 0.5000\n",
      "Epoch 27/40\n",
      "1/1 [==============================] - 0s 68ms/step - loss: 0.7230 - binary_accuracy: 0.5000 - val_loss: 0.6935 - val_binary_accuracy: 0.5000\n",
      "Epoch 28/40\n",
      "1/1 [==============================] - 0s 70ms/step - loss: 0.6738 - binary_accuracy: 0.5000 - val_loss: 0.7001 - val_binary_accuracy: 0.5000\n",
      "Epoch 29/40\n",
      "1/1 [==============================] - 0s 71ms/step - loss: 0.7219 - binary_accuracy: 0.5000 - val_loss: 0.7299 - val_binary_accuracy: 0.5000\n",
      "Epoch 30/40\n",
      "1/1 [==============================] - 0s 65ms/step - loss: 0.7334 - binary_accuracy: 0.5000 - val_loss: 0.6894 - val_binary_accuracy: 0.6000\n",
      "Epoch 31/40\n",
      "1/1 [==============================] - 0s 71ms/step - loss: 0.6834 - binary_accuracy: 0.4000 - val_loss: 0.7113 - val_binary_accuracy: 0.5000\n",
      "Epoch 32/40\n",
      "1/1 [==============================] - 0s 71ms/step - loss: 0.6982 - binary_accuracy: 0.5000 - val_loss: 0.6861 - val_binary_accuracy: 0.7000\n",
      "Epoch 33/40\n",
      "1/1 [==============================] - 0s 72ms/step - loss: 0.6942 - binary_accuracy: 0.5000 - val_loss: 0.6934 - val_binary_accuracy: 0.5000\n",
      "Epoch 34/40\n",
      "1/1 [==============================] - 0s 71ms/step - loss: 0.7109 - binary_accuracy: 0.5000 - val_loss: 0.6848 - val_binary_accuracy: 0.5000\n",
      "Epoch 35/40\n",
      "1/1 [==============================] - 0s 71ms/step - loss: 0.6906 - binary_accuracy: 0.6000 - val_loss: 0.6998 - val_binary_accuracy: 0.5000\n",
      "Epoch 36/40\n",
      "1/1 [==============================] - 0s 66ms/step - loss: 0.6657 - binary_accuracy: 0.6000 - val_loss: 0.6943 - val_binary_accuracy: 0.5000\n",
      "Epoch 37/40\n",
      "1/1 [==============================] - 0s 71ms/step - loss: 0.6840 - binary_accuracy: 0.6000 - val_loss: 0.6922 - val_binary_accuracy: 0.5000\n",
      "Epoch 38/40\n",
      "1/1 [==============================] - 0s 75ms/step - loss: 0.7066 - binary_accuracy: 0.5000 - val_loss: 0.6640 - val_binary_accuracy: 0.5000\n",
      "Epoch 39/40\n",
      "1/1 [==============================] - 0s 73ms/step - loss: 0.7355 - binary_accuracy: 0.5000 - val_loss: 0.6321 - val_binary_accuracy: 0.7000\n",
      "Epoch 40/40\n",
      "1/1 [==============================] - 0s 71ms/step - loss: 0.6439 - binary_accuracy: 0.7000 - val_loss: 0.6141 - val_binary_accuracy: 0.7000\n"
     ]
    }
   ],
   "source": [
    "train_size = 10\n",
    "X_train_, y_train_ = X_train[:train_size], y_train[:train_size]\n",
    "history = transformer_model.fit(X_train_, y_train_, validation_data=(X_train_, y_train_),\n",
    "    verbose=1, epochs=40, batch_size=64)"
   ]
  },
  {
   "cell_type": "code",
   "execution_count": 39,
   "metadata": {},
   "outputs": [
    {
     "data": {
      "image/png": "[encoded data removed]",
      "text/plain": [
       "<Figure size 640x480 with 2 Axes>"
      ]
     },
     "metadata": {},
     "output_type": "display_data"
    }
   ],
   "source": [
    "utils.plot_history(history, ('loss', 'binary_accuracy'));"
   ]
  },
  {
   "cell_type": "code",
   "execution_count": 40,
   "metadata": {},
   "outputs": [
    {
     "name": "stdout",
     "output_type": "stream",
     "text": [
      "4/4 [==============================] - 0s 20ms/step - loss: 0.6508 - binary_accuracy: 0.6200\n"
     ]
    }
   ],
   "source": [
    "transformer_model.evaluate(X_train, y_train);"
   ]
  },
  {
   "cell_type": "code",
   "execution_count": 41,
   "metadata": {},
   "outputs": [
    {
     "name": "stdout",
     "output_type": "stream",
     "text": [
      "3/3 [==============================] - 0s 15ms/step - loss: 0.6761 - binary_accuracy: 0.5143\n"
     ]
    },
    {
     "data": {
      "text/plain": [
       "[0.6760765314102173, 0.5142857432365417]"
      ]
     },
     "execution_count": 41,
     "metadata": {},
     "output_type": "execute_result"
    }
   ],
   "source": [
    "transformer_model.evaluate(X_test, y_test)"
   ]
  },
  {
   "cell_type": "markdown",
   "metadata": {},
   "source": [
    "## Learning curve evaluation"
   ]
  },
  {
   "cell_type": "code",
   "execution_count": 42,
   "metadata": {},
   "outputs": [],
   "source": [
    "def create_callbacks(use_wandb=False, patience=10):\n",
    "    callbacks = []\n",
    "    callbacks.append(tf.keras.callbacks.EarlyStopping(monitor='val_loss', \n",
    "        patience=patience, min_delta=1e-2, baseline=0.6, mode='auto',\n",
    "        restore_best_weights=True, verbose=False))\n",
    "    if use_wandb: callbacks.append(wandb.keras.WandbMetricsLogger(log_freq='epoch'))\n",
    "    return callbacks\n",
    "\n",
    "def evaluate_model(model, X_test, y_test):\n",
    "    eval_dict = model.evaluate(X_test, y_test, return_dict=True, verbose=False)\n",
    "    return eval_dict\n",
    "\n",
    "def log_to_wandb(evaluation_dict):\n",
    "    wandb.log(evaluation_dict)"
   ]
  },
  {
   "cell_type": "code",
   "execution_count": 43,
   "metadata": {},
   "outputs": [],
   "source": [
    "start_trial = 0\n",
    "wandb_project_name = 'abstractor_size_rmts'\n",
    "\n",
    "fit_kwargs = {'epochs': 100, 'batch_size': 64}\n",
    "\n",
    "def evaluate_learning_curves(\n",
    "    create_model, group_name, \n",
    "    X_train, y_train, X_val, y_val, X_test, y_test,\n",
    "    train_sizes, num_trials, use_wandb=False):\n",
    "\n",
    "    eval_dicts =[]\n",
    "\n",
    "    for train_size in tqdm(train_sizes, desc='train size'):\n",
    "\n",
    "        for trial in trange(start_trial, start_trial + num_trials, desc='trial', leave=False):\n",
    "\n",
    "            if use_wandb:\n",
    "                run = wandb.init(project=wandb_project_name, group=group_name, name=f'train size = {train_size}; trial = {trial}',\n",
    "                    config={'train size': train_size, 'trial': trial, 'group': group_name})\n",
    "            model = create_model()\n",
    "\n",
    "            sample_idx = np.random.choice(len(X_train), train_size, replace=False)\n",
    "            X_train_ = X_train[sample_idx]\n",
    "            y_train_ = y_train[sample_idx]\n",
    "            \n",
    "            history = model.fit(X_train, y_train, validation_data=(X_val, y_val), verbose=0,\n",
    "                callbacks=create_callbacks(use_wandb=use_wandb), **fit_kwargs)\n",
    "\n",
    "            eval_dict = evaluate_model(model, X_test, y_test)\n",
    "            \n",
    "            if use_wandb:\n",
    "                log_to_wandb(eval_dict)\n",
    "                wandb.finish(quiet=True)\n",
    "            \n",
    "            eval_dict.update({'group': group_name, 'train_size': train_size, 'trial': trial})\n",
    "            eval_dicts.append(eval_dict)\n",
    "\n",
    "            del model\n",
    "    \n",
    "    return eval_dicts\n"
   ]
  },
  {
   "cell_type": "code",
   "execution_count": 44,
   "metadata": {},
   "outputs": [],
   "source": [
    "def create_abstractor():\n",
    "    loss = tf.keras.losses.SparseCategoricalCrossentropy(from_logits=True, name='binary_crossentropy')\n",
    "    create_opt = lambda : tf.keras.optimizers.Adam(learning_rate=0.001)\n",
    "\n",
    "    abstractor_model = AbstractorRMTSModel(**rmtsabstractor_kwargs, name='rmts_abstractor')\n",
    "    abstractor_model.compile(loss='binary_crossentropy', optimizer=create_opt(), metrics=['binary_accuracy'])\n",
    "    abstractor_model(X_train[:32])\n",
    "\n",
    "    return abstractor_model\n",
    "\n",
    "def create_corelnet():\n",
    "    loss = tf.keras.losses.SparseCategoricalCrossentropy(from_logits=True, name='binary_crossentropy')\n",
    "    create_opt = lambda : tf.keras.optimizers.Adam(learning_rate=0.001)\n",
    "\n",
    "    corelnet_model = CorelNetRMTSModel(**rmtscorelnet_kwargs, name='rmts_corelnet')\n",
    "    corelnet_model.compile(loss='binary_crossentropy', optimizer=create_opt(), metrics=['binary_accuracy'])\n",
    "    corelnet_model(X_train[:32])\n",
    "    return corelnet_model\n",
    "\n",
    "def create_transformer():\n",
    "    loss = tf.keras.losses.SparseCategoricalCrossentropy(from_logits=True, name='binary_crossentropy')\n",
    "    create_opt = lambda : tf.keras.optimizers.Adam(learning_rate=0.001)\n",
    "\n",
    "    transformer_model = TransformerRMTSModel(**rmtstransformer_kwargs, name='rmts_transformer')\n",
    "    transformer_model.compile(loss='binary_crossentropy', optimizer=create_opt(), metrics=['binary_accuracy'])\n",
    "    transformer_model(X_train[:32])\n",
    "    return transformer_model\n"
   ]
  },
  {
   "cell_type": "code",
   "execution_count": 45,
   "metadata": {},
   "outputs": [
    {
     "name": "stderr",
     "output_type": "stream",
     "text": [
      "Failed to detect the name of this notebook, you can set it manually with the WANDB_NOTEBOOK_NAME environment variable to enable code saving.\n",
      "\u001b[34m\u001b[1mwandb\u001b[0m: Currently logged in as: \u001b[33mawni00\u001b[0m. Use \u001b[1m`wandb login --relogin`\u001b[0m to force relogin\n"
     ]
    },
    {
     "data": {
      "text/plain": [
       "True"
      ]
     },
     "execution_count": 45,
     "metadata": {},
     "output_type": "execute_result"
    }
   ],
   "source": [
    "wandb.login()"
   ]
  },
  {
   "cell_type": "code",
   "execution_count": 46,
   "metadata": {},
   "outputs": [
    {
     "name": "stdout",
     "output_type": "stream",
     "text": [
      "evaluating abstractor\n"
     ]
    },
    {
     "name": "stderr",
     "output_type": "stream",
     "text": [
      "train size: 100%|██████████| 5/5 [00:24<00:00,  4.99s/it]\n"
     ]
    },
    {
     "name": "stdout",
     "output_type": "stream",
     "text": [
      "evaluating corelnet\n"
     ]
    },
    {
     "name": "stderr",
     "output_type": "stream",
     "text": [
      "train size: 100%|██████████| 5/5 [00:13<00:00,  2.67s/it]\n"
     ]
    },
    {
     "name": "stdout",
     "output_type": "stream",
     "text": [
      "evaluating transformer\n"
     ]
    },
    {
     "name": "stderr",
     "output_type": "stream",
     "text": [
      "train size: 100%|██████████| 5/5 [00:39<00:00,  7.85s/it]\n"
     ]
    }
   ],
   "source": [
    "num_trials = 1\n",
    "train_sizes = [5, 10, 20, 30, 40]\n",
    "\n",
    "print('evaluating abstractor')\n",
    "\n",
    "abstractor_eval_dicts = evaluate_learning_curves(\n",
    "    create_abstractor, 'abstractor', \n",
    "    X_train, y_train, X_val, y_val, X_test, y_test,\n",
    "    train_sizes, num_trials, use_wandb=False)\n",
    "\n",
    "print('evaluating corelnet')\n",
    "\n",
    "corelnet_eval_dicts = evaluate_learning_curves(\n",
    "    create_corelnet, 'corelnet', \n",
    "    X_train, y_train, X_val, y_val, X_test, y_test,\n",
    "    train_sizes, num_trials, use_wandb=False)\n",
    "\n",
    "print('evaluating transformer')\n",
    "\n",
    "transformer_eval_dicts = evaluate_learning_curves(\n",
    "    create_transformer, 'transformer', \n",
    "    X_train, y_train, X_val, y_val, X_test, y_test,\n",
    "    train_sizes, num_trials, use_wandb=False)"
   ]
  },
  {
   "cell_type": "code",
   "execution_count": 47,
   "metadata": {},
   "outputs": [
    {
     "data": {
      "text/html": [
       "<div>\n",
       "<style scoped>\n",
       "    .dataframe tbody tr th:only-of-type {\n",
       "        vertical-align: middle;\n",
       "    }\n",
       "\n",
       "    .dataframe tbody tr th {\n",
       "        vertical-align: top;\n",
       "    }\n",
       "\n",
       "    .dataframe thead th {\n",
       "        text-align: right;\n",
       "    }\n",
       "</style>\n",
       "<table border=\"1\" class=\"dataframe\">\n",
       "  <thead>\n",
       "    <tr style=\"text-align: right;\">\n",
       "      <th></th>\n",
       "      <th>loss</th>\n",
       "      <th>binary_accuracy</th>\n",
       "      <th>group</th>\n",
       "      <th>train_size</th>\n",
       "      <th>trial</th>\n",
       "    </tr>\n",
       "  </thead>\n",
       "  <tbody>\n",
       "    <tr>\n",
       "      <th>0</th>\n",
       "      <td>0.022509</td>\n",
       "      <td>1.000000</td>\n",
       "      <td>abstractor</td>\n",
       "      <td>5</td>\n",
       "      <td>0</td>\n",
       "    </tr>\n",
       "    <tr>\n",
       "      <th>1</th>\n",
       "      <td>0.619966</td>\n",
       "      <td>1.000000</td>\n",
       "      <td>abstractor</td>\n",
       "      <td>10</td>\n",
       "      <td>0</td>\n",
       "    </tr>\n",
       "    <tr>\n",
       "      <th>2</th>\n",
       "      <td>0.613458</td>\n",
       "      <td>0.914286</td>\n",
       "      <td>abstractor</td>\n",
       "      <td>20</td>\n",
       "      <td>0</td>\n",
       "    </tr>\n",
       "    <tr>\n",
       "      <th>3</th>\n",
       "      <td>0.027017</td>\n",
       "      <td>1.000000</td>\n",
       "      <td>abstractor</td>\n",
       "      <td>30</td>\n",
       "      <td>0</td>\n",
       "    </tr>\n",
       "    <tr>\n",
       "      <th>4</th>\n",
       "      <td>0.611699</td>\n",
       "      <td>0.671429</td>\n",
       "      <td>abstractor</td>\n",
       "      <td>40</td>\n",
       "      <td>0</td>\n",
       "    </tr>\n",
       "    <tr>\n",
       "      <th>0</th>\n",
       "      <td>0.712416</td>\n",
       "      <td>0.471429</td>\n",
       "      <td>corelnet</td>\n",
       "      <td>5</td>\n",
       "      <td>0</td>\n",
       "    </tr>\n",
       "    <tr>\n",
       "      <th>1</th>\n",
       "      <td>0.688291</td>\n",
       "      <td>0.814286</td>\n",
       "      <td>corelnet</td>\n",
       "      <td>10</td>\n",
       "      <td>0</td>\n",
       "    </tr>\n",
       "    <tr>\n",
       "      <th>2</th>\n",
       "      <td>0.703540</td>\n",
       "      <td>0.471429</td>\n",
       "      <td>corelnet</td>\n",
       "      <td>20</td>\n",
       "      <td>0</td>\n",
       "    </tr>\n",
       "    <tr>\n",
       "      <th>3</th>\n",
       "      <td>0.753636</td>\n",
       "      <td>0.471429</td>\n",
       "      <td>corelnet</td>\n",
       "      <td>30</td>\n",
       "      <td>0</td>\n",
       "    </tr>\n",
       "    <tr>\n",
       "      <th>4</th>\n",
       "      <td>0.634969</td>\n",
       "      <td>0.828571</td>\n",
       "      <td>corelnet</td>\n",
       "      <td>40</td>\n",
       "      <td>0</td>\n",
       "    </tr>\n",
       "    <tr>\n",
       "      <th>0</th>\n",
       "      <td>0.000941</td>\n",
       "      <td>1.000000</td>\n",
       "      <td>transformer</td>\n",
       "      <td>5</td>\n",
       "      <td>0</td>\n",
       "    </tr>\n",
       "    <tr>\n",
       "      <th>1</th>\n",
       "      <td>0.008980</td>\n",
       "      <td>1.000000</td>\n",
       "      <td>transformer</td>\n",
       "      <td>10</td>\n",
       "      <td>0</td>\n",
       "    </tr>\n",
       "    <tr>\n",
       "      <th>2</th>\n",
       "      <td>0.008932</td>\n",
       "      <td>1.000000</td>\n",
       "      <td>transformer</td>\n",
       "      <td>20</td>\n",
       "      <td>0</td>\n",
       "    </tr>\n",
       "    <tr>\n",
       "      <th>3</th>\n",
       "      <td>0.003858</td>\n",
       "      <td>1.000000</td>\n",
       "      <td>transformer</td>\n",
       "      <td>30</td>\n",
       "      <td>0</td>\n",
       "    </tr>\n",
       "    <tr>\n",
       "      <th>4</th>\n",
       "      <td>0.004558</td>\n",
       "      <td>1.000000</td>\n",
       "      <td>transformer</td>\n",
       "      <td>40</td>\n",
       "      <td>0</td>\n",
       "    </tr>\n",
       "  </tbody>\n",
       "</table>\n",
       "</div>"
      ],
      "text/plain": [
       "       loss  binary_accuracy        group  train_size  trial\n",
       "0  0.022509         1.000000   abstractor           5      0\n",
       "1  0.619966         1.000000   abstractor          10      0\n",
       "2  0.613458         0.914286   abstractor          20      0\n",
       "3  0.027017         1.000000   abstractor          30      0\n",
       "4  0.611699         0.671429   abstractor          40      0\n",
       "0  0.712416         0.471429     corelnet           5      0\n",
       "1  0.688291         0.814286     corelnet          10      0\n",
       "2  0.703540         0.471429     corelnet          20      0\n",
       "3  0.753636         0.471429     corelnet          30      0\n",
       "4  0.634969         0.828571     corelnet          40      0\n",
       "0  0.000941         1.000000  transformer           5      0\n",
       "1  0.008980         1.000000  transformer          10      0\n",
       "2  0.008932         1.000000  transformer          20      0\n",
       "3  0.003858         1.000000  transformer          30      0\n",
       "4  0.004558         1.000000  transformer          40      0"
      ]
     },
     "execution_count": 47,
     "metadata": {},
     "output_type": "execute_result"
    }
   ],
   "source": [
    "import pandas as pd\n",
    "dfs = [pd.DataFrame(eval_dict) for eval_dict in (abstractor_eval_dicts, corelnet_eval_dicts, transformer_eval_dicts)]\n",
    "pd.concat(dfs)"
   ]
  }
 ],
 "metadata": {
  "kernelspec": {
   "display_name": "Python 3.8.16 64-bit ('relml')",
   "language": "python",
   "name": "python3"
  },
  "language_info": {
   "codemirror_mode": {
    "name": "ipython",
    "version": 3
   },
   "file_extension": ".py",
   "mimetype": "text/x-python",
   "name": "python",
   "nbconvert_exporter": "python",
   "pygments_lexer": "ipython3",
   "version": "3.8.16"
  },
  "vscode": {
   "interpreter": {
    "hash": "feb2622714ee4f3cfc5c273fa3fe6cf9410db521c7e03d7e619a7b4bef5cf3da"
   }
  }
 },
 "nbformat": 4,
 "nbformat_minor": 2
}
