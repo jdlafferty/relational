{
 "cells": [
  {
   "cell_type": "code",
   "execution_count": 1,
   "metadata": {},
   "outputs": [],
   "source": [
    "import sys\n",
    "sys.path.append('../..'); sys.path.append('../'); \n",
    "\n",
    "import numpy as np\n",
    "import matplotlib.pyplot as plt\n",
    "import tensorflow as tf\n",
    "from sklearn.model_selection import train_test_split\n",
    "import utils\n",
    "import imageio"
   ]
  },
  {
   "cell_type": "code",
   "execution_count": 2,
   "metadata": {},
   "outputs": [
    {
     "name": "stdout",
     "output_type": "stream",
     "text": [
      "(200, 2, 32, 32, 1) (200,)\n"
     ]
    }
   ],
   "source": [
    "dat = np.load('imgs_size/RMTS_size_pretrain.npz')\n",
    "X = dat['x']\n",
    "y = dat['y']\n",
    "X = 255 - X\n",
    "X = np.expand_dims(X, axis=4)\n",
    "print(X.shape, y.shape)"
   ]
  },
  {
   "cell_type": "code",
   "execution_count": 3,
   "metadata": {},
   "outputs": [
    {
     "data": {
      "image/png": "[encoded data removed]",
      "text/plain": [
       "<Figure size 108x540 with 20 Axes>"
      ]
     },
     "metadata": {
      "needs_background": "light"
     },
     "output_type": "display_data"
    }
   ],
   "source": [
    "def display_sample(X, y, to_show=5):\n",
    "    seq_len = int(X.shape[1]/2)\n",
    "    fig, axarr = plt.subplots(to_show, 2*seq_len, figsize=(1.5*seq_len, .75*to_show))\n",
    "    plt.rcParams['axes.titlepad'] = -14  \n",
    "    for i in range(to_show):\n",
    "        ind = np.random.choice(range(len(X)), 1)[0]\n",
    "        for j in range(2*seq_len):\n",
    "            axarr[i,j].imshow(X[i,j], cmap='gray_r')\n",
    "            axarr[i,j].axis('off')\n",
    "            if (j == 2*seq_len-1):\n",
    "                axarr[i,j].set_title('%d' % y[i], loc='right')\n",
    "    plt.show()\n",
    "\n",
    "\n",
    "display_sample(X, y, to_show=10)"
   ]
  },
  {
   "cell_type": "code",
   "execution_count": 4,
   "metadata": {},
   "outputs": [
    {
     "data": {
      "text/plain": [
       "((180, 2, 32, 32, 1), (20, 2, 32, 32, 1))"
      ]
     },
     "execution_count": 4,
     "metadata": {},
     "output_type": "execute_result"
    }
   ],
   "source": [
    "X_train, X_test, y_train, y_test = train_test_split(X, y, test_size=0.10)\n",
    "X_train.shape, X_test.shape"
   ]
  },
  {
   "cell_type": "code",
   "execution_count": 5,
   "metadata": {},
   "outputs": [],
   "source": [
    "from simplest_abstractor import SimplestAbstractorCNN"
   ]
  },
  {
   "cell_type": "code",
   "execution_count": 6,
   "metadata": {},
   "outputs": [
    {
     "name": "stdout",
     "output_type": "stream",
     "text": [
      "Model: \"simplest_abstractor_cnn\"\n",
      "_________________________________________________________________\n",
      " Layer (type)                Output Shape              Param #   \n",
      "=================================================================\n",
      " cnn_encoder (CnnEncoder)    multiple                  104704    \n",
      "                                                                 \n",
      " cnn_embedder (TimeDistribut  multiple                 104704    \n",
      " ed)                                                             \n",
      "                                                                 \n",
      " flatten_1 (Flatten)         multiple                  0         \n",
      "                                                                 \n",
      " query_projection (Dense)    multiple                  4160      \n",
      "                                                                 \n",
      " key_projection (Dense)      multiple                  4160      \n",
      "                                                                 \n",
      " hidden_layer (Dense)        multiple                  672       \n",
      "                                                                 \n",
      " final_layer (Dense)         multiple                  33        \n",
      "                                                                 \n",
      "=================================================================\n",
      "Total params: 113,749\n",
      "Trainable params: 9,025\n",
      "Non-trainable params: 104,724\n",
      "_________________________________________________________________\n"
     ]
    }
   ],
   "source": [
    "loss = tf.keras.losses.SparseCategoricalCrossentropy(from_logits=True, name='binary_crossentropy')\n",
    "create_opt = lambda : tf.keras.optimizers.Adam(learning_rate=0.001)\n",
    "\n",
    "cnn_abstractor = SimplestAbstractorCNN(num_classes=2, sequence_len=2, symbol_dim=10, embedding_dim=64)\n",
    "cnn_abstractor.compile(loss='binary_crossentropy', optimizer=create_opt(), metrics=['binary_accuracy'])\n",
    "cnn_abstractor(X_train[:32])\n",
    "cnn_abstractor.summary()\n",
    "\n"
   ]
  },
  {
   "cell_type": "code",
   "execution_count": 7,
   "metadata": {},
   "outputs": [
    {
     "name": "stdout",
     "output_type": "stream",
     "text": [
      "Epoch 1/100\n",
      "2/2 [==============================] - 5s 1s/step - loss: 0.7064 - binary_accuracy: 0.5167 - val_loss: 0.7000 - val_binary_accuracy: 0.5167\n",
      "Epoch 2/100\n",
      "2/2 [==============================] - 0s 121ms/step - loss: 0.6990 - binary_accuracy: 0.5167 - val_loss: 0.6932 - val_binary_accuracy: 0.5167\n",
      "Epoch 3/100\n",
      "2/2 [==============================] - 0s 106ms/step - loss: 0.6930 - binary_accuracy: 0.5167 - val_loss: 0.6875 - val_binary_accuracy: 0.5167\n",
      "Epoch 4/100\n",
      "2/2 [==============================] - 0s 104ms/step - loss: 0.6870 - binary_accuracy: 0.5167 - val_loss: 0.6828 - val_binary_accuracy: 0.5167\n",
      "Epoch 5/100\n",
      "2/2 [==============================] - 0s 92ms/step - loss: 0.6816 - binary_accuracy: 0.5167 - val_loss: 0.6786 - val_binary_accuracy: 0.5167\n",
      "Epoch 6/100\n",
      "2/2 [==============================] - 0s 115ms/step - loss: 0.6785 - binary_accuracy: 0.5167 - val_loss: 0.6747 - val_binary_accuracy: 0.5167\n",
      "Epoch 7/100\n",
      "2/2 [==============================] - 0s 84ms/step - loss: 0.6742 - binary_accuracy: 0.5167 - val_loss: 0.6710 - val_binary_accuracy: 0.5167\n",
      "Epoch 8/100\n",
      "2/2 [==============================] - 0s 114ms/step - loss: 0.6704 - binary_accuracy: 0.5278 - val_loss: 0.6672 - val_binary_accuracy: 0.6444\n",
      "Epoch 9/100\n",
      "2/2 [==============================] - 0s 80ms/step - loss: 0.6667 - binary_accuracy: 0.6611 - val_loss: 0.6632 - val_binary_accuracy: 0.8167\n",
      "Epoch 10/100\n",
      "2/2 [==============================] - 0s 100ms/step - loss: 0.6627 - binary_accuracy: 0.8167 - val_loss: 0.6587 - val_binary_accuracy: 0.8889\n",
      "Epoch 11/100\n",
      "2/2 [==============================] - 0s 85ms/step - loss: 0.6579 - binary_accuracy: 0.8944 - val_loss: 0.6535 - val_binary_accuracy: 0.9278\n",
      "Epoch 12/100\n",
      "2/2 [==============================] - 0s 89ms/step - loss: 0.6527 - binary_accuracy: 0.9278 - val_loss: 0.6476 - val_binary_accuracy: 0.9389\n",
      "Epoch 13/100\n",
      "2/2 [==============================] - 0s 89ms/step - loss: 0.6467 - binary_accuracy: 0.9389 - val_loss: 0.6410 - val_binary_accuracy: 0.9389\n",
      "Epoch 14/100\n",
      "2/2 [==============================] - 0s 94ms/step - loss: 0.6400 - binary_accuracy: 0.9389 - val_loss: 0.6337 - val_binary_accuracy: 0.9389\n",
      "Epoch 15/100\n",
      "2/2 [==============================] - 0s 86ms/step - loss: 0.6325 - binary_accuracy: 0.9389 - val_loss: 0.6256 - val_binary_accuracy: 0.9389\n",
      "Epoch 16/100\n",
      "2/2 [==============================] - 0s 99ms/step - loss: 0.6244 - binary_accuracy: 0.9333 - val_loss: 0.6167 - val_binary_accuracy: 0.9389\n",
      "Epoch 17/100\n",
      "2/2 [==============================] - 0s 82ms/step - loss: 0.6154 - binary_accuracy: 0.9389 - val_loss: 0.6071 - val_binary_accuracy: 0.9389\n",
      "Epoch 18/100\n",
      "2/2 [==============================] - 0s 105ms/step - loss: 0.6058 - binary_accuracy: 0.9389 - val_loss: 0.5966 - val_binary_accuracy: 0.9389\n",
      "Epoch 19/100\n",
      "2/2 [==============================] - 0s 89ms/step - loss: 0.5953 - binary_accuracy: 0.9389 - val_loss: 0.5853 - val_binary_accuracy: 0.9389\n",
      "Epoch 20/100\n",
      "2/2 [==============================] - 0s 94ms/step - loss: 0.5835 - binary_accuracy: 0.9389 - val_loss: 0.5729 - val_binary_accuracy: 0.9444\n",
      "Epoch 21/100\n",
      "2/2 [==============================] - 0s 88ms/step - loss: 0.5710 - binary_accuracy: 0.9444 - val_loss: 0.5596 - val_binary_accuracy: 0.9500\n",
      "Epoch 22/100\n",
      "2/2 [==============================] - 0s 100ms/step - loss: 0.5576 - binary_accuracy: 0.9500 - val_loss: 0.5452 - val_binary_accuracy: 0.9556\n",
      "Epoch 23/100\n",
      "2/2 [==============================] - 0s 87ms/step - loss: 0.5432 - binary_accuracy: 0.9556 - val_loss: 0.5298 - val_binary_accuracy: 0.9556\n",
      "Epoch 24/100\n",
      "2/2 [==============================] - 0s 98ms/step - loss: 0.5276 - binary_accuracy: 0.9556 - val_loss: 0.5135 - val_binary_accuracy: 0.9556\n",
      "Epoch 25/100\n",
      "2/2 [==============================] - 0s 87ms/step - loss: 0.5110 - binary_accuracy: 0.9556 - val_loss: 0.4962 - val_binary_accuracy: 0.9611\n",
      "Epoch 26/100\n",
      "2/2 [==============================] - 0s 100ms/step - loss: 0.4938 - binary_accuracy: 0.9667 - val_loss: 0.4781 - val_binary_accuracy: 0.9722\n",
      "Epoch 27/100\n",
      "2/2 [==============================] - 0s 109ms/step - loss: 0.4754 - binary_accuracy: 0.9722 - val_loss: 0.4592 - val_binary_accuracy: 0.9778\n",
      "Epoch 28/100\n",
      "2/2 [==============================] - 0s 122ms/step - loss: 0.4563 - binary_accuracy: 0.9778 - val_loss: 0.4395 - val_binary_accuracy: 0.9833\n",
      "Epoch 29/100\n",
      "2/2 [==============================] - 0s 93ms/step - loss: 0.4366 - binary_accuracy: 0.9833 - val_loss: 0.4191 - val_binary_accuracy: 0.9833\n",
      "Epoch 30/100\n",
      "2/2 [==============================] - 0s 99ms/step - loss: 0.4161 - binary_accuracy: 0.9833 - val_loss: 0.3984 - val_binary_accuracy: 0.9833\n",
      "Epoch 31/100\n",
      "2/2 [==============================] - 0s 104ms/step - loss: 0.3954 - binary_accuracy: 0.9833 - val_loss: 0.3779 - val_binary_accuracy: 0.9833\n",
      "Epoch 32/100\n",
      "2/2 [==============================] - 0s 84ms/step - loss: 0.3750 - binary_accuracy: 0.9833 - val_loss: 0.3575 - val_binary_accuracy: 0.9833\n",
      "Epoch 33/100\n",
      "2/2 [==============================] - 0s 104ms/step - loss: 0.3547 - binary_accuracy: 0.9833 - val_loss: 0.3373 - val_binary_accuracy: 0.9833\n",
      "Epoch 34/100\n",
      "2/2 [==============================] - 0s 101ms/step - loss: 0.3344 - binary_accuracy: 0.9833 - val_loss: 0.3173 - val_binary_accuracy: 0.9833\n",
      "Epoch 35/100\n",
      "2/2 [==============================] - 0s 111ms/step - loss: 0.3145 - binary_accuracy: 0.9833 - val_loss: 0.2979 - val_binary_accuracy: 0.9833\n",
      "Epoch 36/100\n",
      "2/2 [==============================] - 0s 98ms/step - loss: 0.2952 - binary_accuracy: 0.9833 - val_loss: 0.2793 - val_binary_accuracy: 0.9833\n",
      "Epoch 37/100\n",
      "2/2 [==============================] - 0s 167ms/step - loss: 0.2768 - binary_accuracy: 0.9833 - val_loss: 0.2619 - val_binary_accuracy: 0.9833\n",
      "Epoch 38/100\n",
      "2/2 [==============================] - 0s 94ms/step - loss: 0.2597 - binary_accuracy: 0.9833 - val_loss: 0.2458 - val_binary_accuracy: 0.9833\n",
      "Epoch 39/100\n",
      "2/2 [==============================] - 0s 68ms/step - loss: 0.2436 - binary_accuracy: 0.9833 - val_loss: 0.2309 - val_binary_accuracy: 0.9833\n",
      "Epoch 40/100\n",
      "2/2 [==============================] - 0s 81ms/step - loss: 0.2289 - binary_accuracy: 0.9833 - val_loss: 0.2170 - val_binary_accuracy: 0.9833\n",
      "Epoch 41/100\n",
      "2/2 [==============================] - 0s 69ms/step - loss: 0.2150 - binary_accuracy: 0.9833 - val_loss: 0.2040 - val_binary_accuracy: 0.9833\n",
      "Epoch 42/100\n",
      "2/2 [==============================] - 0s 64ms/step - loss: 0.2022 - binary_accuracy: 0.9833 - val_loss: 0.1918 - val_binary_accuracy: 0.9833\n",
      "Epoch 43/100\n",
      "2/2 [==============================] - 0s 66ms/step - loss: 0.1901 - binary_accuracy: 0.9833 - val_loss: 0.1804 - val_binary_accuracy: 0.9833\n",
      "Epoch 44/100\n",
      "2/2 [==============================] - 0s 65ms/step - loss: 0.1790 - binary_accuracy: 0.9833 - val_loss: 0.1698 - val_binary_accuracy: 0.9833\n",
      "Epoch 45/100\n",
      "2/2 [==============================] - 0s 63ms/step - loss: 0.1684 - binary_accuracy: 0.9833 - val_loss: 0.1599 - val_binary_accuracy: 0.9833\n",
      "Epoch 46/100\n",
      "2/2 [==============================] - 0s 65ms/step - loss: 0.1585 - binary_accuracy: 0.9833 - val_loss: 0.1506 - val_binary_accuracy: 0.9833\n",
      "Epoch 47/100\n",
      "2/2 [==============================] - 0s 62ms/step - loss: 0.1493 - binary_accuracy: 0.9833 - val_loss: 0.1420 - val_binary_accuracy: 0.9833\n",
      "Epoch 48/100\n",
      "2/2 [==============================] - 0s 67ms/step - loss: 0.1407 - binary_accuracy: 0.9833 - val_loss: 0.1339 - val_binary_accuracy: 0.9833\n",
      "Epoch 49/100\n",
      "2/2 [==============================] - 0s 66ms/step - loss: 0.1329 - binary_accuracy: 0.9833 - val_loss: 0.1265 - val_binary_accuracy: 0.9833\n",
      "Epoch 50/100\n",
      "2/2 [==============================] - 0s 60ms/step - loss: 0.1255 - binary_accuracy: 0.9833 - val_loss: 0.1195 - val_binary_accuracy: 0.9833\n",
      "Epoch 51/100\n",
      "2/2 [==============================] - 0s 67ms/step - loss: 0.1187 - binary_accuracy: 0.9833 - val_loss: 0.1131 - val_binary_accuracy: 0.9833\n",
      "Epoch 52/100\n",
      "2/2 [==============================] - 0s 65ms/step - loss: 0.1122 - binary_accuracy: 0.9833 - val_loss: 0.1071 - val_binary_accuracy: 0.9833\n",
      "Epoch 53/100\n",
      "2/2 [==============================] - 0s 65ms/step - loss: 0.1063 - binary_accuracy: 0.9833 - val_loss: 0.1015 - val_binary_accuracy: 0.9833\n",
      "Epoch 54/100\n",
      "2/2 [==============================] - 0s 63ms/step - loss: 0.1007 - binary_accuracy: 0.9833 - val_loss: 0.0962 - val_binary_accuracy: 0.9833\n",
      "Epoch 55/100\n",
      "2/2 [==============================] - 0s 64ms/step - loss: 0.0955 - binary_accuracy: 0.9833 - val_loss: 0.0914 - val_binary_accuracy: 0.9833\n",
      "Epoch 56/100\n",
      "2/2 [==============================] - 0s 63ms/step - loss: 0.0907 - binary_accuracy: 0.9833 - val_loss: 0.0868 - val_binary_accuracy: 0.9833\n",
      "Epoch 57/100\n",
      "2/2 [==============================] - 0s 65ms/step - loss: 0.0863 - binary_accuracy: 0.9833 - val_loss: 0.0826 - val_binary_accuracy: 0.9833\n",
      "Epoch 58/100\n",
      "2/2 [==============================] - 0s 64ms/step - loss: 0.0821 - binary_accuracy: 0.9833 - val_loss: 0.0787 - val_binary_accuracy: 0.9889\n",
      "Epoch 59/100\n",
      "2/2 [==============================] - 0s 59ms/step - loss: 0.0783 - binary_accuracy: 0.9889 - val_loss: 0.0750 - val_binary_accuracy: 0.9889\n",
      "Epoch 60/100\n",
      "2/2 [==============================] - 0s 65ms/step - loss: 0.0746 - binary_accuracy: 0.9889 - val_loss: 0.0716 - val_binary_accuracy: 0.9889\n",
      "Epoch 61/100\n",
      "2/2 [==============================] - 0s 64ms/step - loss: 0.0711 - binary_accuracy: 0.9889 - val_loss: 0.0684 - val_binary_accuracy: 0.9889\n",
      "Epoch 62/100\n",
      "2/2 [==============================] - 0s 63ms/step - loss: 0.0678 - binary_accuracy: 0.9889 - val_loss: 0.0653 - val_binary_accuracy: 0.9889\n",
      "Epoch 63/100\n",
      "2/2 [==============================] - 0s 76ms/step - loss: 0.0649 - binary_accuracy: 0.9889 - val_loss: 0.0624 - val_binary_accuracy: 0.9889\n",
      "Epoch 64/100\n",
      "2/2 [==============================] - 0s 91ms/step - loss: 0.0619 - binary_accuracy: 0.9889 - val_loss: 0.0596 - val_binary_accuracy: 0.9889\n",
      "Epoch 65/100\n",
      "2/2 [==============================] - 0s 61ms/step - loss: 0.0592 - binary_accuracy: 0.9889 - val_loss: 0.0570 - val_binary_accuracy: 0.9889\n",
      "Epoch 66/100\n",
      "2/2 [==============================] - 0s 64ms/step - loss: 0.0567 - binary_accuracy: 0.9889 - val_loss: 0.0545 - val_binary_accuracy: 0.9889\n",
      "Epoch 67/100\n",
      "2/2 [==============================] - 0s 63ms/step - loss: 0.0541 - binary_accuracy: 0.9944 - val_loss: 0.0522 - val_binary_accuracy: 0.9944\n",
      "Epoch 68/100\n",
      "2/2 [==============================] - 0s 63ms/step - loss: 0.0519 - binary_accuracy: 0.9944 - val_loss: 0.0500 - val_binary_accuracy: 0.9944\n",
      "Epoch 69/100\n",
      "2/2 [==============================] - 0s 75ms/step - loss: 0.0497 - binary_accuracy: 0.9944 - val_loss: 0.0479 - val_binary_accuracy: 0.9944\n",
      "Epoch 70/100\n",
      "2/2 [==============================] - 0s 134ms/step - loss: 0.0477 - binary_accuracy: 0.9944 - val_loss: 0.0460 - val_binary_accuracy: 1.0000\n",
      "Epoch 71/100\n",
      "2/2 [==============================] - 0s 82ms/step - loss: 0.0458 - binary_accuracy: 1.0000 - val_loss: 0.0442 - val_binary_accuracy: 1.0000\n",
      "Epoch 72/100\n",
      "2/2 [==============================] - 0s 95ms/step - loss: 0.0439 - binary_accuracy: 1.0000 - val_loss: 0.0425 - val_binary_accuracy: 1.0000\n",
      "Epoch 73/100\n",
      "2/2 [==============================] - 0s 83ms/step - loss: 0.0422 - binary_accuracy: 1.0000 - val_loss: 0.0408 - val_binary_accuracy: 1.0000\n",
      "Epoch 74/100\n",
      "2/2 [==============================] - 0s 126ms/step - loss: 0.0405 - binary_accuracy: 1.0000 - val_loss: 0.0392 - val_binary_accuracy: 1.0000\n",
      "Epoch 75/100\n",
      "2/2 [==============================] - 0s 88ms/step - loss: 0.0391 - binary_accuracy: 1.0000 - val_loss: 0.0377 - val_binary_accuracy: 1.0000\n",
      "Epoch 76/100\n",
      "2/2 [==============================] - 0s 100ms/step - loss: 0.0374 - binary_accuracy: 1.0000 - val_loss: 0.0363 - val_binary_accuracy: 1.0000\n",
      "Epoch 77/100\n",
      "2/2 [==============================] - 0s 77ms/step - loss: 0.0362 - binary_accuracy: 1.0000 - val_loss: 0.0350 - val_binary_accuracy: 1.0000\n",
      "Epoch 78/100\n",
      "2/2 [==============================] - 0s 100ms/step - loss: 0.0349 - binary_accuracy: 1.0000 - val_loss: 0.0338 - val_binary_accuracy: 1.0000\n",
      "Epoch 79/100\n",
      "2/2 [==============================] - 0s 86ms/step - loss: 0.0336 - binary_accuracy: 1.0000 - val_loss: 0.0326 - val_binary_accuracy: 1.0000\n",
      "Epoch 80/100\n",
      "2/2 [==============================] - 0s 101ms/step - loss: 0.0324 - binary_accuracy: 1.0000 - val_loss: 0.0315 - val_binary_accuracy: 1.0000\n",
      "Epoch 81/100\n",
      "2/2 [==============================] - 0s 85ms/step - loss: 0.0313 - binary_accuracy: 1.0000 - val_loss: 0.0304 - val_binary_accuracy: 1.0000\n",
      "Epoch 82/100\n",
      "2/2 [==============================] - 0s 93ms/step - loss: 0.0303 - binary_accuracy: 1.0000 - val_loss: 0.0294 - val_binary_accuracy: 1.0000\n",
      "Epoch 83/100\n",
      "2/2 [==============================] - 0s 80ms/step - loss: 0.0292 - binary_accuracy: 1.0000 - val_loss: 0.0284 - val_binary_accuracy: 1.0000\n",
      "Epoch 84/100\n",
      "2/2 [==============================] - 0s 97ms/step - loss: 0.0283 - binary_accuracy: 1.0000 - val_loss: 0.0275 - val_binary_accuracy: 1.0000\n",
      "Epoch 85/100\n",
      "2/2 [==============================] - 0s 80ms/step - loss: 0.0274 - binary_accuracy: 1.0000 - val_loss: 0.0266 - val_binary_accuracy: 1.0000\n",
      "Epoch 86/100\n",
      "2/2 [==============================] - 0s 93ms/step - loss: 0.0265 - binary_accuracy: 1.0000 - val_loss: 0.0258 - val_binary_accuracy: 1.0000\n",
      "Epoch 87/100\n",
      "2/2 [==============================] - 0s 87ms/step - loss: 0.0257 - binary_accuracy: 1.0000 - val_loss: 0.0250 - val_binary_accuracy: 1.0000\n",
      "Epoch 88/100\n",
      "2/2 [==============================] - 0s 98ms/step - loss: 0.0249 - binary_accuracy: 1.0000 - val_loss: 0.0242 - val_binary_accuracy: 1.0000\n",
      "Epoch 89/100\n",
      "2/2 [==============================] - 0s 84ms/step - loss: 0.0241 - binary_accuracy: 1.0000 - val_loss: 0.0235 - val_binary_accuracy: 1.0000\n",
      "Epoch 90/100\n",
      "2/2 [==============================] - 0s 93ms/step - loss: 0.0234 - binary_accuracy: 1.0000 - val_loss: 0.0228 - val_binary_accuracy: 1.0000\n",
      "Epoch 91/100\n",
      "2/2 [==============================] - 0s 87ms/step - loss: 0.0227 - binary_accuracy: 1.0000 - val_loss: 0.0221 - val_binary_accuracy: 1.0000\n",
      "Epoch 92/100\n",
      "2/2 [==============================] - 0s 104ms/step - loss: 0.0220 - binary_accuracy: 1.0000 - val_loss: 0.0214 - val_binary_accuracy: 1.0000\n",
      "Epoch 93/100\n",
      "2/2 [==============================] - 0s 82ms/step - loss: 0.0214 - binary_accuracy: 1.0000 - val_loss: 0.0208 - val_binary_accuracy: 1.0000\n",
      "Epoch 94/100\n",
      "2/2 [==============================] - 0s 100ms/step - loss: 0.0207 - binary_accuracy: 1.0000 - val_loss: 0.0202 - val_binary_accuracy: 1.0000\n",
      "Epoch 95/100\n",
      "2/2 [==============================] - 0s 114ms/step - loss: 0.0201 - binary_accuracy: 1.0000 - val_loss: 0.0196 - val_binary_accuracy: 1.0000\n",
      "Epoch 96/100\n",
      "2/2 [==============================] - 0s 95ms/step - loss: 0.0196 - binary_accuracy: 1.0000 - val_loss: 0.0191 - val_binary_accuracy: 1.0000\n",
      "Epoch 97/100\n",
      "2/2 [==============================] - 0s 101ms/step - loss: 0.0190 - binary_accuracy: 1.0000 - val_loss: 0.0185 - val_binary_accuracy: 1.0000\n",
      "Epoch 98/100\n",
      "2/2 [==============================] - 0s 93ms/step - loss: 0.0185 - binary_accuracy: 1.0000 - val_loss: 0.0180 - val_binary_accuracy: 1.0000\n",
      "Epoch 99/100\n",
      "2/2 [==============================] - 0s 93ms/step - loss: 0.0179 - binary_accuracy: 1.0000 - val_loss: 0.0175 - val_binary_accuracy: 1.0000\n",
      "Epoch 100/100\n",
      "2/2 [==============================] - 0s 79ms/step - loss: 0.0175 - binary_accuracy: 1.0000 - val_loss: 0.0170 - val_binary_accuracy: 1.0000\n"
     ]
    }
   ],
   "source": [
    "history = cnn_abstractor.fit(X_train, y_train, validation_data=(X_train, y_train), epochs=100, verbose=1, batch_size=128)"
   ]
  },
  {
   "cell_type": "code",
   "execution_count": 8,
   "metadata": {},
   "outputs": [
    {
     "data": {
      "image/png": "[encoded data removed]",
      "text/plain": [
       "<Figure size 432x288 with 2 Axes>"
      ]
     },
     "execution_count": 8,
     "metadata": {},
     "output_type": "execute_result"
    },
    {
     "data": {
      "image/png": "[encoded data removed]",
      "text/plain": [
       "<Figure size 432x288 with 2 Axes>"
      ]
     },
     "metadata": {
      "needs_background": "light"
     },
     "output_type": "display_data"
    }
   ],
   "source": [
    "utils.plot_history(history, ('loss', 'binary_accuracy'))\n"
   ]
  },
  {
   "cell_type": "code",
   "execution_count": 9,
   "metadata": {},
   "outputs": [
    {
     "name": "stdout",
     "output_type": "stream",
     "text": [
      "train accuracy: 100.00%\n",
      "\n"
     ]
    }
   ],
   "source": [
    "out = cnn_abstractor(X_train)\n",
    "yhat = np.array([int(o) for o in np.round(np.squeeze(out.numpy()))])\n",
    "print('train accuracy: %.2f%%\\n' % (100*np.mean(yhat==y_train)))"
   ]
  },
  {
   "cell_type": "code",
   "execution_count": 10,
   "metadata": {},
   "outputs": [
    {
     "name": "stdout",
     "output_type": "stream",
     "text": [
      "test accuracy: 100.00%\n",
      "\n"
     ]
    }
   ],
   "source": [
    "out = cnn_abstractor(X_test)\n",
    "yhat = np.array([int(o) for o in np.round(np.squeeze(out.numpy()))])\n",
    "100*np.mean(yhat==y_test)\n",
    "print('test accuracy: %.2f%%\\n' % (100*np.mean(yhat==y_test)))"
   ]
  },
  {
   "cell_type": "code",
   "execution_count": 11,
   "metadata": {},
   "outputs": [],
   "source": [
    "out = cnn_abstractor.save_weights(\"larger_than_relation_weights\")"
   ]
  },
  {
   "cell_type": "code",
   "execution_count": 12,
   "metadata": {},
   "outputs": [
    {
     "name": "stdout",
     "output_type": "stream",
     "text": [
      "Model: \"simplest_abstractor_cnn\"\n",
      "_________________________________________________________________\n",
      " Layer (type)                Output Shape              Param #   \n",
      "=================================================================\n",
      " cnn_encoder (CnnEncoder)    multiple                  104704    \n",
      "                                                                 \n",
      " cnn_embedder (TimeDistribut  multiple                 104704    \n",
      " ed)                                                             \n",
      "                                                                 \n",
      " flatten_3 (Flatten)         multiple                  0         \n",
      "                                                                 \n",
      " query_projection (Dense)    multiple                  4160      \n",
      "                                                                 \n",
      " key_projection (Dense)      multiple                  4160      \n",
      "                                                                 \n",
      " hidden_layer (Dense)        multiple                  672       \n",
      "                                                                 \n",
      " final_layer (Dense)         multiple                  33        \n",
      "                                                                 \n",
      "=================================================================\n",
      "Total params: 113,749\n",
      "Trainable params: 9,025\n",
      "Non-trainable params: 104,724\n",
      "_________________________________________________________________\n"
     ]
    },
    {
     "data": {
      "text/plain": [
       "<tensorflow.python.checkpoint.checkpoint.CheckpointLoadStatus at 0x7f90a698b400>"
      ]
     },
     "execution_count": 12,
     "metadata": {},
     "output_type": "execute_result"
    }
   ],
   "source": [
    "model2 = SimplestAbstractorCNN(num_classes=2, sequence_len=2, symbol_dim=10, embedding_dim=64)\n",
    "model2.compile(loss='binary_crossentropy', optimizer=create_opt(), metrics=['binary_accuracy'])\n",
    "model2(X_train[:32])\n",
    "model2.summary()\n",
    "model2.load_weights(\"larger_than_relation_weights\")\n"
   ]
  },
  {
   "cell_type": "code",
   "execution_count": 13,
   "metadata": {},
   "outputs": [
    {
     "name": "stdout",
     "output_type": "stream",
     "text": [
      "Overall accuracy: 100.00%\n",
      "\n"
     ]
    }
   ],
   "source": [
    "out = model2(X)\n",
    "yhat = np.array([int(o) for o in np.round(np.squeeze(out.numpy()))])\n",
    "print('Overall accuracy: %.2f%%\\n' % (100*np.mean(yhat==y)))"
   ]
  }
 ],
 "metadata": {
  "interpreter": {
   "hash": "075427e9d7b4e88d8be5fc9c4269e9099fc3e822a226ecef7da6e611953d0392"
  },
  "kernelspec": {
   "display_name": "Python 3",
   "language": "python",
   "name": "python3"
  },
  "language_info": {
   "codemirror_mode": {
    "name": "ipython",
    "version": 3
   },
   "file_extension": ".py",
   "mimetype": "text/x-python",
   "name": "python",
   "nbconvert_exporter": "python",
   "pygments_lexer": "ipython3",
   "version": "3.8.5"
  }
 },
 "nbformat": 4,
 "nbformat_minor": 2
}
