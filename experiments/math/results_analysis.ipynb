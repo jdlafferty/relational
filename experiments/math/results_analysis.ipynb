{
 "cells": [
  {
   "cell_type": "markdown",
   "metadata": {},
   "source": [
    "# Analyzing Results of `math_dataset` experiments"
   ]
  },
  {
   "cell_type": "markdown",
   "metadata": {},
   "source": [
    "## Set up"
   ]
  },
  {
   "cell_type": "code",
   "execution_count": 1,
   "metadata": {},
   "outputs": [
    {
     "name": "stderr",
     "output_type": "stream",
     "text": [
      "/gpfs/gibbs/project/lafferty/ma2393/conda_envs/tf/lib/python3.10/site-packages/tqdm/auto.py:21: TqdmWarning: IProgress not found. Please update jupyter and ipywidgets. See https://ipywidgets.readthedocs.io/en/stable/user_install.html\n",
      "  from .autonotebook import tqdm as notebook_tqdm\n",
      "2023-09-10 18:54:09.371005: I tensorflow/core/util/port.cc:110] oneDNN custom operations are on. You may see slightly different numerical results due to floating-point round-off errors from different computation orders. To turn them off, set the environment variable `TF_ENABLE_ONEDNN_OPTS=0`.\n",
      "2023-09-10 18:54:09.377148: I tensorflow/tsl/cuda/cudart_stub.cc:28] Could not find cuda drivers on your machine, GPU will not be used.\n",
      "2023-09-10 18:54:09.419462: I tensorflow/tsl/cuda/cudart_stub.cc:28] Could not find cuda drivers on your machine, GPU will not be used.\n",
      "2023-09-10 18:54:09.420404: I tensorflow/core/platform/cpu_feature_guard.cc:182] This TensorFlow binary is optimized to use available CPU instructions in performance-critical operations.\n",
      "To enable the following instructions: AVX2 AVX512F AVX512_VNNI FMA, in other operations, rebuild TensorFlow with the appropriate compiler flags.\n",
      "2023-09-10 18:54:10.292755: W tensorflow/compiler/tf2tensorrt/utils/py_utils.cc:38] TF-TRT Warning: Could not find TensorRT\n",
      "2023-09-10 18:54:11.076869: W tensorflow/core/common_runtime/gpu/gpu_device.cc:1960] Cannot dlopen some GPU libraries. Please make sure the missing libraries mentioned above are installed properly if you would like to use GPU. Follow the guide at https://www.tensorflow.org/install/gpu for how to download and setup the required libraries for your platform.\n",
      "Skipping registering GPU devices...\n"
     ]
    }
   ],
   "source": [
    "import sys; sys.path.append('../..')\n",
    "import numpy as np\n",
    "import matplotlib.pyplot as plt\n",
    "\n",
    "from data_utils import q_text_vectorizer, a_text_vectorizer, load_dataset, invert_seq_vector\n",
    "from model_utils import fetch_model, recompile_model, autoregressive_predict"
   ]
  },
  {
   "cell_type": "code",
   "execution_count": 2,
   "metadata": {},
   "outputs": [],
   "source": [
    "def eval_model(artifact_path, val_ds, artifact_root_dir='model_artifacts', q_text_vectorizer=q_text_vectorizer, a_text_vectorizer=a_text_vectorizer):\n",
    "    model = fetch_model(artifact_path, artifact_root_dir)\n",
    "    model = recompile_model(model, a_text_vectorizer)\n",
    "\n",
    "    print('evaluation on val_ds')\n",
    "    print(model.evaluate(val_ds, return_dict=True))\n",
    "\n",
    "    (source, target), label = next(iter(val_ds.take(1)))\n",
    "    source, target, label = np.array(source), np.array(target), np.array(label)\n",
    "\n",
    "    print()\n",
    "    print(f'evaluating full-sequence accuracy on a single batch of size {len(source)}')\n",
    "    preds = autoregressive_predict(model, source, target)\n",
    "    full_seq_acc = np.mean(np.all(preds == label, axis=1))\n",
    "    print(f'full_seq_acc: {full_seq_acc}')\n",
    "\n",
    "    print('acc by position')\n",
    "    acc_by_pos = np.mean(preds == label, axis=0)\n",
    "    plt.plot(acc_by_pos)\n",
    "\n",
    "    print()\n",
    "    print('sample of predictions:')\n",
    "    samples = np.random.choice(len(source), size=5, replace=False)\n",
    "    for s, t, p, l in zip(source[samples], target[samples], preds[samples], label[samples]):\n",
    "        print()\n",
    "        print(f'Q: {invert_seq_vector(s, q_text_vectorizer)}')\n",
    "        print(f'A: {invert_seq_vector(l, a_text_vectorizer)}')\n",
    "        print(f'P: {invert_seq_vector(p, a_text_vectorizer)}')"
   ]
  },
  {
   "cell_type": "markdown",
   "metadata": {},
   "source": [
    "## `polynomials__expand`"
   ]
  },
  {
   "cell_type": "code",
   "execution_count": 8,
   "metadata": {},
   "outputs": [],
   "source": [
    "# region\n",
    "task = 'polynomials__expand'\n",
    "train_ds, val_ds = load_dataset(task, train_size=-1, batch_size=512)\n",
    "# endregion"
   ]
  },
  {
   "cell_type": "markdown",
   "metadata": {},
   "source": [
    "### Transformer - Medium"
   ]
  },
  {
   "cell_type": "code",
   "execution_count": 9,
   "metadata": {},
   "outputs": [
    {
     "name": "stderr",
     "output_type": "stream",
     "text": [
      "\u001b[34m\u001b[1mwandb\u001b[0m:   5 of 5 files downloaded.  \n"
     ]
    },
    {
     "name": "stdout",
     "output_type": "stream",
     "text": [
      "evaluation on val_ds\n",
      "20/20 [==============================] - 8s 357ms/step - loss: 0.2375 - teacher_forcing_accuracy: 0.7705\n",
      "{'loss': 0.23749572038650513, 'teacher_forcing_accuracy': 0.7705138325691223}\n",
      "\n",
      "evaluating full-sequence accuracy on a single batch of size 512\n",
      "full_seq_acc: 0.025390625\n",
      "acc by position\n",
      "\n",
      "sample of predictions:\n",
      "\n",
      "Q: Expand -1345*c**3 + 406*c**3 - 868*c**3 + (-1 - 4 + 3)*(-3*c**3 + 4*c**3 - 2*c**3) + c**3 - 2*c + 2*c.\n",
      "A: -1804*c**3;\n",
      "P: -1479*c**3;\n",
      "\n",
      "Q: Expand (8*k + 5*k - 6*k)*(0 - 1 + 2) + 282 - 145 + 67*k - 137.\n",
      "A: 74*k;\n",
      "P: 67*k - 1;\n",
      "\n",
      "Q: Expand (2*r**2 + 0*r**2 - r**2)*(0*r + 3*r - r) - 70 - 3*r + 32 + r**2 + 36 - 21*r**3.\n",
      "A: -19*r**3 + r**2 - 3*r - 2;\n",
      "P: -22*r**3 + r**2 + 2;\n",
      "\n",
      "Q: Expand (c + 4*c - c)*(0 + 0 - 2*c + 0 + 0 - c + (2*c - 3 + 3)*(0 - 4 + 2) + 4 - 4 - c - 1 - 2*c + 1 + 0 + 0 - 2*c)*(-39*c**2 + 12*c**2 + 3*c**2).\n",
      "A: 1152*c**4;\n",
      "P: -108*c**4;\n",
      "\n",
      "Q: Expand (-110 + 899 + 2408 + 13)*(l**2 - l**2 - 4*l**2).\n",
      "A: -12840*l**2;\n",
      "P: -10440*l**2;\n"
     ]
    }
   ],
   "source": [
    "eval_model('awni00/math-polynomials__expand/model-volcanic-brook-31:latest', val_ds)"
   ]
  },
  {
   "cell_type": "markdown",
   "metadata": {},
   "source": [
    "### Relational Abstractor - Medium"
   ]
  },
  {
   "cell_type": "code",
   "execution_count": 10,
   "metadata": {},
   "outputs": [
    {
     "name": "stderr",
     "output_type": "stream",
     "text": [
      "\u001b[34m\u001b[1mwandb\u001b[0m:   5 of 5 files downloaded.  \n"
     ]
    },
    {
     "name": "stdout",
     "output_type": "stream",
     "text": [
      "evaluation on val_ds\n",
      "20/20 [==============================] - 17s 833ms/step - loss: 0.1761 - teacher_forcing_accuracy: 0.8216\n",
      "{'loss': 0.17611607909202576, 'teacher_forcing_accuracy': 0.8215845227241516}\n",
      "\n",
      "evaluating full-sequence accuracy on a single batch of size 512\n",
      "full_seq_acc: 0.052734375\n",
      "acc by position\n",
      "\n",
      "sample of predictions:\n",
      "\n",
      "Q: Expand (-6*k - k + 0*k)*(24*k**3 + 365*k - 364*k - 5*k**3).\n",
      "A: -133*k**4 - 7*k**2;\n",
      "P: -174*k**4 - 14*k**2;\n",
      "\n",
      "Q: Expand (0*o**2 + 0*o**2 - 2*o**2)*(9*o**3 + 4*o**3 + o**3) - 4*o + 4*o + o**5 + 12*o**5 - 4*o**5 + 12*o**5.\n",
      "A: -7*o**5;\n",
      "P: -13*o**5;\n",
      "\n",
      "Q: Expand (-2*y**4 + 3*y**4 - 2*y**4)*(-19*y + 1895*y - 1179*y).\n",
      "A: -697*y**5;\n",
      "P: -479*y**5;\n",
      "\n",
      "Q: Expand -k**2 + 0*k + 0*k + (205*k - 285*k - 489*k)*(0 + 0 - 2)*(2 - 1 + 2)*(-2*k + 3*k - 3*k).\n",
      "A: -6829*k**2;\n",
      "P: -2779*k**2;\n",
      "\n",
      "Q: Expand (31 - 9 + 7)*(0 + 0 - 2)*(58*u**4 - 11*u**4 - 19*u**4).\n",
      "A: -1624*u**4;\n",
      "P: -1020*u**4;\n"
     ]
    }
   ],
   "source": [
    "eval_model('awni00/math-polynomials__expand/model-brisk-terrain-28:latest', val_ds)"
   ]
  },
  {
   "cell_type": "markdown",
   "metadata": {},
   "source": [
    "### Relational Abstractor2 - Medium"
   ]
  },
  {
   "cell_type": "code",
   "execution_count": 11,
   "metadata": {},
   "outputs": [],
   "source": [
    "# eval_model('awni00/math-polynomials__expand/model-soft-moon-15:latest', val_ds)"
   ]
  },
  {
   "cell_type": "markdown",
   "metadata": {},
   "source": [
    "## `polynomials__coefficient_named`"
   ]
  },
  {
   "cell_type": "code",
   "execution_count": 12,
   "metadata": {},
   "outputs": [],
   "source": [
    "# region\n",
    "task = 'polynomials__coefficient_named'\n",
    "train_ds, val_ds = load_dataset(task, train_size=-1, batch_size=512)\n",
    "# endregion"
   ]
  },
  {
   "cell_type": "markdown",
   "metadata": {},
   "source": [
    "### Transformer - Medium"
   ]
  },
  {
   "cell_type": "code",
   "execution_count": 13,
   "metadata": {},
   "outputs": [
    {
     "name": "stderr",
     "output_type": "stream",
     "text": [
      "\u001b[34m\u001b[1mwandb\u001b[0m:   5 of 5 files downloaded.  \n"
     ]
    },
    {
     "name": "stdout",
     "output_type": "stream",
     "text": [
      "evaluation on val_ds\n",
      "20/20 [==============================] - 8s 365ms/step - loss: 0.1573 - teacher_forcing_accuracy: 0.5476\n",
      "{'loss': 0.15734028816223145, 'teacher_forcing_accuracy': 0.5476008653640747}\n",
      "\n",
      "evaluating full-sequence accuracy on a single batch of size 512\n",
      "full_seq_acc: 0.16796875\n",
      "acc by position\n",
      "\n",
      "sample of predictions:\n",
      "\n",
      "Q: Rearrange ((2 + 0 - 3)*(-202 - 101 + 204) + 2 - 4 + 3)*(11*z**2 + 2*z**2 + 7*z**2 + 2*z)*(-4*z + 2*z + 4*z) to s*z**3 + g*z + x + b*z**2 and give b.\n",
      "A: 400;\n",
      "P: -108;\n",
      "\n",
      "Q: Rearrange (-9*q**2 - 360*q + 360*q)*(-19 + 4*q**2 + 19) + 23 - q**4 - 2*q**2 - 13 - 8 to the form x*q**4 + i + y*q + t*q**2 + h*q**3 and give t.\n",
      "A: -2;\n",
      "P: -13;\n",
      "\n",
      "Q: Rearrange (4603*n - 9871*n + 4409*n)*(1 + 0 + 0) + 2*n + 3*n - 4*n to the form d + o*n and give o.\n",
      "A: -858;\n",
      "P: -106;\n",
      "\n",
      "Q: Express -2*o + 36 - 4 - 2*o**2 + 33 - 3*o**2 + 3*o**2 - 4*o**3 in the form t*o**3 + q + c*o**2 + v*o and give t.\n",
      "A: -4;\n",
      "P: -2;\n",
      "\n",
      "Q: Express -a + 5*a - 3*a - 6*a + a + 6*a + 6*a - 3*a + 2*a + (-2 + 2 + 2)*(0*a + 2*a - 3*a) + a - 6*a + 3*a in the form t*a + c and give t.\n",
      "A: 3;\n",
      "P: 1;\n"
     ]
    }
   ],
   "source": [
    "eval_model('awni00/math-polynomials__coefficient_named/model-cool-wave-19:latest', val_ds)"
   ]
  },
  {
   "cell_type": "markdown",
   "metadata": {},
   "source": [
    "### Transformer - Medium+"
   ]
  },
  {
   "cell_type": "code",
   "execution_count": 15,
   "metadata": {},
   "outputs": [
    {
     "name": "stderr",
     "output_type": "stream",
     "text": [
      "\u001b[34m\u001b[1mwandb\u001b[0m:   5 of 5 files downloaded.  \n"
     ]
    },
    {
     "name": "stdout",
     "output_type": "stream",
     "text": [
      "evaluation on val_ds\n",
      "20/20 [==============================] - 12s 566ms/step - loss: 0.1510 - teacher_forcing_accuracy: 0.5592\n",
      "{'loss': 0.15103159844875336, 'teacher_forcing_accuracy': 0.5591743588447571}\n",
      "\n",
      "evaluating full-sequence accuracy on a single batch of size 512\n",
      "full_seq_acc: 0.14453125\n",
      "acc by position\n",
      "\n",
      "sample of predictions:\n",
      "\n",
      "Q: Rearrange (22*r + 23*r - 3*r)*(-14*r**2 + 15*r**2 + 6*r**2) - 9*r + 8*r**3 + 9*r to b*r**3 + z*r + s + k*r**2 and give b.\n",
      "A: 302;\n",
      "P: -1;\n",
      "\n",
      "Q: Express -438*z - 1045*z - 1259*z + 129*z as i + c*z and give c.\n",
      "A: -2613;\n",
      "P: -2695;\n",
      "\n",
      "Q: Rearrange 100 - 2114*n - 2*n**2 + 1060*n + 1053*n - 2*n**2 + 3*n**2 to k*n**2 + o*n + h and give h.\n",
      "A: 100;\n",
      "P: -2;\n",
      "\n",
      "Q: Express -696 + 7*b + 696 + (0*b - b + 0*b)*(-2 + 6 - 3) - 2*b + 0*b + 0*b + b + 7*b - 2*b + 0*b + b + 3*b in the form t*b + k and give k.\n",
      "A: 0;\n",
      "P: 10;\n",
      "\n",
      "Q: Rearrange -39 + 7898*g**2 - 30 + 0 - g**4 - 7901*g**2 + g**3 to the form x*g**3 + p*g**2 + c*g + a*g**4 + o and give p.\n",
      "A: -3;\n",
      "P: -1;\n"
     ]
    }
   ],
   "source": [
    "eval_model('awni00/math-polynomials__coefficient_named/model-eternal-cherry-20:latest', val_ds)"
   ]
  },
  {
   "cell_type": "markdown",
   "metadata": {},
   "source": [
    "### Relational Abstractor - Medium"
   ]
  },
  {
   "cell_type": "code",
   "execution_count": 16,
   "metadata": {},
   "outputs": [
    {
     "name": "stderr",
     "output_type": "stream",
     "text": [
      "\u001b[34m\u001b[1mwandb\u001b[0m:   5 of 5 files downloaded.  \n"
     ]
    },
    {
     "name": "stdout",
     "output_type": "stream",
     "text": [
      "evaluation on val_ds\n",
      "20/20 [==============================] - 17s 824ms/step - loss: 0.1349 - teacher_forcing_accuracy: 0.5989\n",
      "{'loss': 0.13487158715724945, 'teacher_forcing_accuracy': 0.5988508462905884}\n",
      "\n",
      "evaluating full-sequence accuracy on a single batch of size 512\n",
      "full_seq_acc: 0.1796875\n",
      "acc by position\n",
      "\n",
      "sample of predictions:\n",
      "\n",
      "Q: Rearrange -4*p**4 + 2*p**4 - 9*p**3 - p**2 + 11*p**3 - 11*p**3 + p + 8 to c*p**4 + t*p**2 + u*p + v + n*p**3 and give t.\n",
      "A: -1;\n",
      "P: -1;\n",
      "\n",
      "Q: Rearrange (3 - 3 + 12*l)*(-14 - 25 - 4) + (2 - 1 + 0)*(-2*l + 6 - 6) to h*l + o and give h.\n",
      "A: -518;\n",
      "P: -119;\n",
      "\n",
      "Q: Express -12*c + 119*c**2 - c - 19 - 2*c + 9 - 120*c**2 as s + t*c + g*c**2 and give g.\n",
      "A: -1;\n",
      "P: -13;\n",
      "\n",
      "Q: Express 118 - 4*w + 126 + w**4 + w**3 + 6*w - 242 - 9*w**2 in the form d + q*w + k*w**2 + v*w**4 + b*w**3 and give d.\n",
      "A: 2;\n",
      "P: -9;\n",
      "\n",
      "Q: Express (2*z**4 + z**4 - 5*z**4)*(4 + 8 + 0 + ((1 - 3 + 0)*(2 - 2 + 1) - 2 - 1 + 10)*(3 + 3 + 1)) in the form j*z**4 + d*z**3 + r*z**2 + p + h*z and give j.\n",
      "A: -94;\n",
      "P: -116;\n"
     ]
    }
   ],
   "source": [
    "eval_model('awni00/math-polynomials__coefficient_named/model-decent-water-16:latest', val_ds)"
   ]
  },
  {
   "cell_type": "markdown",
   "metadata": {},
   "source": [
    "### Relational Abstractor2 - Medium"
   ]
  },
  {
   "cell_type": "code",
   "execution_count": 17,
   "metadata": {},
   "outputs": [],
   "source": [
    "# eval_model('awni00/math-polynomials__coefficient_named/model-cosmic-lake-3:v32', val_ds)"
   ]
  },
  {
   "cell_type": "markdown",
   "metadata": {},
   "source": [
    "## `polynomials__add`"
   ]
  },
  {
   "cell_type": "code",
   "execution_count": 3,
   "metadata": {},
   "outputs": [],
   "source": [
    "# region\n",
    "task = 'polynomials__add'\n",
    "train_ds, val_ds = load_dataset(task, train_size=-1, batch_size=512)\n",
    "# endregion"
   ]
  },
  {
   "cell_type": "markdown",
   "metadata": {},
   "source": [
    "### Transformer - medium"
   ]
  },
  {
   "cell_type": "code",
   "execution_count": 20,
   "metadata": {},
   "outputs": [
    {
     "name": "stderr",
     "output_type": "stream",
     "text": [
      "\u001b[34m\u001b[1mwandb\u001b[0m:   5 of 5 files downloaded.  \n"
     ]
    },
    {
     "name": "stdout",
     "output_type": "stream",
     "text": [
      "evaluation on val_ds\n",
      "20/20 [==============================] - 8s 366ms/step - loss: 0.1321 - teacher_forcing_accuracy: 0.8417\n",
      "{'loss': 0.13207565248012543, 'teacher_forcing_accuracy': 0.8417012095451355}\n",
      "\n",
      "evaluating full-sequence accuracy on a single batch of size 512\n",
      "full_seq_acc: 0.08984375\n",
      "acc by position\n",
      "\n",
      "sample of predictions:\n",
      "\n",
      "Q: Let f(a) = -17*a + 3. Let o(b) = -b + 13. Give -f(t) + 2*o(t).\n",
      "A: 15*t + 23;\n",
      "P: 15*t - 1;\n",
      "\n",
      "Q: Let k(m) = 12*m + 39. Let b(d) = -d - 9. Calculate -2*b(y) - k(y).\n",
      "A: -10*y - 21;\n",
      "P: 10*y - 3;\n",
      "\n",
      "Q: Let n(l) = -l**2 - 6*l + 1. Let g(r) = 48*r**2 + 2 - 11*r + 44*r**2 - 94*r**2. Let z(d) = 6*g(d) - 11*n(d). Let t(s) = s**3 - 6. Give -t(c) - 6*z(c).\n",
      "A: -c**3 + 6*c**2;\n",
      "P: -c**3;\n",
      "\n",
      "Q: Let k = 2 - 8. Let q(t) be the second derivative of -5/6*t**3 + 9*t - 4 + 1/2*t**2. Let m(y) = y. Calculate k*m(a) - q(a).\n",
      "A: -a - 1;\n",
      "P: -a - 1;\n",
      "\n",
      "Q: Let j(c) = 44*c + 565. Let x be j(-13). Let i(w) = w**2 + 7*w - 16. Let p(t) = t**2 + 5*t - 11. What is x*p(k) + 5*i(k)?\n",
      "A: -2*k**2 - 3;\n",
      "P: -4*k**2 - 3;\n"
     ]
    }
   ],
   "source": [
    "eval_model('awni00/math-polynomials__add/model-icy-galaxy-33:latest', val_ds)"
   ]
  },
  {
   "cell_type": "markdown",
   "metadata": {},
   "source": [
    "### Transformer - Medium+"
   ]
  },
  {
   "cell_type": "code",
   "execution_count": 21,
   "metadata": {},
   "outputs": [
    {
     "name": "stderr",
     "output_type": "stream",
     "text": [
      "\u001b[34m\u001b[1mwandb\u001b[0m:   5 of 5 files downloaded.  \n"
     ]
    },
    {
     "name": "stdout",
     "output_type": "stream",
     "text": [
      "evaluation on val_ds\n",
      "20/20 [==============================] - 12s 580ms/step - loss: 0.1240 - teacher_forcing_accuracy: 0.8484\n",
      "{'loss': 0.12401504069566727, 'teacher_forcing_accuracy': 0.8483520746231079}\n",
      "\n",
      "evaluating full-sequence accuracy on a single batch of size 512\n",
      "full_seq_acc: 0.107421875\n",
      "acc by position\n",
      "\n",
      "sample of predictions:\n",
      "\n",
      "Q: Let o = -3624 + 3625. Let h(u) = 30*u**2 + 5*u + 5. Let k(x) = -x**2 - x - 1. What is o*h(n) + 5*k(n)?\n",
      "A: 25*n**2;\n",
      "P: -25*n**2;\n",
      "\n",
      "Q: Let l(z) = -z**2 + 13*z + 169. Let x be l(21). Let b(c) = 3*c + 7. Let s(o) = -1. Give x*b(y) - 3*s(y).\n",
      "A: 3*y + 10;\n",
      "P: -3*y + 4;\n",
      "\n",
      "Q: Let a(p) be the second derivative of p**3/6 - 4*p. Let m(v) = -20*v + 5. Let d(l) = -28*l + 6. Let c(o) = 3*d(o) - 4*m(o). Determine 8*a(y) + c(y).\n",
      "A: 4*y - 2;\n",
      "P: -4*y;\n",
      "\n",
      "Q: Let c(d) = -1 - 3*d**3 + 5*d**3 + d + 2*d**3 - 11*d**3 + 6*d**3. Let g(o) = -26*o**3 - 3*o + 3. Calculate -3*c(v) - g(v).\n",
      "A: 29*v**3;\n",
      "P: -23*v**3;\n",
      "\n",
      "Q: Let b(c) = 5*c**2 - 6*c. Let p(f) = 4*f**2 - 4*f - 2. Let s(d) = 5*d**2 - 5*d - 2. Let o(q) = 5*p(q) - 5*s(q). Give 5*b(z) + 6*o(z).\n",
      "A: -5*z**2;\n",
      "P: z**2;\n"
     ]
    }
   ],
   "source": [
    "eval_model('awni00/math-polynomials__add/model-hardy-totem-34:latest', val_ds)"
   ]
  },
  {
   "cell_type": "markdown",
   "metadata": {},
   "source": [
    "### Relational Abstractor - Medium"
   ]
  },
  {
   "cell_type": "code",
   "execution_count": 22,
   "metadata": {},
   "outputs": [
    {
     "name": "stderr",
     "output_type": "stream",
     "text": [
      "\u001b[34m\u001b[1mwandb\u001b[0m:   5 of 5 files downloaded.  \n"
     ]
    },
    {
     "name": "stdout",
     "output_type": "stream",
     "text": [
      "evaluation on val_ds\n",
      "20/20 [==============================] - 17s 817ms/step - loss: 0.1048 - teacher_forcing_accuracy: 0.8627\n",
      "{'loss': 0.10475533455610275, 'teacher_forcing_accuracy': 0.8627231121063232}\n",
      "\n",
      "evaluating full-sequence accuracy on a single batch of size 512\n",
      "full_seq_acc: 0.130859375\n",
      "acc by position\n",
      "\n",
      "sample of predictions:\n",
      "\n",
      "Q: Let y(v) = -4*v**2 - 2*v. Let d(t) be the third derivative of -7*t**5/60 - t**4/8 + 362*t**2. Determine 3*d(a) - 5*y(a).\n",
      "A: -a**2 + a;\n",
      "P: a**2 + a;\n",
      "\n",
      "Q: Let z(c) be the third derivative of c**2 - 1/60*c**5 - 7/24*c**4 - c**3 + 0*c + 3. Let r(w) = w + 1. Determine -6*r(k) - z(k).\n",
      "A: k**2 + k;\n",
      "P: -5*k**2 - k;\n",
      "\n",
      "Q: Let n(s) be the second derivative of 11*s**5/20 + s**4/3 + 2*s**3/3 + 1176*s. Let h(o) = 154*o**3 + 55*o**2 + 55*o. Calculate 4*h(u) - 55*n(u).\n",
      "A: 11*u**3;\n",
      "P: 11*u**3;\n",
      "\n",
      "Q: Let g(c) be the first derivative of -c**2/2 + 16. Let q(j) = -j**2 - 2*j. Suppose -3*i - 1 = -4. Let a = -89 - -86. Determine a*g(o) + i*q(o).\n",
      "A: -o**2 + o;\n",
      "P: o**2;\n",
      "\n",
      "Q: Let d = 26 - 37. Suppose 131*x = 132*x + 2*l - 18, 4*x = -2*l + 30. Let p(a) = 2*a**3 - 3*a**2 - 4*a. Let m(h) = 6*h**3 - 9*h**2 - 11*h. Give d*p(v) + x*m(v).\n",
      "A: 2*v**3 - 3*v**2;\n",
      "P: 2*v**3 - 3*v**2;\n"
     ]
    }
   ],
   "source": [
    "eval_model('awni00/math-polynomials__add/model-cerulean-firefly-30:v30', val_ds)"
   ]
  },
  {
   "cell_type": "markdown",
   "metadata": {},
   "source": [
    "### Relational Abstractor - Large"
   ]
  },
  {
   "cell_type": "code",
   "execution_count": 4,
   "metadata": {},
   "outputs": [
    {
     "name": "stderr",
     "output_type": "stream",
     "text": [
      "\u001b[34m\u001b[1mwandb\u001b[0m: Downloading large artifact model-ethereal-lake-32:latest, 134.40MB. 5 files... \n",
      "\u001b[34m\u001b[1mwandb\u001b[0m:   5 of 5 files downloaded.  \n",
      "Done. 0:0:0.6\n"
     ]
    },
    {
     "name": "stdout",
     "output_type": "stream",
     "text": [
      "evaluation on val_ds\n"
     ]
    },
    {
     "ename": "",
     "evalue": "",
     "output_type": "error",
     "traceback": [
      "\u001b[1;31mCanceled future for execute_request message before replies were done"
     ]
    },
    {
     "ename": "",
     "evalue": "",
     "output_type": "error",
     "traceback": [
      "\u001b[1;31mThe Kernel crashed while executing code in the the current cell or a previous cell. Please review the code in the cell(s) to identify a possible cause of the failure. Click <a href='https://aka.ms/vscodeJupyterKernelCrash'>here</a> for more info. View Jupyter <a href='command:jupyter.viewOutput'>log</a> for further details."
     ]
    }
   ],
   "source": [
    "eval_model('awni00/math-polynomials__add/model-ethereal-lake-32:latest', val_ds)"
   ]
  },
  {
   "cell_type": "markdown",
   "metadata": {},
   "source": [
    "## `algebra__sequence_next_term`"
   ]
  },
  {
   "cell_type": "code",
   "execution_count": 14,
   "metadata": {},
   "outputs": [],
   "source": [
    "# region\n",
    "task = 'algebra__sequence_next_term'\n",
    "train_ds, val_ds = load_dataset(task, train_size=-1, batch_size=512)\n",
    "# endregion"
   ]
  },
  {
   "cell_type": "markdown",
   "metadata": {},
   "source": [
    "### Transformer - Medium"
   ]
  },
  {
   "cell_type": "code",
   "execution_count": 4,
   "metadata": {},
   "outputs": [
    {
     "name": "stderr",
     "output_type": "stream",
     "text": [
      "\u001b[34m\u001b[1mwandb\u001b[0m:   5 of 5 files downloaded.  \n"
     ]
    },
    {
     "name": "stdout",
     "output_type": "stream",
     "text": [
      "evaluation on val_ds\n",
      "20/20 [==============================] - 8s 366ms/step - loss: 0.0829 - teacher_forcing_accuracy: 0.8749\n",
      "{'loss': 0.0828612819314003, 'teacher_forcing_accuracy': 0.8749386072158813}\n",
      "\n",
      "evaluating full-sequence accuracy on a single batch of size 512\n",
      "full_seq_acc: 0.466796875\n",
      "acc by position\n",
      "\n",
      "sample of predictions:\n",
      "\n",
      "Q: What is the next term in -127746, -255550, -383354, -511158, -638962?\n",
      "A: -766766;\n",
      "P: -766766;\n",
      "\n",
      "Q: What comes next: 1716, 1721, 1762, 1839?\n",
      "A: 1952;\n",
      "P: 1912;\n",
      "\n",
      "Q: What is next in -44237, -44521, -45297, -46811, -49309, -53037, -58241, -65167?\n",
      "A: -74061;\n",
      "P: -73041;\n",
      "\n",
      "Q: What comes next: -57, -418, -823, -1272, -1765, -2302, -2883?\n",
      "A: -3508;\n",
      "P: -3478;\n",
      "\n",
      "Q: What is next in 1667, 6701, 15115, 26903, 42059, 60577?\n",
      "A: 82451;\n",
      "P: 82491;\n"
     ]
    },
    {
     "data": {
      "image/png": "[encoded data removed]",
      "text/plain": [
       "<Figure size 640x480 with 1 Axes>"
      ]
     },
     "metadata": {},
     "output_type": "display_data"
    }
   ],
   "source": [
    "eval_model('awni00/math-algebra__sequence_next_term/model-absurd-snowflake-19:latest', val_ds)"
   ]
  },
  {
   "cell_type": "markdown",
   "metadata": {},
   "source": [
    "### Transformer - Medium+"
   ]
  },
  {
   "cell_type": "code",
   "execution_count": 15,
   "metadata": {},
   "outputs": [
    {
     "name": "stderr",
     "output_type": "stream",
     "text": [
      "\u001b[34m\u001b[1mwandb\u001b[0m:   5 of 5 files downloaded.  \n"
     ]
    },
    {
     "name": "stdout",
     "output_type": "stream",
     "text": [
      "evaluation on val_ds\n",
      "20/20 [==============================] - 12s 565ms/step - loss: 0.0546 - teacher_forcing_accuracy: 0.9169\n",
      "{'loss': 0.05462654307484627, 'teacher_forcing_accuracy': 0.9168969392776489}\n",
      "\n",
      "evaluating full-sequence accuracy on a single batch of size 512\n",
      "full_seq_acc: 0.615234375\n",
      "acc by position\n",
      "\n",
      "sample of predictions:\n",
      "\n",
      "Q: What comes next: 929, 1844, 2721, 3560, 4361?\n",
      "A: 5124;\n",
      "P: 5124;\n",
      "\n",
      "Q: What is the next term in 16455, 16432, 16385, 16314, 16219, 16100?\n",
      "A: 15957;\n",
      "P: 15957;\n",
      "\n",
      "Q: What is next in -234, -689, -1352, -2229, -3326?\n",
      "A: -4649;\n",
      "P: -4649;\n",
      "\n",
      "Q: What is the next term in -256831, -256815, -256799, -256783, -256767?\n",
      "A: -256751;\n",
      "P: -256751;\n",
      "\n",
      "Q: What is the next term in 2754, 2831, 3034, 3423, 4058, 4999, 6306, 8039?\n",
      "A: 10258;\n",
      "P: 10208;\n"
     ]
    },
    {
     "data": {
      "image/png": "[encoded data removed]",
      "text/plain": [
       "<Figure size 640x480 with 1 Axes>"
      ]
     },
     "metadata": {},
     "output_type": "display_data"
    }
   ],
   "source": [
    "eval_model('awni00/math-algebra__sequence_next_term/model-sleek-deluge-20:latest', val_ds)"
   ]
  },
  {
   "cell_type": "markdown",
   "metadata": {},
   "source": [
    "### Relational Abstractor - Medium"
   ]
  },
  {
   "cell_type": "code",
   "execution_count": 8,
   "metadata": {},
   "outputs": [
    {
     "name": "stderr",
     "output_type": "stream",
     "text": [
      "\u001b[34m\u001b[1mwandb\u001b[0m:   5 of 5 files downloaded.  \n"
     ]
    },
    {
     "name": "stdout",
     "output_type": "stream",
     "text": [
      "evaluation on val_ds\n",
      "20/20 [==============================] - 17s 828ms/step - loss: 0.0488 - teacher_forcing_accuracy: 0.9221\n",
      "{'loss': 0.048819251358509064, 'teacher_forcing_accuracy': 0.9221294522285461}\n",
      "\n",
      "evaluating full-sequence accuracy on a single batch of size 512\n",
      "full_seq_acc: 0.65234375\n",
      "acc by position\n",
      "\n",
      "sample of predictions:\n",
      "\n",
      "Q: What is the next term in -83103, -332464, -748069, -1329918, -2078011, -2992348, -4072929?\n",
      "A: -5319754;\n",
      "P: -5329754;\n",
      "\n",
      "Q: What is next in -13011, -12432, -11853, -11274, -10695, -10116?\n",
      "A: -9537;\n",
      "P: -9997;\n",
      "\n",
      "Q: What comes next: 256, 390, 652, 1108, 1824, 2866?\n",
      "A: 4300;\n",
      "P: 4290;\n",
      "\n",
      "Q: What is next in -2045, -8137, -18217, -32225, -50101, -71785, -97217?\n",
      "A: -126337;\n",
      "P: -126497;\n",
      "\n",
      "Q: What is next in 352, 695, 1318, 2221, 3404?\n",
      "A: 4867;\n",
      "P: 4867;\n"
     ]
    },
    {
     "data": {
      "image/png": "[encoded data removed]",
      "text/plain": [
       "<Figure size 640x480 with 1 Axes>"
      ]
     },
     "metadata": {},
     "output_type": "display_data"
    }
   ],
   "source": [
    "eval_model('awni00/math-algebra__sequence_next_term/model-crisp-totem-16:latest', val_ds)"
   ]
  },
  {
   "cell_type": "markdown",
   "metadata": {},
   "source": [
    "### Relational Abstractor2 - Medium"
   ]
  },
  {
   "cell_type": "code",
   "execution_count": 7,
   "metadata": {},
   "outputs": [],
   "source": [
    "# eval_model('awni00/math-algebra__sequence_next_term/model-fresh-snowflake-3:v29', val_ds)"
   ]
  },
  {
   "cell_type": "markdown",
   "metadata": {},
   "source": [
    "## `algebra__linear_1d`"
   ]
  },
  {
   "cell_type": "code",
   "execution_count": 9,
   "metadata": {},
   "outputs": [],
   "source": [
    "# region\n",
    "task = 'algebra__linear_1d'\n",
    "train_ds, val_ds = load_dataset(task, train_size=-1, batch_size=512)\n",
    "# endregion"
   ]
  },
  {
   "cell_type": "markdown",
   "metadata": {},
   "source": [
    "### Transformer - Medium"
   ]
  },
  {
   "cell_type": "code",
   "execution_count": 10,
   "metadata": {},
   "outputs": [
    {
     "name": "stderr",
     "output_type": "stream",
     "text": [
      "\u001b[34m\u001b[1mwandb\u001b[0m:   5 of 5 files downloaded.  \n"
     ]
    },
    {
     "name": "stdout",
     "output_type": "stream",
     "text": [
      "evaluation on val_ds\n",
      "20/20 [==============================] - 8s 361ms/step - loss: 0.0778 - teacher_forcing_accuracy: 0.7140\n",
      "{'loss': 0.0778389722108841, 'teacher_forcing_accuracy': 0.7139608263969421}\n",
      "\n",
      "evaluating full-sequence accuracy on a single batch of size 512\n",
      "full_seq_acc: 0.271484375\n",
      "acc by position\n",
      "\n",
      "sample of predictions:\n",
      "\n",
      "Q: Solve 701 - 2919 + 402 = -21*a - 829 for a.\n",
      "A: 47;\n",
      "P: 117;\n",
      "\n",
      "Q: Solve 99*w + 1553 = -77*w + 46*w - 1697 for w.\n",
      "A: -25;\n",
      "P: -25;\n",
      "\n",
      "Q: Solve -1275*f - 46076 + 4722 = -554 for f.\n",
      "A: -32;\n",
      "P: -32;\n",
      "\n",
      "Q: Solve 0 = -10872*n + 11663*n - 791 for n.\n",
      "A: 1;\n",
      "P: -17;\n",
      "\n",
      "Q: Solve 344*b - 2654 - 2107 = 7279 for b.\n",
      "A: 35;\n",
      "P: 33;\n"
     ]
    },
    {
     "data": {
      "image/png": "[encoded data removed]",
      "text/plain": [
       "<Figure size 640x480 with 1 Axes>"
      ]
     },
     "metadata": {},
     "output_type": "display_data"
    }
   ],
   "source": [
    "eval_model('awni00/math-algebra__linear_1d/model-sage-cosmos-26:latest', val_ds)"
   ]
  },
  {
   "cell_type": "markdown",
   "metadata": {},
   "source": [
    "### Relational Abstractor - Medium"
   ]
  },
  {
   "cell_type": "code",
   "execution_count": 11,
   "metadata": {},
   "outputs": [
    {
     "name": "stderr",
     "output_type": "stream",
     "text": [
      "\u001b[34m\u001b[1mwandb\u001b[0m:   5 of 5 files downloaded.  \n"
     ]
    },
    {
     "name": "stdout",
     "output_type": "stream",
     "text": [
      "evaluation on val_ds\n",
      "20/20 [==============================] - 17s 823ms/step - loss: 0.0556 - teacher_forcing_accuracy: 0.7905\n",
      "{'loss': 0.05561516061425209, 'teacher_forcing_accuracy': 0.7905270457267761}\n",
      "\n",
      "evaluating full-sequence accuracy on a single batch of size 512\n",
      "full_seq_acc: 0.42578125\n",
      "acc by position\n",
      "\n",
      "sample of predictions:\n",
      "\n",
      "Q: Solve 3*g = -55*g + 672542 - 674224 for g.\n",
      "A: -29;\n",
      "P: -17;\n",
      "\n",
      "Q: Solve -527*s - 2346 - 8176 - 8450 = 0 for s.\n",
      "A: -36;\n",
      "P: -44;\n",
      "\n",
      "Q: Solve -470*j + 7505 + 1828 + 2277 = -3430 for j.\n",
      "A: 32;\n",
      "P: 32;\n",
      "\n",
      "Q: Solve 290241 - 292673 = -64*u for u.\n",
      "A: 38;\n",
      "P: -38;\n",
      "\n",
      "Q: Solve 110*x = -10*x + 3790 + 1730 for x.\n",
      "A: 46;\n",
      "P: 44;\n"
     ]
    },
    {
     "data": {
      "image/png": "[encoded data removed]",
      "text/plain": [
       "<Figure size 640x480 with 1 Axes>"
      ]
     },
     "metadata": {},
     "output_type": "display_data"
    }
   ],
   "source": [
    "eval_model('awni00/math-algebra__linear_1d/model-exalted-forest-24:latest', val_ds)"
   ]
  },
  {
   "cell_type": "markdown",
   "metadata": {},
   "source": [
    "### Relational Abstractor2 - Medium"
   ]
  },
  {
   "cell_type": "code",
   "execution_count": 16,
   "metadata": {},
   "outputs": [],
   "source": [
    "# eval_model('awni00/math-algebra__linear_1d/model-denim-surf-2:latest', val_ds)"
   ]
  },
  {
   "cell_type": "markdown",
   "metadata": {},
   "source": [
    "## `calculus__differentiate`"
   ]
  },
  {
   "cell_type": "code",
   "execution_count": 17,
   "metadata": {},
   "outputs": [],
   "source": [
    "# region\n",
    "task = 'calculus__differentiate'\n",
    "train_ds, val_ds = load_dataset(task, train_size=-1, batch_size=512)\n",
    "# endregion"
   ]
  },
  {
   "cell_type": "markdown",
   "metadata": {},
   "source": [
    "### Transformer - Medium"
   ]
  },
  {
   "cell_type": "code",
   "execution_count": 18,
   "metadata": {},
   "outputs": [
    {
     "name": "stderr",
     "output_type": "stream",
     "text": [
      "\u001b[34m\u001b[1mwandb\u001b[0m:   5 of 5 files downloaded.  \n"
     ]
    },
    {
     "name": "stdout",
     "output_type": "stream",
     "text": [
      "evaluation on val_ds\n",
      "20/20 [==============================] - 8s 364ms/step - loss: 0.0042 - teacher_forcing_accuracy: 0.9980\n",
      "{'loss': 0.004193220753222704, 'teacher_forcing_accuracy': 0.9979625344276428}\n",
      "\n",
      "evaluating full-sequence accuracy on a single batch of size 512\n",
      "full_seq_acc: 0.986328125\n",
      "acc by position\n",
      "\n",
      "sample of predictions:\n",
      "\n",
      "Q: Find the second derivative of 214*h**2*o**3*z**2 - 11325*h**2*o**2 + h**2*o*z + 8*h**2*o - 16*h*o - h + o*z**2 + 239 wrt o.\n",
      "A: 1284*h**2*o*z**2 - 22650*h**2;\n",
      "P: 1284*h**2*o*z**2 - 22650*h**2;\n",
      "\n",
      "Q: Find the third derivative of -13596227*g**3 + 1861286*g**2.\n",
      "A: -81577362;\n",
      "P: -81577362;\n",
      "\n",
      "Q: Find the third derivative of 10*d**5 + 179365*d**3 - 2892*d**2 + 270*d wrt d.\n",
      "A: 600*d**2 + 1076190;\n",
      "P: 600*d**2 + 1076190;\n",
      "\n",
      "Q: Find the third derivative of r**4 - 5347891*r**3 - 1466*r**2 + 998*r.\n",
      "A: 24*r - 32087346;\n",
      "P: 24*r - 32087346;\n",
      "\n",
      "Q: Find the first derivative of 2*c*q**3 + 1477152*c*q - 21*q**3 - 14830 wrt c.\n",
      "A: 2*q**3 + 1477152*q;\n",
      "P: 2*q**3 + 1477152*q;\n"
     ]
    },
    {
     "data": {
      "image/png": "[encoded data removed]",
      "text/plain": [
       "<Figure size 640x480 with 1 Axes>"
      ]
     },
     "metadata": {},
     "output_type": "display_data"
    }
   ],
   "source": [
    "eval_model('awni00/math-calculus__differentiate/model-unique-frost-20:latest', val_ds)"
   ]
  },
  {
   "cell_type": "markdown",
   "metadata": {},
   "source": [
    "### Relational Transformer - Medium+"
   ]
  },
  {
   "cell_type": "code",
   "execution_count": 21,
   "metadata": {},
   "outputs": [
    {
     "name": "stderr",
     "output_type": "stream",
     "text": [
      "\u001b[34m\u001b[1mwandb\u001b[0m:   5 of 5 files downloaded.  \n"
     ]
    },
    {
     "name": "stdout",
     "output_type": "stream",
     "text": [
      "evaluation on val_ds\n",
      "20/20 [==============================] - 12s 578ms/step - loss: 0.0031 - teacher_forcing_accuracy: 0.9985\n",
      "{'loss': 0.0031087594106793404, 'teacher_forcing_accuracy': 0.9984651207923889}\n",
      "\n",
      "evaluating full-sequence accuracy on a single batch of size 512\n",
      "full_seq_acc: 0.98046875\n",
      "acc by position\n",
      "\n",
      "sample of predictions:\n",
      "\n",
      "Q: Differentiate -215*c*y**3 + 5*c*y**2 - 366*c + 513*y**3 - 138*y - 2 wrt c.\n",
      "A: -215*y**3 + 5*y**2 - 366;\n",
      "P: -215*y**3 + 5*y**2 - 366;\n",
      "\n",
      "Q: Find the second derivative of -3502*s**5 - 407*s**4 + s**3 - 2593052*s.\n",
      "A: -70040*s**3 - 4884*s**2 + 6*s;\n",
      "P: -70040*s**3 - 4884*s**2 + 6*s;\n",
      "\n",
      "Q: What is the second derivative of -7*l**4 - 307*l**3 + 114*l**2 - 7*l + 300356?\n",
      "A: -84*l**2 - 1842*l + 228;\n",
      "P: -84*l**2 - 1842*l + 228;\n",
      "\n",
      "Q: What is the first derivative of -7837970*q + 7911205?\n",
      "A: -7837970;\n",
      "P: -7837970;\n",
      "\n",
      "Q: What is the second derivative of -15707226*f**2 - 1268192*f?\n",
      "A: -31414452;\n",
      "P: -31414452;\n"
     ]
    },
    {
     "data": {
      "image/png": "[encoded data removed]",
      "text/plain": [
       "<Figure size 640x480 with 1 Axes>"
      ]
     },
     "metadata": {},
     "output_type": "display_data"
    }
   ],
   "source": [
    "eval_model('awni00/math-calculus__differentiate/model-whole-wildflower-21:latest', val_ds)"
   ]
  },
  {
   "cell_type": "markdown",
   "metadata": {},
   "source": [
    "### Relational Abstractor - Medium"
   ]
  },
  {
   "cell_type": "code",
   "execution_count": 19,
   "metadata": {},
   "outputs": [
    {
     "name": "stderr",
     "output_type": "stream",
     "text": [
      "\u001b[34m\u001b[1mwandb\u001b[0m:   5 of 5 files downloaded.  \n"
     ]
    },
    {
     "name": "stdout",
     "output_type": "stream",
     "text": [
      "evaluation on val_ds\n",
      "20/20 [==============================] - 17s 844ms/step - loss: 6.2451e-04 - teacher_forcing_accuracy: 0.9996\n",
      "{'loss': 0.0006245070253498852, 'teacher_forcing_accuracy': 0.9996379017829895}\n",
      "\n",
      "evaluating full-sequence accuracy on a single batch of size 512\n",
      "full_seq_acc: 0.998046875\n",
      "acc by position\n",
      "\n",
      "sample of predictions:\n",
      "\n",
      "Q: What is the second derivative of 2154832*t**3 + 554310*t - 10 wrt t?\n",
      "A: 12928992*t;\n",
      "P: 12928992*t;\n",
      "\n",
      "Q: What is the third derivative of -21*s**4*t + 25725*s**3*t*w + 4*s**2*t*w - 2*s**2*t + 54*s*w + t*w + 12*t - 3 wrt s?\n",
      "A: -504*s*t + 154350*t*w;\n",
      "P: -504*s*t + 154350*t*w;\n",
      "\n",
      "Q: Find the second derivative of 345*o**5 - 117*o**4 - 44*o**3 - 12350010*o.\n",
      "A: 6900*o**3 - 1404*o**2 - 264*o;\n",
      "P: 6900*o**3 - 1404*o**2 - 264*o;\n",
      "\n",
      "Q: What is the third derivative of -b**5 + 308*b**4 - 2434*b**3 + 46*b**2 - 56*b - 67?\n",
      "A: -60*b**2 + 7392*b - 14604;\n",
      "P: -60*b**2 + 7392*b - 14604;\n",
      "\n",
      "Q: Find the second derivative of -14125*c**3*f**2*t - 3*c**3*f - 2*c**3*t - c**2*f*t + 89*c*f*t + 2*c*f + 356*f**2*t - 229*f*t wrt f.\n",
      "A: -28250*c**3*t + 712*t;\n",
      "P: -28250*c**3*t + 712*t;\n"
     ]
    },
    {
     "data": {
      "image/png": "[encoded data removed]",
      "text/plain": [
       "<Figure size 640x480 with 1 Axes>"
      ]
     },
     "metadata": {},
     "output_type": "display_data"
    }
   ],
   "source": [
    "eval_model('awni00/math-calculus__differentiate/model-devoted-snowflake-17:latest', val_ds)"
   ]
  },
  {
   "cell_type": "markdown",
   "metadata": {},
   "source": [
    "### Relational Abstractor2 - Medium"
   ]
  },
  {
   "cell_type": "code",
   "execution_count": 20,
   "metadata": {},
   "outputs": [],
   "source": [
    "# eval_model('awni00/math-calculus__differentiate/model-iconic-night-3:latest', val_ds)"
   ]
  }
 ],
 "metadata": {
  "kernelspec": {
   "display_name": "Python 3.10.12 ('tf')",
   "language": "python",
   "name": "python3"
  },
  "language_info": {
   "codemirror_mode": {
    "name": "ipython",
    "version": 3
   },
   "file_extension": ".py",
   "mimetype": "text/x-python",
   "name": "python",
   "nbconvert_exporter": "python",
   "pygments_lexer": "ipython3",
   "version": "3.10.12"
  },
  "orig_nbformat": 4,
  "vscode": {
   "interpreter": {
    "hash": "c42447f1c4240406d64c4df4cca87b5465b8a2bbd2ae4f1d6d833906715d3ac1"
   }
  }
 },
 "nbformat": 4,
 "nbformat_minor": 2
}
