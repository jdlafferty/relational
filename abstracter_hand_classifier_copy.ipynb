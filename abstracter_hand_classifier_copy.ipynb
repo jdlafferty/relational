{
 "cells": [
  {
   "cell_type": "markdown",
   "metadata": {
    "papermill": {
     "duration": 0.011421,
     "end_time": "2023-01-03T22:03:30.795462",
     "exception": false,
     "start_time": "2023-01-03T22:03:30.784041",
     "status": "completed"
    },
    "tags": []
   },
   "source": [
    "# Classification of Sorted Hands of Cards using the 'Abstracter' Model"
   ]
  },
  {
   "cell_type": "code",
   "execution_count": 1,
   "metadata": {
    "_cell_guid": "b1076dfc-b9ad-4769-8c92-a6c4dae69d19",
    "_uuid": "8f2839f25d086af736a60e9eeb907d3b93b6e0e5",
    "execution": {
     "iopub.execute_input": "2023-01-03T22:03:30.818561Z",
     "iopub.status.busy": "2023-01-03T22:03:30.817597Z",
     "iopub.status.idle": "2023-01-03T22:03:55.702744Z",
     "shell.execute_reply": "2023-01-03T22:03:55.701423Z"
    },
    "papermill": {
     "duration": 24.900298,
     "end_time": "2023-01-03T22:03:55.705617",
     "exception": false,
     "start_time": "2023-01-03T22:03:30.805319",
     "status": "completed"
    },
    "tags": []
   },
   "outputs": [],
   "source": [
    "#%%capture\n",
    "#!git clone https://github.com/jdlafferty/relational.git\n",
    "#!git checkout awni-debugging\n",
    "#%cd relational\n",
    "\n",
    "#!pip install pydealer\n",
    "#!pip install wandb"
   ]
  },
  {
   "cell_type": "code",
   "execution_count": 2,
   "metadata": {
    "execution": {
     "iopub.execute_input": "2023-01-03T22:03:55.728025Z",
     "iopub.status.busy": "2023-01-03T22:03:55.726464Z",
     "iopub.status.idle": "2023-01-03T22:04:01.182225Z",
     "shell.execute_reply": "2023-01-03T22:04:01.181188Z"
    },
    "papermill": {
     "duration": 5.46886,
     "end_time": "2023-01-03T22:04:01.184620",
     "exception": false,
     "start_time": "2023-01-03T22:03:55.715760",
     "status": "completed"
    },
    "tags": []
   },
   "outputs": [],
   "source": [
    "import pydealer\n",
    "import numpy as np\n",
    "import matplotlib.pyplot as plt\n",
    "import tensorflow as tf\n",
    "import sklearn.metrics\n",
    "\n",
    "from hand2hand import Cards\n",
    "import utils"
   ]
  },
  {
   "cell_type": "code",
   "execution_count": 3,
   "metadata": {
    "execution": {
     "iopub.execute_input": "2023-01-03T22:04:01.205805Z",
     "iopub.status.busy": "2023-01-03T22:04:01.205311Z",
     "iopub.status.idle": "2023-01-03T22:04:03.063864Z",
     "shell.execute_reply": "2023-01-03T22:04:03.062728Z"
    },
    "papermill": {
     "duration": 1.871261,
     "end_time": "2023-01-03T22:04:03.065968",
     "exception": false,
     "start_time": "2023-01-03T22:04:01.194707",
     "status": "completed"
    },
    "tags": []
   },
   "outputs": [
    {
     "name": "stdout",
     "output_type": "stream",
     "text": [
      "env: WANDB_NOTEBOOK_NAME=\"abstracter_hand_classifier.ipynb\"\n"
     ]
    },
    {
     "name": "stderr",
     "output_type": "stream",
     "text": [
      "\u001b[34m\u001b[1mwandb\u001b[0m: \u001b[33mWARNING\u001b[0m WANDB_NOTEBOOK_NAME should be a path to a notebook file, couldn't find \"abstracter_hand_classifier.ipynb\".\n",
      "\u001b[34m\u001b[1mwandb\u001b[0m: Currently logged in as: \u001b[33mjohn-lafferty\u001b[0m (\u001b[33mwu-tsai-institute\u001b[0m). Use \u001b[1m`wandb login --relogin`\u001b[0m to force relogin\n"
     ]
    },
    {
     "data": {
      "text/plain": [
       "True"
      ]
     },
     "execution_count": 3,
     "metadata": {},
     "output_type": "execute_result"
    }
   ],
   "source": [
    "%env WANDB_NOTEBOOK_NAME \"abstracter_hand_classifier.ipynb\"\n",
    "%env\n",
    "\n",
    "import wandb\n",
    "wandb.login()"
   ]
  },
  {
   "cell_type": "code",
   "execution_count": 4,
   "metadata": {
    "execution": {
     "iopub.execute_input": "2023-01-03T22:04:03.087671Z",
     "iopub.status.busy": "2023-01-03T22:04:03.087227Z",
     "iopub.status.idle": "2023-01-03T22:04:06.936696Z",
     "shell.execute_reply": "2023-01-03T22:04:06.935701Z"
    },
    "papermill": {
     "duration": 3.862886,
     "end_time": "2023-01-03T22:04:06.938995",
     "exception": false,
     "start_time": "2023-01-03T22:04:03.076109",
     "status": "completed"
    },
    "tags": []
   },
   "outputs": [],
   "source": [
    "# utility functions\n",
    "\n",
    "card_image_shape = (178, 122, 3)\n",
    "hand_size = 7\n",
    "class_names = ['not sorted', 'sorted']\n",
    "\n",
    "def create_callbacks(monitor='loss', log_gradients=False, save_model=True, log_weights=True,\n",
    "                     train_ds=None, val_ds=None, ):\n",
    "    callbacks = [\n",
    "#         tf.keras.callbacks.EarlyStopping(monitor='val_loss', patience=10, mode='auto', restore_best_weights=True),\n",
    "#         tf.keras.callbacks.ReduceLROnPlateau( monitor='val_loss', factor=0.1, patience=5, verbose=1, mode='auto'),\n",
    "#         wandb.keras.WandbMetricsLogger(log_freq='epoch'),\n",
    "#         wandb.keras,WandbModelCheckpoint(monitor='loss', mode='auto', save_freq='epoch')\n",
    "        wandb.keras.WandbCallback(\n",
    "            monitor=monitor, log_weights=log_weights, log_gradients=log_gradients, save_model=save_model, save_graph=True,\n",
    "            training_data=train_ds, validation_data=val_ds,\n",
    "            labels=class_names, predictions=64, compute_flops=True)\n",
    "        ]\n",
    "    return callbacks\n",
    "\n",
    "metrics = [\n",
    "        tf.keras.metrics.BinaryAccuracy(name='acc'),\n",
    "        tf.keras.metrics.Precision(class_id=1, name='precision'),\n",
    "        tf.keras.metrics.Recall(class_id=1, name='recall'),\n",
    "        tf.keras.metrics.AUC(curve='ROC', multi_label=True, name='auc')\n",
    "        ]\n",
    "\n",
    "loss = tf.keras.losses.CategoricalCrossentropy(from_logits=False)\n",
    "opt = tf.keras.optimizers.Adam()\n",
    "\n",
    "def get_preds(model, ds, print_classification_report=True):\n",
    "    y_pred_proba = model.predict(ds.batch(128))\n",
    "    y_pred = np.argmax(y_pred_proba, axis=1)\n",
    "    y_true = np.array([y for x,y in ds])\n",
    "    if print_classification_report:\n",
    "        print(sklearn.metrics.classification_report(y_true[:,1], y_pred))\n",
    "\n",
    "    return y_true, y_pred_proba, y_pred\n",
    "\n",
    "def log_to_wandb(y_test, pred_proba_test, pred_test):\n",
    "    # log test-set metrics to W&B\n",
    "    y_test = np.array(y_test[:,1])\n",
    "    wandb.log({\"pr\": wandb.plot.pr_curve(y_test, pred_proba_test, class_names)})\n",
    "    wandb.log({\"roc\": wandb.plot.roc_curve(y_test, pred_proba_test, labels=class_names)})\n",
    "    wandb.log({\"confusion_matrix\": wandb.plot.confusion_matrix(y_true=y_test, preds=pred_test, class_names=class_names)})\n",
    "\n",
    "def wrap_run(model, ds):\n",
    "    y_true, y_pred_proba, y_pred = get_preds(model, ds, print_classification_report=True)\n",
    "    log_to_wandb(y_true, y_pred_proba, y_pred)\n",
    "    wandb.finish()"
   ]
  },
  {
   "cell_type": "markdown",
   "metadata": {
    "papermill": {
     "duration": 0.009828,
     "end_time": "2023-01-03T22:04:06.959135",
     "exception": false,
     "start_time": "2023-01-03T22:04:06.949307",
     "status": "completed"
    },
    "tags": []
   },
   "source": [
    "# Defining 'Abstracter' Model\n",
    "\n",
    "In this section, we define the different components of the Abstracter model. (A few minor modifications are made to the implementation in `seq2seq_transformer.py`). In particular, we implement the following layers:\n",
    "\n",
    "- `AddPositionalEmbedding`: Here, I define a layer which only adds a positional encoding, without embedding tokens. Rather than expecting a sequence of tokens as input, it expects a sequence of vectors, and simply adds a positional encoding to each vector elemntwise in the sequence. Just defining this to separate out the 'token embedding' and 'positional encoding' steps in the model since if the input sequence is (for e.g.) a sequence of images rather than a sequence of tokens, we would need to embed them differently, but still need to add a positional embedding.\n",
    "\n",
    "- `Encoder`: Exactly the same implementation as `seq2seq_transformer.py`, except I'm removing the part of the layer that embeds the sequence and adds a positional embedding (just to separate out the computations a bit more to make things more modular).\n",
    "\n",
    "- `EpisodicDecoder`: Just changed the implementation so that the input sequence vector parameters are explicitly a parameter of the model (so that we don't have to pass in a fixed one-hot vector sequence as input to achieve the desired effect, this is now built in). Also added option to turn off adding positional encoding."
   ]
  },
  {
   "cell_type": "code",
   "execution_count": 5,
   "metadata": {
    "execution": {
     "iopub.execute_input": "2023-01-03T22:04:06.980387Z",
     "iopub.status.busy": "2023-01-03T22:04:06.979574Z",
     "iopub.status.idle": "2023-01-03T22:04:07.002072Z",
     "shell.execute_reply": "2023-01-03T22:04:07.000920Z"
    },
    "papermill": {
     "duration": 0.035358,
     "end_time": "2023-01-03T22:04:07.004134",
     "exception": false,
     "start_time": "2023-01-03T22:04:06.968776",
     "status": "completed"
    },
    "tags": []
   },
   "outputs": [],
   "source": [
    "import seq2seq_transformer\n",
    "from sklearn.model_selection import train_test_split\n",
    "from tensorflow.keras import layers, Model, Sequential\n",
    "from seq2seq_transformer import (EncoderLayer, DecoderLayer, positional_encoding, EpisodicDecoderLayer,\n",
    "                                 BaseAttention, GlobalSelfAttention, FeedForward)"
   ]
  },
  {
   "cell_type": "code",
   "execution_count": 6,
   "metadata": {
    "execution": {
     "iopub.execute_input": "2023-01-03T22:04:07.025187Z",
     "iopub.status.busy": "2023-01-03T22:04:07.024917Z",
     "iopub.status.idle": "2023-01-03T22:04:07.031133Z",
     "shell.execute_reply": "2023-01-03T22:04:07.030254Z"
    },
    "papermill": {
     "duration": 0.018928,
     "end_time": "2023-01-03T22:04:07.033166",
     "exception": false,
     "start_time": "2023-01-03T22:04:07.014238",
     "status": "completed"
    },
    "tags": []
   },
   "outputs": [],
   "source": [
    "# define non-token positional embedding layer (for vector input; just adds positional embedding)\n",
    "# defining this to separate the 'adding positional embedding' from the 'token embedder' steps\n",
    "\n",
    "class AddPositionalEmbedding(tf.keras.layers.Layer):\n",
    "    def __init__(self, name='add_positional_embedding'):\n",
    "        super().__init__(name=name)\n",
    "\n",
    "    def build(self, input_shape):\n",
    "        _, self.seq_length, self.vec_dim = input_shape\n",
    "        # compute fixed positional encoding to be added\n",
    "        # TODO: why length=2048 and not seq_length?\n",
    "        self.pos_encoding = positional_encoding(length=2048, depth=self.vec_dim)\n",
    "\n",
    "    def call(self, x):\n",
    "        # This factor sets the relative scale of the embedding and positonal_encoding.\n",
    "        x *= tf.math.sqrt(tf.cast(self.vec_dim, tf.float32))\n",
    "\n",
    "        # add positional encoding\n",
    "        x = x + self.pos_encoding[tf.newaxis, :self.seq_length, :] # NOTE: see build\n",
    "\n",
    "        return x"
   ]
  },
  {
   "cell_type": "code",
   "execution_count": 7,
   "metadata": {
    "execution": {
     "iopub.execute_input": "2023-01-03T22:04:07.053912Z",
     "iopub.status.busy": "2023-01-03T22:04:07.053662Z",
     "iopub.status.idle": "2023-01-03T22:04:07.063350Z",
     "shell.execute_reply": "2023-01-03T22:04:07.062289Z"
    },
    "papermill": {
     "duration": 0.02285,
     "end_time": "2023-01-03T22:04:07.065705",
     "exception": false,
     "start_time": "2023-01-03T22:04:07.042855",
     "status": "completed"
    },
    "tags": []
   },
   "outputs": [],
   "source": [
    "# TODO: name something else? more specific name? e.g.: AbstracterEncoder/TransformerEncoder/...\n",
    "\n",
    "class Encoder(tf.keras.layers.Layer):\n",
    "    def __init__(self, num_layers, num_heads,\n",
    "               dff, dropout_rate=0.1, name='encoder'):\n",
    "\n",
    "        super().__init__(name=name)\n",
    "        self.num_layers = num_layers\n",
    "        self.num_heads = num_heads\n",
    "        self.dff = dff\n",
    "        self.dropout_rate = dropout_rate\n",
    "\n",
    "    def build(self, input_shape):\n",
    "    \n",
    "        _, self.sequence_length, self.d_model = input_shape\n",
    "\n",
    "        self.enc_layers = [\n",
    "            EncoderLayer(d_model=self.d_model,\n",
    "                         num_heads=self.num_heads,\n",
    "                         dff=self.dff,\n",
    "                         dropout_rate=self.dropout_rate)\n",
    "            for _ in range(self.num_layers)\n",
    "            ]\n",
    "\n",
    "        self.dropout = tf.keras.layers.Dropout(self.dropout_rate)\n",
    "\n",
    "    \n",
    "    def call(self, x):\n",
    "        # `x` is shape: (batch, seq_len, vec_dim)\n",
    "\n",
    "        # Add dropout.\n",
    "        x = self.dropout(x)\n",
    "\n",
    "        for i in range(self.num_layers):\n",
    "            x = self.enc_layers[i](x)\n",
    "\n",
    "        return x  # Shape `(batch_size, seq_len, d_model)`"
   ]
  },
  {
   "cell_type": "code",
   "execution_count": 8,
   "metadata": {
    "execution": {
     "iopub.execute_input": "2023-01-03T22:04:07.086717Z",
     "iopub.status.busy": "2023-01-03T22:04:07.086468Z",
     "iopub.status.idle": "2023-01-03T22:04:07.096470Z",
     "shell.execute_reply": "2023-01-03T22:04:07.095549Z"
    },
    "papermill": {
     "duration": 0.022758,
     "end_time": "2023-01-03T22:04:07.098460",
     "exception": false,
     "start_time": "2023-01-03T22:04:07.075702",
     "status": "completed"
    },
    "tags": []
   },
   "outputs": [],
   "source": [
    "# Original Episodic Decoder with Q=E, K=E, V=D\n",
    "class EpisodicDecoder(tf.keras.layers.Layer):\n",
    "    \"\"\"\n",
    "    The 'Decoder' of the 'Abstracter' Model.\n",
    "    \n",
    "    Based on the Transformer's decoder, except with the modification that\n",
    "    the queries and keys now both come from the encoder, and the values come\n",
    "    from the decoder. The input at the decoder is now a learned parameter.\n",
    "    \"\"\"\n",
    "    def __init__(self, num_layers, num_heads, dff, use_pos_embedding=True,\n",
    "               dropout_rate=0.1, name='episodic_decoder'):\n",
    "        super(EpisodicDecoder, self).__init__(name=name)\n",
    "        \n",
    "        self.num_layers = num_layers\n",
    "        self.num_heads = num_heads\n",
    "        self.dff = dff\n",
    "        self.use_pos_embedding = use_pos_embedding\n",
    "        self.dropout_rate = dropout_rate\n",
    "\n",
    "    def build(self, input_shape):\n",
    "        \n",
    "        _, self.sequence_length, self.d_model = input_shape\n",
    "\n",
    "        # define the input-independent symbolic input vector sequence at the decoder\n",
    "        normal_initializer = tf.keras.initializers.RandomNormal(mean=0., stddev=1.)\n",
    "        self.decoder_symbol_sequence = tf.Variable(\n",
    "            normal_initializer(shape=(self.sequence_length, self.d_model)),\n",
    "            trainable=True)\n",
    "\n",
    "        # layer which adds positional embedding (to be used on symbol sequence)\n",
    "        if self.use_pos_embedding:\n",
    "            self.add_pos_embedding = AddPositionalEmbedding()\n",
    "        \n",
    "        self.dropout = tf.keras.layers.Dropout(self.dropout_rate)\n",
    "    \n",
    "        self.dec_layers = [\n",
    "            EpisodicDecoderLayer(d_model=self.d_model, num_heads=self.num_heads,\n",
    "                         dff=self.dff, dropout_rate=self.dropout_rate)\n",
    "            for _ in range(self.num_layers)]\n",
    "\n",
    "        self.last_attn_scores = None\n",
    "\n",
    "    def call(self, encoder_context):\n",
    "        # symbol sequence is input independent, so use the same one for all computations in the given batch\n",
    "        symbol_seq = tf.zeros_like(encoder_context) + self.decoder_symbol_sequence\n",
    "    \n",
    "        # add positional embedding\n",
    "        if self.use_pos_embedding:\n",
    "            symbol_seq = self.add_pos_embedding(symbol_seq)\n",
    "\n",
    "        symbol_seq = self.dropout(symbol_seq)\n",
    "\n",
    "        for i in range(self.num_layers):\n",
    "            symbol_seq = self.dec_layers[i](symbol_seq, encoder_context)\n",
    "\n",
    "#             self.last_attn_scores = self.dec_layers[-1].last_attn_scores\n",
    "\n",
    "        return symbol_seq"
   ]
  },
  {
   "cell_type": "markdown",
   "metadata": {
    "papermill": {
     "duration": 0.009844,
     "end_time": "2023-01-03T22:04:07.118279",
     "exception": false,
     "start_time": "2023-01-03T22:04:07.108435",
     "status": "completed"
    },
    "tags": []
   },
   "source": [
    "## Build Card Image Encoder via Training on Card Classification Task"
   ]
  },
  {
   "cell_type": "markdown",
   "metadata": {
    "papermill": {
     "duration": 0.009701,
     "end_time": "2023-01-03T22:04:07.137891",
     "exception": false,
     "start_time": "2023-01-03T22:04:07.128190",
     "status": "completed"
    },
    "tags": []
   },
   "source": [
    "Here, we build an encoder for our relational model(s) by training on another task. In particular, we train a CNN model which classifies the card from its image. From this we will use the intermediate encoder inside this model as well as the full classifier as encoders for our input sequence in the relational model. "
   ]
  },
  {
   "cell_type": "code",
   "execution_count": 9,
   "metadata": {
    "execution": {
     "iopub.execute_input": "2023-01-03T22:04:07.158762Z",
     "iopub.status.busy": "2023-01-03T22:04:07.158476Z",
     "iopub.status.idle": "2023-01-03T22:04:07.209914Z",
     "shell.execute_reply": "2023-01-03T22:04:07.209051Z"
    },
    "papermill": {
     "duration": 0.064422,
     "end_time": "2023-01-03T22:04:07.212192",
     "exception": false,
     "start_time": "2023-01-03T22:04:07.147770",
     "status": "completed"
    },
    "tags": []
   },
   "outputs": [],
   "source": [
    "\n",
    "# create card classification dataset\n",
    "card_rank_dict = pydealer.DEFAULT_RANKS['values']\n",
    "card_suit_dict = pydealer.DEFAULT_RANKS['suits']\n",
    "\n",
    "def card_classification_generator():\n",
    "    deck = Cards()\n",
    "    pydeck = pydealer.Deck()\n",
    "\n",
    "    for card in pydeck:\n",
    "        x = deck.image_of_pycard(card) / 255\n",
    "        y = deck.index_of_card(card)\n",
    "        yield x,y\n",
    "\n",
    "card_classification_ds = tf.data.Dataset.from_generator(\n",
    "     card_classification_generator,\n",
    "     output_signature=(\n",
    "         tf.TensorSpec(shape=card_image_shape, dtype=tf.float32),\n",
    "         tf.TensorSpec(shape=(), dtype=tf.int32))\n",
    "    )\n"
   ]
  },
  {
   "cell_type": "code",
   "execution_count": 10,
   "metadata": {
    "execution": {
     "iopub.execute_input": "2023-01-03T22:04:07.233943Z",
     "iopub.status.busy": "2023-01-03T22:04:07.233673Z",
     "iopub.status.idle": "2023-01-03T22:04:07.321032Z",
     "shell.execute_reply": "2023-01-03T22:04:07.319445Z"
    },
    "papermill": {
     "duration": 0.100542,
     "end_time": "2023-01-03T22:04:07.323085",
     "exception": false,
     "start_time": "2023-01-03T22:04:07.222543",
     "status": "completed"
    },
    "tags": []
   },
   "outputs": [
    {
     "name": "stdout",
     "output_type": "stream",
     "text": [
      "Model: \"card_cnn\"\n",
      "_________________________________________________________________\n",
      " Layer (type)                Output Shape              Param #   \n",
      "=================================================================\n",
      " card_image (InputLayer)     [(None, 178, 122, 3)]     0         \n",
      "                                                                 \n",
      " card_encoder (Functional)   (None, 32)                83392     \n",
      "                                                                 \n",
      " card_classification (Dense)  (None, 52)               1716      \n",
      "                                                                 \n",
      "=================================================================\n",
      "Total params: 85,108\n",
      "Trainable params: 85,108\n",
      "Non-trainable params: 0\n",
      "_________________________________________________________________\n"
     ]
    }
   ],
   "source": [
    "img_input = layers.Input(shape=card_image_shape, name='card_image')\n",
    "\n",
    "x = layers.Conv2D(32, (5, 5), activation='relu')(img_input)\n",
    "x = layers.MaxPooling2D((4,4))(x)\n",
    "x = layers.Conv2D(32, (5, 5), activation='relu')(x)\n",
    "x = layers.MaxPooling2D((4,4))(x)\n",
    "x = layers.Flatten()(x)\n",
    "x = layers.Dense(32, activation='tanh')(x)\n",
    "\n",
    "card_encoder = Model(inputs=img_input, outputs=x, name='card_encoder')\n",
    "card_classification = layers.Dense(52, name='card_classification')(card_encoder(img_input))\n",
    "\n",
    "cnn_card_clf = Model(inputs=img_input, outputs=card_classification, name='card_cnn')\n",
    "\n",
    "cnn_card_clf.summary()\n",
    "\n",
    "cnn_card_clf.compile(loss=tf.keras.losses.SparseCategoricalCrossentropy(from_logits=True), \n",
    "                     optimizer=tf.keras.optimizers.Adam(learning_rate=0.001),\n",
    "                     metrics=['accuracy'])"
   ]
  },
  {
   "cell_type": "code",
   "execution_count": 11,
   "metadata": {
    "execution": {
     "iopub.execute_input": "2023-01-03T22:04:07.344908Z",
     "iopub.status.busy": "2023-01-03T22:04:07.344254Z",
     "iopub.status.idle": "2023-01-03T22:04:20.176391Z",
     "shell.execute_reply": "2023-01-03T22:04:20.175460Z"
    },
    "papermill": {
     "duration": 12.845321,
     "end_time": "2023-01-03T22:04:20.178684",
     "exception": false,
     "start_time": "2023-01-03T22:04:07.333363",
     "status": "completed"
    },
    "tags": []
   },
   "outputs": [],
   "source": [
    "history = cnn_card_clf.fit(card_classification_ds.batch(52), epochs=75, verbose=0)"
   ]
  },
  {
   "cell_type": "code",
   "execution_count": 12,
   "metadata": {
    "execution": {
     "iopub.execute_input": "2023-01-03T22:04:20.201679Z",
     "iopub.status.busy": "2023-01-03T22:04:20.200837Z",
     "iopub.status.idle": "2023-01-03T22:04:20.427271Z",
     "shell.execute_reply": "2023-01-03T22:04:20.426372Z"
    },
    "papermill": {
     "duration": 0.239595,
     "end_time": "2023-01-03T22:04:20.429162",
     "exception": false,
     "start_time": "2023-01-03T22:04:20.189567",
     "status": "completed"
    },
    "tags": []
   },
   "outputs": [
    {
     "data": {
      "image/png": "[encoded data removed]",
      "text/plain": [
       "<Figure size 432x288 with 1 Axes>"
      ]
     },
     "metadata": {
      "needs_background": "light"
     },
     "output_type": "display_data"
    }
   ],
   "source": [
    "plt.plot(history.history['loss']);\n",
    "plt.xlabel('epoch'); plt.ylabel('loss');"
   ]
  },
  {
   "cell_type": "markdown",
   "metadata": {
    "papermill": {
     "duration": 0.010209,
     "end_time": "2023-01-03T22:04:20.450188",
     "exception": false,
     "start_time": "2023-01-03T22:04:20.439979",
     "status": "completed"
    },
    "tags": []
   },
   "source": [
    "## Hand Classification Datasets: Tokenized Input and Image Input\n",
    "\n",
    "In this section, we define the hand classification datasets. We define two datasets. In one, the input sequence is a sequence of tokens with a vocab size of 52. In the other, the input sequence is a sequence of images. The datasets are generated dynamically by defining a 'generator' and using the tensorflow data API. This means that when no seed is specified, the training dataset will be different at each epoch (since the generation process involves randomness). When a seed is specified, the data generated is repeatable."
   ]
  },
  {
   "cell_type": "code",
   "execution_count": 13,
   "metadata": {
    "execution": {
     "iopub.execute_input": "2023-01-03T22:04:20.473660Z",
     "iopub.status.busy": "2023-01-03T22:04:20.472886Z",
     "iopub.status.idle": "2023-01-03T22:04:20.482212Z",
     "shell.execute_reply": "2023-01-03T22:04:20.481389Z"
    },
    "papermill": {
     "duration": 0.024113,
     "end_time": "2023-01-03T22:04:20.484642",
     "exception": false,
     "start_time": "2023-01-03T22:04:20.460529",
     "status": "completed"
    },
    "tags": []
   },
   "outputs": [],
   "source": [
    "# create 'toy' dataset where the cards in the input sequence are represented as an index in a vocab of length 52 \n",
    "\n",
    "train_size = 10000\n",
    "\n",
    "def create_tokenized_hand_clf_ds(seed=None, train_size=train_size):\n",
    "    \n",
    "\n",
    "    def tokenized_hand_clf_ds_generator():\n",
    "        np.random.seed(seed) # optionally set seed for repeatability if desired\n",
    "\n",
    "        deck = Cards()\n",
    "        pydeck = pydealer.Deck()\n",
    "        pydeck.shuffle()\n",
    "\n",
    "        for i in np.arange(train_size):\n",
    "            hand = pydeck.deal(hand_size)\n",
    "            if len(hand) < hand_size:\n",
    "                # ran out of cards, make a new deck\n",
    "                pydeck = pydealer.Deck()\n",
    "                pydeck.shuffle()\n",
    "                hand = pydeck.deal(hand_size)\n",
    "            if np.random.normal() < 0:\n",
    "                deck.sort_pyhand(hand)\n",
    "\n",
    "            x = deck.index_pyhand(hand)\n",
    "            y = deck.is_sorted_pyhand(hand)\n",
    "            yield x, y\n",
    "\n",
    "    ds = tf.data.Dataset.from_generator(\n",
    "         tokenized_hand_clf_ds_generator,\n",
    "         output_signature=(\n",
    "             tf.TensorSpec(shape=(hand_size, ), dtype=tf.int32),\n",
    "             tf.TensorSpec(shape=(), dtype=tf.int32))\n",
    "        )\n",
    "\n",
    "    ds = ds.map(lambda x,y: (x, tf.one_hot(y,2)))\n",
    "    \n",
    "    return ds"
   ]
  },
  {
   "cell_type": "code",
   "execution_count": 14,
   "metadata": {
    "execution": {
     "iopub.execute_input": "2023-01-03T22:04:20.506979Z",
     "iopub.status.busy": "2023-01-03T22:04:20.506720Z",
     "iopub.status.idle": "2023-01-03T22:04:20.516528Z",
     "shell.execute_reply": "2023-01-03T22:04:20.515714Z"
    },
    "papermill": {
     "duration": 0.023323,
     "end_time": "2023-01-03T22:04:20.518506",
     "exception": false,
     "start_time": "2023-01-03T22:04:20.495183",
     "status": "completed"
    },
    "tags": []
   },
   "outputs": [],
   "source": [
    "# define dataset generator for sequence of card images\n",
    "\n",
    "def create_img_hand_clf_ds(seed=None, train_size=train_size):\n",
    "    \n",
    "    \n",
    "    def hand_classification_generator():\n",
    "        np.random.seed(seed) # set seed for reproducibility of results\n",
    "\n",
    "        deck = Cards()\n",
    "        pydeck = pydealer.Deck()\n",
    "        pydeck.shuffle()\n",
    "\n",
    "        for i in np.arange(train_size):\n",
    "            hand = pydeck.deal(hand_size)\n",
    "            if len(hand) < hand_size:\n",
    "                # ran out of cards, make a new deck\n",
    "                pydeck = pydealer.Deck()\n",
    "                pydeck.shuffle()\n",
    "                hand = pydeck.deal(hand_size)\n",
    "            if np.random.normal() < 0:\n",
    "                deck.sort_pyhand(hand)\n",
    "\n",
    "            x = np.array([deck.image_of_pycard(hand[j]) / 255 for j in range(hand_size)])\n",
    "            y = deck.is_sorted_pyhand(hand)\n",
    "            yield x,y\n",
    "\n",
    "    ds = tf.data.Dataset.from_generator(\n",
    "         hand_classification_generator,\n",
    "         output_signature=(\n",
    "             tf.TensorSpec(shape=(hand_size, *card_image_shape), dtype=tf.float32),\n",
    "             tf.TensorSpec(shape=(), dtype=tf.int32))\n",
    "        )\n",
    "    \n",
    "    ds = ds.map(lambda x,y: (x, tf.one_hot(y,2)))\n",
    "    \n",
    "    return ds"
   ]
  },
  {
   "cell_type": "markdown",
   "metadata": {
    "papermill": {
     "duration": 0.010677,
     "end_time": "2023-01-03T22:04:20.539545",
     "exception": false,
     "start_time": "2023-01-03T22:04:20.528868",
     "status": "completed"
    },
    "tags": []
   },
   "source": [
    "## RNN Model (Reference)\n",
    "\n",
    "A simple GRU RNN model for reference. Tested with token input, and two variants of the card image encoder."
   ]
  },
  {
   "cell_type": "markdown",
   "metadata": {
    "papermill": {
     "duration": 0.010745,
     "end_time": "2023-01-03T22:04:20.561255",
     "exception": false,
     "start_time": "2023-01-03T22:04:20.550510",
     "status": "completed"
    },
    "tags": []
   },
   "source": [
    "### Token Input"
   ]
  },
  {
   "cell_type": "code",
   "execution_count": 15,
   "metadata": {
    "execution": {
     "iopub.execute_input": "2023-01-03T22:04:20.583719Z",
     "iopub.status.busy": "2023-01-03T22:04:20.583450Z",
     "iopub.status.idle": "2023-01-03T22:04:20.797354Z",
     "shell.execute_reply": "2023-01-03T22:04:20.795463Z"
    },
    "papermill": {
     "duration": 0.227591,
     "end_time": "2023-01-03T22:04:20.799535",
     "exception": false,
     "start_time": "2023-01-03T22:04:20.571944",
     "status": "completed"
    },
    "tags": []
   },
   "outputs": [
    {
     "name": "stdout",
     "output_type": "stream",
     "text": [
      "Model: \"rnn_clf\"\n",
      "_________________________________________________________________\n",
      " Layer (type)                Output Shape              Param #   \n",
      "=================================================================\n",
      " input_1 (InputLayer)        [(None, 7)]               0         \n",
      "                                                                 \n",
      " token_embedding (Embedding)  (None, 7, 32)            1664      \n",
      "                                                                 \n",
      " gru_rnn (GRU)               (None, 64)                18816     \n",
      "                                                                 \n",
      " output (Dense)              (None, 2)                 130       \n",
      "                                                                 \n",
      "=================================================================\n",
      "Total params: 20,610\n",
      "Trainable params: 20,610\n",
      "Non-trainable params: 0\n",
      "_________________________________________________________________\n"
     ]
    }
   ],
   "source": [
    "hand_input = layers.Input(shape=(hand_size, ))\n",
    "x = layers.Embedding(52, 32, name='token_embedding')(hand_input)\n",
    "x = layers.GRU(64, name='gru_rnn')(x)\n",
    "x = layers.Dense(2, activation='softmax', name='output')(x)\n",
    "rnn_clf = Model(hand_input, x, name='rnn_clf')\n",
    "rnn_clf.summary()\n",
    "rnn_clf.compile(loss=loss, optimizer=tf.keras.optimizers.Adam(learning_rate=0.001), \n",
    "                metrics=metrics)"
   ]
  },
  {
   "cell_type": "code",
   "execution_count": 16,
   "metadata": {
    "execution": {
     "iopub.execute_input": "2023-01-03T22:04:20.823837Z",
     "iopub.status.busy": "2023-01-03T22:04:20.822306Z",
     "iopub.status.idle": "2023-01-03T22:05:05.842007Z",
     "shell.execute_reply": "2023-01-03T22:05:05.841039Z"
    },
    "papermill": {
     "duration": 45.034273,
     "end_time": "2023-01-03T22:05:05.845126",
     "exception": false,
     "start_time": "2023-01-03T22:04:20.810853",
     "status": "completed"
    },
    "tags": []
   },
   "outputs": [
    {
     "name": "stdout",
     "output_type": "stream",
     "text": [
      "WARNING:tensorflow:From /Users/lafferty/opt/anaconda3/lib/python3.8/site-packages/tensorflow/python/autograph/pyct/static_analysis/liveness.py:83: Analyzer.lamba_check (from tensorflow.python.autograph.pyct.static_analysis.liveness) is deprecated and will be removed after 2023-09-23.\n",
      "Instructions for updating:\n",
      "Lambda fuctions will be no more assumed to be used in the statement where they are used, or at least in the same block. https://github.com/tensorflow/tensorflow/issues/56089\n"
     ]
    },
    {
     "data": {
      "text/html": [
       "Tracking run with wandb version 0.13.7"
      ],
      "text/plain": [
       "<IPython.core.display.HTML object>"
      ]
     },
     "metadata": {},
     "output_type": "display_data"
    },
    {
     "data": {
      "text/html": [
       "Run data is saved locally in <code>/Users/lafferty/Downloads/relational/wandb/run-20230110_164302-2uvp0nhr</code>"
      ],
      "text/plain": [
       "<IPython.core.display.HTML object>"
      ]
     },
     "metadata": {},
     "output_type": "display_data"
    },
    {
     "data": {
      "text/html": [
       "Syncing run <strong><a href=\"https://wandb.ai/wu-tsai-institute/Abstracter%20Hand%20Classification/runs/2uvp0nhr\" target=\"_blank\">faithful-bush-18</a></strong> to <a href=\"https://wandb.ai/wu-tsai-institute/Abstracter%20Hand%20Classification\" target=\"_blank\">Weights & Biases</a> (<a href=\"https://wandb.me/run\" target=\"_blank\">docs</a>)<br/>"
      ],
      "text/plain": [
       "<IPython.core.display.HTML object>"
      ]
     },
     "metadata": {},
     "output_type": "display_data"
    },
    {
     "name": "stdout",
     "output_type": "stream",
     "text": [
      "WARNING:tensorflow:From /Users/lafferty/opt/anaconda3/lib/python3.8/site-packages/tensorflow/python/ops/math_ops.py:3837: tensor_shape_from_node_def_name (from tensorflow.python.framework.graph_util_impl) is deprecated and will be removed in a future version.\n",
      "Instructions for updating:\n",
      "This API was designed for TensorFlow v1. See https://www.tensorflow.org/guide/migrate for instructions on how to migrate your code to TensorFlow v2.\n",
      "Epoch 1/5\n",
      "40/40 [==============================] - 4s 43ms/step - loss: 0.6193 - acc: 0.7909 - precision: 0.7615 - recall: 0.8416 - auc: 0.8687\n",
      "Epoch 2/5\n",
      "40/40 [==============================] - 2s 43ms/step - loss: 0.2143 - acc: 0.9206 - precision: 0.8800 - recall: 0.9728 - auc: 0.9791\n",
      "Epoch 3/5\n",
      "40/40 [==============================] - 2s 43ms/step - loss: 0.0942 - acc: 0.9706 - precision: 0.9556 - recall: 0.9870 - auc: 0.9935\n",
      "Epoch 4/5\n",
      "40/40 [==============================] - 2s 46ms/step - loss: 0.0687 - acc: 0.9796 - precision: 0.9680 - recall: 0.9915 - auc: 0.9958\n",
      "Epoch 5/5\n",
      "40/40 [==============================] - 2s 43ms/step - loss: 0.0520 - acc: 0.9833 - precision: 0.9742 - recall: 0.9925 - auc: 0.9978\n"
     ]
    }
   ],
   "source": [
    "train_ds = create_tokenized_hand_clf_ds(seed=None)\n",
    "\n",
    "run = wandb.init(project='Abstracter Hand Classification', group='RNN (Token Inputs)', save_code=True)\n",
    "\n",
    "history = rnn_clf.fit(train_ds.batch(256), epochs=5, callbacks=create_callbacks(save_model=False))"
   ]
  },
  {
   "cell_type": "code",
   "execution_count": 17,
   "metadata": {
    "execution": {
     "iopub.execute_input": "2023-01-03T22:05:05.915148Z",
     "iopub.status.busy": "2023-01-03T22:05:05.914794Z",
     "iopub.status.idle": "2023-01-03T22:05:32.091209Z",
     "shell.execute_reply": "2023-01-03T22:05:32.090349Z"
    },
    "papermill": {
     "duration": 26.213564,
     "end_time": "2023-01-03T22:05:32.093189",
     "exception": false,
     "start_time": "2023-01-03T22:05:05.879625",
     "status": "completed"
    },
    "tags": []
   },
   "outputs": [
    {
     "name": "stdout",
     "output_type": "stream",
     "text": [
      "40/40 [==============================] - 2s 38ms/step - loss: 0.0699 - acc: 0.9761 - precision: 0.9567 - recall: 0.9974 - auc: 0.9961\n",
      "79/79 [==============================] - 2s 20ms/step\n",
      "              precision    recall  f1-score   support\n",
      "\n",
      "         0.0       1.00      0.95      0.98      4992\n",
      "         1.0       0.95      1.00      0.98      5008\n",
      "\n",
      "    accuracy                           0.98     10000\n",
      "   macro avg       0.98      0.98      0.98     10000\n",
      "weighted avg       0.98      0.98      0.98     10000\n",
      "\n"
     ]
    },
    {
     "data": {
      "text/html": [
       "Waiting for W&B process to finish... <strong style=\"color:green\">(success).</strong>"
      ],
      "text/plain": [
       "<IPython.core.display.HTML object>"
      ]
     },
     "metadata": {},
     "output_type": "display_data"
    },
    {
     "data": {
      "text/html": [
       "<style>\n",
       "    table.wandb td:nth-child(1) { padding: 0 10px; text-align: left ; width: auto;} td:nth-child(2) {text-align: left ; width: 100%}\n",
       "    .wandb-row { display: flex; flex-direction: row; flex-wrap: wrap; justify-content: flex-start; width: 100% }\n",
       "    .wandb-col { display: flex; flex-direction: column; flex-basis: 100%; flex: 1; padding: 10px; }\n",
       "    </style>\n",
       "<div class=\"wandb-row\"><div class=\"wandb-col\"><h3>Run history:</h3><br/><table class=\"wandb\"><tr><td>acc</td><td>▁▆███</td></tr><tr><td>auc</td><td>▁▇███</td></tr><tr><td>epoch</td><td>▁▃▅▆█</td></tr><tr><td>loss</td><td>█▃▂▁▁</td></tr><tr><td>precision</td><td>▁▅▇██</td></tr><tr><td>recall</td><td>▁▇███</td></tr></table><br/></div><div class=\"wandb-col\"><h3>Run summary:</h3><br/><table class=\"wandb\"><tr><td>GFLOPs</td><td>0.0</td></tr><tr><td>acc</td><td>0.9833</td></tr><tr><td>auc</td><td>0.99784</td></tr><tr><td>best_epoch</td><td>4</td></tr><tr><td>best_loss</td><td>0.05198</td></tr><tr><td>epoch</td><td>4</td></tr><tr><td>loss</td><td>0.05198</td></tr><tr><td>precision</td><td>0.97425</td></tr><tr><td>recall</td><td>0.99253</td></tr></table><br/></div></div>"
      ],
      "text/plain": [
       "<IPython.core.display.HTML object>"
      ]
     },
     "metadata": {},
     "output_type": "display_data"
    },
    {
     "data": {
      "text/html": [
       "Synced <strong style=\"color:#cdcd00\">faithful-bush-18</strong>: <a href=\"https://wandb.ai/wu-tsai-institute/Abstracter%20Hand%20Classification/runs/2uvp0nhr\" target=\"_blank\">https://wandb.ai/wu-tsai-institute/Abstracter%20Hand%20Classification/runs/2uvp0nhr</a><br/>Synced 7 W&B file(s), 4 media file(s), 3 artifact file(s) and 1 other file(s)"
      ],
      "text/plain": [
       "<IPython.core.display.HTML object>"
      ]
     },
     "metadata": {},
     "output_type": "display_data"
    },
    {
     "data": {
      "text/html": [
       "Find logs at: <code>./wandb/run-20230110_164302-2uvp0nhr/logs</code>"
      ],
      "text/plain": [
       "<IPython.core.display.HTML object>"
      ]
     },
     "metadata": {},
     "output_type": "display_data"
    }
   ],
   "source": [
    "test_ds = create_tokenized_hand_clf_ds(seed=42)\n",
    "rnn_clf.evaluate(test_ds.batch(256), return_dict=True);\n",
    "wrap_run(rnn_clf, test_ds)"
   ]
  },
  {
   "cell_type": "markdown",
   "metadata": {
    "papermill": {
     "duration": 0.025612,
     "end_time": "2023-01-03T22:05:32.149320",
     "exception": false,
     "start_time": "2023-01-03T22:05:32.123708",
     "status": "completed"
    },
    "tags": []
   },
   "source": [
    "### Full Card Classifier as Encoder"
   ]
  },
  {
   "cell_type": "code",
   "execution_count": 18,
   "metadata": {
    "execution": {
     "iopub.execute_input": "2023-01-03T22:05:32.199578Z",
     "iopub.status.busy": "2023-01-03T22:05:32.199247Z",
     "iopub.status.idle": "2023-01-03T22:05:32.428462Z",
     "shell.execute_reply": "2023-01-03T22:05:32.427460Z"
    },
    "papermill": {
     "duration": 0.257785,
     "end_time": "2023-01-03T22:05:32.431685",
     "exception": false,
     "start_time": "2023-01-03T22:05:32.173900",
     "status": "completed"
    },
    "tags": []
   },
   "outputs": [
    {
     "name": "stdout",
     "output_type": "stream",
     "text": [
      "Model: \"rnn_clf\"\n",
      "_________________________________________________________________\n",
      " Layer (type)                Output Shape              Param #   \n",
      "=================================================================\n",
      " input_2 (InputLayer)        [(None, 7, 178, 122, 3)]  0         \n",
      "                                                                 \n",
      " card_clf_encoder (TimeDistr  (None, 7, 52)            85108     \n",
      " ibuted)                                                         \n",
      "                                                                 \n",
      " gru_rnn (GRU)               (None, 64)                22656     \n",
      "                                                                 \n",
      " output (Dense)              (None, 2)                 130       \n",
      "                                                                 \n",
      "=================================================================\n",
      "Total params: 107,894\n",
      "Trainable params: 22,786\n",
      "Non-trainable params: 85,108\n",
      "_________________________________________________________________\n"
     ]
    }
   ],
   "source": [
    "hand_input = layers.Input(shape=(hand_size, *card_image_shape))\n",
    "x = layers.TimeDistributed(cnn_card_clf, name='card_clf_encoder', trainable=False)(hand_input)\n",
    "x = layers.GRU(64, name='gru_rnn')(x)\n",
    "x = layers.Dense(2, activation='softmax', name='output')(x)\n",
    "rnn_clf = Model(hand_input, x, name='rnn_clf')\n",
    "rnn_clf.summary()\n",
    "rnn_clf.compile(loss=loss, optimizer=tf.keras.optimizers.Adam(learning_rate=0.001), \n",
    "                metrics=metrics)"
   ]
  },
  {
   "cell_type": "code",
   "execution_count": 19,
   "metadata": {
    "execution": {
     "iopub.execute_input": "2023-01-03T22:05:32.483604Z",
     "iopub.status.busy": "2023-01-03T22:05:32.483307Z",
     "iopub.status.idle": "2023-01-03T22:08:58.410895Z",
     "shell.execute_reply": "2023-01-03T22:08:58.409799Z"
    },
    "papermill": {
     "duration": 205.958063,
     "end_time": "2023-01-03T22:08:58.414290",
     "exception": false,
     "start_time": "2023-01-03T22:05:32.456227",
     "status": "completed"
    },
    "tags": []
   },
   "outputs": [
    {
     "data": {
      "text/html": [
       "Tracking run with wandb version 0.13.7"
      ],
      "text/plain": [
       "<IPython.core.display.HTML object>"
      ]
     },
     "metadata": {},
     "output_type": "display_data"
    },
    {
     "data": {
      "text/html": [
       "Run data is saved locally in <code>/Users/lafferty/Downloads/relational/wandb/run-20230110_164454-3gat825q</code>"
      ],
      "text/plain": [
       "<IPython.core.display.HTML object>"
      ]
     },
     "metadata": {},
     "output_type": "display_data"
    },
    {
     "data": {
      "text/html": [
       "Syncing run <strong><a href=\"https://wandb.ai/wu-tsai-institute/Abstracter%20Hand%20Classification/runs/3gat825q\" target=\"_blank\">trim-waterfall-19</a></strong> to <a href=\"https://wandb.ai/wu-tsai-institute/Abstracter%20Hand%20Classification\" target=\"_blank\">Weights & Biases</a> (<a href=\"https://wandb.me/run\" target=\"_blank\">docs</a>)<br/>"
      ],
      "text/plain": [
       "<IPython.core.display.HTML object>"
      ]
     },
     "metadata": {},
     "output_type": "display_data"
    },
    {
     "name": "stdout",
     "output_type": "stream",
     "text": [
      "Epoch 1/5\n",
      "40/40 [==============================] - 132s 3s/step - loss: 0.4959 - acc: 0.8731 - precision: 0.8498 - recall: 0.9091 - auc: 0.9534\n",
      "Epoch 2/5\n",
      "40/40 [==============================] - 135s 3s/step - loss: 0.2727 - acc: 0.9008 - precision: 0.8756 - recall: 0.9304 - auc: 0.9647\n",
      "Epoch 3/5\n",
      "40/40 [==============================] - 133s 3s/step - loss: 0.1043 - acc: 0.9673 - precision: 0.9538 - recall: 0.9822 - auc: 0.9942\n",
      "Epoch 4/5\n",
      "40/40 [==============================] - 136s 3s/step - loss: 0.0464 - acc: 0.9875 - precision: 0.9782 - recall: 0.9967 - auc: 0.9988\n",
      "Epoch 5/5\n",
      "40/40 [==============================] - 137s 3s/step - loss: 0.0302 - acc: 0.9911 - precision: 0.9849 - recall: 0.9974 - auc: 0.9994\n"
     ]
    }
   ],
   "source": [
    "train_ds = create_img_hand_clf_ds(seed=None)\n",
    "\n",
    "run = wandb.init(project='Abstracter Hand Classification', group='RNN (Image Inputs, Clf Encoder)', save_code=True)\n",
    "\n",
    "history = rnn_clf.fit(train_ds.batch(256), epochs=5, callbacks=create_callbacks(save_model=False))"
   ]
  },
  {
   "cell_type": "code",
   "execution_count": 20,
   "metadata": {
    "execution": {
     "iopub.execute_input": "2023-01-03T22:08:58.507063Z",
     "iopub.status.busy": "2023-01-03T22:08:58.506686Z",
     "iopub.status.idle": "2023-01-03T22:10:30.828106Z",
     "shell.execute_reply": "2023-01-03T22:10:30.827188Z"
    },
    "papermill": {
     "duration": 92.369668,
     "end_time": "2023-01-03T22:10:30.830117",
     "exception": false,
     "start_time": "2023-01-03T22:08:58.460449",
     "status": "completed"
    },
    "tags": []
   },
   "outputs": [
    {
     "name": "stdout",
     "output_type": "stream",
     "text": [
      "40/40 [==============================] - 131s 3s/step - loss: 0.0272 - acc: 0.9943 - precision: 0.9895 - recall: 0.9992 - auc: 0.9989\n",
      "79/79 [==============================] - 135s 2s/step\n",
      "              precision    recall  f1-score   support\n",
      "\n",
      "         0.0       1.00      0.99      0.99      4992\n",
      "         1.0       0.99      1.00      0.99      5008\n",
      "\n",
      "    accuracy                           0.99     10000\n",
      "   macro avg       0.99      0.99      0.99     10000\n",
      "weighted avg       0.99      0.99      0.99     10000\n",
      "\n"
     ]
    },
    {
     "data": {
      "text/html": [
       "Waiting for W&B process to finish... <strong style=\"color:green\">(success).</strong>"
      ],
      "text/plain": [
       "<IPython.core.display.HTML object>"
      ]
     },
     "metadata": {},
     "output_type": "display_data"
    },
    {
     "data": {
      "text/html": [
       "<style>\n",
       "    table.wandb td:nth-child(1) { padding: 0 10px; text-align: left ; width: auto;} td:nth-child(2) {text-align: left ; width: 100%}\n",
       "    .wandb-row { display: flex; flex-direction: row; flex-wrap: wrap; justify-content: flex-start; width: 100% }\n",
       "    .wandb-col { display: flex; flex-direction: column; flex-basis: 100%; flex: 1; padding: 10px; }\n",
       "    </style>\n",
       "<div class=\"wandb-row\"><div class=\"wandb-col\"><h3>Run history:</h3><br/><table class=\"wandb\"><tr><td>acc</td><td>▁▃▇██</td></tr><tr><td>auc</td><td>▁▃▇██</td></tr><tr><td>epoch</td><td>▁▃▅▆█</td></tr><tr><td>loss</td><td>█▅▂▁▁</td></tr><tr><td>precision</td><td>▁▂▆██</td></tr><tr><td>recall</td><td>▁▃▇██</td></tr></table><br/></div><div class=\"wandb-col\"><h3>Run summary:</h3><br/><table class=\"wandb\"><tr><td>GFLOPs</td><td>0.5248</td></tr><tr><td>acc</td><td>0.9911</td></tr><tr><td>auc</td><td>0.9994</td></tr><tr><td>best_epoch</td><td>4</td></tr><tr><td>best_loss</td><td>0.0302</td></tr><tr><td>epoch</td><td>4</td></tr><tr><td>loss</td><td>0.0302</td></tr><tr><td>precision</td><td>0.9849</td></tr><tr><td>recall</td><td>0.99738</td></tr></table><br/></div></div>"
      ],
      "text/plain": [
       "<IPython.core.display.HTML object>"
      ]
     },
     "metadata": {},
     "output_type": "display_data"
    },
    {
     "data": {
      "text/html": [
       "Synced <strong style=\"color:#cdcd00\">trim-waterfall-19</strong>: <a href=\"https://wandb.ai/wu-tsai-institute/Abstracter%20Hand%20Classification/runs/3gat825q\" target=\"_blank\">https://wandb.ai/wu-tsai-institute/Abstracter%20Hand%20Classification/runs/3gat825q</a><br/>Synced 7 W&B file(s), 4 media file(s), 3 artifact file(s) and 1 other file(s)"
      ],
      "text/plain": [
       "<IPython.core.display.HTML object>"
      ]
     },
     "metadata": {},
     "output_type": "display_data"
    },
    {
     "data": {
      "text/html": [
       "Find logs at: <code>./wandb/run-20230110_164454-3gat825q/logs</code>"
      ],
      "text/plain": [
       "<IPython.core.display.HTML object>"
      ]
     },
     "metadata": {},
     "output_type": "display_data"
    }
   ],
   "source": [
    "test_ds = create_img_hand_clf_ds(seed=42)\n",
    "rnn_clf.evaluate(test_ds.batch(256), return_dict=True);\n",
    "wrap_run(rnn_clf, test_ds)"
   ]
  },
  {
   "cell_type": "markdown",
   "metadata": {
    "papermill": {
     "duration": 0.03871,
     "end_time": "2023-01-03T22:10:30.908322",
     "exception": false,
     "start_time": "2023-01-03T22:10:30.869612",
     "status": "completed"
    },
    "tags": []
   },
   "source": [
    "### Classifier's Intermediate Encoder as Card Encoder"
   ]
  },
  {
   "cell_type": "code",
   "execution_count": 21,
   "metadata": {
    "execution": {
     "iopub.execute_input": "2023-01-03T22:10:30.986696Z",
     "iopub.status.busy": "2023-01-03T22:10:30.986333Z",
     "iopub.status.idle": "2023-01-03T22:10:31.207565Z",
     "shell.execute_reply": "2023-01-03T22:10:31.205194Z"
    },
    "papermill": {
     "duration": 0.263133,
     "end_time": "2023-01-03T22:10:31.209673",
     "exception": false,
     "start_time": "2023-01-03T22:10:30.946540",
     "status": "completed"
    },
    "tags": []
   },
   "outputs": [
    {
     "name": "stdout",
     "output_type": "stream",
     "text": [
      "Model: \"rnn_clf\"\n",
      "_________________________________________________________________\n",
      " Layer (type)                Output Shape              Param #   \n",
      "=================================================================\n",
      " input_3 (InputLayer)        [(None, 7, 178, 122, 3)]  0         \n",
      "                                                                 \n",
      " card_encoder (TimeDistribut  (None, 7, 32)            83392     \n",
      " ed)                                                             \n",
      "                                                                 \n",
      " gru_rnn (GRU)               (None, 64)                18816     \n",
      "                                                                 \n",
      " output (Dense)              (None, 2)                 130       \n",
      "                                                                 \n",
      "=================================================================\n",
      "Total params: 102,338\n",
      "Trainable params: 18,946\n",
      "Non-trainable params: 83,392\n",
      "_________________________________________________________________\n"
     ]
    }
   ],
   "source": [
    "hand_input = layers.Input(shape=(hand_size, *card_image_shape))\n",
    "x = layers.TimeDistributed(card_encoder, name='card_encoder', trainable=False)(hand_input)\n",
    "x = layers.GRU(64, name='gru_rnn')(x)\n",
    "x = layers.Dense(2, activation='softmax', name='output')(x)\n",
    "rnn_clf = Model(hand_input, x, name='rnn_clf')\n",
    "rnn_clf.summary()\n",
    "rnn_clf.compile(loss=loss, optimizer=tf.keras.optimizers.Adam(learning_rate=0.001), \n",
    "                metrics=metrics)"
   ]
  },
  {
   "cell_type": "code",
   "execution_count": 22,
   "metadata": {
    "execution": {
     "iopub.execute_input": "2023-01-03T22:10:31.289121Z",
     "iopub.status.busy": "2023-01-03T22:10:31.287642Z",
     "iopub.status.idle": "2023-01-03T22:13:16.612491Z",
     "shell.execute_reply": "2023-01-03T22:13:16.611477Z"
    },
    "papermill": {
     "duration": 165.367321,
     "end_time": "2023-01-03T22:13:16.615634",
     "exception": false,
     "start_time": "2023-01-03T22:10:31.248313",
     "status": "completed"
    },
    "tags": []
   },
   "outputs": [
    {
     "data": {
      "text/html": [
       "Tracking run with wandb version 0.13.7"
      ],
      "text/plain": [
       "<IPython.core.display.HTML object>"
      ]
     },
     "metadata": {},
     "output_type": "display_data"
    },
    {
     "data": {
      "text/html": [
       "Run data is saved locally in <code>/Users/lafferty/Downloads/relational/wandb/run-20230110_170219-1dqcufjg</code>"
      ],
      "text/plain": [
       "<IPython.core.display.HTML object>"
      ]
     },
     "metadata": {},
     "output_type": "display_data"
    },
    {
     "data": {
      "text/html": [
       "Syncing run <strong><a href=\"https://wandb.ai/wu-tsai-institute/Abstracter%20Hand%20Classification/runs/1dqcufjg\" target=\"_blank\">dry-energy-20</a></strong> to <a href=\"https://wandb.ai/wu-tsai-institute/Abstracter%20Hand%20Classification\" target=\"_blank\">Weights & Biases</a> (<a href=\"https://wandb.me/run\" target=\"_blank\">docs</a>)<br/>"
      ],
      "text/plain": [
       "<IPython.core.display.HTML object>"
      ]
     },
     "metadata": {},
     "output_type": "display_data"
    },
    {
     "name": "stdout",
     "output_type": "stream",
     "text": [
      "Epoch 1/5\n",
      "40/40 [==============================] - 136s 3s/step - loss: 0.5110 - acc: 0.8802 - precision: 0.8499 - recall: 0.9244 - auc: 0.9612\n",
      "Epoch 2/5\n",
      "40/40 [==============================] - 137s 3s/step - loss: 0.2800 - acc: 0.8982 - precision: 0.8682 - recall: 0.9319 - auc: 0.9615\n",
      "Epoch 3/5\n",
      "40/40 [==============================] - 156s 4s/step - loss: 0.1070 - acc: 0.9655 - precision: 0.9485 - recall: 0.9859 - auc: 0.9927\n",
      "Epoch 4/5\n",
      "40/40 [==============================] - 148s 4s/step - loss: 0.0536 - acc: 0.9835 - precision: 0.9744 - recall: 0.9930 - auc: 0.9979\n",
      "Epoch 5/5\n",
      "40/40 [==============================] - 154s 4s/step - loss: 0.0395 - acc: 0.9890 - precision: 0.9812 - recall: 0.9972 - auc: 0.9989\n"
     ]
    }
   ],
   "source": [
    "train_ds = create_img_hand_clf_ds(seed=None)\n",
    "\n",
    "run = wandb.init(project='Abstracter Hand Classification', group='RNN (Image Inputs, Intermediate Encoder)', save_code=True)\n",
    "\n",
    "history = rnn_clf.fit(train_ds.batch(256), epochs=5, callbacks=create_callbacks(save_model=False))"
   ]
  },
  {
   "cell_type": "code",
   "execution_count": null,
   "metadata": {
    "execution": {
     "iopub.execute_input": "2023-01-03T22:13:16.730944Z",
     "iopub.status.busy": "2023-01-03T22:13:16.730601Z",
     "iopub.status.idle": "2023-01-03T22:14:48.399898Z",
     "shell.execute_reply": "2023-01-03T22:14:48.398827Z"
    },
    "papermill": {
     "duration": 91.729951,
     "end_time": "2023-01-03T22:14:48.402678",
     "exception": false,
     "start_time": "2023-01-03T22:13:16.672727",
     "status": "completed"
    },
    "tags": []
   },
   "outputs": [],
   "source": [
    "test_ds = create_img_hand_clf_ds(seed=42)\n",
    "rnn_clf.evaluate(test_ds.batch(256), return_dict=True);\n",
    "wrap_run(rnn_clf, test_ds)"
   ]
  },
  {
   "cell_type": "markdown",
   "metadata": {
    "papermill": {
     "duration": 0.05281,
     "end_time": "2023-01-03T22:14:48.509016",
     "exception": false,
     "start_time": "2023-01-03T22:14:48.456206",
     "status": "completed"
    },
    "tags": []
   },
   "source": [
    "## 'Abstracter' Model\n",
    "This is the transformer-inspired relational model with an `EpisodicDecoder` (Q=E, K=E, V=D)."
   ]
  },
  {
   "cell_type": "markdown",
   "metadata": {
    "papermill": {
     "duration": 0.05262,
     "end_time": "2023-01-03T22:14:48.613965",
     "exception": false,
     "start_time": "2023-01-03T22:14:48.561345",
     "status": "completed"
    },
    "tags": []
   },
   "source": [
    "### Token Inputs"
   ]
  },
  {
   "cell_type": "code",
   "execution_count": 25,
   "metadata": {
    "execution": {
     "iopub.execute_input": "2023-01-03T22:14:48.719989Z",
     "iopub.status.busy": "2023-01-03T22:14:48.719670Z",
     "iopub.status.idle": "2023-01-03T22:14:50.456798Z",
     "shell.execute_reply": "2023-01-03T22:14:50.455828Z"
    },
    "papermill": {
     "duration": 1.79404,
     "end_time": "2023-01-03T22:14:50.459872",
     "exception": false,
     "start_time": "2023-01-03T22:14:48.665832",
     "status": "completed"
    },
    "tags": []
   },
   "outputs": [
    {
     "name": "stdout",
     "output_type": "stream",
     "text": [
      "Model: \"abstracter\"\n",
      "_________________________________________________________________\n",
      " Layer (type)                Output Shape              Param #   \n",
      "=================================================================\n",
      " token_input (InputLayer)    [(None, 7)]               0         \n",
      "                                                                 \n",
      " vector_embedding (Embedding  (None, 7, 32)            1664      \n",
      " )                                                               \n",
      "                                                                 \n",
      " add_pos_embedding (AddPosit  (None, 7, 32)            0         \n",
      " ionalEmbedding)                                                 \n",
      "                                                                 \n",
      " abstracter_encoder (Encoder  (None, 7, 32)            31968     \n",
      " )                                                               \n",
      "                                                                 \n",
      " abstracter_decoder (Episodi  (None, 7, 32)            57632     \n",
      " cDecoder)                                                       \n",
      "                                                                 \n",
      " sequence_avg_pool (GlobalAv  (None, 32)               0         \n",
      " eragePooling1D)                                                 \n",
      "                                                                 \n",
      " dense1 (Dense)              (None, 64)                2112      \n",
      "                                                                 \n",
      " output (Dense)              (None, 2)                 130       \n",
      "                                                                 \n",
      "=================================================================\n",
      "Total params: 93,506\n",
      "Trainable params: 93,506\n",
      "Non-trainable params: 0\n",
      "_________________________________________________________________\n"
     ]
    }
   ],
   "source": [
    "inputs = layers.Input(shape=(7,), name='token_input')\n",
    "token_embedder = layers.Embedding(52, 32, name='vector_embedding')\n",
    "pos_embedding_adder = AddPositionalEmbedding(name='add_pos_embedding')\n",
    "abstracter_encoder = Encoder(num_layers=3, num_heads=2, dff=32, dropout_rate=0.1, name='abstracter_encoder')\n",
    "symbolic = EpisodicDecoder(num_layers=3, num_heads=2, dff=32, use_pos_embedding=True,\n",
    "                                   dropout_rate=0.1, name='abstracter_decoder')\n",
    "\n",
    "\n",
    "x = token_embedder(inputs)\n",
    "x = pos_embedding_adder(x)\n",
    "\n",
    "x = abstracter_encoder(x)\n",
    "\n",
    "x = symbolic(x)\n",
    "\n",
    "x = layers.GlobalAveragePooling1D(name='sequence_avg_pool')(x)\n",
    "x = layers.Dense(64, activation='relu', name='dense1')(x) \n",
    "x = layers.Dense(2, activation='softmax', name='output')(x)\n",
    "\n",
    "outputs = x\n",
    "\n",
    "abstracter_model = tf.keras.Model(inputs, outputs, name='abstracter')\n",
    "abstracter_model.summary()\n",
    "\n",
    "abstracter_model.compile(loss=loss, optimizer=tf.keras.optimizers.Adam(learning_rate=0.001), \n",
    "                         metrics=metrics)"
   ]
  },
  {
   "cell_type": "code",
   "execution_count": 27,
   "metadata": {
    "execution": {
     "iopub.execute_input": "2023-01-03T22:14:50.569350Z",
     "iopub.status.busy": "2023-01-03T22:14:50.569003Z",
     "iopub.status.idle": "2023-01-03T22:14:51.588530Z",
     "shell.execute_reply": "2023-01-03T22:14:51.587359Z"
    },
    "papermill": {
     "duration": 1.076781,
     "end_time": "2023-01-03T22:14:51.591014",
     "exception": false,
     "start_time": "2023-01-03T22:14:50.514233",
     "status": "completed"
    },
    "tags": []
   },
   "outputs": [
    {
     "name": "stdout",
     "output_type": "stream",
     "text": [
      "/Users/lafferty/opt/anaconda3/lib/python3.8/site-packages/secretstorage/__init__.py:11: UserWarning: jeepney.integrate.blocking is deprecated: please use jeepney.io.blocking instead.\n",
      "  from jeepney.integrate.blocking import DBusConnection, Proxy, \\\n",
      "Collecting pydot\n",
      "  Downloading pydot-1.4.2-py2.py3-none-any.whl (21 kB)\n",
      "Requirement already satisfied: pyparsing>=2.1.4 in /Users/lafferty/opt/anaconda3/lib/python3.8/site-packages (from pydot) (2.4.7)\n",
      "Installing collected packages: pydot\n",
      "Successfully installed pydot-1.4.2\n",
      "/Users/lafferty/opt/anaconda3/lib/python3.8/site-packages/secretstorage/__init__.py:11: UserWarning: jeepney.integrate.blocking is deprecated: please use jeepney.io.blocking instead.\n",
      "  from jeepney.integrate.blocking import DBusConnection, Proxy, \\\n",
      "Collecting graphviz\n",
      "  Downloading graphviz-0.20.1-py3-none-any.whl (47 kB)\n",
      "\u001b[2K     \u001b[90m━━━━━━━━━━━━━━━━━━━━━━━━━━━━━━━━━━━━━━━\u001b[0m \u001b[32m47.0/47.0 kB\u001b[0m \u001b[31m900.2 kB/s\u001b[0m eta \u001b[36m0:00:00\u001b[0m \u001b[36m0:00:01\u001b[0m\n",
      "\u001b[?25hInstalling collected packages: graphviz\n",
      "Successfully installed graphviz-0.20.1\n",
      "You must install pydot (`pip install pydot`) and install graphviz (see instructions at https://graphviz.gitlab.io/download/) for plot_model to work.\n"
     ]
    }
   ],
   "source": [
    "!pip install pydot\n",
    "!pip install graphviz\n",
    "tf.keras.utils.plot_model(abstracter_model)"
   ]
  },
  {
   "cell_type": "code",
   "execution_count": 28,
   "metadata": {
    "execution": {
     "iopub.execute_input": "2023-01-03T22:14:51.699917Z",
     "iopub.status.busy": "2023-01-03T22:14:51.698903Z",
     "iopub.status.idle": "2023-01-03T22:16:54.169922Z",
     "shell.execute_reply": "2023-01-03T22:16:54.168798Z"
    },
    "papermill": {
     "duration": 122.528365,
     "end_time": "2023-01-03T22:16:54.173048",
     "exception": false,
     "start_time": "2023-01-03T22:14:51.644683",
     "status": "completed"
    },
    "tags": []
   },
   "outputs": [
    {
     "data": {
      "text/html": [
       "Finishing last run (ID:1dqcufjg) before initializing another..."
      ],
      "text/plain": [
       "<IPython.core.display.HTML object>"
      ]
     },
     "metadata": {},
     "output_type": "display_data"
    },
    {
     "data": {
      "text/html": [
       "Waiting for W&B process to finish... <strong style=\"color:green\">(success).</strong>"
      ],
      "text/plain": [
       "<IPython.core.display.HTML object>"
      ]
     },
     "metadata": {},
     "output_type": "display_data"
    },
    {
     "data": {
      "application/vnd.jupyter.widget-view+json": {
       "model_id": "5c0c18b545884b8b8203bb02e8cb976c",
       "version_major": 2,
       "version_minor": 0
      },
      "text/plain": [
       "VBox(children=(Label(value='0.282 MB of 0.336 MB uploaded (0.000 MB deduped)\\r'), FloatProgress(value=0.838583…"
      ]
     },
     "metadata": {},
     "output_type": "display_data"
    },
    {
     "data": {
      "text/html": [
       "<style>\n",
       "    table.wandb td:nth-child(1) { padding: 0 10px; text-align: left ; width: auto;} td:nth-child(2) {text-align: left ; width: 100%}\n",
       "    .wandb-row { display: flex; flex-direction: row; flex-wrap: wrap; justify-content: flex-start; width: 100% }\n",
       "    .wandb-col { display: flex; flex-direction: column; flex-basis: 100%; flex: 1; padding: 10px; }\n",
       "    </style>\n",
       "<div class=\"wandb-row\"><div class=\"wandb-col\"><h3>Run history:</h3><br/><table class=\"wandb\"><tr><td>acc</td><td>▁▂▆██</td></tr><tr><td>auc</td><td>▁▁▇██</td></tr><tr><td>epoch</td><td>▁▃▅▆█</td></tr><tr><td>loss</td><td>█▅▂▁▁</td></tr><tr><td>precision</td><td>▁▂▆██</td></tr><tr><td>recall</td><td>▁▂▇██</td></tr></table><br/></div><div class=\"wandb-col\"><h3>Run summary:</h3><br/><table class=\"wandb\"><tr><td>GFLOPs</td><td>0.52479</td></tr><tr><td>acc</td><td>0.989</td></tr><tr><td>auc</td><td>0.99891</td></tr><tr><td>best_epoch</td><td>4</td></tr><tr><td>best_loss</td><td>0.03954</td></tr><tr><td>epoch</td><td>4</td></tr><tr><td>loss</td><td>0.03954</td></tr><tr><td>precision</td><td>0.98118</td></tr><tr><td>recall</td><td>0.99721</td></tr></table><br/></div></div>"
      ],
      "text/plain": [
       "<IPython.core.display.HTML object>"
      ]
     },
     "metadata": {},
     "output_type": "display_data"
    },
    {
     "data": {
      "text/html": [
       "Synced <strong style=\"color:#cdcd00\">dry-energy-20</strong>: <a href=\"https://wandb.ai/wu-tsai-institute/Abstracter%20Hand%20Classification/runs/1dqcufjg\" target=\"_blank\">https://wandb.ai/wu-tsai-institute/Abstracter%20Hand%20Classification/runs/1dqcufjg</a><br/>Synced 7 W&B file(s), 1 media file(s), 0 artifact file(s) and 1 other file(s)"
      ],
      "text/plain": [
       "<IPython.core.display.HTML object>"
      ]
     },
     "metadata": {},
     "output_type": "display_data"
    },
    {
     "data": {
      "text/html": [
       "Find logs at: <code>./wandb/run-20230110_170219-1dqcufjg/logs</code>"
      ],
      "text/plain": [
       "<IPython.core.display.HTML object>"
      ]
     },
     "metadata": {},
     "output_type": "display_data"
    },
    {
     "data": {
      "text/html": [
       "Successfully finished last run (ID:1dqcufjg). Initializing new run:<br/>"
      ],
      "text/plain": [
       "<IPython.core.display.HTML object>"
      ]
     },
     "metadata": {},
     "output_type": "display_data"
    },
    {
     "data": {
      "application/vnd.jupyter.widget-view+json": {
       "model_id": "ec8694a3b5be440ba6d94fb77c6a73fc",
       "version_major": 2,
       "version_minor": 0
      },
      "text/plain": [
       "VBox(children=(Label(value='Waiting for wandb.init()...\\r'), FloatProgress(value=0.01669038698333528, max=1.0)…"
      ]
     },
     "metadata": {},
     "output_type": "display_data"
    },
    {
     "data": {
      "text/html": [
       "wandb version 0.13.8 is available!  To upgrade, please run:\n",
       " $ pip install wandb --upgrade"
      ],
      "text/plain": [
       "<IPython.core.display.HTML object>"
      ]
     },
     "metadata": {},
     "output_type": "display_data"
    },
    {
     "data": {
      "text/html": [
       "Tracking run with wandb version 0.13.7"
      ],
      "text/plain": [
       "<IPython.core.display.HTML object>"
      ]
     },
     "metadata": {},
     "output_type": "display_data"
    },
    {
     "data": {
      "text/html": [
       "Run data is saved locally in <code>/Users/lafferty/Downloads/relational/wandb/run-20230110_171755-20ftsm0m</code>"
      ],
      "text/plain": [
       "<IPython.core.display.HTML object>"
      ]
     },
     "metadata": {},
     "output_type": "display_data"
    },
    {
     "data": {
      "text/html": [
       "Syncing run <strong><a href=\"https://wandb.ai/wu-tsai-institute/Abstracter%20Hand%20Classification/runs/20ftsm0m\" target=\"_blank\">pleasant-mountain-21</a></strong> to <a href=\"https://wandb.ai/wu-tsai-institute/Abstracter%20Hand%20Classification\" target=\"_blank\">Weights & Biases</a> (<a href=\"https://wandb.me/run\" target=\"_blank\">docs</a>)<br/>"
      ],
      "text/plain": [
       "<IPython.core.display.HTML object>"
      ]
     },
     "metadata": {},
     "output_type": "display_data"
    },
    {
     "name": "stderr",
     "output_type": "stream",
     "text": [
      "\u001b[34m\u001b[1mwandb\u001b[0m: \u001b[33mWARNING\u001b[0m The save_model argument by default saves the model in the HDF5 format that cannot save custom objects like subclassed models and custom layers. This behavior will be deprecated in a future release in favor of the SavedModel format. Meanwhile, the HDF5 model is saved as W&B files and the SavedModel as W&B Artifacts.\n"
     ]
    },
    {
     "name": "stdout",
     "output_type": "stream",
     "text": [
      "Epoch 1/5\n",
      "     39/Unknown - 16s 88ms/step - loss: 0.7033 - acc: 0.7518 - precision: 0.7532 - recall: 0.7514 - auc: 0.8752"
     ]
    },
    {
     "name": "stderr",
     "output_type": "stream",
     "text": [
      "\u001b[34m\u001b[1mwandb\u001b[0m: \u001b[32m\u001b[41mERROR\u001b[0m Can't save model in the h5py format. The model will be saved as as an W&B Artifact in the 'tf' format.\n",
      "WARNING:absl:Found untraced functions such as _update_step_xla, dropout_3_layer_call_fn, dropout_3_layer_call_and_return_conditional_losses, add_positional_embedding_layer_call_fn, add_positional_embedding_layer_call_and_return_conditional_losses while saving (showing 5 of 235). These functions will not be directly callable after loading.\n"
     ]
    },
    {
     "name": "stdout",
     "output_type": "stream",
     "text": [
      "INFO:tensorflow:Assets written to: /Users/lafferty/Downloads/relational/wandb/run-20230110_171755-20ftsm0m/files/model-best/assets\n"
     ]
    },
    {
     "name": "stderr",
     "output_type": "stream",
     "text": [
      "INFO:tensorflow:Assets written to: /Users/lafferty/Downloads/relational/wandb/run-20230110_171755-20ftsm0m/files/model-best/assets\n",
      "\u001b[34m\u001b[1mwandb\u001b[0m: Adding directory to artifact (/Users/lafferty/Downloads/relational/wandb/run-20230110_171755-20ftsm0m/files/model-best)... Done. 0.0s\n"
     ]
    },
    {
     "name": "stdout",
     "output_type": "stream",
     "text": [
      "40/40 [==============================] - 31s 459ms/step - loss: 0.7032 - acc: 0.7517 - precision: 0.7532 - recall: 0.7512 - auc: 0.8751\n",
      "Epoch 2/5\n",
      "39/40 [============================>.] - ETA: 0s - loss: 0.3366 - acc: 0.8611 - precision: 0.8414 - recall: 0.8916 - auc: 0.9329"
     ]
    },
    {
     "name": "stderr",
     "output_type": "stream",
     "text": [
      "\u001b[34m\u001b[1mwandb\u001b[0m: \u001b[32m\u001b[41mERROR\u001b[0m Can't save model in the h5py format. The model will be saved as as an W&B Artifact in the 'tf' format.\n",
      "WARNING:absl:Found untraced functions such as _update_step_xla, dropout_3_layer_call_fn, dropout_3_layer_call_and_return_conditional_losses, add_positional_embedding_layer_call_fn, add_positional_embedding_layer_call_and_return_conditional_losses while saving (showing 5 of 235). These functions will not be directly callable after loading.\n"
     ]
    },
    {
     "name": "stdout",
     "output_type": "stream",
     "text": [
      "INFO:tensorflow:Assets written to: /Users/lafferty/Downloads/relational/wandb/run-20230110_171755-20ftsm0m/files/model-best/assets\n"
     ]
    },
    {
     "name": "stderr",
     "output_type": "stream",
     "text": [
      "INFO:tensorflow:Assets written to: /Users/lafferty/Downloads/relational/wandb/run-20230110_171755-20ftsm0m/files/model-best/assets\n",
      "\u001b[34m\u001b[1mwandb\u001b[0m: Adding directory to artifact (/Users/lafferty/Downloads/relational/wandb/run-20230110_171755-20ftsm0m/files/model-best)... Done. 0.0s\n"
     ]
    },
    {
     "name": "stdout",
     "output_type": "stream",
     "text": [
      "40/40 [==============================] - 19s 482ms/step - loss: 0.3364 - acc: 0.8612 - precision: 0.8416 - recall: 0.8918 - auc: 0.9329\n",
      "Epoch 3/5\n",
      "39/40 [============================>.] - ETA: 0s - loss: 0.0761 - acc: 0.9734 - precision: 0.9655 - recall: 0.9823 - auc: 0.9956"
     ]
    },
    {
     "name": "stderr",
     "output_type": "stream",
     "text": [
      "\u001b[34m\u001b[1mwandb\u001b[0m: \u001b[32m\u001b[41mERROR\u001b[0m Can't save model in the h5py format. The model will be saved as as an W&B Artifact in the 'tf' format.\n",
      "WARNING:absl:Found untraced functions such as _update_step_xla, dropout_3_layer_call_fn, dropout_3_layer_call_and_return_conditional_losses, add_positional_embedding_layer_call_fn, add_positional_embedding_layer_call_and_return_conditional_losses while saving (showing 5 of 235). These functions will not be directly callable after loading.\n"
     ]
    },
    {
     "name": "stdout",
     "output_type": "stream",
     "text": [
      "INFO:tensorflow:Assets written to: /Users/lafferty/Downloads/relational/wandb/run-20230110_171755-20ftsm0m/files/model-best/assets\n"
     ]
    },
    {
     "name": "stderr",
     "output_type": "stream",
     "text": [
      "INFO:tensorflow:Assets written to: /Users/lafferty/Downloads/relational/wandb/run-20230110_171755-20ftsm0m/files/model-best/assets\n",
      "\u001b[34m\u001b[1mwandb\u001b[0m: Adding directory to artifact (/Users/lafferty/Downloads/relational/wandb/run-20230110_171755-20ftsm0m/files/model-best)... Done. 0.0s\n"
     ]
    },
    {
     "name": "stdout",
     "output_type": "stream",
     "text": [
      "40/40 [==============================] - 18s 462ms/step - loss: 0.0764 - acc: 0.9733 - precision: 0.9654 - recall: 0.9824 - auc: 0.9956\n",
      "Epoch 4/5\n",
      "39/40 [============================>.] - ETA: 0s - loss: 0.0392 - acc: 0.9878 - precision: 0.9833 - recall: 0.9921 - auc: 0.9980"
     ]
    },
    {
     "name": "stderr",
     "output_type": "stream",
     "text": [
      "\u001b[34m\u001b[1mwandb\u001b[0m: \u001b[32m\u001b[41mERROR\u001b[0m Can't save model in the h5py format. The model will be saved as as an W&B Artifact in the 'tf' format.\n",
      "WARNING:absl:Found untraced functions such as _update_step_xla, dropout_3_layer_call_fn, dropout_3_layer_call_and_return_conditional_losses, add_positional_embedding_layer_call_fn, add_positional_embedding_layer_call_and_return_conditional_losses while saving (showing 5 of 235). These functions will not be directly callable after loading.\n"
     ]
    },
    {
     "name": "stdout",
     "output_type": "stream",
     "text": [
      "INFO:tensorflow:Assets written to: /Users/lafferty/Downloads/relational/wandb/run-20230110_171755-20ftsm0m/files/model-best/assets\n"
     ]
    },
    {
     "name": "stderr",
     "output_type": "stream",
     "text": [
      "INFO:tensorflow:Assets written to: /Users/lafferty/Downloads/relational/wandb/run-20230110_171755-20ftsm0m/files/model-best/assets\n",
      "\u001b[34m\u001b[1mwandb\u001b[0m: Adding directory to artifact (/Users/lafferty/Downloads/relational/wandb/run-20230110_171755-20ftsm0m/files/model-best)... Done. 0.0s\n"
     ]
    },
    {
     "name": "stdout",
     "output_type": "stream",
     "text": [
      "40/40 [==============================] - 19s 492ms/step - loss: 0.0392 - acc: 0.9878 - precision: 0.9833 - recall: 0.9921 - auc: 0.9980\n",
      "Epoch 5/5\n",
      "39/40 [============================>.] - ETA: 0s - loss: 0.0339 - acc: 0.9897 - precision: 0.9851 - recall: 0.9944 - auc: 0.9986"
     ]
    },
    {
     "name": "stderr",
     "output_type": "stream",
     "text": [
      "\u001b[34m\u001b[1mwandb\u001b[0m: \u001b[32m\u001b[41mERROR\u001b[0m Can't save model in the h5py format. The model will be saved as as an W&B Artifact in the 'tf' format.\n",
      "WARNING:absl:Found untraced functions such as _update_step_xla, dropout_3_layer_call_fn, dropout_3_layer_call_and_return_conditional_losses, add_positional_embedding_layer_call_fn, add_positional_embedding_layer_call_and_return_conditional_losses while saving (showing 5 of 235). These functions will not be directly callable after loading.\n"
     ]
    },
    {
     "name": "stdout",
     "output_type": "stream",
     "text": [
      "INFO:tensorflow:Assets written to: /Users/lafferty/Downloads/relational/wandb/run-20230110_171755-20ftsm0m/files/model-best/assets\n"
     ]
    },
    {
     "name": "stderr",
     "output_type": "stream",
     "text": [
      "INFO:tensorflow:Assets written to: /Users/lafferty/Downloads/relational/wandb/run-20230110_171755-20ftsm0m/files/model-best/assets\n",
      "\u001b[34m\u001b[1mwandb\u001b[0m: Adding directory to artifact (/Users/lafferty/Downloads/relational/wandb/run-20230110_171755-20ftsm0m/files/model-best)... Done. 0.0s\n"
     ]
    },
    {
     "name": "stdout",
     "output_type": "stream",
     "text": [
      "\b\b\b\b\b\b\b\b\b\b\b\b\b\b\b\b\b\b\b\b\b\b\b\b\b\b\b\b\b\b\b\b\b\b\b\b\b\b\b\b\b\b\b\b\b\b\b\b\b\b\b\b\b\b\b\b\b\b\b\b\b\b\b\b\b\b\b\b\b\b\b\b\b\b\b\b\b\b\b\b\b\b\b\b\b\b\b\b\b\b\b\b\b\b\b\b\b\b\b\b\b\b\b\b\b\b\b\b\b\b\b\b\b\b\b\b\b\b\b\b\b\b\b\b\b\b\b\b\r",
      "40/40 [==============================] - 19s 476ms/step - loss: 0.0339 - acc: 0.9897 - precision: 0.9851 - recall: 0.9944 - auc: 0.9986\n"
     ]
    }
   ],
   "source": [
    "train_ds = create_tokenized_hand_clf_ds(seed=None)\n",
    "\n",
    "run = wandb.init(project='Abstracter Hand Classification', group='Abstracter (Token Inputs)', save_code=True)\n",
    "\n",
    "history = abstracter_model.fit(train_ds.batch(256), epochs=5, callbacks=create_callbacks())"
   ]
  },
  {
   "cell_type": "code",
   "execution_count": 29,
   "metadata": {
    "execution": {
     "iopub.execute_input": "2023-01-03T22:16:54.389475Z",
     "iopub.status.busy": "2023-01-03T22:16:54.389051Z",
     "iopub.status.idle": "2023-01-03T22:17:19.716291Z",
     "shell.execute_reply": "2023-01-03T22:17:19.715302Z"
    },
    "papermill": {
     "duration": 25.402814,
     "end_time": "2023-01-03T22:17:19.718464",
     "exception": false,
     "start_time": "2023-01-03T22:16:54.315650",
     "status": "completed"
    },
    "tags": []
   },
   "outputs": [
    {
     "name": "stdout",
     "output_type": "stream",
     "text": [
      "40/40 [==============================] - 4s 60ms/step - loss: 0.0130 - acc: 0.9962 - precision: 0.9925 - recall: 1.0000 - auc: 0.9995\n",
      "79/79 [==============================] - 3s 29ms/step\n",
      "              precision    recall  f1-score   support\n",
      "\n",
      "         0.0       1.00      0.99      1.00      4991\n",
      "         1.0       0.99      1.00      1.00      5009\n",
      "\n",
      "    accuracy                           1.00     10000\n",
      "   macro avg       1.00      1.00      1.00     10000\n",
      "weighted avg       1.00      1.00      1.00     10000\n",
      "\n"
     ]
    },
    {
     "data": {
      "text/html": [
       "Waiting for W&B process to finish... <strong style=\"color:green\">(success).</strong>"
      ],
      "text/plain": [
       "<IPython.core.display.HTML object>"
      ]
     },
     "metadata": {},
     "output_type": "display_data"
    },
    {
     "data": {
      "text/html": [
       "<style>\n",
       "    table.wandb td:nth-child(1) { padding: 0 10px; text-align: left ; width: auto;} td:nth-child(2) {text-align: left ; width: 100%}\n",
       "    .wandb-row { display: flex; flex-direction: row; flex-wrap: wrap; justify-content: flex-start; width: 100% }\n",
       "    .wandb-col { display: flex; flex-direction: column; flex-basis: 100%; flex: 1; padding: 10px; }\n",
       "    </style>\n",
       "<div class=\"wandb-row\"><div class=\"wandb-col\"><h3>Run history:</h3><br/><table class=\"wandb\"><tr><td>acc</td><td>▁▄███</td></tr><tr><td>auc</td><td>▁▄███</td></tr><tr><td>epoch</td><td>▁▃▅▆█</td></tr><tr><td>loss</td><td>█▄▁▁▁</td></tr><tr><td>precision</td><td>▁▄▇██</td></tr><tr><td>recall</td><td>▁▅███</td></tr></table><br/></div><div class=\"wandb-col\"><h3>Run summary:</h3><br/><table class=\"wandb\"><tr><td>GFLOPs</td><td>0.0001</td></tr><tr><td>acc</td><td>0.9897</td></tr><tr><td>auc</td><td>0.9986</td></tr><tr><td>best_epoch</td><td>4</td></tr><tr><td>best_loss</td><td>0.03389</td></tr><tr><td>epoch</td><td>4</td></tr><tr><td>loss</td><td>0.03389</td></tr><tr><td>precision</td><td>0.98511</td></tr><tr><td>recall</td><td>0.99439</td></tr></table><br/></div></div>"
      ],
      "text/plain": [
       "<IPython.core.display.HTML object>"
      ]
     },
     "metadata": {},
     "output_type": "display_data"
    },
    {
     "data": {
      "text/html": [
       "Synced <strong style=\"color:#cdcd00\">pleasant-mountain-21</strong>: <a href=\"https://wandb.ai/wu-tsai-institute/Abstracter%20Hand%20Classification/runs/20ftsm0m\" target=\"_blank\">https://wandb.ai/wu-tsai-institute/Abstracter%20Hand%20Classification/runs/20ftsm0m</a><br/>Synced 7 W&B file(s), 4 media file(s), 24 artifact file(s) and 1 other file(s)"
      ],
      "text/plain": [
       "<IPython.core.display.HTML object>"
      ]
     },
     "metadata": {},
     "output_type": "display_data"
    },
    {
     "data": {
      "text/html": [
       "Find logs at: <code>./wandb/run-20230110_171755-20ftsm0m/logs</code>"
      ],
      "text/plain": [
       "<IPython.core.display.HTML object>"
      ]
     },
     "metadata": {},
     "output_type": "display_data"
    }
   ],
   "source": [
    "test_ds = create_tokenized_hand_clf_ds(seed=42)\n",
    "abstracter_model.evaluate(test_ds.batch(256), return_dict=True);\n",
    "wrap_run(abstracter_model, test_ds)"
   ]
  },
  {
   "cell_type": "markdown",
   "metadata": {
    "papermill": {
     "duration": 0.067731,
     "end_time": "2023-01-03T22:17:19.855455",
     "exception": false,
     "start_time": "2023-01-03T22:17:19.787724",
     "status": "completed"
    },
    "tags": []
   },
   "source": [
    "### Full Classifier as Card Encoder"
   ]
  },
  {
   "cell_type": "code",
   "execution_count": 31,
   "metadata": {
    "execution": {
     "iopub.execute_input": "2023-01-03T22:17:19.992602Z",
     "iopub.status.busy": "2023-01-03T22:17:19.992199Z",
     "iopub.status.idle": "2023-01-03T22:17:21.639592Z",
     "shell.execute_reply": "2023-01-03T22:17:21.638579Z"
    },
    "papermill": {
     "duration": 1.719895,
     "end_time": "2023-01-03T22:17:21.642845",
     "exception": false,
     "start_time": "2023-01-03T22:17:19.922950",
     "status": "completed"
    },
    "tags": []
   },
   "outputs": [
    {
     "name": "stdout",
     "output_type": "stream",
     "text": [
      "Model: \"abstracter\"\n",
      "_________________________________________________________________\n",
      " Layer (type)                Output Shape              Param #   \n",
      "=================================================================\n",
      " card_image_sequence (InputL  [(None, 7, 178, 122, 3)]  0        \n",
      " ayer)                                                           \n",
      "                                                                 \n",
      " encode_cards (TimeDistribut  (None, 7, 52)            85108     \n",
      " ed)                                                             \n",
      "                                                                 \n",
      " add_pos_embedding (AddPosit  (None, 7, 52)            0         \n",
      " ionalEmbedding)                                                 \n",
      "                                                                 \n",
      " abstracter_encoder (Encoder  (None, 7, 52)            76848     \n",
      " )                                                               \n",
      "                                                                 \n",
      " abstracter_decoder (Episodi  (None, 7, 52)            143512    \n",
      " cDecoder)                                                       \n",
      "                                                                 \n",
      " sequence_avg_pool (GlobalAv  (None, 52)               0         \n",
      " eragePooling1D)                                                 \n",
      "                                                                 \n",
      " dense1 (Dense)              (None, 64)                3392      \n",
      "                                                                 \n",
      " output (Dense)              (None, 2)                 130       \n",
      "                                                                 \n",
      "=================================================================\n",
      "Total params: 308,990\n",
      "Trainable params: 223,882\n",
      "Non-trainable params: 85,108\n",
      "_________________________________________________________________\n"
     ]
    }
   ],
   "source": [
    "inputs = layers.Input(shape=(hand_size,*card_image_shape), name='card_image_sequence')\n",
    "pos_embedding_adder = AddPositionalEmbedding(name='add_pos_embedding')\n",
    "abstracter_encoder = Encoder(num_layers=3, num_heads=2, dff=32, dropout_rate=0.1, name='abstracter_encoder')\n",
    "symbolic = EpisodicDecoder(num_layers=3, num_heads=2, dff=32, use_pos_embedding=True,\n",
    "                                   dropout_rate=0.1, name='abstracter_decoder')\n",
    "\n",
    "\n",
    "x = layers.TimeDistributed(cnn_card_clf, name='encode_cards', trainable=False)(inputs)\n",
    "x = pos_embedding_adder(x)\n",
    "\n",
    "x = abstracter_encoder(x)\n",
    "\n",
    "x = symbolic(x)\n",
    "\n",
    "x = layers.GlobalAveragePooling1D(name='sequence_avg_pool')(x)\n",
    "x = layers.Dense(64, activation='relu', name='dense1')(x) \n",
    "x = layers.Dense(2, activation='softmax', name='output')(x)\n",
    "\n",
    "outputs = x\n",
    "\n",
    "abstracter_model = tf.keras.Model(inputs, outputs, name='abstracter')\n",
    "abstracter_model.summary()\n",
    "\n",
    "abstracter_model.compile(loss=loss, optimizer=tf.keras.optimizers.Adam(learning_rate=0.001), \n",
    "                         metrics=metrics)"
   ]
  },
  {
   "cell_type": "code",
   "execution_count": 32,
   "metadata": {
    "execution": {
     "iopub.execute_input": "2023-01-03T22:17:21.783612Z",
     "iopub.status.busy": "2023-01-03T22:17:21.782752Z",
     "iopub.status.idle": "2023-01-03T22:17:21.992081Z",
     "shell.execute_reply": "2023-01-03T22:17:21.990467Z"
    },
    "papermill": {
     "duration": 0.281319,
     "end_time": "2023-01-03T22:17:21.994430",
     "exception": false,
     "start_time": "2023-01-03T22:17:21.713111",
     "status": "completed"
    },
    "tags": []
   },
   "outputs": [
    {
     "name": "stdout",
     "output_type": "stream",
     "text": [
      "You must install pydot (`pip install pydot`) and install graphviz (see instructions at https://graphviz.gitlab.io/download/) for plot_model to work.\n"
     ]
    }
   ],
   "source": [
    "tf.keras.utils.plot_model(abstracter_model)"
   ]
  },
  {
   "cell_type": "code",
   "execution_count": 33,
   "metadata": {
    "execution": {
     "iopub.execute_input": "2023-01-03T22:17:22.134363Z",
     "iopub.status.busy": "2023-01-03T22:17:22.133580Z",
     "iopub.status.idle": "2023-01-03T22:23:26.615634Z",
     "shell.execute_reply": "2023-01-03T22:23:26.614439Z"
    },
    "papermill": {
     "duration": 364.555369,
     "end_time": "2023-01-03T22:23:26.619441",
     "exception": false,
     "start_time": "2023-01-03T22:17:22.064072",
     "status": "completed"
    },
    "tags": []
   },
   "outputs": [
    {
     "data": {
      "text/html": [
       "wandb version 0.13.8 is available!  To upgrade, please run:\n",
       " $ pip install wandb --upgrade"
      ],
      "text/plain": [
       "<IPython.core.display.HTML object>"
      ]
     },
     "metadata": {},
     "output_type": "display_data"
    },
    {
     "data": {
      "text/html": [
       "Tracking run with wandb version 0.13.7"
      ],
      "text/plain": [
       "<IPython.core.display.HTML object>"
      ]
     },
     "metadata": {},
     "output_type": "display_data"
    },
    {
     "data": {
      "text/html": [
       "Run data is saved locally in <code>/Users/lafferty/Downloads/relational/wandb/run-20230110_172200-19uimqbt</code>"
      ],
      "text/plain": [
       "<IPython.core.display.HTML object>"
      ]
     },
     "metadata": {},
     "output_type": "display_data"
    },
    {
     "data": {
      "text/html": [
       "Syncing run <strong><a href=\"https://wandb.ai/wu-tsai-institute/Abstracter%20Hand%20Classification/runs/19uimqbt\" target=\"_blank\">balmy-thunder-22</a></strong> to <a href=\"https://wandb.ai/wu-tsai-institute/Abstracter%20Hand%20Classification\" target=\"_blank\">Weights & Biases</a> (<a href=\"https://wandb.me/run\" target=\"_blank\">docs</a>)<br/>"
      ],
      "text/plain": [
       "<IPython.core.display.HTML object>"
      ]
     },
     "metadata": {},
     "output_type": "display_data"
    },
    {
     "name": "stdout",
     "output_type": "stream",
     "text": [
      "Epoch 1/5\n",
      "     40/Unknown - 153s 3s/step - loss: 0.5600 - acc: 0.8426 - precision: 0.8233 - recall: 0.8756 - auc: 0.9412"
     ]
    },
    {
     "name": "stderr",
     "output_type": "stream",
     "text": [
      "\u001b[34m\u001b[1mwandb\u001b[0m: \u001b[32m\u001b[41mERROR\u001b[0m Can't save model in the h5py format. The model will be saved as as an W&B Artifact in the 'tf' format.\n",
      "WARNING:absl:Found untraced functions such as _update_step_xla, dropout_3_layer_call_fn, dropout_3_layer_call_and_return_conditional_losses, add_positional_embedding_layer_call_fn, add_positional_embedding_layer_call_and_return_conditional_losses while saving (showing 5 of 238). These functions will not be directly callable after loading.\n"
     ]
    },
    {
     "name": "stdout",
     "output_type": "stream",
     "text": [
      "INFO:tensorflow:Assets written to: /Users/lafferty/Downloads/relational/wandb/run-20230110_172200-19uimqbt/files/model-best/assets\n"
     ]
    },
    {
     "name": "stderr",
     "output_type": "stream",
     "text": [
      "INFO:tensorflow:Assets written to: /Users/lafferty/Downloads/relational/wandb/run-20230110_172200-19uimqbt/files/model-best/assets\n",
      "\u001b[34m\u001b[1mwandb\u001b[0m: Adding directory to artifact (/Users/lafferty/Downloads/relational/wandb/run-20230110_172200-19uimqbt/files/model-best)... Done. 0.0s\n"
     ]
    },
    {
     "name": "stdout",
     "output_type": "stream",
     "text": [
      "40/40 [==============================] - 168s 4s/step - loss: 0.5600 - acc: 0.8426 - precision: 0.8233 - recall: 0.8756 - auc: 0.9412\n",
      "Epoch 2/5\n",
      "40/40 [==============================] - ETA: 0s - loss: 0.2086 - acc: 0.9203 - precision: 0.9031 - recall: 0.9404 - auc: 0.9707"
     ]
    },
    {
     "name": "stderr",
     "output_type": "stream",
     "text": [
      "\u001b[34m\u001b[1mwandb\u001b[0m: \u001b[32m\u001b[41mERROR\u001b[0m Can't save model in the h5py format. The model will be saved as as an W&B Artifact in the 'tf' format.\n",
      "WARNING:absl:Found untraced functions such as _update_step_xla, dropout_3_layer_call_fn, dropout_3_layer_call_and_return_conditional_losses, add_positional_embedding_layer_call_fn, add_positional_embedding_layer_call_and_return_conditional_losses while saving (showing 5 of 238). These functions will not be directly callable after loading.\n"
     ]
    },
    {
     "name": "stdout",
     "output_type": "stream",
     "text": [
      "INFO:tensorflow:Assets written to: /Users/lafferty/Downloads/relational/wandb/run-20230110_172200-19uimqbt/files/model-best/assets\n"
     ]
    },
    {
     "name": "stderr",
     "output_type": "stream",
     "text": [
      "INFO:tensorflow:Assets written to: /Users/lafferty/Downloads/relational/wandb/run-20230110_172200-19uimqbt/files/model-best/assets\n",
      "\u001b[34m\u001b[1mwandb\u001b[0m: Adding directory to artifact (/Users/lafferty/Downloads/relational/wandb/run-20230110_172200-19uimqbt/files/model-best)... Done. 0.0s\n"
     ]
    },
    {
     "name": "stdout",
     "output_type": "stream",
     "text": [
      "40/40 [==============================] - 153s 4s/step - loss: 0.2086 - acc: 0.9203 - precision: 0.9031 - recall: 0.9404 - auc: 0.9707\n",
      "Epoch 3/5\n",
      "40/40 [==============================] - ETA: 0s - loss: 0.1073 - acc: 0.9625 - precision: 0.9505 - recall: 0.9772 - auc: 0.9912"
     ]
    },
    {
     "name": "stderr",
     "output_type": "stream",
     "text": [
      "\u001b[34m\u001b[1mwandb\u001b[0m: \u001b[32m\u001b[41mERROR\u001b[0m Can't save model in the h5py format. The model will be saved as as an W&B Artifact in the 'tf' format.\n",
      "WARNING:absl:Found untraced functions such as _update_step_xla, dropout_3_layer_call_fn, dropout_3_layer_call_and_return_conditional_losses, add_positional_embedding_layer_call_fn, add_positional_embedding_layer_call_and_return_conditional_losses while saving (showing 5 of 238). These functions will not be directly callable after loading.\n"
     ]
    },
    {
     "name": "stdout",
     "output_type": "stream",
     "text": [
      "INFO:tensorflow:Assets written to: /Users/lafferty/Downloads/relational/wandb/run-20230110_172200-19uimqbt/files/model-best/assets\n"
     ]
    },
    {
     "name": "stderr",
     "output_type": "stream",
     "text": [
      "INFO:tensorflow:Assets written to: /Users/lafferty/Downloads/relational/wandb/run-20230110_172200-19uimqbt/files/model-best/assets\n",
      "\u001b[34m\u001b[1mwandb\u001b[0m: Adding directory to artifact (/Users/lafferty/Downloads/relational/wandb/run-20230110_172200-19uimqbt/files/model-best)... Done. 0.0s\n"
     ]
    },
    {
     "name": "stdout",
     "output_type": "stream",
     "text": [
      "40/40 [==============================] - 156s 4s/step - loss: 0.1073 - acc: 0.9625 - precision: 0.9505 - recall: 0.9772 - auc: 0.9912\n",
      "Epoch 4/5\n",
      "40/40 [==============================] - ETA: 0s - loss: 0.0807 - acc: 0.9742 - precision: 0.9652 - recall: 0.9841 - auc: 0.9936"
     ]
    },
    {
     "name": "stderr",
     "output_type": "stream",
     "text": [
      "\u001b[34m\u001b[1mwandb\u001b[0m: \u001b[32m\u001b[41mERROR\u001b[0m Can't save model in the h5py format. The model will be saved as as an W&B Artifact in the 'tf' format.\n",
      "WARNING:absl:Found untraced functions such as _update_step_xla, dropout_3_layer_call_fn, dropout_3_layer_call_and_return_conditional_losses, add_positional_embedding_layer_call_fn, add_positional_embedding_layer_call_and_return_conditional_losses while saving (showing 5 of 238). These functions will not be directly callable after loading.\n"
     ]
    },
    {
     "name": "stdout",
     "output_type": "stream",
     "text": [
      "INFO:tensorflow:Assets written to: /Users/lafferty/Downloads/relational/wandb/run-20230110_172200-19uimqbt/files/model-best/assets\n"
     ]
    },
    {
     "name": "stderr",
     "output_type": "stream",
     "text": [
      "INFO:tensorflow:Assets written to: /Users/lafferty/Downloads/relational/wandb/run-20230110_172200-19uimqbt/files/model-best/assets\n",
      "\u001b[34m\u001b[1mwandb\u001b[0m: Adding directory to artifact (/Users/lafferty/Downloads/relational/wandb/run-20230110_172200-19uimqbt/files/model-best)... Done. 0.0s\n"
     ]
    },
    {
     "name": "stdout",
     "output_type": "stream",
     "text": [
      "40/40 [==============================] - 158s 4s/step - loss: 0.0807 - acc: 0.9742 - precision: 0.9652 - recall: 0.9841 - auc: 0.9936\n",
      "Epoch 5/5\n",
      "40/40 [==============================] - ETA: 0s - loss: 0.0666 - acc: 0.9777 - precision: 0.9722 - recall: 0.9836 - auc: 0.9957"
     ]
    },
    {
     "name": "stderr",
     "output_type": "stream",
     "text": [
      "\u001b[34m\u001b[1mwandb\u001b[0m: \u001b[32m\u001b[41mERROR\u001b[0m Can't save model in the h5py format. The model will be saved as as an W&B Artifact in the 'tf' format.\n",
      "WARNING:absl:Found untraced functions such as _update_step_xla, dropout_3_layer_call_fn, dropout_3_layer_call_and_return_conditional_losses, add_positional_embedding_layer_call_fn, add_positional_embedding_layer_call_and_return_conditional_losses while saving (showing 5 of 238). These functions will not be directly callable after loading.\n"
     ]
    },
    {
     "name": "stdout",
     "output_type": "stream",
     "text": [
      "INFO:tensorflow:Assets written to: /Users/lafferty/Downloads/relational/wandb/run-20230110_172200-19uimqbt/files/model-best/assets\n"
     ]
    },
    {
     "name": "stderr",
     "output_type": "stream",
     "text": [
      "INFO:tensorflow:Assets written to: /Users/lafferty/Downloads/relational/wandb/run-20230110_172200-19uimqbt/files/model-best/assets\n",
      "\u001b[34m\u001b[1mwandb\u001b[0m: Adding directory to artifact (/Users/lafferty/Downloads/relational/wandb/run-20230110_172200-19uimqbt/files/model-best)... Done. 0.0s\n"
     ]
    },
    {
     "name": "stdout",
     "output_type": "stream",
     "text": [
      "\b\b\b\b\b\b\b\b\b\b\b\b\b\b\b\b\b\b\b\b\b\b\b\b\b\b\b\b\b\b\b\b\b\b\b\b\b\b\b\b\b\b\b\b\b\b\b\b\b\b\b\b\b\b\b\b\b\b\b\b\b\b\b\b\b\b\b\b\b\b\b\b\b\b\b\b\b\b\b\b\b\b\b\b\b\b\b\b\b\b\b\b\b\b\b\b\b\b\b\b\b\b\b\b\b\b\b\b\b\b\b\b\b\b\b\b\b\b\b\b\b\b\b\b\b\b\b\b\r",
      "40/40 [==============================] - 155s 4s/step - loss: 0.0666 - acc: 0.9777 - precision: 0.9722 - recall: 0.9836 - auc: 0.9957\n"
     ]
    }
   ],
   "source": [
    "train_ds = create_img_hand_clf_ds(seed=None)\n",
    "\n",
    "run = wandb.init(project='Abstracter Hand Classification', group='Abstracter (Image Input, Full Clf Encoder)', save_code=True)\n",
    "\n",
    "history = abstracter_model.fit(train_ds.batch(256), epochs=5, callbacks=create_callbacks())"
   ]
  },
  {
   "cell_type": "code",
   "execution_count": 34,
   "metadata": {
    "execution": {
     "iopub.execute_input": "2023-01-03T22:23:26.806947Z",
     "iopub.status.busy": "2023-01-03T22:23:26.806529Z",
     "iopub.status.idle": "2023-01-03T22:25:04.175995Z",
     "shell.execute_reply": "2023-01-03T22:25:04.174993Z"
    },
    "papermill": {
     "duration": 97.460384,
     "end_time": "2023-01-03T22:25:04.178158",
     "exception": false,
     "start_time": "2023-01-03T22:23:26.717774",
     "status": "completed"
    },
    "tags": []
   },
   "outputs": [
    {
     "name": "stdout",
     "output_type": "stream",
     "text": [
      "40/40 [==============================] - 133s 3s/step - loss: 0.0434 - acc: 0.9877 - precision: 0.9764 - recall: 0.9996 - auc: 0.9972\n",
      "79/79 [==============================] - 136s 2s/step\n",
      "              precision    recall  f1-score   support\n",
      "\n",
      "         0.0       1.00      0.97      0.99      4992\n",
      "         1.0       0.97      1.00      0.99      5008\n",
      "\n",
      "    accuracy                           0.99     10000\n",
      "   macro avg       0.99      0.99      0.99     10000\n",
      "weighted avg       0.99      0.99      0.99     10000\n",
      "\n"
     ]
    },
    {
     "data": {
      "text/html": [
       "Waiting for W&B process to finish... <strong style=\"color:green\">(success).</strong>"
      ],
      "text/plain": [
       "<IPython.core.display.HTML object>"
      ]
     },
     "metadata": {},
     "output_type": "display_data"
    },
    {
     "data": {
      "text/html": [
       "<style>\n",
       "    table.wandb td:nth-child(1) { padding: 0 10px; text-align: left ; width: auto;} td:nth-child(2) {text-align: left ; width: 100%}\n",
       "    .wandb-row { display: flex; flex-direction: row; flex-wrap: wrap; justify-content: flex-start; width: 100% }\n",
       "    .wandb-col { display: flex; flex-direction: column; flex-basis: 100%; flex: 1; padding: 10px; }\n",
       "    </style>\n",
       "<div class=\"wandb-row\"><div class=\"wandb-col\"><h3>Run history:</h3><br/><table class=\"wandb\"><tr><td>acc</td><td>▁▅▇██</td></tr><tr><td>auc</td><td>▁▅▇██</td></tr><tr><td>epoch</td><td>▁▃▅▆█</td></tr><tr><td>loss</td><td>█▃▂▁▁</td></tr><tr><td>precision</td><td>▁▅▇██</td></tr><tr><td>recall</td><td>▁▅███</td></tr></table><br/></div><div class=\"wandb-col\"><h3>Run summary:</h3><br/><table class=\"wandb\"><tr><td>GFLOPs</td><td>0.52495</td></tr><tr><td>acc</td><td>0.9777</td></tr><tr><td>auc</td><td>0.9957</td></tr><tr><td>best_epoch</td><td>4</td></tr><tr><td>best_loss</td><td>0.06664</td></tr><tr><td>epoch</td><td>4</td></tr><tr><td>loss</td><td>0.06664</td></tr><tr><td>precision</td><td>0.97218</td></tr><tr><td>recall</td><td>0.98363</td></tr></table><br/></div></div>"
      ],
      "text/plain": [
       "<IPython.core.display.HTML object>"
      ]
     },
     "metadata": {},
     "output_type": "display_data"
    },
    {
     "data": {
      "text/html": [
       "Synced <strong style=\"color:#cdcd00\">balmy-thunder-22</strong>: <a href=\"https://wandb.ai/wu-tsai-institute/Abstracter%20Hand%20Classification/runs/19uimqbt\" target=\"_blank\">https://wandb.ai/wu-tsai-institute/Abstracter%20Hand%20Classification/runs/19uimqbt</a><br/>Synced 7 W&B file(s), 4 media file(s), 24 artifact file(s) and 2 other file(s)"
      ],
      "text/plain": [
       "<IPython.core.display.HTML object>"
      ]
     },
     "metadata": {},
     "output_type": "display_data"
    },
    {
     "data": {
      "text/html": [
       "Find logs at: <code>./wandb/run-20230110_172200-19uimqbt/logs</code>"
      ],
      "text/plain": [
       "<IPython.core.display.HTML object>"
      ]
     },
     "metadata": {},
     "output_type": "display_data"
    }
   ],
   "source": [
    "test_ds = create_img_hand_clf_ds(seed=42)\n",
    "abstracter_model.evaluate(test_ds.batch(256), return_dict=True);\n",
    "wrap_run(abstracter_model, test_ds)"
   ]
  },
  {
   "cell_type": "markdown",
   "metadata": {
    "papermill": {
     "duration": 0.082971,
     "end_time": "2023-01-03T22:25:04.346258",
     "exception": false,
     "start_time": "2023-01-03T22:25:04.263287",
     "status": "completed"
    },
    "tags": []
   },
   "source": [
    "### Classifier's Intermediate Encoder as Card Encoder"
   ]
  },
  {
   "cell_type": "code",
   "execution_count": 35,
   "metadata": {
    "execution": {
     "iopub.execute_input": "2023-01-03T22:25:04.512849Z",
     "iopub.status.busy": "2023-01-03T22:25:04.511790Z",
     "iopub.status.idle": "2023-01-03T22:25:05.498866Z",
     "shell.execute_reply": "2023-01-03T22:25:05.497872Z"
    },
    "papermill": {
     "duration": 1.075418,
     "end_time": "2023-01-03T22:25:05.504010",
     "exception": false,
     "start_time": "2023-01-03T22:25:04.428592",
     "status": "completed"
    },
    "tags": []
   },
   "outputs": [
    {
     "name": "stdout",
     "output_type": "stream",
     "text": [
      "Model: \"abstracter\"\n",
      "_________________________________________________________________\n",
      " Layer (type)                Output Shape              Param #   \n",
      "=================================================================\n",
      " card_image_sequence (InputL  [(None, 7, 178, 122, 3)]  0        \n",
      " ayer)                                                           \n",
      "                                                                 \n",
      " encode_cards (TimeDistribut  (None, 7, 32)            83392     \n",
      " ed)                                                             \n",
      "                                                                 \n",
      " add_pos_embedding (AddPosit  (None, 7, 32)            0         \n",
      " ionalEmbedding)                                                 \n",
      "                                                                 \n",
      " abstracter_encoder (Encoder  (None, 7, 32)            31968     \n",
      " )                                                               \n",
      "                                                                 \n",
      " abstracter_decoder (Episodi  (None, 7, 32)            57632     \n",
      " cDecoder)                                                       \n",
      "                                                                 \n",
      " sequence_avg_pool (GlobalAv  (None, 32)               0         \n",
      " eragePooling1D)                                                 \n",
      "                                                                 \n",
      " dense1 (Dense)              (None, 64)                2112      \n",
      "                                                                 \n",
      " output (Dense)              (None, 2)                 130       \n",
      "                                                                 \n",
      "=================================================================\n",
      "Total params: 175,234\n",
      "Trainable params: 91,842\n",
      "Non-trainable params: 83,392\n",
      "_________________________________________________________________\n"
     ]
    }
   ],
   "source": [
    "inputs = layers.Input(shape=(hand_size,*card_image_shape), name='card_image_sequence')\n",
    "pos_embedding_adder = AddPositionalEmbedding(name='add_pos_embedding')\n",
    "abstracter_encoder = Encoder(num_layers=3, num_heads=2, dff=32, dropout_rate=0.1, name='abstracter_encoder')\n",
    "symbolic = EpisodicDecoder(num_layers=3, num_heads=2, dff=32, use_pos_embedding=True,\n",
    "                                   dropout_rate=0.1, name='abstracter_decoder')\n",
    "\n",
    "\n",
    "x = layers.TimeDistributed(card_encoder, name='encode_cards', trainable=False)(inputs)\n",
    "x = pos_embedding_adder(x)\n",
    "\n",
    "x = abstracter_encoder(x)\n",
    "\n",
    "x = symbolic(x)\n",
    "\n",
    "x = layers.GlobalAveragePooling1D(name='sequence_avg_pool')(x)\n",
    "x = layers.Dense(64, activation='relu', name='dense1')(x) \n",
    "x = layers.Dense(2, activation='softmax', name='output')(x)\n",
    "\n",
    "outputs = x\n",
    "\n",
    "abstracter_model = tf.keras.Model(inputs, outputs, name='abstracter')\n",
    "abstracter_model.summary()\n",
    "\n",
    "abstracter_model.compile(loss=loss, optimizer=tf.keras.optimizers.Adam(learning_rate=0.001),\n",
    "                         metrics=metrics)"
   ]
  },
  {
   "cell_type": "code",
   "execution_count": null,
   "metadata": {
    "execution": {
     "iopub.execute_input": "2023-01-03T22:25:05.672889Z",
     "iopub.status.busy": "2023-01-03T22:25:05.672544Z",
     "iopub.status.idle": "2023-01-03T22:25:05.896236Z",
     "shell.execute_reply": "2023-01-03T22:25:05.895076Z"
    },
    "papermill": {
     "duration": 0.309274,
     "end_time": "2023-01-03T22:25:05.898654",
     "exception": false,
     "start_time": "2023-01-03T22:25:05.589380",
     "status": "completed"
    },
    "tags": []
   },
   "outputs": [],
   "source": [
    "tf.keras.utils.plot_model(abstracter_model)"
   ]
  },
  {
   "cell_type": "code",
   "execution_count": 36,
   "metadata": {
    "execution": {
     "iopub.execute_input": "2023-01-03T22:25:06.071521Z",
     "iopub.status.busy": "2023-01-03T22:25:06.071113Z",
     "iopub.status.idle": "2023-01-03T22:29:05.911511Z",
     "shell.execute_reply": "2023-01-03T22:29:05.910562Z"
    },
    "papermill": {
     "duration": 239.928955,
     "end_time": "2023-01-03T22:29:05.913891",
     "exception": false,
     "start_time": "2023-01-03T22:25:05.984936",
     "status": "completed"
    },
    "tags": []
   },
   "outputs": [
    {
     "data": {
      "text/html": [
       "wandb version 0.13.8 is available!  To upgrade, please run:\n",
       " $ pip install wandb --upgrade"
      ],
      "text/plain": [
       "<IPython.core.display.HTML object>"
      ]
     },
     "metadata": {},
     "output_type": "display_data"
    },
    {
     "data": {
      "text/html": [
       "Tracking run with wandb version 0.13.7"
      ],
      "text/plain": [
       "<IPython.core.display.HTML object>"
      ]
     },
     "metadata": {},
     "output_type": "display_data"
    },
    {
     "data": {
      "text/html": [
       "Run data is saved locally in <code>/Users/lafferty/Downloads/relational/wandb/run-20230110_174241-3sw16jj8</code>"
      ],
      "text/plain": [
       "<IPython.core.display.HTML object>"
      ]
     },
     "metadata": {},
     "output_type": "display_data"
    },
    {
     "data": {
      "text/html": [
       "Syncing run <strong><a href=\"https://wandb.ai/wu-tsai-institute/Abstracter%20Hand%20Classification/runs/3sw16jj8\" target=\"_blank\">summer-cosmos-23</a></strong> to <a href=\"https://wandb.ai/wu-tsai-institute/Abstracter%20Hand%20Classification\" target=\"_blank\">Weights & Biases</a> (<a href=\"https://wandb.me/run\" target=\"_blank\">docs</a>)<br/>"
      ],
      "text/plain": [
       "<IPython.core.display.HTML object>"
      ]
     },
     "metadata": {},
     "output_type": "display_data"
    },
    {
     "name": "stdout",
     "output_type": "stream",
     "text": [
      "Epoch 1/5\n",
      "     40/Unknown - 147s 3s/step - loss: 0.6600 - acc: 0.7882 - precision: 0.7844 - recall: 0.7944 - auc: 0.9012"
     ]
    },
    {
     "name": "stderr",
     "output_type": "stream",
     "text": [
      "\u001b[34m\u001b[1mwandb\u001b[0m: \u001b[32m\u001b[41mERROR\u001b[0m Can't save model in the h5py format. The model will be saved as as an W&B Artifact in the 'tf' format.\n",
      "WARNING:absl:Found untraced functions such as _update_step_xla, dropout_3_layer_call_fn, dropout_3_layer_call_and_return_conditional_losses, add_positional_embedding_layer_call_fn, add_positional_embedding_layer_call_and_return_conditional_losses while saving (showing 5 of 237). These functions will not be directly callable after loading.\n"
     ]
    },
    {
     "name": "stdout",
     "output_type": "stream",
     "text": [
      "INFO:tensorflow:Assets written to: /Users/lafferty/Downloads/relational/wandb/run-20230110_174241-3sw16jj8/files/model-best/assets\n"
     ]
    },
    {
     "name": "stderr",
     "output_type": "stream",
     "text": [
      "INFO:tensorflow:Assets written to: /Users/lafferty/Downloads/relational/wandb/run-20230110_174241-3sw16jj8/files/model-best/assets\n",
      "\u001b[34m\u001b[1mwandb\u001b[0m: Adding directory to artifact (/Users/lafferty/Downloads/relational/wandb/run-20230110_174241-3sw16jj8/files/model-best)... Done. 0.0s\n"
     ]
    },
    {
     "name": "stdout",
     "output_type": "stream",
     "text": [
      "40/40 [==============================] - 162s 4s/step - loss: 0.6600 - acc: 0.7882 - precision: 0.7844 - recall: 0.7944 - auc: 0.9012\n",
      "Epoch 2/5\n",
      "40/40 [==============================] - ETA: 0s - loss: 0.3799 - acc: 0.8376 - precision: 0.8371 - recall: 0.8384 - auc: 0.9107"
     ]
    },
    {
     "name": "stderr",
     "output_type": "stream",
     "text": [
      "\u001b[34m\u001b[1mwandb\u001b[0m: \u001b[32m\u001b[41mERROR\u001b[0m Can't save model in the h5py format. The model will be saved as as an W&B Artifact in the 'tf' format.\n",
      "WARNING:absl:Found untraced functions such as _update_step_xla, dropout_3_layer_call_fn, dropout_3_layer_call_and_return_conditional_losses, add_positional_embedding_layer_call_fn, add_positional_embedding_layer_call_and_return_conditional_losses while saving (showing 5 of 237). These functions will not be directly callable after loading.\n"
     ]
    },
    {
     "name": "stdout",
     "output_type": "stream",
     "text": [
      "INFO:tensorflow:Assets written to: /Users/lafferty/Downloads/relational/wandb/run-20230110_174241-3sw16jj8/files/model-best/assets\n"
     ]
    },
    {
     "name": "stderr",
     "output_type": "stream",
     "text": [
      "INFO:tensorflow:Assets written to: /Users/lafferty/Downloads/relational/wandb/run-20230110_174241-3sw16jj8/files/model-best/assets\n",
      "\u001b[34m\u001b[1mwandb\u001b[0m: Adding directory to artifact (/Users/lafferty/Downloads/relational/wandb/run-20230110_174241-3sw16jj8/files/model-best)... Done. 0.0s\n"
     ]
    },
    {
     "name": "stdout",
     "output_type": "stream",
     "text": [
      "40/40 [==============================] - 150s 4s/step - loss: 0.3799 - acc: 0.8376 - precision: 0.8371 - recall: 0.8384 - auc: 0.9107\n",
      "Epoch 3/5\n",
      "40/40 [==============================] - ETA: 0s - loss: 0.2165 - acc: 0.9166 - precision: 0.9004 - recall: 0.9349 - auc: 0.9695"
     ]
    },
    {
     "name": "stderr",
     "output_type": "stream",
     "text": [
      "\u001b[34m\u001b[1mwandb\u001b[0m: \u001b[32m\u001b[41mERROR\u001b[0m Can't save model in the h5py format. The model will be saved as as an W&B Artifact in the 'tf' format.\n",
      "WARNING:absl:Found untraced functions such as _update_step_xla, dropout_3_layer_call_fn, dropout_3_layer_call_and_return_conditional_losses, add_positional_embedding_layer_call_fn, add_positional_embedding_layer_call_and_return_conditional_losses while saving (showing 5 of 237). These functions will not be directly callable after loading.\n"
     ]
    },
    {
     "name": "stdout",
     "output_type": "stream",
     "text": [
      "INFO:tensorflow:Assets written to: /Users/lafferty/Downloads/relational/wandb/run-20230110_174241-3sw16jj8/files/model-best/assets\n"
     ]
    },
    {
     "name": "stderr",
     "output_type": "stream",
     "text": [
      "INFO:tensorflow:Assets written to: /Users/lafferty/Downloads/relational/wandb/run-20230110_174241-3sw16jj8/files/model-best/assets\n",
      "\u001b[34m\u001b[1mwandb\u001b[0m: Adding directory to artifact (/Users/lafferty/Downloads/relational/wandb/run-20230110_174241-3sw16jj8/files/model-best)... Done. 0.0s\n"
     ]
    },
    {
     "name": "stdout",
     "output_type": "stream",
     "text": [
      "40/40 [==============================] - 152s 4s/step - loss: 0.2165 - acc: 0.9166 - precision: 0.9004 - recall: 0.9349 - auc: 0.9695\n",
      "Epoch 4/5\n",
      "40/40 [==============================] - ETA: 0s - loss: 0.1649 - acc: 0.9393 - precision: 0.9230 - recall: 0.9583 - auc: 0.9800"
     ]
    },
    {
     "name": "stderr",
     "output_type": "stream",
     "text": [
      "\u001b[34m\u001b[1mwandb\u001b[0m: \u001b[32m\u001b[41mERROR\u001b[0m Can't save model in the h5py format. The model will be saved as as an W&B Artifact in the 'tf' format.\n",
      "WARNING:absl:Found untraced functions such as _update_step_xla, dropout_3_layer_call_fn, dropout_3_layer_call_and_return_conditional_losses, add_positional_embedding_layer_call_fn, add_positional_embedding_layer_call_and_return_conditional_losses while saving (showing 5 of 237). These functions will not be directly callable after loading.\n"
     ]
    },
    {
     "name": "stdout",
     "output_type": "stream",
     "text": [
      "INFO:tensorflow:Assets written to: /Users/lafferty/Downloads/relational/wandb/run-20230110_174241-3sw16jj8/files/model-best/assets\n"
     ]
    },
    {
     "name": "stderr",
     "output_type": "stream",
     "text": [
      "INFO:tensorflow:Assets written to: /Users/lafferty/Downloads/relational/wandb/run-20230110_174241-3sw16jj8/files/model-best/assets\n",
      "\u001b[34m\u001b[1mwandb\u001b[0m: Adding directory to artifact (/Users/lafferty/Downloads/relational/wandb/run-20230110_174241-3sw16jj8/files/model-best)... Done. 0.0s\n"
     ]
    },
    {
     "name": "stdout",
     "output_type": "stream",
     "text": [
      "40/40 [==============================] - 151s 4s/step - loss: 0.1649 - acc: 0.9393 - precision: 0.9230 - recall: 0.9583 - auc: 0.9800\n",
      "Epoch 5/5\n",
      "40/40 [==============================] - ETA: 0s - loss: 0.1117 - acc: 0.9613 - precision: 0.9517 - recall: 0.9711 - auc: 0.9903"
     ]
    },
    {
     "name": "stderr",
     "output_type": "stream",
     "text": [
      "\u001b[34m\u001b[1mwandb\u001b[0m: \u001b[32m\u001b[41mERROR\u001b[0m Can't save model in the h5py format. The model will be saved as as an W&B Artifact in the 'tf' format.\n",
      "WARNING:absl:Found untraced functions such as _update_step_xla, dropout_3_layer_call_fn, dropout_3_layer_call_and_return_conditional_losses, add_positional_embedding_layer_call_fn, add_positional_embedding_layer_call_and_return_conditional_losses while saving (showing 5 of 237). These functions will not be directly callable after loading.\n"
     ]
    },
    {
     "name": "stdout",
     "output_type": "stream",
     "text": [
      "INFO:tensorflow:Assets written to: /Users/lafferty/Downloads/relational/wandb/run-20230110_174241-3sw16jj8/files/model-best/assets\n"
     ]
    },
    {
     "name": "stderr",
     "output_type": "stream",
     "text": [
      "INFO:tensorflow:Assets written to: /Users/lafferty/Downloads/relational/wandb/run-20230110_174241-3sw16jj8/files/model-best/assets\n",
      "\u001b[34m\u001b[1mwandb\u001b[0m: Adding directory to artifact (/Users/lafferty/Downloads/relational/wandb/run-20230110_174241-3sw16jj8/files/model-best)... Done. 0.0s\n"
     ]
    },
    {
     "name": "stdout",
     "output_type": "stream",
     "text": [
      "\b\b\b\b\b\b\b\b\b\b\b\b\b\b\b\b\b\b\b\b\b\b\b\b\b\b\b\b\b\b\b\b\b\b\b\b\b\b\b\b\b\b\b\b\b\b\b\b\b\b\b\b\b\b\b\b\b\b\b\b\b\b\b\b\b\b\b\b\b\b\b\b\b\b\b\b\b\b\b\b\b\b\b\b\b\b\b\b\b\b\b\b\b\b\b\b\b\b\b\b\b\b\b\b\b\b\b\b\b\b\b\b\b\b\b\b\b\b\b\b\b\b\b\b\b\b\b\b\r",
      "40/40 [==============================] - 151s 4s/step - loss: 0.1117 - acc: 0.9613 - precision: 0.9517 - recall: 0.9711 - auc: 0.9903\n"
     ]
    }
   ],
   "source": [
    "train_ds = create_img_hand_clf_ds(seed=None)\n",
    "\n",
    "run = wandb.init(project='Abstracter Hand Classification', group='Abstracter (Image Input, Intermediate Encoder)', save_code=True)\n",
    "\n",
    "history = abstracter_model.fit(train_ds.batch(256), epochs=5, callbacks=create_callbacks())"
   ]
  },
  {
   "cell_type": "code",
   "execution_count": 37,
   "metadata": {
    "execution": {
     "iopub.execute_input": "2023-01-03T22:29:06.111495Z",
     "iopub.status.busy": "2023-01-03T22:29:06.109850Z",
     "iopub.status.idle": "2023-01-03T22:31:00.352468Z",
     "shell.execute_reply": "2023-01-03T22:31:00.351552Z"
    },
    "papermill": {
     "duration": 114.342102,
     "end_time": "2023-01-03T22:31:00.354549",
     "exception": false,
     "start_time": "2023-01-03T22:29:06.012447",
     "status": "completed"
    },
    "tags": []
   },
   "outputs": [
    {
     "name": "stdout",
     "output_type": "stream",
     "text": [
      "40/40 [==============================] - 137s 3s/step - loss: 0.0810 - acc: 0.9735 - precision: 0.9534 - recall: 0.9958 - auc: 0.9960\n",
      "79/79 [==============================] - 136s 2s/step\n",
      "              precision    recall  f1-score   support\n",
      "\n",
      "         0.0       1.00      0.95      0.97      4991\n",
      "         1.0       0.95      1.00      0.97      5009\n",
      "\n",
      "    accuracy                           0.97     10000\n",
      "   macro avg       0.97      0.97      0.97     10000\n",
      "weighted avg       0.97      0.97      0.97     10000\n",
      "\n"
     ]
    },
    {
     "data": {
      "text/html": [
       "Waiting for W&B process to finish... <strong style=\"color:green\">(success).</strong>"
      ],
      "text/plain": [
       "<IPython.core.display.HTML object>"
      ]
     },
     "metadata": {},
     "output_type": "display_data"
    },
    {
     "data": {
      "text/html": [
       "<style>\n",
       "    table.wandb td:nth-child(1) { padding: 0 10px; text-align: left ; width: auto;} td:nth-child(2) {text-align: left ; width: 100%}\n",
       "    .wandb-row { display: flex; flex-direction: row; flex-wrap: wrap; justify-content: flex-start; width: 100% }\n",
       "    .wandb-col { display: flex; flex-direction: column; flex-basis: 100%; flex: 1; padding: 10px; }\n",
       "    </style>\n",
       "<div class=\"wandb-row\"><div class=\"wandb-col\"><h3>Run history:</h3><br/><table class=\"wandb\"><tr><td>acc</td><td>▁▃▆▇█</td></tr><tr><td>auc</td><td>▁▂▆▇█</td></tr><tr><td>epoch</td><td>▁▃▅▆█</td></tr><tr><td>loss</td><td>█▄▂▂▁</td></tr><tr><td>precision</td><td>▁▃▆▇█</td></tr><tr><td>recall</td><td>▁▃▇▇█</td></tr></table><br/></div><div class=\"wandb-col\"><h3>Run summary:</h3><br/><table class=\"wandb\"><tr><td>GFLOPs</td><td>0.52488</td></tr><tr><td>acc</td><td>0.9613</td></tr><tr><td>auc</td><td>0.99033</td></tr><tr><td>best_epoch</td><td>4</td></tr><tr><td>best_loss</td><td>0.11169</td></tr><tr><td>epoch</td><td>4</td></tr><tr><td>loss</td><td>0.11169</td></tr><tr><td>precision</td><td>0.95168</td></tr><tr><td>recall</td><td>0.97111</td></tr></table><br/></div></div>"
      ],
      "text/plain": [
       "<IPython.core.display.HTML object>"
      ]
     },
     "metadata": {},
     "output_type": "display_data"
    },
    {
     "data": {
      "text/html": [
       "Synced <strong style=\"color:#cdcd00\">summer-cosmos-23</strong>: <a href=\"https://wandb.ai/wu-tsai-institute/Abstracter%20Hand%20Classification/runs/3sw16jj8\" target=\"_blank\">https://wandb.ai/wu-tsai-institute/Abstracter%20Hand%20Classification/runs/3sw16jj8</a><br/>Synced 7 W&B file(s), 4 media file(s), 24 artifact file(s) and 2 other file(s)"
      ],
      "text/plain": [
       "<IPython.core.display.HTML object>"
      ]
     },
     "metadata": {},
     "output_type": "display_data"
    },
    {
     "data": {
      "text/html": [
       "Find logs at: <code>./wandb/run-20230110_174241-3sw16jj8/logs</code>"
      ],
      "text/plain": [
       "<IPython.core.display.HTML object>"
      ]
     },
     "metadata": {},
     "output_type": "display_data"
    }
   ],
   "source": [
    "test_ds = create_img_hand_clf_ds(seed=42)\n",
    "abstracter_model.evaluate(test_ds.batch(256), return_dict=True);\n",
    "wrap_run(abstracter_model, test_ds)"
   ]
  },
  {
   "cell_type": "markdown",
   "metadata": {
    "papermill": {
     "duration": 0.096655,
     "end_time": "2023-01-03T22:31:00.550112",
     "exception": false,
     "start_time": "2023-01-03T22:31:00.453457",
     "status": "completed"
    },
    "tags": []
   },
   "source": [
    "## \"Symbolic Abstracter\": Variant of Model with Symbol-Encoding Cross-Attention\n",
    "\n",
    "- `SymbolicDecoder`: This is the variant where Q=D, K=E, V=D. The learned sequence of input vectors at the decoder can be thought of as abstract symbols, and their relations with the entities at the encoder (via cross-attention) can be thought of as bindings between the symbols and attributes of the input."
   ]
  },
  {
   "cell_type": "code",
   "execution_count": 38,
   "metadata": {
    "execution": {
     "iopub.execute_input": "2023-01-03T22:31:00.745037Z",
     "iopub.status.busy": "2023-01-03T22:31:00.744686Z",
     "iopub.status.idle": "2023-01-03T22:31:00.761018Z",
     "shell.execute_reply": "2023-01-03T22:31:00.760199Z"
    },
    "papermill": {
     "duration": 0.116974,
     "end_time": "2023-01-03T22:31:00.762993",
     "exception": false,
     "start_time": "2023-01-03T22:31:00.646019",
     "status": "completed"
    },
    "tags": []
   },
   "outputs": [],
   "source": [
    "class SymbolicDecoder(tf.keras.layers.Layer):\n",
    "    \"\"\"Symbolic Decoder (Q=D, K=E, V=D)\"\"\"\n",
    "    def __init__(self, num_layers, num_heads, dff, use_pos_embedding=True,\n",
    "               dropout_rate=0.1, name='symbolic_decoder'):\n",
    "        super(SymbolicDecoder, self).__init__(name=name)\n",
    "\n",
    "        self.num_layers = num_layers\n",
    "        self.num_heads = num_heads\n",
    "        self.dff = dff\n",
    "        self.use_pos_embedding = use_pos_embedding\n",
    "        self.dropout_rate = dropout_rate\n",
    "\n",
    "    def build(self, input_shape):\n",
    "\n",
    "        _, self.sequence_length, self.d_model = input_shape\n",
    "\n",
    "        # define the input-independent symbolic input vector sequence at the decoder\n",
    "        normal_initializer = tf.keras.initializers.RandomNormal(mean=0., stddev=1.)\n",
    "        self.decoder_symbol_sequence = tf.Variable(\n",
    "            normal_initializer(shape=(self.sequence_length, self.d_model)),\n",
    "            trainable=True)\n",
    "\n",
    "        # layer which adds positional embedding (to be used on symbol sequence)\n",
    "        if self.use_pos_embedding:\n",
    "            self.add_pos_embedding = AddPositionalEmbedding()\n",
    "\n",
    "        self.dropout = tf.keras.layers.Dropout(self.dropout_rate)\n",
    "\n",
    "        self.dec_layers = [\n",
    "            SymbolicDecoderLayer(d_model=self.d_model, num_heads=self.num_heads,\n",
    "                         dff=self.dff, dropout_rate=self.dropout_rate)\n",
    "            for _ in range(self.num_layers)]\n",
    "\n",
    "        self.last_attn_scores = None\n",
    "\n",
    "    def call(self, encoder_context):\n",
    "        # symbol sequence is input independent, so use the same one for all computations in the given batch\n",
    "        symbol_seq = tf.zeros_like(encoder_context) + self.decoder_symbol_sequence\n",
    "\n",
    "        # add positional embedding\n",
    "        if self.use_pos_embedding:\n",
    "            symbol_seq = self.add_pos_embedding(symbol_seq)\n",
    "\n",
    "\n",
    "        symbol_seq = self.dropout(symbol_seq)\n",
    "\n",
    "\n",
    "        for i in range(self.num_layers):\n",
    "            symbol_seq = self.dec_layers[i](symbol_seq, encoder_context)\n",
    "\n",
    "#             self.last_attn_scores = self.dec_layers[-1].last_attn_scores\n",
    "\n",
    "        return symbol_seq\n",
    "\n",
    "class SymbolicDecoderLayer(tf.keras.layers.Layer):\n",
    "    def __init__(self, d_model, num_heads, dff, dropout_rate=0.1, name=None):\n",
    "        super(SymbolicDecoderLayer, self).__init__(name=name)\n",
    "\n",
    "        self.self_attention = GlobalSelfAttention(\n",
    "            num_heads=num_heads,\n",
    "            key_dim=d_model,\n",
    "            dropout=dropout_rate)\n",
    "\n",
    "        self.symbolic_attention = SymbolicAttention(\n",
    "            num_heads=num_heads,\n",
    "            key_dim=d_model,\n",
    "            dropout=dropout_rate)\n",
    "\n",
    "        self.ffn = FeedForward(d_model, dff)\n",
    "\n",
    "    def call(self, x, context):\n",
    "        x = self.self_attention(x=x)\n",
    "        x = self.symbolic_attention(x=x, context=context)\n",
    "\n",
    "        # Cache the last attention scores for plotting later\n",
    "        self.last_attn_scores = self.symbolic_attention.last_attn_scores\n",
    "\n",
    "        x = self.ffn(x)  # Shape `(batch_size, seq_len, d_model)`.\n",
    "\n",
    "        return x\n",
    "\n",
    "class SymbolicAttention(BaseAttention):\n",
    "    def call(self, x, context):\n",
    "        attn_output, attn_scores = self.mha(\n",
    "            query=x,\n",
    "            key=context,\n",
    "            value=x ,\n",
    "            return_attention_scores=True)\n",
    "\n",
    "        # Cache the attention scores for plotting later.\n",
    "        self.last_attn_scores = attn_scores\n",
    "\n",
    "        x = self.add([x, attn_output])\n",
    "\n",
    "        x = self.layernorm(x)\n",
    "\n",
    "        return x"
   ]
  },
  {
   "cell_type": "markdown",
   "metadata": {
    "papermill": {
     "duration": 0.095724,
     "end_time": "2023-01-03T22:31:00.954484",
     "exception": false,
     "start_time": "2023-01-03T22:31:00.858760",
     "status": "completed"
    },
    "tags": []
   },
   "source": [
    "### Token Inputs"
   ]
  },
  {
   "cell_type": "code",
   "execution_count": 39,
   "metadata": {
    "execution": {
     "iopub.execute_input": "2023-01-03T22:31:01.152894Z",
     "iopub.status.busy": "2023-01-03T22:31:01.152572Z",
     "iopub.status.idle": "2023-01-03T22:31:02.389880Z",
     "shell.execute_reply": "2023-01-03T22:31:02.388671Z"
    },
    "papermill": {
     "duration": 1.342853,
     "end_time": "2023-01-03T22:31:02.393872",
     "exception": false,
     "start_time": "2023-01-03T22:31:01.051019",
     "status": "completed"
    },
    "tags": []
   },
   "outputs": [
    {
     "name": "stdout",
     "output_type": "stream",
     "text": [
      "Model: \"abstracter\"\n",
      "_________________________________________________________________\n",
      " Layer (type)                Output Shape              Param #   \n",
      "=================================================================\n",
      " token_input (InputLayer)    [(None, 7)]               0         \n",
      "                                                                 \n",
      " vector_embedding (Embedding  (None, 7, 32)            1664      \n",
      " )                                                               \n",
      "                                                                 \n",
      " add_pos_embedding (AddPosit  (None, 7, 32)            0         \n",
      " ionalEmbedding)                                                 \n",
      "                                                                 \n",
      " abstracter_encoder (Encoder  (None, 7, 32)            31968     \n",
      " )                                                               \n",
      "                                                                 \n",
      " symbolic_decoder (SymbolicD  (None, 7, 32)            57632     \n",
      " ecoder)                                                         \n",
      "                                                                 \n",
      " sequence_avg_pool (GlobalAv  (None, 32)               0         \n",
      " eragePooling1D)                                                 \n",
      "                                                                 \n",
      " dense1 (Dense)              (None, 64)                2112      \n",
      "                                                                 \n",
      " output (Dense)              (None, 2)                 130       \n",
      "                                                                 \n",
      "=================================================================\n",
      "Total params: 93,506\n",
      "Trainable params: 93,506\n",
      "Non-trainable params: 0\n",
      "_________________________________________________________________\n"
     ]
    }
   ],
   "source": [
    "inputs = layers.Input(shape=(7,), name='token_input')\n",
    "token_embedder = layers.Embedding(52, 32, name='vector_embedding')\n",
    "pos_embedding_adder = AddPositionalEmbedding(name='add_pos_embedding')\n",
    "abstracter_encoder = Encoder(num_layers=3, num_heads=2, dff=32, dropout_rate=0.1, name='abstracter_encoder')\n",
    "symbolic_decoder = SymbolicDecoder(num_layers=3, num_heads=2, dff=32, use_pos_embedding=True,\n",
    "                                   dropout_rate=0.1, name='symbolic_decoder')\n",
    "\n",
    "\n",
    "x = token_embedder(inputs)\n",
    "x = pos_embedding_adder(x)\n",
    "\n",
    "x = abstracter_encoder(x)\n",
    "\n",
    "x = symbolic_decoder(x)\n",
    "\n",
    "x = layers.GlobalAveragePooling1D(name='sequence_avg_pool')(x)\n",
    "x = layers.Dense(64, activation='relu', name='dense1')(x) \n",
    "x = layers.Dense(2, activation='softmax', name='output')(x)\n",
    "\n",
    "outputs = x\n",
    "\n",
    "abstracter_model = tf.keras.Model(inputs, outputs, name='abstracter')\n",
    "abstracter_model.summary()\n",
    "\n",
    "abstracter_model.compile(loss=loss, optimizer=tf.keras.optimizers.Adam(learning_rate=0.001), \n",
    "                         metrics=metrics)"
   ]
  },
  {
   "cell_type": "code",
   "execution_count": null,
   "metadata": {
    "execution": {
     "iopub.execute_input": "2023-01-03T22:31:02.701862Z",
     "iopub.status.busy": "2023-01-03T22:31:02.701501Z",
     "iopub.status.idle": "2023-01-03T22:31:02.924254Z",
     "shell.execute_reply": "2023-01-03T22:31:02.923052Z"
    },
    "papermill": {
     "duration": 0.382353,
     "end_time": "2023-01-03T22:31:02.927061",
     "exception": false,
     "start_time": "2023-01-03T22:31:02.544708",
     "status": "completed"
    },
    "tags": []
   },
   "outputs": [],
   "source": [
    "tf.keras.utils.plot_model(abstracter_model)"
   ]
  },
  {
   "cell_type": "code",
   "execution_count": 40,
   "metadata": {
    "execution": {
     "iopub.execute_input": "2023-01-03T22:31:03.128089Z",
     "iopub.status.busy": "2023-01-03T22:31:03.127737Z",
     "iopub.status.idle": "2023-01-03T22:33:25.572863Z",
     "shell.execute_reply": "2023-01-03T22:33:25.571830Z"
    },
    "papermill": {
     "duration": 142.548758,
     "end_time": "2023-01-03T22:33:25.576151",
     "exception": false,
     "start_time": "2023-01-03T22:31:03.027393",
     "status": "completed"
    },
    "tags": []
   },
   "outputs": [
    {
     "data": {
      "text/html": [
       "wandb version 0.13.8 is available!  To upgrade, please run:\n",
       " $ pip install wandb --upgrade"
      ],
      "text/plain": [
       "<IPython.core.display.HTML object>"
      ]
     },
     "metadata": {},
     "output_type": "display_data"
    },
    {
     "data": {
      "text/html": [
       "Tracking run with wandb version 0.13.7"
      ],
      "text/plain": [
       "<IPython.core.display.HTML object>"
      ]
     },
     "metadata": {},
     "output_type": "display_data"
    },
    {
     "data": {
      "text/html": [
       "Run data is saved locally in <code>/Users/lafferty/Downloads/relational/wandb/run-20230110_182732-373ckmny</code>"
      ],
      "text/plain": [
       "<IPython.core.display.HTML object>"
      ]
     },
     "metadata": {},
     "output_type": "display_data"
    },
    {
     "data": {
      "text/html": [
       "Syncing run <strong><a href=\"https://wandb.ai/wu-tsai-institute/Abstracter%20Hand%20Classification/runs/373ckmny\" target=\"_blank\">cerulean-sky-24</a></strong> to <a href=\"https://wandb.ai/wu-tsai-institute/Abstracter%20Hand%20Classification\" target=\"_blank\">Weights & Biases</a> (<a href=\"https://wandb.me/run\" target=\"_blank\">docs</a>)<br/>"
      ],
      "text/plain": [
       "<IPython.core.display.HTML object>"
      ]
     },
     "metadata": {},
     "output_type": "display_data"
    },
    {
     "name": "stdout",
     "output_type": "stream",
     "text": [
      "Epoch 1/5\n",
      "     39/Unknown - 16s 92ms/step - loss: 0.6896 - acc: 0.7566 - precision: 0.7439 - recall: 0.7869 - auc: 0.8748"
     ]
    },
    {
     "name": "stderr",
     "output_type": "stream",
     "text": [
      "\u001b[34m\u001b[1mwandb\u001b[0m: \u001b[32m\u001b[41mERROR\u001b[0m Can't save model in the h5py format. The model will be saved as as an W&B Artifact in the 'tf' format.\n",
      "WARNING:absl:Found untraced functions such as _update_step_xla, dropout_3_layer_call_fn, dropout_3_layer_call_and_return_conditional_losses, add_positional_embedding_layer_call_fn, add_positional_embedding_layer_call_and_return_conditional_losses while saving (showing 5 of 235). These functions will not be directly callable after loading.\n"
     ]
    },
    {
     "name": "stdout",
     "output_type": "stream",
     "text": [
      "INFO:tensorflow:Assets written to: /Users/lafferty/Downloads/relational/wandb/run-20230110_182732-373ckmny/files/model-best/assets\n"
     ]
    },
    {
     "name": "stderr",
     "output_type": "stream",
     "text": [
      "INFO:tensorflow:Assets written to: /Users/lafferty/Downloads/relational/wandb/run-20230110_182732-373ckmny/files/model-best/assets\n",
      "\u001b[34m\u001b[1mwandb\u001b[0m: Adding directory to artifact (/Users/lafferty/Downloads/relational/wandb/run-20230110_182732-373ckmny/files/model-best)... Done. 0.0s\n"
     ]
    },
    {
     "name": "stdout",
     "output_type": "stream",
     "text": [
      "40/40 [==============================] - 31s 472ms/step - loss: 0.6893 - acc: 0.7566 - precision: 0.7439 - recall: 0.7870 - auc: 0.8748\n",
      "Epoch 2/5\n",
      "39/40 [============================>.] - ETA: 0s - loss: 0.1853 - acc: 0.9346 - precision: 0.9282 - recall: 0.9414 - auc: 0.9787"
     ]
    },
    {
     "name": "stderr",
     "output_type": "stream",
     "text": [
      "\u001b[34m\u001b[1mwandb\u001b[0m: \u001b[32m\u001b[41mERROR\u001b[0m Can't save model in the h5py format. The model will be saved as as an W&B Artifact in the 'tf' format.\n",
      "WARNING:absl:Found untraced functions such as _update_step_xla, dropout_3_layer_call_fn, dropout_3_layer_call_and_return_conditional_losses, add_positional_embedding_layer_call_fn, add_positional_embedding_layer_call_and_return_conditional_losses while saving (showing 5 of 235). These functions will not be directly callable after loading.\n"
     ]
    },
    {
     "name": "stdout",
     "output_type": "stream",
     "text": [
      "INFO:tensorflow:Assets written to: /Users/lafferty/Downloads/relational/wandb/run-20230110_182732-373ckmny/files/model-best/assets\n"
     ]
    },
    {
     "name": "stderr",
     "output_type": "stream",
     "text": [
      "INFO:tensorflow:Assets written to: /Users/lafferty/Downloads/relational/wandb/run-20230110_182732-373ckmny/files/model-best/assets\n",
      "\u001b[34m\u001b[1mwandb\u001b[0m: Adding directory to artifact (/Users/lafferty/Downloads/relational/wandb/run-20230110_182732-373ckmny/files/model-best)... Done. 0.0s\n"
     ]
    },
    {
     "name": "stdout",
     "output_type": "stream",
     "text": [
      "40/40 [==============================] - 19s 482ms/step - loss: 0.1850 - acc: 0.9347 - precision: 0.9283 - recall: 0.9415 - auc: 0.9787\n",
      "Epoch 3/5\n",
      "39/40 [============================>.] - ETA: 0s - loss: 0.0580 - acc: 0.9828 - precision: 0.9774 - recall: 0.9887 - auc: 0.9963"
     ]
    },
    {
     "name": "stderr",
     "output_type": "stream",
     "text": [
      "\u001b[34m\u001b[1mwandb\u001b[0m: \u001b[32m\u001b[41mERROR\u001b[0m Can't save model in the h5py format. The model will be saved as as an W&B Artifact in the 'tf' format.\n",
      "WARNING:absl:Found untraced functions such as _update_step_xla, dropout_3_layer_call_fn, dropout_3_layer_call_and_return_conditional_losses, add_positional_embedding_layer_call_fn, add_positional_embedding_layer_call_and_return_conditional_losses while saving (showing 5 of 235). These functions will not be directly callable after loading.\n"
     ]
    },
    {
     "name": "stdout",
     "output_type": "stream",
     "text": [
      "INFO:tensorflow:Assets written to: /Users/lafferty/Downloads/relational/wandb/run-20230110_182732-373ckmny/files/model-best/assets\n"
     ]
    },
    {
     "name": "stderr",
     "output_type": "stream",
     "text": [
      "INFO:tensorflow:Assets written to: /Users/lafferty/Downloads/relational/wandb/run-20230110_182732-373ckmny/files/model-best/assets\n",
      "\u001b[34m\u001b[1mwandb\u001b[0m: Adding directory to artifact (/Users/lafferty/Downloads/relational/wandb/run-20230110_182732-373ckmny/files/model-best)... Done. 0.0s\n"
     ]
    },
    {
     "name": "stdout",
     "output_type": "stream",
     "text": [
      "40/40 [==============================] - 20s 503ms/step - loss: 0.0579 - acc: 0.9828 - precision: 0.9775 - recall: 0.9887 - auc: 0.9963\n",
      "Epoch 4/5\n",
      "39/40 [============================>.] - ETA: 0s - loss: 0.0443 - acc: 0.9871 - precision: 0.9819 - recall: 0.9923 - auc: 0.9970"
     ]
    },
    {
     "name": "stderr",
     "output_type": "stream",
     "text": [
      "\u001b[34m\u001b[1mwandb\u001b[0m: \u001b[32m\u001b[41mERROR\u001b[0m Can't save model in the h5py format. The model will be saved as as an W&B Artifact in the 'tf' format.\n",
      "WARNING:absl:Found untraced functions such as _update_step_xla, dropout_3_layer_call_fn, dropout_3_layer_call_and_return_conditional_losses, add_positional_embedding_layer_call_fn, add_positional_embedding_layer_call_and_return_conditional_losses while saving (showing 5 of 235). These functions will not be directly callable after loading.\n"
     ]
    },
    {
     "name": "stdout",
     "output_type": "stream",
     "text": [
      "INFO:tensorflow:Assets written to: /Users/lafferty/Downloads/relational/wandb/run-20230110_182732-373ckmny/files/model-best/assets\n"
     ]
    },
    {
     "name": "stderr",
     "output_type": "stream",
     "text": [
      "INFO:tensorflow:Assets written to: /Users/lafferty/Downloads/relational/wandb/run-20230110_182732-373ckmny/files/model-best/assets\n",
      "\u001b[34m\u001b[1mwandb\u001b[0m: Adding directory to artifact (/Users/lafferty/Downloads/relational/wandb/run-20230110_182732-373ckmny/files/model-best)... Done. 0.0s\n"
     ]
    },
    {
     "name": "stdout",
     "output_type": "stream",
     "text": [
      "40/40 [==============================] - 19s 472ms/step - loss: 0.0443 - acc: 0.9871 - precision: 0.9819 - recall: 0.9924 - auc: 0.9970\n",
      "Epoch 5/5\n",
      "39/40 [============================>.] - ETA: 0s - loss: 0.0287 - acc: 0.9923 - precision: 0.9891 - recall: 0.9956 - auc: 0.9988"
     ]
    },
    {
     "name": "stderr",
     "output_type": "stream",
     "text": [
      "\u001b[34m\u001b[1mwandb\u001b[0m: \u001b[32m\u001b[41mERROR\u001b[0m Can't save model in the h5py format. The model will be saved as as an W&B Artifact in the 'tf' format.\n",
      "WARNING:absl:Found untraced functions such as _update_step_xla, dropout_3_layer_call_fn, dropout_3_layer_call_and_return_conditional_losses, add_positional_embedding_layer_call_fn, add_positional_embedding_layer_call_and_return_conditional_losses while saving (showing 5 of 235). These functions will not be directly callable after loading.\n"
     ]
    },
    {
     "name": "stdout",
     "output_type": "stream",
     "text": [
      "INFO:tensorflow:Assets written to: /Users/lafferty/Downloads/relational/wandb/run-20230110_182732-373ckmny/files/model-best/assets\n"
     ]
    },
    {
     "name": "stderr",
     "output_type": "stream",
     "text": [
      "INFO:tensorflow:Assets written to: /Users/lafferty/Downloads/relational/wandb/run-20230110_182732-373ckmny/files/model-best/assets\n",
      "\u001b[34m\u001b[1mwandb\u001b[0m: Adding directory to artifact (/Users/lafferty/Downloads/relational/wandb/run-20230110_182732-373ckmny/files/model-best)... Done. 0.0s\n"
     ]
    },
    {
     "name": "stdout",
     "output_type": "stream",
     "text": [
      "\b\b\b\b\b\b\b\b\b\b\b\b\b\b\b\b\b\b\b\b\b\b\b\b\b\b\b\b\b\b\b\b\b\b\b\b\b\b\b\b\b\b\b\b\b\b\b\b\b\b\b\b\b\b\b\b\b\b\b\b\b\b\b\b\b\b\b\b\b\b\b\b\b\b\b\b\b\b\b\b\b\b\b\b\b\b\b\b\b\b\b\b\b\b\b\b\b\b\b\b\b\b\b\b\b\b\b\b\b\b\b\b\b\b\b\b\b\b\b\b\b\b\b\b\b\b\b\b\r",
      "40/40 [==============================] - 20s 497ms/step - loss: 0.0286 - acc: 0.9923 - precision: 0.9891 - recall: 0.9956 - auc: 0.9988\n"
     ]
    }
   ],
   "source": [
    "train_ds = create_tokenized_hand_clf_ds(seed=None)\n",
    "\n",
    "run = wandb.init(project='Abstracter Hand Classification', group='Symbolic Abstracter (Token Inputs)', save_code=True)\n",
    "\n",
    "history = abstracter_model.fit(train_ds.batch(256), epochs=5, callbacks=create_callbacks())"
   ]
  },
  {
   "cell_type": "code",
   "execution_count": 41,
   "metadata": {
    "execution": {
     "iopub.execute_input": "2023-01-03T22:33:25.825162Z",
     "iopub.status.busy": "2023-01-03T22:33:25.824818Z",
     "iopub.status.idle": "2023-01-03T22:33:51.241359Z",
     "shell.execute_reply": "2023-01-03T22:33:51.240386Z"
    },
    "papermill": {
     "duration": 25.539091,
     "end_time": "2023-01-03T22:33:51.243352",
     "exception": false,
     "start_time": "2023-01-03T22:33:25.704261",
     "status": "completed"
    },
    "tags": []
   },
   "outputs": [
    {
     "name": "stdout",
     "output_type": "stream",
     "text": [
      "40/40 [==============================] - 4s 57ms/step - loss: 0.0267 - acc: 0.9936 - precision: 0.9874 - recall: 1.0000 - auc: 0.9982\n",
      "79/79 [==============================] - 4s 30ms/step\n",
      "              precision    recall  f1-score   support\n",
      "\n",
      "         0.0       1.00      0.99      0.99      4991\n",
      "         1.0       0.99      1.00      0.99      5009\n",
      "\n",
      "    accuracy                           0.99     10000\n",
      "   macro avg       0.99      0.99      0.99     10000\n",
      "weighted avg       0.99      0.99      0.99     10000\n",
      "\n"
     ]
    },
    {
     "data": {
      "text/html": [
       "Waiting for W&B process to finish... <strong style=\"color:green\">(success).</strong>"
      ],
      "text/plain": [
       "<IPython.core.display.HTML object>"
      ]
     },
     "metadata": {},
     "output_type": "display_data"
    },
    {
     "data": {
      "text/html": [
       "<style>\n",
       "    table.wandb td:nth-child(1) { padding: 0 10px; text-align: left ; width: auto;} td:nth-child(2) {text-align: left ; width: 100%}\n",
       "    .wandb-row { display: flex; flex-direction: row; flex-wrap: wrap; justify-content: flex-start; width: 100% }\n",
       "    .wandb-col { display: flex; flex-direction: column; flex-basis: 100%; flex: 1; padding: 10px; }\n",
       "    </style>\n",
       "<div class=\"wandb-row\"><div class=\"wandb-col\"><h3>Run history:</h3><br/><table class=\"wandb\"><tr><td>acc</td><td>▁▆███</td></tr><tr><td>auc</td><td>▁▇███</td></tr><tr><td>epoch</td><td>▁▃▅▆█</td></tr><tr><td>loss</td><td>█▃▁▁▁</td></tr><tr><td>precision</td><td>▁▆███</td></tr><tr><td>recall</td><td>▁▆███</td></tr></table><br/></div><div class=\"wandb-col\"><h3>Run summary:</h3><br/><table class=\"wandb\"><tr><td>GFLOPs</td><td>0.0001</td></tr><tr><td>acc</td><td>0.9923</td></tr><tr><td>auc</td><td>0.99879</td></tr><tr><td>best_epoch</td><td>4</td></tr><tr><td>best_loss</td><td>0.02864</td></tr><tr><td>epoch</td><td>4</td></tr><tr><td>loss</td><td>0.02864</td></tr><tr><td>precision</td><td>0.98907</td></tr><tr><td>recall</td><td>0.9956</td></tr></table><br/></div></div>"
      ],
      "text/plain": [
       "<IPython.core.display.HTML object>"
      ]
     },
     "metadata": {},
     "output_type": "display_data"
    },
    {
     "data": {
      "text/html": [
       "Synced <strong style=\"color:#cdcd00\">cerulean-sky-24</strong>: <a href=\"https://wandb.ai/wu-tsai-institute/Abstracter%20Hand%20Classification/runs/373ckmny\" target=\"_blank\">https://wandb.ai/wu-tsai-institute/Abstracter%20Hand%20Classification/runs/373ckmny</a><br/>Synced 7 W&B file(s), 4 media file(s), 24 artifact file(s) and 2 other file(s)"
      ],
      "text/plain": [
       "<IPython.core.display.HTML object>"
      ]
     },
     "metadata": {},
     "output_type": "display_data"
    },
    {
     "data": {
      "text/html": [
       "Find logs at: <code>./wandb/run-20230110_182732-373ckmny/logs</code>"
      ],
      "text/plain": [
       "<IPython.core.display.HTML object>"
      ]
     },
     "metadata": {},
     "output_type": "display_data"
    }
   ],
   "source": [
    "test_ds = create_tokenized_hand_clf_ds(seed=42)\n",
    "abstracter_model.evaluate(test_ds.batch(256), return_dict=True);\n",
    "wrap_run(abstracter_model, test_ds)"
   ]
  },
  {
   "cell_type": "markdown",
   "metadata": {
    "papermill": {
     "duration": 0.111023,
     "end_time": "2023-01-03T22:33:51.468210",
     "exception": false,
     "start_time": "2023-01-03T22:33:51.357187",
     "status": "completed"
    },
    "tags": []
   },
   "source": [
    "### Full Classifier as Card Encoder"
   ]
  },
  {
   "cell_type": "code",
   "execution_count": 42,
   "metadata": {
    "execution": {
     "iopub.execute_input": "2023-01-03T22:33:51.737536Z",
     "iopub.status.busy": "2023-01-03T22:33:51.737154Z",
     "iopub.status.idle": "2023-01-03T22:33:52.733911Z",
     "shell.execute_reply": "2023-01-03T22:33:52.733107Z"
    },
    "papermill": {
     "duration": 1.110457,
     "end_time": "2023-01-03T22:33:52.735850",
     "exception": false,
     "start_time": "2023-01-03T22:33:51.625393",
     "status": "completed"
    },
    "tags": []
   },
   "outputs": [
    {
     "name": "stdout",
     "output_type": "stream",
     "text": [
      "Model: \"abstracter\"\n",
      "_________________________________________________________________\n",
      " Layer (type)                Output Shape              Param #   \n",
      "=================================================================\n",
      " card_image_sequence (InputL  [(None, 7, 178, 122, 3)]  0        \n",
      " ayer)                                                           \n",
      "                                                                 \n",
      " encode_cards (TimeDistribut  (None, 7, 52)            85108     \n",
      " ed)                                                             \n",
      "                                                                 \n",
      " add_pos_embedding (AddPosit  (None, 7, 52)            0         \n",
      " ionalEmbedding)                                                 \n",
      "                                                                 \n",
      " abstracter_encoder (Encoder  (None, 7, 52)            76848     \n",
      " )                                                               \n",
      "                                                                 \n",
      " abstracter_decoder (Symboli  (None, 7, 52)            143512    \n",
      " cDecoder)                                                       \n",
      "                                                                 \n",
      " sequence_avg_pool (GlobalAv  (None, 52)               0         \n",
      " eragePooling1D)                                                 \n",
      "                                                                 \n",
      " dense1 (Dense)              (None, 64)                3392      \n",
      "                                                                 \n",
      " output (Dense)              (None, 2)                 130       \n",
      "                                                                 \n",
      "=================================================================\n",
      "Total params: 308,990\n",
      "Trainable params: 223,882\n",
      "Non-trainable params: 85,108\n",
      "_________________________________________________________________\n"
     ]
    }
   ],
   "source": [
    "inputs = layers.Input(shape=(hand_size,*card_image_shape), name='card_image_sequence')\n",
    "pos_embedding_adder = AddPositionalEmbedding(name='add_pos_embedding')\n",
    "abstracter_encoder = Encoder(num_layers=3, num_heads=2, dff=32, dropout_rate=0.1, name='abstracter_encoder')\n",
    "symbolic = SymbolicDecoder(num_layers=3, num_heads=2, dff=32, use_pos_embedding=True,\n",
    "                                   dropout_rate=0.1, name='abstracter_decoder')\n",
    "\n",
    "\n",
    "x = layers.TimeDistributed(cnn_card_clf, name='encode_cards', trainable=False)(inputs)\n",
    "x = pos_embedding_adder(x)\n",
    "\n",
    "x = abstracter_encoder(x)\n",
    "\n",
    "x = symbolic(x)\n",
    "\n",
    "x = layers.GlobalAveragePooling1D(name='sequence_avg_pool')(x)\n",
    "x = layers.Dense(64, activation='relu', name='dense1')(x) \n",
    "x = layers.Dense(2, activation='softmax', name='output')(x)\n",
    "\n",
    "outputs = x\n",
    "\n",
    "abstracter_model = tf.keras.Model(inputs, outputs, name='abstracter')\n",
    "abstracter_model.summary()\n",
    "\n",
    "abstracter_model.compile(loss=loss, optimizer=tf.keras.optimizers.Adam(learning_rate=0.001), \n",
    "                         metrics=metrics)"
   ]
  },
  {
   "cell_type": "code",
   "execution_count": null,
   "metadata": {
    "execution": {
     "iopub.execute_input": "2023-01-03T22:33:52.964597Z",
     "iopub.status.busy": "2023-01-03T22:33:52.962926Z",
     "iopub.status.idle": "2023-01-03T22:33:53.193794Z",
     "shell.execute_reply": "2023-01-03T22:33:53.192592Z"
    },
    "papermill": {
     "duration": 0.347701,
     "end_time": "2023-01-03T22:33:53.196622",
     "exception": false,
     "start_time": "2023-01-03T22:33:52.848921",
     "status": "completed"
    },
    "tags": []
   },
   "outputs": [],
   "source": [
    "tf.keras.utils.plot_model(abstracter_model)"
   ]
  },
  {
   "cell_type": "code",
   "execution_count": 43,
   "metadata": {
    "execution": {
     "iopub.execute_input": "2023-01-03T22:33:53.428433Z",
     "iopub.status.busy": "2023-01-03T22:33:53.428044Z",
     "iopub.status.idle": "2023-01-03T22:40:37.636720Z",
     "shell.execute_reply": "2023-01-03T22:40:37.635613Z"
    },
    "papermill": {
     "duration": 404.327296,
     "end_time": "2023-01-03T22:40:37.640033",
     "exception": false,
     "start_time": "2023-01-03T22:33:53.312737",
     "status": "completed"
    },
    "tags": []
   },
   "outputs": [
    {
     "data": {
      "text/html": [
       "wandb version 0.13.8 is available!  To upgrade, please run:\n",
       " $ pip install wandb --upgrade"
      ],
      "text/plain": [
       "<IPython.core.display.HTML object>"
      ]
     },
     "metadata": {},
     "output_type": "display_data"
    },
    {
     "data": {
      "text/html": [
       "Tracking run with wandb version 0.13.7"
      ],
      "text/plain": [
       "<IPython.core.display.HTML object>"
      ]
     },
     "metadata": {},
     "output_type": "display_data"
    },
    {
     "data": {
      "text/html": [
       "Run data is saved locally in <code>/Users/lafferty/Downloads/relational/wandb/run-20230110_183132-34m0zy1x</code>"
      ],
      "text/plain": [
       "<IPython.core.display.HTML object>"
      ]
     },
     "metadata": {},
     "output_type": "display_data"
    },
    {
     "data": {
      "text/html": [
       "Syncing run <strong><a href=\"https://wandb.ai/wu-tsai-institute/Abstracter%20Hand%20Classification/runs/34m0zy1x\" target=\"_blank\">whole-galaxy-25</a></strong> to <a href=\"https://wandb.ai/wu-tsai-institute/Abstracter%20Hand%20Classification\" target=\"_blank\">Weights & Biases</a> (<a href=\"https://wandb.me/run\" target=\"_blank\">docs</a>)<br/>"
      ],
      "text/plain": [
       "<IPython.core.display.HTML object>"
      ]
     },
     "metadata": {},
     "output_type": "display_data"
    },
    {
     "name": "stdout",
     "output_type": "stream",
     "text": [
      "Epoch 1/5\n",
      "     40/Unknown - 163s 4s/step - loss: 0.5818 - acc: 0.8296 - precision: 0.8153 - recall: 0.8543 - auc: 0.9332"
     ]
    },
    {
     "name": "stderr",
     "output_type": "stream",
     "text": [
      "\u001b[34m\u001b[1mwandb\u001b[0m: \u001b[32m\u001b[41mERROR\u001b[0m Can't save model in the h5py format. The model will be saved as as an W&B Artifact in the 'tf' format.\n",
      "WARNING:absl:Found untraced functions such as _update_step_xla, dropout_3_layer_call_fn, dropout_3_layer_call_and_return_conditional_losses, add_positional_embedding_layer_call_fn, add_positional_embedding_layer_call_and_return_conditional_losses while saving (showing 5 of 238). These functions will not be directly callable after loading.\n"
     ]
    },
    {
     "name": "stdout",
     "output_type": "stream",
     "text": [
      "INFO:tensorflow:Assets written to: /Users/lafferty/Downloads/relational/wandb/run-20230110_183132-34m0zy1x/files/model-best/assets\n"
     ]
    },
    {
     "name": "stderr",
     "output_type": "stream",
     "text": [
      "INFO:tensorflow:Assets written to: /Users/lafferty/Downloads/relational/wandb/run-20230110_183132-34m0zy1x/files/model-best/assets\n",
      "\u001b[34m\u001b[1mwandb\u001b[0m: Adding directory to artifact (/Users/lafferty/Downloads/relational/wandb/run-20230110_183132-34m0zy1x/files/model-best)... Done. 0.0s\n"
     ]
    },
    {
     "name": "stdout",
     "output_type": "stream",
     "text": [
      "40/40 [==============================] - 180s 4s/step - loss: 0.5818 - acc: 0.8296 - precision: 0.8153 - recall: 0.8543 - auc: 0.9332\n",
      "Epoch 2/5\n",
      "40/40 [==============================] - ETA: 0s - loss: 0.1789 - acc: 0.9357 - precision: 0.9236 - recall: 0.9481 - auc: 0.9781"
     ]
    },
    {
     "name": "stderr",
     "output_type": "stream",
     "text": [
      "\u001b[34m\u001b[1mwandb\u001b[0m: \u001b[32m\u001b[41mERROR\u001b[0m Can't save model in the h5py format. The model will be saved as as an W&B Artifact in the 'tf' format.\n",
      "WARNING:absl:Found untraced functions such as _update_step_xla, dropout_3_layer_call_fn, dropout_3_layer_call_and_return_conditional_losses, add_positional_embedding_layer_call_fn, add_positional_embedding_layer_call_and_return_conditional_losses while saving (showing 5 of 238). These functions will not be directly callable after loading.\n"
     ]
    },
    {
     "name": "stdout",
     "output_type": "stream",
     "text": [
      "INFO:tensorflow:Assets written to: /Users/lafferty/Downloads/relational/wandb/run-20230110_183132-34m0zy1x/files/model-best/assets\n"
     ]
    },
    {
     "name": "stderr",
     "output_type": "stream",
     "text": [
      "INFO:tensorflow:Assets written to: /Users/lafferty/Downloads/relational/wandb/run-20230110_183132-34m0zy1x/files/model-best/assets\n",
      "\u001b[34m\u001b[1mwandb\u001b[0m: Adding directory to artifact (/Users/lafferty/Downloads/relational/wandb/run-20230110_183132-34m0zy1x/files/model-best)... Done. 0.0s\n"
     ]
    },
    {
     "name": "stdout",
     "output_type": "stream",
     "text": [
      "40/40 [==============================] - 164s 4s/step - loss: 0.1789 - acc: 0.9357 - precision: 0.9236 - recall: 0.9481 - auc: 0.9781\n",
      "Epoch 3/5\n",
      "40/40 [==============================] - ETA: 0s - loss: 0.1036 - acc: 0.9643 - precision: 0.9545 - recall: 0.9761 - auc: 0.9915"
     ]
    },
    {
     "name": "stderr",
     "output_type": "stream",
     "text": [
      "\u001b[34m\u001b[1mwandb\u001b[0m: \u001b[32m\u001b[41mERROR\u001b[0m Can't save model in the h5py format. The model will be saved as as an W&B Artifact in the 'tf' format.\n",
      "WARNING:absl:Found untraced functions such as _update_step_xla, dropout_3_layer_call_fn, dropout_3_layer_call_and_return_conditional_losses, add_positional_embedding_layer_call_fn, add_positional_embedding_layer_call_and_return_conditional_losses while saving (showing 5 of 238). These functions will not be directly callable after loading.\n"
     ]
    },
    {
     "name": "stdout",
     "output_type": "stream",
     "text": [
      "INFO:tensorflow:Assets written to: /Users/lafferty/Downloads/relational/wandb/run-20230110_183132-34m0zy1x/files/model-best/assets\n"
     ]
    },
    {
     "name": "stderr",
     "output_type": "stream",
     "text": [
      "INFO:tensorflow:Assets written to: /Users/lafferty/Downloads/relational/wandb/run-20230110_183132-34m0zy1x/files/model-best/assets\n",
      "\u001b[34m\u001b[1mwandb\u001b[0m: Adding directory to artifact (/Users/lafferty/Downloads/relational/wandb/run-20230110_183132-34m0zy1x/files/model-best)... Done. 0.0s\n"
     ]
    },
    {
     "name": "stdout",
     "output_type": "stream",
     "text": [
      "40/40 [==============================] - 166s 4s/step - loss: 0.1036 - acc: 0.9643 - precision: 0.9545 - recall: 0.9761 - auc: 0.9915\n",
      "Epoch 4/5\n",
      "40/40 [==============================] - ETA: 0s - loss: 0.0820 - acc: 0.9726 - precision: 0.9648 - recall: 0.9810 - auc: 0.9942"
     ]
    },
    {
     "name": "stderr",
     "output_type": "stream",
     "text": [
      "\u001b[34m\u001b[1mwandb\u001b[0m: \u001b[32m\u001b[41mERROR\u001b[0m Can't save model in the h5py format. The model will be saved as as an W&B Artifact in the 'tf' format.\n",
      "WARNING:absl:Found untraced functions such as _update_step_xla, dropout_3_layer_call_fn, dropout_3_layer_call_and_return_conditional_losses, add_positional_embedding_layer_call_fn, add_positional_embedding_layer_call_and_return_conditional_losses while saving (showing 5 of 238). These functions will not be directly callable after loading.\n"
     ]
    },
    {
     "name": "stdout",
     "output_type": "stream",
     "text": [
      "INFO:tensorflow:Assets written to: /Users/lafferty/Downloads/relational/wandb/run-20230110_183132-34m0zy1x/files/model-best/assets\n"
     ]
    },
    {
     "name": "stderr",
     "output_type": "stream",
     "text": [
      "INFO:tensorflow:Assets written to: /Users/lafferty/Downloads/relational/wandb/run-20230110_183132-34m0zy1x/files/model-best/assets\n",
      "\u001b[34m\u001b[1mwandb\u001b[0m: Adding directory to artifact (/Users/lafferty/Downloads/relational/wandb/run-20230110_183132-34m0zy1x/files/model-best)... Done. 0.0s\n"
     ]
    },
    {
     "name": "stdout",
     "output_type": "stream",
     "text": [
      "40/40 [==============================] - 161s 4s/step - loss: 0.0820 - acc: 0.9726 - precision: 0.9648 - recall: 0.9810 - auc: 0.9942\n",
      "Epoch 5/5\n",
      "40/40 [==============================] - ETA: 0s - loss: 0.0624 - acc: 0.9804 - precision: 0.9731 - recall: 0.9882 - auc: 0.9959"
     ]
    },
    {
     "name": "stderr",
     "output_type": "stream",
     "text": [
      "\u001b[34m\u001b[1mwandb\u001b[0m: \u001b[32m\u001b[41mERROR\u001b[0m Can't save model in the h5py format. The model will be saved as as an W&B Artifact in the 'tf' format.\n",
      "WARNING:absl:Found untraced functions such as _update_step_xla, dropout_3_layer_call_fn, dropout_3_layer_call_and_return_conditional_losses, add_positional_embedding_layer_call_fn, add_positional_embedding_layer_call_and_return_conditional_losses while saving (showing 5 of 238). These functions will not be directly callable after loading.\n"
     ]
    },
    {
     "name": "stdout",
     "output_type": "stream",
     "text": [
      "INFO:tensorflow:Assets written to: /Users/lafferty/Downloads/relational/wandb/run-20230110_183132-34m0zy1x/files/model-best/assets\n"
     ]
    },
    {
     "name": "stderr",
     "output_type": "stream",
     "text": [
      "INFO:tensorflow:Assets written to: /Users/lafferty/Downloads/relational/wandb/run-20230110_183132-34m0zy1x/files/model-best/assets\n",
      "\u001b[34m\u001b[1mwandb\u001b[0m: Adding directory to artifact (/Users/lafferty/Downloads/relational/wandb/run-20230110_183132-34m0zy1x/files/model-best)... Done. 0.0s\n"
     ]
    },
    {
     "name": "stdout",
     "output_type": "stream",
     "text": [
      "\b\b\b\b\b\b\b\b\b\b\b\b\b\b\b\b\b\b\b\b\b\b\b\b\b\b\b\b\b\b\b\b\b\b\b\b\b\b\b\b\b\b\b\b\b\b\b\b\b\b\b\b\b\b\b\b\b\b\b\b\b\b\b\b\b\b\b\b\b\b\b\b\b\b\b\b\b\b\b\b\b\b\b\b\b\b\b\b\b\b\b\b\b\b\b\b\b\b\b\b\b\b\b\b\b\b\b\b\b\b\b\b\b\b\b\b\b\b\b\b\b\b\b\b\b\b\b\b\r",
      "40/40 [==============================] - 165s 4s/step - loss: 0.0624 - acc: 0.9804 - precision: 0.9731 - recall: 0.9882 - auc: 0.9959\n"
     ]
    }
   ],
   "source": [
    "train_ds = create_img_hand_clf_ds(seed=None)\n",
    "\n",
    "run = wandb.init(project='Abstracter Hand Classification', group='Symbolic Abstracte (Image Input, Full Clf Encoder)', save_code=True)\n",
    "\n",
    "history = abstracter_model.fit(train_ds.batch(256), epochs=5, callbacks=create_callbacks())"
   ]
  },
  {
   "cell_type": "code",
   "execution_count": 44,
   "metadata": {
    "execution": {
     "iopub.execute_input": "2023-01-03T22:40:37.967415Z",
     "iopub.status.busy": "2023-01-03T22:40:37.967031Z",
     "iopub.status.idle": "2023-01-03T22:42:32.817311Z",
     "shell.execute_reply": "2023-01-03T22:42:32.816371Z"
    },
    "papermill": {
     "duration": 115.037798,
     "end_time": "2023-01-03T22:42:32.819446",
     "exception": false,
     "start_time": "2023-01-03T22:40:37.781648",
     "status": "completed"
    },
    "tags": []
   },
   "outputs": [
    {
     "name": "stdout",
     "output_type": "stream",
     "text": [
      "40/40 [==============================] - 145s 4s/step - loss: 0.0610 - acc: 0.9813 - precision: 0.9640 - recall: 1.0000 - auc: 0.9974\n",
      "79/79 [==============================] - 143s 2s/step\n",
      "              precision    recall  f1-score   support\n",
      "\n",
      "         0.0       1.00      0.97      0.98      4991\n",
      "         1.0       0.97      1.00      0.98      5009\n",
      "\n",
      "    accuracy                           0.98     10000\n",
      "   macro avg       0.98      0.98      0.98     10000\n",
      "weighted avg       0.98      0.98      0.98     10000\n",
      "\n"
     ]
    },
    {
     "data": {
      "text/html": [
       "Waiting for W&B process to finish... <strong style=\"color:green\">(success).</strong>"
      ],
      "text/plain": [
       "<IPython.core.display.HTML object>"
      ]
     },
     "metadata": {},
     "output_type": "display_data"
    },
    {
     "data": {
      "text/html": [
       "<style>\n",
       "    table.wandb td:nth-child(1) { padding: 0 10px; text-align: left ; width: auto;} td:nth-child(2) {text-align: left ; width: 100%}\n",
       "    .wandb-row { display: flex; flex-direction: row; flex-wrap: wrap; justify-content: flex-start; width: 100% }\n",
       "    .wandb-col { display: flex; flex-direction: column; flex-basis: 100%; flex: 1; padding: 10px; }\n",
       "    </style>\n",
       "<div class=\"wandb-row\"><div class=\"wandb-col\"><h3>Run history:</h3><br/><table class=\"wandb\"><tr><td>acc</td><td>▁▆▇██</td></tr><tr><td>auc</td><td>▁▆███</td></tr><tr><td>epoch</td><td>▁▃▅▆█</td></tr><tr><td>loss</td><td>█▃▂▁▁</td></tr><tr><td>precision</td><td>▁▆▇██</td></tr><tr><td>recall</td><td>▁▆▇██</td></tr></table><br/></div><div class=\"wandb-col\"><h3>Run summary:</h3><br/><table class=\"wandb\"><tr><td>GFLOPs</td><td>0.52495</td></tr><tr><td>acc</td><td>0.9804</td></tr><tr><td>auc</td><td>0.99593</td></tr><tr><td>best_epoch</td><td>4</td></tr><tr><td>best_loss</td><td>0.06243</td></tr><tr><td>epoch</td><td>4</td></tr><tr><td>loss</td><td>0.06243</td></tr><tr><td>precision</td><td>0.97311</td></tr><tr><td>recall</td><td>0.98824</td></tr></table><br/></div></div>"
      ],
      "text/plain": [
       "<IPython.core.display.HTML object>"
      ]
     },
     "metadata": {},
     "output_type": "display_data"
    },
    {
     "data": {
      "text/html": [
       "Synced <strong style=\"color:#cdcd00\">whole-galaxy-25</strong>: <a href=\"https://wandb.ai/wu-tsai-institute/Abstracter%20Hand%20Classification/runs/34m0zy1x\" target=\"_blank\">https://wandb.ai/wu-tsai-institute/Abstracter%20Hand%20Classification/runs/34m0zy1x</a><br/>Synced 7 W&B file(s), 4 media file(s), 24 artifact file(s) and 2 other file(s)"
      ],
      "text/plain": [
       "<IPython.core.display.HTML object>"
      ]
     },
     "metadata": {},
     "output_type": "display_data"
    },
    {
     "data": {
      "text/html": [
       "Find logs at: <code>./wandb/run-20230110_183132-34m0zy1x/logs</code>"
      ],
      "text/plain": [
       "<IPython.core.display.HTML object>"
      ]
     },
     "metadata": {},
     "output_type": "display_data"
    }
   ],
   "source": [
    "test_ds = create_img_hand_clf_ds(seed=42)\n",
    "abstracter_model.evaluate(test_ds.batch(256), return_dict=True);\n",
    "wrap_run(abstracter_model, test_ds)"
   ]
  },
  {
   "cell_type": "markdown",
   "metadata": {
    "papermill": {
     "duration": 0.125582,
     "end_time": "2023-01-03T22:42:33.073094",
     "exception": false,
     "start_time": "2023-01-03T22:42:32.947512",
     "status": "completed"
    },
    "tags": []
   },
   "source": [
    "### Classifier's Intermediate Encoder as Card Encoder"
   ]
  },
  {
   "cell_type": "code",
   "execution_count": 46,
   "metadata": {
    "execution": {
     "iopub.execute_input": "2023-01-03T22:42:33.328186Z",
     "iopub.status.busy": "2023-01-03T22:42:33.327838Z",
     "iopub.status.idle": "2023-01-03T22:42:34.313040Z",
     "shell.execute_reply": "2023-01-03T22:42:34.310859Z"
    },
    "papermill": {
     "duration": 1.115392,
     "end_time": "2023-01-03T22:42:34.315368",
     "exception": false,
     "start_time": "2023-01-03T22:42:33.199976",
     "status": "completed"
    },
    "tags": []
   },
   "outputs": [
    {
     "name": "stdout",
     "output_type": "stream",
     "text": [
      "Model: \"abstracter\"\n",
      "_________________________________________________________________\n",
      " Layer (type)                Output Shape              Param #   \n",
      "=================================================================\n",
      " card_image_sequence (InputL  [(None, 7, 178, 122, 3)]  0        \n",
      " ayer)                                                           \n",
      "                                                                 \n",
      " encode_cards (TimeDistribut  (None, 7, 32)            83392     \n",
      " ed)                                                             \n",
      "                                                                 \n",
      " add_pos_embedding (AddPosit  (None, 7, 32)            0         \n",
      " ionalEmbedding)                                                 \n",
      "                                                                 \n",
      " abstracter_encoder (Encoder  (None, 7, 32)            31968     \n",
      " )                                                               \n",
      "                                                                 \n",
      " abstracter_decoder (Symboli  (None, 7, 32)            57632     \n",
      " cDecoder)                                                       \n",
      "                                                                 \n",
      " sequence_avg_pool (GlobalAv  (None, 32)               0         \n",
      " eragePooling1D)                                                 \n",
      "                                                                 \n",
      " dense1 (Dense)              (None, 64)                2112      \n",
      "                                                                 \n",
      " output (Dense)              (None, 2)                 130       \n",
      "                                                                 \n",
      "=================================================================\n",
      "Total params: 175,234\n",
      "Trainable params: 91,842\n",
      "Non-trainable params: 83,392\n",
      "_________________________________________________________________\n"
     ]
    }
   ],
   "source": [
    "inputs = layers.Input(shape=(hand_size,*card_image_shape), name='card_image_sequence')\n",
    "pos_embedding_adder = AddPositionalEmbedding(name='add_pos_embedding')\n",
    "abstracter_encoder = Encoder(num_layers=3, num_heads=2, dff=32, dropout_rate=0.1, name='abstracter_encoder')\n",
    "symbolic_decoder = SymbolicDecoder(num_layers=3, num_heads=2, dff=32, use_pos_embedding=True,\n",
    "                                   dropout_rate=0.1, name='abstracter_decoder')\n",
    "\n",
    "\n",
    "x = layers.TimeDistributed(card_encoder, name='encode_cards', trainable=False)(inputs)\n",
    "x = pos_embedding_adder(x)\n",
    "\n",
    "x = abstracter_encoder(x)\n",
    "\n",
    "x = symbolic_decoder(x)\n",
    "\n",
    "x = layers.GlobalAveragePooling1D(name='sequence_avg_pool')(x)\n",
    "x = layers.Dense(64, activation='relu', name='dense1')(x) \n",
    "x = layers.Dense(2, activation='softmax', name='output')(x)\n",
    "\n",
    "outputs = x\n",
    "\n",
    "abstracter_model = tf.keras.Model(inputs, outputs, name='abstracter')\n",
    "abstracter_model.summary()\n",
    "\n",
    "abstracter_model.compile(loss=loss, optimizer=tf.keras.optimizers.Adam(learning_rate=0.001), \n",
    "                         metrics=metrics)"
   ]
  },
  {
   "cell_type": "code",
   "execution_count": null,
   "metadata": {
    "execution": {
     "iopub.execute_input": "2023-01-03T22:42:34.576531Z",
     "iopub.status.busy": "2023-01-03T22:42:34.576138Z",
     "iopub.status.idle": "2023-01-03T22:42:34.796588Z",
     "shell.execute_reply": "2023-01-03T22:42:34.795369Z"
    },
    "papermill": {
     "duration": 0.353975,
     "end_time": "2023-01-03T22:42:34.798955",
     "exception": false,
     "start_time": "2023-01-03T22:42:34.444980",
     "status": "completed"
    },
    "tags": []
   },
   "outputs": [],
   "source": [
    "tf.keras.utils.plot_model(abstracter_model)"
   ]
  },
  {
   "cell_type": "code",
   "execution_count": 47,
   "metadata": {
    "execution": {
     "iopub.execute_input": "2023-01-03T22:42:35.058028Z",
     "iopub.status.busy": "2023-01-03T22:42:35.057652Z",
     "iopub.status.idle": "2023-01-03T22:47:12.498858Z",
     "shell.execute_reply": "2023-01-03T22:47:12.497921Z"
    },
    "papermill": {
     "duration": 277.573744,
     "end_time": "2023-01-03T22:47:12.501602",
     "exception": false,
     "start_time": "2023-01-03T22:42:34.927858",
     "status": "completed"
    },
    "tags": []
   },
   "outputs": [
    {
     "data": {
      "text/html": [
       "wandb version 0.13.8 is available!  To upgrade, please run:\n",
       " $ pip install wandb --upgrade"
      ],
      "text/plain": [
       "<IPython.core.display.HTML object>"
      ]
     },
     "metadata": {},
     "output_type": "display_data"
    },
    {
     "data": {
      "text/html": [
       "Tracking run with wandb version 0.13.7"
      ],
      "text/plain": [
       "<IPython.core.display.HTML object>"
      ]
     },
     "metadata": {},
     "output_type": "display_data"
    },
    {
     "data": {
      "text/html": [
       "Run data is saved locally in <code>/Users/lafferty/Downloads/relational/wandb/run-20230110_185145-qd838l3f</code>"
      ],
      "text/plain": [
       "<IPython.core.display.HTML object>"
      ]
     },
     "metadata": {},
     "output_type": "display_data"
    },
    {
     "data": {
      "text/html": [
       "Syncing run <strong><a href=\"https://wandb.ai/wu-tsai-institute/Abstracter%20Hand%20Classification/runs/qd838l3f\" target=\"_blank\">visionary-rain-26</a></strong> to <a href=\"https://wandb.ai/wu-tsai-institute/Abstracter%20Hand%20Classification\" target=\"_blank\">Weights & Biases</a> (<a href=\"https://wandb.me/run\" target=\"_blank\">docs</a>)<br/>"
      ],
      "text/plain": [
       "<IPython.core.display.HTML object>"
      ]
     },
     "metadata": {},
     "output_type": "display_data"
    },
    {
     "name": "stdout",
     "output_type": "stream",
     "text": [
      "Epoch 1/5\n",
      "     40/Unknown - 156s 4s/step - loss: 0.6781 - acc: 0.7695 - precision: 0.7772 - recall: 0.7512 - auc: 0.8889"
     ]
    },
    {
     "name": "stderr",
     "output_type": "stream",
     "text": [
      "\u001b[34m\u001b[1mwandb\u001b[0m: \u001b[32m\u001b[41mERROR\u001b[0m Can't save model in the h5py format. The model will be saved as as an W&B Artifact in the 'tf' format.\n",
      "WARNING:absl:Found untraced functions such as _update_step_xla, dropout_3_layer_call_fn, dropout_3_layer_call_and_return_conditional_losses, add_positional_embedding_layer_call_fn, add_positional_embedding_layer_call_and_return_conditional_losses while saving (showing 5 of 237). These functions will not be directly callable after loading.\n"
     ]
    },
    {
     "name": "stdout",
     "output_type": "stream",
     "text": [
      "INFO:tensorflow:Assets written to: /Users/lafferty/Downloads/relational/wandb/run-20230110_185145-qd838l3f/files/model-best/assets\n"
     ]
    },
    {
     "name": "stderr",
     "output_type": "stream",
     "text": [
      "INFO:tensorflow:Assets written to: /Users/lafferty/Downloads/relational/wandb/run-20230110_185145-qd838l3f/files/model-best/assets\n",
      "\u001b[34m\u001b[1mwandb\u001b[0m: Adding directory to artifact (/Users/lafferty/Downloads/relational/wandb/run-20230110_185145-qd838l3f/files/model-best)... Done. 0.0s\n"
     ]
    },
    {
     "name": "stdout",
     "output_type": "stream",
     "text": [
      "40/40 [==============================] - 171s 4s/step - loss: 0.6781 - acc: 0.7695 - precision: 0.7772 - recall: 0.7512 - auc: 0.8889\n",
      "Epoch 2/5\n",
      "40/40 [==============================] - ETA: 0s - loss: 0.2930 - acc: 0.8858 - precision: 0.8730 - recall: 0.8982 - auc: 0.9458"
     ]
    },
    {
     "name": "stderr",
     "output_type": "stream",
     "text": [
      "\u001b[34m\u001b[1mwandb\u001b[0m: \u001b[32m\u001b[41mERROR\u001b[0m Can't save model in the h5py format. The model will be saved as as an W&B Artifact in the 'tf' format.\n",
      "WARNING:absl:Found untraced functions such as _update_step_xla, dropout_3_layer_call_fn, dropout_3_layer_call_and_return_conditional_losses, add_positional_embedding_layer_call_fn, add_positional_embedding_layer_call_and_return_conditional_losses while saving (showing 5 of 237). These functions will not be directly callable after loading.\n"
     ]
    },
    {
     "name": "stdout",
     "output_type": "stream",
     "text": [
      "INFO:tensorflow:Assets written to: /Users/lafferty/Downloads/relational/wandb/run-20230110_185145-qd838l3f/files/model-best/assets\n"
     ]
    },
    {
     "name": "stderr",
     "output_type": "stream",
     "text": [
      "INFO:tensorflow:Assets written to: /Users/lafferty/Downloads/relational/wandb/run-20230110_185145-qd838l3f/files/model-best/assets\n",
      "\u001b[34m\u001b[1mwandb\u001b[0m: Adding directory to artifact (/Users/lafferty/Downloads/relational/wandb/run-20230110_185145-qd838l3f/files/model-best)... Done. 0.0s\n"
     ]
    },
    {
     "name": "stdout",
     "output_type": "stream",
     "text": [
      "40/40 [==============================] - 160s 4s/step - loss: 0.2930 - acc: 0.8858 - precision: 0.8730 - recall: 0.8982 - auc: 0.9458\n",
      "Epoch 3/5\n",
      "40/40 [==============================] - ETA: 0s - loss: 0.1584 - acc: 0.9413 - precision: 0.9264 - recall: 0.9591 - auc: 0.9828"
     ]
    },
    {
     "name": "stderr",
     "output_type": "stream",
     "text": [
      "\u001b[34m\u001b[1mwandb\u001b[0m: \u001b[32m\u001b[41mERROR\u001b[0m Can't save model in the h5py format. The model will be saved as as an W&B Artifact in the 'tf' format.\n",
      "WARNING:absl:Found untraced functions such as _update_step_xla, dropout_3_layer_call_fn, dropout_3_layer_call_and_return_conditional_losses, add_positional_embedding_layer_call_fn, add_positional_embedding_layer_call_and_return_conditional_losses while saving (showing 5 of 237). These functions will not be directly callable after loading.\n"
     ]
    },
    {
     "name": "stdout",
     "output_type": "stream",
     "text": [
      "INFO:tensorflow:Assets written to: /Users/lafferty/Downloads/relational/wandb/run-20230110_185145-qd838l3f/files/model-best/assets\n"
     ]
    },
    {
     "name": "stderr",
     "output_type": "stream",
     "text": [
      "INFO:tensorflow:Assets written to: /Users/lafferty/Downloads/relational/wandb/run-20230110_185145-qd838l3f/files/model-best/assets\n",
      "\u001b[34m\u001b[1mwandb\u001b[0m: Adding directory to artifact (/Users/lafferty/Downloads/relational/wandb/run-20230110_185145-qd838l3f/files/model-best)... Done. 0.0s\n"
     ]
    },
    {
     "name": "stdout",
     "output_type": "stream",
     "text": [
      "40/40 [==============================] - 159s 4s/step - loss: 0.1584 - acc: 0.9413 - precision: 0.9264 - recall: 0.9591 - auc: 0.9828\n",
      "Epoch 4/5\n",
      "40/40 [==============================] - ETA: 0s - loss: 0.1035 - acc: 0.9648 - precision: 0.9540 - recall: 0.9766 - auc: 0.9908"
     ]
    },
    {
     "name": "stderr",
     "output_type": "stream",
     "text": [
      "\u001b[34m\u001b[1mwandb\u001b[0m: \u001b[32m\u001b[41mERROR\u001b[0m Can't save model in the h5py format. The model will be saved as as an W&B Artifact in the 'tf' format.\n",
      "WARNING:absl:Found untraced functions such as _update_step_xla, dropout_3_layer_call_fn, dropout_3_layer_call_and_return_conditional_losses, add_positional_embedding_layer_call_fn, add_positional_embedding_layer_call_and_return_conditional_losses while saving (showing 5 of 237). These functions will not be directly callable after loading.\n"
     ]
    },
    {
     "name": "stdout",
     "output_type": "stream",
     "text": [
      "INFO:tensorflow:Assets written to: /Users/lafferty/Downloads/relational/wandb/run-20230110_185145-qd838l3f/files/model-best/assets\n"
     ]
    },
    {
     "name": "stderr",
     "output_type": "stream",
     "text": [
      "INFO:tensorflow:Assets written to: /Users/lafferty/Downloads/relational/wandb/run-20230110_185145-qd838l3f/files/model-best/assets\n",
      "\u001b[34m\u001b[1mwandb\u001b[0m: Adding directory to artifact (/Users/lafferty/Downloads/relational/wandb/run-20230110_185145-qd838l3f/files/model-best)... Done. 0.0s\n"
     ]
    },
    {
     "name": "stdout",
     "output_type": "stream",
     "text": [
      "40/40 [==============================] - 160s 4s/step - loss: 0.1035 - acc: 0.9648 - precision: 0.9540 - recall: 0.9766 - auc: 0.9908\n",
      "Epoch 5/5\n",
      "40/40 [==============================] - ETA: 0s - loss: 0.0810 - acc: 0.9738 - precision: 0.9651 - recall: 0.9838 - auc: 0.9941"
     ]
    },
    {
     "name": "stderr",
     "output_type": "stream",
     "text": [
      "\u001b[34m\u001b[1mwandb\u001b[0m: \u001b[32m\u001b[41mERROR\u001b[0m Can't save model in the h5py format. The model will be saved as as an W&B Artifact in the 'tf' format.\n",
      "WARNING:absl:Found untraced functions such as _update_step_xla, dropout_3_layer_call_fn, dropout_3_layer_call_and_return_conditional_losses, add_positional_embedding_layer_call_fn, add_positional_embedding_layer_call_and_return_conditional_losses while saving (showing 5 of 237). These functions will not be directly callable after loading.\n"
     ]
    },
    {
     "name": "stdout",
     "output_type": "stream",
     "text": [
      "INFO:tensorflow:Assets written to: /Users/lafferty/Downloads/relational/wandb/run-20230110_185145-qd838l3f/files/model-best/assets\n"
     ]
    },
    {
     "name": "stderr",
     "output_type": "stream",
     "text": [
      "INFO:tensorflow:Assets written to: /Users/lafferty/Downloads/relational/wandb/run-20230110_185145-qd838l3f/files/model-best/assets\n",
      "\u001b[34m\u001b[1mwandb\u001b[0m: Adding directory to artifact (/Users/lafferty/Downloads/relational/wandb/run-20230110_185145-qd838l3f/files/model-best)... Done. 0.0s\n"
     ]
    },
    {
     "name": "stdout",
     "output_type": "stream",
     "text": [
      "\b\b\b\b\b\b\b\b\b\b\b\b\b\b\b\b\b\b\b\b\b\b\b\b\b\b\b\b\b\b\b\b\b\b\b\b\b\b\b\b\b\b\b\b\b\b\b\b\b\b\b\b\b\b\b\b\b\b\b\b\b\b\b\b\b\b\b\b\b\b\b\b\b\b\b\b\b\b\b\b\b\b\b\b\b\b\b\b\b\b\b\b\b\b\b\b\b\b\b\b\b\b\b\b\b\b\b\b\b\b\b\b\b\b\b\b\b\b\b\b\b\b\b\b\b\b\b\b\r",
      "40/40 [==============================] - 158s 4s/step - loss: 0.0810 - acc: 0.9738 - precision: 0.9651 - recall: 0.9838 - auc: 0.9941\n"
     ]
    }
   ],
   "source": [
    "train_ds = create_img_hand_clf_ds(seed=None)\n",
    "\n",
    "run = wandb.init(project='Abstracter Hand Classification', group='Symbolic Abstracter (Image Input, Intermediate Encoder)', save_code=True)\n",
    "\n",
    "history = abstracter_model.fit(train_ds.batch(256), epochs=5, callbacks=create_callbacks())"
   ]
  },
  {
   "cell_type": "code",
   "execution_count": 48,
   "metadata": {
    "execution": {
     "iopub.execute_input": "2023-01-03T22:47:12.807521Z",
     "iopub.status.busy": "2023-01-03T22:47:12.807136Z",
     "iopub.status.idle": "2023-01-03T22:49:08.588210Z",
     "shell.execute_reply": "2023-01-03T22:49:08.587317Z"
    },
    "papermill": {
     "duration": 115.933528,
     "end_time": "2023-01-03T22:49:08.590293",
     "exception": false,
     "start_time": "2023-01-03T22:47:12.656765",
     "status": "completed"
    },
    "tags": []
   },
   "outputs": [
    {
     "name": "stdout",
     "output_type": "stream",
     "text": [
      "40/40 [==============================] - 141s 3s/step - loss: 0.0546 - acc: 0.9824 - precision: 0.9662 - recall: 0.9998 - auc: 0.9983\n",
      "79/79 [==============================] - 141s 2s/step\n",
      "              precision    recall  f1-score   support\n",
      "\n",
      "         0.0       1.00      0.97      0.98      4991\n",
      "         1.0       0.97      1.00      0.98      5009\n",
      "\n",
      "    accuracy                           0.98     10000\n",
      "   macro avg       0.98      0.98      0.98     10000\n",
      "weighted avg       0.98      0.98      0.98     10000\n",
      "\n"
     ]
    },
    {
     "data": {
      "text/html": [
       "Waiting for W&B process to finish... <strong style=\"color:green\">(success).</strong>"
      ],
      "text/plain": [
       "<IPython.core.display.HTML object>"
      ]
     },
     "metadata": {},
     "output_type": "display_data"
    },
    {
     "data": {
      "text/html": [
       "<style>\n",
       "    table.wandb td:nth-child(1) { padding: 0 10px; text-align: left ; width: auto;} td:nth-child(2) {text-align: left ; width: 100%}\n",
       "    .wandb-row { display: flex; flex-direction: row; flex-wrap: wrap; justify-content: flex-start; width: 100% }\n",
       "    .wandb-col { display: flex; flex-direction: column; flex-basis: 100%; flex: 1; padding: 10px; }\n",
       "    </style>\n",
       "<div class=\"wandb-row\"><div class=\"wandb-col\"><h3>Run history:</h3><br/><table class=\"wandb\"><tr><td>acc</td><td>▁▅▇██</td></tr><tr><td>auc</td><td>▁▅▇██</td></tr><tr><td>epoch</td><td>▁▃▅▆█</td></tr><tr><td>loss</td><td>█▃▂▁▁</td></tr><tr><td>precision</td><td>▁▅▇██</td></tr><tr><td>recall</td><td>▁▅▇██</td></tr></table><br/></div><div class=\"wandb-col\"><h3>Run summary:</h3><br/><table class=\"wandb\"><tr><td>GFLOPs</td><td>0.52488</td></tr><tr><td>acc</td><td>0.9738</td></tr><tr><td>auc</td><td>0.99407</td></tr><tr><td>best_epoch</td><td>4</td></tr><tr><td>best_loss</td><td>0.08104</td></tr><tr><td>epoch</td><td>4</td></tr><tr><td>loss</td><td>0.08104</td></tr><tr><td>precision</td><td>0.96506</td></tr><tr><td>recall</td><td>0.98377</td></tr></table><br/></div></div>"
      ],
      "text/plain": [
       "<IPython.core.display.HTML object>"
      ]
     },
     "metadata": {},
     "output_type": "display_data"
    },
    {
     "data": {
      "text/html": [
       "Synced <strong style=\"color:#cdcd00\">visionary-rain-26</strong>: <a href=\"https://wandb.ai/wu-tsai-institute/Abstracter%20Hand%20Classification/runs/qd838l3f\" target=\"_blank\">https://wandb.ai/wu-tsai-institute/Abstracter%20Hand%20Classification/runs/qd838l3f</a><br/>Synced 7 W&B file(s), 4 media file(s), 24 artifact file(s) and 2 other file(s)"
      ],
      "text/plain": [
       "<IPython.core.display.HTML object>"
      ]
     },
     "metadata": {},
     "output_type": "display_data"
    },
    {
     "data": {
      "text/html": [
       "Find logs at: <code>./wandb/run-20230110_185145-qd838l3f/logs</code>"
      ],
      "text/plain": [
       "<IPython.core.display.HTML object>"
      ]
     },
     "metadata": {},
     "output_type": "display_data"
    }
   ],
   "source": [
    "test_ds = create_img_hand_clf_ds(seed=42)\n",
    "abstracter_model.evaluate(test_ds.batch(256), return_dict=True);\n",
    "wrap_run(abstracter_model, test_ds)"
   ]
  },
  {
   "cell_type": "code",
   "execution_count": null,
   "metadata": {},
   "outputs": [],
   "source": []
  }
 ],
 "metadata": {
  "kernelspec": {
   "display_name": "Python 3",
   "language": "python",
   "name": "python3"
  },
  "language_info": {
   "codemirror_mode": {
    "name": "ipython",
    "version": 3
   },
   "file_extension": ".py",
   "mimetype": "text/x-python",
   "name": "python",
   "nbconvert_exporter": "python",
   "pygments_lexer": "ipython3",
   "version": "3.8.5"
  },
  "papermill": {
   "default_parameters": {},
   "duration": 2749.074396,
   "end_time": "2023-01-03T22:49:11.970514",
   "environment_variables": {},
   "exception": null,
   "input_path": "__notebook__.ipynb",
   "output_path": "__notebook__.ipynb",
   "parameters": {},
   "start_time": "2023-01-03T22:03:22.896118",
   "version": "2.3.4"
  },
  "widgets": {
   "application/vnd.jupyter.widget-state+json": {
    "state": {
     "04a101b7f18d456cbe2629ef2fd21e54": {
      "model_module": "@jupyter-widgets/base",
      "model_module_version": "1.2.0",
      "model_name": "LayoutModel",
      "state": {
       "_model_module": "@jupyter-widgets/base",
       "_model_module_version": "1.2.0",
       "_model_name": "LayoutModel",
       "_view_count": null,
       "_view_module": "@jupyter-widgets/base",
       "_view_module_version": "1.2.0",
       "_view_name": "LayoutView",
       "align_content": null,
       "align_items": null,
       "align_self": null,
       "border": null,
       "bottom": null,
       "display": null,
       "flex": null,
       "flex_flow": null,
       "grid_area": null,
       "grid_auto_columns": null,
       "grid_auto_flow": null,
       "grid_auto_rows": null,
       "grid_column": null,
       "grid_gap": null,
       "grid_row": null,
       "grid_template_areas": null,
       "grid_template_columns": null,
       "grid_template_rows": null,
       "height": null,
       "justify_content": null,
       "justify_items": null,
       "left": null,
       "margin": null,
       "max_height": null,
       "max_width": null,
       "min_height": null,
       "min_width": null,
       "object_fit": null,
       "object_position": null,
       "order": null,
       "overflow": null,
       "overflow_x": null,
       "overflow_y": null,
       "padding": null,
       "right": null,
       "top": null,
       "visibility": null,
       "width": null
      }
     },
     "0516cc18275747b9afc8c7d49deda4bd": {
      "model_module": "@jupyter-widgets/controls",
      "model_module_version": "1.5.0",
      "model_name": "VBoxModel",
      "state": {
       "_dom_classes": [],
       "_model_module": "@jupyter-widgets/controls",
       "_model_module_version": "1.5.0",
       "_model_name": "VBoxModel",
       "_view_count": null,
       "_view_module": "@jupyter-widgets/controls",
       "_view_module_version": "1.5.0",
       "_view_name": "VBoxView",
       "box_style": "",
       "children": [
        "IPY_MODEL_35f9f20a92734d3b81bacebc3d0e033f",
        "IPY_MODEL_6d70d6a0822a4d98b22d9c9a20feeef6"
       ],
       "layout": "IPY_MODEL_7330b9fbaffd4998856551acfc1c828e"
      }
     },
     "079528227a5e44a5b9ffb03028a1a16b": {
      "model_module": "@jupyter-widgets/controls",
      "model_module_version": "1.5.0",
      "model_name": "ProgressStyleModel",
      "state": {
       "_model_module": "@jupyter-widgets/controls",
       "_model_module_version": "1.5.0",
       "_model_name": "ProgressStyleModel",
       "_view_count": null,
       "_view_module": "@jupyter-widgets/base",
       "_view_module_version": "1.2.0",
       "_view_name": "StyleView",
       "bar_color": null,
       "description_width": ""
      }
     },
     "0d93dedab19a475790d02699a5dae654": {
      "model_module": "@jupyter-widgets/base",
      "model_module_version": "1.2.0",
      "model_name": "LayoutModel",
      "state": {
       "_model_module": "@jupyter-widgets/base",
       "_model_module_version": "1.2.0",
       "_model_name": "LayoutModel",
       "_view_count": null,
       "_view_module": "@jupyter-widgets/base",
       "_view_module_version": "1.2.0",
       "_view_name": "LayoutView",
       "align_content": null,
       "align_items": null,
       "align_self": null,
       "border": null,
       "bottom": null,
       "display": null,
       "flex": null,
       "flex_flow": null,
       "grid_area": null,
       "grid_auto_columns": null,
       "grid_auto_flow": null,
       "grid_auto_rows": null,
       "grid_column": null,
       "grid_gap": null,
       "grid_row": null,
       "grid_template_areas": null,
       "grid_template_columns": null,
       "grid_template_rows": null,
       "height": null,
       "justify_content": null,
       "justify_items": null,
       "left": null,
       "margin": null,
       "max_height": null,
       "max_width": null,
       "min_height": null,
       "min_width": null,
       "object_fit": null,
       "object_position": null,
       "order": null,
       "overflow": null,
       "overflow_x": null,
       "overflow_y": null,
       "padding": null,
       "right": null,
       "top": null,
       "visibility": null,
       "width": null
      }
     },
     "0db4b05e7f914c31aa2c31ee6acdb06e": {
      "model_module": "@jupyter-widgets/controls",
      "model_module_version": "1.5.0",
      "model_name": "DescriptionStyleModel",
      "state": {
       "_model_module": "@jupyter-widgets/controls",
       "_model_module_version": "1.5.0",
       "_model_name": "DescriptionStyleModel",
       "_view_count": null,
       "_view_module": "@jupyter-widgets/base",
       "_view_module_version": "1.2.0",
       "_view_name": "StyleView",
       "description_width": ""
      }
     },
     "10ddc25e63a64094bf0cc7c9eaf73d6e": {
      "model_module": "@jupyter-widgets/controls",
      "model_module_version": "1.5.0",
      "model_name": "DescriptionStyleModel",
      "state": {
       "_model_module": "@jupyter-widgets/controls",
       "_model_module_version": "1.5.0",
       "_model_name": "DescriptionStyleModel",
       "_view_count": null,
       "_view_module": "@jupyter-widgets/base",
       "_view_module_version": "1.2.0",
       "_view_name": "StyleView",
       "description_width": ""
      }
     },
     "1201b997187c40e29ca542bd56c59ed1": {
      "model_module": "@jupyter-widgets/controls",
      "model_module_version": "1.5.0",
      "model_name": "DescriptionStyleModel",
      "state": {
       "_model_module": "@jupyter-widgets/controls",
       "_model_module_version": "1.5.0",
       "_model_name": "DescriptionStyleModel",
       "_view_count": null,
       "_view_module": "@jupyter-widgets/base",
       "_view_module_version": "1.2.0",
       "_view_name": "StyleView",
       "description_width": ""
      }
     },
     "13629bead50d4cee903b5db4e3bf0a6e": {
      "model_module": "@jupyter-widgets/controls",
      "model_module_version": "1.5.0",
      "model_name": "FloatProgressModel",
      "state": {
       "_dom_classes": [],
       "_model_module": "@jupyter-widgets/controls",
       "_model_module_version": "1.5.0",
       "_model_name": "FloatProgressModel",
       "_view_count": null,
       "_view_module": "@jupyter-widgets/controls",
       "_view_module_version": "1.5.0",
       "_view_name": "ProgressView",
       "bar_style": "",
       "description": "",
       "description_tooltip": null,
       "layout": "IPY_MODEL_d44219ebbb234c01b8e66c59b3b17c7e",
       "max": 1,
       "min": 0,
       "orientation": "horizontal",
       "style": "IPY_MODEL_3892a6b4255e4bf49317fcafca8565b0",
       "value": 0
      }
     },
     "144001cfd5754720a053e12451266537": {
      "model_module": "@jupyter-widgets/base",
      "model_module_version": "1.2.0",
      "model_name": "LayoutModel",
      "state": {
       "_model_module": "@jupyter-widgets/base",
       "_model_module_version": "1.2.0",
       "_model_name": "LayoutModel",
       "_view_count": null,
       "_view_module": "@jupyter-widgets/base",
       "_view_module_version": "1.2.0",
       "_view_name": "LayoutView",
       "align_content": null,
       "align_items": null,
       "align_self": null,
       "border": null,
       "bottom": null,
       "display": null,
       "flex": null,
       "flex_flow": null,
       "grid_area": null,
       "grid_auto_columns": null,
       "grid_auto_flow": null,
       "grid_auto_rows": null,
       "grid_column": null,
       "grid_gap": null,
       "grid_row": null,
       "grid_template_areas": null,
       "grid_template_columns": null,
       "grid_template_rows": null,
       "height": null,
       "justify_content": null,
       "justify_items": null,
       "left": null,
       "margin": null,
       "max_height": null,
       "max_width": null,
       "min_height": null,
       "min_width": null,
       "object_fit": null,
       "object_position": null,
       "order": null,
       "overflow": null,
       "overflow_x": null,
       "overflow_y": null,
       "padding": null,
       "right": null,
       "top": null,
       "visibility": null,
       "width": null
      }
     },
     "1783393b4db84feb82fbc4127f23de72": {
      "model_module": "@jupyter-widgets/base",
      "model_module_version": "1.2.0",
      "model_name": "LayoutModel",
      "state": {
       "_model_module": "@jupyter-widgets/base",
       "_model_module_version": "1.2.0",
       "_model_name": "LayoutModel",
       "_view_count": null,
       "_view_module": "@jupyter-widgets/base",
       "_view_module_version": "1.2.0",
       "_view_name": "LayoutView",
       "align_content": null,
       "align_items": null,
       "align_self": null,
       "border": null,
       "bottom": null,
       "display": null,
       "flex": null,
       "flex_flow": null,
       "grid_area": null,
       "grid_auto_columns": null,
       "grid_auto_flow": null,
       "grid_auto_rows": null,
       "grid_column": null,
       "grid_gap": null,
       "grid_row": null,
       "grid_template_areas": null,
       "grid_template_columns": null,
       "grid_template_rows": null,
       "height": null,
       "justify_content": null,
       "justify_items": null,
       "left": null,
       "margin": null,
       "max_height": null,
       "max_width": null,
       "min_height": null,
       "min_width": null,
       "object_fit": null,
       "object_position": null,
       "order": null,
       "overflow": null,
       "overflow_x": null,
       "overflow_y": null,
       "padding": null,
       "right": null,
       "top": null,
       "visibility": null,
       "width": null
      }
     },
     "193df12629fa47bbb29f494fd20e981e": {
      "model_module": "@jupyter-widgets/base",
      "model_module_version": "1.2.0",
      "model_name": "LayoutModel",
      "state": {
       "_model_module": "@jupyter-widgets/base",
       "_model_module_version": "1.2.0",
       "_model_name": "LayoutModel",
       "_view_count": null,
       "_view_module": "@jupyter-widgets/base",
       "_view_module_version": "1.2.0",
       "_view_name": "LayoutView",
       "align_content": null,
       "align_items": null,
       "align_self": null,
       "border": null,
       "bottom": null,
       "display": null,
       "flex": null,
       "flex_flow": null,
       "grid_area": null,
       "grid_auto_columns": null,
       "grid_auto_flow": null,
       "grid_auto_rows": null,
       "grid_column": null,
       "grid_gap": null,
       "grid_row": null,
       "grid_template_areas": null,
       "grid_template_columns": null,
       "grid_template_rows": null,
       "height": null,
       "justify_content": null,
       "justify_items": null,
       "left": null,
       "margin": null,
       "max_height": null,
       "max_width": null,
       "min_height": null,
       "min_width": null,
       "object_fit": null,
       "object_position": null,
       "order": null,
       "overflow": null,
       "overflow_x": null,
       "overflow_y": null,
       "padding": null,
       "right": null,
       "top": null,
       "visibility": null,
       "width": null
      }
     },
     "1d61266a09a6456cbc0a56b7e9970485": {
      "model_module": "@jupyter-widgets/controls",
      "model_module_version": "1.5.0",
      "model_name": "ProgressStyleModel",
      "state": {
       "_model_module": "@jupyter-widgets/controls",
       "_model_module_version": "1.5.0",
       "_model_name": "ProgressStyleModel",
       "_view_count": null,
       "_view_module": "@jupyter-widgets/base",
       "_view_module_version": "1.2.0",
       "_view_name": "StyleView",
       "bar_color": null,
       "description_width": ""
      }
     },
     "1e8e142e9e854aab9a6fe8c503d540f7": {
      "model_module": "@jupyter-widgets/base",
      "model_module_version": "1.2.0",
      "model_name": "LayoutModel",
      "state": {
       "_model_module": "@jupyter-widgets/base",
       "_model_module_version": "1.2.0",
       "_model_name": "LayoutModel",
       "_view_count": null,
       "_view_module": "@jupyter-widgets/base",
       "_view_module_version": "1.2.0",
       "_view_name": "LayoutView",
       "align_content": null,
       "align_items": null,
       "align_self": null,
       "border": null,
       "bottom": null,
       "display": null,
       "flex": null,
       "flex_flow": null,
       "grid_area": null,
       "grid_auto_columns": null,
       "grid_auto_flow": null,
       "grid_auto_rows": null,
       "grid_column": null,
       "grid_gap": null,
       "grid_row": null,
       "grid_template_areas": null,
       "grid_template_columns": null,
       "grid_template_rows": null,
       "height": null,
       "justify_content": null,
       "justify_items": null,
       "left": null,
       "margin": null,
       "max_height": null,
       "max_width": null,
       "min_height": null,
       "min_width": null,
       "object_fit": null,
       "object_position": null,
       "order": null,
       "overflow": null,
       "overflow_x": null,
       "overflow_y": null,
       "padding": null,
       "right": null,
       "top": null,
       "visibility": null,
       "width": null
      }
     },
     "1fa0464f8cd34c6f8766976bdd18d1ee": {
      "model_module": "@jupyter-widgets/base",
      "model_module_version": "1.2.0",
      "model_name": "LayoutModel",
      "state": {
       "_model_module": "@jupyter-widgets/base",
       "_model_module_version": "1.2.0",
       "_model_name": "LayoutModel",
       "_view_count": null,
       "_view_module": "@jupyter-widgets/base",
       "_view_module_version": "1.2.0",
       "_view_name": "LayoutView",
       "align_content": null,
       "align_items": null,
       "align_self": null,
       "border": null,
       "bottom": null,
       "display": null,
       "flex": null,
       "flex_flow": null,
       "grid_area": null,
       "grid_auto_columns": null,
       "grid_auto_flow": null,
       "grid_auto_rows": null,
       "grid_column": null,
       "grid_gap": null,
       "grid_row": null,
       "grid_template_areas": null,
       "grid_template_columns": null,
       "grid_template_rows": null,
       "height": null,
       "justify_content": null,
       "justify_items": null,
       "left": null,
       "margin": null,
       "max_height": null,
       "max_width": null,
       "min_height": null,
       "min_width": null,
       "object_fit": null,
       "object_position": null,
       "order": null,
       "overflow": null,
       "overflow_x": null,
       "overflow_y": null,
       "padding": null,
       "right": null,
       "top": null,
       "visibility": null,
       "width": null
      }
     },
     "201a5898fdf34648aa15d97a98fe126c": {
      "model_module": "@jupyter-widgets/base",
      "model_module_version": "1.2.0",
      "model_name": "LayoutModel",
      "state": {
       "_model_module": "@jupyter-widgets/base",
       "_model_module_version": "1.2.0",
       "_model_name": "LayoutModel",
       "_view_count": null,
       "_view_module": "@jupyter-widgets/base",
       "_view_module_version": "1.2.0",
       "_view_name": "LayoutView",
       "align_content": null,
       "align_items": null,
       "align_self": null,
       "border": null,
       "bottom": null,
       "display": null,
       "flex": null,
       "flex_flow": null,
       "grid_area": null,
       "grid_auto_columns": null,
       "grid_auto_flow": null,
       "grid_auto_rows": null,
       "grid_column": null,
       "grid_gap": null,
       "grid_row": null,
       "grid_template_areas": null,
       "grid_template_columns": null,
       "grid_template_rows": null,
       "height": null,
       "justify_content": null,
       "justify_items": null,
       "left": null,
       "margin": null,
       "max_height": null,
       "max_width": null,
       "min_height": null,
       "min_width": null,
       "object_fit": null,
       "object_position": null,
       "order": null,
       "overflow": null,
       "overflow_x": null,
       "overflow_y": null,
       "padding": null,
       "right": null,
       "top": null,
       "visibility": null,
       "width": null
      }
     },
     "2237bcdd0bc04f9e8df99dc5b9ee2a69": {
      "model_module": "@jupyter-widgets/controls",
      "model_module_version": "1.5.0",
      "model_name": "VBoxModel",
      "state": {
       "_dom_classes": [],
       "_model_module": "@jupyter-widgets/controls",
       "_model_module_version": "1.5.0",
       "_model_name": "VBoxModel",
       "_view_count": null,
       "_view_module": "@jupyter-widgets/controls",
       "_view_module_version": "1.5.0",
       "_view_name": "VBoxView",
       "box_style": "",
       "children": [
        "IPY_MODEL_487a5cee99384a8cba273929486c9421",
        "IPY_MODEL_6dbab791abef4d34a2e5344f4be06159"
       ],
       "layout": "IPY_MODEL_8fd71d919b744be1a49738f87d6d9474"
      }
     },
     "23292ed0f5554f52ba78c4220954b83d": {
      "model_module": "@jupyter-widgets/base",
      "model_module_version": "1.2.0",
      "model_name": "LayoutModel",
      "state": {
       "_model_module": "@jupyter-widgets/base",
       "_model_module_version": "1.2.0",
       "_model_name": "LayoutModel",
       "_view_count": null,
       "_view_module": "@jupyter-widgets/base",
       "_view_module_version": "1.2.0",
       "_view_name": "LayoutView",
       "align_content": null,
       "align_items": null,
       "align_self": null,
       "border": null,
       "bottom": null,
       "display": null,
       "flex": null,
       "flex_flow": null,
       "grid_area": null,
       "grid_auto_columns": null,
       "grid_auto_flow": null,
       "grid_auto_rows": null,
       "grid_column": null,
       "grid_gap": null,
       "grid_row": null,
       "grid_template_areas": null,
       "grid_template_columns": null,
       "grid_template_rows": null,
       "height": null,
       "justify_content": null,
       "justify_items": null,
       "left": null,
       "margin": null,
       "max_height": null,
       "max_width": null,
       "min_height": null,
       "min_width": null,
       "object_fit": null,
       "object_position": null,
       "order": null,
       "overflow": null,
       "overflow_x": null,
       "overflow_y": null,
       "padding": null,
       "right": null,
       "top": null,
       "visibility": null,
       "width": null
      }
     },
     "24c5ad850adf4847836fbcb51b12eb87": {
      "model_module": "@jupyter-widgets/controls",
      "model_module_version": "1.5.0",
      "model_name": "LabelModel",
      "state": {
       "_dom_classes": [],
       "_model_module": "@jupyter-widgets/controls",
       "_model_module_version": "1.5.0",
       "_model_name": "LabelModel",
       "_view_count": null,
       "_view_module": "@jupyter-widgets/controls",
       "_view_module_version": "1.5.0",
       "_view_name": "LabelView",
       "description": "",
       "description_tooltip": null,
       "layout": "IPY_MODEL_5a1cb234b0fd4bea83a75c2bac65da27",
       "placeholder": "​",
       "style": "IPY_MODEL_59c4ce53d1594b58b87e877e2372e24e",
       "value": ""
      }
     },
     "26efeb34ef6841ac9b1860986e46d01b": {
      "model_module": "@jupyter-widgets/controls",
      "model_module_version": "1.5.0",
      "model_name": "FloatProgressModel",
      "state": {
       "_dom_classes": [],
       "_model_module": "@jupyter-widgets/controls",
       "_model_module_version": "1.5.0",
       "_model_name": "FloatProgressModel",
       "_view_count": null,
       "_view_module": "@jupyter-widgets/controls",
       "_view_module_version": "1.5.0",
       "_view_name": "ProgressView",
       "bar_style": "",
       "description": "",
       "description_tooltip": null,
       "layout": "IPY_MODEL_34c677f5cd074573bd06889825e450c9",
       "max": 1,
       "min": 0,
       "orientation": "horizontal",
       "style": "IPY_MODEL_610900e228824b728eae23da64473225",
       "value": 1
      }
     },
     "28717bba427642acb3ac474f5628c6a4": {
      "model_module": "@jupyter-widgets/controls",
      "model_module_version": "1.5.0",
      "model_name": "DescriptionStyleModel",
      "state": {
       "_model_module": "@jupyter-widgets/controls",
       "_model_module_version": "1.5.0",
       "_model_name": "DescriptionStyleModel",
       "_view_count": null,
       "_view_module": "@jupyter-widgets/base",
       "_view_module_version": "1.2.0",
       "_view_name": "StyleView",
       "description_width": ""
      }
     },
     "29ae363b6c0d4094b729b85b1be617d0": {
      "model_module": "@jupyter-widgets/controls",
      "model_module_version": "1.5.0",
      "model_name": "DescriptionStyleModel",
      "state": {
       "_model_module": "@jupyter-widgets/controls",
       "_model_module_version": "1.5.0",
       "_model_name": "DescriptionStyleModel",
       "_view_count": null,
       "_view_module": "@jupyter-widgets/base",
       "_view_module_version": "1.2.0",
       "_view_name": "StyleView",
       "description_width": ""
      }
     },
     "2e001301a79442dd94e9320b060dad12": {
      "model_module": "@jupyter-widgets/controls",
      "model_module_version": "1.5.0",
      "model_name": "LabelModel",
      "state": {
       "_dom_classes": [],
       "_model_module": "@jupyter-widgets/controls",
       "_model_module_version": "1.5.0",
       "_model_name": "LabelModel",
       "_view_count": null,
       "_view_module": "@jupyter-widgets/controls",
       "_view_module_version": "1.5.0",
       "_view_name": "LabelView",
       "description": "",
       "description_tooltip": null,
       "layout": "IPY_MODEL_04a101b7f18d456cbe2629ef2fd21e54",
       "placeholder": "​",
       "style": "IPY_MODEL_c50fde7d96c04e3492ea872bae9af6c0",
       "value": "0.176 MB of 0.176 MB uploaded (0.034 MB deduped)\r"
      }
     },
     "3308cd662fb54156ba70a82830b62e50": {
      "model_module": "@jupyter-widgets/controls",
      "model_module_version": "1.5.0",
      "model_name": "LabelModel",
      "state": {
       "_dom_classes": [],
       "_model_module": "@jupyter-widgets/controls",
       "_model_module_version": "1.5.0",
       "_model_name": "LabelModel",
       "_view_count": null,
       "_view_module": "@jupyter-widgets/controls",
       "_view_module_version": "1.5.0",
       "_view_name": "LabelView",
       "description": "",
       "description_tooltip": null,
       "layout": "IPY_MODEL_789fd9a3bcf64d02b0de66188aa3fbdb",
       "placeholder": "​",
       "style": "IPY_MODEL_6e1804ab138c4703aba15cd01124a940",
       "value": "52.370 MB of 52.370 MB uploaded (0.189 MB deduped)\r"
      }
     },
     "34c677f5cd074573bd06889825e450c9": {
      "model_module": "@jupyter-widgets/base",
      "model_module_version": "1.2.0",
      "model_name": "LayoutModel",
      "state": {
       "_model_module": "@jupyter-widgets/base",
       "_model_module_version": "1.2.0",
       "_model_name": "LayoutModel",
       "_view_count": null,
       "_view_module": "@jupyter-widgets/base",
       "_view_module_version": "1.2.0",
       "_view_name": "LayoutView",
       "align_content": null,
       "align_items": null,
       "align_self": null,
       "border": null,
       "bottom": null,
       "display": null,
       "flex": null,
       "flex_flow": null,
       "grid_area": null,
       "grid_auto_columns": null,
       "grid_auto_flow": null,
       "grid_auto_rows": null,
       "grid_column": null,
       "grid_gap": null,
       "grid_row": null,
       "grid_template_areas": null,
       "grid_template_columns": null,
       "grid_template_rows": null,
       "height": null,
       "justify_content": null,
       "justify_items": null,
       "left": null,
       "margin": null,
       "max_height": null,
       "max_width": null,
       "min_height": null,
       "min_width": null,
       "object_fit": null,
       "object_position": null,
       "order": null,
       "overflow": null,
       "overflow_x": null,
       "overflow_y": null,
       "padding": null,
       "right": null,
       "top": null,
       "visibility": null,
       "width": null
      }
     },
     "34eb2b977d154b2d94c1546c374179a4": {
      "model_module": "@jupyter-widgets/controls",
      "model_module_version": "1.5.0",
      "model_name": "DescriptionStyleModel",
      "state": {
       "_model_module": "@jupyter-widgets/controls",
       "_model_module_version": "1.5.0",
       "_model_name": "DescriptionStyleModel",
       "_view_count": null,
       "_view_module": "@jupyter-widgets/base",
       "_view_module_version": "1.2.0",
       "_view_name": "StyleView",
       "description_width": ""
      }
     },
     "35f9f20a92734d3b81bacebc3d0e033f": {
      "model_module": "@jupyter-widgets/controls",
      "model_module_version": "1.5.0",
      "model_name": "LabelModel",
      "state": {
       "_dom_classes": [],
       "_model_module": "@jupyter-widgets/controls",
       "_model_module_version": "1.5.0",
       "_model_name": "LabelModel",
       "_view_count": null,
       "_view_module": "@jupyter-widgets/controls",
       "_view_module_version": "1.5.0",
       "_view_name": "LabelView",
       "description": "",
       "description_tooltip": null,
       "layout": "IPY_MODEL_dc6a37e49f994a96bfa22d22beebf29b",
       "placeholder": "​",
       "style": "IPY_MODEL_f3360b7a7503477494c2e6adcf0a835f",
       "value": ""
      }
     },
     "36db5df0e7d24cb3bfb0be91e9666eb0": {
      "model_module": "@jupyter-widgets/controls",
      "model_module_version": "1.5.0",
      "model_name": "FloatProgressModel",
      "state": {
       "_dom_classes": [],
       "_model_module": "@jupyter-widgets/controls",
       "_model_module_version": "1.5.0",
       "_model_name": "FloatProgressModel",
       "_view_count": null,
       "_view_module": "@jupyter-widgets/controls",
       "_view_module_version": "1.5.0",
       "_view_name": "ProgressView",
       "bar_style": "",
       "description": "",
       "description_tooltip": null,
       "layout": "IPY_MODEL_84c8e95454914333a7ded8cfc26c77ff",
       "max": 1,
       "min": 0,
       "orientation": "horizontal",
       "style": "IPY_MODEL_98c54a37be67444ab7c1fc9bdcd4e843",
       "value": 1
      }
     },
     "3892a6b4255e4bf49317fcafca8565b0": {
      "model_module": "@jupyter-widgets/controls",
      "model_module_version": "1.5.0",
      "model_name": "ProgressStyleModel",
      "state": {
       "_model_module": "@jupyter-widgets/controls",
       "_model_module_version": "1.5.0",
       "_model_name": "ProgressStyleModel",
       "_view_count": null,
       "_view_module": "@jupyter-widgets/base",
       "_view_module_version": "1.2.0",
       "_view_name": "StyleView",
       "bar_color": null,
       "description_width": ""
      }
     },
     "39d75118f5494e21a7f2c85672f444de": {
      "model_module": "@jupyter-widgets/base",
      "model_module_version": "1.2.0",
      "model_name": "LayoutModel",
      "state": {
       "_model_module": "@jupyter-widgets/base",
       "_model_module_version": "1.2.0",
       "_model_name": "LayoutModel",
       "_view_count": null,
       "_view_module": "@jupyter-widgets/base",
       "_view_module_version": "1.2.0",
       "_view_name": "LayoutView",
       "align_content": null,
       "align_items": null,
       "align_self": null,
       "border": null,
       "bottom": null,
       "display": null,
       "flex": null,
       "flex_flow": null,
       "grid_area": null,
       "grid_auto_columns": null,
       "grid_auto_flow": null,
       "grid_auto_rows": null,
       "grid_column": null,
       "grid_gap": null,
       "grid_row": null,
       "grid_template_areas": null,
       "grid_template_columns": null,
       "grid_template_rows": null,
       "height": null,
       "justify_content": null,
       "justify_items": null,
       "left": null,
       "margin": null,
       "max_height": null,
       "max_width": null,
       "min_height": null,
       "min_width": null,
       "object_fit": null,
       "object_position": null,
       "order": null,
       "overflow": null,
       "overflow_x": null,
       "overflow_y": null,
       "padding": null,
       "right": null,
       "top": null,
       "visibility": null,
       "width": null
      }
     },
     "3b3c4b3411634be795be00a0c56d1aee": {
      "model_module": "@jupyter-widgets/controls",
      "model_module_version": "1.5.0",
      "model_name": "VBoxModel",
      "state": {
       "_dom_classes": [],
       "_model_module": "@jupyter-widgets/controls",
       "_model_module_version": "1.5.0",
       "_model_name": "VBoxModel",
       "_view_count": null,
       "_view_module": "@jupyter-widgets/controls",
       "_view_module_version": "1.5.0",
       "_view_name": "VBoxView",
       "box_style": "",
       "children": [
        "IPY_MODEL_910fb8fd44ec434398ebbdd129a8f0ce",
        "IPY_MODEL_d41271af174446f9a6854a5572df54c1"
       ],
       "layout": "IPY_MODEL_5cf8844048d14e129f04a06ec51fa56a"
      }
     },
     "41131fa74b5542b88e821a910b3c7954": {
      "model_module": "@jupyter-widgets/base",
      "model_module_version": "1.2.0",
      "model_name": "LayoutModel",
      "state": {
       "_model_module": "@jupyter-widgets/base",
       "_model_module_version": "1.2.0",
       "_model_name": "LayoutModel",
       "_view_count": null,
       "_view_module": "@jupyter-widgets/base",
       "_view_module_version": "1.2.0",
       "_view_name": "LayoutView",
       "align_content": null,
       "align_items": null,
       "align_self": null,
       "border": null,
       "bottom": null,
       "display": null,
       "flex": null,
       "flex_flow": null,
       "grid_area": null,
       "grid_auto_columns": null,
       "grid_auto_flow": null,
       "grid_auto_rows": null,
       "grid_column": null,
       "grid_gap": null,
       "grid_row": null,
       "grid_template_areas": null,
       "grid_template_columns": null,
       "grid_template_rows": null,
       "height": null,
       "justify_content": null,
       "justify_items": null,
       "left": null,
       "margin": null,
       "max_height": null,
       "max_width": null,
       "min_height": null,
       "min_width": null,
       "object_fit": null,
       "object_position": null,
       "order": null,
       "overflow": null,
       "overflow_x": null,
       "overflow_y": null,
       "padding": null,
       "right": null,
       "top": null,
       "visibility": null,
       "width": null
      }
     },
     "42931cc821384ffba853ae1642428e6c": {
      "model_module": "@jupyter-widgets/controls",
      "model_module_version": "1.5.0",
      "model_name": "VBoxModel",
      "state": {
       "_dom_classes": [],
       "_model_module": "@jupyter-widgets/controls",
       "_model_module_version": "1.5.0",
       "_model_name": "VBoxModel",
       "_view_count": null,
       "_view_module": "@jupyter-widgets/controls",
       "_view_module_version": "1.5.0",
       "_view_name": "VBoxView",
       "box_style": "",
       "children": [
        "IPY_MODEL_bad34e3235c147959532bd54b7a1f525",
        "IPY_MODEL_13629bead50d4cee903b5db4e3bf0a6e"
       ],
       "layout": "IPY_MODEL_0d93dedab19a475790d02699a5dae654"
      }
     },
     "46ad4ac1c2e2461f931cf01558854eb3": {
      "model_module": "@jupyter-widgets/controls",
      "model_module_version": "1.5.0",
      "model_name": "ProgressStyleModel",
      "state": {
       "_model_module": "@jupyter-widgets/controls",
       "_model_module_version": "1.5.0",
       "_model_name": "ProgressStyleModel",
       "_view_count": null,
       "_view_module": "@jupyter-widgets/base",
       "_view_module_version": "1.2.0",
       "_view_name": "StyleView",
       "bar_color": null,
       "description_width": ""
      }
     },
     "487a5cee99384a8cba273929486c9421": {
      "model_module": "@jupyter-widgets/controls",
      "model_module_version": "1.5.0",
      "model_name": "LabelModel",
      "state": {
       "_dom_classes": [],
       "_model_module": "@jupyter-widgets/controls",
       "_model_module_version": "1.5.0",
       "_model_name": "LabelModel",
       "_view_count": null,
       "_view_module": "@jupyter-widgets/controls",
       "_view_module_version": "1.5.0",
       "_view_name": "LabelView",
       "description": "",
       "description_tooltip": null,
       "layout": "IPY_MODEL_39d75118f5494e21a7f2c85672f444de",
       "placeholder": "​",
       "style": "IPY_MODEL_0db4b05e7f914c31aa2c31ee6acdb06e",
       "value": ""
      }
     },
     "489078df7acc4f9ab12229560bfa0d61": {
      "model_module": "@jupyter-widgets/controls",
      "model_module_version": "1.5.0",
      "model_name": "VBoxModel",
      "state": {
       "_dom_classes": [],
       "_model_module": "@jupyter-widgets/controls",
       "_model_module_version": "1.5.0",
       "_model_name": "VBoxModel",
       "_view_count": null,
       "_view_module": "@jupyter-widgets/controls",
       "_view_module_version": "1.5.0",
       "_view_name": "VBoxView",
       "box_style": "",
       "children": [
        "IPY_MODEL_3308cd662fb54156ba70a82830b62e50",
        "IPY_MODEL_36db5df0e7d24cb3bfb0be91e9666eb0"
       ],
       "layout": "IPY_MODEL_6684ffe9f3cc446e8bf99e676dc5cfdf"
      }
     },
     "48a0c98cf63c4b449534643e1b3954b7": {
      "model_module": "@jupyter-widgets/base",
      "model_module_version": "1.2.0",
      "model_name": "LayoutModel",
      "state": {
       "_model_module": "@jupyter-widgets/base",
       "_model_module_version": "1.2.0",
       "_model_name": "LayoutModel",
       "_view_count": null,
       "_view_module": "@jupyter-widgets/base",
       "_view_module_version": "1.2.0",
       "_view_name": "LayoutView",
       "align_content": null,
       "align_items": null,
       "align_self": null,
       "border": null,
       "bottom": null,
       "display": null,
       "flex": null,
       "flex_flow": null,
       "grid_area": null,
       "grid_auto_columns": null,
       "grid_auto_flow": null,
       "grid_auto_rows": null,
       "grid_column": null,
       "grid_gap": null,
       "grid_row": null,
       "grid_template_areas": null,
       "grid_template_columns": null,
       "grid_template_rows": null,
       "height": null,
       "justify_content": null,
       "justify_items": null,
       "left": null,
       "margin": null,
       "max_height": null,
       "max_width": null,
       "min_height": null,
       "min_width": null,
       "object_fit": null,
       "object_position": null,
       "order": null,
       "overflow": null,
       "overflow_x": null,
       "overflow_y": null,
       "padding": null,
       "right": null,
       "top": null,
       "visibility": null,
       "width": null
      }
     },
     "4c45ac4ec0114d3b94f9e650ec52a97a": {
      "model_module": "@jupyter-widgets/base",
      "model_module_version": "1.2.0",
      "model_name": "LayoutModel",
      "state": {
       "_model_module": "@jupyter-widgets/base",
       "_model_module_version": "1.2.0",
       "_model_name": "LayoutModel",
       "_view_count": null,
       "_view_module": "@jupyter-widgets/base",
       "_view_module_version": "1.2.0",
       "_view_name": "LayoutView",
       "align_content": null,
       "align_items": null,
       "align_self": null,
       "border": null,
       "bottom": null,
       "display": null,
       "flex": null,
       "flex_flow": null,
       "grid_area": null,
       "grid_auto_columns": null,
       "grid_auto_flow": null,
       "grid_auto_rows": null,
       "grid_column": null,
       "grid_gap": null,
       "grid_row": null,
       "grid_template_areas": null,
       "grid_template_columns": null,
       "grid_template_rows": null,
       "height": null,
       "justify_content": null,
       "justify_items": null,
       "left": null,
       "margin": null,
       "max_height": null,
       "max_width": null,
       "min_height": null,
       "min_width": null,
       "object_fit": null,
       "object_position": null,
       "order": null,
       "overflow": null,
       "overflow_x": null,
       "overflow_y": null,
       "padding": null,
       "right": null,
       "top": null,
       "visibility": null,
       "width": null
      }
     },
     "5538fe5737474b07bbeb65d30e96694e": {
      "model_module": "@jupyter-widgets/base",
      "model_module_version": "1.2.0",
      "model_name": "LayoutModel",
      "state": {
       "_model_module": "@jupyter-widgets/base",
       "_model_module_version": "1.2.0",
       "_model_name": "LayoutModel",
       "_view_count": null,
       "_view_module": "@jupyter-widgets/base",
       "_view_module_version": "1.2.0",
       "_view_name": "LayoutView",
       "align_content": null,
       "align_items": null,
       "align_self": null,
       "border": null,
       "bottom": null,
       "display": null,
       "flex": null,
       "flex_flow": null,
       "grid_area": null,
       "grid_auto_columns": null,
       "grid_auto_flow": null,
       "grid_auto_rows": null,
       "grid_column": null,
       "grid_gap": null,
       "grid_row": null,
       "grid_template_areas": null,
       "grid_template_columns": null,
       "grid_template_rows": null,
       "height": null,
       "justify_content": null,
       "justify_items": null,
       "left": null,
       "margin": null,
       "max_height": null,
       "max_width": null,
       "min_height": null,
       "min_width": null,
       "object_fit": null,
       "object_position": null,
       "order": null,
       "overflow": null,
       "overflow_x": null,
       "overflow_y": null,
       "padding": null,
       "right": null,
       "top": null,
       "visibility": null,
       "width": null
      }
     },
     "553d81e8cf654ad1b2abda0bf5713d6c": {
      "model_module": "@jupyter-widgets/controls",
      "model_module_version": "1.5.0",
      "model_name": "DescriptionStyleModel",
      "state": {
       "_model_module": "@jupyter-widgets/controls",
       "_model_module_version": "1.5.0",
       "_model_name": "DescriptionStyleModel",
       "_view_count": null,
       "_view_module": "@jupyter-widgets/base",
       "_view_module_version": "1.2.0",
       "_view_name": "StyleView",
       "description_width": ""
      }
     },
     "562c05f4302f4f8aa0aeff615f74b01a": {
      "model_module": "@jupyter-widgets/base",
      "model_module_version": "1.2.0",
      "model_name": "LayoutModel",
      "state": {
       "_model_module": "@jupyter-widgets/base",
       "_model_module_version": "1.2.0",
       "_model_name": "LayoutModel",
       "_view_count": null,
       "_view_module": "@jupyter-widgets/base",
       "_view_module_version": "1.2.0",
       "_view_name": "LayoutView",
       "align_content": null,
       "align_items": null,
       "align_self": null,
       "border": null,
       "bottom": null,
       "display": null,
       "flex": null,
       "flex_flow": null,
       "grid_area": null,
       "grid_auto_columns": null,
       "grid_auto_flow": null,
       "grid_auto_rows": null,
       "grid_column": null,
       "grid_gap": null,
       "grid_row": null,
       "grid_template_areas": null,
       "grid_template_columns": null,
       "grid_template_rows": null,
       "height": null,
       "justify_content": null,
       "justify_items": null,
       "left": null,
       "margin": null,
       "max_height": null,
       "max_width": null,
       "min_height": null,
       "min_width": null,
       "object_fit": null,
       "object_position": null,
       "order": null,
       "overflow": null,
       "overflow_x": null,
       "overflow_y": null,
       "padding": null,
       "right": null,
       "top": null,
       "visibility": null,
       "width": null
      }
     },
     "57653961d8af4cbabee2e9c4353644d0": {
      "model_module": "@jupyter-widgets/controls",
      "model_module_version": "1.5.0",
      "model_name": "ProgressStyleModel",
      "state": {
       "_model_module": "@jupyter-widgets/controls",
       "_model_module_version": "1.5.0",
       "_model_name": "ProgressStyleModel",
       "_view_count": null,
       "_view_module": "@jupyter-widgets/base",
       "_view_module_version": "1.2.0",
       "_view_name": "StyleView",
       "bar_color": null,
       "description_width": ""
      }
     },
     "59c4ce53d1594b58b87e877e2372e24e": {
      "model_module": "@jupyter-widgets/controls",
      "model_module_version": "1.5.0",
      "model_name": "DescriptionStyleModel",
      "state": {
       "_model_module": "@jupyter-widgets/controls",
       "_model_module_version": "1.5.0",
       "_model_name": "DescriptionStyleModel",
       "_view_count": null,
       "_view_module": "@jupyter-widgets/base",
       "_view_module_version": "1.2.0",
       "_view_name": "StyleView",
       "description_width": ""
      }
     },
     "59ec4cf1c48545d78589b24f4819b32c": {
      "model_module": "@jupyter-widgets/controls",
      "model_module_version": "1.5.0",
      "model_name": "LabelModel",
      "state": {
       "_dom_classes": [],
       "_model_module": "@jupyter-widgets/controls",
       "_model_module_version": "1.5.0",
       "_model_name": "LabelModel",
       "_view_count": null,
       "_view_module": "@jupyter-widgets/controls",
       "_view_module_version": "1.5.0",
       "_view_name": "LabelView",
       "description": "",
       "description_tooltip": null,
       "layout": "IPY_MODEL_e591cf2b916749a7acec57a67b0ba8a0",
       "placeholder": "​",
       "style": "IPY_MODEL_29ae363b6c0d4094b729b85b1be617d0",
       "value": "0.174 MB of 0.174 MB uploaded (0.034 MB deduped)\r"
      }
     },
     "5a1cb234b0fd4bea83a75c2bac65da27": {
      "model_module": "@jupyter-widgets/base",
      "model_module_version": "1.2.0",
      "model_name": "LayoutModel",
      "state": {
       "_model_module": "@jupyter-widgets/base",
       "_model_module_version": "1.2.0",
       "_model_name": "LayoutModel",
       "_view_count": null,
       "_view_module": "@jupyter-widgets/base",
       "_view_module_version": "1.2.0",
       "_view_name": "LayoutView",
       "align_content": null,
       "align_items": null,
       "align_self": null,
       "border": null,
       "bottom": null,
       "display": null,
       "flex": null,
       "flex_flow": null,
       "grid_area": null,
       "grid_auto_columns": null,
       "grid_auto_flow": null,
       "grid_auto_rows": null,
       "grid_column": null,
       "grid_gap": null,
       "grid_row": null,
       "grid_template_areas": null,
       "grid_template_columns": null,
       "grid_template_rows": null,
       "height": null,
       "justify_content": null,
       "justify_items": null,
       "left": null,
       "margin": null,
       "max_height": null,
       "max_width": null,
       "min_height": null,
       "min_width": null,
       "object_fit": null,
       "object_position": null,
       "order": null,
       "overflow": null,
       "overflow_x": null,
       "overflow_y": null,
       "padding": null,
       "right": null,
       "top": null,
       "visibility": null,
       "width": null
      }
     },
     "5cf8844048d14e129f04a06ec51fa56a": {
      "model_module": "@jupyter-widgets/base",
      "model_module_version": "1.2.0",
      "model_name": "LayoutModel",
      "state": {
       "_model_module": "@jupyter-widgets/base",
       "_model_module_version": "1.2.0",
       "_model_name": "LayoutModel",
       "_view_count": null,
       "_view_module": "@jupyter-widgets/base",
       "_view_module_version": "1.2.0",
       "_view_name": "LayoutView",
       "align_content": null,
       "align_items": null,
       "align_self": null,
       "border": null,
       "bottom": null,
       "display": null,
       "flex": null,
       "flex_flow": null,
       "grid_area": null,
       "grid_auto_columns": null,
       "grid_auto_flow": null,
       "grid_auto_rows": null,
       "grid_column": null,
       "grid_gap": null,
       "grid_row": null,
       "grid_template_areas": null,
       "grid_template_columns": null,
       "grid_template_rows": null,
       "height": null,
       "justify_content": null,
       "justify_items": null,
       "left": null,
       "margin": null,
       "max_height": null,
       "max_width": null,
       "min_height": null,
       "min_width": null,
       "object_fit": null,
       "object_position": null,
       "order": null,
       "overflow": null,
       "overflow_x": null,
       "overflow_y": null,
       "padding": null,
       "right": null,
       "top": null,
       "visibility": null,
       "width": null
      }
     },
     "5e3b5a8e424744aaa363d97e5bc55792": {
      "model_module": "@jupyter-widgets/base",
      "model_module_version": "1.2.0",
      "model_name": "LayoutModel",
      "state": {
       "_model_module": "@jupyter-widgets/base",
       "_model_module_version": "1.2.0",
       "_model_name": "LayoutModel",
       "_view_count": null,
       "_view_module": "@jupyter-widgets/base",
       "_view_module_version": "1.2.0",
       "_view_name": "LayoutView",
       "align_content": null,
       "align_items": null,
       "align_self": null,
       "border": null,
       "bottom": null,
       "display": null,
       "flex": null,
       "flex_flow": null,
       "grid_area": null,
       "grid_auto_columns": null,
       "grid_auto_flow": null,
       "grid_auto_rows": null,
       "grid_column": null,
       "grid_gap": null,
       "grid_row": null,
       "grid_template_areas": null,
       "grid_template_columns": null,
       "grid_template_rows": null,
       "height": null,
       "justify_content": null,
       "justify_items": null,
       "left": null,
       "margin": null,
       "max_height": null,
       "max_width": null,
       "min_height": null,
       "min_width": null,
       "object_fit": null,
       "object_position": null,
       "order": null,
       "overflow": null,
       "overflow_x": null,
       "overflow_y": null,
       "padding": null,
       "right": null,
       "top": null,
       "visibility": null,
       "width": null
      }
     },
     "605e840029994d2b988abfee6f7732d3": {
      "model_module": "@jupyter-widgets/controls",
      "model_module_version": "1.5.0",
      "model_name": "VBoxModel",
      "state": {
       "_dom_classes": [],
       "_model_module": "@jupyter-widgets/controls",
       "_model_module_version": "1.5.0",
       "_model_name": "VBoxModel",
       "_view_count": null,
       "_view_module": "@jupyter-widgets/controls",
       "_view_module_version": "1.5.0",
       "_view_name": "VBoxView",
       "box_style": "",
       "children": [
        "IPY_MODEL_59ec4cf1c48545d78589b24f4819b32c",
        "IPY_MODEL_8858c63f18c1473eac5fdf55ae62c388"
       ],
       "layout": "IPY_MODEL_1e8e142e9e854aab9a6fe8c503d540f7"
      }
     },
     "610900e228824b728eae23da64473225": {
      "model_module": "@jupyter-widgets/controls",
      "model_module_version": "1.5.0",
      "model_name": "ProgressStyleModel",
      "state": {
       "_model_module": "@jupyter-widgets/controls",
       "_model_module_version": "1.5.0",
       "_model_name": "ProgressStyleModel",
       "_view_count": null,
       "_view_module": "@jupyter-widgets/base",
       "_view_module_version": "1.2.0",
       "_view_name": "StyleView",
       "bar_color": null,
       "description_width": ""
      }
     },
     "652735d001654cc4830620e172714df1": {
      "model_module": "@jupyter-widgets/base",
      "model_module_version": "1.2.0",
      "model_name": "LayoutModel",
      "state": {
       "_model_module": "@jupyter-widgets/base",
       "_model_module_version": "1.2.0",
       "_model_name": "LayoutModel",
       "_view_count": null,
       "_view_module": "@jupyter-widgets/base",
       "_view_module_version": "1.2.0",
       "_view_name": "LayoutView",
       "align_content": null,
       "align_items": null,
       "align_self": null,
       "border": null,
       "bottom": null,
       "display": null,
       "flex": null,
       "flex_flow": null,
       "grid_area": null,
       "grid_auto_columns": null,
       "grid_auto_flow": null,
       "grid_auto_rows": null,
       "grid_column": null,
       "grid_gap": null,
       "grid_row": null,
       "grid_template_areas": null,
       "grid_template_columns": null,
       "grid_template_rows": null,
       "height": null,
       "justify_content": null,
       "justify_items": null,
       "left": null,
       "margin": null,
       "max_height": null,
       "max_width": null,
       "min_height": null,
       "min_width": null,
       "object_fit": null,
       "object_position": null,
       "order": null,
       "overflow": null,
       "overflow_x": null,
       "overflow_y": null,
       "padding": null,
       "right": null,
       "top": null,
       "visibility": null,
       "width": null
      }
     },
     "6684ffe9f3cc446e8bf99e676dc5cfdf": {
      "model_module": "@jupyter-widgets/base",
      "model_module_version": "1.2.0",
      "model_name": "LayoutModel",
      "state": {
       "_model_module": "@jupyter-widgets/base",
       "_model_module_version": "1.2.0",
       "_model_name": "LayoutModel",
       "_view_count": null,
       "_view_module": "@jupyter-widgets/base",
       "_view_module_version": "1.2.0",
       "_view_name": "LayoutView",
       "align_content": null,
       "align_items": null,
       "align_self": null,
       "border": null,
       "bottom": null,
       "display": null,
       "flex": null,
       "flex_flow": null,
       "grid_area": null,
       "grid_auto_columns": null,
       "grid_auto_flow": null,
       "grid_auto_rows": null,
       "grid_column": null,
       "grid_gap": null,
       "grid_row": null,
       "grid_template_areas": null,
       "grid_template_columns": null,
       "grid_template_rows": null,
       "height": null,
       "justify_content": null,
       "justify_items": null,
       "left": null,
       "margin": null,
       "max_height": null,
       "max_width": null,
       "min_height": null,
       "min_width": null,
       "object_fit": null,
       "object_position": null,
       "order": null,
       "overflow": null,
       "overflow_x": null,
       "overflow_y": null,
       "padding": null,
       "right": null,
       "top": null,
       "visibility": null,
       "width": null
      }
     },
     "684fc3d2dde440f5a5d350dbe15c71cb": {
      "model_module": "@jupyter-widgets/controls",
      "model_module_version": "1.5.0",
      "model_name": "LabelModel",
      "state": {
       "_dom_classes": [],
       "_model_module": "@jupyter-widgets/controls",
       "_model_module_version": "1.5.0",
       "_model_name": "LabelModel",
       "_view_count": null,
       "_view_module": "@jupyter-widgets/controls",
       "_view_module_version": "1.5.0",
       "_view_name": "LabelView",
       "description": "",
       "description_tooltip": null,
       "layout": "IPY_MODEL_ed912e48e4cf4230a52ac7ef118ff72f",
       "placeholder": "​",
       "style": "IPY_MODEL_d5f5e4a5fddf4fe089f7739ba7ee864c",
       "value": ""
      }
     },
     "69b869eeb42945ce97ee6af11b39aa5a": {
      "model_module": "@jupyter-widgets/controls",
      "model_module_version": "1.5.0",
      "model_name": "LabelModel",
      "state": {
       "_dom_classes": [],
       "_model_module": "@jupyter-widgets/controls",
       "_model_module_version": "1.5.0",
       "_model_name": "LabelModel",
       "_view_count": null,
       "_view_module": "@jupyter-widgets/controls",
       "_view_module_version": "1.5.0",
       "_view_name": "LabelView",
       "description": "",
       "description_tooltip": null,
       "layout": "IPY_MODEL_41131fa74b5542b88e821a910b3c7954",
       "placeholder": "​",
       "style": "IPY_MODEL_34eb2b977d154b2d94c1546c374179a4",
       "value": ""
      }
     },
     "69cb7d7cc7104362b3be82d09486bd68": {
      "model_module": "@jupyter-widgets/controls",
      "model_module_version": "1.5.0",
      "model_name": "DescriptionStyleModel",
      "state": {
       "_model_module": "@jupyter-widgets/controls",
       "_model_module_version": "1.5.0",
       "_model_name": "DescriptionStyleModel",
       "_view_count": null,
       "_view_module": "@jupyter-widgets/base",
       "_view_module_version": "1.2.0",
       "_view_name": "StyleView",
       "description_width": ""
      }
     },
     "6c609e081ef6488fb23398425e2a4413": {
      "model_module": "@jupyter-widgets/controls",
      "model_module_version": "1.5.0",
      "model_name": "LabelModel",
      "state": {
       "_dom_classes": [],
       "_model_module": "@jupyter-widgets/controls",
       "_model_module_version": "1.5.0",
       "_model_name": "LabelModel",
       "_view_count": null,
       "_view_module": "@jupyter-widgets/controls",
       "_view_module_version": "1.5.0",
       "_view_name": "LabelView",
       "description": "",
       "description_tooltip": null,
       "layout": "IPY_MODEL_b7d9cb019ebb40cd92b8f6fe3f1c97eb",
       "placeholder": "​",
       "style": "IPY_MODEL_553d81e8cf654ad1b2abda0bf5713d6c",
       "value": "53.679 MB of 53.679 MB uploaded (0.176 MB deduped)\r"
      }
     },
     "6d70d6a0822a4d98b22d9c9a20feeef6": {
      "model_module": "@jupyter-widgets/controls",
      "model_module_version": "1.5.0",
      "model_name": "FloatProgressModel",
      "state": {
       "_dom_classes": [],
       "_model_module": "@jupyter-widgets/controls",
       "_model_module_version": "1.5.0",
       "_model_name": "FloatProgressModel",
       "_view_count": null,
       "_view_module": "@jupyter-widgets/controls",
       "_view_module_version": "1.5.0",
       "_view_name": "ProgressView",
       "bar_style": "",
       "description": "",
       "description_tooltip": null,
       "layout": "IPY_MODEL_ad2d41cce3594ad4b597ceae319997ac",
       "max": 1,
       "min": 0,
       "orientation": "horizontal",
       "style": "IPY_MODEL_e0db3957e20a439985fc13d82fcb38d0",
       "value": 0
      }
     },
     "6dbab791abef4d34a2e5344f4be06159": {
      "model_module": "@jupyter-widgets/controls",
      "model_module_version": "1.5.0",
      "model_name": "FloatProgressModel",
      "state": {
       "_dom_classes": [],
       "_model_module": "@jupyter-widgets/controls",
       "_model_module_version": "1.5.0",
       "_model_name": "FloatProgressModel",
       "_view_count": null,
       "_view_module": "@jupyter-widgets/controls",
       "_view_module_version": "1.5.0",
       "_view_name": "ProgressView",
       "bar_style": "",
       "description": "",
       "description_tooltip": null,
       "layout": "IPY_MODEL_b418ef0f70034cbfa419e9db045a8129",
       "max": 1,
       "min": 0,
       "orientation": "horizontal",
       "style": "IPY_MODEL_d2768e3fc26343e3888f103a406188a5",
       "value": 0
      }
     },
     "6e1804ab138c4703aba15cd01124a940": {
      "model_module": "@jupyter-widgets/controls",
      "model_module_version": "1.5.0",
      "model_name": "DescriptionStyleModel",
      "state": {
       "_model_module": "@jupyter-widgets/controls",
       "_model_module_version": "1.5.0",
       "_model_name": "DescriptionStyleModel",
       "_view_count": null,
       "_view_module": "@jupyter-widgets/base",
       "_view_module_version": "1.2.0",
       "_view_name": "StyleView",
       "description_width": ""
      }
     },
     "706468a0201f49a098d20117415ffd4f": {
      "model_module": "@jupyter-widgets/controls",
      "model_module_version": "1.5.0",
      "model_name": "FloatProgressModel",
      "state": {
       "_dom_classes": [],
       "_model_module": "@jupyter-widgets/controls",
       "_model_module_version": "1.5.0",
       "_model_name": "FloatProgressModel",
       "_view_count": null,
       "_view_module": "@jupyter-widgets/controls",
       "_view_module_version": "1.5.0",
       "_view_name": "ProgressView",
       "bar_style": "",
       "description": "",
       "description_tooltip": null,
       "layout": "IPY_MODEL_ebaa9235ee134b53b8ec70e1f3d7582f",
       "max": 1,
       "min": 0,
       "orientation": "horizontal",
       "style": "IPY_MODEL_079528227a5e44a5b9ffb03028a1a16b",
       "value": 1
      }
     },
     "70855a5bde2b40729a231a07809cadf9": {
      "model_module": "@jupyter-widgets/base",
      "model_module_version": "1.2.0",
      "model_name": "LayoutModel",
      "state": {
       "_model_module": "@jupyter-widgets/base",
       "_model_module_version": "1.2.0",
       "_model_name": "LayoutModel",
       "_view_count": null,
       "_view_module": "@jupyter-widgets/base",
       "_view_module_version": "1.2.0",
       "_view_name": "LayoutView",
       "align_content": null,
       "align_items": null,
       "align_self": null,
       "border": null,
       "bottom": null,
       "display": null,
       "flex": null,
       "flex_flow": null,
       "grid_area": null,
       "grid_auto_columns": null,
       "grid_auto_flow": null,
       "grid_auto_rows": null,
       "grid_column": null,
       "grid_gap": null,
       "grid_row": null,
       "grid_template_areas": null,
       "grid_template_columns": null,
       "grid_template_rows": null,
       "height": null,
       "justify_content": null,
       "justify_items": null,
       "left": null,
       "margin": null,
       "max_height": null,
       "max_width": null,
       "min_height": null,
       "min_width": null,
       "object_fit": null,
       "object_position": null,
       "order": null,
       "overflow": null,
       "overflow_x": null,
       "overflow_y": null,
       "padding": null,
       "right": null,
       "top": null,
       "visibility": null,
       "width": null
      }
     },
     "7330b9fbaffd4998856551acfc1c828e": {
      "model_module": "@jupyter-widgets/base",
      "model_module_version": "1.2.0",
      "model_name": "LayoutModel",
      "state": {
       "_model_module": "@jupyter-widgets/base",
       "_model_module_version": "1.2.0",
       "_model_name": "LayoutModel",
       "_view_count": null,
       "_view_module": "@jupyter-widgets/base",
       "_view_module_version": "1.2.0",
       "_view_name": "LayoutView",
       "align_content": null,
       "align_items": null,
       "align_self": null,
       "border": null,
       "bottom": null,
       "display": null,
       "flex": null,
       "flex_flow": null,
       "grid_area": null,
       "grid_auto_columns": null,
       "grid_auto_flow": null,
       "grid_auto_rows": null,
       "grid_column": null,
       "grid_gap": null,
       "grid_row": null,
       "grid_template_areas": null,
       "grid_template_columns": null,
       "grid_template_rows": null,
       "height": null,
       "justify_content": null,
       "justify_items": null,
       "left": null,
       "margin": null,
       "max_height": null,
       "max_width": null,
       "min_height": null,
       "min_width": null,
       "object_fit": null,
       "object_position": null,
       "order": null,
       "overflow": null,
       "overflow_x": null,
       "overflow_y": null,
       "padding": null,
       "right": null,
       "top": null,
       "visibility": null,
       "width": null
      }
     },
     "74f25cb958f3486da57bff79c724168b": {
      "model_module": "@jupyter-widgets/controls",
      "model_module_version": "1.5.0",
      "model_name": "LabelModel",
      "state": {
       "_dom_classes": [],
       "_model_module": "@jupyter-widgets/controls",
       "_model_module_version": "1.5.0",
       "_model_name": "LabelModel",
       "_view_count": null,
       "_view_module": "@jupyter-widgets/controls",
       "_view_module_version": "1.5.0",
       "_view_name": "LabelView",
       "description": "",
       "description_tooltip": null,
       "layout": "IPY_MODEL_5538fe5737474b07bbeb65d30e96694e",
       "placeholder": "​",
       "style": "IPY_MODEL_79879b63dd884413bdcb9a3adf3c2eda",
       "value": ""
      }
     },
     "7826ba7f325647e99ce323f1ccfb3166": {
      "model_module": "@jupyter-widgets/base",
      "model_module_version": "1.2.0",
      "model_name": "LayoutModel",
      "state": {
       "_model_module": "@jupyter-widgets/base",
       "_model_module_version": "1.2.0",
       "_model_name": "LayoutModel",
       "_view_count": null,
       "_view_module": "@jupyter-widgets/base",
       "_view_module_version": "1.2.0",
       "_view_name": "LayoutView",
       "align_content": null,
       "align_items": null,
       "align_self": null,
       "border": null,
       "bottom": null,
       "display": null,
       "flex": null,
       "flex_flow": null,
       "grid_area": null,
       "grid_auto_columns": null,
       "grid_auto_flow": null,
       "grid_auto_rows": null,
       "grid_column": null,
       "grid_gap": null,
       "grid_row": null,
       "grid_template_areas": null,
       "grid_template_columns": null,
       "grid_template_rows": null,
       "height": null,
       "justify_content": null,
       "justify_items": null,
       "left": null,
       "margin": null,
       "max_height": null,
       "max_width": null,
       "min_height": null,
       "min_width": null,
       "object_fit": null,
       "object_position": null,
       "order": null,
       "overflow": null,
       "overflow_x": null,
       "overflow_y": null,
       "padding": null,
       "right": null,
       "top": null,
       "visibility": null,
       "width": null
      }
     },
     "789fd9a3bcf64d02b0de66188aa3fbdb": {
      "model_module": "@jupyter-widgets/base",
      "model_module_version": "1.2.0",
      "model_name": "LayoutModel",
      "state": {
       "_model_module": "@jupyter-widgets/base",
       "_model_module_version": "1.2.0",
       "_model_name": "LayoutModel",
       "_view_count": null,
       "_view_module": "@jupyter-widgets/base",
       "_view_module_version": "1.2.0",
       "_view_name": "LayoutView",
       "align_content": null,
       "align_items": null,
       "align_self": null,
       "border": null,
       "bottom": null,
       "display": null,
       "flex": null,
       "flex_flow": null,
       "grid_area": null,
       "grid_auto_columns": null,
       "grid_auto_flow": null,
       "grid_auto_rows": null,
       "grid_column": null,
       "grid_gap": null,
       "grid_row": null,
       "grid_template_areas": null,
       "grid_template_columns": null,
       "grid_template_rows": null,
       "height": null,
       "justify_content": null,
       "justify_items": null,
       "left": null,
       "margin": null,
       "max_height": null,
       "max_width": null,
       "min_height": null,
       "min_width": null,
       "object_fit": null,
       "object_position": null,
       "order": null,
       "overflow": null,
       "overflow_x": null,
       "overflow_y": null,
       "padding": null,
       "right": null,
       "top": null,
       "visibility": null,
       "width": null
      }
     },
     "790e7527d89849faba9271a4823ee207": {
      "model_module": "@jupyter-widgets/controls",
      "model_module_version": "1.5.0",
      "model_name": "LabelModel",
      "state": {
       "_dom_classes": [],
       "_model_module": "@jupyter-widgets/controls",
       "_model_module_version": "1.5.0",
       "_model_name": "LabelModel",
       "_view_count": null,
       "_view_module": "@jupyter-widgets/controls",
       "_view_module_version": "1.5.0",
       "_view_name": "LabelView",
       "description": "",
       "description_tooltip": null,
       "layout": "IPY_MODEL_144001cfd5754720a053e12451266537",
       "placeholder": "​",
       "style": "IPY_MODEL_1201b997187c40e29ca542bd56c59ed1",
       "value": "53.631 MB of 53.631 MB uploaded (0.176 MB deduped)\r"
      }
     },
     "79879b63dd884413bdcb9a3adf3c2eda": {
      "model_module": "@jupyter-widgets/controls",
      "model_module_version": "1.5.0",
      "model_name": "DescriptionStyleModel",
      "state": {
       "_model_module": "@jupyter-widgets/controls",
       "_model_module_version": "1.5.0",
       "_model_name": "DescriptionStyleModel",
       "_view_count": null,
       "_view_module": "@jupyter-widgets/base",
       "_view_module_version": "1.2.0",
       "_view_name": "StyleView",
       "description_width": ""
      }
     },
     "7a19a143733641f0bbd6df2f490298ae": {
      "model_module": "@jupyter-widgets/controls",
      "model_module_version": "1.5.0",
      "model_name": "VBoxModel",
      "state": {
       "_dom_classes": [],
       "_model_module": "@jupyter-widgets/controls",
       "_model_module_version": "1.5.0",
       "_model_name": "VBoxModel",
       "_view_count": null,
       "_view_module": "@jupyter-widgets/controls",
       "_view_module_version": "1.5.0",
       "_view_name": "VBoxView",
       "box_style": "",
       "children": [
        "IPY_MODEL_6c609e081ef6488fb23398425e2a4413",
        "IPY_MODEL_26efeb34ef6841ac9b1860986e46d01b"
       ],
       "layout": "IPY_MODEL_201a5898fdf34648aa15d97a98fe126c"
      }
     },
     "7a99baa9879e490aa0364fc7017cd640": {
      "model_module": "@jupyter-widgets/controls",
      "model_module_version": "1.5.0",
      "model_name": "LabelModel",
      "state": {
       "_dom_classes": [],
       "_model_module": "@jupyter-widgets/controls",
       "_model_module_version": "1.5.0",
       "_model_name": "LabelModel",
       "_view_count": null,
       "_view_module": "@jupyter-widgets/controls",
       "_view_module_version": "1.5.0",
       "_view_name": "LabelView",
       "description": "",
       "description_tooltip": null,
       "layout": "IPY_MODEL_e8c30d83c26b478fa038443704458bde",
       "placeholder": "​",
       "style": "IPY_MODEL_a41ceb5456f246c09dc0c0915b4bab60",
       "value": ""
      }
     },
     "7c8454d25167416b80642b85d80f1261": {
      "model_module": "@jupyter-widgets/controls",
      "model_module_version": "1.5.0",
      "model_name": "VBoxModel",
      "state": {
       "_dom_classes": [],
       "_model_module": "@jupyter-widgets/controls",
       "_model_module_version": "1.5.0",
       "_model_name": "VBoxModel",
       "_view_count": null,
       "_view_module": "@jupyter-widgets/controls",
       "_view_module_version": "1.5.0",
       "_view_name": "VBoxView",
       "box_style": "",
       "children": [
        "IPY_MODEL_f77937de81db4a25a7b0b0893a62fb3c",
        "IPY_MODEL_9f9dcf388ff942348987382d3ff92af7"
       ],
       "layout": "IPY_MODEL_e539f0f628ed4ec48099f3ec04ffb91e"
      }
     },
     "8237c86be6684ceb8d4e3ec765cec7f3": {
      "model_module": "@jupyter-widgets/base",
      "model_module_version": "1.2.0",
      "model_name": "LayoutModel",
      "state": {
       "_model_module": "@jupyter-widgets/base",
       "_model_module_version": "1.2.0",
       "_model_name": "LayoutModel",
       "_view_count": null,
       "_view_module": "@jupyter-widgets/base",
       "_view_module_version": "1.2.0",
       "_view_name": "LayoutView",
       "align_content": null,
       "align_items": null,
       "align_self": null,
       "border": null,
       "bottom": null,
       "display": null,
       "flex": null,
       "flex_flow": null,
       "grid_area": null,
       "grid_auto_columns": null,
       "grid_auto_flow": null,
       "grid_auto_rows": null,
       "grid_column": null,
       "grid_gap": null,
       "grid_row": null,
       "grid_template_areas": null,
       "grid_template_columns": null,
       "grid_template_rows": null,
       "height": null,
       "justify_content": null,
       "justify_items": null,
       "left": null,
       "margin": null,
       "max_height": null,
       "max_width": null,
       "min_height": null,
       "min_width": null,
       "object_fit": null,
       "object_position": null,
       "order": null,
       "overflow": null,
       "overflow_x": null,
       "overflow_y": null,
       "padding": null,
       "right": null,
       "top": null,
       "visibility": null,
       "width": null
      }
     },
     "82cff1fa05444769934fb659aaad49db": {
      "model_module": "@jupyter-widgets/controls",
      "model_module_version": "1.5.0",
      "model_name": "FloatProgressModel",
      "state": {
       "_dom_classes": [],
       "_model_module": "@jupyter-widgets/controls",
       "_model_module_version": "1.5.0",
       "_model_name": "FloatProgressModel",
       "_view_count": null,
       "_view_module": "@jupyter-widgets/controls",
       "_view_module_version": "1.5.0",
       "_view_name": "ProgressView",
       "bar_style": "",
       "description": "",
       "description_tooltip": null,
       "layout": "IPY_MODEL_87cc4973de2b4c0087b8c357f52cf79b",
       "max": 1,
       "min": 0,
       "orientation": "horizontal",
       "style": "IPY_MODEL_46ad4ac1c2e2461f931cf01558854eb3",
       "value": 0
      }
     },
     "84c8e95454914333a7ded8cfc26c77ff": {
      "model_module": "@jupyter-widgets/base",
      "model_module_version": "1.2.0",
      "model_name": "LayoutModel",
      "state": {
       "_model_module": "@jupyter-widgets/base",
       "_model_module_version": "1.2.0",
       "_model_name": "LayoutModel",
       "_view_count": null,
       "_view_module": "@jupyter-widgets/base",
       "_view_module_version": "1.2.0",
       "_view_name": "LayoutView",
       "align_content": null,
       "align_items": null,
       "align_self": null,
       "border": null,
       "bottom": null,
       "display": null,
       "flex": null,
       "flex_flow": null,
       "grid_area": null,
       "grid_auto_columns": null,
       "grid_auto_flow": null,
       "grid_auto_rows": null,
       "grid_column": null,
       "grid_gap": null,
       "grid_row": null,
       "grid_template_areas": null,
       "grid_template_columns": null,
       "grid_template_rows": null,
       "height": null,
       "justify_content": null,
       "justify_items": null,
       "left": null,
       "margin": null,
       "max_height": null,
       "max_width": null,
       "min_height": null,
       "min_width": null,
       "object_fit": null,
       "object_position": null,
       "order": null,
       "overflow": null,
       "overflow_x": null,
       "overflow_y": null,
       "padding": null,
       "right": null,
       "top": null,
       "visibility": null,
       "width": null
      }
     },
     "84df4819c4dc4d3bae7fa1a29fcc887e": {
      "model_module": "@jupyter-widgets/controls",
      "model_module_version": "1.5.0",
      "model_name": "ProgressStyleModel",
      "state": {
       "_model_module": "@jupyter-widgets/controls",
       "_model_module_version": "1.5.0",
       "_model_name": "ProgressStyleModel",
       "_view_count": null,
       "_view_module": "@jupyter-widgets/base",
       "_view_module_version": "1.2.0",
       "_view_name": "StyleView",
       "bar_color": null,
       "description_width": ""
      }
     },
     "86a41628fe1d45e685aa7d6600ef27a9": {
      "model_module": "@jupyter-widgets/base",
      "model_module_version": "1.2.0",
      "model_name": "LayoutModel",
      "state": {
       "_model_module": "@jupyter-widgets/base",
       "_model_module_version": "1.2.0",
       "_model_name": "LayoutModel",
       "_view_count": null,
       "_view_module": "@jupyter-widgets/base",
       "_view_module_version": "1.2.0",
       "_view_name": "LayoutView",
       "align_content": null,
       "align_items": null,
       "align_self": null,
       "border": null,
       "bottom": null,
       "display": null,
       "flex": null,
       "flex_flow": null,
       "grid_area": null,
       "grid_auto_columns": null,
       "grid_auto_flow": null,
       "grid_auto_rows": null,
       "grid_column": null,
       "grid_gap": null,
       "grid_row": null,
       "grid_template_areas": null,
       "grid_template_columns": null,
       "grid_template_rows": null,
       "height": null,
       "justify_content": null,
       "justify_items": null,
       "left": null,
       "margin": null,
       "max_height": null,
       "max_width": null,
       "min_height": null,
       "min_width": null,
       "object_fit": null,
       "object_position": null,
       "order": null,
       "overflow": null,
       "overflow_x": null,
       "overflow_y": null,
       "padding": null,
       "right": null,
       "top": null,
       "visibility": null,
       "width": null
      }
     },
     "87cc4973de2b4c0087b8c357f52cf79b": {
      "model_module": "@jupyter-widgets/base",
      "model_module_version": "1.2.0",
      "model_name": "LayoutModel",
      "state": {
       "_model_module": "@jupyter-widgets/base",
       "_model_module_version": "1.2.0",
       "_model_name": "LayoutModel",
       "_view_count": null,
       "_view_module": "@jupyter-widgets/base",
       "_view_module_version": "1.2.0",
       "_view_name": "LayoutView",
       "align_content": null,
       "align_items": null,
       "align_self": null,
       "border": null,
       "bottom": null,
       "display": null,
       "flex": null,
       "flex_flow": null,
       "grid_area": null,
       "grid_auto_columns": null,
       "grid_auto_flow": null,
       "grid_auto_rows": null,
       "grid_column": null,
       "grid_gap": null,
       "grid_row": null,
       "grid_template_areas": null,
       "grid_template_columns": null,
       "grid_template_rows": null,
       "height": null,
       "justify_content": null,
       "justify_items": null,
       "left": null,
       "margin": null,
       "max_height": null,
       "max_width": null,
       "min_height": null,
       "min_width": null,
       "object_fit": null,
       "object_position": null,
       "order": null,
       "overflow": null,
       "overflow_x": null,
       "overflow_y": null,
       "padding": null,
       "right": null,
       "top": null,
       "visibility": null,
       "width": null
      }
     },
     "8858c63f18c1473eac5fdf55ae62c388": {
      "model_module": "@jupyter-widgets/controls",
      "model_module_version": "1.5.0",
      "model_name": "FloatProgressModel",
      "state": {
       "_dom_classes": [],
       "_model_module": "@jupyter-widgets/controls",
       "_model_module_version": "1.5.0",
       "_model_name": "FloatProgressModel",
       "_view_count": null,
       "_view_module": "@jupyter-widgets/controls",
       "_view_module_version": "1.5.0",
       "_view_name": "ProgressView",
       "bar_style": "",
       "description": "",
       "description_tooltip": null,
       "layout": "IPY_MODEL_a7c2475d175443b9ad4b26767d4e4575",
       "max": 1,
       "min": 0,
       "orientation": "horizontal",
       "style": "IPY_MODEL_84df4819c4dc4d3bae7fa1a29fcc887e",
       "value": 1
      }
     },
     "89f7ff0617064233ab5ea5c58f1417f4": {
      "model_module": "@jupyter-widgets/controls",
      "model_module_version": "1.5.0",
      "model_name": "ProgressStyleModel",
      "state": {
       "_model_module": "@jupyter-widgets/controls",
       "_model_module_version": "1.5.0",
       "_model_name": "ProgressStyleModel",
       "_view_count": null,
       "_view_module": "@jupyter-widgets/base",
       "_view_module_version": "1.2.0",
       "_view_name": "StyleView",
       "bar_color": null,
       "description_width": ""
      }
     },
     "8c98a53f6edc4e9f928d17540f97afb1": {
      "model_module": "@jupyter-widgets/controls",
      "model_module_version": "1.5.0",
      "model_name": "VBoxModel",
      "state": {
       "_dom_classes": [],
       "_model_module": "@jupyter-widgets/controls",
       "_model_module_version": "1.5.0",
       "_model_name": "VBoxModel",
       "_view_count": null,
       "_view_module": "@jupyter-widgets/controls",
       "_view_module_version": "1.5.0",
       "_view_name": "VBoxView",
       "box_style": "",
       "children": [
        "IPY_MODEL_7a99baa9879e490aa0364fc7017cd640",
        "IPY_MODEL_f85976ee51a1499bade24d3ced61a7df"
       ],
       "layout": "IPY_MODEL_1783393b4db84feb82fbc4127f23de72"
      }
     },
     "8d25bb7bf6b542819d7f8cf08fd56f4a": {
      "model_module": "@jupyter-widgets/controls",
      "model_module_version": "1.5.0",
      "model_name": "FloatProgressModel",
      "state": {
       "_dom_classes": [],
       "_model_module": "@jupyter-widgets/controls",
       "_model_module_version": "1.5.0",
       "_model_name": "FloatProgressModel",
       "_view_count": null,
       "_view_module": "@jupyter-widgets/controls",
       "_view_module_version": "1.5.0",
       "_view_name": "ProgressView",
       "bar_style": "",
       "description": "",
       "description_tooltip": null,
       "layout": "IPY_MODEL_a4aa4ddc95b145749da5628c19a068a4",
       "max": 1,
       "min": 0,
       "orientation": "horizontal",
       "style": "IPY_MODEL_dbee9ec2e9f4455c95ff2f3ce6f6f5d8",
       "value": 0
      }
     },
     "8da498feaa734c9f85a69ae8df3160f6": {
      "model_module": "@jupyter-widgets/controls",
      "model_module_version": "1.5.0",
      "model_name": "ProgressStyleModel",
      "state": {
       "_model_module": "@jupyter-widgets/controls",
       "_model_module_version": "1.5.0",
       "_model_name": "ProgressStyleModel",
       "_view_count": null,
       "_view_module": "@jupyter-widgets/base",
       "_view_module_version": "1.2.0",
       "_view_name": "StyleView",
       "bar_color": null,
       "description_width": ""
      }
     },
     "8ef60e8968354bd594e6ffb3dd0a381d": {
      "model_module": "@jupyter-widgets/controls",
      "model_module_version": "1.5.0",
      "model_name": "ProgressStyleModel",
      "state": {
       "_model_module": "@jupyter-widgets/controls",
       "_model_module_version": "1.5.0",
       "_model_name": "ProgressStyleModel",
       "_view_count": null,
       "_view_module": "@jupyter-widgets/base",
       "_view_module_version": "1.2.0",
       "_view_name": "StyleView",
       "bar_color": null,
       "description_width": ""
      }
     },
     "8fd71d919b744be1a49738f87d6d9474": {
      "model_module": "@jupyter-widgets/base",
      "model_module_version": "1.2.0",
      "model_name": "LayoutModel",
      "state": {
       "_model_module": "@jupyter-widgets/base",
       "_model_module_version": "1.2.0",
       "_model_name": "LayoutModel",
       "_view_count": null,
       "_view_module": "@jupyter-widgets/base",
       "_view_module_version": "1.2.0",
       "_view_name": "LayoutView",
       "align_content": null,
       "align_items": null,
       "align_self": null,
       "border": null,
       "bottom": null,
       "display": null,
       "flex": null,
       "flex_flow": null,
       "grid_area": null,
       "grid_auto_columns": null,
       "grid_auto_flow": null,
       "grid_auto_rows": null,
       "grid_column": null,
       "grid_gap": null,
       "grid_row": null,
       "grid_template_areas": null,
       "grid_template_columns": null,
       "grid_template_rows": null,
       "height": null,
       "justify_content": null,
       "justify_items": null,
       "left": null,
       "margin": null,
       "max_height": null,
       "max_width": null,
       "min_height": null,
       "min_width": null,
       "object_fit": null,
       "object_position": null,
       "order": null,
       "overflow": null,
       "overflow_x": null,
       "overflow_y": null,
       "padding": null,
       "right": null,
       "top": null,
       "visibility": null,
       "width": null
      }
     },
     "8ff93c98328549ffb8c6031c6143ead5": {
      "model_module": "@jupyter-widgets/controls",
      "model_module_version": "1.5.0",
      "model_name": "FloatProgressModel",
      "state": {
       "_dom_classes": [],
       "_model_module": "@jupyter-widgets/controls",
       "_model_module_version": "1.5.0",
       "_model_name": "FloatProgressModel",
       "_view_count": null,
       "_view_module": "@jupyter-widgets/controls",
       "_view_module_version": "1.5.0",
       "_view_name": "ProgressView",
       "bar_style": "",
       "description": "",
       "description_tooltip": null,
       "layout": "IPY_MODEL_8237c86be6684ceb8d4e3ec765cec7f3",
       "max": 1,
       "min": 0,
       "orientation": "horizontal",
       "style": "IPY_MODEL_f9ee80325be740af866873c27d2e5a7f",
       "value": 1
      }
     },
     "910fb8fd44ec434398ebbdd129a8f0ce": {
      "model_module": "@jupyter-widgets/controls",
      "model_module_version": "1.5.0",
      "model_name": "LabelModel",
      "state": {
       "_dom_classes": [],
       "_model_module": "@jupyter-widgets/controls",
       "_model_module_version": "1.5.0",
       "_model_name": "LabelModel",
       "_view_count": null,
       "_view_module": "@jupyter-widgets/controls",
       "_view_module_version": "1.5.0",
       "_view_name": "LabelView",
       "description": "",
       "description_tooltip": null,
       "layout": "IPY_MODEL_cb786149dfa54f9a9f7a970f82507555",
       "placeholder": "​",
       "style": "IPY_MODEL_10ddc25e63a64094bf0cc7c9eaf73d6e",
       "value": "0.180 MB of 0.180 MB uploaded (0.034 MB deduped)\r"
      }
     },
     "9686351baaf6454b87958ed814d3a92e": {
      "model_module": "@jupyter-widgets/controls",
      "model_module_version": "1.5.0",
      "model_name": "FloatProgressModel",
      "state": {
       "_dom_classes": [],
       "_model_module": "@jupyter-widgets/controls",
       "_model_module_version": "1.5.0",
       "_model_name": "FloatProgressModel",
       "_view_count": null,
       "_view_module": "@jupyter-widgets/controls",
       "_view_module_version": "1.5.0",
       "_view_name": "ProgressView",
       "bar_style": "",
       "description": "",
       "description_tooltip": null,
       "layout": "IPY_MODEL_4c45ac4ec0114d3b94f9e650ec52a97a",
       "max": 1,
       "min": 0,
       "orientation": "horizontal",
       "style": "IPY_MODEL_8da498feaa734c9f85a69ae8df3160f6",
       "value": 0
      }
     },
     "97f3097c70864fe399bf9de5f01fd80e": {
      "model_module": "@jupyter-widgets/controls",
      "model_module_version": "1.5.0",
      "model_name": "VBoxModel",
      "state": {
       "_dom_classes": [],
       "_model_module": "@jupyter-widgets/controls",
       "_model_module_version": "1.5.0",
       "_model_name": "VBoxModel",
       "_view_count": null,
       "_view_module": "@jupyter-widgets/controls",
       "_view_module_version": "1.5.0",
       "_view_name": "VBoxView",
       "box_style": "",
       "children": [
        "IPY_MODEL_fbeeee08516249439c779ebcc3dc08b1",
        "IPY_MODEL_8d25bb7bf6b542819d7f8cf08fd56f4a"
       ],
       "layout": "IPY_MODEL_d53c28186eae4c9a9e02d5dab8bc234f"
      }
     },
     "98c54a37be67444ab7c1fc9bdcd4e843": {
      "model_module": "@jupyter-widgets/controls",
      "model_module_version": "1.5.0",
      "model_name": "ProgressStyleModel",
      "state": {
       "_model_module": "@jupyter-widgets/controls",
       "_model_module_version": "1.5.0",
       "_model_name": "ProgressStyleModel",
       "_view_count": null,
       "_view_module": "@jupyter-widgets/base",
       "_view_module_version": "1.2.0",
       "_view_name": "StyleView",
       "bar_color": null,
       "description_width": ""
      }
     },
     "9ef469c3f92c4a388dd957452eab4ef5": {
      "model_module": "@jupyter-widgets/controls",
      "model_module_version": "1.5.0",
      "model_name": "DescriptionStyleModel",
      "state": {
       "_model_module": "@jupyter-widgets/controls",
       "_model_module_version": "1.5.0",
       "_model_name": "DescriptionStyleModel",
       "_view_count": null,
       "_view_module": "@jupyter-widgets/base",
       "_view_module_version": "1.2.0",
       "_view_name": "StyleView",
       "description_width": ""
      }
     },
     "9f9dcf388ff942348987382d3ff92af7": {
      "model_module": "@jupyter-widgets/controls",
      "model_module_version": "1.5.0",
      "model_name": "FloatProgressModel",
      "state": {
       "_dom_classes": [],
       "_model_module": "@jupyter-widgets/controls",
       "_model_module_version": "1.5.0",
       "_model_name": "FloatProgressModel",
       "_view_count": null,
       "_view_module": "@jupyter-widgets/controls",
       "_view_module_version": "1.5.0",
       "_view_name": "ProgressView",
       "bar_style": "",
       "description": "",
       "description_tooltip": null,
       "layout": "IPY_MODEL_b617f9acc68d4423ba1357d843f11acb",
       "max": 1,
       "min": 0,
       "orientation": "horizontal",
       "style": "IPY_MODEL_eaec3371a8f045668e4996a68b710b2e",
       "value": 1
      }
     },
     "a2d0fc3b2f144111bf8b9d14a898b15d": {
      "model_module": "@jupyter-widgets/controls",
      "model_module_version": "1.5.0",
      "model_name": "ProgressStyleModel",
      "state": {
       "_model_module": "@jupyter-widgets/controls",
       "_model_module_version": "1.5.0",
       "_model_name": "ProgressStyleModel",
       "_view_count": null,
       "_view_module": "@jupyter-widgets/base",
       "_view_module_version": "1.2.0",
       "_view_name": "StyleView",
       "bar_color": null,
       "description_width": ""
      }
     },
     "a41ceb5456f246c09dc0c0915b4bab60": {
      "model_module": "@jupyter-widgets/controls",
      "model_module_version": "1.5.0",
      "model_name": "DescriptionStyleModel",
      "state": {
       "_model_module": "@jupyter-widgets/controls",
       "_model_module_version": "1.5.0",
       "_model_name": "DescriptionStyleModel",
       "_view_count": null,
       "_view_module": "@jupyter-widgets/base",
       "_view_module_version": "1.2.0",
       "_view_name": "StyleView",
       "description_width": ""
      }
     },
     "a4aa4ddc95b145749da5628c19a068a4": {
      "model_module": "@jupyter-widgets/base",
      "model_module_version": "1.2.0",
      "model_name": "LayoutModel",
      "state": {
       "_model_module": "@jupyter-widgets/base",
       "_model_module_version": "1.2.0",
       "_model_name": "LayoutModel",
       "_view_count": null,
       "_view_module": "@jupyter-widgets/base",
       "_view_module_version": "1.2.0",
       "_view_name": "LayoutView",
       "align_content": null,
       "align_items": null,
       "align_self": null,
       "border": null,
       "bottom": null,
       "display": null,
       "flex": null,
       "flex_flow": null,
       "grid_area": null,
       "grid_auto_columns": null,
       "grid_auto_flow": null,
       "grid_auto_rows": null,
       "grid_column": null,
       "grid_gap": null,
       "grid_row": null,
       "grid_template_areas": null,
       "grid_template_columns": null,
       "grid_template_rows": null,
       "height": null,
       "justify_content": null,
       "justify_items": null,
       "left": null,
       "margin": null,
       "max_height": null,
       "max_width": null,
       "min_height": null,
       "min_width": null,
       "object_fit": null,
       "object_position": null,
       "order": null,
       "overflow": null,
       "overflow_x": null,
       "overflow_y": null,
       "padding": null,
       "right": null,
       "top": null,
       "visibility": null,
       "width": null
      }
     },
     "a6bf9db1fc084217a9783fe0080b78de": {
      "model_module": "@jupyter-widgets/controls",
      "model_module_version": "1.5.0",
      "model_name": "VBoxModel",
      "state": {
       "_dom_classes": [],
       "_model_module": "@jupyter-widgets/controls",
       "_model_module_version": "1.5.0",
       "_model_name": "VBoxModel",
       "_view_count": null,
       "_view_module": "@jupyter-widgets/controls",
       "_view_module_version": "1.5.0",
       "_view_name": "VBoxView",
       "box_style": "",
       "children": [
        "IPY_MODEL_74f25cb958f3486da57bff79c724168b",
        "IPY_MODEL_82cff1fa05444769934fb659aaad49db"
       ],
       "layout": "IPY_MODEL_652735d001654cc4830620e172714df1"
      }
     },
     "a7c2475d175443b9ad4b26767d4e4575": {
      "model_module": "@jupyter-widgets/base",
      "model_module_version": "1.2.0",
      "model_name": "LayoutModel",
      "state": {
       "_model_module": "@jupyter-widgets/base",
       "_model_module_version": "1.2.0",
       "_model_name": "LayoutModel",
       "_view_count": null,
       "_view_module": "@jupyter-widgets/base",
       "_view_module_version": "1.2.0",
       "_view_name": "LayoutView",
       "align_content": null,
       "align_items": null,
       "align_self": null,
       "border": null,
       "bottom": null,
       "display": null,
       "flex": null,
       "flex_flow": null,
       "grid_area": null,
       "grid_auto_columns": null,
       "grid_auto_flow": null,
       "grid_auto_rows": null,
       "grid_column": null,
       "grid_gap": null,
       "grid_row": null,
       "grid_template_areas": null,
       "grid_template_columns": null,
       "grid_template_rows": null,
       "height": null,
       "justify_content": null,
       "justify_items": null,
       "left": null,
       "margin": null,
       "max_height": null,
       "max_width": null,
       "min_height": null,
       "min_width": null,
       "object_fit": null,
       "object_position": null,
       "order": null,
       "overflow": null,
       "overflow_x": null,
       "overflow_y": null,
       "padding": null,
       "right": null,
       "top": null,
       "visibility": null,
       "width": null
      }
     },
     "a871f8d29f474a56b1f13f1109af6c93": {
      "model_module": "@jupyter-widgets/base",
      "model_module_version": "1.2.0",
      "model_name": "LayoutModel",
      "state": {
       "_model_module": "@jupyter-widgets/base",
       "_model_module_version": "1.2.0",
       "_model_name": "LayoutModel",
       "_view_count": null,
       "_view_module": "@jupyter-widgets/base",
       "_view_module_version": "1.2.0",
       "_view_name": "LayoutView",
       "align_content": null,
       "align_items": null,
       "align_self": null,
       "border": null,
       "bottom": null,
       "display": null,
       "flex": null,
       "flex_flow": null,
       "grid_area": null,
       "grid_auto_columns": null,
       "grid_auto_flow": null,
       "grid_auto_rows": null,
       "grid_column": null,
       "grid_gap": null,
       "grid_row": null,
       "grid_template_areas": null,
       "grid_template_columns": null,
       "grid_template_rows": null,
       "height": null,
       "justify_content": null,
       "justify_items": null,
       "left": null,
       "margin": null,
       "max_height": null,
       "max_width": null,
       "min_height": null,
       "min_width": null,
       "object_fit": null,
       "object_position": null,
       "order": null,
       "overflow": null,
       "overflow_x": null,
       "overflow_y": null,
       "padding": null,
       "right": null,
       "top": null,
       "visibility": null,
       "width": null
      }
     },
     "accbbb05a55d4046a5769abad2dc28ef": {
      "model_module": "@jupyter-widgets/controls",
      "model_module_version": "1.5.0",
      "model_name": "ProgressStyleModel",
      "state": {
       "_model_module": "@jupyter-widgets/controls",
       "_model_module_version": "1.5.0",
       "_model_name": "ProgressStyleModel",
       "_view_count": null,
       "_view_module": "@jupyter-widgets/base",
       "_view_module_version": "1.2.0",
       "_view_name": "StyleView",
       "bar_color": null,
       "description_width": ""
      }
     },
     "ad2d41cce3594ad4b597ceae319997ac": {
      "model_module": "@jupyter-widgets/base",
      "model_module_version": "1.2.0",
      "model_name": "LayoutModel",
      "state": {
       "_model_module": "@jupyter-widgets/base",
       "_model_module_version": "1.2.0",
       "_model_name": "LayoutModel",
       "_view_count": null,
       "_view_module": "@jupyter-widgets/base",
       "_view_module_version": "1.2.0",
       "_view_name": "LayoutView",
       "align_content": null,
       "align_items": null,
       "align_self": null,
       "border": null,
       "bottom": null,
       "display": null,
       "flex": null,
       "flex_flow": null,
       "grid_area": null,
       "grid_auto_columns": null,
       "grid_auto_flow": null,
       "grid_auto_rows": null,
       "grid_column": null,
       "grid_gap": null,
       "grid_row": null,
       "grid_template_areas": null,
       "grid_template_columns": null,
       "grid_template_rows": null,
       "height": null,
       "justify_content": null,
       "justify_items": null,
       "left": null,
       "margin": null,
       "max_height": null,
       "max_width": null,
       "min_height": null,
       "min_width": null,
       "object_fit": null,
       "object_position": null,
       "order": null,
       "overflow": null,
       "overflow_x": null,
       "overflow_y": null,
       "padding": null,
       "right": null,
       "top": null,
       "visibility": null,
       "width": null
      }
     },
     "afe5825a4c9b4534bc68c3b401be7b55": {
      "model_module": "@jupyter-widgets/controls",
      "model_module_version": "1.5.0",
      "model_name": "DescriptionStyleModel",
      "state": {
       "_model_module": "@jupyter-widgets/controls",
       "_model_module_version": "1.5.0",
       "_model_name": "DescriptionStyleModel",
       "_view_count": null,
       "_view_module": "@jupyter-widgets/base",
       "_view_module_version": "1.2.0",
       "_view_name": "StyleView",
       "description_width": ""
      }
     },
     "b418ef0f70034cbfa419e9db045a8129": {
      "model_module": "@jupyter-widgets/base",
      "model_module_version": "1.2.0",
      "model_name": "LayoutModel",
      "state": {
       "_model_module": "@jupyter-widgets/base",
       "_model_module_version": "1.2.0",
       "_model_name": "LayoutModel",
       "_view_count": null,
       "_view_module": "@jupyter-widgets/base",
       "_view_module_version": "1.2.0",
       "_view_name": "LayoutView",
       "align_content": null,
       "align_items": null,
       "align_self": null,
       "border": null,
       "bottom": null,
       "display": null,
       "flex": null,
       "flex_flow": null,
       "grid_area": null,
       "grid_auto_columns": null,
       "grid_auto_flow": null,
       "grid_auto_rows": null,
       "grid_column": null,
       "grid_gap": null,
       "grid_row": null,
       "grid_template_areas": null,
       "grid_template_columns": null,
       "grid_template_rows": null,
       "height": null,
       "justify_content": null,
       "justify_items": null,
       "left": null,
       "margin": null,
       "max_height": null,
       "max_width": null,
       "min_height": null,
       "min_width": null,
       "object_fit": null,
       "object_position": null,
       "order": null,
       "overflow": null,
       "overflow_x": null,
       "overflow_y": null,
       "padding": null,
       "right": null,
       "top": null,
       "visibility": null,
       "width": null
      }
     },
     "b617f9acc68d4423ba1357d843f11acb": {
      "model_module": "@jupyter-widgets/base",
      "model_module_version": "1.2.0",
      "model_name": "LayoutModel",
      "state": {
       "_model_module": "@jupyter-widgets/base",
       "_model_module_version": "1.2.0",
       "_model_name": "LayoutModel",
       "_view_count": null,
       "_view_module": "@jupyter-widgets/base",
       "_view_module_version": "1.2.0",
       "_view_name": "LayoutView",
       "align_content": null,
       "align_items": null,
       "align_self": null,
       "border": null,
       "bottom": null,
       "display": null,
       "flex": null,
       "flex_flow": null,
       "grid_area": null,
       "grid_auto_columns": null,
       "grid_auto_flow": null,
       "grid_auto_rows": null,
       "grid_column": null,
       "grid_gap": null,
       "grid_row": null,
       "grid_template_areas": null,
       "grid_template_columns": null,
       "grid_template_rows": null,
       "height": null,
       "justify_content": null,
       "justify_items": null,
       "left": null,
       "margin": null,
       "max_height": null,
       "max_width": null,
       "min_height": null,
       "min_width": null,
       "object_fit": null,
       "object_position": null,
       "order": null,
       "overflow": null,
       "overflow_x": null,
       "overflow_y": null,
       "padding": null,
       "right": null,
       "top": null,
       "visibility": null,
       "width": null
      }
     },
     "b6bdb3dbce7843d2a80e2150fde6fd3a": {
      "model_module": "@jupyter-widgets/base",
      "model_module_version": "1.2.0",
      "model_name": "LayoutModel",
      "state": {
       "_model_module": "@jupyter-widgets/base",
       "_model_module_version": "1.2.0",
       "_model_name": "LayoutModel",
       "_view_count": null,
       "_view_module": "@jupyter-widgets/base",
       "_view_module_version": "1.2.0",
       "_view_name": "LayoutView",
       "align_content": null,
       "align_items": null,
       "align_self": null,
       "border": null,
       "bottom": null,
       "display": null,
       "flex": null,
       "flex_flow": null,
       "grid_area": null,
       "grid_auto_columns": null,
       "grid_auto_flow": null,
       "grid_auto_rows": null,
       "grid_column": null,
       "grid_gap": null,
       "grid_row": null,
       "grid_template_areas": null,
       "grid_template_columns": null,
       "grid_template_rows": null,
       "height": null,
       "justify_content": null,
       "justify_items": null,
       "left": null,
       "margin": null,
       "max_height": null,
       "max_width": null,
       "min_height": null,
       "min_width": null,
       "object_fit": null,
       "object_position": null,
       "order": null,
       "overflow": null,
       "overflow_x": null,
       "overflow_y": null,
       "padding": null,
       "right": null,
       "top": null,
       "visibility": null,
       "width": null
      }
     },
     "b7d9cb019ebb40cd92b8f6fe3f1c97eb": {
      "model_module": "@jupyter-widgets/base",
      "model_module_version": "1.2.0",
      "model_name": "LayoutModel",
      "state": {
       "_model_module": "@jupyter-widgets/base",
       "_model_module_version": "1.2.0",
       "_model_name": "LayoutModel",
       "_view_count": null,
       "_view_module": "@jupyter-widgets/base",
       "_view_module_version": "1.2.0",
       "_view_name": "LayoutView",
       "align_content": null,
       "align_items": null,
       "align_self": null,
       "border": null,
       "bottom": null,
       "display": null,
       "flex": null,
       "flex_flow": null,
       "grid_area": null,
       "grid_auto_columns": null,
       "grid_auto_flow": null,
       "grid_auto_rows": null,
       "grid_column": null,
       "grid_gap": null,
       "grid_row": null,
       "grid_template_areas": null,
       "grid_template_columns": null,
       "grid_template_rows": null,
       "height": null,
       "justify_content": null,
       "justify_items": null,
       "left": null,
       "margin": null,
       "max_height": null,
       "max_width": null,
       "min_height": null,
       "min_width": null,
       "object_fit": null,
       "object_position": null,
       "order": null,
       "overflow": null,
       "overflow_x": null,
       "overflow_y": null,
       "padding": null,
       "right": null,
       "top": null,
       "visibility": null,
       "width": null
      }
     },
     "b94e3a5d1c4f49e292065c3da657b74d": {
      "model_module": "@jupyter-widgets/controls",
      "model_module_version": "1.5.0",
      "model_name": "VBoxModel",
      "state": {
       "_dom_classes": [],
       "_model_module": "@jupyter-widgets/controls",
       "_model_module_version": "1.5.0",
       "_model_name": "VBoxModel",
       "_view_count": null,
       "_view_module": "@jupyter-widgets/controls",
       "_view_module_version": "1.5.0",
       "_view_name": "VBoxView",
       "box_style": "",
       "children": [
        "IPY_MODEL_69b869eeb42945ce97ee6af11b39aa5a",
        "IPY_MODEL_d3b211ef837e4c3fade388ab381224b9"
       ],
       "layout": "IPY_MODEL_48a0c98cf63c4b449534643e1b3954b7"
      }
     },
     "bad34e3235c147959532bd54b7a1f525": {
      "model_module": "@jupyter-widgets/controls",
      "model_module_version": "1.5.0",
      "model_name": "LabelModel",
      "state": {
       "_dom_classes": [],
       "_model_module": "@jupyter-widgets/controls",
       "_model_module_version": "1.5.0",
       "_model_name": "LabelModel",
       "_view_count": null,
       "_view_module": "@jupyter-widgets/controls",
       "_view_module_version": "1.5.0",
       "_view_name": "LabelView",
       "description": "",
       "description_tooltip": null,
       "layout": "IPY_MODEL_23292ed0f5554f52ba78c4220954b83d",
       "placeholder": "​",
       "style": "IPY_MODEL_69cb7d7cc7104362b3be82d09486bd68",
       "value": ""
      }
     },
     "bf0a5dd7b4354d0ab790d7c75c17b858": {
      "model_module": "@jupyter-widgets/controls",
      "model_module_version": "1.5.0",
      "model_name": "VBoxModel",
      "state": {
       "_dom_classes": [],
       "_model_module": "@jupyter-widgets/controls",
       "_model_module_version": "1.5.0",
       "_model_name": "VBoxModel",
       "_view_count": null,
       "_view_module": "@jupyter-widgets/controls",
       "_view_module_version": "1.5.0",
       "_view_name": "VBoxView",
       "box_style": "",
       "children": [
        "IPY_MODEL_df3eace845a845698744f3f1f46ac594",
        "IPY_MODEL_706468a0201f49a098d20117415ffd4f"
       ],
       "layout": "IPY_MODEL_7826ba7f325647e99ce323f1ccfb3166"
      }
     },
     "c08e8f4f8874430e9b03770687df2dc5": {
      "model_module": "@jupyter-widgets/controls",
      "model_module_version": "1.5.0",
      "model_name": "LabelModel",
      "state": {
       "_dom_classes": [],
       "_model_module": "@jupyter-widgets/controls",
       "_model_module_version": "1.5.0",
       "_model_name": "LabelModel",
       "_view_count": null,
       "_view_module": "@jupyter-widgets/controls",
       "_view_module_version": "1.5.0",
       "_view_name": "LabelView",
       "description": "",
       "description_tooltip": null,
       "layout": "IPY_MODEL_70855a5bde2b40729a231a07809cadf9",
       "placeholder": "​",
       "style": "IPY_MODEL_afe5825a4c9b4534bc68c3b401be7b55",
       "value": "52.431 MB of 52.431 MB uploaded (0.189 MB deduped)\r"
      }
     },
     "c2ab3ab7ad654656b09f376c3cb6811d": {
      "model_module": "@jupyter-widgets/base",
      "model_module_version": "1.2.0",
      "model_name": "LayoutModel",
      "state": {
       "_model_module": "@jupyter-widgets/base",
       "_model_module_version": "1.2.0",
       "_model_name": "LayoutModel",
       "_view_count": null,
       "_view_module": "@jupyter-widgets/base",
       "_view_module_version": "1.2.0",
       "_view_name": "LayoutView",
       "align_content": null,
       "align_items": null,
       "align_self": null,
       "border": null,
       "bottom": null,
       "display": null,
       "flex": null,
       "flex_flow": null,
       "grid_area": null,
       "grid_auto_columns": null,
       "grid_auto_flow": null,
       "grid_auto_rows": null,
       "grid_column": null,
       "grid_gap": null,
       "grid_row": null,
       "grid_template_areas": null,
       "grid_template_columns": null,
       "grid_template_rows": null,
       "height": null,
       "justify_content": null,
       "justify_items": null,
       "left": null,
       "margin": null,
       "max_height": null,
       "max_width": null,
       "min_height": null,
       "min_width": null,
       "object_fit": null,
       "object_position": null,
       "order": null,
       "overflow": null,
       "overflow_x": null,
       "overflow_y": null,
       "padding": null,
       "right": null,
       "top": null,
       "visibility": null,
       "width": null
      }
     },
     "c50fde7d96c04e3492ea872bae9af6c0": {
      "model_module": "@jupyter-widgets/controls",
      "model_module_version": "1.5.0",
      "model_name": "DescriptionStyleModel",
      "state": {
       "_model_module": "@jupyter-widgets/controls",
       "_model_module_version": "1.5.0",
       "_model_name": "DescriptionStyleModel",
       "_view_count": null,
       "_view_module": "@jupyter-widgets/base",
       "_view_module_version": "1.2.0",
       "_view_name": "StyleView",
       "description_width": ""
      }
     },
     "cb786149dfa54f9a9f7a970f82507555": {
      "model_module": "@jupyter-widgets/base",
      "model_module_version": "1.2.0",
      "model_name": "LayoutModel",
      "state": {
       "_model_module": "@jupyter-widgets/base",
       "_model_module_version": "1.2.0",
       "_model_name": "LayoutModel",
       "_view_count": null,
       "_view_module": "@jupyter-widgets/base",
       "_view_module_version": "1.2.0",
       "_view_name": "LayoutView",
       "align_content": null,
       "align_items": null,
       "align_self": null,
       "border": null,
       "bottom": null,
       "display": null,
       "flex": null,
       "flex_flow": null,
       "grid_area": null,
       "grid_auto_columns": null,
       "grid_auto_flow": null,
       "grid_auto_rows": null,
       "grid_column": null,
       "grid_gap": null,
       "grid_row": null,
       "grid_template_areas": null,
       "grid_template_columns": null,
       "grid_template_rows": null,
       "height": null,
       "justify_content": null,
       "justify_items": null,
       "left": null,
       "margin": null,
       "max_height": null,
       "max_width": null,
       "min_height": null,
       "min_width": null,
       "object_fit": null,
       "object_position": null,
       "order": null,
       "overflow": null,
       "overflow_x": null,
       "overflow_y": null,
       "padding": null,
       "right": null,
       "top": null,
       "visibility": null,
       "width": null
      }
     },
     "ce82bef057f84fc3b4effd431559b3a1": {
      "model_module": "@jupyter-widgets/controls",
      "model_module_version": "1.5.0",
      "model_name": "FloatProgressModel",
      "state": {
       "_dom_classes": [],
       "_model_module": "@jupyter-widgets/controls",
       "_model_module_version": "1.5.0",
       "_model_name": "FloatProgressModel",
       "_view_count": null,
       "_view_module": "@jupyter-widgets/controls",
       "_view_module_version": "1.5.0",
       "_view_name": "ProgressView",
       "bar_style": "",
       "description": "",
       "description_tooltip": null,
       "layout": "IPY_MODEL_ed6aea5ad1be48e3b3b922fc8c2ffdfa",
       "max": 1,
       "min": 0,
       "orientation": "horizontal",
       "style": "IPY_MODEL_a2d0fc3b2f144111bf8b9d14a898b15d",
       "value": 1
      }
     },
     "d067ba176f7d4587ab154e3679d296e3": {
      "model_module": "@jupyter-widgets/controls",
      "model_module_version": "1.5.0",
      "model_name": "VBoxModel",
      "state": {
       "_dom_classes": [],
       "_model_module": "@jupyter-widgets/controls",
       "_model_module_version": "1.5.0",
       "_model_name": "VBoxModel",
       "_view_count": null,
       "_view_module": "@jupyter-widgets/controls",
       "_view_module_version": "1.5.0",
       "_view_name": "VBoxView",
       "box_style": "",
       "children": [
        "IPY_MODEL_24c5ad850adf4847836fbcb51b12eb87",
        "IPY_MODEL_9686351baaf6454b87958ed814d3a92e"
       ],
       "layout": "IPY_MODEL_f1c42d76f6ff4888a46d97e9dc710d9d"
      }
     },
     "d2768e3fc26343e3888f103a406188a5": {
      "model_module": "@jupyter-widgets/controls",
      "model_module_version": "1.5.0",
      "model_name": "ProgressStyleModel",
      "state": {
       "_model_module": "@jupyter-widgets/controls",
       "_model_module_version": "1.5.0",
       "_model_name": "ProgressStyleModel",
       "_view_count": null,
       "_view_module": "@jupyter-widgets/base",
       "_view_module_version": "1.2.0",
       "_view_name": "StyleView",
       "bar_color": null,
       "description_width": ""
      }
     },
     "d3b211ef837e4c3fade388ab381224b9": {
      "model_module": "@jupyter-widgets/controls",
      "model_module_version": "1.5.0",
      "model_name": "FloatProgressModel",
      "state": {
       "_dom_classes": [],
       "_model_module": "@jupyter-widgets/controls",
       "_model_module_version": "1.5.0",
       "_model_name": "FloatProgressModel",
       "_view_count": null,
       "_view_module": "@jupyter-widgets/controls",
       "_view_module_version": "1.5.0",
       "_view_name": "ProgressView",
       "bar_style": "",
       "description": "",
       "description_tooltip": null,
       "layout": "IPY_MODEL_fe4f25c9933d4db3a589a74d5e6f61cf",
       "max": 1,
       "min": 0,
       "orientation": "horizontal",
       "style": "IPY_MODEL_89f7ff0617064233ab5ea5c58f1417f4",
       "value": 0
      }
     },
     "d41271af174446f9a6854a5572df54c1": {
      "model_module": "@jupyter-widgets/controls",
      "model_module_version": "1.5.0",
      "model_name": "FloatProgressModel",
      "state": {
       "_dom_classes": [],
       "_model_module": "@jupyter-widgets/controls",
       "_model_module_version": "1.5.0",
       "_model_name": "FloatProgressModel",
       "_view_count": null,
       "_view_module": "@jupyter-widgets/controls",
       "_view_module_version": "1.5.0",
       "_view_name": "ProgressView",
       "bar_style": "",
       "description": "",
       "description_tooltip": null,
       "layout": "IPY_MODEL_193df12629fa47bbb29f494fd20e981e",
       "max": 1,
       "min": 0,
       "orientation": "horizontal",
       "style": "IPY_MODEL_8ef60e8968354bd594e6ffb3dd0a381d",
       "value": 1
      }
     },
     "d44219ebbb234c01b8e66c59b3b17c7e": {
      "model_module": "@jupyter-widgets/base",
      "model_module_version": "1.2.0",
      "model_name": "LayoutModel",
      "state": {
       "_model_module": "@jupyter-widgets/base",
       "_model_module_version": "1.2.0",
       "_model_name": "LayoutModel",
       "_view_count": null,
       "_view_module": "@jupyter-widgets/base",
       "_view_module_version": "1.2.0",
       "_view_name": "LayoutView",
       "align_content": null,
       "align_items": null,
       "align_self": null,
       "border": null,
       "bottom": null,
       "display": null,
       "flex": null,
       "flex_flow": null,
       "grid_area": null,
       "grid_auto_columns": null,
       "grid_auto_flow": null,
       "grid_auto_rows": null,
       "grid_column": null,
       "grid_gap": null,
       "grid_row": null,
       "grid_template_areas": null,
       "grid_template_columns": null,
       "grid_template_rows": null,
       "height": null,
       "justify_content": null,
       "justify_items": null,
       "left": null,
       "margin": null,
       "max_height": null,
       "max_width": null,
       "min_height": null,
       "min_width": null,
       "object_fit": null,
       "object_position": null,
       "order": null,
       "overflow": null,
       "overflow_x": null,
       "overflow_y": null,
       "padding": null,
       "right": null,
       "top": null,
       "visibility": null,
       "width": null
      }
     },
     "d501754236b942cd9731ea6746f82c4c": {
      "model_module": "@jupyter-widgets/controls",
      "model_module_version": "1.5.0",
      "model_name": "DescriptionStyleModel",
      "state": {
       "_model_module": "@jupyter-widgets/controls",
       "_model_module_version": "1.5.0",
       "_model_name": "DescriptionStyleModel",
       "_view_count": null,
       "_view_module": "@jupyter-widgets/base",
       "_view_module_version": "1.2.0",
       "_view_name": "StyleView",
       "description_width": ""
      }
     },
     "d53c28186eae4c9a9e02d5dab8bc234f": {
      "model_module": "@jupyter-widgets/base",
      "model_module_version": "1.2.0",
      "model_name": "LayoutModel",
      "state": {
       "_model_module": "@jupyter-widgets/base",
       "_model_module_version": "1.2.0",
       "_model_name": "LayoutModel",
       "_view_count": null,
       "_view_module": "@jupyter-widgets/base",
       "_view_module_version": "1.2.0",
       "_view_name": "LayoutView",
       "align_content": null,
       "align_items": null,
       "align_self": null,
       "border": null,
       "bottom": null,
       "display": null,
       "flex": null,
       "flex_flow": null,
       "grid_area": null,
       "grid_auto_columns": null,
       "grid_auto_flow": null,
       "grid_auto_rows": null,
       "grid_column": null,
       "grid_gap": null,
       "grid_row": null,
       "grid_template_areas": null,
       "grid_template_columns": null,
       "grid_template_rows": null,
       "height": null,
       "justify_content": null,
       "justify_items": null,
       "left": null,
       "margin": null,
       "max_height": null,
       "max_width": null,
       "min_height": null,
       "min_width": null,
       "object_fit": null,
       "object_position": null,
       "order": null,
       "overflow": null,
       "overflow_x": null,
       "overflow_y": null,
       "padding": null,
       "right": null,
       "top": null,
       "visibility": null,
       "width": null
      }
     },
     "d5f5e4a5fddf4fe089f7739ba7ee864c": {
      "model_module": "@jupyter-widgets/controls",
      "model_module_version": "1.5.0",
      "model_name": "DescriptionStyleModel",
      "state": {
       "_model_module": "@jupyter-widgets/controls",
       "_model_module_version": "1.5.0",
       "_model_name": "DescriptionStyleModel",
       "_view_count": null,
       "_view_module": "@jupyter-widgets/base",
       "_view_module_version": "1.2.0",
       "_view_name": "StyleView",
       "description_width": ""
      }
     },
     "d8ed886fd78c40b4a12ed5e3f5dd0db9": {
      "model_module": "@jupyter-widgets/base",
      "model_module_version": "1.2.0",
      "model_name": "LayoutModel",
      "state": {
       "_model_module": "@jupyter-widgets/base",
       "_model_module_version": "1.2.0",
       "_model_name": "LayoutModel",
       "_view_count": null,
       "_view_module": "@jupyter-widgets/base",
       "_view_module_version": "1.2.0",
       "_view_name": "LayoutView",
       "align_content": null,
       "align_items": null,
       "align_self": null,
       "border": null,
       "bottom": null,
       "display": null,
       "flex": null,
       "flex_flow": null,
       "grid_area": null,
       "grid_auto_columns": null,
       "grid_auto_flow": null,
       "grid_auto_rows": null,
       "grid_column": null,
       "grid_gap": null,
       "grid_row": null,
       "grid_template_areas": null,
       "grid_template_columns": null,
       "grid_template_rows": null,
       "height": null,
       "justify_content": null,
       "justify_items": null,
       "left": null,
       "margin": null,
       "max_height": null,
       "max_width": null,
       "min_height": null,
       "min_width": null,
       "object_fit": null,
       "object_position": null,
       "order": null,
       "overflow": null,
       "overflow_x": null,
       "overflow_y": null,
       "padding": null,
       "right": null,
       "top": null,
       "visibility": null,
       "width": null
      }
     },
     "dbee9ec2e9f4455c95ff2f3ce6f6f5d8": {
      "model_module": "@jupyter-widgets/controls",
      "model_module_version": "1.5.0",
      "model_name": "ProgressStyleModel",
      "state": {
       "_model_module": "@jupyter-widgets/controls",
       "_model_module_version": "1.5.0",
       "_model_name": "ProgressStyleModel",
       "_view_count": null,
       "_view_module": "@jupyter-widgets/base",
       "_view_module_version": "1.2.0",
       "_view_name": "StyleView",
       "bar_color": null,
       "description_width": ""
      }
     },
     "dc6a37e49f994a96bfa22d22beebf29b": {
      "model_module": "@jupyter-widgets/base",
      "model_module_version": "1.2.0",
      "model_name": "LayoutModel",
      "state": {
       "_model_module": "@jupyter-widgets/base",
       "_model_module_version": "1.2.0",
       "_model_name": "LayoutModel",
       "_view_count": null,
       "_view_module": "@jupyter-widgets/base",
       "_view_module_version": "1.2.0",
       "_view_name": "LayoutView",
       "align_content": null,
       "align_items": null,
       "align_self": null,
       "border": null,
       "bottom": null,
       "display": null,
       "flex": null,
       "flex_flow": null,
       "grid_area": null,
       "grid_auto_columns": null,
       "grid_auto_flow": null,
       "grid_auto_rows": null,
       "grid_column": null,
       "grid_gap": null,
       "grid_row": null,
       "grid_template_areas": null,
       "grid_template_columns": null,
       "grid_template_rows": null,
       "height": null,
       "justify_content": null,
       "justify_items": null,
       "left": null,
       "margin": null,
       "max_height": null,
       "max_width": null,
       "min_height": null,
       "min_width": null,
       "object_fit": null,
       "object_position": null,
       "order": null,
       "overflow": null,
       "overflow_x": null,
       "overflow_y": null,
       "padding": null,
       "right": null,
       "top": null,
       "visibility": null,
       "width": null
      }
     },
     "df3eace845a845698744f3f1f46ac594": {
      "model_module": "@jupyter-widgets/controls",
      "model_module_version": "1.5.0",
      "model_name": "LabelModel",
      "state": {
       "_dom_classes": [],
       "_model_module": "@jupyter-widgets/controls",
       "_model_module_version": "1.5.0",
       "_model_name": "LabelModel",
       "_view_count": null,
       "_view_module": "@jupyter-widgets/controls",
       "_view_module_version": "1.5.0",
       "_view_name": "LabelView",
       "description": "",
       "description_tooltip": null,
       "layout": "IPY_MODEL_e6eed124858145bd88afd83323a5c24b",
       "placeholder": "​",
       "style": "IPY_MODEL_28717bba427642acb3ac474f5628c6a4",
       "value": "87.595 MB of 87.595 MB uploaded (0.157 MB deduped)\r"
      }
     },
     "e0db3957e20a439985fc13d82fcb38d0": {
      "model_module": "@jupyter-widgets/controls",
      "model_module_version": "1.5.0",
      "model_name": "ProgressStyleModel",
      "state": {
       "_model_module": "@jupyter-widgets/controls",
       "_model_module_version": "1.5.0",
       "_model_name": "ProgressStyleModel",
       "_view_count": null,
       "_view_module": "@jupyter-widgets/base",
       "_view_module_version": "1.2.0",
       "_view_name": "StyleView",
       "bar_color": null,
       "description_width": ""
      }
     },
     "e2690b88229e4b959541043698a366bb": {
      "model_module": "@jupyter-widgets/controls",
      "model_module_version": "1.5.0",
      "model_name": "VBoxModel",
      "state": {
       "_dom_classes": [],
       "_model_module": "@jupyter-widgets/controls",
       "_model_module_version": "1.5.0",
       "_model_name": "VBoxModel",
       "_view_count": null,
       "_view_module": "@jupyter-widgets/controls",
       "_view_module_version": "1.5.0",
       "_view_name": "VBoxView",
       "box_style": "",
       "children": [
        "IPY_MODEL_684fc3d2dde440f5a5d350dbe15c71cb",
        "IPY_MODEL_e40fa4e51950467f9c6c38c8ef3c174b"
       ],
       "layout": "IPY_MODEL_d8ed886fd78c40b4a12ed5e3f5dd0db9"
      }
     },
     "e277506490cc4280ae7f11b383e9a367": {
      "model_module": "@jupyter-widgets/controls",
      "model_module_version": "1.5.0",
      "model_name": "VBoxModel",
      "state": {
       "_dom_classes": [],
       "_model_module": "@jupyter-widgets/controls",
       "_model_module_version": "1.5.0",
       "_model_name": "VBoxModel",
       "_view_count": null,
       "_view_module": "@jupyter-widgets/controls",
       "_view_module_version": "1.5.0",
       "_view_name": "VBoxView",
       "box_style": "",
       "children": [
        "IPY_MODEL_2e001301a79442dd94e9320b060dad12",
        "IPY_MODEL_8ff93c98328549ffb8c6031c6143ead5"
       ],
       "layout": "IPY_MODEL_c2ab3ab7ad654656b09f376c3cb6811d"
      }
     },
     "e40fa4e51950467f9c6c38c8ef3c174b": {
      "model_module": "@jupyter-widgets/controls",
      "model_module_version": "1.5.0",
      "model_name": "FloatProgressModel",
      "state": {
       "_dom_classes": [],
       "_model_module": "@jupyter-widgets/controls",
       "_model_module_version": "1.5.0",
       "_model_name": "FloatProgressModel",
       "_view_count": null,
       "_view_module": "@jupyter-widgets/controls",
       "_view_module_version": "1.5.0",
       "_view_name": "ProgressView",
       "bar_style": "",
       "description": "",
       "description_tooltip": null,
       "layout": "IPY_MODEL_5e3b5a8e424744aaa363d97e5bc55792",
       "max": 1,
       "min": 0,
       "orientation": "horizontal",
       "style": "IPY_MODEL_accbbb05a55d4046a5769abad2dc28ef",
       "value": 0
      }
     },
     "e539f0f628ed4ec48099f3ec04ffb91e": {
      "model_module": "@jupyter-widgets/base",
      "model_module_version": "1.2.0",
      "model_name": "LayoutModel",
      "state": {
       "_model_module": "@jupyter-widgets/base",
       "_model_module_version": "1.2.0",
       "_model_name": "LayoutModel",
       "_view_count": null,
       "_view_module": "@jupyter-widgets/base",
       "_view_module_version": "1.2.0",
       "_view_name": "LayoutView",
       "align_content": null,
       "align_items": null,
       "align_self": null,
       "border": null,
       "bottom": null,
       "display": null,
       "flex": null,
       "flex_flow": null,
       "grid_area": null,
       "grid_auto_columns": null,
       "grid_auto_flow": null,
       "grid_auto_rows": null,
       "grid_column": null,
       "grid_gap": null,
       "grid_row": null,
       "grid_template_areas": null,
       "grid_template_columns": null,
       "grid_template_rows": null,
       "height": null,
       "justify_content": null,
       "justify_items": null,
       "left": null,
       "margin": null,
       "max_height": null,
       "max_width": null,
       "min_height": null,
       "min_width": null,
       "object_fit": null,
       "object_position": null,
       "order": null,
       "overflow": null,
       "overflow_x": null,
       "overflow_y": null,
       "padding": null,
       "right": null,
       "top": null,
       "visibility": null,
       "width": null
      }
     },
     "e591cf2b916749a7acec57a67b0ba8a0": {
      "model_module": "@jupyter-widgets/base",
      "model_module_version": "1.2.0",
      "model_name": "LayoutModel",
      "state": {
       "_model_module": "@jupyter-widgets/base",
       "_model_module_version": "1.2.0",
       "_model_name": "LayoutModel",
       "_view_count": null,
       "_view_module": "@jupyter-widgets/base",
       "_view_module_version": "1.2.0",
       "_view_name": "LayoutView",
       "align_content": null,
       "align_items": null,
       "align_self": null,
       "border": null,
       "bottom": null,
       "display": null,
       "flex": null,
       "flex_flow": null,
       "grid_area": null,
       "grid_auto_columns": null,
       "grid_auto_flow": null,
       "grid_auto_rows": null,
       "grid_column": null,
       "grid_gap": null,
       "grid_row": null,
       "grid_template_areas": null,
       "grid_template_columns": null,
       "grid_template_rows": null,
       "height": null,
       "justify_content": null,
       "justify_items": null,
       "left": null,
       "margin": null,
       "max_height": null,
       "max_width": null,
       "min_height": null,
       "min_width": null,
       "object_fit": null,
       "object_position": null,
       "order": null,
       "overflow": null,
       "overflow_x": null,
       "overflow_y": null,
       "padding": null,
       "right": null,
       "top": null,
       "visibility": null,
       "width": null
      }
     },
     "e6b8c6a5811146c88f25dc208680628e": {
      "model_module": "@jupyter-widgets/controls",
      "model_module_version": "1.5.0",
      "model_name": "VBoxModel",
      "state": {
       "_dom_classes": [],
       "_model_module": "@jupyter-widgets/controls",
       "_model_module_version": "1.5.0",
       "_model_name": "VBoxModel",
       "_view_count": null,
       "_view_module": "@jupyter-widgets/controls",
       "_view_module_version": "1.5.0",
       "_view_name": "VBoxView",
       "box_style": "",
       "children": [
        "IPY_MODEL_790e7527d89849faba9271a4823ee207",
        "IPY_MODEL_e92a9153e9974f63ab4f58276e203e1e"
       ],
       "layout": "IPY_MODEL_f43220c2989246e5bfe10cec854c802f"
      }
     },
     "e6eed124858145bd88afd83323a5c24b": {
      "model_module": "@jupyter-widgets/base",
      "model_module_version": "1.2.0",
      "model_name": "LayoutModel",
      "state": {
       "_model_module": "@jupyter-widgets/base",
       "_model_module_version": "1.2.0",
       "_model_name": "LayoutModel",
       "_view_count": null,
       "_view_module": "@jupyter-widgets/base",
       "_view_module_version": "1.2.0",
       "_view_name": "LayoutView",
       "align_content": null,
       "align_items": null,
       "align_self": null,
       "border": null,
       "bottom": null,
       "display": null,
       "flex": null,
       "flex_flow": null,
       "grid_area": null,
       "grid_auto_columns": null,
       "grid_auto_flow": null,
       "grid_auto_rows": null,
       "grid_column": null,
       "grid_gap": null,
       "grid_row": null,
       "grid_template_areas": null,
       "grid_template_columns": null,
       "grid_template_rows": null,
       "height": null,
       "justify_content": null,
       "justify_items": null,
       "left": null,
       "margin": null,
       "max_height": null,
       "max_width": null,
       "min_height": null,
       "min_width": null,
       "object_fit": null,
       "object_position": null,
       "order": null,
       "overflow": null,
       "overflow_x": null,
       "overflow_y": null,
       "padding": null,
       "right": null,
       "top": null,
       "visibility": null,
       "width": null
      }
     },
     "e8c30d83c26b478fa038443704458bde": {
      "model_module": "@jupyter-widgets/base",
      "model_module_version": "1.2.0",
      "model_name": "LayoutModel",
      "state": {
       "_model_module": "@jupyter-widgets/base",
       "_model_module_version": "1.2.0",
       "_model_name": "LayoutModel",
       "_view_count": null,
       "_view_module": "@jupyter-widgets/base",
       "_view_module_version": "1.2.0",
       "_view_name": "LayoutView",
       "align_content": null,
       "align_items": null,
       "align_self": null,
       "border": null,
       "bottom": null,
       "display": null,
       "flex": null,
       "flex_flow": null,
       "grid_area": null,
       "grid_auto_columns": null,
       "grid_auto_flow": null,
       "grid_auto_rows": null,
       "grid_column": null,
       "grid_gap": null,
       "grid_row": null,
       "grid_template_areas": null,
       "grid_template_columns": null,
       "grid_template_rows": null,
       "height": null,
       "justify_content": null,
       "justify_items": null,
       "left": null,
       "margin": null,
       "max_height": null,
       "max_width": null,
       "min_height": null,
       "min_width": null,
       "object_fit": null,
       "object_position": null,
       "order": null,
       "overflow": null,
       "overflow_x": null,
       "overflow_y": null,
       "padding": null,
       "right": null,
       "top": null,
       "visibility": null,
       "width": null
      }
     },
     "e92a9153e9974f63ab4f58276e203e1e": {
      "model_module": "@jupyter-widgets/controls",
      "model_module_version": "1.5.0",
      "model_name": "FloatProgressModel",
      "state": {
       "_dom_classes": [],
       "_model_module": "@jupyter-widgets/controls",
       "_model_module_version": "1.5.0",
       "_model_name": "FloatProgressModel",
       "_view_count": null,
       "_view_module": "@jupyter-widgets/controls",
       "_view_module_version": "1.5.0",
       "_view_name": "ProgressView",
       "bar_style": "",
       "description": "",
       "description_tooltip": null,
       "layout": "IPY_MODEL_1fa0464f8cd34c6f8766976bdd18d1ee",
       "max": 1,
       "min": 0,
       "orientation": "horizontal",
       "style": "IPY_MODEL_57653961d8af4cbabee2e9c4353644d0",
       "value": 1
      }
     },
     "eaec3371a8f045668e4996a68b710b2e": {
      "model_module": "@jupyter-widgets/controls",
      "model_module_version": "1.5.0",
      "model_name": "ProgressStyleModel",
      "state": {
       "_model_module": "@jupyter-widgets/controls",
       "_model_module_version": "1.5.0",
       "_model_name": "ProgressStyleModel",
       "_view_count": null,
       "_view_module": "@jupyter-widgets/base",
       "_view_module_version": "1.2.0",
       "_view_name": "StyleView",
       "bar_color": null,
       "description_width": ""
      }
     },
     "ebaa9235ee134b53b8ec70e1f3d7582f": {
      "model_module": "@jupyter-widgets/base",
      "model_module_version": "1.2.0",
      "model_name": "LayoutModel",
      "state": {
       "_model_module": "@jupyter-widgets/base",
       "_model_module_version": "1.2.0",
       "_model_name": "LayoutModel",
       "_view_count": null,
       "_view_module": "@jupyter-widgets/base",
       "_view_module_version": "1.2.0",
       "_view_name": "LayoutView",
       "align_content": null,
       "align_items": null,
       "align_self": null,
       "border": null,
       "bottom": null,
       "display": null,
       "flex": null,
       "flex_flow": null,
       "grid_area": null,
       "grid_auto_columns": null,
       "grid_auto_flow": null,
       "grid_auto_rows": null,
       "grid_column": null,
       "grid_gap": null,
       "grid_row": null,
       "grid_template_areas": null,
       "grid_template_columns": null,
       "grid_template_rows": null,
       "height": null,
       "justify_content": null,
       "justify_items": null,
       "left": null,
       "margin": null,
       "max_height": null,
       "max_width": null,
       "min_height": null,
       "min_width": null,
       "object_fit": null,
       "object_position": null,
       "order": null,
       "overflow": null,
       "overflow_x": null,
       "overflow_y": null,
       "padding": null,
       "right": null,
       "top": null,
       "visibility": null,
       "width": null
      }
     },
     "ed6aea5ad1be48e3b3b922fc8c2ffdfa": {
      "model_module": "@jupyter-widgets/base",
      "model_module_version": "1.2.0",
      "model_name": "LayoutModel",
      "state": {
       "_model_module": "@jupyter-widgets/base",
       "_model_module_version": "1.2.0",
       "_model_name": "LayoutModel",
       "_view_count": null,
       "_view_module": "@jupyter-widgets/base",
       "_view_module_version": "1.2.0",
       "_view_name": "LayoutView",
       "align_content": null,
       "align_items": null,
       "align_self": null,
       "border": null,
       "bottom": null,
       "display": null,
       "flex": null,
       "flex_flow": null,
       "grid_area": null,
       "grid_auto_columns": null,
       "grid_auto_flow": null,
       "grid_auto_rows": null,
       "grid_column": null,
       "grid_gap": null,
       "grid_row": null,
       "grid_template_areas": null,
       "grid_template_columns": null,
       "grid_template_rows": null,
       "height": null,
       "justify_content": null,
       "justify_items": null,
       "left": null,
       "margin": null,
       "max_height": null,
       "max_width": null,
       "min_height": null,
       "min_width": null,
       "object_fit": null,
       "object_position": null,
       "order": null,
       "overflow": null,
       "overflow_x": null,
       "overflow_y": null,
       "padding": null,
       "right": null,
       "top": null,
       "visibility": null,
       "width": null
      }
     },
     "ed912e48e4cf4230a52ac7ef118ff72f": {
      "model_module": "@jupyter-widgets/base",
      "model_module_version": "1.2.0",
      "model_name": "LayoutModel",
      "state": {
       "_model_module": "@jupyter-widgets/base",
       "_model_module_version": "1.2.0",
       "_model_name": "LayoutModel",
       "_view_count": null,
       "_view_module": "@jupyter-widgets/base",
       "_view_module_version": "1.2.0",
       "_view_name": "LayoutView",
       "align_content": null,
       "align_items": null,
       "align_self": null,
       "border": null,
       "bottom": null,
       "display": null,
       "flex": null,
       "flex_flow": null,
       "grid_area": null,
       "grid_auto_columns": null,
       "grid_auto_flow": null,
       "grid_auto_rows": null,
       "grid_column": null,
       "grid_gap": null,
       "grid_row": null,
       "grid_template_areas": null,
       "grid_template_columns": null,
       "grid_template_rows": null,
       "height": null,
       "justify_content": null,
       "justify_items": null,
       "left": null,
       "margin": null,
       "max_height": null,
       "max_width": null,
       "min_height": null,
       "min_width": null,
       "object_fit": null,
       "object_position": null,
       "order": null,
       "overflow": null,
       "overflow_x": null,
       "overflow_y": null,
       "padding": null,
       "right": null,
       "top": null,
       "visibility": null,
       "width": null
      }
     },
     "f1c42d76f6ff4888a46d97e9dc710d9d": {
      "model_module": "@jupyter-widgets/base",
      "model_module_version": "1.2.0",
      "model_name": "LayoutModel",
      "state": {
       "_model_module": "@jupyter-widgets/base",
       "_model_module_version": "1.2.0",
       "_model_name": "LayoutModel",
       "_view_count": null,
       "_view_module": "@jupyter-widgets/base",
       "_view_module_version": "1.2.0",
       "_view_name": "LayoutView",
       "align_content": null,
       "align_items": null,
       "align_self": null,
       "border": null,
       "bottom": null,
       "display": null,
       "flex": null,
       "flex_flow": null,
       "grid_area": null,
       "grid_auto_columns": null,
       "grid_auto_flow": null,
       "grid_auto_rows": null,
       "grid_column": null,
       "grid_gap": null,
       "grid_row": null,
       "grid_template_areas": null,
       "grid_template_columns": null,
       "grid_template_rows": null,
       "height": null,
       "justify_content": null,
       "justify_items": null,
       "left": null,
       "margin": null,
       "max_height": null,
       "max_width": null,
       "min_height": null,
       "min_width": null,
       "object_fit": null,
       "object_position": null,
       "order": null,
       "overflow": null,
       "overflow_x": null,
       "overflow_y": null,
       "padding": null,
       "right": null,
       "top": null,
       "visibility": null,
       "width": null
      }
     },
     "f3360b7a7503477494c2e6adcf0a835f": {
      "model_module": "@jupyter-widgets/controls",
      "model_module_version": "1.5.0",
      "model_name": "DescriptionStyleModel",
      "state": {
       "_model_module": "@jupyter-widgets/controls",
       "_model_module_version": "1.5.0",
       "_model_name": "DescriptionStyleModel",
       "_view_count": null,
       "_view_module": "@jupyter-widgets/base",
       "_view_module_version": "1.2.0",
       "_view_name": "StyleView",
       "description_width": ""
      }
     },
     "f43220c2989246e5bfe10cec854c802f": {
      "model_module": "@jupyter-widgets/base",
      "model_module_version": "1.2.0",
      "model_name": "LayoutModel",
      "state": {
       "_model_module": "@jupyter-widgets/base",
       "_model_module_version": "1.2.0",
       "_model_name": "LayoutModel",
       "_view_count": null,
       "_view_module": "@jupyter-widgets/base",
       "_view_module_version": "1.2.0",
       "_view_name": "LayoutView",
       "align_content": null,
       "align_items": null,
       "align_self": null,
       "border": null,
       "bottom": null,
       "display": null,
       "flex": null,
       "flex_flow": null,
       "grid_area": null,
       "grid_auto_columns": null,
       "grid_auto_flow": null,
       "grid_auto_rows": null,
       "grid_column": null,
       "grid_gap": null,
       "grid_row": null,
       "grid_template_areas": null,
       "grid_template_columns": null,
       "grid_template_rows": null,
       "height": null,
       "justify_content": null,
       "justify_items": null,
       "left": null,
       "margin": null,
       "max_height": null,
       "max_width": null,
       "min_height": null,
       "min_width": null,
       "object_fit": null,
       "object_position": null,
       "order": null,
       "overflow": null,
       "overflow_x": null,
       "overflow_y": null,
       "padding": null,
       "right": null,
       "top": null,
       "visibility": null,
       "width": null
      }
     },
     "f748c31aa75d40efb107bc1d31bf1957": {
      "model_module": "@jupyter-widgets/controls",
      "model_module_version": "1.5.0",
      "model_name": "VBoxModel",
      "state": {
       "_dom_classes": [],
       "_model_module": "@jupyter-widgets/controls",
       "_model_module_version": "1.5.0",
       "_model_name": "VBoxModel",
       "_view_count": null,
       "_view_module": "@jupyter-widgets/controls",
       "_view_module_version": "1.5.0",
       "_view_name": "VBoxView",
       "box_style": "",
       "children": [
        "IPY_MODEL_c08e8f4f8874430e9b03770687df2dc5",
        "IPY_MODEL_ce82bef057f84fc3b4effd431559b3a1"
       ],
       "layout": "IPY_MODEL_b6bdb3dbce7843d2a80e2150fde6fd3a"
      }
     },
     "f77937de81db4a25a7b0b0893a62fb3c": {
      "model_module": "@jupyter-widgets/controls",
      "model_module_version": "1.5.0",
      "model_name": "LabelModel",
      "state": {
       "_dom_classes": [],
       "_model_module": "@jupyter-widgets/controls",
       "_model_module_version": "1.5.0",
       "_model_name": "LabelModel",
       "_view_count": null,
       "_view_module": "@jupyter-widgets/controls",
       "_view_module_version": "1.5.0",
       "_view_name": "LabelView",
       "description": "",
       "description_tooltip": null,
       "layout": "IPY_MODEL_86a41628fe1d45e685aa7d6600ef27a9",
       "placeholder": "​",
       "style": "IPY_MODEL_d501754236b942cd9731ea6746f82c4c",
       "value": "44.259 MB of 44.259 MB uploaded (0.157 MB deduped)\r"
      }
     },
     "f85976ee51a1499bade24d3ced61a7df": {
      "model_module": "@jupyter-widgets/controls",
      "model_module_version": "1.5.0",
      "model_name": "FloatProgressModel",
      "state": {
       "_dom_classes": [],
       "_model_module": "@jupyter-widgets/controls",
       "_model_module_version": "1.5.0",
       "_model_name": "FloatProgressModel",
       "_view_count": null,
       "_view_module": "@jupyter-widgets/controls",
       "_view_module_version": "1.5.0",
       "_view_name": "ProgressView",
       "bar_style": "",
       "description": "",
       "description_tooltip": null,
       "layout": "IPY_MODEL_a871f8d29f474a56b1f13f1109af6c93",
       "max": 1,
       "min": 0,
       "orientation": "horizontal",
       "style": "IPY_MODEL_1d61266a09a6456cbc0a56b7e9970485",
       "value": 0
      }
     },
     "f9ee80325be740af866873c27d2e5a7f": {
      "model_module": "@jupyter-widgets/controls",
      "model_module_version": "1.5.0",
      "model_name": "ProgressStyleModel",
      "state": {
       "_model_module": "@jupyter-widgets/controls",
       "_model_module_version": "1.5.0",
       "_model_name": "ProgressStyleModel",
       "_view_count": null,
       "_view_module": "@jupyter-widgets/base",
       "_view_module_version": "1.2.0",
       "_view_name": "StyleView",
       "bar_color": null,
       "description_width": ""
      }
     },
     "fbeeee08516249439c779ebcc3dc08b1": {
      "model_module": "@jupyter-widgets/controls",
      "model_module_version": "1.5.0",
      "model_name": "LabelModel",
      "state": {
       "_dom_classes": [],
       "_model_module": "@jupyter-widgets/controls",
       "_model_module_version": "1.5.0",
       "_model_name": "LabelModel",
       "_view_count": null,
       "_view_module": "@jupyter-widgets/controls",
       "_view_module_version": "1.5.0",
       "_view_name": "LabelView",
       "description": "",
       "description_tooltip": null,
       "layout": "IPY_MODEL_562c05f4302f4f8aa0aeff615f74b01a",
       "placeholder": "​",
       "style": "IPY_MODEL_9ef469c3f92c4a388dd957452eab4ef5",
       "value": ""
      }
     },
     "fe4f25c9933d4db3a589a74d5e6f61cf": {
      "model_module": "@jupyter-widgets/base",
      "model_module_version": "1.2.0",
      "model_name": "LayoutModel",
      "state": {
       "_model_module": "@jupyter-widgets/base",
       "_model_module_version": "1.2.0",
       "_model_name": "LayoutModel",
       "_view_count": null,
       "_view_module": "@jupyter-widgets/base",
       "_view_module_version": "1.2.0",
       "_view_name": "LayoutView",
       "align_content": null,
       "align_items": null,
       "align_self": null,
       "border": null,
       "bottom": null,
       "display": null,
       "flex": null,
       "flex_flow": null,
       "grid_area": null,
       "grid_auto_columns": null,
       "grid_auto_flow": null,
       "grid_auto_rows": null,
       "grid_column": null,
       "grid_gap": null,
       "grid_row": null,
       "grid_template_areas": null,
       "grid_template_columns": null,
       "grid_template_rows": null,
       "height": null,
       "justify_content": null,
       "justify_items": null,
       "left": null,
       "margin": null,
       "max_height": null,
       "max_width": null,
       "min_height": null,
       "min_width": null,
       "object_fit": null,
       "object_position": null,
       "order": null,
       "overflow": null,
       "overflow_x": null,
       "overflow_y": null,
       "padding": null,
       "right": null,
       "top": null,
       "visibility": null,
       "width": null
      }
     }
    },
    "version_major": 2,
    "version_minor": 0
   }
  }
 },
 "nbformat": 4,
 "nbformat_minor": 5
}
